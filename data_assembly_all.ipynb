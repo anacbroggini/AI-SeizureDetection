{
 "cells": [
  {
   "cell_type": "code",
   "execution_count": 8,
   "metadata": {},
   "outputs": [],
   "source": [
    "import mne \n",
    "import os\n",
    "import mne \n",
    "from mne.io import  read_raw_edf\n",
    "import pandas as pd\n",
    "import numpy as np\n"
   ]
  },
  {
   "cell_type": "code",
   "execution_count": 9,
   "metadata": {},
   "outputs": [
    {
     "name": "stdout",
     "output_type": "stream",
     "text": [
      "Extracting EDF parameters from /home/weasel/reps/ai-seizure-detectives/data/chb01/chb01_01.edf...\n",
      "EDF file detected\n",
      "Setting channel info structure...\n",
      "Creating raw.info structure...\n",
      "Reading 0 ... 921599  =      0.000 ...  3599.996 secs...\n",
      "Extracting EDF parameters from /home/weasel/reps/ai-seizure-detectives/data/chb01/chb01_01.edf...\n",
      "EDF file detected\n",
      "Setting channel info structure...\n",
      "Creating raw.info structure...\n",
      "Reading 0 ... 921599  =      0.000 ...  3599.996 secs...\n"
     ]
    },
    {
     "name": "stderr",
     "output_type": "stream",
     "text": [
      "/tmp/ipykernel_1380564/109548928.py:21: RuntimeWarning: Channel names are not unique, found duplicates for: {'T8-P8'}. Applying running numbers for duplicates.\n",
      "  first_raw = mne.io.read_raw_edf(first_file_path, preload=True)\n",
      "/tmp/ipykernel_1380564/109548928.py:26: RuntimeWarning: Channel names are not unique, found duplicates for: {'T8-P8'}. Applying running numbers for duplicates.\n",
      "  raw = mne.io.read_raw_edf(file_path, preload=True)\n"
     ]
    },
    {
     "name": "stdout",
     "output_type": "stream",
     "text": [
      "Extracting EDF parameters from /home/weasel/reps/ai-seizure-detectives/data/chb01/chb01_02.edf...\n",
      "EDF file detected\n",
      "Setting channel info structure...\n",
      "Creating raw.info structure...\n",
      "Reading 0 ... 921599  =      0.000 ...  3599.996 secs...\n"
     ]
    },
    {
     "name": "stderr",
     "output_type": "stream",
     "text": [
      "/tmp/ipykernel_1380564/109548928.py:26: RuntimeWarning: Channel names are not unique, found duplicates for: {'T8-P8'}. Applying running numbers for duplicates.\n",
      "  raw = mne.io.read_raw_edf(file_path, preload=True)\n"
     ]
    },
    {
     "name": "stdout",
     "output_type": "stream",
     "text": [
      "Extracting EDF parameters from /home/weasel/reps/ai-seizure-detectives/data/chb01/chb01_03.edf...\n",
      "EDF file detected\n",
      "Setting channel info structure...\n",
      "Creating raw.info structure...\n",
      "Reading 0 ... 921599  =      0.000 ...  3599.996 secs...\n"
     ]
    },
    {
     "name": "stderr",
     "output_type": "stream",
     "text": [
      "/tmp/ipykernel_1380564/109548928.py:26: RuntimeWarning: Channel names are not unique, found duplicates for: {'T8-P8'}. Applying running numbers for duplicates.\n",
      "  raw = mne.io.read_raw_edf(file_path, preload=True)\n"
     ]
    },
    {
     "name": "stdout",
     "output_type": "stream",
     "text": [
      "Extracting EDF parameters from /home/weasel/reps/ai-seizure-detectives/data/chb01/chb01_04.edf...\n",
      "EDF file detected\n",
      "Setting channel info structure...\n",
      "Creating raw.info structure...\n",
      "Reading 0 ... 921599  =      0.000 ...  3599.996 secs...\n"
     ]
    },
    {
     "name": "stderr",
     "output_type": "stream",
     "text": [
      "/tmp/ipykernel_1380564/109548928.py:26: RuntimeWarning: Channel names are not unique, found duplicates for: {'T8-P8'}. Applying running numbers for duplicates.\n",
      "  raw = mne.io.read_raw_edf(file_path, preload=True)\n"
     ]
    },
    {
     "name": "stdout",
     "output_type": "stream",
     "text": [
      "Extracting EDF parameters from /home/weasel/reps/ai-seizure-detectives/data/chb01/chb01_05.edf...\n",
      "EDF file detected\n",
      "Setting channel info structure...\n",
      "Creating raw.info structure...\n",
      "Reading 0 ... 921599  =      0.000 ...  3599.996 secs...\n"
     ]
    },
    {
     "name": "stderr",
     "output_type": "stream",
     "text": [
      "/tmp/ipykernel_1380564/109548928.py:26: RuntimeWarning: Channel names are not unique, found duplicates for: {'T8-P8'}. Applying running numbers for duplicates.\n",
      "  raw = mne.io.read_raw_edf(file_path, preload=True)\n"
     ]
    },
    {
     "name": "stdout",
     "output_type": "stream",
     "text": [
      "Extracting EDF parameters from /home/weasel/reps/ai-seizure-detectives/data/chb01/chb01_06.edf...\n",
      "EDF file detected\n",
      "Setting channel info structure...\n",
      "Creating raw.info structure...\n",
      "Reading 0 ... 921599  =      0.000 ...  3599.996 secs...\n"
     ]
    },
    {
     "name": "stderr",
     "output_type": "stream",
     "text": [
      "/tmp/ipykernel_1380564/109548928.py:26: RuntimeWarning: Channel names are not unique, found duplicates for: {'T8-P8'}. Applying running numbers for duplicates.\n",
      "  raw = mne.io.read_raw_edf(file_path, preload=True)\n"
     ]
    },
    {
     "name": "stdout",
     "output_type": "stream",
     "text": [
      "Extracting EDF parameters from /home/weasel/reps/ai-seizure-detectives/data/chb01/chb01_07.edf...\n",
      "EDF file detected\n",
      "Setting channel info structure...\n",
      "Creating raw.info structure...\n",
      "Reading 0 ... 921599  =      0.000 ...  3599.996 secs...\n"
     ]
    },
    {
     "name": "stderr",
     "output_type": "stream",
     "text": [
      "/tmp/ipykernel_1380564/109548928.py:26: RuntimeWarning: Channel names are not unique, found duplicates for: {'T8-P8'}. Applying running numbers for duplicates.\n",
      "  raw = mne.io.read_raw_edf(file_path, preload=True)\n"
     ]
    },
    {
     "name": "stdout",
     "output_type": "stream",
     "text": [
      "Extracting EDF parameters from /home/weasel/reps/ai-seizure-detectives/data/chb01/chb01_08.edf...\n",
      "EDF file detected\n",
      "Setting channel info structure...\n",
      "Creating raw.info structure...\n",
      "Reading 0 ... 921599  =      0.000 ...  3599.996 secs...\n"
     ]
    },
    {
     "name": "stderr",
     "output_type": "stream",
     "text": [
      "/tmp/ipykernel_1380564/109548928.py:26: RuntimeWarning: Channel names are not unique, found duplicates for: {'T8-P8'}. Applying running numbers for duplicates.\n",
      "  raw = mne.io.read_raw_edf(file_path, preload=True)\n"
     ]
    },
    {
     "name": "stdout",
     "output_type": "stream",
     "text": [
      "Extracting EDF parameters from /home/weasel/reps/ai-seizure-detectives/data/chb01/chb01_09.edf...\n",
      "EDF file detected\n",
      "Setting channel info structure...\n",
      "Creating raw.info structure...\n",
      "Reading 0 ... 921599  =      0.000 ...  3599.996 secs...\n"
     ]
    },
    {
     "name": "stderr",
     "output_type": "stream",
     "text": [
      "/tmp/ipykernel_1380564/109548928.py:26: RuntimeWarning: Channel names are not unique, found duplicates for: {'T8-P8'}. Applying running numbers for duplicates.\n",
      "  raw = mne.io.read_raw_edf(file_path, preload=True)\n"
     ]
    },
    {
     "name": "stdout",
     "output_type": "stream",
     "text": [
      "Extracting EDF parameters from /home/weasel/reps/ai-seizure-detectives/data/chb01/chb01_10.edf...\n",
      "EDF file detected\n",
      "Setting channel info structure...\n",
      "Creating raw.info structure...\n",
      "Reading 0 ... 921599  =      0.000 ...  3599.996 secs...\n"
     ]
    },
    {
     "name": "stderr",
     "output_type": "stream",
     "text": [
      "/tmp/ipykernel_1380564/109548928.py:26: RuntimeWarning: Channel names are not unique, found duplicates for: {'T8-P8'}. Applying running numbers for duplicates.\n",
      "  raw = mne.io.read_raw_edf(file_path, preload=True)\n"
     ]
    },
    {
     "name": "stdout",
     "output_type": "stream",
     "text": [
      "Extracting EDF parameters from /home/weasel/reps/ai-seizure-detectives/data/chb01/chb01_11.edf...\n",
      "EDF file detected\n",
      "Setting channel info structure...\n",
      "Creating raw.info structure...\n",
      "Reading 0 ... 921599  =      0.000 ...  3599.996 secs...\n"
     ]
    },
    {
     "name": "stderr",
     "output_type": "stream",
     "text": [
      "/tmp/ipykernel_1380564/109548928.py:26: RuntimeWarning: Channel names are not unique, found duplicates for: {'T8-P8'}. Applying running numbers for duplicates.\n",
      "  raw = mne.io.read_raw_edf(file_path, preload=True)\n"
     ]
    },
    {
     "name": "stdout",
     "output_type": "stream",
     "text": [
      "Extracting EDF parameters from /home/weasel/reps/ai-seizure-detectives/data/chb01/chb01_12.edf...\n",
      "EDF file detected\n",
      "Setting channel info structure...\n",
      "Creating raw.info structure...\n",
      "Reading 0 ... 921599  =      0.000 ...  3599.996 secs...\n"
     ]
    },
    {
     "name": "stderr",
     "output_type": "stream",
     "text": [
      "/tmp/ipykernel_1380564/109548928.py:26: RuntimeWarning: Channel names are not unique, found duplicates for: {'T8-P8'}. Applying running numbers for duplicates.\n",
      "  raw = mne.io.read_raw_edf(file_path, preload=True)\n"
     ]
    },
    {
     "name": "stdout",
     "output_type": "stream",
     "text": [
      "Extracting EDF parameters from /home/weasel/reps/ai-seizure-detectives/data/chb01/chb01_13.edf...\n",
      "EDF file detected\n",
      "Setting channel info structure...\n",
      "Creating raw.info structure...\n",
      "Reading 0 ... 921599  =      0.000 ...  3599.996 secs...\n"
     ]
    },
    {
     "name": "stderr",
     "output_type": "stream",
     "text": [
      "/tmp/ipykernel_1380564/109548928.py:26: RuntimeWarning: Channel names are not unique, found duplicates for: {'T8-P8'}. Applying running numbers for duplicates.\n",
      "  raw = mne.io.read_raw_edf(file_path, preload=True)\n"
     ]
    },
    {
     "name": "stdout",
     "output_type": "stream",
     "text": [
      "Extracting EDF parameters from /home/weasel/reps/ai-seizure-detectives/data/chb01/chb01_14.edf...\n",
      "EDF file detected\n",
      "Setting channel info structure...\n",
      "Creating raw.info structure...\n",
      "Reading 0 ... 921599  =      0.000 ...  3599.996 secs...\n"
     ]
    },
    {
     "name": "stderr",
     "output_type": "stream",
     "text": [
      "/tmp/ipykernel_1380564/109548928.py:26: RuntimeWarning: Channel names are not unique, found duplicates for: {'T8-P8'}. Applying running numbers for duplicates.\n",
      "  raw = mne.io.read_raw_edf(file_path, preload=True)\n"
     ]
    },
    {
     "name": "stdout",
     "output_type": "stream",
     "text": [
      "Extracting EDF parameters from /home/weasel/reps/ai-seizure-detectives/data/chb01/chb01_15.edf...\n",
      "EDF file detected\n",
      "Setting channel info structure...\n",
      "Creating raw.info structure...\n",
      "Reading 0 ... 921599  =      0.000 ...  3599.996 secs...\n"
     ]
    },
    {
     "name": "stderr",
     "output_type": "stream",
     "text": [
      "/tmp/ipykernel_1380564/109548928.py:26: RuntimeWarning: Channel names are not unique, found duplicates for: {'T8-P8'}. Applying running numbers for duplicates.\n",
      "  raw = mne.io.read_raw_edf(file_path, preload=True)\n"
     ]
    },
    {
     "name": "stdout",
     "output_type": "stream",
     "text": [
      "Extracting EDF parameters from /home/weasel/reps/ai-seizure-detectives/data/chb01/chb01_16.edf...\n",
      "EDF file detected\n",
      "Setting channel info structure...\n",
      "Creating raw.info structure...\n",
      "Reading 0 ... 921599  =      0.000 ...  3599.996 secs...\n"
     ]
    },
    {
     "name": "stderr",
     "output_type": "stream",
     "text": [
      "/tmp/ipykernel_1380564/109548928.py:26: RuntimeWarning: Channel names are not unique, found duplicates for: {'T8-P8'}. Applying running numbers for duplicates.\n",
      "  raw = mne.io.read_raw_edf(file_path, preload=True)\n"
     ]
    },
    {
     "name": "stdout",
     "output_type": "stream",
     "text": [
      "Extracting EDF parameters from /home/weasel/reps/ai-seizure-detectives/data/chb01/chb01_17.edf...\n",
      "EDF file detected\n",
      "Setting channel info structure...\n",
      "Creating raw.info structure...\n",
      "Reading 0 ... 921599  =      0.000 ...  3599.996 secs...\n"
     ]
    },
    {
     "name": "stderr",
     "output_type": "stream",
     "text": [
      "/tmp/ipykernel_1380564/109548928.py:26: RuntimeWarning: Channel names are not unique, found duplicates for: {'T8-P8'}. Applying running numbers for duplicates.\n",
      "  raw = mne.io.read_raw_edf(file_path, preload=True)\n"
     ]
    },
    {
     "name": "stdout",
     "output_type": "stream",
     "text": [
      "Extracting EDF parameters from /home/weasel/reps/ai-seizure-detectives/data/chb01/chb01_18.edf...\n",
      "EDF file detected\n",
      "Setting channel info structure...\n",
      "Creating raw.info structure...\n",
      "Reading 0 ... 921599  =      0.000 ...  3599.996 secs...\n"
     ]
    },
    {
     "name": "stderr",
     "output_type": "stream",
     "text": [
      "/tmp/ipykernel_1380564/109548928.py:26: RuntimeWarning: Channel names are not unique, found duplicates for: {'T8-P8'}. Applying running numbers for duplicates.\n",
      "  raw = mne.io.read_raw_edf(file_path, preload=True)\n"
     ]
    },
    {
     "name": "stdout",
     "output_type": "stream",
     "text": [
      "Extracting EDF parameters from /home/weasel/reps/ai-seizure-detectives/data/chb01/chb01_19.edf...\n",
      "EDF file detected\n",
      "Setting channel info structure...\n",
      "Creating raw.info structure...\n",
      "Reading 0 ... 921599  =      0.000 ...  3599.996 secs...\n"
     ]
    },
    {
     "name": "stderr",
     "output_type": "stream",
     "text": [
      "/tmp/ipykernel_1380564/109548928.py:26: RuntimeWarning: Channel names are not unique, found duplicates for: {'T8-P8'}. Applying running numbers for duplicates.\n",
      "  raw = mne.io.read_raw_edf(file_path, preload=True)\n"
     ]
    },
    {
     "name": "stdout",
     "output_type": "stream",
     "text": [
      "Extracting EDF parameters from /home/weasel/reps/ai-seizure-detectives/data/chb01/chb01_20.edf...\n",
      "EDF file detected\n",
      "Setting channel info structure...\n",
      "Creating raw.info structure...\n",
      "Reading 0 ... 681727  =      0.000 ...  2662.996 secs...\n"
     ]
    },
    {
     "name": "stderr",
     "output_type": "stream",
     "text": [
      "/tmp/ipykernel_1380564/109548928.py:26: RuntimeWarning: Channel names are not unique, found duplicates for: {'T8-P8'}. Applying running numbers for duplicates.\n",
      "  raw = mne.io.read_raw_edf(file_path, preload=True)\n"
     ]
    },
    {
     "name": "stdout",
     "output_type": "stream",
     "text": [
      "Extracting EDF parameters from /home/weasel/reps/ai-seizure-detectives/data/chb01/chb01_21.edf...\n",
      "EDF file detected\n",
      "Setting channel info structure...\n",
      "Creating raw.info structure...\n",
      "Reading 0 ... 921599  =      0.000 ...  3599.996 secs...\n"
     ]
    },
    {
     "name": "stderr",
     "output_type": "stream",
     "text": [
      "/tmp/ipykernel_1380564/109548928.py:26: RuntimeWarning: Channel names are not unique, found duplicates for: {'T8-P8'}. Applying running numbers for duplicates.\n",
      "  raw = mne.io.read_raw_edf(file_path, preload=True)\n"
     ]
    },
    {
     "name": "stdout",
     "output_type": "stream",
     "text": [
      "Extracting EDF parameters from /home/weasel/reps/ai-seizure-detectives/data/chb01/chb01_22.edf...\n",
      "EDF file detected\n",
      "Setting channel info structure...\n",
      "Creating raw.info structure...\n",
      "Reading 0 ... 921599  =      0.000 ...  3599.996 secs...\n"
     ]
    },
    {
     "name": "stderr",
     "output_type": "stream",
     "text": [
      "/tmp/ipykernel_1380564/109548928.py:26: RuntimeWarning: Channel names are not unique, found duplicates for: {'T8-P8'}. Applying running numbers for duplicates.\n",
      "  raw = mne.io.read_raw_edf(file_path, preload=True)\n"
     ]
    },
    {
     "name": "stdout",
     "output_type": "stream",
     "text": [
      "Extracting EDF parameters from /home/weasel/reps/ai-seizure-detectives/data/chb01/chb01_23.edf...\n",
      "EDF file detected\n",
      "Setting channel info structure...\n",
      "Creating raw.info structure...\n",
      "Reading 0 ... 921599  =      0.000 ...  3599.996 secs...\n"
     ]
    },
    {
     "name": "stderr",
     "output_type": "stream",
     "text": [
      "/tmp/ipykernel_1380564/109548928.py:26: RuntimeWarning: Channel names are not unique, found duplicates for: {'T8-P8'}. Applying running numbers for duplicates.\n",
      "  raw = mne.io.read_raw_edf(file_path, preload=True)\n"
     ]
    },
    {
     "name": "stdout",
     "output_type": "stream",
     "text": [
      "Extracting EDF parameters from /home/weasel/reps/ai-seizure-detectives/data/chb01/chb01_24.edf...\n",
      "EDF file detected\n",
      "Setting channel info structure...\n",
      "Creating raw.info structure...\n",
      "Reading 0 ... 921599  =      0.000 ...  3599.996 secs...\n"
     ]
    },
    {
     "name": "stderr",
     "output_type": "stream",
     "text": [
      "/tmp/ipykernel_1380564/109548928.py:26: RuntimeWarning: Channel names are not unique, found duplicates for: {'T8-P8'}. Applying running numbers for duplicates.\n",
      "  raw = mne.io.read_raw_edf(file_path, preload=True)\n"
     ]
    },
    {
     "name": "stdout",
     "output_type": "stream",
     "text": [
      "Extracting EDF parameters from /home/weasel/reps/ai-seizure-detectives/data/chb01/chb01_25.edf...\n",
      "EDF file detected\n",
      "Setting channel info structure...\n",
      "Creating raw.info structure...\n",
      "Reading 0 ... 921599  =      0.000 ...  3599.996 secs...\n"
     ]
    },
    {
     "name": "stderr",
     "output_type": "stream",
     "text": [
      "/tmp/ipykernel_1380564/109548928.py:26: RuntimeWarning: Channel names are not unique, found duplicates for: {'T8-P8'}. Applying running numbers for duplicates.\n",
      "  raw = mne.io.read_raw_edf(file_path, preload=True)\n"
     ]
    },
    {
     "name": "stdout",
     "output_type": "stream",
     "text": [
      "Extracting EDF parameters from /home/weasel/reps/ai-seizure-detectives/data/chb01/chb01_26.edf...\n",
      "EDF file detected\n",
      "Setting channel info structure...\n",
      "Creating raw.info structure...\n",
      "Reading 0 ... 595199  =      0.000 ...  2324.996 secs...\n"
     ]
    },
    {
     "name": "stderr",
     "output_type": "stream",
     "text": [
      "/tmp/ipykernel_1380564/109548928.py:26: RuntimeWarning: Channel names are not unique, found duplicates for: {'T8-P8'}. Applying running numbers for duplicates.\n",
      "  raw = mne.io.read_raw_edf(file_path, preload=True)\n"
     ]
    },
    {
     "name": "stdout",
     "output_type": "stream",
     "text": [
      "Extracting EDF parameters from /home/weasel/reps/ai-seizure-detectives/data/chb01/chb01_27.edf...\n",
      "EDF file detected\n",
      "Setting channel info structure...\n",
      "Creating raw.info structure...\n",
      "Reading 0 ... 153599  =      0.000 ...   599.996 secs...\n",
      "Extracting EDF parameters from /home/weasel/reps/ai-seizure-detectives/data/chb01/chb01_29.edf...\n",
      "EDF file detected\n",
      "Setting channel info structure...\n",
      "Creating raw.info structure...\n",
      "Reading 0 ... 921599  =      0.000 ...  3599.996 secs...\n"
     ]
    },
    {
     "name": "stderr",
     "output_type": "stream",
     "text": [
      "/tmp/ipykernel_1380564/109548928.py:26: RuntimeWarning: Channel names are not unique, found duplicates for: {'T8-P8'}. Applying running numbers for duplicates.\n",
      "  raw = mne.io.read_raw_edf(file_path, preload=True)\n",
      "/tmp/ipykernel_1380564/109548928.py:26: RuntimeWarning: Channel names are not unique, found duplicates for: {'T8-P8'}. Applying running numbers for duplicates.\n",
      "  raw = mne.io.read_raw_edf(file_path, preload=True)\n"
     ]
    },
    {
     "name": "stdout",
     "output_type": "stream",
     "text": [
      "Extracting EDF parameters from /home/weasel/reps/ai-seizure-detectives/data/chb01/chb01_30.edf...\n",
      "EDF file detected\n",
      "Setting channel info structure...\n",
      "Creating raw.info structure...\n",
      "Reading 0 ... 921599  =      0.000 ...  3599.996 secs...\n"
     ]
    },
    {
     "name": "stderr",
     "output_type": "stream",
     "text": [
      "/tmp/ipykernel_1380564/109548928.py:26: RuntimeWarning: Channel names are not unique, found duplicates for: {'T8-P8'}. Applying running numbers for duplicates.\n",
      "  raw = mne.io.read_raw_edf(file_path, preload=True)\n"
     ]
    },
    {
     "name": "stdout",
     "output_type": "stream",
     "text": [
      "Extracting EDF parameters from /home/weasel/reps/ai-seizure-detectives/data/chb01/chb01_31.edf...\n",
      "EDF file detected\n",
      "Setting channel info structure...\n",
      "Creating raw.info structure...\n",
      "Reading 0 ... 921599  =      0.000 ...  3599.996 secs...\n"
     ]
    },
    {
     "name": "stderr",
     "output_type": "stream",
     "text": [
      "/tmp/ipykernel_1380564/109548928.py:26: RuntimeWarning: Channel names are not unique, found duplicates for: {'T8-P8'}. Applying running numbers for duplicates.\n",
      "  raw = mne.io.read_raw_edf(file_path, preload=True)\n"
     ]
    },
    {
     "name": "stdout",
     "output_type": "stream",
     "text": [
      "Extracting EDF parameters from /home/weasel/reps/ai-seizure-detectives/data/chb01/chb01_32.edf...\n",
      "EDF file detected\n",
      "Setting channel info structure...\n",
      "Creating raw.info structure...\n",
      "Reading 0 ... 921599  =      0.000 ...  3599.996 secs...\n"
     ]
    },
    {
     "name": "stderr",
     "output_type": "stream",
     "text": [
      "/tmp/ipykernel_1380564/109548928.py:26: RuntimeWarning: Channel names are not unique, found duplicates for: {'T8-P8'}. Applying running numbers for duplicates.\n",
      "  raw = mne.io.read_raw_edf(file_path, preload=True)\n"
     ]
    },
    {
     "name": "stdout",
     "output_type": "stream",
     "text": [
      "Extracting EDF parameters from /home/weasel/reps/ai-seizure-detectives/data/chb01/chb01_33.edf...\n",
      "EDF file detected\n",
      "Setting channel info structure...\n",
      "Creating raw.info structure...\n",
      "Reading 0 ... 921599  =      0.000 ...  3599.996 secs...\n"
     ]
    },
    {
     "name": "stderr",
     "output_type": "stream",
     "text": [
      "/tmp/ipykernel_1380564/109548928.py:26: RuntimeWarning: Channel names are not unique, found duplicates for: {'T8-P8'}. Applying running numbers for duplicates.\n",
      "  raw = mne.io.read_raw_edf(file_path, preload=True)\n"
     ]
    },
    {
     "name": "stdout",
     "output_type": "stream",
     "text": [
      "Extracting EDF parameters from /home/weasel/reps/ai-seizure-detectives/data/chb01/chb01_34.edf...\n",
      "EDF file detected\n",
      "Setting channel info structure...\n",
      "Creating raw.info structure...\n",
      "Reading 0 ... 921599  =      0.000 ...  3599.996 secs...\n"
     ]
    },
    {
     "name": "stderr",
     "output_type": "stream",
     "text": [
      "/tmp/ipykernel_1380564/109548928.py:26: RuntimeWarning: Channel names are not unique, found duplicates for: {'T8-P8'}. Applying running numbers for duplicates.\n",
      "  raw = mne.io.read_raw_edf(file_path, preload=True)\n"
     ]
    },
    {
     "name": "stdout",
     "output_type": "stream",
     "text": [
      "Extracting EDF parameters from /home/weasel/reps/ai-seizure-detectives/data/chb01/chb01_36.edf...\n",
      "EDF file detected\n",
      "Setting channel info structure...\n",
      "Creating raw.info structure...\n",
      "Reading 0 ... 921599  =      0.000 ...  3599.996 secs...\n"
     ]
    },
    {
     "name": "stderr",
     "output_type": "stream",
     "text": [
      "/tmp/ipykernel_1380564/109548928.py:26: RuntimeWarning: Channel names are not unique, found duplicates for: {'T8-P8'}. Applying running numbers for duplicates.\n",
      "  raw = mne.io.read_raw_edf(file_path, preload=True)\n"
     ]
    },
    {
     "name": "stdout",
     "output_type": "stream",
     "text": [
      "Extracting EDF parameters from /home/weasel/reps/ai-seizure-detectives/data/chb01/chb01_37.edf...\n",
      "EDF file detected\n",
      "Setting channel info structure...\n",
      "Creating raw.info structure...\n",
      "Reading 0 ... 921599  =      0.000 ...  3599.996 secs...\n"
     ]
    },
    {
     "name": "stderr",
     "output_type": "stream",
     "text": [
      "/tmp/ipykernel_1380564/109548928.py:26: RuntimeWarning: Channel names are not unique, found duplicates for: {'T8-P8'}. Applying running numbers for duplicates.\n",
      "  raw = mne.io.read_raw_edf(file_path, preload=True)\n"
     ]
    },
    {
     "name": "stdout",
     "output_type": "stream",
     "text": [
      "Extracting EDF parameters from /home/weasel/reps/ai-seizure-detectives/data/chb01/chb01_38.edf...\n",
      "EDF file detected\n",
      "Setting channel info structure...\n",
      "Creating raw.info structure...\n",
      "Reading 0 ... 921599  =      0.000 ...  3599.996 secs...\n"
     ]
    },
    {
     "name": "stderr",
     "output_type": "stream",
     "text": [
      "/tmp/ipykernel_1380564/109548928.py:26: RuntimeWarning: Channel names are not unique, found duplicates for: {'T8-P8'}. Applying running numbers for duplicates.\n",
      "  raw = mne.io.read_raw_edf(file_path, preload=True)\n"
     ]
    },
    {
     "name": "stdout",
     "output_type": "stream",
     "text": [
      "Extracting EDF parameters from /home/weasel/reps/ai-seizure-detectives/data/chb01/chb01_39.edf...\n",
      "EDF file detected\n",
      "Setting channel info structure...\n",
      "Creating raw.info structure...\n",
      "Reading 0 ... 921599  =      0.000 ...  3599.996 secs...\n"
     ]
    },
    {
     "name": "stderr",
     "output_type": "stream",
     "text": [
      "/tmp/ipykernel_1380564/109548928.py:26: RuntimeWarning: Channel names are not unique, found duplicates for: {'T8-P8'}. Applying running numbers for duplicates.\n",
      "  raw = mne.io.read_raw_edf(file_path, preload=True)\n"
     ]
    },
    {
     "name": "stdout",
     "output_type": "stream",
     "text": [
      "Extracting EDF parameters from /home/weasel/reps/ai-seizure-detectives/data/chb01/chb01_40.edf...\n",
      "EDF file detected\n",
      "Setting channel info structure...\n",
      "Creating raw.info structure...\n",
      "Reading 0 ... 921599  =      0.000 ...  3599.996 secs...\n"
     ]
    },
    {
     "name": "stderr",
     "output_type": "stream",
     "text": [
      "/tmp/ipykernel_1380564/109548928.py:26: RuntimeWarning: Channel names are not unique, found duplicates for: {'T8-P8'}. Applying running numbers for duplicates.\n",
      "  raw = mne.io.read_raw_edf(file_path, preload=True)\n"
     ]
    },
    {
     "name": "stdout",
     "output_type": "stream",
     "text": [
      "Extracting EDF parameters from /home/weasel/reps/ai-seizure-detectives/data/chb01/chb01_41.edf...\n",
      "EDF file detected\n",
      "Setting channel info structure...\n",
      "Creating raw.info structure...\n",
      "Reading 0 ... 921599  =      0.000 ...  3599.996 secs...\n"
     ]
    },
    {
     "name": "stderr",
     "output_type": "stream",
     "text": [
      "/tmp/ipykernel_1380564/109548928.py:26: RuntimeWarning: Channel names are not unique, found duplicates for: {'T8-P8'}. Applying running numbers for duplicates.\n",
      "  raw = mne.io.read_raw_edf(file_path, preload=True)\n"
     ]
    },
    {
     "name": "stdout",
     "output_type": "stream",
     "text": [
      "Extracting EDF parameters from /home/weasel/reps/ai-seizure-detectives/data/chb01/chb01_42.edf...\n",
      "EDF file detected\n",
      "Setting channel info structure...\n",
      "Creating raw.info structure...\n",
      "Reading 0 ... 921599  =      0.000 ...  3599.996 secs...\n"
     ]
    },
    {
     "name": "stderr",
     "output_type": "stream",
     "text": [
      "/tmp/ipykernel_1380564/109548928.py:26: RuntimeWarning: Channel names are not unique, found duplicates for: {'T8-P8'}. Applying running numbers for duplicates.\n",
      "  raw = mne.io.read_raw_edf(file_path, preload=True)\n"
     ]
    },
    {
     "name": "stdout",
     "output_type": "stream",
     "text": [
      "Extracting EDF parameters from /home/weasel/reps/ai-seizure-detectives/data/chb01/chb01_43.edf...\n",
      "EDF file detected\n",
      "Setting channel info structure...\n",
      "Creating raw.info structure...\n",
      "Reading 0 ... 921599  =      0.000 ...  3599.996 secs...\n"
     ]
    },
    {
     "name": "stderr",
     "output_type": "stream",
     "text": [
      "/tmp/ipykernel_1380564/109548928.py:26: RuntimeWarning: Channel names are not unique, found duplicates for: {'T8-P8'}. Applying running numbers for duplicates.\n",
      "  raw = mne.io.read_raw_edf(file_path, preload=True)\n"
     ]
    },
    {
     "name": "stdout",
     "output_type": "stream",
     "text": [
      "Extracting EDF parameters from /home/weasel/reps/ai-seizure-detectives/data/chb01/chb01_46.edf...\n",
      "EDF file detected\n",
      "Setting channel info structure...\n",
      "Creating raw.info structure...\n",
      "Reading 0 ... 921599  =      0.000 ...  3599.996 secs...\n"
     ]
    },
    {
     "name": "stderr",
     "output_type": "stream",
     "text": [
      "/tmp/ipykernel_1380564/109548928.py:26: RuntimeWarning: Channel names are not unique, found duplicates for: {'T8-P8'}. Applying running numbers for duplicates.\n",
      "  raw = mne.io.read_raw_edf(file_path, preload=True)\n"
     ]
    }
   ],
   "source": [
    "# Set the path to the patient folder\n",
    "data_folder ='./data'\n",
    "data_files = sorted([f for f in os.listdir(data_folder) if f.startswith('chb')])\n",
    "dataframes = []  # List to store individual DataFrames\n",
    "\n",
    "for folder_list in range(1,len(data_files[:2])):  # Assumes folders are named ch01 to ch10\n",
    "        folder_name = f'chb{folder_list:02d}'  # Format the folder name as ch01, ch02, etc.\n",
    "        folder_path = os.path.join(data_folder,folder_name)  # Create the full path to the folder\n",
    "\n",
    "        # Create an empty list to store raw data\n",
    "        patient_raws = []\n",
    "\n",
    "        # Create an empty list to store file names\n",
    "        file_names = []\n",
    "\n",
    "        # Get a list of .edf files sorted by filename numbers\n",
    "        edf_files = sorted([f for f in os.listdir(folder_path) if f.endswith('.edf')])\n",
    "\n",
    "        # Read the first .edf file to obtain the channel information\n",
    "        first_file_path = os.path.join(folder_path, edf_files[0])\n",
    "        first_raw = mne.io.read_raw_edf(first_file_path, preload=True)\n",
    "\n",
    "        # Loop through the sorted .edf files\n",
    "        for file in edf_files:\n",
    "            file_path = os.path.join(folder_path, file)\n",
    "            raw = mne.io.read_raw_edf(file_path, preload=True)\n",
    "            raw_downsampled = raw.copy().resample(sfreq=128)\n",
    "\n",
    "            # Set the channel information for each Raw object to match the first Raw object\n",
    "            raw_downsampled.info = first_raw.info\n",
    "            patient_raws.append(raw_downsampled)\n",
    "            file_names.extend([file] * len(raw_downsampled.times))\n",
    "\n",
    "        # Concatenate the raw objects into a single patient_combined object while maintaining a continuous time axis\n",
    "        patient_combined = mne.concatenate_raws(patient_raws, preload=True)\n",
    "        # Print info about the combined raw object for this patient\n",
    "        #print(patient_combined.info)\n",
    "\n",
    "        df = patient_combined.to_data_frame()\n",
    "        df['file_name'] = file_names\n",
    "        dataframes.append(df)\n",
    "# Concatenate all DataFrames into a single DataFrame\n",
    "final_dataframe = pd.concat(dataframes, ignore_index=True)\n"
   ]
  },
  {
   "cell_type": "code",
   "execution_count": 3,
   "metadata": {},
   "outputs": [
    {
     "data": {
      "text/html": [
       "<div>\n",
       "<style scoped>\n",
       "    .dataframe tbody tr th:only-of-type {\n",
       "        vertical-align: middle;\n",
       "    }\n",
       "\n",
       "    .dataframe tbody tr th {\n",
       "        vertical-align: top;\n",
       "    }\n",
       "\n",
       "    .dataframe thead th {\n",
       "        text-align: right;\n",
       "    }\n",
       "</style>\n",
       "<table border=\"1\" class=\"dataframe\">\n",
       "  <thead>\n",
       "    <tr style=\"text-align: right;\">\n",
       "      <th></th>\n",
       "      <th>time</th>\n",
       "      <th>FP1-F7</th>\n",
       "      <th>F7-T7</th>\n",
       "      <th>T7-P7</th>\n",
       "      <th>P7-O1</th>\n",
       "      <th>FP1-F3</th>\n",
       "      <th>F3-C3</th>\n",
       "      <th>C3-P3</th>\n",
       "      <th>P3-O1</th>\n",
       "      <th>FP2-F4</th>\n",
       "      <th>...</th>\n",
       "      <th>T8-P8-0</th>\n",
       "      <th>P8-O2</th>\n",
       "      <th>FZ-CZ</th>\n",
       "      <th>CZ-PZ</th>\n",
       "      <th>P7-T7</th>\n",
       "      <th>T7-FT9</th>\n",
       "      <th>FT9-FT10</th>\n",
       "      <th>FT10-T8</th>\n",
       "      <th>T8-P8-1</th>\n",
       "      <th>file_name</th>\n",
       "    </tr>\n",
       "  </thead>\n",
       "  <tbody>\n",
       "    <tr>\n",
       "      <th>18686459</th>\n",
       "      <td>72993.980469</td>\n",
       "      <td>9.271872</td>\n",
       "      <td>3.202251</td>\n",
       "      <td>-0.352666</td>\n",
       "      <td>6.945981</td>\n",
       "      <td>15.175976</td>\n",
       "      <td>16.523255</td>\n",
       "      <td>1.283921</td>\n",
       "      <td>-12.700165</td>\n",
       "      <td>26.405451</td>\n",
       "      <td>...</td>\n",
       "      <td>40.926333</td>\n",
       "      <td>4.573391</td>\n",
       "      <td>1.336672</td>\n",
       "      <td>5.515654</td>\n",
       "      <td>0.743387</td>\n",
       "      <td>-6.953758</td>\n",
       "      <td>-20.239724</td>\n",
       "      <td>2.448525</td>\n",
       "      <td>40.926333</td>\n",
       "      <td>chb01_46.edf</td>\n",
       "    </tr>\n",
       "    <tr>\n",
       "      <th>18686460</th>\n",
       "      <td>72993.984375</td>\n",
       "      <td>0.972116</td>\n",
       "      <td>-1.925578</td>\n",
       "      <td>-0.511233</td>\n",
       "      <td>9.689713</td>\n",
       "      <td>6.719782</td>\n",
       "      <td>20.026522</td>\n",
       "      <td>-1.251044</td>\n",
       "      <td>-16.564797</td>\n",
       "      <td>34.615492</td>\n",
       "      <td>...</td>\n",
       "      <td>43.253445</td>\n",
       "      <td>-2.365794</td>\n",
       "      <td>22.336375</td>\n",
       "      <td>25.323919</td>\n",
       "      <td>0.901954</td>\n",
       "      <td>-4.616625</td>\n",
       "      <td>-17.021897</td>\n",
       "      <td>6.148833</td>\n",
       "      <td>43.253445</td>\n",
       "      <td>chb01_46.edf</td>\n",
       "    </tr>\n",
       "    <tr>\n",
       "      <th>18686461</th>\n",
       "      <td>72993.988281</td>\n",
       "      <td>-5.958869</td>\n",
       "      <td>-6.611610</td>\n",
       "      <td>2.950065</td>\n",
       "      <td>5.918314</td>\n",
       "      <td>7.162481</td>\n",
       "      <td>13.934540</td>\n",
       "      <td>-3.596896</td>\n",
       "      <td>-21.561038</td>\n",
       "      <td>36.504544</td>\n",
       "      <td>...</td>\n",
       "      <td>37.598690</td>\n",
       "      <td>-6.428390</td>\n",
       "      <td>-1.050173</td>\n",
       "      <td>23.084684</td>\n",
       "      <td>-2.559344</td>\n",
       "      <td>-5.641288</td>\n",
       "      <td>-13.934074</td>\n",
       "      <td>12.482091</td>\n",
       "      <td>37.598690</td>\n",
       "      <td>chb01_46.edf</td>\n",
       "    </tr>\n",
       "    <tr>\n",
       "      <th>18686462</th>\n",
       "      <td>72993.992188</td>\n",
       "      <td>0.963386</td>\n",
       "      <td>-8.619454</td>\n",
       "      <td>9.388470</td>\n",
       "      <td>8.844600</td>\n",
       "      <td>17.865755</td>\n",
       "      <td>15.569214</td>\n",
       "      <td>1.536844</td>\n",
       "      <td>-24.282882</td>\n",
       "      <td>39.021681</td>\n",
       "      <td>...</td>\n",
       "      <td>35.912665</td>\n",
       "      <td>3.142497</td>\n",
       "      <td>48.842645</td>\n",
       "      <td>70.898413</td>\n",
       "      <td>-8.997749</td>\n",
       "      <td>-3.878704</td>\n",
       "      <td>-6.872701</td>\n",
       "      <td>12.472439</td>\n",
       "      <td>35.912665</td>\n",
       "      <td>chb01_46.edf</td>\n",
       "    </tr>\n",
       "    <tr>\n",
       "      <th>18686463</th>\n",
       "      <td>72993.996094</td>\n",
       "      <td>14.829972</td>\n",
       "      <td>-7.254257</td>\n",
       "      <td>3.370892</td>\n",
       "      <td>4.624156</td>\n",
       "      <td>33.294619</td>\n",
       "      <td>27.484769</td>\n",
       "      <td>-5.566107</td>\n",
       "      <td>-39.107788</td>\n",
       "      <td>26.455653</td>\n",
       "      <td>...</td>\n",
       "      <td>39.312534</td>\n",
       "      <td>7.612749</td>\n",
       "      <td>-22.802374</td>\n",
       "      <td>-21.470678</td>\n",
       "      <td>-2.980172</td>\n",
       "      <td>-14.597524</td>\n",
       "      <td>-13.295353</td>\n",
       "      <td>13.261167</td>\n",
       "      <td>39.312534</td>\n",
       "      <td>chb01_46.edf</td>\n",
       "    </tr>\n",
       "  </tbody>\n",
       "</table>\n",
       "<p>5 rows × 25 columns</p>\n",
       "</div>"
      ],
      "text/plain": [
       "                  time     FP1-F7     F7-T7     T7-P7     P7-O1     FP1-F3  \\\n",
       "18686459  72993.980469   9.271872  3.202251 -0.352666  6.945981  15.175976   \n",
       "18686460  72993.984375   0.972116 -1.925578 -0.511233  9.689713   6.719782   \n",
       "18686461  72993.988281  -5.958869 -6.611610  2.950065  5.918314   7.162481   \n",
       "18686462  72993.992188   0.963386 -8.619454  9.388470  8.844600  17.865755   \n",
       "18686463  72993.996094  14.829972 -7.254257  3.370892  4.624156  33.294619   \n",
       "\n",
       "              F3-C3     C3-P3      P3-O1     FP2-F4  ...    T8-P8-0     P8-O2  \\\n",
       "18686459  16.523255  1.283921 -12.700165  26.405451  ...  40.926333  4.573391   \n",
       "18686460  20.026522 -1.251044 -16.564797  34.615492  ...  43.253445 -2.365794   \n",
       "18686461  13.934540 -3.596896 -21.561038  36.504544  ...  37.598690 -6.428390   \n",
       "18686462  15.569214  1.536844 -24.282882  39.021681  ...  35.912665  3.142497   \n",
       "18686463  27.484769 -5.566107 -39.107788  26.455653  ...  39.312534  7.612749   \n",
       "\n",
       "              FZ-CZ      CZ-PZ     P7-T7     T7-FT9   FT9-FT10    FT10-T8  \\\n",
       "18686459   1.336672   5.515654  0.743387  -6.953758 -20.239724   2.448525   \n",
       "18686460  22.336375  25.323919  0.901954  -4.616625 -17.021897   6.148833   \n",
       "18686461  -1.050173  23.084684 -2.559344  -5.641288 -13.934074  12.482091   \n",
       "18686462  48.842645  70.898413 -8.997749  -3.878704  -6.872701  12.472439   \n",
       "18686463 -22.802374 -21.470678 -2.980172 -14.597524 -13.295353  13.261167   \n",
       "\n",
       "            T8-P8-1     file_name  \n",
       "18686459  40.926333  chb01_46.edf  \n",
       "18686460  43.253445  chb01_46.edf  \n",
       "18686461  37.598690  chb01_46.edf  \n",
       "18686462  35.912665  chb01_46.edf  \n",
       "18686463  39.312534  chb01_46.edf  \n",
       "\n",
       "[5 rows x 25 columns]"
      ]
     },
     "execution_count": 3,
     "metadata": {},
     "output_type": "execute_result"
    }
   ],
   "source": [
    "final_dataframe.tail()"
   ]
  },
  {
   "cell_type": "code",
   "execution_count": 10,
   "metadata": {},
   "outputs": [
    {
     "data": {
      "text/plain": [
       "Index(['time', 'FP1-F7', 'F7-T7', 'T7-P7', 'P7-O1', 'FP1-F3', 'F3-C3', 'C3-P3',\n",
       "       'P3-O1', 'FP2-F4', 'F4-C4', 'C4-P4', 'P4-O2', 'FP2-F8', 'F8-T8',\n",
       "       'T8-P8-0', 'P8-O2', 'FZ-CZ', 'CZ-PZ', 'P7-T7', 'T7-FT9', 'FT9-FT10',\n",
       "       'FT10-T8', 'T8-P8-1', 'file_name'],\n",
       "      dtype='object')"
      ]
     },
     "execution_count": 10,
     "metadata": {},
     "output_type": "execute_result"
    }
   ],
   "source": [
    "final_dataframe.columns"
   ]
  },
  {
   "cell_type": "code",
   "execution_count": 4,
   "metadata": {},
   "outputs": [
    {
     "data": {
      "text/plain": [
       "(18686464, 25)"
      ]
     },
     "execution_count": 4,
     "metadata": {},
     "output_type": "execute_result"
    }
   ],
   "source": [
    "final_dataframe.shape"
   ]
  },
  {
   "cell_type": "code",
   "execution_count": 5,
   "metadata": {},
   "outputs": [
    {
     "data": {
      "text/plain": [
       "(18686464, 25)"
      ]
     },
     "execution_count": 5,
     "metadata": {},
     "output_type": "execute_result"
    }
   ],
   "source": [
    "df.shape"
   ]
  },
  {
   "cell_type": "code",
   "execution_count": 6,
   "metadata": {},
   "outputs": [
    {
     "data": {
      "text/plain": [
       "42"
      ]
     },
     "execution_count": 6,
     "metadata": {},
     "output_type": "execute_result"
    }
   ],
   "source": [
    "len(final_dataframe['file_name'].unique())"
   ]
  },
  {
   "cell_type": "code",
   "execution_count": 7,
   "metadata": {},
   "outputs": [
    {
     "name": "stdout",
     "output_type": "stream",
     "text": [
      "      file_name  Number of Seizures  Seizure Start Time  Seizure End Time  \\\n",
      "0  chb02_35.edf                   1                3369              3378   \n",
      "\n",
      "  Source File  \n",
      "0       chb02  \n"
     ]
    }
   ],
   "source": [
    "# Define the folder where your text files are located\n",
    "folder_path = './data/'\n",
    "# Initialize an empty list to store data\n",
    "all_data = []\n",
    "\n",
    "# Loop through subfolders in the main data folder\n",
    "for folder_name in os.listdir(folder_path):\n",
    "    if not folder_name.startswith('chb'):\n",
    "        continue\n",
    "    folder_path = os.path.join(folder_path, folder_name)\n",
    "\n",
    "    # Check if the item in the main folder is a directory (subfolder)\n",
    "    if os.path.isdir(folder_path):\n",
    "        # Loop through the text files in the subfolder\n",
    "        for filename in os.listdir(folder_path):\n",
    "            if filename.endswith(\".txt\") and filename.startswith(\"chb\"):\n",
    "                file_path = os.path.join(folder_path, filename)\n",
    "                \n",
    "                # Extract the part of the filename before the hyphen as the \"Source File\" value\n",
    "                source_file = filename.split(\"-\")[0]\n",
    "                \n",
    "                # Initialize a list to store data for each file\n",
    "                data = []\n",
    "                \n",
    "                # Initialize a dictionary to hold the current data\n",
    "                current_data = {\"File Name\": None, \"Number of Seizures\": None, \"Seizure Start Time\": np.nan, \"Seizure End Time\": np.nan, \"Source File\": source_file}\n",
    "                \n",
    "                # Open and read the current text file\n",
    "                with open(file_path, \"r\") as file:\n",
    "                    for line in file:\n",
    "                        line = line.strip()\n",
    "                        if line.startswith(\"File Name:\"):\n",
    "                            current_data[\"File Name\"] = line.split(\": \", 1)[1]\n",
    "                            if not pd.isna(current_data[\"Seizure Start Time\"]) and not pd.isna(current_data[\"Seizure End Time\"]):\n",
    "                                current_data[\"Number of Seizures\"] = 1\n",
    "                        elif line.startswith(\"Number of Seizures:\"):\n",
    "                            current_data[\"Number of Seizures\"] = int(line.split(\": \", 1)[1])\n",
    "                        elif line.startswith(\"Seizure Start Time:\"):\n",
    "                            current_data[\"Seizure Start Time\"] = int(line.split(\": \", 1)[1].split()[0])\n",
    "                        elif line.startswith(\"Seizure End Time:\"):\n",
    "                            current_data[\"Seizure End Time\"] = int(line.split(\": \", 1)[1].split()[0])\n",
    "                    data.append(current_data.copy())\n",
    "                \n",
    "                all_data.extend(data)\n",
    "\n",
    "# Create a DataFrame from the collected data\n",
    "seizure_seq = pd.DataFrame(all_data)\n",
    "\n",
    "# Change column name\n",
    "seizure_seq = seizure_seq.rename(columns={\"File Name\": \"file_name\"})\n",
    "\n",
    "# Display the DataFrame\n",
    "print(seizure_seq)"
   ]
  },
  {
   "cell_type": "code",
   "execution_count": null,
   "metadata": {},
   "outputs": [],
   "source": []
  },
  {
   "cell_type": "code",
   "execution_count": 22,
   "metadata": {},
   "outputs": [],
   "source": [
    "# Merge DataFrames\n",
    "merged_df = df.merge(seizure_seq, on=\"file_name\", how=\"left\")"
   ]
  },
  {
   "cell_type": "code",
   "execution_count": null,
   "metadata": {},
   "outputs": [],
   "source": [
    "# Define a function to check if a recording occurred during a seizure\n",
    "def during_seizure(row):\n",
    "    return (row[\"time\"] >= row[\"Seizure Start Time\"]) and (row[\"time\"] <= row[\"Seizure End Time\"])\n",
    "\n",
    "# Step 3: Apply the function to create a new boolean column\n",
    "merged_df[\"seizure_sequence\"] = merged_df.apply(during_seizure, axis=1)"
   ]
  }
 ],
 "metadata": {
  "kernelspec": {
   "display_name": ".venv",
   "language": "python",
   "name": "python3"
  },
  "language_info": {
   "codemirror_mode": {
    "name": "ipython",
    "version": 3
   },
   "file_extension": ".py",
   "mimetype": "text/x-python",
   "name": "python",
   "nbconvert_exporter": "python",
   "pygments_lexer": "ipython3",
   "version": "3.11.3"
  }
 },
 "nbformat": 4,
 "nbformat_minor": 2
}
