{
 "cells": [
  {
   "cell_type": "code",
   "execution_count": 1,
   "metadata": {},
   "outputs": [
    {
     "name": "stdout",
     "output_type": "stream",
     "text": [
      "chb01_01.edf was imported and resampled.\n",
      "chb01_02.edf was imported and resampled.\n",
      "chb01_03.edf was imported and resampled.\n",
      "chb01_03.edf seizure was labeled\n",
      "chb01_04.edf was imported and resampled.\n",
      "chb01_04.edf seizure was labeled\n",
      "chb01_05.edf was imported and resampled.\n",
      "chb01_06.edf was imported and resampled.\n",
      "chb01_07.edf was imported and resampled.\n",
      "chb01_08.edf was imported and resampled.\n",
      "chb01_09.edf was imported and resampled.\n",
      "chb01_10.edf was imported and resampled.\n",
      "chb01_11.edf was imported and resampled.\n",
      "chb01_12.edf was imported and resampled.\n",
      "chb01_13.edf was imported and resampled.\n",
      "chb01_14.edf was imported and resampled.\n",
      "chb01_15.edf was imported and resampled.\n",
      "chb01_15.edf seizure was labeled\n",
      "chb01_16.edf was imported and resampled.\n",
      "chb01_16.edf seizure was labeled\n",
      "chb01_17.edf was imported and resampled.\n",
      "chb01_18.edf was imported and resampled.\n",
      "chb01_18.edf seizure was labeled\n",
      "chb01_19.edf was imported and resampled.\n",
      "chb01_20.edf was imported and resampled.\n",
      "chb01_21.edf was imported and resampled.\n",
      "chb01_21.edf seizure was labeled\n",
      "chb01_22.edf was imported and resampled.\n",
      "chb01_23.edf was imported and resampled.\n",
      "chb01_24.edf was imported and resampled.\n",
      "chb01_25.edf was imported and resampled.\n",
      "chb01_26.edf was imported and resampled.\n",
      "chb01_26.edf seizure was labeled\n",
      "chb01_27.edf was imported and resampled.\n",
      "chb01_29.edf was imported and resampled.\n",
      "chb01_30.edf was imported and resampled.\n",
      "chb01_31.edf was imported and resampled.\n",
      "chb01_32.edf was imported and resampled.\n",
      "chb01_33.edf was imported and resampled.\n",
      "chb01_34.edf was imported and resampled.\n",
      "chb01_36.edf was imported and resampled.\n",
      "chb01_37.edf was imported and resampled.\n",
      "chb01_38.edf was imported and resampled.\n",
      "chb01_39.edf was imported and resampled.\n",
      "chb01_40.edf was imported and resampled.\n",
      "chb01_41.edf was imported and resampled.\n",
      "chb01_42.edf was imported and resampled.\n",
      "chb01_43.edf was imported and resampled.\n",
      "chb01_46.edf was imported and resampled.\n",
      "patient chb01 sessions concatenated.\n",
      "chb02_01.edf was imported and resampled.\n",
      "chb02_02.edf was imported and resampled.\n",
      "chb02_03.edf was imported and resampled.\n",
      "chb02_04.edf was imported and resampled.\n",
      "chb02_05.edf was imported and resampled.\n",
      "chb02_06.edf was imported and resampled.\n",
      "chb02_07.edf was imported and resampled.\n",
      "chb02_08.edf was imported and resampled.\n",
      "chb02_09.edf was imported and resampled.\n",
      "chb02_10.edf was imported and resampled.\n",
      "chb02_11.edf was imported and resampled.\n",
      "chb02_12.edf was imported and resampled.\n",
      "chb02_13.edf was imported and resampled.\n",
      "chb02_14.edf was imported and resampled.\n",
      "chb02_15.edf was imported and resampled.\n",
      "chb02_16+.edf was imported and resampled.\n",
      "chb02_16.edf was imported and resampled.\n",
      "chb02_17.edf was imported and resampled.\n",
      "chb02_18.edf was imported and resampled.\n",
      "chb02_19.edf was imported and resampled.\n",
      "chb02_20.edf was imported and resampled.\n",
      "chb02_21.edf was imported and resampled.\n",
      "chb02_22.edf was imported and resampled.\n",
      "chb02_23.edf was imported and resampled.\n",
      "chb02_24.edf was imported and resampled.\n",
      "chb02_25.edf was imported and resampled.\n",
      "chb02_26.edf was imported and resampled.\n",
      "chb02_27.edf was imported and resampled.\n",
      "chb02_28.edf was imported and resampled.\n",
      "chb02_29.edf was imported and resampled.\n",
      "chb02_30.edf was imported and resampled.\n",
      "chb02_31.edf was imported and resampled.\n",
      "chb02_32.edf was imported and resampled.\n",
      "chb02_33.edf was imported and resampled.\n",
      "chb02_34.edf was imported and resampled.\n",
      "chb02_35.edf was imported and resampled.\n",
      "patient chb02 sessions concatenated.\n",
      "chb03_01.edf was imported and resampled.\n",
      "chb03_02.edf was imported and resampled.\n",
      "chb03_03.edf was imported and resampled.\n",
      "chb03_04.edf was imported and resampled.\n",
      "chb03_05.edf was imported and resampled.\n",
      "chb03_06.edf was imported and resampled.\n",
      "chb03_07.edf was imported and resampled.\n",
      "chb03_08.edf was imported and resampled.\n",
      "chb03_09.edf was imported and resampled.\n",
      "chb03_10.edf was imported and resampled.\n",
      "chb03_11.edf was imported and resampled.\n",
      "chb03_12.edf was imported and resampled.\n",
      "chb03_13.edf was imported and resampled.\n",
      "chb03_14.edf was imported and resampled.\n",
      "chb03_15.edf was imported and resampled.\n",
      "chb03_16.edf was imported and resampled.\n",
      "chb03_17.edf was imported and resampled.\n",
      "chb03_18.edf was imported and resampled.\n",
      "chb03_19.edf was imported and resampled.\n",
      "chb03_20.edf was imported and resampled.\n",
      "chb03_21.edf was imported and resampled.\n",
      "chb03_22.edf was imported and resampled.\n",
      "chb03_23.edf was imported and resampled.\n",
      "chb03_24.edf was imported and resampled.\n",
      "chb03_25.edf was imported and resampled.\n",
      "chb03_26.edf was imported and resampled.\n",
      "chb03_27.edf was imported and resampled.\n",
      "chb03_28.edf was imported and resampled.\n",
      "chb03_29.edf was imported and resampled.\n",
      "chb03_30.edf was imported and resampled.\n",
      "chb03_31.edf was imported and resampled.\n",
      "chb03_32.edf was imported and resampled.\n",
      "chb03_33.edf was imported and resampled.\n",
      "chb03_34.edf was imported and resampled.\n",
      "chb03_35.edf was imported and resampled.\n",
      "chb03_36.edf was imported and resampled.\n",
      "chb03_37.edf was imported and resampled.\n",
      "chb03_38.edf was imported and resampled.\n",
      "patient chb03 sessions concatenated.\n"
     ]
    },
    {
     "data": {
      "text/html": [
       "<div>\n",
       "<style scoped>\n",
       "    .dataframe tbody tr th:only-of-type {\n",
       "        vertical-align: middle;\n",
       "    }\n",
       "\n",
       "    .dataframe tbody tr th {\n",
       "        vertical-align: top;\n",
       "    }\n",
       "\n",
       "    .dataframe thead th {\n",
       "        text-align: right;\n",
       "    }\n",
       "</style>\n",
       "<table border=\"1\" class=\"dataframe\">\n",
       "  <thead>\n",
       "    <tr style=\"text-align: right;\">\n",
       "      <th>channel</th>\n",
       "      <th>FP1-F7</th>\n",
       "      <th>F7-T7</th>\n",
       "      <th>T7-P7</th>\n",
       "      <th>P7-O1</th>\n",
       "      <th>FP1-F3</th>\n",
       "      <th>F3-C3</th>\n",
       "      <th>C3-P3</th>\n",
       "      <th>P3-O1</th>\n",
       "      <th>FP2-F4</th>\n",
       "      <th>F4-C4</th>\n",
       "      <th>...</th>\n",
       "      <th>T8-P8-0</th>\n",
       "      <th>P8-O2</th>\n",
       "      <th>FZ-CZ</th>\n",
       "      <th>CZ-PZ</th>\n",
       "      <th>P7-T7</th>\n",
       "      <th>T7-FT9</th>\n",
       "      <th>FT9-FT10</th>\n",
       "      <th>FT10-T8</th>\n",
       "      <th>T8-P8-1</th>\n",
       "      <th>is_seizure</th>\n",
       "    </tr>\n",
       "  </thead>\n",
       "  <tbody>\n",
       "    <tr>\n",
       "      <th>0 days 00:00:00</th>\n",
       "      <td>-3.633700e+01</td>\n",
       "      <td>-25.885226</td>\n",
       "      <td>-10.549451</td>\n",
       "      <td>-8.009768e+00</td>\n",
       "      <td>-42.588523</td>\n",
       "      <td>-27.545788</td>\n",
       "      <td>3.125763e+00</td>\n",
       "      <td>-13.968254</td>\n",
       "      <td>-34.676435</td>\n",
       "      <td>-0.195360</td>\n",
       "      <td>...</td>\n",
       "      <td>11.330891</td>\n",
       "      <td>18.168498</td>\n",
       "      <td>-26.373626</td>\n",
       "      <td>2.129426e+01</td>\n",
       "      <td>10.940171</td>\n",
       "      <td>-14.358974</td>\n",
       "      <td>-65.543346</td>\n",
       "      <td>23.833944</td>\n",
       "      <td>11.330891</td>\n",
       "      <td>0</td>\n",
       "    </tr>\n",
       "    <tr>\n",
       "      <th>0 days 00:00:00.015625</th>\n",
       "      <td>-7.216450e-16</td>\n",
       "      <td>-1.465201</td>\n",
       "      <td>1.172161</td>\n",
       "      <td>-7.216450e-16</td>\n",
       "      <td>-0.390720</td>\n",
       "      <td>0.293040</td>\n",
       "      <td>-7.216450e-16</td>\n",
       "      <td>0.195360</td>\n",
       "      <td>0.586081</td>\n",
       "      <td>-0.097680</td>\n",
       "      <td>...</td>\n",
       "      <td>0.097680</td>\n",
       "      <td>2.442002</td>\n",
       "      <td>-0.195360</td>\n",
       "      <td>-6.800116e-16</td>\n",
       "      <td>-0.781441</td>\n",
       "      <td>1.172161</td>\n",
       "      <td>-0.390720</td>\n",
       "      <td>0.586081</td>\n",
       "      <td>0.097680</td>\n",
       "      <td>0</td>\n",
       "    </tr>\n",
       "    <tr>\n",
       "      <th>0 days 00:00:00.031250</th>\n",
       "      <td>2.344322e+00</td>\n",
       "      <td>-5.860806</td>\n",
       "      <td>3.028083</td>\n",
       "      <td>-5.079365e+00</td>\n",
       "      <td>-2.051282</td>\n",
       "      <td>-0.781441</td>\n",
       "      <td>5.860806e-01</td>\n",
       "      <td>-2.930403</td>\n",
       "      <td>1.660562</td>\n",
       "      <td>-1.172161</td>\n",
       "      <td>...</td>\n",
       "      <td>1.660562</td>\n",
       "      <td>28.717949</td>\n",
       "      <td>-2.246642</td>\n",
       "      <td>5.860806e-01</td>\n",
       "      <td>-2.637363</td>\n",
       "      <td>13.089133</td>\n",
       "      <td>-22.954823</td>\n",
       "      <td>-0.488400</td>\n",
       "      <td>1.660562</td>\n",
       "      <td>0</td>\n",
       "    </tr>\n",
       "    <tr>\n",
       "      <th>0 days 00:00:00.046875</th>\n",
       "      <td>-6.661338e-16</td>\n",
       "      <td>-40.439560</td>\n",
       "      <td>10.256410</td>\n",
       "      <td>-8.888889e+00</td>\n",
       "      <td>-19.829060</td>\n",
       "      <td>-4.981685</td>\n",
       "      <td>-8.888889e+00</td>\n",
       "      <td>-4.395604</td>\n",
       "      <td>9.963370</td>\n",
       "      <td>-12.698413</td>\n",
       "      <td>...</td>\n",
       "      <td>12.014652</td>\n",
       "      <td>68.669109</td>\n",
       "      <td>-17.582418</td>\n",
       "      <td>-5.079365e+00</td>\n",
       "      <td>-9.865690</td>\n",
       "      <td>32.039072</td>\n",
       "      <td>-51.184371</td>\n",
       "      <td>5.177045</td>\n",
       "      <td>12.014652</td>\n",
       "      <td>0</td>\n",
       "    </tr>\n",
       "    <tr>\n",
       "      <th>0 days 00:00:00.062500</th>\n",
       "      <td>6.544567e+00</td>\n",
       "      <td>-23.638584</td>\n",
       "      <td>-1.367521</td>\n",
       "      <td>-1.826618e+01</td>\n",
       "      <td>-6.153846</td>\n",
       "      <td>0.683761</td>\n",
       "      <td>-1.963370e+01</td>\n",
       "      <td>-11.233211</td>\n",
       "      <td>-4.004884</td>\n",
       "      <td>-1.660562</td>\n",
       "      <td>...</td>\n",
       "      <td>4.493284</td>\n",
       "      <td>52.258852</td>\n",
       "      <td>-16.800977</td>\n",
       "      <td>-9.279609e+00</td>\n",
       "      <td>1.758242</td>\n",
       "      <td>28.131868</td>\n",
       "      <td>-50.500611</td>\n",
       "      <td>17.289377</td>\n",
       "      <td>4.493284</td>\n",
       "      <td>0</td>\n",
       "    </tr>\n",
       "  </tbody>\n",
       "</table>\n",
       "<p>5 rows × 24 columns</p>\n",
       "</div>"
      ],
      "text/plain": [
       "channel                       FP1-F7      F7-T7      T7-P7         P7-O1  \\\n",
       "0 days 00:00:00        -3.633700e+01 -25.885226 -10.549451 -8.009768e+00   \n",
       "0 days 00:00:00.015625 -7.216450e-16  -1.465201   1.172161 -7.216450e-16   \n",
       "0 days 00:00:00.031250  2.344322e+00  -5.860806   3.028083 -5.079365e+00   \n",
       "0 days 00:00:00.046875 -6.661338e-16 -40.439560  10.256410 -8.888889e+00   \n",
       "0 days 00:00:00.062500  6.544567e+00 -23.638584  -1.367521 -1.826618e+01   \n",
       "\n",
       "channel                    FP1-F3      F3-C3         C3-P3      P3-O1  \\\n",
       "0 days 00:00:00        -42.588523 -27.545788  3.125763e+00 -13.968254   \n",
       "0 days 00:00:00.015625  -0.390720   0.293040 -7.216450e-16   0.195360   \n",
       "0 days 00:00:00.031250  -2.051282  -0.781441  5.860806e-01  -2.930403   \n",
       "0 days 00:00:00.046875 -19.829060  -4.981685 -8.888889e+00  -4.395604   \n",
       "0 days 00:00:00.062500  -6.153846   0.683761 -1.963370e+01 -11.233211   \n",
       "\n",
       "channel                    FP2-F4      F4-C4  ...    T8-P8-0      P8-O2  \\\n",
       "0 days 00:00:00        -34.676435  -0.195360  ...  11.330891  18.168498   \n",
       "0 days 00:00:00.015625   0.586081  -0.097680  ...   0.097680   2.442002   \n",
       "0 days 00:00:00.031250   1.660562  -1.172161  ...   1.660562  28.717949   \n",
       "0 days 00:00:00.046875   9.963370 -12.698413  ...  12.014652  68.669109   \n",
       "0 days 00:00:00.062500  -4.004884  -1.660562  ...   4.493284  52.258852   \n",
       "\n",
       "channel                     FZ-CZ         CZ-PZ      P7-T7     T7-FT9  \\\n",
       "0 days 00:00:00        -26.373626  2.129426e+01  10.940171 -14.358974   \n",
       "0 days 00:00:00.015625  -0.195360 -6.800116e-16  -0.781441   1.172161   \n",
       "0 days 00:00:00.031250  -2.246642  5.860806e-01  -2.637363  13.089133   \n",
       "0 days 00:00:00.046875 -17.582418 -5.079365e+00  -9.865690  32.039072   \n",
       "0 days 00:00:00.062500 -16.800977 -9.279609e+00   1.758242  28.131868   \n",
       "\n",
       "channel                  FT9-FT10    FT10-T8    T8-P8-1  is_seizure  \n",
       "0 days 00:00:00        -65.543346  23.833944  11.330891           0  \n",
       "0 days 00:00:00.015625  -0.390720   0.586081   0.097680           0  \n",
       "0 days 00:00:00.031250 -22.954823  -0.488400   1.660562           0  \n",
       "0 days 00:00:00.046875 -51.184371   5.177045  12.014652           0  \n",
       "0 days 00:00:00.062500 -50.500611  17.289377   4.493284           0  \n",
       "\n",
       "[5 rows x 24 columns]"
      ]
     },
     "execution_count": 1,
     "metadata": {},
     "output_type": "execute_result"
    }
   ],
   "source": [
    "from source import data_import\n",
    "\n",
    "patient_df = data_import.import_patients(patient_ids=[1,2,3], target_freq=64)\n",
    "patient_df.head()"
   ]
  },
  {
   "cell_type": "code",
   "execution_count": 1,
   "metadata": {},
   "outputs": [],
   "source": [
    "import mne \n",
    "import os\n",
    "from mne.io import  read_raw_edf\n"
   ]
  },
  {
   "cell_type": "code",
   "execution_count": 13,
   "metadata": {},
   "outputs": [
    {
     "name": "stdout",
     "output_type": "stream",
     "text": [
      "Extracting EDF parameters from /Users/Samet/Documents/Bildung/BootcampSpiced/github_rice_regression/Capstone_project/chb-mit-scalp-eeg-database-1.0.0/chb01/chb01_01.edf...\n",
      "EDF file detected\n",
      "Setting channel info structure...\n",
      "Creating raw.info structure...\n",
      "Reading 0 ... 921599  =      0.000 ...  3599.996 secs...\n"
     ]
    },
    {
     "name": "stderr",
     "output_type": "stream",
     "text": [
      "/var/folders/qc/mckg6k9d38ngx5rhh3c9fbpr0000gp/T/ipykernel_19543/2274303558.py:15: RuntimeWarning: Channel names are not unique, found duplicates for: {'T8-P8'}. Applying running numbers for duplicates.\n",
      "  first_raw = mne.io.read_raw_edf(first_file_path, preload=True)\n"
     ]
    },
    {
     "name": "stdout",
     "output_type": "stream",
     "text": [
      "Extracting EDF parameters from /Users/Samet/Documents/Bildung/BootcampSpiced/github_rice_regression/Capstone_project/chb-mit-scalp-eeg-database-1.0.0/chb01/chb01_01.edf...\n",
      "EDF file detected\n",
      "Setting channel info structure...\n",
      "Creating raw.info structure...\n",
      "Reading 0 ... 921599  =      0.000 ...  3599.996 secs...\n"
     ]
    },
    {
     "name": "stderr",
     "output_type": "stream",
     "text": [
      "/var/folders/qc/mckg6k9d38ngx5rhh3c9fbpr0000gp/T/ipykernel_19543/2274303558.py:20: RuntimeWarning: Channel names are not unique, found duplicates for: {'T8-P8'}. Applying running numbers for duplicates.\n",
      "  raw = mne.io.read_raw_edf(file_path, preload=True)\n"
     ]
    },
    {
     "name": "stdout",
     "output_type": "stream",
     "text": [
      "Extracting EDF parameters from /Users/Samet/Documents/Bildung/BootcampSpiced/github_rice_regression/Capstone_project/chb-mit-scalp-eeg-database-1.0.0/chb01/chb01_02.edf...\n",
      "EDF file detected\n",
      "Setting channel info structure...\n",
      "Creating raw.info structure...\n",
      "Reading 0 ... 921599  =      0.000 ...  3599.996 secs...\n"
     ]
    },
    {
     "name": "stderr",
     "output_type": "stream",
     "text": [
      "/var/folders/qc/mckg6k9d38ngx5rhh3c9fbpr0000gp/T/ipykernel_19543/2274303558.py:20: RuntimeWarning: Channel names are not unique, found duplicates for: {'T8-P8'}. Applying running numbers for duplicates.\n",
      "  raw = mne.io.read_raw_edf(file_path, preload=True)\n"
     ]
    },
    {
     "name": "stdout",
     "output_type": "stream",
     "text": [
      "Extracting EDF parameters from /Users/Samet/Documents/Bildung/BootcampSpiced/github_rice_regression/Capstone_project/chb-mit-scalp-eeg-database-1.0.0/chb01/chb01_03.edf...\n",
      "EDF file detected\n",
      "Setting channel info structure...\n",
      "Creating raw.info structure...\n",
      "Reading 0 ... 921599  =      0.000 ...  3599.996 secs...\n"
     ]
    },
    {
     "name": "stderr",
     "output_type": "stream",
     "text": [
      "/var/folders/qc/mckg6k9d38ngx5rhh3c9fbpr0000gp/T/ipykernel_19543/2274303558.py:20: RuntimeWarning: Channel names are not unique, found duplicates for: {'T8-P8'}. Applying running numbers for duplicates.\n",
      "  raw = mne.io.read_raw_edf(file_path, preload=True)\n"
     ]
    },
    {
     "name": "stdout",
     "output_type": "stream",
     "text": [
      "Extracting EDF parameters from /Users/Samet/Documents/Bildung/BootcampSpiced/github_rice_regression/Capstone_project/chb-mit-scalp-eeg-database-1.0.0/chb01/chb01_04.edf...\n",
      "EDF file detected\n",
      "Setting channel info structure...\n",
      "Creating raw.info structure...\n",
      "Reading 0 ... 921599  =      0.000 ...  3599.996 secs...\n"
     ]
    },
    {
     "name": "stderr",
     "output_type": "stream",
     "text": [
      "/var/folders/qc/mckg6k9d38ngx5rhh3c9fbpr0000gp/T/ipykernel_19543/2274303558.py:20: RuntimeWarning: Channel names are not unique, found duplicates for: {'T8-P8'}. Applying running numbers for duplicates.\n",
      "  raw = mne.io.read_raw_edf(file_path, preload=True)\n"
     ]
    },
    {
     "name": "stdout",
     "output_type": "stream",
     "text": [
      "Extracting EDF parameters from /Users/Samet/Documents/Bildung/BootcampSpiced/github_rice_regression/Capstone_project/chb-mit-scalp-eeg-database-1.0.0/chb01/chb01_05.edf...\n",
      "EDF file detected\n",
      "Setting channel info structure...\n",
      "Creating raw.info structure...\n",
      "Reading 0 ... 921599  =      0.000 ...  3599.996 secs...\n"
     ]
    },
    {
     "name": "stderr",
     "output_type": "stream",
     "text": [
      "/var/folders/qc/mckg6k9d38ngx5rhh3c9fbpr0000gp/T/ipykernel_19543/2274303558.py:20: RuntimeWarning: Channel names are not unique, found duplicates for: {'T8-P8'}. Applying running numbers for duplicates.\n",
      "  raw = mne.io.read_raw_edf(file_path, preload=True)\n"
     ]
    },
    {
     "name": "stdout",
     "output_type": "stream",
     "text": [
      "Extracting EDF parameters from /Users/Samet/Documents/Bildung/BootcampSpiced/github_rice_regression/Capstone_project/chb-mit-scalp-eeg-database-1.0.0/chb01/chb01_06.edf...\n",
      "EDF file detected\n",
      "Setting channel info structure...\n",
      "Creating raw.info structure...\n",
      "Reading 0 ... 921599  =      0.000 ...  3599.996 secs...\n"
     ]
    },
    {
     "name": "stderr",
     "output_type": "stream",
     "text": [
      "/var/folders/qc/mckg6k9d38ngx5rhh3c9fbpr0000gp/T/ipykernel_19543/2274303558.py:20: RuntimeWarning: Channel names are not unique, found duplicates for: {'T8-P8'}. Applying running numbers for duplicates.\n",
      "  raw = mne.io.read_raw_edf(file_path, preload=True)\n"
     ]
    },
    {
     "name": "stdout",
     "output_type": "stream",
     "text": [
      "Extracting EDF parameters from /Users/Samet/Documents/Bildung/BootcampSpiced/github_rice_regression/Capstone_project/chb-mit-scalp-eeg-database-1.0.0/chb01/chb01_07.edf...\n",
      "EDF file detected\n",
      "Setting channel info structure...\n",
      "Creating raw.info structure...\n",
      "Reading 0 ... 921599  =      0.000 ...  3599.996 secs...\n"
     ]
    },
    {
     "name": "stderr",
     "output_type": "stream",
     "text": [
      "/var/folders/qc/mckg6k9d38ngx5rhh3c9fbpr0000gp/T/ipykernel_19543/2274303558.py:20: RuntimeWarning: Channel names are not unique, found duplicates for: {'T8-P8'}. Applying running numbers for duplicates.\n",
      "  raw = mne.io.read_raw_edf(file_path, preload=True)\n"
     ]
    },
    {
     "name": "stdout",
     "output_type": "stream",
     "text": [
      "Extracting EDF parameters from /Users/Samet/Documents/Bildung/BootcampSpiced/github_rice_regression/Capstone_project/chb-mit-scalp-eeg-database-1.0.0/chb01/chb01_08.edf...\n",
      "EDF file detected\n",
      "Setting channel info structure...\n",
      "Creating raw.info structure...\n",
      "Reading 0 ... 921599  =      0.000 ...  3599.996 secs...\n"
     ]
    },
    {
     "name": "stderr",
     "output_type": "stream",
     "text": [
      "/var/folders/qc/mckg6k9d38ngx5rhh3c9fbpr0000gp/T/ipykernel_19543/2274303558.py:20: RuntimeWarning: Channel names are not unique, found duplicates for: {'T8-P8'}. Applying running numbers for duplicates.\n",
      "  raw = mne.io.read_raw_edf(file_path, preload=True)\n"
     ]
    },
    {
     "name": "stdout",
     "output_type": "stream",
     "text": [
      "Extracting EDF parameters from /Users/Samet/Documents/Bildung/BootcampSpiced/github_rice_regression/Capstone_project/chb-mit-scalp-eeg-database-1.0.0/chb01/chb01_09.edf...\n",
      "EDF file detected\n",
      "Setting channel info structure...\n",
      "Creating raw.info structure...\n",
      "Reading 0 ... 921599  =      0.000 ...  3599.996 secs...\n"
     ]
    },
    {
     "name": "stderr",
     "output_type": "stream",
     "text": [
      "/var/folders/qc/mckg6k9d38ngx5rhh3c9fbpr0000gp/T/ipykernel_19543/2274303558.py:20: RuntimeWarning: Channel names are not unique, found duplicates for: {'T8-P8'}. Applying running numbers for duplicates.\n",
      "  raw = mne.io.read_raw_edf(file_path, preload=True)\n"
     ]
    },
    {
     "name": "stdout",
     "output_type": "stream",
     "text": [
      "Extracting EDF parameters from /Users/Samet/Documents/Bildung/BootcampSpiced/github_rice_regression/Capstone_project/chb-mit-scalp-eeg-database-1.0.0/chb01/chb01_10.edf...\n",
      "EDF file detected\n",
      "Setting channel info structure...\n",
      "Creating raw.info structure...\n",
      "Reading 0 ... 921599  =      0.000 ...  3599.996 secs...\n"
     ]
    },
    {
     "name": "stderr",
     "output_type": "stream",
     "text": [
      "/var/folders/qc/mckg6k9d38ngx5rhh3c9fbpr0000gp/T/ipykernel_19543/2274303558.py:20: RuntimeWarning: Channel names are not unique, found duplicates for: {'T8-P8'}. Applying running numbers for duplicates.\n",
      "  raw = mne.io.read_raw_edf(file_path, preload=True)\n"
     ]
    },
    {
     "name": "stdout",
     "output_type": "stream",
     "text": [
      "Extracting EDF parameters from /Users/Samet/Documents/Bildung/BootcampSpiced/github_rice_regression/Capstone_project/chb-mit-scalp-eeg-database-1.0.0/chb01/chb01_11.edf...\n",
      "EDF file detected\n",
      "Setting channel info structure...\n",
      "Creating raw.info structure...\n",
      "Reading 0 ... 921599  =      0.000 ...  3599.996 secs...\n"
     ]
    },
    {
     "name": "stderr",
     "output_type": "stream",
     "text": [
      "/var/folders/qc/mckg6k9d38ngx5rhh3c9fbpr0000gp/T/ipykernel_19543/2274303558.py:20: RuntimeWarning: Channel names are not unique, found duplicates for: {'T8-P8'}. Applying running numbers for duplicates.\n",
      "  raw = mne.io.read_raw_edf(file_path, preload=True)\n"
     ]
    },
    {
     "name": "stdout",
     "output_type": "stream",
     "text": [
      "Extracting EDF parameters from /Users/Samet/Documents/Bildung/BootcampSpiced/github_rice_regression/Capstone_project/chb-mit-scalp-eeg-database-1.0.0/chb01/chb01_12.edf...\n",
      "EDF file detected\n",
      "Setting channel info structure...\n",
      "Creating raw.info structure...\n",
      "Reading 0 ... 921599  =      0.000 ...  3599.996 secs...\n"
     ]
    },
    {
     "name": "stderr",
     "output_type": "stream",
     "text": [
      "/var/folders/qc/mckg6k9d38ngx5rhh3c9fbpr0000gp/T/ipykernel_19543/2274303558.py:20: RuntimeWarning: Channel names are not unique, found duplicates for: {'T8-P8'}. Applying running numbers for duplicates.\n",
      "  raw = mne.io.read_raw_edf(file_path, preload=True)\n"
     ]
    },
    {
     "name": "stdout",
     "output_type": "stream",
     "text": [
      "Extracting EDF parameters from /Users/Samet/Documents/Bildung/BootcampSpiced/github_rice_regression/Capstone_project/chb-mit-scalp-eeg-database-1.0.0/chb01/chb01_13.edf...\n",
      "EDF file detected\n",
      "Setting channel info structure...\n",
      "Creating raw.info structure...\n",
      "Reading 0 ... 921599  =      0.000 ...  3599.996 secs...\n"
     ]
    },
    {
     "name": "stderr",
     "output_type": "stream",
     "text": [
      "/var/folders/qc/mckg6k9d38ngx5rhh3c9fbpr0000gp/T/ipykernel_19543/2274303558.py:20: RuntimeWarning: Channel names are not unique, found duplicates for: {'T8-P8'}. Applying running numbers for duplicates.\n",
      "  raw = mne.io.read_raw_edf(file_path, preload=True)\n"
     ]
    },
    {
     "name": "stdout",
     "output_type": "stream",
     "text": [
      "Extracting EDF parameters from /Users/Samet/Documents/Bildung/BootcampSpiced/github_rice_regression/Capstone_project/chb-mit-scalp-eeg-database-1.0.0/chb01/chb01_14.edf...\n",
      "EDF file detected\n",
      "Setting channel info structure...\n",
      "Creating raw.info structure...\n",
      "Reading 0 ... 921599  =      0.000 ...  3599.996 secs...\n"
     ]
    },
    {
     "name": "stderr",
     "output_type": "stream",
     "text": [
      "/var/folders/qc/mckg6k9d38ngx5rhh3c9fbpr0000gp/T/ipykernel_19543/2274303558.py:20: RuntimeWarning: Channel names are not unique, found duplicates for: {'T8-P8'}. Applying running numbers for duplicates.\n",
      "  raw = mne.io.read_raw_edf(file_path, preload=True)\n"
     ]
    },
    {
     "name": "stdout",
     "output_type": "stream",
     "text": [
      "Extracting EDF parameters from /Users/Samet/Documents/Bildung/BootcampSpiced/github_rice_regression/Capstone_project/chb-mit-scalp-eeg-database-1.0.0/chb01/chb01_15.edf...\n",
      "EDF file detected\n",
      "Setting channel info structure...\n",
      "Creating raw.info structure...\n",
      "Reading 0 ... 921599  =      0.000 ...  3599.996 secs...\n"
     ]
    },
    {
     "name": "stderr",
     "output_type": "stream",
     "text": [
      "/var/folders/qc/mckg6k9d38ngx5rhh3c9fbpr0000gp/T/ipykernel_19543/2274303558.py:20: RuntimeWarning: Channel names are not unique, found duplicates for: {'T8-P8'}. Applying running numbers for duplicates.\n",
      "  raw = mne.io.read_raw_edf(file_path, preload=True)\n"
     ]
    },
    {
     "name": "stdout",
     "output_type": "stream",
     "text": [
      "Extracting EDF parameters from /Users/Samet/Documents/Bildung/BootcampSpiced/github_rice_regression/Capstone_project/chb-mit-scalp-eeg-database-1.0.0/chb01/chb01_16.edf...\n",
      "EDF file detected\n",
      "Setting channel info structure...\n",
      "Creating raw.info structure...\n",
      "Reading 0 ... 921599  =      0.000 ...  3599.996 secs...\n"
     ]
    },
    {
     "name": "stderr",
     "output_type": "stream",
     "text": [
      "/var/folders/qc/mckg6k9d38ngx5rhh3c9fbpr0000gp/T/ipykernel_19543/2274303558.py:20: RuntimeWarning: Channel names are not unique, found duplicates for: {'T8-P8'}. Applying running numbers for duplicates.\n",
      "  raw = mne.io.read_raw_edf(file_path, preload=True)\n"
     ]
    },
    {
     "name": "stdout",
     "output_type": "stream",
     "text": [
      "Extracting EDF parameters from /Users/Samet/Documents/Bildung/BootcampSpiced/github_rice_regression/Capstone_project/chb-mit-scalp-eeg-database-1.0.0/chb01/chb01_17.edf...\n",
      "EDF file detected\n",
      "Setting channel info structure...\n",
      "Creating raw.info structure...\n",
      "Reading 0 ... 921599  =      0.000 ...  3599.996 secs...\n"
     ]
    },
    {
     "name": "stderr",
     "output_type": "stream",
     "text": [
      "/var/folders/qc/mckg6k9d38ngx5rhh3c9fbpr0000gp/T/ipykernel_19543/2274303558.py:20: RuntimeWarning: Channel names are not unique, found duplicates for: {'T8-P8'}. Applying running numbers for duplicates.\n",
      "  raw = mne.io.read_raw_edf(file_path, preload=True)\n"
     ]
    },
    {
     "name": "stdout",
     "output_type": "stream",
     "text": [
      "Extracting EDF parameters from /Users/Samet/Documents/Bildung/BootcampSpiced/github_rice_regression/Capstone_project/chb-mit-scalp-eeg-database-1.0.0/chb01/chb01_18.edf...\n",
      "EDF file detected\n",
      "Setting channel info structure...\n",
      "Creating raw.info structure...\n",
      "Reading 0 ... 921599  =      0.000 ...  3599.996 secs...\n"
     ]
    },
    {
     "name": "stderr",
     "output_type": "stream",
     "text": [
      "/var/folders/qc/mckg6k9d38ngx5rhh3c9fbpr0000gp/T/ipykernel_19543/2274303558.py:20: RuntimeWarning: Channel names are not unique, found duplicates for: {'T8-P8'}. Applying running numbers for duplicates.\n",
      "  raw = mne.io.read_raw_edf(file_path, preload=True)\n"
     ]
    },
    {
     "name": "stdout",
     "output_type": "stream",
     "text": [
      "Extracting EDF parameters from /Users/Samet/Documents/Bildung/BootcampSpiced/github_rice_regression/Capstone_project/chb-mit-scalp-eeg-database-1.0.0/chb01/chb01_19.edf...\n",
      "EDF file detected\n",
      "Setting channel info structure...\n",
      "Creating raw.info structure...\n",
      "Reading 0 ... 921599  =      0.000 ...  3599.996 secs...\n"
     ]
    },
    {
     "name": "stderr",
     "output_type": "stream",
     "text": [
      "/var/folders/qc/mckg6k9d38ngx5rhh3c9fbpr0000gp/T/ipykernel_19543/2274303558.py:20: RuntimeWarning: Channel names are not unique, found duplicates for: {'T8-P8'}. Applying running numbers for duplicates.\n",
      "  raw = mne.io.read_raw_edf(file_path, preload=True)\n"
     ]
    },
    {
     "name": "stdout",
     "output_type": "stream",
     "text": [
      "Extracting EDF parameters from /Users/Samet/Documents/Bildung/BootcampSpiced/github_rice_regression/Capstone_project/chb-mit-scalp-eeg-database-1.0.0/chb01/chb01_20.edf...\n",
      "EDF file detected\n",
      "Setting channel info structure...\n",
      "Creating raw.info structure...\n",
      "Reading 0 ... 681727  =      0.000 ...  2662.996 secs...\n"
     ]
    },
    {
     "name": "stderr",
     "output_type": "stream",
     "text": [
      "/var/folders/qc/mckg6k9d38ngx5rhh3c9fbpr0000gp/T/ipykernel_19543/2274303558.py:20: RuntimeWarning: Channel names are not unique, found duplicates for: {'T8-P8'}. Applying running numbers for duplicates.\n",
      "  raw = mne.io.read_raw_edf(file_path, preload=True)\n"
     ]
    },
    {
     "name": "stdout",
     "output_type": "stream",
     "text": [
      "Extracting EDF parameters from /Users/Samet/Documents/Bildung/BootcampSpiced/github_rice_regression/Capstone_project/chb-mit-scalp-eeg-database-1.0.0/chb01/chb01_21.edf...\n",
      "EDF file detected\n",
      "Setting channel info structure...\n",
      "Creating raw.info structure...\n",
      "Reading 0 ... 921599  =      0.000 ...  3599.996 secs...\n"
     ]
    },
    {
     "name": "stderr",
     "output_type": "stream",
     "text": [
      "/var/folders/qc/mckg6k9d38ngx5rhh3c9fbpr0000gp/T/ipykernel_19543/2274303558.py:20: RuntimeWarning: Channel names are not unique, found duplicates for: {'T8-P8'}. Applying running numbers for duplicates.\n",
      "  raw = mne.io.read_raw_edf(file_path, preload=True)\n"
     ]
    },
    {
     "name": "stdout",
     "output_type": "stream",
     "text": [
      "Extracting EDF parameters from /Users/Samet/Documents/Bildung/BootcampSpiced/github_rice_regression/Capstone_project/chb-mit-scalp-eeg-database-1.0.0/chb01/chb01_22.edf...\n",
      "EDF file detected\n",
      "Setting channel info structure...\n",
      "Creating raw.info structure...\n"
     ]
    },
    {
     "name": "stderr",
     "output_type": "stream",
     "text": [
      "/var/folders/qc/mckg6k9d38ngx5rhh3c9fbpr0000gp/T/ipykernel_19543/2274303558.py:20: RuntimeWarning: Channel names are not unique, found duplicates for: {'T8-P8'}. Applying running numbers for duplicates.\n",
      "  raw = mne.io.read_raw_edf(file_path, preload=True)\n"
     ]
    },
    {
     "name": "stdout",
     "output_type": "stream",
     "text": [
      "Reading 0 ... 921599  =      0.000 ...  3599.996 secs...\n",
      "Extracting EDF parameters from /Users/Samet/Documents/Bildung/BootcampSpiced/github_rice_regression/Capstone_project/chb-mit-scalp-eeg-database-1.0.0/chb01/chb01_23.edf...\n",
      "EDF file detected\n",
      "Setting channel info structure...\n",
      "Creating raw.info structure...\n",
      "Reading 0 ... 921599  =      0.000 ...  3599.996 secs...\n"
     ]
    },
    {
     "name": "stderr",
     "output_type": "stream",
     "text": [
      "/var/folders/qc/mckg6k9d38ngx5rhh3c9fbpr0000gp/T/ipykernel_19543/2274303558.py:20: RuntimeWarning: Channel names are not unique, found duplicates for: {'T8-P8'}. Applying running numbers for duplicates.\n",
      "  raw = mne.io.read_raw_edf(file_path, preload=True)\n"
     ]
    },
    {
     "name": "stdout",
     "output_type": "stream",
     "text": [
      "Extracting EDF parameters from /Users/Samet/Documents/Bildung/BootcampSpiced/github_rice_regression/Capstone_project/chb-mit-scalp-eeg-database-1.0.0/chb01/chb01_24.edf...\n",
      "EDF file detected\n",
      "Setting channel info structure...\n",
      "Creating raw.info structure...\n",
      "Reading 0 ... 921599  =      0.000 ...  3599.996 secs...\n"
     ]
    },
    {
     "name": "stderr",
     "output_type": "stream",
     "text": [
      "/var/folders/qc/mckg6k9d38ngx5rhh3c9fbpr0000gp/T/ipykernel_19543/2274303558.py:20: RuntimeWarning: Channel names are not unique, found duplicates for: {'T8-P8'}. Applying running numbers for duplicates.\n",
      "  raw = mne.io.read_raw_edf(file_path, preload=True)\n"
     ]
    },
    {
     "name": "stdout",
     "output_type": "stream",
     "text": [
      "Extracting EDF parameters from /Users/Samet/Documents/Bildung/BootcampSpiced/github_rice_regression/Capstone_project/chb-mit-scalp-eeg-database-1.0.0/chb01/chb01_25.edf...\n",
      "EDF file detected\n",
      "Setting channel info structure...\n",
      "Creating raw.info structure...\n",
      "Reading 0 ... 921599  =      0.000 ...  3599.996 secs...\n"
     ]
    },
    {
     "name": "stderr",
     "output_type": "stream",
     "text": [
      "/var/folders/qc/mckg6k9d38ngx5rhh3c9fbpr0000gp/T/ipykernel_19543/2274303558.py:20: RuntimeWarning: Channel names are not unique, found duplicates for: {'T8-P8'}. Applying running numbers for duplicates.\n",
      "  raw = mne.io.read_raw_edf(file_path, preload=True)\n"
     ]
    },
    {
     "name": "stdout",
     "output_type": "stream",
     "text": [
      "Extracting EDF parameters from /Users/Samet/Documents/Bildung/BootcampSpiced/github_rice_regression/Capstone_project/chb-mit-scalp-eeg-database-1.0.0/chb01/chb01_26.edf...\n",
      "EDF file detected\n",
      "Setting channel info structure...\n",
      "Creating raw.info structure...\n",
      "Reading 0 ... 595199  =      0.000 ...  2324.996 secs...\n"
     ]
    },
    {
     "name": "stderr",
     "output_type": "stream",
     "text": [
      "/var/folders/qc/mckg6k9d38ngx5rhh3c9fbpr0000gp/T/ipykernel_19543/2274303558.py:20: RuntimeWarning: Channel names are not unique, found duplicates for: {'T8-P8'}. Applying running numbers for duplicates.\n",
      "  raw = mne.io.read_raw_edf(file_path, preload=True)\n"
     ]
    },
    {
     "name": "stdout",
     "output_type": "stream",
     "text": [
      "Extracting EDF parameters from /Users/Samet/Documents/Bildung/BootcampSpiced/github_rice_regression/Capstone_project/chb-mit-scalp-eeg-database-1.0.0/chb01/chb01_27.edf...\n",
      "EDF file detected\n",
      "Setting channel info structure...\n",
      "Creating raw.info structure...\n",
      "Reading 0 ... 153599  =      0.000 ...   599.996 secs...\n"
     ]
    },
    {
     "name": "stderr",
     "output_type": "stream",
     "text": [
      "/var/folders/qc/mckg6k9d38ngx5rhh3c9fbpr0000gp/T/ipykernel_19543/2274303558.py:20: RuntimeWarning: Channel names are not unique, found duplicates for: {'T8-P8'}. Applying running numbers for duplicates.\n",
      "  raw = mne.io.read_raw_edf(file_path, preload=True)\n"
     ]
    },
    {
     "name": "stdout",
     "output_type": "stream",
     "text": [
      "Extracting EDF parameters from /Users/Samet/Documents/Bildung/BootcampSpiced/github_rice_regression/Capstone_project/chb-mit-scalp-eeg-database-1.0.0/chb01/chb01_29.edf...\n",
      "EDF file detected\n",
      "Setting channel info structure...\n",
      "Creating raw.info structure...\n",
      "Reading 0 ... 921599  =      0.000 ...  3599.996 secs...\n"
     ]
    },
    {
     "name": "stderr",
     "output_type": "stream",
     "text": [
      "/var/folders/qc/mckg6k9d38ngx5rhh3c9fbpr0000gp/T/ipykernel_19543/2274303558.py:20: RuntimeWarning: Channel names are not unique, found duplicates for: {'T8-P8'}. Applying running numbers for duplicates.\n",
      "  raw = mne.io.read_raw_edf(file_path, preload=True)\n"
     ]
    },
    {
     "name": "stdout",
     "output_type": "stream",
     "text": [
      "Extracting EDF parameters from /Users/Samet/Documents/Bildung/BootcampSpiced/github_rice_regression/Capstone_project/chb-mit-scalp-eeg-database-1.0.0/chb01/chb01_30.edf...\n",
      "EDF file detected\n",
      "Setting channel info structure...\n",
      "Creating raw.info structure...\n",
      "Reading 0 ... 921599  =      0.000 ...  3599.996 secs...\n"
     ]
    },
    {
     "name": "stderr",
     "output_type": "stream",
     "text": [
      "/var/folders/qc/mckg6k9d38ngx5rhh3c9fbpr0000gp/T/ipykernel_19543/2274303558.py:20: RuntimeWarning: Channel names are not unique, found duplicates for: {'T8-P8'}. Applying running numbers for duplicates.\n",
      "  raw = mne.io.read_raw_edf(file_path, preload=True)\n"
     ]
    },
    {
     "name": "stdout",
     "output_type": "stream",
     "text": [
      "Extracting EDF parameters from /Users/Samet/Documents/Bildung/BootcampSpiced/github_rice_regression/Capstone_project/chb-mit-scalp-eeg-database-1.0.0/chb01/chb01_31.edf...\n",
      "EDF file detected\n",
      "Setting channel info structure...\n",
      "Creating raw.info structure...\n",
      "Reading 0 ... 921599  =      0.000 ...  3599.996 secs...\n"
     ]
    },
    {
     "name": "stderr",
     "output_type": "stream",
     "text": [
      "/var/folders/qc/mckg6k9d38ngx5rhh3c9fbpr0000gp/T/ipykernel_19543/2274303558.py:20: RuntimeWarning: Channel names are not unique, found duplicates for: {'T8-P8'}. Applying running numbers for duplicates.\n",
      "  raw = mne.io.read_raw_edf(file_path, preload=True)\n"
     ]
    },
    {
     "name": "stdout",
     "output_type": "stream",
     "text": [
      "Extracting EDF parameters from /Users/Samet/Documents/Bildung/BootcampSpiced/github_rice_regression/Capstone_project/chb-mit-scalp-eeg-database-1.0.0/chb01/chb01_32.edf...\n",
      "EDF file detected\n",
      "Setting channel info structure...\n",
      "Creating raw.info structure...\n",
      "Reading 0 ... 921599  =      0.000 ...  3599.996 secs...\n"
     ]
    },
    {
     "name": "stderr",
     "output_type": "stream",
     "text": [
      "/var/folders/qc/mckg6k9d38ngx5rhh3c9fbpr0000gp/T/ipykernel_19543/2274303558.py:20: RuntimeWarning: Channel names are not unique, found duplicates for: {'T8-P8'}. Applying running numbers for duplicates.\n",
      "  raw = mne.io.read_raw_edf(file_path, preload=True)\n"
     ]
    },
    {
     "name": "stdout",
     "output_type": "stream",
     "text": [
      "Extracting EDF parameters from /Users/Samet/Documents/Bildung/BootcampSpiced/github_rice_regression/Capstone_project/chb-mit-scalp-eeg-database-1.0.0/chb01/chb01_33.edf...\n",
      "EDF file detected\n",
      "Setting channel info structure...\n",
      "Creating raw.info structure...\n",
      "Reading 0 ... 921599  =      0.000 ...  3599.996 secs...\n"
     ]
    },
    {
     "name": "stderr",
     "output_type": "stream",
     "text": [
      "/var/folders/qc/mckg6k9d38ngx5rhh3c9fbpr0000gp/T/ipykernel_19543/2274303558.py:20: RuntimeWarning: Channel names are not unique, found duplicates for: {'T8-P8'}. Applying running numbers for duplicates.\n",
      "  raw = mne.io.read_raw_edf(file_path, preload=True)\n"
     ]
    },
    {
     "name": "stdout",
     "output_type": "stream",
     "text": [
      "Extracting EDF parameters from /Users/Samet/Documents/Bildung/BootcampSpiced/github_rice_regression/Capstone_project/chb-mit-scalp-eeg-database-1.0.0/chb01/chb01_34.edf...\n",
      "EDF file detected\n",
      "Setting channel info structure...\n",
      "Creating raw.info structure...\n",
      "Reading 0 ... 921599  =      0.000 ...  3599.996 secs...\n"
     ]
    },
    {
     "name": "stderr",
     "output_type": "stream",
     "text": [
      "/var/folders/qc/mckg6k9d38ngx5rhh3c9fbpr0000gp/T/ipykernel_19543/2274303558.py:20: RuntimeWarning: Channel names are not unique, found duplicates for: {'T8-P8'}. Applying running numbers for duplicates.\n",
      "  raw = mne.io.read_raw_edf(file_path, preload=True)\n"
     ]
    },
    {
     "name": "stdout",
     "output_type": "stream",
     "text": [
      "Extracting EDF parameters from /Users/Samet/Documents/Bildung/BootcampSpiced/github_rice_regression/Capstone_project/chb-mit-scalp-eeg-database-1.0.0/chb01/chb01_36.edf...\n",
      "EDF file detected\n",
      "Setting channel info structure...\n",
      "Creating raw.info structure...\n",
      "Reading 0 ... 921599  =      0.000 ...  3599.996 secs...\n"
     ]
    },
    {
     "name": "stderr",
     "output_type": "stream",
     "text": [
      "/var/folders/qc/mckg6k9d38ngx5rhh3c9fbpr0000gp/T/ipykernel_19543/2274303558.py:20: RuntimeWarning: Channel names are not unique, found duplicates for: {'T8-P8'}. Applying running numbers for duplicates.\n",
      "  raw = mne.io.read_raw_edf(file_path, preload=True)\n"
     ]
    },
    {
     "name": "stdout",
     "output_type": "stream",
     "text": [
      "Extracting EDF parameters from /Users/Samet/Documents/Bildung/BootcampSpiced/github_rice_regression/Capstone_project/chb-mit-scalp-eeg-database-1.0.0/chb01/chb01_37.edf...\n",
      "EDF file detected\n",
      "Setting channel info structure...\n",
      "Creating raw.info structure...\n",
      "Reading 0 ... 921599  =      0.000 ...  3599.996 secs...\n"
     ]
    },
    {
     "name": "stderr",
     "output_type": "stream",
     "text": [
      "/var/folders/qc/mckg6k9d38ngx5rhh3c9fbpr0000gp/T/ipykernel_19543/2274303558.py:20: RuntimeWarning: Channel names are not unique, found duplicates for: {'T8-P8'}. Applying running numbers for duplicates.\n",
      "  raw = mne.io.read_raw_edf(file_path, preload=True)\n"
     ]
    },
    {
     "name": "stdout",
     "output_type": "stream",
     "text": [
      "Extracting EDF parameters from /Users/Samet/Documents/Bildung/BootcampSpiced/github_rice_regression/Capstone_project/chb-mit-scalp-eeg-database-1.0.0/chb01/chb01_38.edf...\n",
      "EDF file detected\n",
      "Setting channel info structure...\n",
      "Creating raw.info structure...\n",
      "Reading 0 ... 921599  =      0.000 ...  3599.996 secs...\n"
     ]
    },
    {
     "name": "stderr",
     "output_type": "stream",
     "text": [
      "/var/folders/qc/mckg6k9d38ngx5rhh3c9fbpr0000gp/T/ipykernel_19543/2274303558.py:20: RuntimeWarning: Channel names are not unique, found duplicates for: {'T8-P8'}. Applying running numbers for duplicates.\n",
      "  raw = mne.io.read_raw_edf(file_path, preload=True)\n"
     ]
    },
    {
     "name": "stdout",
     "output_type": "stream",
     "text": [
      "Extracting EDF parameters from /Users/Samet/Documents/Bildung/BootcampSpiced/github_rice_regression/Capstone_project/chb-mit-scalp-eeg-database-1.0.0/chb01/chb01_39.edf...\n",
      "EDF file detected\n",
      "Setting channel info structure...\n",
      "Creating raw.info structure...\n",
      "Reading 0 ... 921599  =      0.000 ...  3599.996 secs...\n"
     ]
    },
    {
     "name": "stderr",
     "output_type": "stream",
     "text": [
      "/var/folders/qc/mckg6k9d38ngx5rhh3c9fbpr0000gp/T/ipykernel_19543/2274303558.py:20: RuntimeWarning: Channel names are not unique, found duplicates for: {'T8-P8'}. Applying running numbers for duplicates.\n",
      "  raw = mne.io.read_raw_edf(file_path, preload=True)\n"
     ]
    },
    {
     "name": "stdout",
     "output_type": "stream",
     "text": [
      "Extracting EDF parameters from /Users/Samet/Documents/Bildung/BootcampSpiced/github_rice_regression/Capstone_project/chb-mit-scalp-eeg-database-1.0.0/chb01/chb01_40.edf...\n",
      "EDF file detected\n",
      "Setting channel info structure...\n",
      "Creating raw.info structure...\n",
      "Reading 0 ... 921599  =      0.000 ...  3599.996 secs...\n"
     ]
    },
    {
     "name": "stderr",
     "output_type": "stream",
     "text": [
      "/var/folders/qc/mckg6k9d38ngx5rhh3c9fbpr0000gp/T/ipykernel_19543/2274303558.py:20: RuntimeWarning: Channel names are not unique, found duplicates for: {'T8-P8'}. Applying running numbers for duplicates.\n",
      "  raw = mne.io.read_raw_edf(file_path, preload=True)\n"
     ]
    },
    {
     "name": "stdout",
     "output_type": "stream",
     "text": [
      "Extracting EDF parameters from /Users/Samet/Documents/Bildung/BootcampSpiced/github_rice_regression/Capstone_project/chb-mit-scalp-eeg-database-1.0.0/chb01/chb01_41.edf...\n",
      "EDF file detected\n",
      "Setting channel info structure...\n",
      "Creating raw.info structure...\n",
      "Reading 0 ... 921599  =      0.000 ...  3599.996 secs...\n"
     ]
    },
    {
     "name": "stderr",
     "output_type": "stream",
     "text": [
      "/var/folders/qc/mckg6k9d38ngx5rhh3c9fbpr0000gp/T/ipykernel_19543/2274303558.py:20: RuntimeWarning: Channel names are not unique, found duplicates for: {'T8-P8'}. Applying running numbers for duplicates.\n",
      "  raw = mne.io.read_raw_edf(file_path, preload=True)\n"
     ]
    },
    {
     "name": "stdout",
     "output_type": "stream",
     "text": [
      "Extracting EDF parameters from /Users/Samet/Documents/Bildung/BootcampSpiced/github_rice_regression/Capstone_project/chb-mit-scalp-eeg-database-1.0.0/chb01/chb01_42.edf...\n",
      "EDF file detected\n",
      "Setting channel info structure...\n",
      "Creating raw.info structure...\n",
      "Reading 0 ... 921599  =      0.000 ...  3599.996 secs...\n"
     ]
    },
    {
     "name": "stderr",
     "output_type": "stream",
     "text": [
      "/var/folders/qc/mckg6k9d38ngx5rhh3c9fbpr0000gp/T/ipykernel_19543/2274303558.py:20: RuntimeWarning: Channel names are not unique, found duplicates for: {'T8-P8'}. Applying running numbers for duplicates.\n",
      "  raw = mne.io.read_raw_edf(file_path, preload=True)\n"
     ]
    },
    {
     "name": "stdout",
     "output_type": "stream",
     "text": [
      "Extracting EDF parameters from /Users/Samet/Documents/Bildung/BootcampSpiced/github_rice_regression/Capstone_project/chb-mit-scalp-eeg-database-1.0.0/chb01/chb01_43.edf...\n",
      "EDF file detected\n",
      "Setting channel info structure...\n",
      "Creating raw.info structure...\n",
      "Reading 0 ... 921599  =      0.000 ...  3599.996 secs...\n"
     ]
    },
    {
     "name": "stderr",
     "output_type": "stream",
     "text": [
      "/var/folders/qc/mckg6k9d38ngx5rhh3c9fbpr0000gp/T/ipykernel_19543/2274303558.py:20: RuntimeWarning: Channel names are not unique, found duplicates for: {'T8-P8'}. Applying running numbers for duplicates.\n",
      "  raw = mne.io.read_raw_edf(file_path, preload=True)\n"
     ]
    },
    {
     "name": "stdout",
     "output_type": "stream",
     "text": [
      "Extracting EDF parameters from /Users/Samet/Documents/Bildung/BootcampSpiced/github_rice_regression/Capstone_project/chb-mit-scalp-eeg-database-1.0.0/chb01/chb01_46.edf...\n",
      "EDF file detected\n",
      "Setting channel info structure...\n",
      "Creating raw.info structure...\n",
      "Reading 0 ... 921599  =      0.000 ...  3599.996 secs...\n"
     ]
    },
    {
     "name": "stderr",
     "output_type": "stream",
     "text": [
      "/var/folders/qc/mckg6k9d38ngx5rhh3c9fbpr0000gp/T/ipykernel_19543/2274303558.py:20: RuntimeWarning: Channel names are not unique, found duplicates for: {'T8-P8'}. Applying running numbers for duplicates.\n",
      "  raw = mne.io.read_raw_edf(file_path, preload=True)\n"
     ]
    },
    {
     "name": "stdout",
     "output_type": "stream",
     "text": [
      "<Info | 8 non-empty values\n",
      " bads: []\n",
      " ch_names: FP1-F7, F7-T7, T7-P7, P7-O1, FP1-F3, F3-C3, C3-P3, P3-O1, ...\n",
      " chs: 23 EEG\n",
      " custom_ref_applied: False\n",
      " highpass: 0.0 Hz\n",
      " lowpass: 128.0 Hz\n",
      " meas_date: 2076-11-06 11:42:54 UTC\n",
      " nchan: 23\n",
      " projs: []\n",
      " sfreq: 256.0 Hz\n",
      " subject_info: 1 item (dict)\n",
      ">\n"
     ]
    }
   ],
   "source": [
    "# Set the path to the patient folder\n",
    "patient_folder = '/Users/Samet/Documents/Bildung/BootcampSpiced/github_rice_regression/Capstone_project/chb-mit-scalp-eeg-database-1.0.0/chb01'\n",
    "\n",
    "# Create an empty list to store raw data\n",
    "patient_raws = []\n",
    "\n",
    "# Create an empty list to store file names\n",
    "file_names = []\n",
    "\n",
    "# Get a list of .edf files sorted by filename numbers\n",
    "edf_files = sorted([f for f in os.listdir(patient_folder) if f.endswith('.edf')])\n",
    "\n",
    "# Read the first .edf file to obtain the channel information\n",
    "first_file_path = os.path.join(patient_folder, edf_files[0])\n",
    "first_raw = mne.io.read_raw_edf(first_file_path, preload=True)\n",
    "\n",
    "# Loop through the sorted .edf files\n",
    "for file in edf_files:\n",
    "    file_path = os.path.join(patient_folder, file)\n",
    "    raw = mne.io.read_raw_edf(file_path, preload=True)\n",
    "    raw_downsampled = raw.copy().resample(sfreq=128)\n",
    "    \n",
    "\n",
    "    # Set the channel information for each Raw object to match the first Raw object\n",
    "    raw_downsampled.info = first_raw.info\n",
    "\n",
    "    patient_raws.append(raw_downsampled)\n",
    "    file_names.extend([file] * len(raw_downsampled.times))\n",
    "\n",
    "# Concatenate the raw objects into a single patient_combined object while maintaining a continuous time axis\n",
    "patient_combined = mne.concatenate_raws(patient_raws, preload=True)\n",
    "\n",
    "\n",
    "# Print info about the combined raw object for this patient\n",
    "print(patient_combined.info)\n",
    "\n",
    "# You now have the EEG data from the .edf files in the patient folder in one patient_combined object with a continuous time axis.\n"
   ]
  },
  {
   "cell_type": "code",
   "execution_count": 14,
   "metadata": {},
   "outputs": [],
   "source": [
    "df = patient_combined.to_data_frame()\n",
    "# Add a new column to the DataFrame to indicate the source file name\n",
    "df['File Name'] = file_names"
   ]
  },
  {
   "cell_type": "code",
   "execution_count": 15,
   "metadata": {},
   "outputs": [
    {
     "data": {
      "text/plain": [
       "(18686464, 25)"
      ]
     },
     "execution_count": 15,
     "metadata": {},
     "output_type": "execute_result"
    }
   ],
   "source": [
    "df.shape"
   ]
  },
  {
   "cell_type": "code",
   "execution_count": 16,
   "metadata": {},
   "outputs": [
    {
     "data": {
      "text/plain": [
       "pandas.core.frame.DataFrame"
      ]
     },
     "execution_count": 16,
     "metadata": {},
     "output_type": "execute_result"
    }
   ],
   "source": [
    "type(df)"
   ]
  },
  {
   "cell_type": "code",
   "execution_count": 18,
   "metadata": {},
   "outputs": [
    {
     "data": {
      "text/html": [
       "<div>\n",
       "<style scoped>\n",
       "    .dataframe tbody tr th:only-of-type {\n",
       "        vertical-align: middle;\n",
       "    }\n",
       "\n",
       "    .dataframe tbody tr th {\n",
       "        vertical-align: top;\n",
       "    }\n",
       "\n",
       "    .dataframe thead th {\n",
       "        text-align: right;\n",
       "    }\n",
       "</style>\n",
       "<table border=\"1\" class=\"dataframe\">\n",
       "  <thead>\n",
       "    <tr style=\"text-align: right;\">\n",
       "      <th></th>\n",
       "      <th>time</th>\n",
       "      <th>FP1-F7</th>\n",
       "      <th>F7-T7</th>\n",
       "      <th>T7-P7</th>\n",
       "      <th>P7-O1</th>\n",
       "      <th>FP1-F3</th>\n",
       "      <th>F3-C3</th>\n",
       "      <th>C3-P3</th>\n",
       "      <th>P3-O1</th>\n",
       "      <th>FP2-F4</th>\n",
       "      <th>...</th>\n",
       "      <th>T8-P8-0</th>\n",
       "      <th>P8-O2</th>\n",
       "      <th>FZ-CZ</th>\n",
       "      <th>CZ-PZ</th>\n",
       "      <th>P7-T7</th>\n",
       "      <th>T7-FT9</th>\n",
       "      <th>FT9-FT10</th>\n",
       "      <th>FT10-T8</th>\n",
       "      <th>T8-P8-1</th>\n",
       "      <th>File Name</th>\n",
       "    </tr>\n",
       "  </thead>\n",
       "  <tbody>\n",
       "    <tr>\n",
       "      <th>0</th>\n",
       "      <td>0.000000</td>\n",
       "      <td>-145.889824</td>\n",
       "      <td>-104.437950</td>\n",
       "      <td>-42.712763</td>\n",
       "      <td>-33.231272</td>\n",
       "      <td>-170.898152</td>\n",
       "      <td>-110.662484</td>\n",
       "      <td>11.982817</td>\n",
       "      <td>-56.693821</td>\n",
       "      <td>-139.224010</td>\n",
       "      <td>...</td>\n",
       "      <td>44.764205</td>\n",
       "      <td>74.665696</td>\n",
       "      <td>-106.011537</td>\n",
       "      <td>84.636952</td>\n",
       "      <td>43.103484</td>\n",
       "      <td>-57.184707</td>\n",
       "      <td>-264.745427</td>\n",
       "      <td>94.719394</td>\n",
       "      <td>44.764205</td>\n",
       "      <td>chb01_01.edf</td>\n",
       "    </tr>\n",
       "    <tr>\n",
       "      <th>1</th>\n",
       "      <td>0.003906</td>\n",
       "      <td>19.998681</td>\n",
       "      <td>14.586589</td>\n",
       "      <td>5.942093</td>\n",
       "      <td>5.114176</td>\n",
       "      <td>23.455757</td>\n",
       "      <td>15.226859</td>\n",
       "      <td>-1.495469</td>\n",
       "      <td>8.265635</td>\n",
       "      <td>19.049821</td>\n",
       "      <td>...</td>\n",
       "      <td>-5.903085</td>\n",
       "      <td>-11.423631</td>\n",
       "      <td>14.619662</td>\n",
       "      <td>-11.367358</td>\n",
       "      <td>-5.551373</td>\n",
       "      <td>7.423304</td>\n",
       "      <td>37.449772</td>\n",
       "      <td>-12.575222</td>\n",
       "      <td>-5.903085</td>\n",
       "      <td>chb01_01.edf</td>\n",
       "    </tr>\n",
       "    <tr>\n",
       "      <th>2</th>\n",
       "      <td>0.007812</td>\n",
       "      <td>-10.400608</td>\n",
       "      <td>-7.840311</td>\n",
       "      <td>-2.702939</td>\n",
       "      <td>-2.982295</td>\n",
       "      <td>-12.495403</td>\n",
       "      <td>-8.041283</td>\n",
       "      <td>1.278082</td>\n",
       "      <td>-4.729659</td>\n",
       "      <td>-9.780279</td>\n",
       "      <td>...</td>\n",
       "      <td>3.634643</td>\n",
       "      <td>8.669002</td>\n",
       "      <td>-7.695286</td>\n",
       "      <td>6.598238</td>\n",
       "      <td>3.093659</td>\n",
       "      <td>-2.615871</td>\n",
       "      <td>-22.604027</td>\n",
       "      <td>6.888621</td>\n",
       "      <td>3.634643</td>\n",
       "      <td>chb01_01.edf</td>\n",
       "    </tr>\n",
       "    <tr>\n",
       "      <th>3</th>\n",
       "      <td>0.011719</td>\n",
       "      <td>7.521448</td>\n",
       "      <td>2.545940</td>\n",
       "      <td>4.279262</td>\n",
       "      <td>1.486770</td>\n",
       "      <td>7.968614</td>\n",
       "      <td>5.961491</td>\n",
       "      <td>-0.573553</td>\n",
       "      <td>3.144477</td>\n",
       "      <td>7.997345</td>\n",
       "      <td>...</td>\n",
       "      <td>-2.189232</td>\n",
       "      <td>2.133745</td>\n",
       "      <td>4.962829</td>\n",
       "      <td>-4.438937</td>\n",
       "      <td>-3.888542</td>\n",
       "      <td>5.468633</td>\n",
       "      <td>12.280984</td>\n",
       "      <td>-4.141289</td>\n",
       "      <td>-2.189232</td>\n",
       "      <td>chb01_01.edf</td>\n",
       "    </tr>\n",
       "    <tr>\n",
       "      <th>4</th>\n",
       "      <td>0.015625</td>\n",
       "      <td>-6.548636</td>\n",
       "      <td>-2.030466</td>\n",
       "      <td>-4.010286</td>\n",
       "      <td>0.332089</td>\n",
       "      <td>-6.684477</td>\n",
       "      <td>-4.638781</td>\n",
       "      <td>-0.011514</td>\n",
       "      <td>-1.049334</td>\n",
       "      <td>-5.965863</td>\n",
       "      <td>...</td>\n",
       "      <td>2.918519</td>\n",
       "      <td>-8.928768</td>\n",
       "      <td>-4.007684</td>\n",
       "      <td>3.505916</td>\n",
       "      <td>4.401006</td>\n",
       "      <td>-7.245550</td>\n",
       "      <td>-5.458360</td>\n",
       "      <td>4.351446</td>\n",
       "      <td>2.918519</td>\n",
       "      <td>chb01_01.edf</td>\n",
       "    </tr>\n",
       "  </tbody>\n",
       "</table>\n",
       "<p>5 rows × 25 columns</p>\n",
       "</div>"
      ],
      "text/plain": [
       "       time      FP1-F7       F7-T7      T7-P7      P7-O1      FP1-F3  \\\n",
       "0  0.000000 -145.889824 -104.437950 -42.712763 -33.231272 -170.898152   \n",
       "1  0.003906   19.998681   14.586589   5.942093   5.114176   23.455757   \n",
       "2  0.007812  -10.400608   -7.840311  -2.702939  -2.982295  -12.495403   \n",
       "3  0.011719    7.521448    2.545940   4.279262   1.486770    7.968614   \n",
       "4  0.015625   -6.548636   -2.030466  -4.010286   0.332089   -6.684477   \n",
       "\n",
       "        F3-C3      C3-P3      P3-O1      FP2-F4  ...    T8-P8-0      P8-O2  \\\n",
       "0 -110.662484  11.982817 -56.693821 -139.224010  ...  44.764205  74.665696   \n",
       "1   15.226859  -1.495469   8.265635   19.049821  ...  -5.903085 -11.423631   \n",
       "2   -8.041283   1.278082  -4.729659   -9.780279  ...   3.634643   8.669002   \n",
       "3    5.961491  -0.573553   3.144477    7.997345  ...  -2.189232   2.133745   \n",
       "4   -4.638781  -0.011514  -1.049334   -5.965863  ...   2.918519  -8.928768   \n",
       "\n",
       "        FZ-CZ      CZ-PZ      P7-T7     T7-FT9    FT9-FT10    FT10-T8  \\\n",
       "0 -106.011537  84.636952  43.103484 -57.184707 -264.745427  94.719394   \n",
       "1   14.619662 -11.367358  -5.551373   7.423304   37.449772 -12.575222   \n",
       "2   -7.695286   6.598238   3.093659  -2.615871  -22.604027   6.888621   \n",
       "3    4.962829  -4.438937  -3.888542   5.468633   12.280984  -4.141289   \n",
       "4   -4.007684   3.505916   4.401006  -7.245550   -5.458360   4.351446   \n",
       "\n",
       "     T8-P8-1     File Name  \n",
       "0  44.764205  chb01_01.edf  \n",
       "1  -5.903085  chb01_01.edf  \n",
       "2   3.634643  chb01_01.edf  \n",
       "3  -2.189232  chb01_01.edf  \n",
       "4   2.918519  chb01_01.edf  \n",
       "\n",
       "[5 rows x 25 columns]"
      ]
     },
     "execution_count": 18,
     "metadata": {},
     "output_type": "execute_result"
    }
   ],
   "source": [
    "df.head()"
   ]
  }
 ],
 "metadata": {
  "kernelspec": {
   "display_name": ".venv",
   "language": "python",
   "name": "python3"
  },
  "language_info": {
   "codemirror_mode": {
    "name": "ipython",
    "version": 3
   },
   "file_extension": ".py",
   "mimetype": "text/x-python",
   "name": "python",
   "nbconvert_exporter": "python",
   "pygments_lexer": "ipython3",
   "version": "3.11.3"
  }
 },
 "nbformat": 4,
 "nbformat_minor": 2
}
