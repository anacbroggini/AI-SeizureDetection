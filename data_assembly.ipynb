{
 "cells": [
  {
   "cell_type": "code",
   "execution_count": 1,
   "metadata": {},
   "outputs": [],
   "source": [
    "from source import data_import\n",
    "import pyarrow as pa"
   ]
  },
  {
   "cell_type": "code",
   "execution_count": 2,
   "metadata": {},
   "outputs": [
    {
     "name": "stdout",
     "output_type": "stream",
     "text": [
      "chb03_01.edf was import but not resampled 256Hz.\n",
      "chb03_01.edf seizure and buffer was labeled\n",
      "chb03_02.edf was import but not resampled 256Hz.\n",
      "chb03_02.edf seizure and buffer was labeled\n",
      "chb03_03.edf was import but not resampled 256Hz.\n",
      "chb03_03.edf seizure and buffer was labeled\n",
      "chb03_04.edf was import but not resampled 256Hz.\n",
      "chb03_04.edf seizure and buffer was labeled\n",
      "chb03_05.edf was import but not resampled 256Hz.\n",
      "chb03_06.edf was import but not resampled 256Hz.\n",
      "chb03_07.edf was import but not resampled 256Hz.\n",
      "chb03_08.edf was import but not resampled 256Hz.\n",
      "chb03_09.edf was import but not resampled 256Hz.\n",
      "chb03_10.edf was import but not resampled 256Hz.\n",
      "chb03_11.edf was import but not resampled 256Hz.\n",
      "chb03_12.edf was import but not resampled 256Hz.\n",
      "chb03_13.edf was import but not resampled 256Hz.\n",
      "chb03_14.edf was import but not resampled 256Hz.\n",
      "chb03_15.edf was import but not resampled 256Hz.\n",
      "chb03_16.edf was import but not resampled 256Hz.\n",
      "chb03_17.edf was import but not resampled 256Hz.\n",
      "chb03_18.edf was import but not resampled 256Hz.\n",
      "chb03_19.edf was import but not resampled 256Hz.\n",
      "chb03_20.edf was import but not resampled 256Hz.\n",
      "chb03_21.edf was import but not resampled 256Hz.\n",
      "chb03_22.edf was import but not resampled 256Hz.\n",
      "chb03_23.edf was import but not resampled 256Hz.\n",
      "chb03_24.edf was import but not resampled 256Hz.\n",
      "chb03_25.edf was import but not resampled 256Hz.\n",
      "chb03_26.edf was import but not resampled 256Hz.\n",
      "chb03_27.edf was import but not resampled 256Hz.\n",
      "chb03_28.edf was import but not resampled 256Hz.\n",
      "chb03_29.edf was import but not resampled 256Hz.\n",
      "chb03_30.edf was import but not resampled 256Hz.\n",
      "chb03_31.edf was import but not resampled 256Hz.\n",
      "chb03_32.edf was import but not resampled 256Hz.\n",
      "chb03_33.edf was import but not resampled 256Hz.\n",
      "chb03_34.edf was import but not resampled 256Hz.\n",
      "chb03_34.edf seizure and buffer was labeled\n",
      "chb03_35.edf was import but not resampled 256Hz.\n",
      "chb03_35.edf seizure and buffer was labeled\n",
      "chb03_36.edf was import but not resampled 256Hz.\n",
      "chb03_36.edf seizure and buffer was labeled\n",
      "chb03_37.edf was import but not resampled 256Hz.\n",
      "chb03_38.edf was import but not resampled 256Hz.\n",
      "patient chb03 sessions concatenated.\n",
      "data of patients [3] were concatenated.\n",
      "(35022336, 25)\n",
      "/home/weasel/reps/ai-seizure-detectives/source/../data/eeg_single.arrow was successfully written.\n"
     ]
    }
   ],
   "source": [
    "# example save default single patient to disc\n",
    "data_import.save_pyarrow_eeg_single()"
   ]
  },
  {
   "cell_type": "code",
   "execution_count": 3,
   "metadata": {},
   "outputs": [
    {
     "name": "stdout",
     "output_type": "stream",
     "text": [
      "/home/weasel/reps/ai-seizure-detectives/source/../data/eeg_single.arrow was loaded.\n"
     ]
    },
    {
     "data": {
      "text/plain": [
       "(35022336, 25)"
      ]
     },
     "execution_count": 3,
     "metadata": {},
     "output_type": "execute_result"
    }
   ],
   "source": [
    "# load single patient via memory mapping\n",
    "df = data_import.load_eeg_single_mem()\n",
    "df.shape"
   ]
  },
  {
   "cell_type": "code",
   "execution_count": 4,
   "metadata": {},
   "outputs": [
    {
     "data": {
      "text/plain": [
       "<Axes: >"
      ]
     },
     "execution_count": 4,
     "metadata": {},
     "output_type": "execute_result"
    },
    {
     "data": {
      "image/png": "[encoded data removed]",
      "text/plain": [
       "<Figure size 640x480 with 1 Axes>"
      ]
     },
     "metadata": {},
     "output_type": "display_data"
    }
   ],
   "source": [
    "df.is_seizure.astype(int).plot()"
   ]
  },
  {
   "cell_type": "code",
   "execution_count": 5,
   "metadata": {},
   "outputs": [],
   "source": [
    "# import modin.pandas as pd"
   ]
  },
  {
   "cell_type": "code",
   "execution_count": 6,
   "metadata": {},
   "outputs": [
    {
     "data": {
      "text/plain": [
       "channel\n",
       "FP1-F7            0.234281\n",
       "F7-T7             0.250443\n",
       "T7-P7             0.138292\n",
       "P7-O1             0.216271\n",
       "FP1-F3            0.241179\n",
       "F3-C3             0.204992\n",
       "C3-P3             0.198572\n",
       "P3-O1             0.195276\n",
       "FP2-F4            0.238687\n",
       "F4-C4             0.209138\n",
       "C4-P4             0.196704\n",
       "P4-O2             0.197154\n",
       "FP2-F8            0.237827\n",
       "F8-T8             0.250806\n",
       "T8-P8-0           0.141671\n",
       "P8-O2             0.203337\n",
       "FZ-CZ             0.215238\n",
       "CZ-PZ             0.195880\n",
       "P7-T7             0.252428\n",
       "T7-FT9            0.151716\n",
       "FT9-FT10          0.201606\n",
       "FT10-T8           0.244361\n",
       "T8-P8-1           0.141671\n",
       "is_seizure        0.002990\n",
       "before_seizure    0.015401\n",
       "dtype: float64"
      ]
     },
     "execution_count": 6,
     "metadata": {},
     "output_type": "execute_result"
    }
   ],
   "source": [
    "df.mean()"
   ]
  },
  {
   "cell_type": "code",
   "execution_count": 2,
   "metadata": {},
   "outputs": [
    {
     "name": "stdout",
     "output_type": "stream",
     "text": [
      "chb01_01.edf was import but not resampled 256Hz.\n",
      "chb01_02.edf was import but not resampled 256Hz.\n",
      "chb01_03.edf was import but not resampled 256Hz.\n",
      "chb01_03.edf seizure and buffer was labeled\n",
      "chb01_04.edf was import but not resampled 256Hz.\n",
      "chb01_04.edf seizure and buffer was labeled\n",
      "chb01_05.edf was import but not resampled 256Hz.\n",
      "chb01_06.edf was import but not resampled 256Hz.\n",
      "chb01_07.edf was import but not resampled 256Hz.\n",
      "chb01_08.edf was import but not resampled 256Hz.\n",
      "chb01_09.edf was import but not resampled 256Hz.\n",
      "chb01_10.edf was import but not resampled 256Hz.\n",
      "chb01_11.edf was import but not resampled 256Hz.\n",
      "chb01_12.edf was import but not resampled 256Hz.\n",
      "chb01_13.edf was import but not resampled 256Hz.\n",
      "chb01_14.edf was import but not resampled 256Hz.\n",
      "chb01_15.edf was import but not resampled 256Hz.\n",
      "chb01_15.edf seizure and buffer was labeled\n",
      "chb01_16.edf was import but not resampled 256Hz.\n",
      "chb01_16.edf seizure and buffer was labeled\n",
      "chb01_17.edf was import but not resampled 256Hz.\n",
      "chb01_18.edf was import but not resampled 256Hz.\n",
      "chb01_18.edf seizure and buffer was labeled\n",
      "chb01_19.edf was import but not resampled 256Hz.\n",
      "chb01_20.edf was import but not resampled 256Hz.\n",
      "chb01_21.edf was import but not resampled 256Hz.\n",
      "chb01_21.edf seizure and buffer was labeled\n",
      "chb01_22.edf was import but not resampled 256Hz.\n",
      "chb01_23.edf was import but not resampled 256Hz.\n",
      "chb01_24.edf was import but not resampled 256Hz.\n",
      "chb01_25.edf was import but not resampled 256Hz.\n",
      "chb01_26.edf was import but not resampled 256Hz.\n",
      "chb01_26.edf seizure and buffer was labeled\n",
      "chb01_27.edf was import but not resampled 256Hz.\n",
      "chb01_29.edf was import but not resampled 256Hz.\n",
      "chb01_30.edf was import but not resampled 256Hz.\n",
      "chb01_31.edf was import but not resampled 256Hz.\n",
      "chb01_32.edf was import but not resampled 256Hz.\n",
      "chb01_33.edf was import but not resampled 256Hz.\n",
      "chb01_34.edf was import but not resampled 256Hz.\n",
      "chb01_36.edf was import but not resampled 256Hz.\n",
      "chb01_37.edf was import but not resampled 256Hz.\n",
      "chb01_38.edf was import but not resampled 256Hz.\n",
      "chb01_39.edf was import but not resampled 256Hz.\n",
      "chb01_40.edf was import but not resampled 256Hz.\n",
      "chb01_41.edf was import but not resampled 256Hz.\n",
      "chb01_42.edf was import but not resampled 256Hz.\n",
      "chb01_43.edf was import but not resampled 256Hz.\n",
      "chb01_46.edf was import but not resampled 256Hz.\n",
      "patient chb01 sessions concatenated.\n",
      "chb02_01.edf was import but not resampled 256Hz.\n",
      "chb02_02.edf was import but not resampled 256Hz.\n",
      "chb02_03.edf was import but not resampled 256Hz.\n",
      "chb02_04.edf was import but not resampled 256Hz.\n",
      "chb02_05.edf was import but not resampled 256Hz.\n",
      "chb02_06.edf was import but not resampled 256Hz.\n",
      "chb02_07.edf was import but not resampled 256Hz.\n",
      "chb02_08.edf was import but not resampled 256Hz.\n",
      "chb02_09.edf was import but not resampled 256Hz.\n",
      "chb02_10.edf was import but not resampled 256Hz.\n",
      "chb02_11.edf was import but not resampled 256Hz.\n",
      "chb02_12.edf was import but not resampled 256Hz.\n",
      "chb02_13.edf was import but not resampled 256Hz.\n",
      "chb02_14.edf was import but not resampled 256Hz.\n",
      "chb02_15.edf was import but not resampled 256Hz.\n",
      "chb02_16+.edf was import but not resampled 256Hz.\n",
      "chb02_16+.edf seizure and buffer was labeled\n",
      "chb02_16.edf was import but not resampled 256Hz.\n",
      "chb02_16.edf seizure and buffer was labeled\n",
      "chb02_17.edf was import but not resampled 256Hz.\n",
      "chb02_18.edf was import but not resampled 256Hz.\n",
      "chb02_19.edf was import but not resampled 256Hz.\n",
      "chb02_19.edf seizure and buffer was labeled\n",
      "chb02_20.edf was import but not resampled 256Hz.\n",
      "chb02_21.edf was import but not resampled 256Hz.\n",
      "chb02_22.edf was import but not resampled 256Hz.\n",
      "chb02_23.edf was import but not resampled 256Hz.\n",
      "chb02_24.edf was import but not resampled 256Hz.\n",
      "chb02_25.edf was import but not resampled 256Hz.\n",
      "chb02_26.edf was import but not resampled 256Hz.\n",
      "chb02_27.edf was import but not resampled 256Hz.\n",
      "chb02_28.edf was import but not resampled 256Hz.\n",
      "chb02_29.edf was import but not resampled 256Hz.\n",
      "chb02_30.edf was import but not resampled 256Hz.\n",
      "chb02_31.edf was import but not resampled 256Hz.\n",
      "chb02_32.edf was import but not resampled 256Hz.\n",
      "chb02_33.edf was import but not resampled 256Hz.\n",
      "chb02_34.edf was import but not resampled 256Hz.\n",
      "chb02_35.edf was import but not resampled 256Hz.\n",
      "patient chb02 sessions concatenated.\n",
      "chb03_01.edf was import but not resampled 256Hz.\n",
      "chb03_01.edf seizure and buffer was labeled\n",
      "chb03_02.edf was import but not resampled 256Hz.\n",
      "chb03_02.edf seizure and buffer was labeled\n",
      "chb03_03.edf was import but not resampled 256Hz.\n",
      "chb03_03.edf seizure and buffer was labeled\n",
      "chb03_04.edf was import but not resampled 256Hz.\n",
      "chb03_04.edf seizure and buffer was labeled\n",
      "chb03_05.edf was import but not resampled 256Hz.\n",
      "chb03_06.edf was import but not resampled 256Hz.\n",
      "chb03_07.edf was import but not resampled 256Hz.\n",
      "chb03_08.edf was import but not resampled 256Hz.\n",
      "chb03_09.edf was import but not resampled 256Hz.\n",
      "chb03_10.edf was import but not resampled 256Hz.\n",
      "chb03_11.edf was import but not resampled 256Hz.\n",
      "chb03_12.edf was import but not resampled 256Hz.\n",
      "chb03_13.edf was import but not resampled 256Hz.\n",
      "chb03_14.edf was import but not resampled 256Hz.\n",
      "chb03_15.edf was import but not resampled 256Hz.\n",
      "chb03_16.edf was import but not resampled 256Hz.\n",
      "chb03_17.edf was import but not resampled 256Hz.\n",
      "chb03_18.edf was import but not resampled 256Hz.\n",
      "chb03_19.edf was import but not resampled 256Hz.\n",
      "chb03_20.edf was import but not resampled 256Hz.\n",
      "chb03_21.edf was import but not resampled 256Hz.\n",
      "chb03_22.edf was import but not resampled 256Hz.\n",
      "chb03_23.edf was import but not resampled 256Hz.\n",
      "chb03_24.edf was import but not resampled 256Hz.\n",
      "chb03_25.edf was import but not resampled 256Hz.\n",
      "chb03_26.edf was import but not resampled 256Hz.\n",
      "chb03_27.edf was import but not resampled 256Hz.\n",
      "chb03_28.edf was import but not resampled 256Hz.\n",
      "chb03_29.edf was import but not resampled 256Hz.\n",
      "chb03_30.edf was import but not resampled 256Hz.\n",
      "chb03_31.edf was import but not resampled 256Hz.\n",
      "chb03_32.edf was import but not resampled 256Hz.\n",
      "chb03_33.edf was import but not resampled 256Hz.\n",
      "chb03_34.edf was import but not resampled 256Hz.\n",
      "chb03_34.edf seizure and buffer was labeled\n",
      "chb03_35.edf was import but not resampled 256Hz.\n",
      "chb03_35.edf seizure and buffer was labeled\n",
      "chb03_36.edf was import but not resampled 256Hz.\n",
      "chb03_36.edf seizure and buffer was labeled\n",
      "chb03_37.edf was import but not resampled 256Hz.\n",
      "chb03_38.edf was import but not resampled 256Hz.\n",
      "patient chb03 sessions concatenated.\n",
      "chb11_01.edf was import but not resampled 256Hz.\n",
      "chb11_02.edf was import but not resampled 256Hz.\n",
      "chb11_03.edf was import but not resampled 256Hz.\n",
      "chb11_04.edf was import but not resampled 256Hz.\n",
      "chb11_05.edf was import but not resampled 256Hz.\n",
      "chb11_06.edf was import but not resampled 256Hz.\n",
      "chb11_07.edf was import but not resampled 256Hz.\n",
      "chb11_08.edf was import but not resampled 256Hz.\n",
      "chb11_09.edf was import but not resampled 256Hz.\n",
      "chb11_10.edf was import but not resampled 256Hz.\n",
      "chb11_11.edf was import but not resampled 256Hz.\n",
      "chb11_12.edf was import but not resampled 256Hz.\n",
      "chb11_13.edf was import but not resampled 256Hz.\n",
      "chb11_14.edf was import but not resampled 256Hz.\n",
      "chb11_15.edf was import but not resampled 256Hz.\n",
      "chb11_16.edf was import but not resampled 256Hz.\n",
      "chb11_17.edf was import but not resampled 256Hz.\n",
      "chb11_18.edf was import but not resampled 256Hz.\n",
      "chb11_19.edf was import but not resampled 256Hz.\n",
      "chb11_24.edf was import but not resampled 256Hz.\n",
      "chb11_25.edf was import but not resampled 256Hz.\n",
      "chb11_26.edf was import but not resampled 256Hz.\n",
      "chb11_27.edf was import but not resampled 256Hz.\n",
      "chb11_53.edf was import but not resampled 256Hz.\n",
      "chb11_54.edf was import but not resampled 256Hz.\n",
      "chb11_55.edf was import but not resampled 256Hz.\n",
      "chb11_56.edf was import but not resampled 256Hz.\n",
      "chb11_58.edf was import but not resampled 256Hz.\n",
      "chb11_60.edf was import but not resampled 256Hz.\n",
      "chb11_61.edf was import but not resampled 256Hz.\n",
      "chb11_62.edf was import but not resampled 256Hz.\n",
      "chb11_63.edf was import but not resampled 256Hz.\n",
      "chb11_82.edf was import but not resampled 256Hz.\n",
      "chb11_82.edf seizure and buffer was labeled\n",
      "chb11_92.edf was import but not resampled 256Hz.\n",
      "chb11_92.edf seizure and buffer was labeled\n",
      "chb11_99.edf was import but not resampled 256Hz.\n",
      "chb11_99.edf seizure and buffer was labeled\n",
      "patient chb11 sessions concatenated.\n"
     ]
    },
    {
     "ename": "",
     "evalue": "",
     "output_type": "error",
     "traceback": [
      "\u001b[1;31mCannot execute code, session has been disposed. Please try restarting the Kernel."
     ]
    },
    {
     "ename": "",
     "evalue": "",
     "output_type": "error",
     "traceback": [
      "\u001b[1;31mThe Kernel crashed while executing code in the the current cell or a previous cell. Please review the code in the cell(s) to identify a possible cause of the failure. Click <a href='https://aka.ms/vscodeJupyterKernelCrash'>here</a> for more info. View Jupyter <a href='command:jupyter.viewOutput'>log</a> for further details."
     ]
    }
   ],
   "source": [
    "# try this with a larger dataset\n",
    "data_import.save_pyarrow_eeg_large(patient_ids=[1,2,3,11])"
   ]
  },
  {
   "cell_type": "code",
   "execution_count": null,
   "metadata": {},
   "outputs": [
    {
     "name": "stderr",
     "output_type": "stream",
     "text": [
      "UserWarning: FileNotFoundError: [Errno 2] Failed to open local file '/home/weasel/reps/ai-seizure-detectives/source/../data/eeg_large.arrow'. Detail: [errno 2] No such file or directory\n"
     ]
    },
    {
     "ename": "AttributeError",
     "evalue": "'NoneType' object has no attribute 'shape'",
     "output_type": "error",
     "traceback": [
      "\u001b[0;31m---------------------------------------------------------------------------\u001b[0m",
      "\u001b[0;31mAttributeError\u001b[0m                            Traceback (most recent call last)",
      "\u001b[1;32m/home/weasel/reps/ai-seizure-detectives/data_assembly.ipynb Cell 8\u001b[0m line \u001b[0;36m2\n\u001b[1;32m      <a href='vscode-notebook-cell://wsl%2Bdebian/home/weasel/reps/ai-seizure-detectives/data_assembly.ipynb#X45sdnNjb2RlLXJlbW90ZQ%3D%3D?line=0'>1</a>\u001b[0m df \u001b[39m=\u001b[39m data_import\u001b[39m.\u001b[39mload_eeg_large_mem()\n\u001b[0;32m----> <a href='vscode-notebook-cell://wsl%2Bdebian/home/weasel/reps/ai-seizure-detectives/data_assembly.ipynb#X45sdnNjb2RlLXJlbW90ZQ%3D%3D?line=1'>2</a>\u001b[0m df\u001b[39m.\u001b[39;49mshape\n",
      "\u001b[0;31mAttributeError\u001b[0m: 'NoneType' object has no attribute 'shape'"
     ]
    }
   ],
   "source": [
    "df = data_import.load_eeg_large_mem()\n",
    "df.shape"
   ]
  },
  {
   "cell_type": "code",
   "execution_count": null,
   "metadata": {},
   "outputs": [
    {
     "data": {
      "text/plain": [
       "channel\n",
       "FP1-F7        0.211053\n",
       "F7-T7         0.223634\n",
       "T7-P7         0.146917\n",
       "P7-O1         0.197380\n",
       "FP1-F3        0.211108\n",
       "F3-C3         0.189135\n",
       "C3-P3         0.189155\n",
       "P3-O1         0.191907\n",
       "FP2-F4        0.218078\n",
       "F4-C4         0.186815\n",
       "C4-P4         0.186980\n",
       "P4-O2         0.196692\n",
       "FP2-F8        0.210387\n",
       "F8-T8         0.224631\n",
       "T8-P8-0       0.153614\n",
       "P8-O2         0.179424\n",
       "FZ-CZ         0.212834\n",
       "CZ-PZ         0.190577\n",
       "P7-T7         0.243804\n",
       "T7-FT9        0.160734\n",
       "FT9-FT10      0.196162\n",
       "FT10-T8       0.220769\n",
       "T8-P8-1       0.153614\n",
       "is_seizure    0.000000\n",
       "ECG           0.188060\n",
       "dtype: double[pyarrow]"
      ]
     },
     "execution_count": 15,
     "metadata": {},
     "output_type": "execute_result"
    }
   ],
   "source": [
    "df.mean()"
   ]
  },
  {
   "cell_type": "code",
   "execution_count": null,
   "metadata": {},
   "outputs": [
    {
     "name": "stdout",
     "output_type": "stream",
     "text": [
      "procs -----------memory---------- ---swap-- -----io---- -system-- ------cpu-----\n",
      " r  b   swpd   free   buff  cache   si   so    bi    bo   in   cs us sy id wa st\n",
      " 3  0      0 13330000 187844 2092148    0    0   178     3   25   52  1  0 99  0  0\n"
     ]
    }
   ],
   "source": [
    "# show memory in cli. this is only working for linux.\n",
    "# !vmstat "
   ]
  },
  {
   "cell_type": "code",
   "execution_count": 2,
   "metadata": {},
   "outputs": [
    {
     "name": "stdout",
     "output_type": "stream",
     "text": [
      "chb02_01.edf was import but not resampled 256Hz.\n",
      "chb02_02.edf was import but not resampled 256Hz.\n",
      "chb02_03.edf was import but not resampled 256Hz.\n",
      "chb02_04.edf was import but not resampled 256Hz.\n",
      "chb02_05.edf was import but not resampled 256Hz.\n",
      "chb02_06.edf was import but not resampled 256Hz.\n",
      "chb02_07.edf was import but not resampled 256Hz.\n",
      "chb02_08.edf was import but not resampled 256Hz.\n",
      "chb02_09.edf was import but not resampled 256Hz.\n",
      "chb02_10.edf was import but not resampled 256Hz.\n",
      "chb02_11.edf was import but not resampled 256Hz.\n",
      "chb02_12.edf was import but not resampled 256Hz.\n",
      "chb02_13.edf was import but not resampled 256Hz.\n",
      "chb02_14.edf was import but not resampled 256Hz.\n",
      "chb02_15.edf was import but not resampled 256Hz.\n",
      "chb02_16+.edf was import but not resampled 256Hz.\n",
      "chb02_16+.edf seizure and buffer was labeled\n",
      "chb02_16.edf was import but not resampled 256Hz.\n",
      "chb02_16.edf seizure and buffer was labeled\n",
      "chb02_17.edf was import but not resampled 256Hz.\n",
      "chb02_18.edf was import but not resampled 256Hz.\n",
      "chb02_19.edf was import but not resampled 256Hz.\n",
      "chb02_19.edf seizure and buffer was labeled\n",
      "chb02_20.edf was import but not resampled 256Hz.\n",
      "chb02_21.edf was import but not resampled 256Hz.\n",
      "chb02_22.edf was import but not resampled 256Hz.\n",
      "chb02_23.edf was import but not resampled 256Hz.\n",
      "chb02_24.edf was import but not resampled 256Hz.\n",
      "chb02_25.edf was import but not resampled 256Hz.\n",
      "chb02_26.edf was import but not resampled 256Hz.\n",
      "chb02_27.edf was import but not resampled 256Hz.\n",
      "chb02_28.edf was import but not resampled 256Hz.\n",
      "chb02_29.edf was import but not resampled 256Hz.\n",
      "chb02_30.edf was import but not resampled 256Hz.\n",
      "chb02_31.edf was import but not resampled 256Hz.\n",
      "chb02_32.edf was import but not resampled 256Hz.\n",
      "chb02_33.edf was import but not resampled 256Hz.\n",
      "chb02_34.edf was import but not resampled 256Hz.\n",
      "chb02_35.edf was import but not resampled 256Hz.\n",
      "patient chb02 sessions concatenated.\n",
      "data of patients [2] were concatenated.\n"
     ]
    }
   ],
   "source": [
    "# to load specific patient with resampling:\n",
    "p_df = data_import.import_patients(patient_ids=[2])"
   ]
  },
  {
   "cell_type": "code",
   "execution_count": 3,
   "metadata": {},
   "outputs": [
    {
     "name": "stdout",
     "output_type": "stream",
     "text": [
      "/home/weasel/reps/ai-seizure-detectives/source/../data/my_data.arrow was successfully written.\n"
     ]
    }
   ],
   "source": [
    "# to save a dataframe for memory mapping\n",
    "data_import.save_pyarrow(p_df, file_name=\"my_data\")"
   ]
  },
  {
   "cell_type": "code",
   "execution_count": 5,
   "metadata": {},
   "outputs": [
    {
     "name": "stdout",
     "output_type": "stream",
     "text": [
      "/home/weasel/reps/ai-seizure-detectives/source/../data/my_data.arrow was loaded.\n"
     ]
    },
    {
     "data": {
      "text/plain": [
       "(32501504, 25)"
      ]
     },
     "execution_count": 5,
     "metadata": {},
     "output_type": "execute_result"
    }
   ],
   "source": [
    "# to load it with memory mapping\n",
    "p_df_mem = data_import.load_pyarrow(file_name=\"my_data\")\n",
    "p_df_mem.shape"
   ]
  },
  {
   "cell_type": "code",
   "execution_count": 11,
   "metadata": {},
   "outputs": [
    {
     "data": {
      "text/plain": [
       "<Axes: >"
      ]
     },
     "execution_count": 11,
     "metadata": {},
     "output_type": "execute_result"
    },
    {
     "data": {
      "image/png": "[encoded data removed]",
      "text/plain": [
       "<Figure size 640x480 with 1 Axes>"
      ]
     },
     "metadata": {},
     "output_type": "display_data"
    }
   ],
   "source": [
    "p_df_mem.loc['15H':'16.5H', ['is_seizure', 'before_seizure']].astype(int).plot()"
   ]
  }
 ],
 "metadata": {
  "kernelspec": {
   "display_name": ".venv",
   "language": "python",
   "name": "python3"
  },
  "language_info": {
   "codemirror_mode": {
    "name": "ipython",
    "version": 3
   },
   "file_extension": ".py",
   "mimetype": "text/x-python",
   "name": "python",
   "nbconvert_exporter": "python",
   "pygments_lexer": "ipython3",
   "version": "3.11.3"
  }
 },
 "nbformat": 4,
 "nbformat_minor": 2
}
