{
 "cells": [
  {
   "cell_type": "code",
   "execution_count": 1,
   "metadata": {},
   "outputs": [],
   "source": [
    "import numpy as np\n",
    "import os\n",
    "import pandas as pd\n",
    "#import re"
   ]
  },
  {
   "cell_type": "code",
   "execution_count": 4,
   "metadata": {},
   "outputs": [],
   "source": [
    "# Define the folder where your text files are located\n",
    "main_folder_path = \"data/\"\n",
    "\n",
    "# Initialize an empty list to store data\n",
    "all_data = []"
   ]
  },
  {
   "cell_type": "code",
   "execution_count": 5,
   "metadata": {},
   "outputs": [
    {
     "name": "stdout",
     "output_type": "stream",
     "text": [
      "        File Name  Number of Seizures  Seizure Start Time  Seizure End Time  \\\n",
      "0    chb09_01.edf                 NaN                 NaN               NaN   \n",
      "1    chb09_02.edf                 NaN                 NaN               NaN   \n",
      "2    chb09_03.edf                 NaN                 NaN               NaN   \n",
      "3    chb09_04.edf                 NaN                 NaN               NaN   \n",
      "4    chb09_05.edf                 NaN                 NaN               NaN   \n",
      "..            ...                 ...                 ...               ...   \n",
      "671  chb22_30.edf                 NaN                 NaN               NaN   \n",
      "672  chb22_38.edf                 NaN                 NaN               NaN   \n",
      "673  chb22_51.edf                 NaN                 NaN               NaN   \n",
      "674  chb22_54.edf                 NaN                 NaN               NaN   \n",
      "675  chb22_77.edf                 NaN                 NaN               NaN   \n",
      "\n",
      "    Source File  \n",
      "0         chb09  \n",
      "1         chb09  \n",
      "2         chb09  \n",
      "3         chb09  \n",
      "4         chb09  \n",
      "..          ...  \n",
      "671       chb22  \n",
      "672       chb22  \n",
      "673       chb22  \n",
      "674       chb22  \n",
      "675       chb22  \n",
      "\n",
      "[676 rows x 5 columns]\n"
     ]
    },
    {
     "ename": "",
     "evalue": "",
     "output_type": "error",
     "traceback": [
      "\u001b[1;31mThe Kernel crashed while executing code in the the current cell or a previous cell. Please review the code in the cell(s) to identify a possible cause of the failure. Click <a href='https://aka.ms/vscodeJupyterKernelCrash'>here</a> for more info. View Jupyter <a href='command:jupyter.viewOutput'>log</a> for further details."
     ]
    }
   ],
   "source": [
    "# Loop through subfolders in the main data folder\n",
    "for folder_name in os.listdir(main_folder_path):\n",
    "    folder_path = os.path.join(main_folder_path, folder_name)\n",
    "\n",
    "    # Check if the item in the main folder is a directory (subfolder)\n",
    "    if os.path.isdir(folder_path):\n",
    "        # Loop through the text files in the subfolder\n",
    "        for filename in os.listdir(folder_path):\n",
    "            if filename.endswith(\".txt\"):\n",
    "                file_path = os.path.join(folder_path, filename)\n",
    "                \n",
    "                # Extract the part of the filename before the hyphen as the \"Source File\" value\n",
    "                source_file = filename.split(\"-\")[0]\n",
    "                \n",
    "                # Initialize a list to store data for each file\n",
    "                data = []\n",
    "                \n",
    "                # Initialize a dictionary to hold the current data\n",
    "                current_data = {\"File Name\": None, \"Number of Seizures\": None, \"Seizure Start Time\": np.nan, \"Seizure End Time\": np.nan, \"Source File\": source_file}\n",
    "                \n",
    "                # Open and read the current text file\n",
    "                with open(file_path, \"r\") as file:\n",
    "                    for line in file:\n",
    "                        line = line.strip()\n",
    "                        if line.startswith(\"File Name:\"):\n",
    "                            current_data[\"File Name\"] = line.split(\": \", 1)[1]\n",
    "                            if not pd.isna(current_data[\"Seizure Start Time\"]) and not pd.isna(current_data[\"Seizure End Time\"]):\n",
    "                                current_data[\"Number of Seizures\"] = 1\n",
    "                            data.append(current_data.copy())\n",
    "                        elif line.startswith(\"Number of Seizures:\"):\n",
    "                            current_data[\"Number of Seizures\"] = int(line.split(\": \", 1)[1])\n",
    "                        elif line.startswith(\"Seizure Start Time:\"):\n",
    "                            current_data[\"Seizure Start Time\"] = int(line.split(\": \", 1)[1].split()[0])\n",
    "                        elif line.startswith(\"Seizure End Time:\"):\n",
    "                            current_data[\"Seizure End Time\"] = int(line.split(\": \", 1)[1].split()[0])\n",
    "                \n",
    "                all_data.extend(data)\n",
    "\n",
    "# Create a DataFrame from the collected data\n",
    "seizure_seq = pd.DataFrame(all_data)\n",
    "\n",
    "# Display the DataFrame\n",
    "print(seizure_seq)\n"
   ]
  },
  {
   "cell_type": "code",
   "execution_count": null,
   "metadata": {},
   "outputs": [],
   "source": []
  }
 ],
 "metadata": {
  "kernelspec": {
   "display_name": "Python 3",
   "language": "python",
   "name": "python3"
  },
  "language_info": {
   "codemirror_mode": {
    "name": "ipython",
    "version": 3
   },
   "file_extension": ".py",
   "mimetype": "text/x-python",
   "name": "python",
   "nbconvert_exporter": "python",
   "pygments_lexer": "ipython3",
   "version": "3.11.3"
  }
 },
 "nbformat": 4,
 "nbformat_minor": 2
}
