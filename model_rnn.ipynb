{
 "cells": [
  {
   "cell_type": "code",
   "execution_count": 1,
   "metadata": {},
   "outputs": [
    {
     "name": "stderr",
     "output_type": "stream",
     "text": [
      "2023-11-15 13:07:23.327126: I tensorflow/tsl/cuda/cudart_stub.cc:28] Could not find cuda drivers on your machine, GPU will not be used.\n",
      "2023-11-15 13:07:23.345292: E tensorflow/compiler/xla/stream_executor/cuda/cuda_dnn.cc:9342] Unable to register cuDNN factory: Attempting to register factory for plugin cuDNN when one has already been registered\n",
      "2023-11-15 13:07:23.345311: E tensorflow/compiler/xla/stream_executor/cuda/cuda_fft.cc:609] Unable to register cuFFT factory: Attempting to register factory for plugin cuFFT when one has already been registered\n",
      "2023-11-15 13:07:23.345323: E tensorflow/compiler/xla/stream_executor/cuda/cuda_blas.cc:1518] Unable to register cuBLAS factory: Attempting to register factory for plugin cuBLAS when one has already been registered\n",
      "2023-11-15 13:07:23.348893: I tensorflow/tsl/cuda/cudart_stub.cc:28] Could not find cuda drivers on your machine, GPU will not be used.\n",
      "2023-11-15 13:07:23.349557: I tensorflow/core/platform/cpu_feature_guard.cc:182] This TensorFlow binary is optimized to use available CPU instructions in performance-critical operations.\n",
      "To enable the following instructions: AVX2 FMA, in other operations, rebuild TensorFlow with the appropriate compiler flags.\n",
      "2023-11-15 13:07:24.075316: W tensorflow/compiler/tf2tensorrt/utils/py_utils.cc:38] TF-TRT Warning: Could not find TensorRT\n"
     ]
    }
   ],
   "source": [
    "import pip\n",
    "\n",
    "def import_or_install(package):\n",
    "    try:\n",
    "        __import__(package)\n",
    "    except ImportError:\n",
    "        pip.main(['install', package])       \n",
    "\n",
    "import_or_install('tensorflow')\n",
    "import_or_install('pydot')\n"
   ]
  },
  {
   "cell_type": "code",
   "execution_count": 2,
   "metadata": {},
   "outputs": [],
   "source": [
    "import tensorflow as tf\n",
    "from tensorflow import keras\n",
    "from tensorflow.keras import layers"
   ]
  },
  {
   "cell_type": "code",
   "execution_count": 3,
   "metadata": {},
   "outputs": [],
   "source": [
    "import pyarrow as pa\n",
    "import pandas as pd\n",
    "import matplotlib\n",
    "import matplotlib.pyplot as plt\n",
    "import seaborn as sns\n",
    "import numpy as np\n",
    "from source import data_import"
   ]
  },
  {
   "cell_type": "code",
   "execution_count": 4,
   "metadata": {},
   "outputs": [],
   "source": [
    "from sklearn.model_selection import train_test_split\n",
    "from sklearn.metrics import confusion_matrix, accuracy_score\n",
    "from sklearn.preprocessing import StandardScaler"
   ]
  },
  {
   "cell_type": "code",
   "execution_count": 5,
   "metadata": {},
   "outputs": [],
   "source": [
    "import tensorflow as tf\n",
    "\n",
    "import keras \n",
    "from keras.models import Sequential # intitialize the ANN\n",
    "from keras.layers import Dense, Activation, Dropout "
   ]
  },
  {
   "cell_type": "code",
   "execution_count": 6,
   "metadata": {},
   "outputs": [],
   "source": [
    "import source.plots as plots"
   ]
  },
  {
   "cell_type": "code",
   "execution_count": 7,
   "metadata": {},
   "outputs": [
    {
     "data": {
      "text/plain": [
       "(2387, 30, 63)"
      ]
     },
     "execution_count": 7,
     "metadata": {},
     "output_type": "execute_result"
    }
   ],
   "source": [
    "try:\n",
    "    data\n",
    "    print('data already loaded in parent notebook')\n",
    "except NameError:\n",
    "    data = np.load('data/feature_extract_reshaped.npy')\n",
    "data.shape"
   ]
  },
  {
   "cell_type": "code",
   "execution_count": 1281,
   "metadata": {},
   "outputs": [],
   "source": [
    "import numpy as np\n",
    "\n",
    "def split_data(data, test_size=0.2, val_size=0.2, random_state=None):\n",
    "    # Assuming the first column contains the IDs\n",
    "    ids_column = data[:, 0, 0]\n",
    "\n",
    "    # Find unique epoch IDs\n",
    "    unique_epoch_ids = np.unique(ids_column)\n",
    "\n",
    "    # Shuffle the unique epoch IDs\n",
    "    np.random.shuffle(unique_epoch_ids)\n",
    "\n",
    "    # Calculate the number of unique epoch IDs for training, validation, and testing\n",
    "    train_samples_nr = int(np.floor(0.8 * len(unique_epoch_ids)))\n",
    "\n",
    "    # Split the unique epoch IDs into train, validation, and test sets\n",
    "\n",
    "    train_sample_ids = unique_epoch_ids[:train_samples_nr]\n",
    "    test_sample_ids = unique_epoch_ids[train_samples_nr:]\n",
    "\n",
    "    # Create boolean masks for filtering\n",
    "    train_mask = np.in1d(ids_column, train_sample_ids)\n",
    "    test_mask = np.in1d(ids_column, test_sample_ids)\n",
    "\n",
    "    # Apply the masks to create train, validation, and test samples\n",
    "    train_sample = data[train_mask, :, :]\n",
    "    test_sample = data[test_mask, :, :]\n",
    "\n",
    "    X_train = train_sample[:,:,:-1]\n",
    "    X_test = test_sample[:,:,:-1]\n",
    "\n",
    "    Y_train = train_sample[:,:,-1]\n",
    "    Y_test = test_sample[:,:,-1]\n",
    "\n",
    "    y_test=Y_test.max(axis=1)\n",
    "    y_train=Y_train.max(axis=1)\n",
    "\n",
    "    return X_train, X_test, Y_train, Y_test, y_train, y_test\n"
   ]
  },
  {
   "cell_type": "code",
   "execution_count": 1282,
   "metadata": {},
   "outputs": [
    {
     "name": "stdout",
     "output_type": "stream",
     "text": [
      "train shape (10664, 30, 62)\n",
      "test shape (2666, 30, 62)\n"
     ]
    }
   ],
   "source": [
    "X_train, X_test, Y_train, Y_test, y_train, y_test = split_data(data)\n",
    "print(f'train shape', X_train.shape)\n",
    "print(f'test shape', X_test.shape)"
   ]
  },
  {
   "cell_type": "code",
   "execution_count": 1283,
   "metadata": {},
   "outputs": [
    {
     "name": "stdout",
     "output_type": "stream",
     "text": [
      "train shape (10664, 30, 60)\n",
      "test shape (2666, 30, 60)\n"
     ]
    }
   ],
   "source": [
    "# Scaling features\n",
    "num_features_train = X_train[:,:,2:]\n",
    "num_features_test = X_test[:,:,2:]\n",
    "\n",
    "# Get the dimensions of the original array\n",
    "num_epochs_tr, num_segments_per_epoch_tr, features_tr = num_features_train.shape\n",
    "num_epochs_te, num_segments_per_epoch_te, features_te = num_features_test.shape\n",
    "\n",
    "# Reshape the array to 2D\n",
    "reshaped_array_train = num_features_train.reshape(num_epochs_tr * num_segments_per_epoch_tr, features_tr)\n",
    "reshaped_array_test = num_features_test.reshape(num_epochs_te * num_segments_per_epoch_te, features_te)\n",
    "\n",
    "# Scaling features\n",
    "scaler = StandardScaler()\n",
    "num_features_scaled_tr = scaler.fit_transform(reshaped_array_train)\n",
    "num_features_scaled_te = scaler.transform(reshaped_array_test)\n",
    "\n",
    "X_train_scaled = num_features_scaled_tr.reshape(num_epochs_tr, num_segments_per_epoch_tr, features_tr)\n",
    "X_test_scaled = num_features_scaled_te.reshape(num_epochs_te, num_segments_per_epoch_te, features_te)\n",
    "\n",
    "print(f'train shape', X_train_scaled.shape)\n",
    "print(f'test shape', X_test_scaled.shape)"
   ]
  },
  {
   "cell_type": "code",
   "execution_count": 1284,
   "metadata": {},
   "outputs": [],
   "source": [
    "X_train = X_train_scaled\n",
    "X_test = X_test_scaled"
   ]
  },
  {
   "cell_type": "code",
   "execution_count": 11,
   "metadata": {},
   "outputs": [],
   "source": [
    "import numpy as np\n",
    "import tensorflow as tf\n",
    "from sklearn.utils.class_weight import compute_class_weight\n",
    "\n",
    "class_labels, class_counts = np.unique(y_test, return_counts=True)\n",
    "total_samples = len(y_test)\n",
    "class_weights = total_samples / (len(class_labels) * class_counts)\n",
    "\n",
    "# Convert class weights to a dictionary\n",
    "class_weight_dict = dict(zip(class_labels, class_weights))\n"
   ]
  },
  {
   "cell_type": "code",
   "execution_count": 12,
   "metadata": {},
   "outputs": [
    {
     "data": {
      "text/plain": [
       "{0.0: 0.5333333333333333, 1.0: 8.0}"
      ]
     },
     "execution_count": 12,
     "metadata": {},
     "output_type": "execute_result"
    }
   ],
   "source": [
    "class_weight_dict"
   ]
  },
  {
   "cell_type": "code",
   "execution_count": 13,
   "metadata": {},
   "outputs": [],
   "source": [
    "N_TRAIN = len(X_train)\n",
    "EPOCHS = 300\n",
    "BATCH_SIZE = 100\n",
    "STEPS_PER_EPOCH = N_TRAIN // BATCH_SIZE"
   ]
  },
  {
   "cell_type": "code",
   "execution_count": 14,
   "metadata": {},
   "outputs": [
    {
     "data": {
      "text/plain": [
       "18"
      ]
     },
     "execution_count": 14,
     "metadata": {},
     "output_type": "execute_result"
    }
   ],
   "source": [
    "STEPS_PER_EPOCH"
   ]
  },
  {
   "cell_type": "code",
   "execution_count": 15,
   "metadata": {},
   "outputs": [],
   "source": [
    "from keras.models import Sequential\n",
    "from keras.layers import LSTM, Dense, Dropout, BatchNormalization, Input\n",
    "from tensorflow.keras.optimizers import Adam\n",
    "from keras import regularizers\n",
    "\n",
    "# Set seeds for reproducibility\n",
    "np.random.seed(42)\n",
    "tf.random.set_seed(42)\n",
    "\n",
    "model = Sequential()\n",
    "\n",
    "model.add(Input(shape=X_train.shape[1:]))\n",
    "\n",
    "#model.add(normalizer)\n",
    "\n",
    "# Recurrent layer\n",
    "model.add(LSTM(72, return_sequences=False, kernel_regularizer=regularizers.l2(0.01)))\n",
    "\n",
    "# Fully connected layer\n",
    "model.add(Dense(72, activation='relu'))\n",
    "\n",
    "# Dropout for regularization\n",
    "model.add(Dropout(0.5))\n",
    "\n",
    "model.add(BatchNormalization())\n",
    "\n",
    "# Calculate the imbalance ratio\n",
    "pos_ratio = class_weight_dict[1] / (class_weight_dict[0] + class_weight_dict[1])\n",
    "\n",
    "# Calculate the initial bias based on the imbalance ratio\n",
    "initial_bias = -np.log(pos_ratio)\n",
    "\n",
    "# Output layer with a custom bias for initial probability\n",
    "model.add(Dense(1, activation='sigmoid', bias_initializer=tf.keras.initializers.Constant(initial_bias)))\n",
    "\n",
    "# Compile the model\n",
    "#learning_rate = 0.001  # Replace with your desired learning rate\n",
    "\n",
    "# Create an instance of the Adam optimizer with the specified learning rate\n",
    "\n",
    "lr_schedule = tf.keras.optimizers.schedules.InverseTimeDecay(\n",
    "    0.0001,\n",
    "    decay_steps=STEPS_PER_EPOCH*1000,\n",
    "    decay_rate=0.01,\n",
    "    staircase=False)\n",
    "\n",
    "\n",
    "optimizer = Adam(learning_rate=lr_schedule)\n",
    "model.compile(\n",
    "    optimizer=optimizer, loss='binary_crossentropy', metrics=['AUC', 'accuracy'])"
   ]
  },
  {
   "cell_type": "code",
   "execution_count": 16,
   "metadata": {},
   "outputs": [],
   "source": [
    "# from keras.callbacks import EarlyStopping, ModelCheckpoint\n",
    "\n",
    "# # Create callbacks\n",
    "# callbacks = EarlyStopping(monitor='val_loss', patience=5)"
   ]
  },
  {
   "cell_type": "code",
   "execution_count": 17,
   "metadata": {},
   "outputs": [
    {
     "data": {
      "text/plain": [
       "(1891,)"
      ]
     },
     "execution_count": 17,
     "metadata": {},
     "output_type": "execute_result"
    }
   ],
   "source": [
    "y_train.shape"
   ]
  },
  {
   "cell_type": "code",
   "execution_count": 18,
   "metadata": {},
   "outputs": [
    {
     "name": "stdout",
     "output_type": "stream",
     "text": [
      "Epoch 1/300\n"
     ]
    },
    {
     "name": "stdout",
     "output_type": "stream",
     "text": [
      "16/16 [==============================] - 2s 39ms/step - loss: 2.5807 - auc: 0.5457 - accuracy: 0.4921 - val_loss: 1.4856 - val_auc: 0.0000e+00 - val_accuracy: 1.0000\n",
      "Epoch 2/300\n",
      "16/16 [==============================] - 0s 13ms/step - loss: 2.3802 - auc: 0.6014 - accuracy: 0.5179 - val_loss: 1.4649 - val_auc: 0.0000e+00 - val_accuracy: 1.0000\n",
      "Epoch 3/300\n",
      "16/16 [==============================] - 0s 13ms/step - loss: 2.2629 - auc: 0.6446 - accuracy: 0.5410 - val_loss: 1.4474 - val_auc: 0.0000e+00 - val_accuracy: 1.0000\n",
      "Epoch 4/300\n",
      "16/16 [==============================] - 0s 12ms/step - loss: 2.1849 - auc: 0.6687 - accuracy: 0.5483 - val_loss: 1.4335 - val_auc: 0.0000e+00 - val_accuracy: 1.0000\n",
      "Epoch 5/300\n",
      "16/16 [==============================] - 0s 13ms/step - loss: 2.1248 - auc: 0.6881 - accuracy: 0.5529 - val_loss: 1.4277 - val_auc: 0.0000e+00 - val_accuracy: 1.0000\n",
      "Epoch 6/300\n",
      "16/16 [==============================] - 0s 12ms/step - loss: 1.9761 - auc: 0.7297 - accuracy: 0.5642 - val_loss: 1.4256 - val_auc: 0.0000e+00 - val_accuracy: 0.9974\n",
      "Epoch 7/300\n",
      "16/16 [==============================] - 0s 13ms/step - loss: 2.0036 - auc: 0.7307 - accuracy: 0.5668 - val_loss: 1.4330 - val_auc: 0.0000e+00 - val_accuracy: 0.9921\n",
      "Epoch 8/300\n",
      "16/16 [==============================] - 0s 12ms/step - loss: 1.8533 - auc: 0.7701 - accuracy: 0.5853 - val_loss: 1.4315 - val_auc: 0.0000e+00 - val_accuracy: 0.9182\n",
      "Epoch 9/300\n",
      "16/16 [==============================] - 0s 12ms/step - loss: 1.8120 - auc: 0.7775 - accuracy: 0.6012 - val_loss: 1.4421 - val_auc: 0.0000e+00 - val_accuracy: 0.7889\n",
      "Epoch 10/300\n",
      "16/16 [==============================] - 0s 12ms/step - loss: 1.8127 - auc: 0.7733 - accuracy: 0.5780 - val_loss: 1.4582 - val_auc: 0.0000e+00 - val_accuracy: 0.6728\n",
      "Epoch 11/300\n",
      "16/16 [==============================] - 0s 12ms/step - loss: 1.6732 - auc: 0.8060 - accuracy: 0.5939 - val_loss: 1.4659 - val_auc: 0.0000e+00 - val_accuracy: 0.6253\n",
      "Epoch 12/300\n",
      "16/16 [==============================] - 0s 12ms/step - loss: 1.6914 - auc: 0.8103 - accuracy: 0.6138 - val_loss: 1.4858 - val_auc: 0.0000e+00 - val_accuracy: 0.5435\n",
      "Epoch 13/300\n",
      "16/16 [==============================] - 0s 12ms/step - loss: 1.5946 - auc: 0.8278 - accuracy: 0.6098 - val_loss: 1.5038 - val_auc: 0.0000e+00 - val_accuracy: 0.4697\n",
      "Epoch 14/300\n",
      "16/16 [==============================] - 0s 12ms/step - loss: 1.5399 - auc: 0.8444 - accuracy: 0.6104 - val_loss: 1.5238 - val_auc: 0.0000e+00 - val_accuracy: 0.4037\n",
      "Epoch 15/300\n",
      "16/16 [==============================] - 0s 12ms/step - loss: 1.5272 - auc: 0.8474 - accuracy: 0.6296 - val_loss: 1.5235 - val_auc: 0.0000e+00 - val_accuracy: 0.3879\n",
      "Epoch 16/300\n",
      "16/16 [==============================] - 0s 12ms/step - loss: 1.5326 - auc: 0.8388 - accuracy: 0.6250 - val_loss: 1.5416 - val_auc: 0.0000e+00 - val_accuracy: 0.3377\n",
      "Epoch 17/300\n",
      "16/16 [==============================] - 0s 12ms/step - loss: 1.4145 - auc: 0.8770 - accuracy: 0.6409 - val_loss: 1.5733 - val_auc: 0.0000e+00 - val_accuracy: 0.2665\n",
      "Epoch 18/300\n",
      "16/16 [==============================] - 0s 12ms/step - loss: 1.4304 - auc: 0.8658 - accuracy: 0.6303 - val_loss: 1.6185 - val_auc: 0.0000e+00 - val_accuracy: 0.2058\n",
      "Epoch 19/300\n",
      "16/16 [==============================] - 0s 13ms/step - loss: 1.3866 - auc: 0.8815 - accuracy: 0.6349 - val_loss: 1.6560 - val_auc: 0.0000e+00 - val_accuracy: 0.2032\n",
      "Epoch 20/300\n",
      "16/16 [==============================] - 0s 12ms/step - loss: 1.3022 - auc: 0.9039 - accuracy: 0.6567 - val_loss: 1.7079 - val_auc: 0.0000e+00 - val_accuracy: 0.1715\n",
      "Epoch 21/300\n",
      "16/16 [==============================] - 0s 13ms/step - loss: 1.3081 - auc: 0.8994 - accuracy: 0.6548 - val_loss: 1.7320 - val_auc: 0.0000e+00 - val_accuracy: 0.1689\n",
      "Epoch 22/300\n",
      "16/16 [==============================] - 0s 13ms/step - loss: 1.2788 - auc: 0.9047 - accuracy: 0.6541 - val_loss: 1.7667 - val_auc: 0.0000e+00 - val_accuracy: 0.1715\n",
      "Epoch 23/300\n",
      "16/16 [==============================] - 0s 12ms/step - loss: 1.2476 - auc: 0.9094 - accuracy: 0.6521 - val_loss: 1.8033 - val_auc: 0.0000e+00 - val_accuracy: 0.1662\n",
      "Epoch 24/300\n",
      "16/16 [==============================] - 0s 12ms/step - loss: 1.1563 - auc: 0.9391 - accuracy: 0.6786 - val_loss: 1.7925 - val_auc: 0.0000e+00 - val_accuracy: 0.2164\n",
      "Epoch 25/300\n",
      "16/16 [==============================] - 0s 12ms/step - loss: 1.1571 - auc: 0.9308 - accuracy: 0.6918 - val_loss: 1.8529 - val_auc: 0.0000e+00 - val_accuracy: 0.1715\n",
      "Epoch 26/300\n",
      "16/16 [==============================] - 0s 12ms/step - loss: 1.1088 - auc: 0.9413 - accuracy: 0.6991 - val_loss: 1.8440 - val_auc: 0.0000e+00 - val_accuracy: 0.2164\n",
      "Epoch 27/300\n",
      "16/16 [==============================] - 0s 12ms/step - loss: 1.0768 - auc: 0.9486 - accuracy: 0.7004 - val_loss: 1.8992 - val_auc: 0.0000e+00 - val_accuracy: 0.1715\n",
      "Epoch 28/300\n",
      "16/16 [==============================] - 0s 12ms/step - loss: 1.0642 - auc: 0.9477 - accuracy: 0.7057 - val_loss: 1.8888 - val_auc: 0.0000e+00 - val_accuracy: 0.2243\n",
      "Epoch 29/300\n",
      "16/16 [==============================] - 0s 12ms/step - loss: 1.0038 - auc: 0.9618 - accuracy: 0.7255 - val_loss: 1.9514 - val_auc: 0.0000e+00 - val_accuracy: 0.1900\n",
      "Epoch 30/300\n",
      "16/16 [==============================] - 0s 13ms/step - loss: 0.9914 - auc: 0.9621 - accuracy: 0.7440 - val_loss: 1.9809 - val_auc: 0.0000e+00 - val_accuracy: 0.1873\n",
      "Epoch 31/300\n",
      "16/16 [==============================] - 0s 14ms/step - loss: 0.9872 - auc: 0.9611 - accuracy: 0.7235 - val_loss: 1.9633 - val_auc: 0.0000e+00 - val_accuracy: 0.2111\n",
      "Epoch 32/300\n",
      "16/16 [==============================] - 0s 12ms/step - loss: 0.9603 - auc: 0.9638 - accuracy: 0.7553 - val_loss: 1.9939 - val_auc: 0.0000e+00 - val_accuracy: 0.1926\n",
      "Epoch 33/300\n",
      "16/16 [==============================] - 0s 12ms/step - loss: 0.9425 - auc: 0.9641 - accuracy: 0.7427 - val_loss: 1.9842 - val_auc: 0.0000e+00 - val_accuracy: 0.2190\n",
      "Epoch 34/300\n",
      "16/16 [==============================] - 0s 13ms/step - loss: 0.9147 - auc: 0.9672 - accuracy: 0.7712 - val_loss: 2.0739 - val_auc: 0.0000e+00 - val_accuracy: 0.1926\n",
      "Epoch 35/300\n",
      "16/16 [==============================] - 0s 12ms/step - loss: 0.8761 - auc: 0.9767 - accuracy: 0.7665 - val_loss: 2.0227 - val_auc: 0.0000e+00 - val_accuracy: 0.2375\n",
      "Epoch 36/300\n",
      "16/16 [==============================] - 0s 12ms/step - loss: 0.8501 - auc: 0.9781 - accuracy: 0.7864 - val_loss: 2.0674 - val_auc: 0.0000e+00 - val_accuracy: 0.2533\n",
      "Epoch 37/300\n",
      "16/16 [==============================] - 0s 12ms/step - loss: 0.8566 - auc: 0.9734 - accuracy: 0.7970 - val_loss: 2.0672 - val_auc: 0.0000e+00 - val_accuracy: 0.2691\n",
      "Epoch 38/300\n",
      "16/16 [==============================] - 0s 12ms/step - loss: 0.8325 - auc: 0.9779 - accuracy: 0.7956 - val_loss: 2.1281 - val_auc: 0.0000e+00 - val_accuracy: 0.2744\n",
      "Epoch 39/300\n",
      "16/16 [==============================] - 0s 12ms/step - loss: 0.8017 - auc: 0.9835 - accuracy: 0.8155 - val_loss: 2.2079 - val_auc: 0.0000e+00 - val_accuracy: 0.2586\n",
      "Epoch 40/300\n",
      "16/16 [==============================] - 0s 12ms/step - loss: 0.7886 - auc: 0.9815 - accuracy: 0.8168 - val_loss: 2.2092 - val_auc: 0.0000e+00 - val_accuracy: 0.2770\n",
      "Epoch 41/300\n",
      "16/16 [==============================] - 0s 13ms/step - loss: 0.7743 - auc: 0.9834 - accuracy: 0.8128 - val_loss: 2.3658 - val_auc: 0.0000e+00 - val_accuracy: 0.2507\n",
      "Epoch 42/300\n",
      "16/16 [==============================] - 0s 12ms/step - loss: 0.7550 - auc: 0.9849 - accuracy: 0.8247 - val_loss: 2.3472 - val_auc: 0.0000e+00 - val_accuracy: 0.2770\n",
      "Epoch 43/300\n",
      "16/16 [==============================] - 0s 13ms/step - loss: 0.7346 - auc: 0.9887 - accuracy: 0.8320 - val_loss: 2.4221 - val_auc: 0.0000e+00 - val_accuracy: 0.2691\n",
      "Epoch 44/300\n",
      "16/16 [==============================] - 0s 13ms/step - loss: 0.7142 - auc: 0.9903 - accuracy: 0.8320 - val_loss: 2.4586 - val_auc: 0.0000e+00 - val_accuracy: 0.2797\n",
      "Epoch 45/300\n",
      "16/16 [==============================] - 0s 12ms/step - loss: 0.6933 - auc: 0.9913 - accuracy: 0.8492 - val_loss: 2.5490 - val_auc: 0.0000e+00 - val_accuracy: 0.2770\n",
      "Epoch 46/300\n",
      "16/16 [==============================] - 0s 14ms/step - loss: 0.6980 - auc: 0.9896 - accuracy: 0.8373 - val_loss: 2.4914 - val_auc: 0.0000e+00 - val_accuracy: 0.2876\n",
      "Epoch 47/300\n",
      "16/16 [==============================] - 0s 12ms/step - loss: 0.6578 - auc: 0.9950 - accuracy: 0.8591 - val_loss: 2.6614 - val_auc: 0.0000e+00 - val_accuracy: 0.2507\n",
      "Epoch 48/300\n",
      "16/16 [==============================] - 0s 13ms/step - loss: 0.6697 - auc: 0.9906 - accuracy: 0.8479 - val_loss: 2.5527 - val_auc: 0.0000e+00 - val_accuracy: 0.2955\n",
      "Epoch 49/300\n",
      "16/16 [==============================] - 0s 11ms/step - loss: 0.6384 - auc: 0.9966 - accuracy: 0.8591 - val_loss: 2.6792 - val_auc: 0.0000e+00 - val_accuracy: 0.2876\n",
      "Epoch 50/300\n",
      "16/16 [==============================] - 0s 12ms/step - loss: 0.6314 - auc: 0.9933 - accuracy: 0.8644 - val_loss: 2.7697 - val_auc: 0.0000e+00 - val_accuracy: 0.2770\n",
      "Epoch 51/300\n",
      "16/16 [==============================] - 0s 12ms/step - loss: 0.6073 - auc: 0.9962 - accuracy: 0.8737 - val_loss: 2.6706 - val_auc: 0.0000e+00 - val_accuracy: 0.2982\n",
      "Epoch 52/300\n",
      "16/16 [==============================] - 0s 12ms/step - loss: 0.5888 - auc: 0.9971 - accuracy: 0.8697 - val_loss: 2.7550 - val_auc: 0.0000e+00 - val_accuracy: 0.2902\n",
      "Epoch 53/300\n",
      "16/16 [==============================] - 0s 12ms/step - loss: 0.5746 - auc: 0.9977 - accuracy: 0.8962 - val_loss: 2.6815 - val_auc: 0.0000e+00 - val_accuracy: 0.2955\n",
      "Epoch 54/300\n",
      "16/16 [==============================] - 0s 12ms/step - loss: 0.5680 - auc: 0.9988 - accuracy: 0.8836 - val_loss: 2.7423 - val_auc: 0.0000e+00 - val_accuracy: 0.2902\n",
      "Epoch 55/300\n",
      "16/16 [==============================] - 0s 12ms/step - loss: 0.5709 - auc: 0.9963 - accuracy: 0.8856 - val_loss: 2.7254 - val_auc: 0.0000e+00 - val_accuracy: 0.2929\n",
      "Epoch 56/300\n",
      "16/16 [==============================] - 0s 12ms/step - loss: 0.5468 - auc: 0.9984 - accuracy: 0.8935 - val_loss: 2.7427 - val_auc: 0.0000e+00 - val_accuracy: 0.2902\n",
      "Epoch 57/300\n",
      "16/16 [==============================] - 0s 12ms/step - loss: 0.5414 - auc: 0.9978 - accuracy: 0.9054 - val_loss: 2.6710 - val_auc: 0.0000e+00 - val_accuracy: 0.2982\n",
      "Epoch 58/300\n",
      "16/16 [==============================] - 0s 12ms/step - loss: 0.5329 - auc: 0.9979 - accuracy: 0.9081 - val_loss: 2.6972 - val_auc: 0.0000e+00 - val_accuracy: 0.2929\n",
      "Epoch 59/300\n",
      "16/16 [==============================] - 0s 13ms/step - loss: 0.5225 - auc: 0.9983 - accuracy: 0.9041 - val_loss: 2.8036 - val_auc: 0.0000e+00 - val_accuracy: 0.2850\n",
      "Epoch 60/300\n",
      "16/16 [==============================] - 0s 13ms/step - loss: 0.5075 - auc: 0.9992 - accuracy: 0.9153 - val_loss: 2.6848 - val_auc: 0.0000e+00 - val_accuracy: 0.2982\n",
      "Epoch 61/300\n",
      "16/16 [==============================] - 0s 12ms/step - loss: 0.5019 - auc: 0.9995 - accuracy: 0.9134 - val_loss: 2.7886 - val_auc: 0.0000e+00 - val_accuracy: 0.2902\n",
      "Epoch 62/300\n",
      "16/16 [==============================] - 0s 12ms/step - loss: 0.4869 - auc: 0.9992 - accuracy: 0.9279 - val_loss: 2.8561 - val_auc: 0.0000e+00 - val_accuracy: 0.2797\n",
      "Epoch 63/300\n",
      "16/16 [==============================] - 0s 12ms/step - loss: 0.4874 - auc: 0.9995 - accuracy: 0.9127 - val_loss: 2.8318 - val_auc: 0.0000e+00 - val_accuracy: 0.2902\n",
      "Epoch 64/300\n",
      "16/16 [==============================] - 0s 12ms/step - loss: 0.4685 - auc: 0.9998 - accuracy: 0.9339 - val_loss: 2.9469 - val_auc: 0.0000e+00 - val_accuracy: 0.2823\n",
      "Epoch 65/300\n",
      "16/16 [==============================] - 0s 13ms/step - loss: 0.4632 - auc: 0.9997 - accuracy: 0.9279 - val_loss: 2.9286 - val_auc: 0.0000e+00 - val_accuracy: 0.2876\n",
      "Epoch 66/300\n",
      "16/16 [==============================] - 0s 12ms/step - loss: 0.4554 - auc: 0.9994 - accuracy: 0.9352 - val_loss: 2.9437 - val_auc: 0.0000e+00 - val_accuracy: 0.2797\n",
      "Epoch 67/300\n",
      "16/16 [==============================] - 0s 12ms/step - loss: 0.4475 - auc: 0.9994 - accuracy: 0.9345 - val_loss: 2.8112 - val_auc: 0.0000e+00 - val_accuracy: 0.3061\n",
      "Epoch 68/300\n",
      "16/16 [==============================] - 0s 12ms/step - loss: 0.4461 - auc: 0.9996 - accuracy: 0.9233 - val_loss: 2.8908 - val_auc: 0.0000e+00 - val_accuracy: 0.2929\n",
      "Epoch 69/300\n",
      "16/16 [==============================] - 0s 12ms/step - loss: 0.4261 - auc: 0.9999 - accuracy: 0.9392 - val_loss: 2.7655 - val_auc: 0.0000e+00 - val_accuracy: 0.3140\n",
      "Epoch 70/300\n",
      "16/16 [==============================] - 0s 12ms/step - loss: 0.4156 - auc: 1.0000 - accuracy: 0.9484 - val_loss: 2.7303 - val_auc: 0.0000e+00 - val_accuracy: 0.3219\n",
      "Epoch 71/300\n",
      "16/16 [==============================] - 0s 13ms/step - loss: 0.4134 - auc: 0.9999 - accuracy: 0.9511 - val_loss: 2.8207 - val_auc: 0.0000e+00 - val_accuracy: 0.3061\n",
      "Epoch 72/300\n",
      "16/16 [==============================] - 0s 11ms/step - loss: 0.4103 - auc: 0.9994 - accuracy: 0.9497 - val_loss: 2.7399 - val_auc: 0.0000e+00 - val_accuracy: 0.3193\n",
      "Epoch 73/300\n",
      "16/16 [==============================] - 0s 12ms/step - loss: 0.3937 - auc: 1.0000 - accuracy: 0.9550 - val_loss: 2.6449 - val_auc: 0.0000e+00 - val_accuracy: 0.3404\n",
      "Epoch 74/300\n",
      "16/16 [==============================] - 0s 12ms/step - loss: 0.3870 - auc: 1.0000 - accuracy: 0.9590 - val_loss: 2.5882 - val_auc: 0.0000e+00 - val_accuracy: 0.3536\n",
      "Epoch 75/300\n",
      "16/16 [==============================] - 0s 12ms/step - loss: 0.3851 - auc: 1.0000 - accuracy: 0.9577 - val_loss: 2.7154 - val_auc: 0.0000e+00 - val_accuracy: 0.3245\n",
      "Epoch 76/300\n",
      "16/16 [==============================] - 0s 13ms/step - loss: 0.3910 - auc: 0.9995 - accuracy: 0.9517 - val_loss: 2.7474 - val_auc: 0.0000e+00 - val_accuracy: 0.3272\n",
      "Epoch 77/300\n",
      "16/16 [==============================] - 0s 14ms/step - loss: 0.3736 - auc: 0.9999 - accuracy: 0.9636 - val_loss: 2.7343 - val_auc: 0.0000e+00 - val_accuracy: 0.3456\n",
      "Epoch 78/300\n",
      "16/16 [==============================] - 0s 13ms/step - loss: 0.3712 - auc: 0.9999 - accuracy: 0.9537 - val_loss: 2.8366 - val_auc: 0.0000e+00 - val_accuracy: 0.3140\n",
      "Epoch 79/300\n",
      "16/16 [==============================] - 0s 13ms/step - loss: 0.3634 - auc: 0.9999 - accuracy: 0.9583 - val_loss: 2.7236 - val_auc: 0.0000e+00 - val_accuracy: 0.3483\n",
      "Epoch 80/300\n",
      "16/16 [==============================] - 0s 13ms/step - loss: 0.3561 - auc: 1.0000 - accuracy: 0.9676 - val_loss: 2.7339 - val_auc: 0.0000e+00 - val_accuracy: 0.3430\n",
      "Epoch 81/300\n",
      "16/16 [==============================] - 0s 13ms/step - loss: 0.3533 - auc: 1.0000 - accuracy: 0.9636 - val_loss: 2.8293 - val_auc: 0.0000e+00 - val_accuracy: 0.3166\n",
      "Epoch 82/300\n",
      "16/16 [==============================] - 0s 12ms/step - loss: 0.3449 - auc: 1.0000 - accuracy: 0.9643 - val_loss: 2.7686 - val_auc: 0.0000e+00 - val_accuracy: 0.3298\n",
      "Epoch 83/300\n",
      "16/16 [==============================] - 0s 13ms/step - loss: 0.3354 - auc: 1.0000 - accuracy: 0.9716 - val_loss: 2.7688 - val_auc: 0.0000e+00 - val_accuracy: 0.3298\n",
      "Epoch 84/300\n",
      "16/16 [==============================] - 0s 12ms/step - loss: 0.3259 - auc: 1.0000 - accuracy: 0.9795 - val_loss: 2.7105 - val_auc: 0.0000e+00 - val_accuracy: 0.3377\n",
      "Epoch 85/300\n",
      "16/16 [==============================] - 0s 12ms/step - loss: 0.3322 - auc: 1.0000 - accuracy: 0.9656 - val_loss: 2.7321 - val_auc: 0.0000e+00 - val_accuracy: 0.3298\n",
      "Epoch 86/300\n",
      "16/16 [==============================] - 0s 12ms/step - loss: 0.3210 - auc: 1.0000 - accuracy: 0.9775 - val_loss: 2.8282 - val_auc: 0.0000e+00 - val_accuracy: 0.3193\n",
      "Epoch 87/300\n",
      "16/16 [==============================] - 0s 12ms/step - loss: 0.3201 - auc: 0.9999 - accuracy: 0.9782 - val_loss: 2.7053 - val_auc: 0.0000e+00 - val_accuracy: 0.3483\n",
      "Epoch 88/300\n",
      "16/16 [==============================] - 0s 12ms/step - loss: 0.3159 - auc: 1.0000 - accuracy: 0.9742 - val_loss: 2.8875 - val_auc: 0.0000e+00 - val_accuracy: 0.3245\n",
      "Epoch 89/300\n",
      "16/16 [==============================] - 0s 13ms/step - loss: 0.3076 - auc: 1.0000 - accuracy: 0.9769 - val_loss: 2.9502 - val_auc: 0.0000e+00 - val_accuracy: 0.3219\n",
      "Epoch 90/300\n",
      "16/16 [==============================] - 0s 13ms/step - loss: 0.3035 - auc: 0.9999 - accuracy: 0.9775 - val_loss: 2.8253 - val_auc: 0.0000e+00 - val_accuracy: 0.3483\n",
      "Epoch 91/300\n",
      "16/16 [==============================] - 0s 13ms/step - loss: 0.2937 - auc: 1.0000 - accuracy: 0.9841 - val_loss: 2.8355 - val_auc: 0.0000e+00 - val_accuracy: 0.3456\n",
      "Epoch 92/300\n",
      "16/16 [==============================] - 0s 13ms/step - loss: 0.2930 - auc: 1.0000 - accuracy: 0.9848 - val_loss: 2.8063 - val_auc: 0.0000e+00 - val_accuracy: 0.3483\n",
      "Epoch 93/300\n",
      "16/16 [==============================] - 0s 12ms/step - loss: 0.2911 - auc: 1.0000 - accuracy: 0.9769 - val_loss: 2.8377 - val_auc: 0.0000e+00 - val_accuracy: 0.3404\n",
      "Epoch 94/300\n",
      "16/16 [==============================] - 0s 12ms/step - loss: 0.2897 - auc: 1.0000 - accuracy: 0.9821 - val_loss: 2.9854 - val_auc: 0.0000e+00 - val_accuracy: 0.3245\n",
      "Epoch 95/300\n",
      "16/16 [==============================] - 0s 13ms/step - loss: 0.2815 - auc: 1.0000 - accuracy: 0.9815 - val_loss: 2.8559 - val_auc: 0.0000e+00 - val_accuracy: 0.3483\n",
      "Epoch 96/300\n",
      "16/16 [==============================] - 0s 12ms/step - loss: 0.2711 - auc: 1.0000 - accuracy: 0.9914 - val_loss: 2.7750 - val_auc: 0.0000e+00 - val_accuracy: 0.3509\n",
      "Epoch 97/300\n",
      "16/16 [==============================] - 0s 13ms/step - loss: 0.2714 - auc: 1.0000 - accuracy: 0.9888 - val_loss: 2.8166 - val_auc: 0.0000e+00 - val_accuracy: 0.3483\n",
      "Epoch 98/300\n",
      "16/16 [==============================] - 0s 13ms/step - loss: 0.2702 - auc: 1.0000 - accuracy: 0.9848 - val_loss: 2.8706 - val_auc: 0.0000e+00 - val_accuracy: 0.3377\n",
      "Epoch 99/300\n",
      "16/16 [==============================] - 0s 12ms/step - loss: 0.2617 - auc: 1.0000 - accuracy: 0.9854 - val_loss: 2.7742 - val_auc: 0.0000e+00 - val_accuracy: 0.3509\n",
      "Epoch 100/300\n",
      "16/16 [==============================] - 0s 12ms/step - loss: 0.2580 - auc: 1.0000 - accuracy: 0.9888 - val_loss: 2.7792 - val_auc: 0.0000e+00 - val_accuracy: 0.3509\n",
      "Epoch 101/300\n",
      "16/16 [==============================] - 0s 12ms/step - loss: 0.2548 - auc: 1.0000 - accuracy: 0.9881 - val_loss: 2.8299 - val_auc: 0.0000e+00 - val_accuracy: 0.3483\n",
      "Epoch 102/300\n",
      "16/16 [==============================] - 0s 12ms/step - loss: 0.2554 - auc: 1.0000 - accuracy: 0.9874 - val_loss: 2.8566 - val_auc: 0.0000e+00 - val_accuracy: 0.3430\n",
      "Epoch 103/300\n",
      "16/16 [==============================] - 0s 12ms/step - loss: 0.2494 - auc: 1.0000 - accuracy: 0.9881 - val_loss: 2.8227 - val_auc: 0.0000e+00 - val_accuracy: 0.3483\n",
      "Epoch 104/300\n",
      "16/16 [==============================] - 0s 12ms/step - loss: 0.2491 - auc: 1.0000 - accuracy: 0.9848 - val_loss: 3.0088 - val_auc: 0.0000e+00 - val_accuracy: 0.3298\n",
      "Epoch 105/300\n",
      "16/16 [==============================] - 0s 12ms/step - loss: 0.2413 - auc: 1.0000 - accuracy: 0.9854 - val_loss: 2.8088 - val_auc: 0.0000e+00 - val_accuracy: 0.3615\n",
      "Epoch 106/300\n",
      "16/16 [==============================] - 0s 12ms/step - loss: 0.2330 - auc: 1.0000 - accuracy: 0.9868 - val_loss: 2.7940 - val_auc: 0.0000e+00 - val_accuracy: 0.3615\n",
      "Epoch 107/300\n",
      "16/16 [==============================] - 0s 12ms/step - loss: 0.2290 - auc: 1.0000 - accuracy: 0.9940 - val_loss: 2.8188 - val_auc: 0.0000e+00 - val_accuracy: 0.3562\n",
      "Epoch 108/300\n",
      "16/16 [==============================] - 0s 13ms/step - loss: 0.2333 - auc: 1.0000 - accuracy: 0.9934 - val_loss: 2.8604 - val_auc: 0.0000e+00 - val_accuracy: 0.3536\n",
      "Epoch 109/300\n",
      "16/16 [==============================] - 0s 13ms/step - loss: 0.2338 - auc: 1.0000 - accuracy: 0.9901 - val_loss: 2.9165 - val_auc: 0.0000e+00 - val_accuracy: 0.3483\n",
      "Epoch 110/300\n",
      "16/16 [==============================] - 0s 13ms/step - loss: 0.2230 - auc: 1.0000 - accuracy: 0.9907 - val_loss: 2.7566 - val_auc: 0.0000e+00 - val_accuracy: 0.3509\n",
      "Epoch 111/300\n",
      "16/16 [==============================] - 0s 12ms/step - loss: 0.2220 - auc: 1.0000 - accuracy: 0.9947 - val_loss: 2.8849 - val_auc: 0.0000e+00 - val_accuracy: 0.3404\n",
      "Epoch 112/300\n",
      "16/16 [==============================] - 0s 12ms/step - loss: 0.2154 - auc: 1.0000 - accuracy: 0.9914 - val_loss: 2.8112 - val_auc: 0.0000e+00 - val_accuracy: 0.3694\n",
      "Epoch 113/300\n",
      "16/16 [==============================] - 0s 12ms/step - loss: 0.2150 - auc: 1.0000 - accuracy: 0.9901 - val_loss: 2.8189 - val_auc: 0.0000e+00 - val_accuracy: 0.3747\n",
      "Epoch 114/300\n",
      "16/16 [==============================] - 0s 13ms/step - loss: 0.2133 - auc: 1.0000 - accuracy: 0.9927 - val_loss: 3.0430 - val_auc: 0.0000e+00 - val_accuracy: 0.3351\n",
      "Epoch 115/300\n",
      "16/16 [==============================] - 0s 12ms/step - loss: 0.2088 - auc: 1.0000 - accuracy: 0.9934 - val_loss: 2.9192 - val_auc: 0.0000e+00 - val_accuracy: 0.3747\n",
      "Epoch 116/300\n",
      "16/16 [==============================] - 0s 13ms/step - loss: 0.2031 - auc: 1.0000 - accuracy: 0.9947 - val_loss: 3.0360 - val_auc: 0.0000e+00 - val_accuracy: 0.3509\n",
      "Epoch 117/300\n",
      "16/16 [==============================] - 0s 13ms/step - loss: 0.2031 - auc: 1.0000 - accuracy: 0.9940 - val_loss: 3.0541 - val_auc: 0.0000e+00 - val_accuracy: 0.3483\n",
      "Epoch 118/300\n",
      "16/16 [==============================] - 0s 12ms/step - loss: 0.1984 - auc: 1.0000 - accuracy: 0.9940 - val_loss: 3.1201 - val_auc: 0.0000e+00 - val_accuracy: 0.3456\n",
      "Epoch 119/300\n",
      "16/16 [==============================] - 0s 12ms/step - loss: 0.1985 - auc: 1.0000 - accuracy: 0.9960 - val_loss: 3.1506 - val_auc: 0.0000e+00 - val_accuracy: 0.3456\n",
      "Epoch 120/300\n",
      "16/16 [==============================] - 0s 12ms/step - loss: 0.1967 - auc: 1.0000 - accuracy: 0.9934 - val_loss: 3.1125 - val_auc: 0.0000e+00 - val_accuracy: 0.3562\n",
      "Epoch 121/300\n",
      "16/16 [==============================] - 0s 12ms/step - loss: 0.1938 - auc: 1.0000 - accuracy: 0.9967 - val_loss: 3.2514 - val_auc: 0.0000e+00 - val_accuracy: 0.3404\n",
      "Epoch 122/300\n",
      "16/16 [==============================] - 0s 12ms/step - loss: 0.1910 - auc: 1.0000 - accuracy: 0.9947 - val_loss: 3.1195 - val_auc: 0.0000e+00 - val_accuracy: 0.3668\n",
      "Epoch 123/300\n",
      "16/16 [==============================] - 0s 12ms/step - loss: 0.1852 - auc: 1.0000 - accuracy: 0.9974 - val_loss: 3.0259 - val_auc: 0.0000e+00 - val_accuracy: 0.3826\n",
      "Epoch 124/300\n",
      "16/16 [==============================] - 0s 13ms/step - loss: 0.1848 - auc: 1.0000 - accuracy: 0.9960 - val_loss: 3.0544 - val_auc: 0.0000e+00 - val_accuracy: 0.3668\n",
      "Epoch 125/300\n",
      "16/16 [==============================] - 0s 12ms/step - loss: 0.1818 - auc: 1.0000 - accuracy: 0.9947 - val_loss: 3.0963 - val_auc: 0.0000e+00 - val_accuracy: 0.3588\n",
      "Epoch 126/300\n",
      "16/16 [==============================] - 0s 13ms/step - loss: 0.1795 - auc: 1.0000 - accuracy: 0.9967 - val_loss: 3.1523 - val_auc: 0.0000e+00 - val_accuracy: 0.3483\n",
      "Epoch 127/300\n",
      "16/16 [==============================] - 0s 12ms/step - loss: 0.1779 - auc: 1.0000 - accuracy: 0.9980 - val_loss: 3.0589 - val_auc: 0.0000e+00 - val_accuracy: 0.3720\n",
      "Epoch 128/300\n",
      "16/16 [==============================] - 0s 13ms/step - loss: 0.1756 - auc: 1.0000 - accuracy: 0.9967 - val_loss: 3.0147 - val_auc: 0.0000e+00 - val_accuracy: 0.3799\n",
      "Epoch 129/300\n",
      "16/16 [==============================] - 0s 13ms/step - loss: 0.1701 - auc: 1.0000 - accuracy: 0.9960 - val_loss: 2.9833 - val_auc: 0.0000e+00 - val_accuracy: 0.3826\n",
      "Epoch 130/300\n",
      "16/16 [==============================] - 0s 13ms/step - loss: 0.1743 - auc: 1.0000 - accuracy: 0.9954 - val_loss: 3.1093 - val_auc: 0.0000e+00 - val_accuracy: 0.3536\n",
      "Epoch 131/300\n",
      "16/16 [==============================] - 0s 13ms/step - loss: 0.1690 - auc: 1.0000 - accuracy: 0.9967 - val_loss: 3.1297 - val_auc: 0.0000e+00 - val_accuracy: 0.3588\n",
      "Epoch 132/300\n",
      "16/16 [==============================] - 0s 12ms/step - loss: 0.1668 - auc: 1.0000 - accuracy: 0.9967 - val_loss: 3.0966 - val_auc: 0.0000e+00 - val_accuracy: 0.3773\n",
      "Epoch 133/300\n",
      "16/16 [==============================] - 0s 12ms/step - loss: 0.1635 - auc: 1.0000 - accuracy: 0.9980 - val_loss: 3.2460 - val_auc: 0.0000e+00 - val_accuracy: 0.3430\n",
      "Epoch 134/300\n",
      "16/16 [==============================] - 0s 13ms/step - loss: 0.1627 - auc: 1.0000 - accuracy: 0.9960 - val_loss: 3.1735 - val_auc: 0.0000e+00 - val_accuracy: 0.3588\n",
      "Epoch 135/300\n",
      "16/16 [==============================] - 0s 12ms/step - loss: 0.1574 - auc: 1.0000 - accuracy: 0.9974 - val_loss: 3.0292 - val_auc: 0.0000e+00 - val_accuracy: 0.3984\n",
      "Epoch 136/300\n",
      "16/16 [==============================] - 0s 12ms/step - loss: 0.1557 - auc: 1.0000 - accuracy: 0.9974 - val_loss: 3.1525 - val_auc: 0.0000e+00 - val_accuracy: 0.3799\n",
      "Epoch 137/300\n",
      "16/16 [==============================] - 0s 14ms/step - loss: 0.1566 - auc: 1.0000 - accuracy: 0.9967 - val_loss: 3.1880 - val_auc: 0.0000e+00 - val_accuracy: 0.3747\n",
      "Epoch 138/300\n",
      "16/16 [==============================] - 0s 12ms/step - loss: 0.1535 - auc: 1.0000 - accuracy: 0.9967 - val_loss: 3.1127 - val_auc: 0.0000e+00 - val_accuracy: 0.3852\n",
      "Epoch 139/300\n",
      "16/16 [==============================] - 0s 12ms/step - loss: 0.1491 - auc: 1.0000 - accuracy: 0.9974 - val_loss: 3.0940 - val_auc: 0.0000e+00 - val_accuracy: 0.3852\n",
      "Epoch 140/300\n",
      "16/16 [==============================] - 0s 12ms/step - loss: 0.1501 - auc: 1.0000 - accuracy: 0.9974 - val_loss: 3.2152 - val_auc: 0.0000e+00 - val_accuracy: 0.3509\n",
      "Epoch 141/300\n",
      "16/16 [==============================] - 0s 13ms/step - loss: 0.1458 - auc: 1.0000 - accuracy: 0.9980 - val_loss: 3.1722 - val_auc: 0.0000e+00 - val_accuracy: 0.3588\n",
      "Epoch 142/300\n",
      "16/16 [==============================] - 0s 12ms/step - loss: 0.1447 - auc: 1.0000 - accuracy: 0.9967 - val_loss: 3.0462 - val_auc: 0.0000e+00 - val_accuracy: 0.3852\n",
      "Epoch 143/300\n",
      "16/16 [==============================] - 0s 12ms/step - loss: 0.1444 - auc: 1.0000 - accuracy: 0.9993 - val_loss: 3.0546 - val_auc: 0.0000e+00 - val_accuracy: 0.3852\n",
      "Epoch 144/300\n",
      "16/16 [==============================] - 0s 12ms/step - loss: 0.1407 - auc: 1.0000 - accuracy: 0.9974 - val_loss: 3.2523 - val_auc: 0.0000e+00 - val_accuracy: 0.3615\n",
      "Epoch 145/300\n",
      "16/16 [==============================] - 0s 12ms/step - loss: 0.1417 - auc: 1.0000 - accuracy: 0.9980 - val_loss: 3.3557 - val_auc: 0.0000e+00 - val_accuracy: 0.3509\n",
      "Epoch 146/300\n",
      "16/16 [==============================] - 0s 12ms/step - loss: 0.1378 - auc: 1.0000 - accuracy: 0.9993 - val_loss: 3.3056 - val_auc: 0.0000e+00 - val_accuracy: 0.3694\n",
      "Epoch 147/300\n",
      "16/16 [==============================] - 0s 13ms/step - loss: 0.1353 - auc: 1.0000 - accuracy: 0.9980 - val_loss: 3.1700 - val_auc: 0.0000e+00 - val_accuracy: 0.3852\n",
      "Epoch 148/300\n",
      "16/16 [==============================] - 0s 12ms/step - loss: 0.1366 - auc: 1.0000 - accuracy: 0.9967 - val_loss: 3.3338 - val_auc: 0.0000e+00 - val_accuracy: 0.3694\n",
      "Epoch 149/300\n",
      "16/16 [==============================] - 0s 14ms/step - loss: 0.1320 - auc: 1.0000 - accuracy: 0.9993 - val_loss: 3.2931 - val_auc: 0.0000e+00 - val_accuracy: 0.3773\n",
      "Epoch 150/300\n",
      "16/16 [==============================] - 0s 13ms/step - loss: 0.1319 - auc: 1.0000 - accuracy: 1.0000 - val_loss: 3.2358 - val_auc: 0.0000e+00 - val_accuracy: 0.3826\n",
      "Epoch 151/300\n",
      "16/16 [==============================] - 0s 13ms/step - loss: 0.1295 - auc: 1.0000 - accuracy: 0.9993 - val_loss: 3.2423 - val_auc: 0.0000e+00 - val_accuracy: 0.3773\n",
      "Epoch 152/300\n",
      "16/16 [==============================] - 0s 13ms/step - loss: 0.1259 - auc: 1.0000 - accuracy: 0.9993 - val_loss: 3.2586 - val_auc: 0.0000e+00 - val_accuracy: 0.3694\n",
      "Epoch 153/300\n",
      "16/16 [==============================] - 0s 12ms/step - loss: 0.1264 - auc: 1.0000 - accuracy: 0.9993 - val_loss: 3.2828 - val_auc: 0.0000e+00 - val_accuracy: 0.3615\n",
      "Epoch 154/300\n",
      "16/16 [==============================] - 0s 12ms/step - loss: 0.1264 - auc: 1.0000 - accuracy: 0.9980 - val_loss: 3.2935 - val_auc: 0.0000e+00 - val_accuracy: 0.3773\n",
      "Epoch 155/300\n",
      "16/16 [==============================] - 0s 13ms/step - loss: 0.1221 - auc: 1.0000 - accuracy: 1.0000 - val_loss: 3.4463 - val_auc: 0.0000e+00 - val_accuracy: 0.3668\n",
      "Epoch 156/300\n",
      "16/16 [==============================] - 0s 12ms/step - loss: 0.1241 - auc: 1.0000 - accuracy: 0.9993 - val_loss: 3.4166 - val_auc: 0.0000e+00 - val_accuracy: 0.3720\n",
      "Epoch 157/300\n",
      "16/16 [==============================] - 0s 12ms/step - loss: 0.1211 - auc: 1.0000 - accuracy: 0.9980 - val_loss: 3.3805 - val_auc: 0.0000e+00 - val_accuracy: 0.3773\n",
      "Epoch 158/300\n",
      "16/16 [==============================] - 0s 12ms/step - loss: 0.1185 - auc: 1.0000 - accuracy: 0.9987 - val_loss: 3.3078 - val_auc: 0.0000e+00 - val_accuracy: 0.3720\n",
      "Epoch 159/300\n",
      "16/16 [==============================] - 0s 13ms/step - loss: 0.1195 - auc: 1.0000 - accuracy: 1.0000 - val_loss: 3.4489 - val_auc: 0.0000e+00 - val_accuracy: 0.3430\n",
      "Epoch 160/300\n",
      "16/16 [==============================] - 0s 13ms/step - loss: 0.1186 - auc: 1.0000 - accuracy: 0.9987 - val_loss: 3.2887 - val_auc: 0.0000e+00 - val_accuracy: 0.3905\n",
      "Epoch 161/300\n",
      "16/16 [==============================] - 0s 13ms/step - loss: 0.1140 - auc: 1.0000 - accuracy: 1.0000 - val_loss: 3.4675 - val_auc: 0.0000e+00 - val_accuracy: 0.3720\n",
      "Epoch 162/300\n",
      "16/16 [==============================] - 0s 13ms/step - loss: 0.1130 - auc: 1.0000 - accuracy: 1.0000 - val_loss: 3.5561 - val_auc: 0.0000e+00 - val_accuracy: 0.3483\n",
      "Epoch 163/300\n",
      "16/16 [==============================] - 0s 13ms/step - loss: 0.1103 - auc: 1.0000 - accuracy: 1.0000 - val_loss: 3.3901 - val_auc: 0.0000e+00 - val_accuracy: 0.3747\n",
      "Epoch 164/300\n",
      "16/16 [==============================] - 0s 12ms/step - loss: 0.1097 - auc: 1.0000 - accuracy: 1.0000 - val_loss: 3.3032 - val_auc: 0.0000e+00 - val_accuracy: 0.3879\n",
      "Epoch 165/300\n",
      "16/16 [==============================] - 0s 13ms/step - loss: 0.1085 - auc: 1.0000 - accuracy: 0.9993 - val_loss: 3.2824 - val_auc: 0.0000e+00 - val_accuracy: 0.3931\n",
      "Epoch 166/300\n",
      "16/16 [==============================] - 0s 12ms/step - loss: 0.1075 - auc: 1.0000 - accuracy: 1.0000 - val_loss: 3.3978 - val_auc: 0.0000e+00 - val_accuracy: 0.3852\n",
      "Epoch 167/300\n",
      "16/16 [==============================] - 0s 12ms/step - loss: 0.1078 - auc: 1.0000 - accuracy: 1.0000 - val_loss: 3.4885 - val_auc: 0.0000e+00 - val_accuracy: 0.3694\n",
      "Epoch 168/300\n",
      "16/16 [==============================] - 0s 12ms/step - loss: 0.1057 - auc: 1.0000 - accuracy: 1.0000 - val_loss: 3.6224 - val_auc: 0.0000e+00 - val_accuracy: 0.3351\n",
      "Epoch 169/300\n",
      "16/16 [==============================] - 0s 13ms/step - loss: 0.1048 - auc: 1.0000 - accuracy: 1.0000 - val_loss: 3.4259 - val_auc: 0.0000e+00 - val_accuracy: 0.3694\n",
      "Epoch 170/300\n",
      "16/16 [==============================] - 0s 13ms/step - loss: 0.1027 - auc: 1.0000 - accuracy: 1.0000 - val_loss: 3.3180 - val_auc: 0.0000e+00 - val_accuracy: 0.3879\n",
      "Epoch 171/300\n",
      "16/16 [==============================] - 0s 12ms/step - loss: 0.1025 - auc: 1.0000 - accuracy: 1.0000 - val_loss: 3.3413 - val_auc: 0.0000e+00 - val_accuracy: 0.3879\n",
      "Epoch 172/300\n",
      "16/16 [==============================] - 0s 12ms/step - loss: 0.1012 - auc: 1.0000 - accuracy: 0.9993 - val_loss: 3.3857 - val_auc: 0.0000e+00 - val_accuracy: 0.3826\n",
      "Epoch 173/300\n",
      "16/16 [==============================] - 0s 12ms/step - loss: 0.0999 - auc: 1.0000 - accuracy: 0.9993 - val_loss: 3.3378 - val_auc: 0.0000e+00 - val_accuracy: 0.3905\n",
      "Epoch 174/300\n",
      "16/16 [==============================] - 0s 13ms/step - loss: 0.0968 - auc: 1.0000 - accuracy: 1.0000 - val_loss: 3.5218 - val_auc: 0.0000e+00 - val_accuracy: 0.3773\n",
      "Epoch 175/300\n",
      "16/16 [==============================] - 0s 12ms/step - loss: 0.0953 - auc: 1.0000 - accuracy: 1.0000 - val_loss: 3.4567 - val_auc: 0.0000e+00 - val_accuracy: 0.3773\n",
      "Epoch 176/300\n",
      "16/16 [==============================] - 0s 12ms/step - loss: 0.0970 - auc: 1.0000 - accuracy: 1.0000 - val_loss: 3.5551 - val_auc: 0.0000e+00 - val_accuracy: 0.3694\n",
      "Epoch 177/300\n",
      "16/16 [==============================] - 0s 14ms/step - loss: 0.0944 - auc: 1.0000 - accuracy: 0.9993 - val_loss: 3.4074 - val_auc: 0.0000e+00 - val_accuracy: 0.3879\n",
      "Epoch 178/300\n",
      "16/16 [==============================] - 0s 14ms/step - loss: 0.0942 - auc: 1.0000 - accuracy: 0.9980 - val_loss: 3.5101 - val_auc: 0.0000e+00 - val_accuracy: 0.3773\n",
      "Epoch 179/300\n",
      "16/16 [==============================] - 0s 12ms/step - loss: 0.0920 - auc: 1.0000 - accuracy: 1.0000 - val_loss: 3.5120 - val_auc: 0.0000e+00 - val_accuracy: 0.3799\n",
      "Epoch 180/300\n",
      "16/16 [==============================] - 0s 12ms/step - loss: 0.0922 - auc: 1.0000 - accuracy: 1.0000 - val_loss: 3.7427 - val_auc: 0.0000e+00 - val_accuracy: 0.3377\n",
      "Epoch 181/300\n",
      "16/16 [==============================] - 0s 13ms/step - loss: 0.0910 - auc: 1.0000 - accuracy: 1.0000 - val_loss: 3.5227 - val_auc: 0.0000e+00 - val_accuracy: 0.3747\n",
      "Epoch 182/300\n",
      "16/16 [==============================] - 0s 15ms/step - loss: 0.0900 - auc: 1.0000 - accuracy: 1.0000 - val_loss: 3.3186 - val_auc: 0.0000e+00 - val_accuracy: 0.3984\n",
      "Epoch 183/300\n",
      "16/16 [==============================] - 0s 12ms/step - loss: 0.0897 - auc: 1.0000 - accuracy: 1.0000 - val_loss: 3.7689 - val_auc: 0.0000e+00 - val_accuracy: 0.3615\n",
      "Epoch 184/300\n",
      "16/16 [==============================] - 0s 11ms/step - loss: 0.0876 - auc: 1.0000 - accuracy: 1.0000 - val_loss: 3.8695 - val_auc: 0.0000e+00 - val_accuracy: 0.3668\n",
      "Epoch 185/300\n",
      "16/16 [==============================] - 0s 13ms/step - loss: 0.0865 - auc: 1.0000 - accuracy: 1.0000 - val_loss: 3.8288 - val_auc: 0.0000e+00 - val_accuracy: 0.3694\n",
      "Epoch 186/300\n",
      "16/16 [==============================] - 0s 16ms/step - loss: 0.0853 - auc: 1.0000 - accuracy: 1.0000 - val_loss: 3.7743 - val_auc: 0.0000e+00 - val_accuracy: 0.3694\n",
      "Epoch 187/300\n",
      "16/16 [==============================] - 0s 12ms/step - loss: 0.0846 - auc: 1.0000 - accuracy: 1.0000 - val_loss: 3.7156 - val_auc: 0.0000e+00 - val_accuracy: 0.3694\n",
      "Epoch 188/300\n",
      "16/16 [==============================] - 0s 13ms/step - loss: 0.0848 - auc: 1.0000 - accuracy: 0.9993 - val_loss: 4.0442 - val_auc: 0.0000e+00 - val_accuracy: 0.3430\n",
      "Epoch 189/300\n",
      "16/16 [==============================] - 0s 14ms/step - loss: 0.0817 - auc: 1.0000 - accuracy: 1.0000 - val_loss: 3.7070 - val_auc: 0.0000e+00 - val_accuracy: 0.3799\n",
      "Epoch 190/300\n",
      "16/16 [==============================] - 0s 15ms/step - loss: 0.0835 - auc: 1.0000 - accuracy: 0.9993 - val_loss: 3.9777 - val_auc: 0.0000e+00 - val_accuracy: 0.3351\n",
      "Epoch 191/300\n",
      "16/16 [==============================] - 0s 13ms/step - loss: 0.0821 - auc: 1.0000 - accuracy: 1.0000 - val_loss: 3.8529 - val_auc: 0.0000e+00 - val_accuracy: 0.3720\n",
      "Epoch 192/300\n",
      "16/16 [==============================] - 0s 13ms/step - loss: 0.0818 - auc: 1.0000 - accuracy: 1.0000 - val_loss: 3.9307 - val_auc: 0.0000e+00 - val_accuracy: 0.3694\n",
      "Epoch 193/300\n",
      "16/16 [==============================] - 0s 14ms/step - loss: 0.0794 - auc: 1.0000 - accuracy: 1.0000 - val_loss: 4.1258 - val_auc: 0.0000e+00 - val_accuracy: 0.3377\n",
      "Epoch 194/300\n",
      "16/16 [==============================] - 0s 15ms/step - loss: 0.0786 - auc: 1.0000 - accuracy: 1.0000 - val_loss: 3.9734 - val_auc: 0.0000e+00 - val_accuracy: 0.3720\n",
      "Epoch 195/300\n",
      "16/16 [==============================] - 0s 13ms/step - loss: 0.0777 - auc: 1.0000 - accuracy: 1.0000 - val_loss: 3.9794 - val_auc: 0.0000e+00 - val_accuracy: 0.3720\n",
      "Epoch 196/300\n",
      "16/16 [==============================] - 0s 11ms/step - loss: 0.0778 - auc: 1.0000 - accuracy: 1.0000 - val_loss: 3.9542 - val_auc: 0.0000e+00 - val_accuracy: 0.3747\n",
      "Epoch 197/300\n",
      "16/16 [==============================] - 0s 13ms/step - loss: 0.0755 - auc: 1.0000 - accuracy: 1.0000 - val_loss: 4.0659 - val_auc: 0.0000e+00 - val_accuracy: 0.3668\n",
      "Epoch 198/300\n",
      "16/16 [==============================] - 0s 14ms/step - loss: 0.0766 - auc: 1.0000 - accuracy: 1.0000 - val_loss: 3.9559 - val_auc: 0.0000e+00 - val_accuracy: 0.3747\n",
      "Epoch 199/300\n",
      "16/16 [==============================] - 0s 13ms/step - loss: 0.0738 - auc: 1.0000 - accuracy: 1.0000 - val_loss: 3.8769 - val_auc: 0.0000e+00 - val_accuracy: 0.3852\n",
      "Epoch 200/300\n",
      "16/16 [==============================] - 0s 12ms/step - loss: 0.0766 - auc: 1.0000 - accuracy: 0.9987 - val_loss: 3.7374 - val_auc: 0.0000e+00 - val_accuracy: 0.3879\n",
      "Epoch 201/300\n",
      "16/16 [==============================] - 0s 12ms/step - loss: 0.0942 - auc: 0.9990 - accuracy: 0.9894 - val_loss: 3.9213 - val_auc: 0.0000e+00 - val_accuracy: 0.2691\n",
      "Epoch 202/300\n",
      "16/16 [==============================] - 0s 12ms/step - loss: 0.0797 - auc: 0.9999 - accuracy: 0.9967 - val_loss: 4.1119 - val_auc: 0.0000e+00 - val_accuracy: 0.2480\n",
      "Epoch 203/300\n",
      "16/16 [==============================] - 0s 12ms/step - loss: 0.0809 - auc: 0.9995 - accuracy: 0.9960 - val_loss: 2.5026 - val_auc: 0.0000e+00 - val_accuracy: 0.4591\n",
      "Epoch 204/300\n",
      "16/16 [==============================] - 0s 12ms/step - loss: 0.0752 - auc: 1.0000 - accuracy: 1.0000 - val_loss: 3.1765 - val_auc: 0.0000e+00 - val_accuracy: 0.4116\n",
      "Epoch 205/300\n",
      "16/16 [==============================] - 0s 12ms/step - loss: 0.0712 - auc: 1.0000 - accuracy: 0.9993 - val_loss: 3.8934 - val_auc: 0.0000e+00 - val_accuracy: 0.3404\n",
      "Epoch 206/300\n",
      "16/16 [==============================] - 0s 13ms/step - loss: 0.0710 - auc: 1.0000 - accuracy: 0.9987 - val_loss: 3.8514 - val_auc: 0.0000e+00 - val_accuracy: 0.3483\n",
      "Epoch 207/300\n",
      "16/16 [==============================] - 0s 12ms/step - loss: 0.1427 - auc: 0.9925 - accuracy: 0.9762 - val_loss: 3.8615 - val_auc: 0.0000e+00 - val_accuracy: 0.3483\n",
      "Epoch 208/300\n",
      "16/16 [==============================] - 0s 12ms/step - loss: 0.1174 - auc: 0.9968 - accuracy: 0.9874 - val_loss: 4.0280 - val_auc: 0.0000e+00 - val_accuracy: 0.3166\n",
      "Epoch 209/300\n",
      "16/16 [==============================] - 0s 12ms/step - loss: 0.0906 - auc: 0.9980 - accuracy: 0.9934 - val_loss: 3.9370 - val_auc: 0.0000e+00 - val_accuracy: 0.3298\n",
      "Epoch 210/300\n",
      "16/16 [==============================] - 0s 14ms/step - loss: 0.0728 - auc: 1.0000 - accuracy: 0.9993 - val_loss: 3.8003 - val_auc: 0.0000e+00 - val_accuracy: 0.3404\n",
      "Epoch 211/300\n",
      "16/16 [==============================] - 0s 13ms/step - loss: 0.1478 - auc: 0.9940 - accuracy: 0.9769 - val_loss: 3.7721 - val_auc: 0.0000e+00 - val_accuracy: 0.3325\n",
      "Epoch 212/300\n",
      "16/16 [==============================] - 0s 14ms/step - loss: 0.1143 - auc: 0.9964 - accuracy: 0.9762 - val_loss: 3.8453 - val_auc: 0.0000e+00 - val_accuracy: 0.3377\n",
      "Epoch 213/300\n",
      "16/16 [==============================] - 0s 14ms/step - loss: 0.0753 - auc: 1.0000 - accuracy: 0.9993 - val_loss: 3.9768 - val_auc: 0.0000e+00 - val_accuracy: 0.3245\n",
      "Epoch 214/300\n",
      "16/16 [==============================] - 0s 14ms/step - loss: 0.0688 - auc: 1.0000 - accuracy: 1.0000 - val_loss: 3.8692 - val_auc: 0.0000e+00 - val_accuracy: 0.3351\n",
      "Epoch 215/300\n",
      "16/16 [==============================] - 0s 12ms/step - loss: 0.0685 - auc: 1.0000 - accuracy: 1.0000 - val_loss: 3.7571 - val_auc: 0.0000e+00 - val_accuracy: 0.3456\n",
      "Epoch 216/300\n",
      "16/16 [==============================] - 0s 12ms/step - loss: 0.0692 - auc: 1.0000 - accuracy: 0.9987 - val_loss: 3.7581 - val_auc: 0.0000e+00 - val_accuracy: 0.3483\n",
      "Epoch 217/300\n",
      "16/16 [==============================] - 0s 13ms/step - loss: 0.0678 - auc: 1.0000 - accuracy: 1.0000 - val_loss: 3.6602 - val_auc: 0.0000e+00 - val_accuracy: 0.3615\n",
      "Epoch 218/300\n",
      "16/16 [==============================] - 0s 15ms/step - loss: 0.0664 - auc: 1.0000 - accuracy: 1.0000 - val_loss: 3.8470 - val_auc: 0.0000e+00 - val_accuracy: 0.3483\n",
      "Epoch 219/300\n",
      "16/16 [==============================] - 0s 13ms/step - loss: 0.0656 - auc: 1.0000 - accuracy: 1.0000 - val_loss: 4.1024 - val_auc: 0.0000e+00 - val_accuracy: 0.3298\n",
      "Epoch 220/300\n",
      "16/16 [==============================] - 0s 14ms/step - loss: 0.0671 - auc: 1.0000 - accuracy: 0.9980 - val_loss: 3.9316 - val_auc: 0.0000e+00 - val_accuracy: 0.3509\n",
      "Epoch 221/300\n",
      "16/16 [==============================] - 0s 14ms/step - loss: 0.0673 - auc: 1.0000 - accuracy: 1.0000 - val_loss: 3.3807 - val_auc: 0.0000e+00 - val_accuracy: 0.3984\n",
      "Epoch 222/300\n",
      "16/16 [==============================] - 0s 14ms/step - loss: 0.0633 - auc: 1.0000 - accuracy: 1.0000 - val_loss: 4.2146 - val_auc: 0.0000e+00 - val_accuracy: 0.3034\n",
      "Epoch 223/300\n",
      "16/16 [==============================] - 0s 15ms/step - loss: 0.0649 - auc: 1.0000 - accuracy: 1.0000 - val_loss: 3.9039 - val_auc: 0.0000e+00 - val_accuracy: 0.3351\n",
      "Epoch 224/300\n",
      "16/16 [==============================] - 0s 14ms/step - loss: 0.0616 - auc: 1.0000 - accuracy: 1.0000 - val_loss: 3.9024 - val_auc: 0.0000e+00 - val_accuracy: 0.3456\n",
      "Epoch 225/300\n",
      "16/16 [==============================] - 0s 13ms/step - loss: 0.0616 - auc: 1.0000 - accuracy: 1.0000 - val_loss: 4.0510 - val_auc: 0.0000e+00 - val_accuracy: 0.3377\n",
      "Epoch 226/300\n",
      "16/16 [==============================] - 0s 12ms/step - loss: 0.0608 - auc: 1.0000 - accuracy: 1.0000 - val_loss: 4.1605 - val_auc: 0.0000e+00 - val_accuracy: 0.3298\n",
      "Epoch 227/300\n",
      "16/16 [==============================] - 0s 13ms/step - loss: 0.0630 - auc: 1.0000 - accuracy: 1.0000 - val_loss: 4.1930 - val_auc: 0.0000e+00 - val_accuracy: 0.3272\n",
      "Epoch 228/300\n",
      "16/16 [==============================] - 0s 14ms/step - loss: 0.0601 - auc: 1.0000 - accuracy: 1.0000 - val_loss: 4.1802 - val_auc: 0.0000e+00 - val_accuracy: 0.3272\n",
      "Epoch 229/300\n",
      "16/16 [==============================] - 0s 14ms/step - loss: 0.0600 - auc: 1.0000 - accuracy: 1.0000 - val_loss: 4.0981 - val_auc: 0.0000e+00 - val_accuracy: 0.3351\n",
      "Epoch 230/300\n",
      "16/16 [==============================] - 0s 12ms/step - loss: 0.0576 - auc: 1.0000 - accuracy: 1.0000 - val_loss: 4.0578 - val_auc: 0.0000e+00 - val_accuracy: 0.3377\n",
      "Epoch 231/300\n",
      "16/16 [==============================] - 0s 13ms/step - loss: 0.0600 - auc: 1.0000 - accuracy: 1.0000 - val_loss: 4.2056 - val_auc: 0.0000e+00 - val_accuracy: 0.3272\n",
      "Epoch 232/300\n",
      "16/16 [==============================] - 0s 12ms/step - loss: 0.0577 - auc: 1.0000 - accuracy: 1.0000 - val_loss: 5.3670 - val_auc: 0.0000e+00 - val_accuracy: 0.2929\n",
      "Epoch 233/300\n",
      "16/16 [==============================] - 0s 12ms/step - loss: 0.0576 - auc: 1.0000 - accuracy: 0.9993 - val_loss: 4.6462 - val_auc: 0.0000e+00 - val_accuracy: 0.3562\n",
      "Epoch 234/300\n",
      "16/16 [==============================] - 0s 13ms/step - loss: 0.0590 - auc: 1.0000 - accuracy: 1.0000 - val_loss: 4.3028 - val_auc: 0.0000e+00 - val_accuracy: 0.3852\n",
      "Epoch 235/300\n",
      "16/16 [==============================] - 0s 12ms/step - loss: 0.0560 - auc: 1.0000 - accuracy: 1.0000 - val_loss: 4.3264 - val_auc: 0.0000e+00 - val_accuracy: 0.3773\n",
      "Epoch 236/300\n",
      "16/16 [==============================] - 0s 12ms/step - loss: 0.0566 - auc: 1.0000 - accuracy: 0.9993 - val_loss: 4.4366 - val_auc: 0.0000e+00 - val_accuracy: 0.3668\n",
      "Epoch 237/300\n",
      "16/16 [==============================] - 0s 13ms/step - loss: 0.0563 - auc: 1.0000 - accuracy: 0.9993 - val_loss: 4.5134 - val_auc: 0.0000e+00 - val_accuracy: 0.3588\n",
      "Epoch 238/300\n",
      "16/16 [==============================] - 0s 12ms/step - loss: 0.0560 - auc: 1.0000 - accuracy: 1.0000 - val_loss: 4.5034 - val_auc: 0.0000e+00 - val_accuracy: 0.3562\n",
      "Epoch 239/300\n",
      "16/16 [==============================] - 0s 13ms/step - loss: 0.0557 - auc: 1.0000 - accuracy: 0.9993 - val_loss: 4.4971 - val_auc: 0.0000e+00 - val_accuracy: 0.3562\n",
      "Epoch 240/300\n",
      "16/16 [==============================] - 0s 13ms/step - loss: 0.0538 - auc: 1.0000 - accuracy: 1.0000 - val_loss: 4.5321 - val_auc: 0.0000e+00 - val_accuracy: 0.3483\n",
      "Epoch 241/300\n",
      "16/16 [==============================] - 0s 12ms/step - loss: 0.0544 - auc: 1.0000 - accuracy: 1.0000 - val_loss: 4.5621 - val_auc: 0.0000e+00 - val_accuracy: 0.3430\n",
      "Epoch 242/300\n",
      "16/16 [==============================] - 0s 12ms/step - loss: 0.0539 - auc: 1.0000 - accuracy: 1.0000 - val_loss: 4.5895 - val_auc: 0.0000e+00 - val_accuracy: 0.3430\n",
      "Epoch 243/300\n",
      "16/16 [==============================] - 0s 12ms/step - loss: 0.0547 - auc: 1.0000 - accuracy: 1.0000 - val_loss: 4.7224 - val_auc: 0.0000e+00 - val_accuracy: 0.3325\n",
      "Epoch 244/300\n",
      "16/16 [==============================] - 0s 14ms/step - loss: 0.0529 - auc: 1.0000 - accuracy: 1.0000 - val_loss: 4.8383 - val_auc: 0.0000e+00 - val_accuracy: 0.3219\n",
      "Epoch 245/300\n",
      "16/16 [==============================] - 0s 12ms/step - loss: 0.0522 - auc: 1.0000 - accuracy: 1.0000 - val_loss: 4.6151 - val_auc: 0.0000e+00 - val_accuracy: 0.3404\n",
      "Epoch 246/300\n",
      "16/16 [==============================] - 0s 13ms/step - loss: 0.0524 - auc: 1.0000 - accuracy: 1.0000 - val_loss: 4.4858 - val_auc: 0.0000e+00 - val_accuracy: 0.3509\n",
      "Epoch 247/300\n",
      "16/16 [==============================] - 0s 14ms/step - loss: 0.0516 - auc: 1.0000 - accuracy: 1.0000 - val_loss: 4.5244 - val_auc: 0.0000e+00 - val_accuracy: 0.3430\n",
      "Epoch 248/300\n",
      "16/16 [==============================] - 0s 12ms/step - loss: 0.0552 - auc: 1.0000 - accuracy: 1.0000 - val_loss: 5.1616 - val_auc: 0.0000e+00 - val_accuracy: 0.2982\n",
      "Epoch 249/300\n",
      "16/16 [==============================] - 0s 12ms/step - loss: 0.0508 - auc: 1.0000 - accuracy: 1.0000 - val_loss: 5.0339 - val_auc: 0.0000e+00 - val_accuracy: 0.3087\n",
      "Epoch 250/300\n",
      "16/16 [==============================] - 0s 12ms/step - loss: 0.0530 - auc: 1.0000 - accuracy: 0.9993 - val_loss: 4.7191 - val_auc: 0.0000e+00 - val_accuracy: 0.3351\n",
      "Epoch 251/300\n",
      "16/16 [==============================] - 0s 12ms/step - loss: 0.0521 - auc: 1.0000 - accuracy: 1.0000 - val_loss: 4.4756 - val_auc: 0.0000e+00 - val_accuracy: 0.3562\n",
      "Epoch 252/300\n",
      "16/16 [==============================] - 0s 12ms/step - loss: 0.0492 - auc: 1.0000 - accuracy: 1.0000 - val_loss: 4.1995 - val_auc: 0.0000e+00 - val_accuracy: 0.3799\n",
      "Epoch 253/300\n",
      "16/16 [==============================] - 0s 12ms/step - loss: 0.0499 - auc: 1.0000 - accuracy: 1.0000 - val_loss: 4.3674 - val_auc: 0.0000e+00 - val_accuracy: 0.3668\n",
      "Epoch 254/300\n",
      "16/16 [==============================] - 0s 12ms/step - loss: 0.0500 - auc: 1.0000 - accuracy: 0.9993 - val_loss: 4.4396 - val_auc: 0.0000e+00 - val_accuracy: 0.3588\n",
      "Epoch 255/300\n",
      "16/16 [==============================] - 0s 12ms/step - loss: 0.0495 - auc: 1.0000 - accuracy: 0.9993 - val_loss: 4.4724 - val_auc: 0.0000e+00 - val_accuracy: 0.3456\n",
      "Epoch 256/300\n",
      "16/16 [==============================] - 0s 13ms/step - loss: 0.0488 - auc: 1.0000 - accuracy: 1.0000 - val_loss: 4.4985 - val_auc: 0.0000e+00 - val_accuracy: 0.3404\n",
      "Epoch 257/300\n",
      "16/16 [==============================] - 0s 12ms/step - loss: 0.0505 - auc: 1.0000 - accuracy: 0.9993 - val_loss: 4.5649 - val_auc: 0.0000e+00 - val_accuracy: 0.3298\n",
      "Epoch 258/300\n",
      "16/16 [==============================] - 0s 13ms/step - loss: 0.0467 - auc: 1.0000 - accuracy: 1.0000 - val_loss: 4.6400 - val_auc: 0.0000e+00 - val_accuracy: 0.3245\n",
      "Epoch 259/300\n",
      "16/16 [==============================] - 0s 12ms/step - loss: 0.0478 - auc: 1.0000 - accuracy: 1.0000 - val_loss: 4.5819 - val_auc: 0.0000e+00 - val_accuracy: 0.3272\n",
      "Epoch 260/300\n",
      "16/16 [==============================] - 0s 12ms/step - loss: 0.0492 - auc: 1.0000 - accuracy: 1.0000 - val_loss: 4.6990 - val_auc: 0.0000e+00 - val_accuracy: 0.3245\n",
      "Epoch 261/300\n",
      "16/16 [==============================] - 0s 13ms/step - loss: 0.0465 - auc: 1.0000 - accuracy: 1.0000 - val_loss: 4.8627 - val_auc: 0.0000e+00 - val_accuracy: 0.3166\n",
      "Epoch 262/300\n",
      "16/16 [==============================] - 0s 11ms/step - loss: 0.0476 - auc: 1.0000 - accuracy: 1.0000 - val_loss: 4.7366 - val_auc: 0.0000e+00 - val_accuracy: 0.3245\n",
      "Epoch 263/300\n",
      "16/16 [==============================] - 0s 12ms/step - loss: 0.0481 - auc: 1.0000 - accuracy: 1.0000 - val_loss: 4.6345 - val_auc: 0.0000e+00 - val_accuracy: 0.3298\n",
      "Epoch 264/300\n",
      "16/16 [==============================] - 0s 13ms/step - loss: 0.0463 - auc: 1.0000 - accuracy: 1.0000 - val_loss: 4.4403 - val_auc: 0.0000e+00 - val_accuracy: 0.3536\n",
      "Epoch 265/300\n",
      "16/16 [==============================] - 0s 12ms/step - loss: 0.0510 - auc: 1.0000 - accuracy: 0.9987 - val_loss: 4.6269 - val_auc: 0.0000e+00 - val_accuracy: 0.3430\n",
      "Epoch 266/300\n",
      "16/16 [==============================] - 0s 12ms/step - loss: 0.0463 - auc: 1.0000 - accuracy: 1.0000 - val_loss: 4.8055 - val_auc: 0.0000e+00 - val_accuracy: 0.3325\n",
      "Epoch 267/300\n",
      "16/16 [==============================] - 0s 12ms/step - loss: 0.0460 - auc: 1.0000 - accuracy: 1.0000 - val_loss: 4.9076 - val_auc: 0.0000e+00 - val_accuracy: 0.3193\n",
      "Epoch 268/300\n",
      "16/16 [==============================] - 0s 12ms/step - loss: 0.0467 - auc: 1.0000 - accuracy: 1.0000 - val_loss: 5.1601 - val_auc: 0.0000e+00 - val_accuracy: 0.3113\n",
      "Epoch 269/300\n",
      "16/16 [==============================] - 0s 12ms/step - loss: 0.0461 - auc: 1.0000 - accuracy: 1.0000 - val_loss: 5.1096 - val_auc: 0.0000e+00 - val_accuracy: 0.3140\n",
      "Epoch 270/300\n",
      "16/16 [==============================] - 0s 12ms/step - loss: 0.0443 - auc: 1.0000 - accuracy: 1.0000 - val_loss: 4.8918 - val_auc: 0.0000e+00 - val_accuracy: 0.3272\n",
      "Epoch 271/300\n",
      "16/16 [==============================] - 0s 12ms/step - loss: 0.0454 - auc: 1.0000 - accuracy: 1.0000 - val_loss: 4.9005 - val_auc: 0.0000e+00 - val_accuracy: 0.3325\n",
      "Epoch 272/300\n",
      "16/16 [==============================] - 0s 12ms/step - loss: 0.0435 - auc: 1.0000 - accuracy: 1.0000 - val_loss: 4.9444 - val_auc: 0.0000e+00 - val_accuracy: 0.3245\n",
      "Epoch 273/300\n",
      "16/16 [==============================] - 0s 12ms/step - loss: 0.0428 - auc: 1.0000 - accuracy: 1.0000 - val_loss: 4.8688 - val_auc: 0.0000e+00 - val_accuracy: 0.3325\n",
      "Epoch 274/300\n",
      "16/16 [==============================] - 0s 13ms/step - loss: 0.0437 - auc: 1.0000 - accuracy: 0.9993 - val_loss: 4.7740 - val_auc: 0.0000e+00 - val_accuracy: 0.3430\n",
      "Epoch 275/300\n",
      "16/16 [==============================] - 0s 12ms/step - loss: 0.0452 - auc: 1.0000 - accuracy: 0.9993 - val_loss: 4.3932 - val_auc: 0.0000e+00 - val_accuracy: 0.3799\n",
      "Epoch 276/300\n",
      "16/16 [==============================] - 0s 12ms/step - loss: 0.0424 - auc: 1.0000 - accuracy: 1.0000 - val_loss: 4.8673 - val_auc: 0.0000e+00 - val_accuracy: 0.3404\n",
      "Epoch 277/300\n",
      "16/16 [==============================] - 0s 13ms/step - loss: 0.0432 - auc: 1.0000 - accuracy: 1.0000 - val_loss: 4.8669 - val_auc: 0.0000e+00 - val_accuracy: 0.3509\n",
      "Epoch 278/300\n",
      "16/16 [==============================] - 0s 12ms/step - loss: 0.0420 - auc: 1.0000 - accuracy: 1.0000 - val_loss: 4.8109 - val_auc: 0.0000e+00 - val_accuracy: 0.3509\n",
      "Epoch 279/300\n",
      "16/16 [==============================] - 0s 13ms/step - loss: 0.0414 - auc: 1.0000 - accuracy: 1.0000 - val_loss: 4.8486 - val_auc: 0.0000e+00 - val_accuracy: 0.3509\n",
      "Epoch 280/300\n",
      "16/16 [==============================] - 0s 12ms/step - loss: 0.0410 - auc: 1.0000 - accuracy: 1.0000 - val_loss: 4.8945 - val_auc: 0.0000e+00 - val_accuracy: 0.3536\n",
      "Epoch 281/300\n",
      "16/16 [==============================] - 0s 12ms/step - loss: 0.0413 - auc: 1.0000 - accuracy: 1.0000 - val_loss: 4.8943 - val_auc: 0.0000e+00 - val_accuracy: 0.3536\n",
      "Epoch 282/300\n",
      "16/16 [==============================] - 0s 12ms/step - loss: 0.0413 - auc: 1.0000 - accuracy: 1.0000 - val_loss: 4.8647 - val_auc: 0.0000e+00 - val_accuracy: 0.3641\n",
      "Epoch 283/300\n",
      "16/16 [==============================] - 0s 12ms/step - loss: 0.0407 - auc: 1.0000 - accuracy: 1.0000 - val_loss: 4.7423 - val_auc: 0.0000e+00 - val_accuracy: 0.3720\n",
      "Epoch 284/300\n",
      "16/16 [==============================] - 0s 13ms/step - loss: 0.0398 - auc: 1.0000 - accuracy: 1.0000 - val_loss: 4.8542 - val_auc: 0.0000e+00 - val_accuracy: 0.3694\n",
      "Epoch 285/300\n",
      "16/16 [==============================] - 0s 12ms/step - loss: 0.0411 - auc: 1.0000 - accuracy: 1.0000 - val_loss: 5.1363 - val_auc: 0.0000e+00 - val_accuracy: 0.3483\n",
      "Epoch 286/300\n",
      "16/16 [==============================] - 0s 13ms/step - loss: 0.0394 - auc: 1.0000 - accuracy: 1.0000 - val_loss: 5.2871 - val_auc: 0.0000e+00 - val_accuracy: 0.3325\n",
      "Epoch 287/300\n",
      "16/16 [==============================] - 0s 13ms/step - loss: 0.0418 - auc: 1.0000 - accuracy: 1.0000 - val_loss: 5.5709 - val_auc: 0.0000e+00 - val_accuracy: 0.3140\n",
      "Epoch 288/300\n",
      "16/16 [==============================] - 0s 12ms/step - loss: 0.0396 - auc: 1.0000 - accuracy: 1.0000 - val_loss: 5.8399 - val_auc: 0.0000e+00 - val_accuracy: 0.2982\n",
      "Epoch 289/300\n",
      "16/16 [==============================] - 0s 12ms/step - loss: 0.0387 - auc: 1.0000 - accuracy: 1.0000 - val_loss: 5.5377 - val_auc: 0.0000e+00 - val_accuracy: 0.3245\n",
      "Epoch 290/300\n",
      "16/16 [==============================] - 0s 12ms/step - loss: 0.0397 - auc: 1.0000 - accuracy: 1.0000 - val_loss: 5.2352 - val_auc: 0.0000e+00 - val_accuracy: 0.3509\n",
      "Epoch 291/300\n",
      "16/16 [==============================] - 0s 12ms/step - loss: 0.0387 - auc: 1.0000 - accuracy: 1.0000 - val_loss: 5.1047 - val_auc: 0.0000e+00 - val_accuracy: 0.3641\n",
      "Epoch 292/300\n",
      "16/16 [==============================] - 0s 13ms/step - loss: 0.0384 - auc: 1.0000 - accuracy: 1.0000 - val_loss: 5.0855 - val_auc: 0.0000e+00 - val_accuracy: 0.3641\n",
      "Epoch 293/300\n",
      "16/16 [==============================] - 0s 13ms/step - loss: 0.0388 - auc: 1.0000 - accuracy: 1.0000 - val_loss: 5.2088 - val_auc: 0.0000e+00 - val_accuracy: 0.3536\n",
      "Epoch 294/300\n",
      "16/16 [==============================] - 0s 12ms/step - loss: 0.0375 - auc: 1.0000 - accuracy: 1.0000 - val_loss: 5.3250 - val_auc: 0.0000e+00 - val_accuracy: 0.3483\n",
      "Epoch 295/300\n",
      "16/16 [==============================] - 0s 12ms/step - loss: 0.0381 - auc: 1.0000 - accuracy: 1.0000 - val_loss: 5.3812 - val_auc: 0.0000e+00 - val_accuracy: 0.3509\n",
      "Epoch 296/300\n",
      "16/16 [==============================] - 0s 12ms/step - loss: 0.0374 - auc: 1.0000 - accuracy: 1.0000 - val_loss: 5.2580 - val_auc: 0.0000e+00 - val_accuracy: 0.3588\n",
      "Epoch 297/300\n",
      "16/16 [==============================] - 0s 12ms/step - loss: 0.0377 - auc: 1.0000 - accuracy: 1.0000 - val_loss: 5.0878 - val_auc: 0.0000e+00 - val_accuracy: 0.3694\n",
      "Epoch 298/300\n",
      "16/16 [==============================] - 0s 13ms/step - loss: 0.0369 - auc: 1.0000 - accuracy: 1.0000 - val_loss: 5.0474 - val_auc: 0.0000e+00 - val_accuracy: 0.3720\n",
      "Epoch 299/300\n",
      "16/16 [==============================] - 0s 12ms/step - loss: 0.0393 - auc: 1.0000 - accuracy: 1.0000 - val_loss: 5.6064 - val_auc: 0.0000e+00 - val_accuracy: 0.3272\n",
      "Epoch 300/300\n",
      "16/16 [==============================] - 0s 12ms/step - loss: 0.0368 - auc: 1.0000 - accuracy: 1.0000 - val_loss: 5.5130 - val_auc: 0.0000e+00 - val_accuracy: 0.3404\n"
     ]
    }
   ],
   "source": [
    "## look at validation batch ?\n",
    "history = model.fit(X_train,  y_train, \n",
    "                    batch_size=BATCH_SIZE, \n",
    "                    class_weight=class_weight_dict,\n",
    "                    shuffle=True,\n",
    "                    epochs=EPOCHS,\n",
    "                    validation_split = 0.2)"
   ]
  },
  {
   "cell_type": "code",
   "execution_count": 19,
   "metadata": {},
   "outputs": [
    {
     "data": {
      "image/png": "[encoded data removed]",
      "text/plain": [
       "<Figure size 640x480 with 1 Axes>"
      ]
     },
     "metadata": {},
     "output_type": "display_data"
    }
   ],
   "source": [
    "plots.plot_history_metrics(history)"
   ]
  },
  {
   "cell_type": "code",
   "execution_count": 20,
   "metadata": {},
   "outputs": [],
   "source": [
    "def plot_loss(history):\n",
    "    plt.plot(history.history['loss'], label='loss')\n",
    "    #plt.plot(history.history['val_loss'], label='val_loss')\n",
    "    #plt.ylim([0, 10])\n",
    "    plt.xlabel('Epoch')\n",
    "    plt.ylabel('Error ')\n",
    "    plt.legend()\n",
    "    plt.grid(True)"
   ]
  },
  {
   "cell_type": "code",
   "execution_count": 21,
   "metadata": {},
   "outputs": [
    {
     "data": {
      "image/png": "[encoded data removed]",
      "text/plain": [
       "<Figure size 640x480 with 1 Axes>"
      ]
     },
     "metadata": {},
     "output_type": "display_data"
    }
   ],
   "source": [
    "plot_loss(history)"
   ]
  },
  {
   "cell_type": "code",
   "execution_count": 22,
   "metadata": {},
   "outputs": [
    {
     "data": {
      "text/plain": [
       "[1.9011913537979126, 0.7033991813659668, 0.7862903475761414]"
      ]
     },
     "execution_count": 22,
     "metadata": {},
     "output_type": "execute_result"
    }
   ],
   "source": [
    "model.evaluate(\n",
    "    X_test,\n",
    "    y_test, verbose=0)"
   ]
  },
  {
   "cell_type": "code",
   "execution_count": 24,
   "metadata": {},
   "outputs": [
    {
     "name": "stdout",
     "output_type": "stream",
     "text": [
      "16/16 - 0s - loss: 1.9012 - auc: 0.7034 - accuracy: 0.7863 - 47ms/epoch - 3ms/step\n",
      "Model accuracy: [1.9011913537979126, 0.7033991813659668, 0.7862903475761414]\n"
     ]
    }
   ],
   "source": [
    "metrics = model.evaluate(X_test, y_test, verbose=2)\n",
    "print(f'Model accuracy: {metrics}')"
   ]
  },
  {
   "cell_type": "code",
   "execution_count": 25,
   "metadata": {},
   "outputs": [
    {
     "name": "stdout",
     "output_type": "stream",
     "text": [
      "60/60 [==============================] - 0s 2ms/step\n"
     ]
    },
    {
     "data": {
      "text/plain": [
       "array([[0.00652184],\n",
       "       [0.00601336],\n",
       "       [0.00560313],\n",
       "       ...,\n",
       "       [0.08231211],\n",
       "       [0.10783754],\n",
       "       [0.03615688]], dtype=float32)"
      ]
     },
     "execution_count": 25,
     "metadata": {},
     "output_type": "execute_result"
    }
   ],
   "source": [
    "y_pred_train = model.predict(X_train)\n",
    "y_pred_train"
   ]
  },
  {
   "cell_type": "code",
   "execution_count": 26,
   "metadata": {},
   "outputs": [],
   "source": [
    "# plt.figure(figsize=(15,10))  # Adjust the width and height as needed\n",
    "# plt.plot(y_pred_train[:200])\n",
    "# plt.plot(y_train[:200])\n"
   ]
  },
  {
   "cell_type": "code",
   "execution_count": 27,
   "metadata": {},
   "outputs": [
    {
     "name": "stdout",
     "output_type": "stream",
     "text": [
      " 1/16 [>.............................] - ETA: 0s"
     ]
    },
    {
     "name": "stdout",
     "output_type": "stream",
     "text": [
      "16/16 [==============================] - 0s 3ms/step\n"
     ]
    },
    {
     "data": {
      "text/plain": [
       "(496, 1)"
      ]
     },
     "execution_count": 27,
     "metadata": {},
     "output_type": "execute_result"
    }
   ],
   "source": [
    "y_pred = model.predict(X_test)\n",
    "y_pred_c = y_pred.round().astype(int)\n",
    "y_pred_c.shape"
   ]
  },
  {
   "cell_type": "code",
   "execution_count": 28,
   "metadata": {},
   "outputs": [],
   "source": [
    "# plt.figure(figsize=(15,10))  \n",
    "# plt.plot(y_pred[:200])\n",
    "# plt.plot(y_test[:200])"
   ]
  },
  {
   "cell_type": "code",
   "execution_count": 29,
   "metadata": {},
   "outputs": [
    {
     "data": {
      "image/png": "[encoded data removed]",
      "text/plain": [
       "<Figure size 640x480 with 1 Axes>"
      ]
     },
     "metadata": {},
     "output_type": "display_data"
    }
   ],
   "source": [
    "plots.plot_roc(y_test, y_pred)"
   ]
  },
  {
   "cell_type": "code",
   "execution_count": 32,
   "metadata": {},
   "outputs": [
    {
     "name": "stdout",
     "output_type": "stream",
     "text": [
      " 1/16 [>.............................] - ETA: 0s - loss: 0.0377 - auc: 0.0000e+00 - accuracy: 1.0000"
     ]
    },
    {
     "name": "stdout",
     "output_type": "stream",
     "text": [
      "16/16 [==============================] - 0s 3ms/step - loss: 1.9012 - auc: 0.7034 - accuracy: 0.7863\n",
      "Loss: 1.9011913537979126\n",
      "Accuracy: 0.7862903475761414\n",
      "Precision: 0.058823529411764705\n",
      "Recall: 0.16129032258064516\n"
     ]
    },
    {
     "data": {
      "text/plain": [
       "(31.0, 85)"
      ]
     },
     "execution_count": 32,
     "metadata": {},
     "output_type": "execute_result"
    }
   ],
   "source": [
    "from sklearn.metrics import precision_score, recall_score, confusion_matrix\n",
    "y_pred_c = y_pred.round().astype(int)\n",
    "precision = precision_score(y_test, y_pred_c)\n",
    "recall = recall_score(y_test, y_pred_c)\n",
    "\n",
    "metrics = model.evaluate(X_test, y_test)\n",
    "\n",
    "print('Loss:', metrics[0])\n",
    "print('Accuracy:', metrics[2])\n",
    "print('Precision:', precision)\n",
    "print('Recall:', recall)\n",
    "print('Are these labels true???? please check')\n",
    "y_test.sum(), y_pred_c.sum()\n"
   ]
  },
  {
   "cell_type": "code",
   "execution_count": 33,
   "metadata": {},
   "outputs": [
    {
     "data": {
      "image/png": "[encoded data removed]",
      "text/plain": [
       "<Figure size 640x480 with 2 Axes>"
      ]
     },
     "metadata": {},
     "output_type": "display_data"
    }
   ],
   "source": [
    "plots.plot_confusion_matrix(y_test, y_pred_c)"
   ]
  },
  {
   "cell_type": "code",
   "execution_count": 34,
   "metadata": {},
   "outputs": [
    {
     "data": {
      "image/png": "[encoded data removed]",
      "text/plain": [
       "<Figure size 640x480 with 1 Axes>"
      ]
     },
     "metadata": {},
     "output_type": "display_data"
    }
   ],
   "source": [
    "from sklearn.metrics import confusion_matrix, classification_report\n",
    "mat = confusion_matrix(y_test, y_pred_c)\n",
    "labels = ['No Seizure', 'Seizure']\n",
    "# Create the heatmap with custom labels\n",
    "sns.heatmap(mat.T, square=True, annot=True, fmt='d', cbar=False, xticklabels=labels, yticklabels=labels)\n",
    "\n",
    "plt.xlabel('True label')\n",
    "plt.ylabel('Predicted label')\n",
    "\n",
    "plt.show()"
   ]
  },
  {
   "cell_type": "code",
   "execution_count": 35,
   "metadata": {},
   "outputs": [
    {
     "name": "stdout",
     "output_type": "stream",
     "text": [
      "Classification Report:\n",
      "              precision    recall  f1-score   support\n",
      "\n",
      "         0.0       0.94      0.83      0.88       465\n",
      "         1.0       0.06      0.16      0.09        31\n",
      "\n",
      "    accuracy                           0.79       496\n",
      "   macro avg       0.50      0.49      0.48       496\n",
      "weighted avg       0.88      0.79      0.83       496\n",
      "\n"
     ]
    }
   ],
   "source": [
    "report = classification_report(y_test, y_pred_c)\n",
    "print(\"Classification Report:\")\n",
    "print(report)\n",
    " "
   ]
  },
  {
   "cell_type": "code",
   "execution_count": 36,
   "metadata": {},
   "outputs": [
    {
     "data": {
      "text/plain": [
       "Text(0, 0.5, 'Predictions')"
      ]
     },
     "execution_count": 36,
     "metadata": {},
     "output_type": "execute_result"
    },
    {
     "data": {
      "image/png": "[encoded data removed]",
      "text/plain": [
       "<Figure size 640x480 with 1 Axes>"
      ]
     },
     "metadata": {},
     "output_type": "display_data"
    }
   ],
   "source": [
    "a = plt.axes(aspect='equal')\n",
    "plt.scatter(y_test, y_pred_c,c=np.arange(len(y_test)))\n",
    "plt.xlabel('True Values')\n",
    "plt.ylabel('Predictions')\n",
    "#lims = [0, 50]\n",
    "#plt.xlim(lims)\n",
    "#plt.ylim(lims)\n",
    "#_ = plt.plot(lims, lims)"
   ]
  },
  {
   "cell_type": "code",
   "execution_count": 37,
   "metadata": {},
   "outputs": [],
   "source": [
    "# error = y_pred_c - y_test\n",
    "# plt.hist(error, bins=25)\n",
    "# plt.xlabel('Prediction Error')\n",
    "# _ = plt.ylabel('Count')"
   ]
  },
  {
   "cell_type": "code",
   "execution_count": 38,
   "metadata": {},
   "outputs": [],
   "source": [
    "# def make_model(input_shape):\n",
    "#     input_layer = keras.layers.Input(input_shape)\n",
    "\n",
    "#     conv1 = keras.layers.Conv1D(filters=64, kernel_size=3, padding=\"same\")(input_layer)\n",
    "#     conv1 = keras.layers.BatchNormalization()(conv1)\n",
    "#     conv1 = keras.layers.ReLU()(conv1)\n",
    "\n",
    "#     conv2 = keras.layers.Conv1D(filters=64, kernel_size=3, padding=\"same\")(conv1)\n",
    "#     conv2 = keras.layers.BatchNormalization()(conv2)\n",
    "#     conv2 = keras.layers.ReLU()(conv2)\n",
    "\n",
    "#     conv3 = keras.layers.Conv1D(filters=64, kernel_size=3, padding=\"same\")(conv2)\n",
    "#     conv3 = keras.layers.BatchNormalization()(conv3)\n",
    "#     conv3 = keras.layers.ReLU()(conv3)\n",
    "\n",
    "#     gap = keras.layers.GlobalAveragePooling1D()(conv3)\n",
    "\n",
    "#     output_layer = keras.layers.Dense(num_classes, activation=\"softmax\")(gap)\n",
    "\n",
    "#     return keras.models.Model(inputs=input_layer, outputs=output_layer)\n"
   ]
  },
  {
   "cell_type": "code",
   "execution_count": 39,
   "metadata": {},
   "outputs": [],
   "source": [
    "# model = make_model(input_shape=X_train.shape[1:])\n",
    "# keras.utils.plot_model(model, show_shapes=True)"
   ]
  },
  {
   "cell_type": "code",
   "execution_count": 40,
   "metadata": {},
   "outputs": [],
   "source": [
    "# epochs = 500\n",
    "# batch_size = 32\n",
    "\n",
    "# callbacks = [\n",
    "#     keras.callbacks.ModelCheckpoint(\n",
    "#         \"best_model.h5\", save_best_only=True, monitor=\"val_loss\"\n",
    "#     ),\n",
    "#     keras.callbacks.ReduceLROnPlateau(\n",
    "#         monitor=\"val_loss\", factor=0.5, patience=20, min_lr=0.0001\n",
    "#     ),\n",
    "#     keras.callbacks.EarlyStopping(monitor=\"val_loss\", patience=50, verbose=1),\n",
    "# ]\n",
    "# model.compile(\n",
    "#     optimizer=\"adam\",\n",
    "#     loss=\"sparse_categorical_crossentropy\",\n",
    "#     metrics=[\"sparse_categorical_accuracy\"],\n",
    "# )\n",
    "# history = model.fit(\n",
    "#     X_train,\n",
    "#     y_train,\n",
    "#     batch_size=batch_size,\n",
    "#     epochs=epochs,\n",
    "#     callbacks=callbacks,\n",
    "#     #validation_split=0.2,\n",
    "#     verbose=1,\n"
   ]
  },
  {
   "cell_type": "markdown",
   "metadata": {},
   "source": [
    "inputs: A 3D tensor with shape [batch, timesteps, feature]."
   ]
  },
  {
   "cell_type": "code",
   "execution_count": 41,
   "metadata": {},
   "outputs": [],
   "source": [
    "# Define a sequential model\n",
    "model = keras.Sequential()\n",
    "\n",
    "#model.add(normalizer)\n",
    "\n",
    "# Add an input layer with an input shape of (time_steps, input_features)\n",
    "model.add(layers.InputLayer(input_shape=(X_train.shape[1],X_train.shape[2])))\n",
    "\n",
    "# Add a SimpleRNN layer with 32 units (neurons)\n",
    "model.add(layers.SimpleRNN(72, activation='tanh'))\n",
    "\n",
    "model.add(BatchNormalization())\n",
    "\n",
    "# Add the output layer with 1 neuron and sigmoid activation for binary classification\n",
    "model.add(layers.Dense(1, activation='sigmoid'))\n",
    "\n",
    "# Compile the model with binary cross-entropy loss for binary classification\n",
    "model.compile(loss='binary_crossentropy', optimizer='adam', metrics=['accuracy'])\n"
   ]
  },
  {
   "cell_type": "code",
   "execution_count": 42,
   "metadata": {},
   "outputs": [
    {
     "data": {
      "text/plain": [
       "(1891, 30, 62)"
      ]
     },
     "execution_count": 42,
     "metadata": {},
     "output_type": "execute_result"
    }
   ],
   "source": [
    "X_train.shape"
   ]
  },
  {
   "cell_type": "code",
   "execution_count": 43,
   "metadata": {},
   "outputs": [
    {
     "data": {
      "text/plain": [
       "(1891,)"
      ]
     },
     "execution_count": 43,
     "metadata": {},
     "output_type": "execute_result"
    }
   ],
   "source": [
    "y_train.shape"
   ]
  },
  {
   "cell_type": "code",
   "execution_count": 44,
   "metadata": {},
   "outputs": [
    {
     "ename": "NameError",
     "evalue": "name 'X_val' is not defined",
     "output_type": "error",
     "traceback": [
      "\u001b[0;31m---------------------------------------------------------------------------\u001b[0m",
      "\u001b[0;31mNameError\u001b[0m                                 Traceback (most recent call last)",
      "\u001b[1;32m/home/weasel/reps/ai-seizure-detectives/model_rnn.ipynb Cell 42\u001b[0m line \u001b[0;36m6\n\u001b[1;32m      <a href='vscode-notebook-cell://wsl%2Bdebian/home/weasel/reps/ai-seizure-detectives/model_rnn.ipynb#Y543sdnNjb2RlLXJlbW90ZQ%3D%3D?line=0'>1</a>\u001b[0m history \u001b[39m=\u001b[39m model\u001b[39m.\u001b[39mfit(X_train,  y_train, \n\u001b[1;32m      <a href='vscode-notebook-cell://wsl%2Bdebian/home/weasel/reps/ai-seizure-detectives/model_rnn.ipynb#Y543sdnNjb2RlLXJlbW90ZQ%3D%3D?line=1'>2</a>\u001b[0m                     batch_size\u001b[39m=\u001b[39m\u001b[39m100\u001b[39m, \n\u001b[1;32m      <a href='vscode-notebook-cell://wsl%2Bdebian/home/weasel/reps/ai-seizure-detectives/model_rnn.ipynb#Y543sdnNjb2RlLXJlbW90ZQ%3D%3D?line=2'>3</a>\u001b[0m                     class_weight\u001b[39m=\u001b[39mclass_weight_dict,\n\u001b[1;32m      <a href='vscode-notebook-cell://wsl%2Bdebian/home/weasel/reps/ai-seizure-detectives/model_rnn.ipynb#Y543sdnNjb2RlLXJlbW90ZQ%3D%3D?line=3'>4</a>\u001b[0m                     shuffle\u001b[39m=\u001b[39m\u001b[39mTrue\u001b[39;00m,\n\u001b[1;32m      <a href='vscode-notebook-cell://wsl%2Bdebian/home/weasel/reps/ai-seizure-detectives/model_rnn.ipynb#Y543sdnNjb2RlLXJlbW90ZQ%3D%3D?line=4'>5</a>\u001b[0m                     epochs\u001b[39m=\u001b[39m\u001b[39m300\u001b[39m,\n\u001b[0;32m----> <a href='vscode-notebook-cell://wsl%2Bdebian/home/weasel/reps/ai-seizure-detectives/model_rnn.ipynb#Y543sdnNjb2RlLXJlbW90ZQ%3D%3D?line=5'>6</a>\u001b[0m                     validation_data\u001b[39m=\u001b[39m(X_val, y_val))\n",
      "\u001b[0;31mNameError\u001b[0m: name 'X_val' is not defined"
     ]
    }
   ],
   "source": [
    "history = model.fit(X_train,  y_train, \n",
    "                    batch_size=100, \n",
    "                    class_weight=class_weight_dict,\n",
    "                    shuffle=True,\n",
    "                    epochs=300,\n",
    "                    validation_data=(X_val, y_val))"
   ]
  },
  {
   "cell_type": "code",
   "execution_count": 45,
   "metadata": {},
   "outputs": [
    {
     "data": {
      "image/png": "[encoded data removed]",
      "text/plain": [
       "<Figure size 640x480 with 1 Axes>"
      ]
     },
     "metadata": {},
     "output_type": "display_data"
    }
   ],
   "source": [
    "plot_loss(history)"
   ]
  },
  {
   "cell_type": "code",
   "execution_count": 46,
   "metadata": {},
   "outputs": [
    {
     "name": "stdout",
     "output_type": "stream",
     "text": [
      "16/16 [==============================] - 0s 2ms/step\n"
     ]
    },
    {
     "data": {
      "text/plain": [
       "array([0.6652413 , 0.569696  , 0.6270943 , 0.6571634 , 0.6279296 ,\n",
       "       0.661146  , 0.6190019 , 0.6956031 , 0.60217565, 0.6422262 ,\n",
       "       0.6130368 , 0.61739904, 0.5836438 , 0.60966194, 0.61492014,\n",
       "       0.68353057, 0.62516934, 0.6223092 , 0.60138613, 0.86089545,\n",
       "       0.5997883 , 0.7082959 , 0.61577535, 0.65439284, 0.6153179 ,\n",
       "       0.61165124, 0.6138298 , 0.6019997 , 0.69033056, 0.5684809 ,\n",
       "       0.60205024, 0.6596652 , 0.5667143 , 0.5973395 , 0.5799074 ,\n",
       "       0.5978519 , 0.69248086, 0.6828316 , 0.5917969 , 0.65039593,\n",
       "       0.6280549 , 0.5896513 , 0.5801114 , 0.6888158 , 0.6263854 ,\n",
       "       0.5939749 , 0.6077289 , 0.7062058 , 0.5900531 , 0.61288965,\n",
       "       0.6144817 , 0.6018636 , 0.6108944 , 0.6096263 , 0.6149801 ,\n",
       "       0.60750127, 0.654709  , 0.6353007 , 0.60026884, 0.6303653 ,\n",
       "       0.6049201 , 0.61497486, 0.57438624, 0.5701094 , 0.5770952 ,\n",
       "       0.5821288 , 0.643623  , 0.621211  , 0.44605097, 0.6186412 ,\n",
       "       0.5902251 , 0.7171862 , 0.6248064 , 0.6361713 , 0.63841057,\n",
       "       0.60719955, 0.59733856, 0.60892665, 0.6013863 , 0.623986  ,\n",
       "       0.63009584, 0.603017  , 0.61030924, 0.58020943, 0.6748548 ,\n",
       "       0.60598344, 0.6255829 , 0.6094475 , 0.6422542 , 0.6050221 ,\n",
       "       0.64808655, 0.6784057 , 0.6414742 , 0.43772689, 0.47509748,\n",
       "       0.4773404 , 0.46248704, 0.49979073, 0.47895792, 0.5372552 ,\n",
       "       0.5187584 , 0.52861136, 0.50036955, 0.5100715 , 0.62464726,\n",
       "       0.5285064 , 0.5293216 , 0.5315612 , 0.5522734 , 0.56808764,\n",
       "       0.5585732 , 0.5905    , 0.5551743 , 0.59540546, 0.5667664 ,\n",
       "       0.5959337 , 0.6187483 , 0.5835188 , 0.6195134 , 0.59738874,\n",
       "       0.60609746, 0.5645777 , 0.5945552 , 0.5894392 , 0.42119426,\n",
       "       0.5681184 , 0.6998913 , 0.5707609 , 0.41356623, 0.38445675,\n",
       "       0.58828235, 0.44433853, 0.4882775 , 0.6843342 , 0.6339574 ,\n",
       "       0.55668706, 0.54252225, 0.52601564, 0.52793366, 0.5227525 ,\n",
       "       0.53863966, 0.52710426, 0.5825123 , 0.7270559 , 0.5614912 ,\n",
       "       0.67644376, 0.6574703 , 0.5613832 , 0.571432  , 0.45936516,\n",
       "       0.51618534, 0.5878282 , 0.6881402 , 0.55302554, 0.64734346,\n",
       "       0.44869968, 0.5226918 , 0.43218562, 0.41906303, 0.436424  ,\n",
       "       0.43815136, 0.45401877, 0.4686395 , 0.49536863, 0.7637861 ,\n",
       "       0.61514354, 0.5505852 , 0.5499905 , 0.53895366, 0.64563704,\n",
       "       0.5790271 , 0.5502958 , 0.6727013 , 0.53519833, 0.6540693 ,\n",
       "       0.5616995 , 0.5763694 , 0.60563   , 0.52863824, 0.59784764,\n",
       "       0.62152696, 0.6223313 , 0.6219068 , 0.5734146 , 0.580643  ,\n",
       "       0.6430308 , 0.4636795 , 0.45806566, 0.4597016 , 0.43732667,\n",
       "       0.46201423, 0.43120196, 0.4199319 , 0.4154514 , 0.47197604,\n",
       "       0.43822312, 0.3883257 , 0.40413404, 0.40162173, 0.41081923,\n",
       "       0.4120124 , 0.43464842, 0.43222827, 0.44615903, 0.4607598 ,\n",
       "       0.48140505, 0.30819106, 0.49094445, 0.57494134, 0.5388886 ,\n",
       "       0.5200795 , 0.5160525 , 0.3901946 , 0.506543  , 0.5344031 ,\n",
       "       0.5556286 , 0.53725415, 0.3587931 , 0.38405797, 0.2732596 ,\n",
       "       0.42811373, 0.43118182, 0.34026456, 0.5205217 , 0.5612506 ,\n",
       "       0.4630498 , 0.39897135, 0.38194242, 0.43440032, 0.3757299 ,\n",
       "       0.42113298, 0.37296957, 0.37644294, 0.38949406, 0.40350494,\n",
       "       0.4161069 , 0.42863566, 0.414522  , 0.4235962 , 0.44694293,\n",
       "       0.42506832, 0.46866596, 0.4787772 , 0.46934006, 0.50378984,\n",
       "       0.51934683, 0.5310882 , 0.5135697 , 0.3030587 , 0.37857455,\n",
       "       0.42232576, 0.27681717, 0.3641637 , 0.43111262, 0.4040192 ,\n",
       "       0.40412614, 0.37876886, 0.32991266, 0.33362213, 0.38279763,\n",
       "       0.3204743 , 0.32391536, 0.36691436, 0.35020855, 0.35531   ,\n",
       "       0.38966686, 0.3785968 , 0.38163382, 0.405167  , 0.42391026,\n",
       "       0.3944749 , 0.41027153, 0.44244385, 0.46995836, 0.4667238 ,\n",
       "       0.48680976, 0.49501336, 0.49217668, 0.49332157, 0.3862032 ,\n",
       "       0.44422376, 0.38413483, 0.4220173 , 0.4364825 , 0.43726265,\n",
       "       0.3949609 , 0.551351  , 0.47417286, 0.4014426 , 0.3660487 ,\n",
       "       0.38109592, 0.37379816, 0.3684239 , 0.3446881 , 0.34863582,\n",
       "       0.36590335, 0.37758777, 0.36572483, 0.38418743, 0.38965997,\n",
       "       0.39837563, 0.407982  , 0.42609367, 0.43063006, 0.4513211 ,\n",
       "       0.46074924, 0.45799103, 0.4747065 , 0.48969895, 0.4966999 ,\n",
       "       0.31376228, 0.30064297, 0.32000488, 0.34089395, 0.31930766,\n",
       "       0.3462876 , 0.34911686, 0.38628054, 0.28159934, 0.3627369 ,\n",
       "       0.41596138, 0.39656124, 0.32339916, 0.27384606, 0.37394723,\n",
       "       0.36815754, 0.31858882, 0.33842516, 0.35862654, 0.34191993,\n",
       "       0.3044802 , 0.32338294, 0.36181813, 0.3823679 , 0.4104403 ,\n",
       "       0.35382304, 0.3438774 , 0.3670379 , 0.3667986 , 0.41488868,\n",
       "       0.40240532, 0.4582582 , 0.3526926 , 0.27478963, 0.40877676,\n",
       "       0.40939188, 0.3618589 , 0.5249612 , 0.36274448, 0.31649446,\n",
       "       0.39789778, 0.30452377, 0.2138851 , 0.32177857, 0.26993054,\n",
       "       0.27846035, 0.25911295, 0.27674666, 0.26746637, 0.28896844,\n",
       "       0.30843973, 0.33016482, 0.36256424, 0.40238753, 0.26573223,\n",
       "       0.22156195, 0.35593435, 0.33750528, 0.28910235, 0.37896293,\n",
       "       0.2803547 , 0.4049907 , 0.33963594, 0.33004746, 0.3375563 ,\n",
       "       0.3204794 , 0.31054157, 0.32648873, 0.30842286, 0.4260846 ,\n",
       "       0.46692806, 0.30909103, 0.3797165 , 0.29219872, 0.33571044,\n",
       "       0.62112385, 0.34811348, 0.3195699 , 0.2970283 , 0.3069522 ,\n",
       "       0.3066885 , 0.31466964, 0.33998042, 0.32226023, 0.27235094,\n",
       "       0.22456524, 0.27676392, 0.2898272 , 0.2808813 , 0.26910356,\n",
       "       0.28608766, 0.31292447, 0.3187728 , 0.3861677 , 0.38987392,\n",
       "       0.38485253, 0.38261008, 0.3707685 , 0.39104915, 0.35279164,\n",
       "       0.3603043 , 0.33357993, 0.3343079 , 0.33669484, 0.3188711 ,\n",
       "       0.30423367, 0.3105262 , 0.30440813, 0.31578785, 0.299009  ,\n",
       "       0.29674652, 0.29555297, 0.29727829, 0.277262  , 0.2965727 ,\n",
       "       0.27959156, 0.28882012, 0.28481197, 0.2918079 , 0.2993838 ,\n",
       "       0.30200222, 0.31586194, 0.35213825, 0.34461346, 0.29542464,\n",
       "       0.33201844, 0.35361746, 0.35526073, 0.3420579 , 0.31507835,\n",
       "       0.3103886 , 0.2908673 , 0.3266469 , 0.317783  , 0.31828013,\n",
       "       0.3123295 , 0.25279772, 0.3215027 , 0.2804789 , 0.26861468,\n",
       "       0.2958932 , 0.2968075 , 0.26578093, 0.27257934, 0.25974604,\n",
       "       0.2520303 , 0.25218186, 0.32627842, 0.26667783, 0.26323926,\n",
       "       0.27470216, 0.27350318, 0.26511413, 0.27610195, 0.30017102,\n",
       "       0.38500676, 0.37637645, 0.34530547, 0.3690651 , 0.355853  ,\n",
       "       0.36944458, 0.34312207, 0.29550368, 0.36085805, 0.35986838,\n",
       "       0.31424642, 0.3283497 , 0.31813326, 0.30099776, 0.317086  ,\n",
       "       0.2966371 , 0.2646232 , 0.27826786, 0.27204275, 0.2763856 ,\n",
       "       0.29300806, 0.25812554, 0.26703545, 0.26603764, 0.27279052,\n",
       "       0.26665732, 0.2766223 , 0.26954728, 0.27440894, 0.25993377,\n",
       "       0.25956622], dtype=float32)"
      ]
     },
     "execution_count": 46,
     "metadata": {},
     "output_type": "execute_result"
    }
   ],
   "source": [
    "y_pred = model.predict(X_test).flatten()\n",
    "y_pred"
   ]
  },
  {
   "cell_type": "code",
   "execution_count": 47,
   "metadata": {},
   "outputs": [
    {
     "name": "stdout",
     "output_type": "stream",
     "text": [
      "16/16 - 0s - loss: 0.6718 - accuracy: 0.5746 - 234ms/epoch - 15ms/step\n",
      "Model accuracy: 0.5745967626571655\n"
     ]
    }
   ],
   "source": [
    "loss, accuracy = model.evaluate(X_test, y_test, verbose=2)\n",
    "print(f'Model accuracy: {accuracy}')"
   ]
  },
  {
   "cell_type": "code",
   "execution_count": 48,
   "metadata": {},
   "outputs": [
    {
     "name": "stdout",
     "output_type": "stream",
     "text": [
      "16/16 [==============================] - 0s 2ms/step - loss: 0.6718 - accuracy: 0.5746\n",
      "Loss: 0.6718045473098755\n",
      "Accuracy: 0.5745967626571655\n",
      "Precision: 0.005494505494505495\n",
      "Recall: 0.03225806451612903\n"
     ]
    },
    {
     "data": {
      "text/plain": [
       "(31.0, 182)"
      ]
     },
     "execution_count": 48,
     "metadata": {},
     "output_type": "execute_result"
    }
   ],
   "source": [
    "from sklearn.metrics import precision_score, recall_score\n",
    "y_pred_c = y_pred.round().astype(int)\n",
    "precision = precision_score(y_test, y_pred_c)\n",
    "recall = recall_score(y_test, y_pred_c)\n",
    "\n",
    "loss, accuracy = model.evaluate(X_test, y_test)\n",
    "\n",
    "print('Loss:', loss)\n",
    "print('Accuracy:', accuracy)\n",
    "print('Precision:', precision)\n",
    "print('Recall:', recall)\n",
    "y_test.sum(), y_pred_c.sum()"
   ]
  },
  {
   "cell_type": "code",
   "execution_count": 49,
   "metadata": {},
   "outputs": [
    {
     "data": {
      "text/plain": [
       "Text(0, 0.5, 'Predictions')"
      ]
     },
     "execution_count": 49,
     "metadata": {},
     "output_type": "execute_result"
    },
    {
     "data": {
      "image/png": "[encoded data removed]",
      "text/plain": [
       "<Figure size 640x480 with 1 Axes>"
      ]
     },
     "metadata": {},
     "output_type": "display_data"
    }
   ],
   "source": [
    "\n",
    "a = plt.axes(aspect='equal')\n",
    "plt.scatter(y_test, y_pred)\n",
    "plt.xlabel('True Values')\n",
    "plt.ylabel('Predictions')"
   ]
  },
  {
   "cell_type": "code",
   "execution_count": null,
   "metadata": {},
   "outputs": [],
   "source": []
  }
 ],
 "metadata": {
  "kernelspec": {
   "display_name": ".venv",
   "language": "python",
   "name": "python3"
  },
  "language_info": {
   "codemirror_mode": {
    "name": "ipython",
    "version": 3
   },
   "file_extension": ".py",
   "mimetype": "text/x-python",
   "name": "python",
   "nbconvert_exporter": "python",
   "pygments_lexer": "ipython3",
   "version": "3.11.3"
  }
 },
 "nbformat": 4,
 "nbformat_minor": 2
}
