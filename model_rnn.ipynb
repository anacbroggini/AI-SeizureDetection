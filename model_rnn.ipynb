{
 "cells": [
  {
   "cell_type": "code",
   "execution_count": 1,
   "metadata": {},
   "outputs": [
    {
     "name": "stderr",
     "output_type": "stream",
     "text": [
      "2023-11-15 16:44:04.460887: I tensorflow/core/platform/cpu_feature_guard.cc:182] This TensorFlow binary is optimized to use available CPU instructions in performance-critical operations.\n",
      "To enable the following instructions: AVX2 FMA, in other operations, rebuild TensorFlow with the appropriate compiler flags.\n"
     ]
    }
   ],
   "source": [
    "import pip\n",
    "\n",
    "def import_or_install(package):\n",
    "    try:\n",
    "        __import__(package)\n",
    "    except ImportError:\n",
    "        pip.main(['install', package])       \n",
    "\n",
    "import_or_install('tensorflow')\n",
    "import_or_install('pydot')\n"
   ]
  },
  {
   "cell_type": "code",
   "execution_count": 2,
   "metadata": {},
   "outputs": [],
   "source": [
    "import tensorflow as tf\n",
    "from tensorflow import keras\n",
    "from tensorflow.keras import layers"
   ]
  },
  {
   "cell_type": "code",
   "execution_count": 3,
   "metadata": {},
   "outputs": [],
   "source": [
    "import pyarrow as pa\n",
    "import pandas as pd\n",
    "import matplotlib\n",
    "import matplotlib.pyplot as plt\n",
    "import seaborn as sns\n",
    "import numpy as np\n",
    "from source import data_import"
   ]
  },
  {
   "cell_type": "code",
   "execution_count": 4,
   "metadata": {},
   "outputs": [],
   "source": [
    "from sklearn.model_selection import train_test_split\n",
    "from sklearn.metrics import confusion_matrix, accuracy_score\n",
    "from sklearn.preprocessing import StandardScaler"
   ]
  },
  {
   "cell_type": "code",
   "execution_count": 5,
   "metadata": {},
   "outputs": [],
   "source": [
    "import tensorflow as tf\n",
    "\n",
    "import keras \n",
    "from keras.models import Sequential # intitialize the ANN\n",
    "from keras.layers import Dense, Activation, Dropout "
   ]
  },
  {
   "cell_type": "code",
   "execution_count": 6,
   "metadata": {},
   "outputs": [],
   "source": [
    "import source.plots as plots"
   ]
  },
  {
   "cell_type": "code",
   "execution_count": 7,
   "metadata": {},
   "outputs": [],
   "source": [
    "RSEED = 42\n",
    "np.random.seed(seed=RSEED)\n",
    "tf.random.set_seed(RSEED)"
   ]
  },
  {
   "cell_type": "code",
   "execution_count": 34,
   "metadata": {},
   "outputs": [
    {
     "name": "stdout",
     "output_type": "stream",
     "text": [
      "data already loaded in parent notebook\n"
     ]
    },
    {
     "data": {
      "text/plain": [
       "(13330, 30, 63)"
      ]
     },
     "execution_count": 34,
     "metadata": {},
     "output_type": "execute_result"
    }
   ],
   "source": [
    "try:\n",
    "    data\n",
    "    print('data already loaded in parent notebook')\n",
    "except NameError:\n",
    "    data = np.load('data/extracted_features5.npy')\n",
    "data.shape"
   ]
  },
  {
   "cell_type": "code",
   "execution_count": 35,
   "metadata": {},
   "outputs": [],
   "source": [
    "import numpy as np\n",
    "\n",
    "def split_data(data, train_size=0.8, random_state=None):\n",
    "    np.random.seed(seed=RSEED)\n",
    "\n",
    "    # Assuming the first column contains the IDs\n",
    "    ids_column = data[:, 0, 0]\n",
    "\n",
    "    # Find unique epoch IDs\n",
    "    unique_epoch_ids = np.unique(ids_column)\n",
    "\n",
    "    # Shuffle the unique epoch IDs\n",
    "    np.random.shuffle(unique_epoch_ids)\n",
    "\n",
    "    # Calculate the number of unique epoch IDs for training, validation, and testing\n",
    "    train_samples_nr = int(np.floor(train_size * len(unique_epoch_ids)))\n",
    "    print(f'{train_samples_nr} of epochs for training, {len(unique_epoch_ids) - train_samples_nr} of epochs for testing/validation')\n",
    "\n",
    "    # Split the unique epoch IDs into train, validation, and test sets\n",
    "\n",
    "    train_sample_ids = unique_epoch_ids[:train_samples_nr]\n",
    "    test_sample_ids = unique_epoch_ids[train_samples_nr:]\n",
    "\n",
    "    # Create boolean masks for filtering\n",
    "    train_mask = np.in1d(ids_column, train_sample_ids)\n",
    "    test_mask = np.in1d(ids_column, test_sample_ids)\n",
    "\n",
    "    # Apply the masks to create train, validation, and test samples\n",
    "    train_sample = data[train_mask, :, :]\n",
    "    test_sample = data[test_mask, :, :]\n",
    "\n",
    "    X_train = train_sample[:,:,:-1]\n",
    "    X_test = test_sample[:,:,:-1]\n",
    "\n",
    "    Y_train = train_sample[:,:,-1]\n",
    "    Y_test = test_sample[:,:,-1]\n",
    "\n",
    "    y_test=Y_test.max(axis=1)\n",
    "    y_train=Y_train.max(axis=1)\n",
    "\n",
    "    return X_train, X_test, Y_train, Y_test, y_train, y_test\n"
   ]
  },
  {
   "cell_type": "code",
   "execution_count": 36,
   "metadata": {},
   "outputs": [
    {
     "name": "stdout",
     "output_type": "stream",
     "text": [
      "344 of epochs for training, 86 of epochs for testing/validation\n",
      "train shape (10664, 30, 62) ratio of seizures 0.14\n",
      "test shape (2666, 30, 62), ratio of seizures 0.13\n"
     ]
    }
   ],
   "source": [
    "X_train, X_test, Y_train, Y_test, y_train, y_test = split_data(data)\n",
    "print(f'train shape', X_train.shape, f'ratio of seizures {y_train.sum()/len(y_train):.2f}')\n",
    "print(f'test shape {X_test.shape}, ratio of seizures {y_test.sum()/len(y_test):.2f}')"
   ]
  },
  {
   "cell_type": "code",
   "execution_count": 37,
   "metadata": {},
   "outputs": [
    {
     "name": "stdout",
     "output_type": "stream",
     "text": [
      "train shape (10664, 30, 60)\n",
      "test shape (2666, 30, 60)\n"
     ]
    }
   ],
   "source": [
    "# Scaling features\n",
    "num_features_train = X_train[:,:,2:]\n",
    "num_features_test = X_test[:,:,2:]\n",
    "\n",
    "# Get the dimensions of the original array\n",
    "num_epochs_tr, num_segments_per_epoch_tr, features_tr = num_features_train.shape\n",
    "num_epochs_te, num_segments_per_epoch_te, features_te = num_features_test.shape\n",
    "\n",
    "# Reshape the array to 2D\n",
    "reshaped_array_train = num_features_train.reshape(num_epochs_tr * num_segments_per_epoch_tr, features_tr)\n",
    "reshaped_array_test = num_features_test.reshape(num_epochs_te * num_segments_per_epoch_te, features_te)\n",
    "\n",
    "# Scaling features\n",
    "scaler = StandardScaler()\n",
    "num_features_scaled_tr = scaler.fit_transform(reshaped_array_train)\n",
    "num_features_scaled_te = scaler.transform(reshaped_array_test)\n",
    "\n",
    "X_train_scaled = num_features_scaled_tr.reshape(num_epochs_tr, num_segments_per_epoch_tr, features_tr)\n",
    "X_test_scaled = num_features_scaled_te.reshape(num_epochs_te, num_segments_per_epoch_te, features_te)\n",
    "\n",
    "print(f'train shape', X_train_scaled.shape)\n",
    "print(f'test shape', X_test_scaled.shape)"
   ]
  },
  {
   "cell_type": "code",
   "execution_count": 38,
   "metadata": {},
   "outputs": [],
   "source": [
    "X_train = X_train_scaled\n",
    "X_test = X_test_scaled"
   ]
  },
  {
   "cell_type": "code",
   "execution_count": 39,
   "metadata": {},
   "outputs": [],
   "source": [
    "import numpy as np\n",
    "import tensorflow as tf\n",
    "from sklearn.utils.class_weight import compute_class_weight\n",
    "\n",
    "class_labels, class_counts = np.unique(y_train, return_counts=True)\n",
    "total_samples = len(y_train)\n",
    "class_weights = total_samples / (len(class_labels) * class_counts)\n",
    "\n",
    "# Convert class weights to a dictionary\n",
    "class_weight_dict = dict(zip(class_labels, class_weights))\n"
   ]
  },
  {
   "cell_type": "code",
   "execution_count": 41,
   "metadata": {},
   "outputs": [
    {
     "data": {
      "text/plain": [
       "{0.0: 0.5830508474576271, 1.0: 3.510204081632653}"
      ]
     },
     "execution_count": 41,
     "metadata": {},
     "output_type": "execute_result"
    }
   ],
   "source": [
    "class_weight_dict"
   ]
  },
  {
   "cell_type": "code",
   "execution_count": 64,
   "metadata": {},
   "outputs": [],
   "source": [
    "N_TRAIN = len(X_train)\n",
    "EPOCHS = 300\n",
    "BATCH_SIZE = 100\n",
    "STEPS_PER_EPOCH = N_TRAIN // BATCH_SIZE"
   ]
  },
  {
   "cell_type": "code",
   "execution_count": 65,
   "metadata": {},
   "outputs": [
    {
     "data": {
      "text/plain": [
       "106"
      ]
     },
     "execution_count": 65,
     "metadata": {},
     "output_type": "execute_result"
    }
   ],
   "source": [
    "STEPS_PER_EPOCH"
   ]
  },
  {
   "cell_type": "code",
   "execution_count": 128,
   "metadata": {},
   "outputs": [],
   "source": [
    "from keras.models import Sequential\n",
    "from keras.layers import LSTM, Dense, Dropout, BatchNormalization, Input\n",
    "from tensorflow.keras.optimizers import Adam\n",
    "from keras import regularizers\n",
    "\n",
    "# Set seeds for reproducibility\n",
    "np.random.seed(42)\n",
    "tf.random.set_seed(42)\n",
    "\n",
    "model = Sequential()\n",
    "\n",
    "model.add(Input(shape=X_train.shape[1:]))\n",
    "\n",
    "#model.add(normalizer)\n",
    "\n",
    "# Recurrent layer\n",
    "model.add(LSTM(64, return_sequences=False, kernel_regularizer=regularizers.l2(0.05)))\n",
    "\n",
    "model.add(Dropout(0.5))  # Add dropout after LSTM\n",
    "\n",
    "# Fully connected layer\n",
    "model.add(Dense(64, activation='relu', kernel_regularizer=regularizers.l2(0.05)))\n",
    "\n",
    "# Dropout for regularization\n",
    "model.add(Dropout(0.5))\n",
    "\n",
    "model.add(BatchNormalization())\n",
    "\n",
    "# Calculate the imbalance ratio\n",
    "#pos_ratio = class_weight_dict[1] / (class_weight_dict[0] + class_weight_dict[1])\n",
    "\n",
    "# Calculate the initial bias based on the imbalance ratio\n",
    "#initial_bias = -np.log(pos_ratio)\n",
    "\n",
    "# Output layer with a custom bias for initial probability\n",
    "#model.add(Dense(1, activation='sigmoid', bias_initializer=tf.keras.initializers.Constant(initial_bias)))\n",
    "model.add(Dense(1, activation='sigmoid'))\n",
    "\n",
    "# Compile the model\n",
    "#learning_rate = 0.001  # Replace with your desired learning rate\n",
    "\n",
    "# Create an instance of the Adam optimizer with the specified learning rate\n",
    "\n",
    "lr_schedule = tf.keras.optimizers.schedules.InverseTimeDecay(\n",
    "    0.00001,\n",
    "    decay_steps=STEPS_PER_EPOCH*1000,\n",
    "    decay_rate=0.001,\n",
    "    staircase=False)\n",
    "\n",
    "\n",
    "optimizer = Adam(learning_rate=lr_schedule)\n",
    "model.compile(\n",
    "    optimizer=optimizer, loss='binary_crossentropy', metrics=['accuracy', 'AUC'])"
   ]
  },
  {
   "cell_type": "code",
   "execution_count": 129,
   "metadata": {},
   "outputs": [
    {
     "name": "stdout",
     "output_type": "stream",
     "text": [
      "Model: \"sequential_8\"\n",
      "_________________________________________________________________\n",
      " Layer (type)                Output Shape              Param #   \n",
      "=================================================================\n",
      " lstm_8 (LSTM)               (None, 64)                32000     \n",
      "                                                                 \n",
      " dropout_15 (Dropout)        (None, 64)                0         \n",
      "                                                                 \n",
      " dense_16 (Dense)            (None, 64)                4160      \n",
      "                                                                 \n",
      " dropout_16 (Dropout)        (None, 64)                0         \n",
      "                                                                 \n",
      " batch_normalization_8 (Bat  (None, 64)                256       \n",
      " chNormalization)                                                \n",
      "                                                                 \n",
      " dense_17 (Dense)            (None, 1)                 65        \n",
      "                                                                 \n",
      "=================================================================\n",
      "Total params: 36481 (142.50 KB)\n",
      "Trainable params: 36353 (142.00 KB)\n",
      "Non-trainable params: 128 (512.00 Byte)\n",
      "_________________________________________________________________\n"
     ]
    }
   ],
   "source": [
    "model.summary()"
   ]
  },
  {
   "cell_type": "code",
   "execution_count": 130,
   "metadata": {},
   "outputs": [],
   "source": [
    "from keras.callbacks import EarlyStopping, ModelCheckpoint\n",
    "\n",
    "# Create EarlyStopping callback\n",
    "early_stopping = EarlyStopping(monitor='val_loss', patience=30, restore_best_weights=True)\n",
    "\n",
    "# Create ModelCheckpoint callback to save the best model\n",
    "model_checkpoint = ModelCheckpoint('best_model.h5', save_best_only=True)\n",
    "\n",
    "# Combine the callbacks in a list\n",
    "callbacks = [early_stopping, model_checkpoint]"
   ]
  },
  {
   "cell_type": "code",
   "execution_count": 67,
   "metadata": {},
   "outputs": [
    {
     "data": {
      "text/plain": [
       "(10664,)"
      ]
     },
     "execution_count": 67,
     "metadata": {},
     "output_type": "execute_result"
    }
   ],
   "source": [
    "y_train.shape"
   ]
  },
  {
   "cell_type": "code",
   "execution_count": 131,
   "metadata": {},
   "outputs": [
    {
     "name": "stdout",
     "output_type": "stream",
     "text": [
      "Epoch 1/300\n",
      "86/86 [==============================] - 21s 114ms/step - loss: 8.9259 - accuracy: 0.4594 - auc: 0.5055 - val_loss: 8.7749 - val_accuracy: 0.1294 - val_auc: 0.4446\n",
      "Epoch 2/300\n",
      " 2/86 [..............................] - ETA: 4s - loss: 8.7759 - accuracy: 0.4250 - auc: 0.5027"
     ]
    },
    {
     "name": "stderr",
     "output_type": "stream",
     "text": [
      "/Users/anabroggini/Documents/bootcamp/ai2/.venv/lib/python3.11/site-packages/keras/src/engine/training.py:3079: UserWarning: You are saving your model as an HDF5 file via `model.save()`. This file format is considered legacy. We recommend using instead the native Keras format, e.g. `model.save('my_model.keras')`.\n",
      "  saving_api.save_model(\n"
     ]
    },
    {
     "name": "stdout",
     "output_type": "stream",
     "text": [
      "86/86 [==============================] - 6s 74ms/step - loss: 8.8445 - accuracy: 0.4536 - auc: 0.5050 - val_loss: 8.7151 - val_accuracy: 0.1369 - val_auc: 0.4460\n",
      "Epoch 3/300\n",
      "86/86 [==============================] - 6s 69ms/step - loss: 8.7406 - accuracy: 0.4622 - auc: 0.5156 - val_loss: 8.6478 - val_accuracy: 0.1646 - val_auc: 0.4460\n",
      "Epoch 4/300\n",
      "86/86 [==============================] - 6s 71ms/step - loss: 8.6285 - accuracy: 0.4677 - auc: 0.5369 - val_loss: 8.5808 - val_accuracy: 0.2199 - val_auc: 0.4470\n",
      "Epoch 5/300\n",
      "86/86 [==============================] - 6s 67ms/step - loss: 8.5439 - accuracy: 0.4655 - auc: 0.5288 - val_loss: 8.5100 - val_accuracy: 0.3057 - val_auc: 0.4490\n",
      "Epoch 6/300\n",
      "86/86 [==============================] - 6s 70ms/step - loss: 8.4609 - accuracy: 0.4698 - auc: 0.5373 - val_loss: 8.4235 - val_accuracy: 0.3526 - val_auc: 0.4524\n",
      "Epoch 7/300\n",
      "86/86 [==============================] - 6s 71ms/step - loss: 8.3849 - accuracy: 0.4731 - auc: 0.5314 - val_loss: 8.3477 - val_accuracy: 0.3690 - val_auc: 0.4550\n",
      "Epoch 8/300\n",
      "86/86 [==============================] - 6s 70ms/step - loss: 8.2768 - accuracy: 0.4777 - auc: 0.5450 - val_loss: 8.2604 - val_accuracy: 0.4013 - val_auc: 0.4575\n",
      "Epoch 9/300\n",
      "86/86 [==============================] - 6s 69ms/step - loss: 8.1897 - accuracy: 0.4822 - auc: 0.5565 - val_loss: 8.1780 - val_accuracy: 0.4107 - val_auc: 0.4584\n",
      "Epoch 10/300\n",
      "86/86 [==============================] - 6s 70ms/step - loss: 8.1248 - accuracy: 0.4806 - auc: 0.5423 - val_loss: 8.0946 - val_accuracy: 0.4219 - val_auc: 0.4601\n",
      "Epoch 11/300\n",
      "86/86 [==============================] - 6s 70ms/step - loss: 8.0232 - accuracy: 0.4906 - auc: 0.5616 - val_loss: 8.0130 - val_accuracy: 0.4243 - val_auc: 0.4623\n",
      "Epoch 12/300\n",
      "86/86 [==============================] - 6s 71ms/step - loss: 7.9621 - accuracy: 0.4845 - auc: 0.5471 - val_loss: 7.9330 - val_accuracy: 0.4360 - val_auc: 0.4634\n",
      "Epoch 13/300\n",
      "86/86 [==============================] - 6s 68ms/step - loss: 7.8621 - accuracy: 0.4906 - auc: 0.5626 - val_loss: 7.8542 - val_accuracy: 0.4444 - val_auc: 0.4629\n",
      "Epoch 14/300\n",
      "86/86 [==============================] - 6s 71ms/step - loss: 7.7959 - accuracy: 0.4829 - auc: 0.5491 - val_loss: 7.7734 - val_accuracy: 0.4510 - val_auc: 0.4650\n",
      "Epoch 15/300\n",
      "86/86 [==============================] - 6s 69ms/step - loss: 7.7027 - accuracy: 0.4979 - auc: 0.5662 - val_loss: 7.6962 - val_accuracy: 0.4491 - val_auc: 0.4632\n",
      "Epoch 16/300\n",
      "86/86 [==============================] - 6s 71ms/step - loss: 7.6136 - accuracy: 0.4996 - auc: 0.5748 - val_loss: 7.6213 - val_accuracy: 0.4440 - val_auc: 0.4606\n",
      "Epoch 17/300\n",
      "86/86 [==============================] - 6s 69ms/step - loss: 7.5673 - accuracy: 0.4846 - auc: 0.5536 - val_loss: 7.5432 - val_accuracy: 0.4543 - val_auc: 0.4605\n",
      "Epoch 18/300\n",
      "86/86 [==============================] - 6s 70ms/step - loss: 7.4550 - accuracy: 0.5002 - auc: 0.5833 - val_loss: 7.4701 - val_accuracy: 0.4552 - val_auc: 0.4600\n",
      "Epoch 19/300\n",
      "86/86 [==============================] - 6s 71ms/step - loss: 7.4122 - accuracy: 0.4917 - auc: 0.5557 - val_loss: 7.3939 - val_accuracy: 0.4580 - val_auc: 0.4586\n",
      "Epoch 20/300\n",
      "86/86 [==============================] - 6s 67ms/step - loss: 7.3172 - accuracy: 0.4964 - auc: 0.5680 - val_loss: 7.3161 - val_accuracy: 0.4566 - val_auc: 0.4595\n",
      "Epoch 21/300\n",
      "86/86 [==============================] - 6s 73ms/step - loss: 7.2425 - accuracy: 0.4977 - auc: 0.5723 - val_loss: 7.2408 - val_accuracy: 0.4604 - val_auc: 0.4584\n",
      "Epoch 22/300\n",
      "86/86 [==============================] - 6s 72ms/step - loss: 7.1607 - accuracy: 0.4964 - auc: 0.5800 - val_loss: 7.1719 - val_accuracy: 0.4505 - val_auc: 0.4591\n",
      "Epoch 23/300\n",
      "86/86 [==============================] - 6s 74ms/step - loss: 7.1103 - accuracy: 0.4908 - auc: 0.5632 - val_loss: 7.1012 - val_accuracy: 0.4529 - val_auc: 0.4568\n",
      "Epoch 24/300\n",
      "86/86 [==============================] - 6s 71ms/step - loss: 7.0253 - accuracy: 0.5056 - auc: 0.5793 - val_loss: 7.0245 - val_accuracy: 0.4641 - val_auc: 0.4595\n",
      "Epoch 25/300\n",
      "86/86 [==============================] - 6s 71ms/step - loss: 6.9497 - accuracy: 0.5043 - auc: 0.5794 - val_loss: 6.9563 - val_accuracy: 0.4590 - val_auc: 0.4580\n",
      "Epoch 26/300\n",
      "86/86 [==============================] - 6s 72ms/step - loss: 6.8605 - accuracy: 0.5094 - auc: 0.5918 - val_loss: 6.8879 - val_accuracy: 0.4534 - val_auc: 0.4528\n",
      "Epoch 27/300\n",
      "86/86 [==============================] - 6s 70ms/step - loss: 6.8164 - accuracy: 0.5071 - auc: 0.5827 - val_loss: 6.8197 - val_accuracy: 0.4548 - val_auc: 0.4515\n",
      "Epoch 28/300\n",
      "86/86 [==============================] - 6s 71ms/step - loss: 6.7390 - accuracy: 0.5103 - auc: 0.5854 - val_loss: 6.7529 - val_accuracy: 0.4548 - val_auc: 0.4538\n",
      "Epoch 29/300\n",
      "86/86 [==============================] - 6s 70ms/step - loss: 6.6497 - accuracy: 0.5154 - auc: 0.6020 - val_loss: 6.6815 - val_accuracy: 0.4627 - val_auc: 0.4537\n",
      "Epoch 30/300\n",
      "86/86 [==============================] - 6s 69ms/step - loss: 6.5978 - accuracy: 0.5152 - auc: 0.5940 - val_loss: 6.6184 - val_accuracy: 0.4519 - val_auc: 0.4501\n",
      "Epoch 31/300\n",
      "86/86 [==============================] - 6s 70ms/step - loss: 6.5298 - accuracy: 0.5146 - auc: 0.5989 - val_loss: 6.5495 - val_accuracy: 0.4632 - val_auc: 0.4525\n",
      "Epoch 32/300\n",
      "86/86 [==============================] - 6s 68ms/step - loss: 6.4679 - accuracy: 0.5106 - auc: 0.5827 - val_loss: 6.4849 - val_accuracy: 0.4609 - val_auc: 0.4518\n",
      "Epoch 33/300\n",
      "86/86 [==============================] - 6s 72ms/step - loss: 6.3788 - accuracy: 0.5217 - auc: 0.6057 - val_loss: 6.4146 - val_accuracy: 0.4627 - val_auc: 0.4519\n",
      "Epoch 34/300\n",
      "86/86 [==============================] - 6s 71ms/step - loss: 6.3350 - accuracy: 0.5120 - auc: 0.5829 - val_loss: 6.3574 - val_accuracy: 0.4538 - val_auc: 0.4505\n",
      "Epoch 35/300\n",
      "86/86 [==============================] - 6s 74ms/step - loss: 6.2595 - accuracy: 0.5230 - auc: 0.6017 - val_loss: 6.2977 - val_accuracy: 0.4510 - val_auc: 0.4477\n",
      "Epoch 36/300\n",
      "86/86 [==============================] - 6s 70ms/step - loss: 6.2031 - accuracy: 0.5122 - auc: 0.5944 - val_loss: 6.2359 - val_accuracy: 0.4501 - val_auc: 0.4465\n",
      "Epoch 37/300\n",
      "86/86 [==============================] - 6s 71ms/step - loss: 6.1218 - accuracy: 0.5290 - auc: 0.6139 - val_loss: 6.1748 - val_accuracy: 0.4501 - val_auc: 0.4436\n",
      "Epoch 38/300\n",
      "86/86 [==============================] - 6s 69ms/step - loss: 6.0652 - accuracy: 0.5193 - auc: 0.6004 - val_loss: 6.1109 - val_accuracy: 0.4501 - val_auc: 0.4431\n",
      "Epoch 39/300\n",
      "86/86 [==============================] - 6s 70ms/step - loss: 5.9872 - accuracy: 0.5324 - auc: 0.6179 - val_loss: 6.0481 - val_accuracy: 0.4510 - val_auc: 0.4432\n",
      "Epoch 40/300\n",
      "86/86 [==============================] - 6s 70ms/step - loss: 5.9364 - accuracy: 0.5246 - auc: 0.6042 - val_loss: 5.9906 - val_accuracy: 0.4468 - val_auc: 0.4415\n",
      "Epoch 41/300\n",
      "86/86 [==============================] - 6s 70ms/step - loss: 5.8774 - accuracy: 0.5325 - auc: 0.6123 - val_loss: 5.9347 - val_accuracy: 0.4421 - val_auc: 0.4408\n",
      "Epoch 42/300\n",
      "86/86 [==============================] - 6s 68ms/step - loss: 5.8126 - accuracy: 0.5273 - auc: 0.6125 - val_loss: 5.8701 - val_accuracy: 0.4463 - val_auc: 0.4418\n",
      "Epoch 43/300\n",
      "86/86 [==============================] - 6s 70ms/step - loss: 5.7554 - accuracy: 0.5283 - auc: 0.6108 - val_loss: 5.8110 - val_accuracy: 0.4477 - val_auc: 0.4409\n",
      "Epoch 44/300\n",
      "86/86 [==============================] - 6s 72ms/step - loss: 5.7073 - accuracy: 0.5234 - auc: 0.6058 - val_loss: 5.7540 - val_accuracy: 0.4505 - val_auc: 0.4409\n",
      "Epoch 45/300\n",
      "86/86 [==============================] - 6s 69ms/step - loss: 5.6429 - accuracy: 0.5277 - auc: 0.6130 - val_loss: 5.6981 - val_accuracy: 0.4487 - val_auc: 0.4408\n",
      "Epoch 46/300\n",
      "86/86 [==============================] - 6s 67ms/step - loss: 5.5719 - accuracy: 0.5301 - auc: 0.6192 - val_loss: 5.6338 - val_accuracy: 0.4538 - val_auc: 0.4409\n",
      "Epoch 47/300\n",
      "86/86 [==============================] - 6s 74ms/step - loss: 5.5225 - accuracy: 0.5261 - auc: 0.6093 - val_loss: 5.5827 - val_accuracy: 0.4534 - val_auc: 0.4396\n",
      "Epoch 48/300\n",
      "86/86 [==============================] - 6s 69ms/step - loss: 5.4592 - accuracy: 0.5335 - auc: 0.6197 - val_loss: 5.5249 - val_accuracy: 0.4548 - val_auc: 0.4404\n",
      "Epoch 49/300\n",
      "86/86 [==============================] - 6s 72ms/step - loss: 5.4135 - accuracy: 0.5275 - auc: 0.6090 - val_loss: 5.4692 - val_accuracy: 0.4538 - val_auc: 0.4397\n",
      "Epoch 50/300\n",
      "86/86 [==============================] - 6s 73ms/step - loss: 5.3513 - accuracy: 0.5357 - auc: 0.6202 - val_loss: 5.4130 - val_accuracy: 0.4576 - val_auc: 0.4393\n",
      "Epoch 51/300\n",
      "86/86 [==============================] - 6s 69ms/step - loss: 5.2783 - accuracy: 0.5362 - auc: 0.6353 - val_loss: 5.3591 - val_accuracy: 0.4599 - val_auc: 0.4381\n",
      "Epoch 52/300\n",
      "86/86 [==============================] - 6s 69ms/step - loss: 5.2346 - accuracy: 0.5366 - auc: 0.6302 - val_loss: 5.3100 - val_accuracy: 0.4590 - val_auc: 0.4384\n",
      "Epoch 53/300\n",
      "86/86 [==============================] - 6s 70ms/step - loss: 5.1840 - accuracy: 0.5364 - auc: 0.6256 - val_loss: 5.2625 - val_accuracy: 0.4576 - val_auc: 0.4369\n",
      "Epoch 54/300\n",
      "86/86 [==============================] - 6s 73ms/step - loss: 5.1173 - accuracy: 0.5501 - auc: 0.6411 - val_loss: 5.2136 - val_accuracy: 0.4557 - val_auc: 0.4364\n",
      "Epoch 55/300\n",
      "86/86 [==============================] - 6s 73ms/step - loss: 5.0895 - accuracy: 0.5344 - auc: 0.6146 - val_loss: 5.1608 - val_accuracy: 0.4529 - val_auc: 0.4365\n",
      "Epoch 56/300\n",
      "86/86 [==============================] - 6s 69ms/step - loss: 5.0200 - accuracy: 0.5392 - auc: 0.6297 - val_loss: 5.1130 - val_accuracy: 0.4510 - val_auc: 0.4347\n",
      "Epoch 57/300\n",
      "86/86 [==============================] - 6s 71ms/step - loss: 4.9688 - accuracy: 0.5434 - auc: 0.6360 - val_loss: 5.0626 - val_accuracy: 0.4444 - val_auc: 0.4349\n",
      "Epoch 58/300\n",
      "86/86 [==============================] - 6s 71ms/step - loss: 4.9097 - accuracy: 0.5464 - auc: 0.6411 - val_loss: 5.0087 - val_accuracy: 0.4496 - val_auc: 0.4345\n",
      "Epoch 59/300\n",
      "86/86 [==============================] - 6s 72ms/step - loss: 4.8592 - accuracy: 0.5494 - auc: 0.6461 - val_loss: 4.9640 - val_accuracy: 0.4449 - val_auc: 0.4343\n",
      "Epoch 60/300\n",
      "86/86 [==============================] - 6s 70ms/step - loss: 4.8150 - accuracy: 0.5459 - auc: 0.6402 - val_loss: 4.9116 - val_accuracy: 0.4463 - val_auc: 0.4340\n",
      "Epoch 61/300\n",
      "86/86 [==============================] - 6s 72ms/step - loss: 4.7614 - accuracy: 0.5530 - auc: 0.6441 - val_loss: 4.8655 - val_accuracy: 0.4463 - val_auc: 0.4331\n",
      "Epoch 62/300\n",
      "86/86 [==============================] - 6s 71ms/step - loss: 4.7071 - accuracy: 0.5446 - auc: 0.6455 - val_loss: 4.8163 - val_accuracy: 0.4473 - val_auc: 0.4338\n",
      "Epoch 63/300\n",
      "86/86 [==============================] - 6s 71ms/step - loss: 4.6511 - accuracy: 0.5567 - auc: 0.6573 - val_loss: 4.7730 - val_accuracy: 0.4477 - val_auc: 0.4328\n",
      "Epoch 64/300\n",
      "86/86 [==============================] - 6s 73ms/step - loss: 4.6114 - accuracy: 0.5596 - auc: 0.6519 - val_loss: 4.7214 - val_accuracy: 0.4496 - val_auc: 0.4335\n",
      "Epoch 65/300\n",
      "86/86 [==============================] - 6s 71ms/step - loss: 4.5672 - accuracy: 0.5501 - auc: 0.6467 - val_loss: 4.6804 - val_accuracy: 0.4496 - val_auc: 0.4345\n",
      "Epoch 66/300\n",
      "86/86 [==============================] - 6s 71ms/step - loss: 4.5071 - accuracy: 0.5495 - auc: 0.6571 - val_loss: 4.6324 - val_accuracy: 0.4529 - val_auc: 0.4344\n",
      "Epoch 67/300\n",
      "86/86 [==============================] - 6s 73ms/step - loss: 4.4600 - accuracy: 0.5539 - auc: 0.6641 - val_loss: 4.5927 - val_accuracy: 0.4505 - val_auc: 0.4318\n",
      "Epoch 68/300\n",
      "86/86 [==============================] - 6s 69ms/step - loss: 4.4191 - accuracy: 0.5554 - auc: 0.6540 - val_loss: 4.5440 - val_accuracy: 0.4524 - val_auc: 0.4329\n",
      "Epoch 69/300\n",
      "86/86 [==============================] - 6s 71ms/step - loss: 4.3679 - accuracy: 0.5521 - auc: 0.6626 - val_loss: 4.4999 - val_accuracy: 0.4505 - val_auc: 0.4330\n",
      "Epoch 70/300\n",
      "86/86 [==============================] - 6s 74ms/step - loss: 4.3221 - accuracy: 0.5630 - auc: 0.6675 - val_loss: 4.4557 - val_accuracy: 0.4510 - val_auc: 0.4321\n",
      "Epoch 71/300\n",
      "86/86 [==============================] - 6s 72ms/step - loss: 4.2817 - accuracy: 0.5586 - auc: 0.6622 - val_loss: 4.4179 - val_accuracy: 0.4468 - val_auc: 0.4316\n",
      "Epoch 72/300\n",
      "86/86 [==============================] - 6s 73ms/step - loss: 4.2431 - accuracy: 0.5556 - auc: 0.6627 - val_loss: 4.3799 - val_accuracy: 0.4473 - val_auc: 0.4283\n",
      "Epoch 73/300\n",
      "86/86 [==============================] - 6s 74ms/step - loss: 4.1876 - accuracy: 0.5645 - auc: 0.6705 - val_loss: 4.3334 - val_accuracy: 0.4543 - val_auc: 0.4284\n",
      "Epoch 74/300\n",
      "86/86 [==============================] - 6s 69ms/step - loss: 4.1436 - accuracy: 0.5648 - auc: 0.6738 - val_loss: 4.2983 - val_accuracy: 0.4496 - val_auc: 0.4273\n",
      "Epoch 75/300\n",
      "86/86 [==============================] - 6s 71ms/step - loss: 4.0984 - accuracy: 0.5702 - auc: 0.6793 - val_loss: 4.2544 - val_accuracy: 0.4524 - val_auc: 0.4286\n",
      "Epoch 76/300\n",
      "86/86 [==============================] - 6s 69ms/step - loss: 4.0592 - accuracy: 0.5695 - auc: 0.6769 - val_loss: 4.2143 - val_accuracy: 0.4529 - val_auc: 0.4286\n",
      "Epoch 77/300\n",
      "86/86 [==============================] - 6s 73ms/step - loss: 4.0241 - accuracy: 0.5651 - auc: 0.6701 - val_loss: 4.1775 - val_accuracy: 0.4510 - val_auc: 0.4280\n",
      "Epoch 78/300\n",
      "86/86 [==============================] - 6s 74ms/step - loss: 3.9695 - accuracy: 0.5679 - auc: 0.6803 - val_loss: 4.1322 - val_accuracy: 0.4566 - val_auc: 0.4306\n",
      "Epoch 79/300\n",
      "86/86 [==============================] - 6s 70ms/step - loss: 3.9237 - accuracy: 0.5775 - auc: 0.6909 - val_loss: 4.1003 - val_accuracy: 0.4524 - val_auc: 0.4291\n",
      "Epoch 80/300\n",
      "86/86 [==============================] - 6s 71ms/step - loss: 3.8712 - accuracy: 0.5759 - auc: 0.6998 - val_loss: 4.0597 - val_accuracy: 0.4571 - val_auc: 0.4288\n",
      "Epoch 81/300\n",
      "86/86 [==============================] - 6s 70ms/step - loss: 3.8347 - accuracy: 0.5834 - auc: 0.6940 - val_loss: 4.0223 - val_accuracy: 0.4571 - val_auc: 0.4307\n",
      "Epoch 82/300\n",
      "86/86 [==============================] - 6s 71ms/step - loss: 3.8047 - accuracy: 0.5759 - auc: 0.6895 - val_loss: 3.9820 - val_accuracy: 0.4641 - val_auc: 0.4314\n",
      "Epoch 83/300\n",
      "86/86 [==============================] - 6s 70ms/step - loss: 3.7707 - accuracy: 0.5806 - auc: 0.6917 - val_loss: 3.9499 - val_accuracy: 0.4623 - val_auc: 0.4318\n",
      "Epoch 84/300\n",
      "86/86 [==============================] - 6s 75ms/step - loss: 3.7196 - accuracy: 0.5870 - auc: 0.7010 - val_loss: 3.9134 - val_accuracy: 0.4566 - val_auc: 0.4349\n",
      "Epoch 85/300\n",
      "86/86 [==============================] - 6s 71ms/step - loss: 3.6889 - accuracy: 0.5768 - auc: 0.6945 - val_loss: 3.8819 - val_accuracy: 0.4571 - val_auc: 0.4321\n",
      "Epoch 86/300\n",
      "86/86 [==============================] - 6s 71ms/step - loss: 3.6368 - accuracy: 0.5904 - auc: 0.7109 - val_loss: 3.8488 - val_accuracy: 0.4566 - val_auc: 0.4334\n",
      "Epoch 87/300\n",
      "86/86 [==============================] - 6s 71ms/step - loss: 3.5977 - accuracy: 0.5890 - auc: 0.7155 - val_loss: 3.8083 - val_accuracy: 0.4632 - val_auc: 0.4341\n",
      "Epoch 88/300\n",
      "86/86 [==============================] - 6s 73ms/step - loss: 3.5558 - accuracy: 0.5958 - auc: 0.7186 - val_loss: 3.7695 - val_accuracy: 0.4684 - val_auc: 0.4367\n",
      "Epoch 89/300\n",
      "86/86 [==============================] - 6s 70ms/step - loss: 3.5307 - accuracy: 0.5820 - auc: 0.7068 - val_loss: 3.7348 - val_accuracy: 0.4707 - val_auc: 0.4395\n",
      "Epoch 90/300\n",
      "86/86 [==============================] - 6s 70ms/step - loss: 3.4827 - accuracy: 0.5901 - auc: 0.7235 - val_loss: 3.7065 - val_accuracy: 0.4674 - val_auc: 0.4372\n",
      "Epoch 91/300\n",
      "86/86 [==============================] - 6s 71ms/step - loss: 3.4444 - accuracy: 0.5965 - auc: 0.7271 - val_loss: 3.6681 - val_accuracy: 0.4744 - val_auc: 0.4390\n",
      "Epoch 92/300\n",
      "86/86 [==============================] - 6s 71ms/step - loss: 3.4008 - accuracy: 0.5992 - auc: 0.7346 - val_loss: 3.6350 - val_accuracy: 0.4740 - val_auc: 0.4380\n",
      "Epoch 93/300\n",
      "86/86 [==============================] - 6s 72ms/step - loss: 3.3703 - accuracy: 0.5992 - auc: 0.7323 - val_loss: 3.6012 - val_accuracy: 0.4782 - val_auc: 0.4408\n",
      "Epoch 94/300\n",
      "86/86 [==============================] - 6s 71ms/step - loss: 3.3387 - accuracy: 0.5964 - auc: 0.7299 - val_loss: 3.5699 - val_accuracy: 0.4782 - val_auc: 0.4387\n",
      "Epoch 95/300\n",
      "86/86 [==============================] - 6s 72ms/step - loss: 3.2980 - accuracy: 0.5996 - auc: 0.7352 - val_loss: 3.5345 - val_accuracy: 0.4820 - val_auc: 0.4408\n",
      "Epoch 96/300\n",
      "86/86 [==============================] - 6s 71ms/step - loss: 3.2633 - accuracy: 0.6017 - auc: 0.7414 - val_loss: 3.5105 - val_accuracy: 0.4782 - val_auc: 0.4424\n",
      "Epoch 97/300\n",
      "86/86 [==============================] - 6s 71ms/step - loss: 3.2305 - accuracy: 0.6024 - auc: 0.7430 - val_loss: 3.4752 - val_accuracy: 0.4801 - val_auc: 0.4426\n",
      "Epoch 98/300\n",
      "86/86 [==============================] - 6s 73ms/step - loss: 3.1883 - accuracy: 0.6004 - auc: 0.7481 - val_loss: 3.4429 - val_accuracy: 0.4829 - val_auc: 0.4453\n",
      "Epoch 99/300\n",
      "86/86 [==============================] - 7s 84ms/step - loss: 3.1500 - accuracy: 0.6084 - auc: 0.7556 - val_loss: 3.4120 - val_accuracy: 0.4852 - val_auc: 0.4470\n",
      "Epoch 100/300\n",
      "86/86 [==============================] - 5s 59ms/step - loss: 3.1159 - accuracy: 0.6125 - auc: 0.7586 - val_loss: 3.3851 - val_accuracy: 0.4848 - val_auc: 0.4468\n",
      "Epoch 101/300\n",
      "86/86 [==============================] - 5s 59ms/step - loss: 3.0869 - accuracy: 0.6087 - auc: 0.7577 - val_loss: 3.3538 - val_accuracy: 0.4885 - val_auc: 0.4486\n",
      "Epoch 102/300\n",
      "86/86 [==============================] - 1804s 21s/step - loss: 3.0511 - accuracy: 0.6073 - auc: 0.7627 - val_loss: 3.3264 - val_accuracy: 0.4876 - val_auc: 0.4477\n",
      "Epoch 103/300\n",
      "86/86 [==============================] - 4s 41ms/step - loss: 3.0195 - accuracy: 0.6160 - auc: 0.7664 - val_loss: 3.2933 - val_accuracy: 0.4927 - val_auc: 0.4490\n",
      "Epoch 104/300\n",
      "86/86 [==============================] - 12s 140ms/step - loss: 2.9902 - accuracy: 0.6159 - auc: 0.7651 - val_loss: 3.2635 - val_accuracy: 0.4927 - val_auc: 0.4502\n",
      "Epoch 105/300\n",
      "86/86 [==============================] - 13s 156ms/step - loss: 2.9524 - accuracy: 0.6222 - auc: 0.7715 - val_loss: 3.2379 - val_accuracy: 0.4871 - val_auc: 0.4499\n",
      "Epoch 106/300\n",
      "86/86 [==============================] - 11s 130ms/step - loss: 2.9160 - accuracy: 0.6147 - auc: 0.7771 - val_loss: 3.2167 - val_accuracy: 0.4871 - val_auc: 0.4500\n",
      "Epoch 107/300\n",
      "86/86 [==============================] - 242s 3s/step - loss: 2.8948 - accuracy: 0.6175 - auc: 0.7707 - val_loss: 3.1927 - val_accuracy: 0.4909 - val_auc: 0.4501\n",
      "Epoch 108/300\n",
      "86/86 [==============================] - 7s 78ms/step - loss: 2.8566 - accuracy: 0.6303 - auc: 0.7812 - val_loss: 3.1691 - val_accuracy: 0.4824 - val_auc: 0.4514\n",
      "Epoch 109/300\n",
      "86/86 [==============================] - 7s 79ms/step - loss: 2.8219 - accuracy: 0.6250 - auc: 0.7848 - val_loss: 3.1378 - val_accuracy: 0.4843 - val_auc: 0.4525\n",
      "Epoch 110/300\n",
      "86/86 [==============================] - 6s 70ms/step - loss: 2.7984 - accuracy: 0.6288 - auc: 0.7842 - val_loss: 3.1066 - val_accuracy: 0.4909 - val_auc: 0.4527\n",
      "Epoch 111/300\n",
      "86/86 [==============================] - 6s 71ms/step - loss: 2.7639 - accuracy: 0.6370 - auc: 0.7894 - val_loss: 3.0842 - val_accuracy: 0.4876 - val_auc: 0.4536\n",
      "Epoch 112/300\n",
      "86/86 [==============================] - 6s 70ms/step - loss: 2.7394 - accuracy: 0.6240 - auc: 0.7822 - val_loss: 3.0553 - val_accuracy: 0.4885 - val_auc: 0.4534\n",
      "Epoch 113/300\n",
      "86/86 [==============================] - 6s 70ms/step - loss: 2.7018 - accuracy: 0.6317 - auc: 0.7934 - val_loss: 3.0335 - val_accuracy: 0.4913 - val_auc: 0.4536\n",
      "Epoch 114/300\n",
      "86/86 [==============================] - 6s 66ms/step - loss: 2.6777 - accuracy: 0.6354 - auc: 0.7954 - val_loss: 3.0212 - val_accuracy: 0.4838 - val_auc: 0.4539\n",
      "Epoch 115/300\n",
      "86/86 [==============================] - 6s 68ms/step - loss: 2.6404 - accuracy: 0.6349 - auc: 0.8028 - val_loss: 2.9928 - val_accuracy: 0.4885 - val_auc: 0.4528\n",
      "Epoch 116/300\n",
      "86/86 [==============================] - 6s 68ms/step - loss: 2.6121 - accuracy: 0.6365 - auc: 0.8052 - val_loss: 2.9704 - val_accuracy: 0.4885 - val_auc: 0.4530\n",
      "Epoch 117/300\n",
      "86/86 [==============================] - 6s 72ms/step - loss: 2.5901 - accuracy: 0.6404 - auc: 0.8020 - val_loss: 2.9412 - val_accuracy: 0.4890 - val_auc: 0.4547\n",
      "Epoch 118/300\n",
      "86/86 [==============================] - 7s 80ms/step - loss: 2.5612 - accuracy: 0.6362 - auc: 0.8035 - val_loss: 2.9255 - val_accuracy: 0.4852 - val_auc: 0.4540\n",
      "Epoch 119/300\n",
      "86/86 [==============================] - 6s 74ms/step - loss: 2.5307 - accuracy: 0.6433 - auc: 0.8081 - val_loss: 2.9164 - val_accuracy: 0.4852 - val_auc: 0.4514\n",
      "Epoch 120/300\n",
      "86/86 [==============================] - 6s 71ms/step - loss: 2.5056 - accuracy: 0.6377 - auc: 0.8075 - val_loss: 2.8704 - val_accuracy: 0.4918 - val_auc: 0.4536\n",
      "Epoch 121/300\n",
      "86/86 [==============================] - 6s 74ms/step - loss: 2.4799 - accuracy: 0.6465 - auc: 0.8118 - val_loss: 2.8483 - val_accuracy: 0.4852 - val_auc: 0.4526\n",
      "Epoch 122/300\n",
      "86/86 [==============================] - 6s 73ms/step - loss: 2.4475 - accuracy: 0.6533 - auc: 0.8178 - val_loss: 2.8222 - val_accuracy: 0.4871 - val_auc: 0.4539\n",
      "Epoch 123/300\n",
      "86/86 [==============================] - 6s 67ms/step - loss: 2.4217 - accuracy: 0.6546 - auc: 0.8183 - val_loss: 2.7889 - val_accuracy: 0.4913 - val_auc: 0.4548\n",
      "Epoch 124/300\n",
      "86/86 [==============================] - 6s 64ms/step - loss: 2.3889 - accuracy: 0.6497 - auc: 0.8263 - val_loss: 2.7758 - val_accuracy: 0.4871 - val_auc: 0.4568\n",
      "Epoch 125/300\n",
      "86/86 [==============================] - 6s 69ms/step - loss: 2.3692 - accuracy: 0.6523 - auc: 0.8254 - val_loss: 2.7487 - val_accuracy: 0.4909 - val_auc: 0.4573\n",
      "Epoch 126/300\n",
      "86/86 [==============================] - 6s 71ms/step - loss: 2.3392 - accuracy: 0.6568 - auc: 0.8303 - val_loss: 2.7284 - val_accuracy: 0.4937 - val_auc: 0.4559\n",
      "Epoch 127/300\n",
      "86/86 [==============================] - 7s 78ms/step - loss: 2.3188 - accuracy: 0.6652 - auc: 0.8283 - val_loss: 2.7020 - val_accuracy: 0.4951 - val_auc: 0.4545\n",
      "Epoch 128/300\n",
      "86/86 [==============================] - 8s 94ms/step - loss: 2.2912 - accuracy: 0.6651 - auc: 0.8313 - val_loss: 2.6730 - val_accuracy: 0.5012 - val_auc: 0.4547\n",
      "Epoch 129/300\n",
      "86/86 [==============================] - 7s 81ms/step - loss: 2.2713 - accuracy: 0.6628 - auc: 0.8288 - val_loss: 2.6611 - val_accuracy: 0.5007 - val_auc: 0.4547\n",
      "Epoch 130/300\n",
      "86/86 [==============================] - 7s 79ms/step - loss: 2.2344 - accuracy: 0.6698 - auc: 0.8414 - val_loss: 2.6488 - val_accuracy: 0.4998 - val_auc: 0.4539\n",
      "Epoch 131/300\n",
      "86/86 [==============================] - 7s 82ms/step - loss: 2.2177 - accuracy: 0.6718 - auc: 0.8413 - val_loss: 2.6096 - val_accuracy: 0.5110 - val_auc: 0.4544\n",
      "Epoch 132/300\n",
      "86/86 [==============================] - 8s 96ms/step - loss: 2.1956 - accuracy: 0.6716 - auc: 0.8389 - val_loss: 2.5935 - val_accuracy: 0.5054 - val_auc: 0.4555\n",
      "Epoch 133/300\n",
      "86/86 [==============================] - 8s 92ms/step - loss: 2.1753 - accuracy: 0.6655 - auc: 0.8358 - val_loss: 2.5745 - val_accuracy: 0.5068 - val_auc: 0.4543\n",
      "Epoch 134/300\n",
      "86/86 [==============================] - 7s 85ms/step - loss: 2.1455 - accuracy: 0.6783 - auc: 0.8463 - val_loss: 2.5517 - val_accuracy: 0.5115 - val_auc: 0.4527\n",
      "Epoch 135/300\n",
      "86/86 [==============================] - 8s 90ms/step - loss: 2.1218 - accuracy: 0.6830 - auc: 0.8485 - val_loss: 2.5326 - val_accuracy: 0.5134 - val_auc: 0.4556\n",
      "Epoch 136/300\n",
      "86/86 [==============================] - 9s 103ms/step - loss: 2.0998 - accuracy: 0.6798 - auc: 0.8497 - val_loss: 2.5132 - val_accuracy: 0.5138 - val_auc: 0.4553\n",
      "Epoch 137/300\n",
      "86/86 [==============================] - 8s 91ms/step - loss: 2.0809 - accuracy: 0.6877 - auc: 0.8493 - val_loss: 2.5133 - val_accuracy: 0.5087 - val_auc: 0.4522\n",
      "Epoch 138/300\n",
      "86/86 [==============================] - 8s 92ms/step - loss: 2.0505 - accuracy: 0.6823 - auc: 0.8578 - val_loss: 2.4795 - val_accuracy: 0.5157 - val_auc: 0.4536\n",
      "Epoch 139/300\n",
      "86/86 [==============================] - 7s 78ms/step - loss: 2.0370 - accuracy: 0.6895 - auc: 0.8530 - val_loss: 2.4682 - val_accuracy: 0.5148 - val_auc: 0.4543\n",
      "Epoch 140/300\n",
      "86/86 [==============================] - 6s 68ms/step - loss: 2.0067 - accuracy: 0.6978 - auc: 0.8615 - val_loss: 2.4484 - val_accuracy: 0.5227 - val_auc: 0.4536\n",
      "Epoch 141/300\n",
      "86/86 [==============================] - 6s 71ms/step - loss: 1.9888 - accuracy: 0.6936 - auc: 0.8602 - val_loss: 2.4318 - val_accuracy: 0.5237 - val_auc: 0.4527\n",
      "Epoch 142/300\n",
      "86/86 [==============================] - 5s 62ms/step - loss: 1.9644 - accuracy: 0.6952 - auc: 0.8640 - val_loss: 2.4136 - val_accuracy: 0.5246 - val_auc: 0.4504\n",
      "Epoch 143/300\n",
      "86/86 [==============================] - 6s 70ms/step - loss: 1.9431 - accuracy: 0.7003 - auc: 0.8661 - val_loss: 2.4047 - val_accuracy: 0.5227 - val_auc: 0.4470\n",
      "Epoch 144/300\n",
      "86/86 [==============================] - 6s 75ms/step - loss: 1.9251 - accuracy: 0.7009 - auc: 0.8662 - val_loss: 2.3588 - val_accuracy: 0.5401 - val_auc: 0.4528\n",
      "Epoch 145/300\n",
      "86/86 [==============================] - 7s 77ms/step - loss: 1.9050 - accuracy: 0.6992 - auc: 0.8705 - val_loss: 2.3520 - val_accuracy: 0.5298 - val_auc: 0.4507\n",
      "Epoch 146/300\n",
      "86/86 [==============================] - 6s 73ms/step - loss: 1.8790 - accuracy: 0.7118 - auc: 0.8744 - val_loss: 2.3416 - val_accuracy: 0.5354 - val_auc: 0.4470\n",
      "Epoch 147/300\n",
      "86/86 [==============================] - 6s 74ms/step - loss: 1.8621 - accuracy: 0.7098 - auc: 0.8749 - val_loss: 2.3308 - val_accuracy: 0.5387 - val_auc: 0.4463\n",
      "Epoch 148/300\n",
      "86/86 [==============================] - 6s 69ms/step - loss: 1.8448 - accuracy: 0.7143 - auc: 0.8741 - val_loss: 2.3225 - val_accuracy: 0.5307 - val_auc: 0.4489\n",
      "Epoch 149/300\n",
      "86/86 [==============================] - 6s 66ms/step - loss: 1.8204 - accuracy: 0.7139 - auc: 0.8794 - val_loss: 2.3081 - val_accuracy: 0.5326 - val_auc: 0.4466\n",
      "Epoch 150/300\n",
      "86/86 [==============================] - 6s 70ms/step - loss: 1.7962 - accuracy: 0.7153 - auc: 0.8852 - val_loss: 2.2834 - val_accuracy: 0.5363 - val_auc: 0.4463\n",
      "Epoch 151/300\n",
      "86/86 [==============================] - 6s 76ms/step - loss: 1.7765 - accuracy: 0.7193 - auc: 0.8880 - val_loss: 2.2757 - val_accuracy: 0.5377 - val_auc: 0.4453\n",
      "Epoch 152/300\n",
      "86/86 [==============================] - 6s 69ms/step - loss: 1.7668 - accuracy: 0.7302 - auc: 0.8837 - val_loss: 2.2605 - val_accuracy: 0.5429 - val_auc: 0.4421\n",
      "Epoch 153/300\n",
      "86/86 [==============================] - 6s 67ms/step - loss: 1.7433 - accuracy: 0.7293 - auc: 0.8911 - val_loss: 2.2449 - val_accuracy: 0.5415 - val_auc: 0.4421\n",
      "Epoch 154/300\n",
      "86/86 [==============================] - 7s 80ms/step - loss: 1.7242 - accuracy: 0.7336 - auc: 0.8924 - val_loss: 2.2351 - val_accuracy: 0.5415 - val_auc: 0.4438\n",
      "Epoch 155/300\n",
      "86/86 [==============================] - 6s 65ms/step - loss: 1.7087 - accuracy: 0.7319 - auc: 0.8926 - val_loss: 2.2478 - val_accuracy: 0.5335 - val_auc: 0.4343\n",
      "Epoch 156/300\n",
      "86/86 [==============================] - 7s 77ms/step - loss: 1.6885 - accuracy: 0.7326 - auc: 0.8966 - val_loss: 2.2157 - val_accuracy: 0.5406 - val_auc: 0.4380\n",
      "Epoch 157/300\n",
      "86/86 [==============================] - 6s 70ms/step - loss: 1.6717 - accuracy: 0.7395 - auc: 0.8962 - val_loss: 2.2066 - val_accuracy: 0.5438 - val_auc: 0.4341\n",
      "Epoch 158/300\n",
      "86/86 [==============================] - 6s 68ms/step - loss: 1.6585 - accuracy: 0.7398 - auc: 0.8961 - val_loss: 2.1821 - val_accuracy: 0.5434 - val_auc: 0.4391\n",
      "Epoch 159/300\n",
      "86/86 [==============================] - 6s 70ms/step - loss: 1.6305 - accuracy: 0.7452 - auc: 0.9057 - val_loss: 2.1802 - val_accuracy: 0.5452 - val_auc: 0.4334\n",
      "Epoch 160/300\n",
      "12/86 [===>..........................] - ETA: 4s - loss: 1.5961 - accuracy: 0.7550 - auc: 0.9217"
     ]
    }
   ],
   "source": [
    "## look at validation batch ?\n",
    "history = model.fit(X_train,  y_train, \n",
    "                    batch_size=BATCH_SIZE, \n",
    "                    class_weight=class_weight_dict,\n",
    "                    shuffle=True,\n",
    "                    epochs=EPOCHS,\n",
    "                    validation_split= 0.2,\n",
    "                    callbacks=callbacks\n",
    "                    )"
   ]
  },
  {
   "cell_type": "code",
   "execution_count": 119,
   "metadata": {},
   "outputs": [
    {
     "data": {
      "image/png": "[encoded data removed]",
      "text/plain": [
       "<Figure size 640x480 with 1 Axes>"
      ]
     },
     "metadata": {},
     "output_type": "display_data"
    }
   ],
   "source": [
    "plots.plot_history_metrics(history)"
   ]
  },
  {
   "cell_type": "code",
   "execution_count": 120,
   "metadata": {},
   "outputs": [
    {
     "name": "stdout",
     "output_type": "stream",
     "text": [
      "84/84 - 1s - loss: 1.2551 - accuracy: 0.7843 - auc: 0.6854 - 987ms/epoch - 12ms/step\n",
      "Model accuracy: [1.255138635635376, 0.7843210697174072, 0.6853933930397034]\n"
     ]
    }
   ],
   "source": [
    "metrics = model.evaluate(X_test, y_test, verbose=2)\n",
    "print(f'Model accuracy: {metrics}')"
   ]
  },
  {
   "cell_type": "code",
   "execution_count": 59,
   "metadata": {},
   "outputs": [
    {
     "name": "stdout",
     "output_type": "stream",
     "text": [
      "334/334 [==============================] - 3s 7ms/step\n"
     ]
    }
   ],
   "source": [
    "y_pred_train = model.predict(X_train)"
   ]
  },
  {
   "cell_type": "code",
   "execution_count": 121,
   "metadata": {},
   "outputs": [
    {
     "name": "stdout",
     "output_type": "stream",
     "text": [
      "84/84 [==============================] - 3s 15ms/step\n"
     ]
    },
    {
     "data": {
      "text/plain": [
       "(2666, 1)"
      ]
     },
     "execution_count": 121,
     "metadata": {},
     "output_type": "execute_result"
    }
   ],
   "source": [
    "y_pred = model.predict(X_test)\n",
    "y_pred_c = y_pred.round().astype(int)\n",
    "y_pred_c.shape"
   ]
  },
  {
   "cell_type": "code",
   "execution_count": 122,
   "metadata": {},
   "outputs": [
    {
     "data": {
      "image/png": "[encoded data removed]",
      "text/plain": [
       "<Figure size 640x480 with 1 Axes>"
      ]
     },
     "metadata": {},
     "output_type": "display_data"
    }
   ],
   "source": [
    "plots.plot_roc(y_test, y_pred)"
   ]
  },
  {
   "cell_type": "code",
   "execution_count": 106,
   "metadata": {},
   "outputs": [
    {
     "data": {
      "text/plain": [
       "[1.1344488859176636, 0.7111777663230896, 0.6929536461830139]"
      ]
     },
     "execution_count": 106,
     "metadata": {},
     "output_type": "execute_result"
    }
   ],
   "source": [
    "metrics"
   ]
  },
  {
   "cell_type": "code",
   "execution_count": 123,
   "metadata": {},
   "outputs": [
    {
     "name": "stdout",
     "output_type": "stream",
     "text": [
      "84/84 [==============================] - 1s 15ms/step - loss: 1.2551 - accuracy: 0.7843 - auc: 0.6854\n",
      "Loss: 1.255138635635376\n",
      "Accuracy: 0.7843210697174072\n",
      "AUC: 0.6853933930397034\n",
      "Precision: 0.2422907488986784\n",
      "Recall: 0.3225806451612903\n"
     ]
    },
    {
     "data": {
      "text/plain": [
       "(341.0, 454)"
      ]
     },
     "execution_count": 123,
     "metadata": {},
     "output_type": "execute_result"
    }
   ],
   "source": [
    "from sklearn.metrics import precision_score, recall_score, confusion_matrix\n",
    "y_pred_c = y_pred.round().astype(int)\n",
    "precision = precision_score(y_test, y_pred_c)\n",
    "recall = recall_score(y_test, y_pred_c)\n",
    "\n",
    "metrics = model.evaluate(X_test, y_test)\n",
    "\n",
    "print('Loss:', metrics[0])\n",
    "print('Accuracy:', metrics[1])\n",
    "print('AUC:', metrics[2])\n",
    "print('Precision:', precision)\n",
    "print('Recall:', recall)\n",
    "y_test.sum(), y_pred_c.sum()\n"
   ]
  },
  {
   "cell_type": "code",
   "execution_count": 124,
   "metadata": {},
   "outputs": [
    {
     "name": "stdout",
     "output_type": "stream",
     "text": [
      "Metrics:  ['loss', 'accuracy', 'auc']\n",
      "Results:  [1.255138635635376, 0.7843210697174072, 0.6853933930397034]\n"
     ]
    }
   ],
   "source": [
    "# Print the results\n",
    "print(\"Metrics: \", model.metrics_names)\n",
    "print(\"Results: \", metrics)"
   ]
  },
  {
   "cell_type": "code",
   "execution_count": 125,
   "metadata": {},
   "outputs": [
    {
     "data": {
      "image/png": "[encoded data removed]",
      "text/plain": [
       "<Figure size 640x480 with 2 Axes>"
      ]
     },
     "metadata": {},
     "output_type": "display_data"
    }
   ],
   "source": [
    "plots.plot_confusion_matrix(y_test, y_pred_c)"
   ]
  },
  {
   "cell_type": "code",
   "execution_count": 126,
   "metadata": {},
   "outputs": [
    {
     "name": "stdout",
     "output_type": "stream",
     "text": [
      "Classification Report:\n",
      "              precision    recall  f1-score   support\n",
      "\n",
      "         0.0       0.90      0.85      0.87      2325\n",
      "         1.0       0.24      0.32      0.28       341\n",
      "\n",
      "    accuracy                           0.78      2666\n",
      "   macro avg       0.57      0.59      0.57      2666\n",
      "weighted avg       0.81      0.78      0.80      2666\n",
      "\n"
     ]
    }
   ],
   "source": [
    "from sklearn.metrics import classification_report\n",
    "report = classification_report(y_test, y_pred_c)\n",
    "print(\"Classification Report:\")\n",
    "print(report)\n",
    " "
   ]
  },
  {
   "cell_type": "code",
   "execution_count": 127,
   "metadata": {},
   "outputs": [
    {
     "data": {
      "text/plain": [
       "1.5083032846450806"
      ]
     },
     "execution_count": 127,
     "metadata": {},
     "output_type": "execute_result"
    }
   ],
   "source": [
    "model_checkpoint.best"
   ]
  },
  {
   "cell_type": "code",
   "execution_count": 114,
   "metadata": {},
   "outputs": [
    {
     "name": "stdout",
     "output_type": "stream",
     "text": [
      "INFO:tensorflow:Assets written to: saved_model/my_RNN_model_60per5_fixing_overfit/assets\n"
     ]
    },
    {
     "name": "stderr",
     "output_type": "stream",
     "text": [
      "INFO:tensorflow:Assets written to: saved_model/my_RNN_model_60per5_fixing_overfit/assets\n"
     ]
    }
   ],
   "source": [
    "!mkdir -p saved_model\n",
    "\n",
    "model.save('saved_model/my_RNN_model_60per5_fixing_overfit')"
   ]
  },
  {
   "cell_type": "code",
   "execution_count": 48,
   "metadata": {},
   "outputs": [],
   "source": [
    "# # Define a sequential model\n",
    "# model = keras.Sequential()\n",
    "\n",
    "# #model.add(normalizer)\n",
    "\n",
    "# # Add an input layer with an input shape of (time_steps, input_features)\n",
    "# model.add(layers.InputLayer(input_shape=(X_train.shape[1],X_train.shape[2])))\n",
    "\n",
    "# # Add a SimpleRNN layer with 32 units (neurons)\n",
    "# model.add(layers.SimpleRNN(72, activation='tanh'))\n",
    "\n",
    "# model.add(BatchNormalization())\n",
    "\n",
    "# # Add the output layer with 1 neuron and sigmoid activation for binary classification\n",
    "# model.add(layers.Dense(1, activation='sigmoid'))\n",
    "\n",
    "# # Compile the model with binary cross-entropy loss for binary classification\n",
    "# model.compile(loss='binary_crossentropy', optimizer='adam', metrics=['accuracy'])\n"
   ]
  },
  {
   "cell_type": "code",
   "execution_count": 47,
   "metadata": {},
   "outputs": [],
   "source": [
    "# history = model.fit(X_train,  y_train, \n",
    "#                     batch_size=100, \n",
    "#                     class_weight=class_weight_dict,\n",
    "#                     shuffle=True,\n",
    "#                     epochs=300,\n",
    "#                     validation_data=(X_val, y_val))"
   ]
  },
  {
   "cell_type": "code",
   "execution_count": null,
   "metadata": {},
   "outputs": [
    {
     "data": {
      "image/png": "[encoded data removed]",
      "text/plain": [
       "<Figure size 640x480 with 1 Axes>"
      ]
     },
     "metadata": {},
     "output_type": "display_data"
    }
   ],
   "source": [
    "# plot_loss(history)"
   ]
  },
  {
   "cell_type": "code",
   "execution_count": null,
   "metadata": {},
   "outputs": [
    {
     "name": "stdout",
     "output_type": "stream",
     "text": [
      "16/16 [==============================] - 0s 2ms/step\n"
     ]
    },
    {
     "data": {
      "text/plain": [
       "array([0.6652413 , 0.569696  , 0.6270943 , 0.6571634 , 0.6279296 ,\n",
       "       0.661146  , 0.6190019 , 0.6956031 , 0.60217565, 0.6422262 ,\n",
       "       0.6130368 , 0.61739904, 0.5836438 , 0.60966194, 0.61492014,\n",
       "       0.68353057, 0.62516934, 0.6223092 , 0.60138613, 0.86089545,\n",
       "       0.5997883 , 0.7082959 , 0.61577535, 0.65439284, 0.6153179 ,\n",
       "       0.61165124, 0.6138298 , 0.6019997 , 0.69033056, 0.5684809 ,\n",
       "       0.60205024, 0.6596652 , 0.5667143 , 0.5973395 , 0.5799074 ,\n",
       "       0.5978519 , 0.69248086, 0.6828316 , 0.5917969 , 0.65039593,\n",
       "       0.6280549 , 0.5896513 , 0.5801114 , 0.6888158 , 0.6263854 ,\n",
       "       0.5939749 , 0.6077289 , 0.7062058 , 0.5900531 , 0.61288965,\n",
       "       0.6144817 , 0.6018636 , 0.6108944 , 0.6096263 , 0.6149801 ,\n",
       "       0.60750127, 0.654709  , 0.6353007 , 0.60026884, 0.6303653 ,\n",
       "       0.6049201 , 0.61497486, 0.57438624, 0.5701094 , 0.5770952 ,\n",
       "       0.5821288 , 0.643623  , 0.621211  , 0.44605097, 0.6186412 ,\n",
       "       0.5902251 , 0.7171862 , 0.6248064 , 0.6361713 , 0.63841057,\n",
       "       0.60719955, 0.59733856, 0.60892665, 0.6013863 , 0.623986  ,\n",
       "       0.63009584, 0.603017  , 0.61030924, 0.58020943, 0.6748548 ,\n",
       "       0.60598344, 0.6255829 , 0.6094475 , 0.6422542 , 0.6050221 ,\n",
       "       0.64808655, 0.6784057 , 0.6414742 , 0.43772689, 0.47509748,\n",
       "       0.4773404 , 0.46248704, 0.49979073, 0.47895792, 0.5372552 ,\n",
       "       0.5187584 , 0.52861136, 0.50036955, 0.5100715 , 0.62464726,\n",
       "       0.5285064 , 0.5293216 , 0.5315612 , 0.5522734 , 0.56808764,\n",
       "       0.5585732 , 0.5905    , 0.5551743 , 0.59540546, 0.5667664 ,\n",
       "       0.5959337 , 0.6187483 , 0.5835188 , 0.6195134 , 0.59738874,\n",
       "       0.60609746, 0.5645777 , 0.5945552 , 0.5894392 , 0.42119426,\n",
       "       0.5681184 , 0.6998913 , 0.5707609 , 0.41356623, 0.38445675,\n",
       "       0.58828235, 0.44433853, 0.4882775 , 0.6843342 , 0.6339574 ,\n",
       "       0.55668706, 0.54252225, 0.52601564, 0.52793366, 0.5227525 ,\n",
       "       0.53863966, 0.52710426, 0.5825123 , 0.7270559 , 0.5614912 ,\n",
       "       0.67644376, 0.6574703 , 0.5613832 , 0.571432  , 0.45936516,\n",
       "       0.51618534, 0.5878282 , 0.6881402 , 0.55302554, 0.64734346,\n",
       "       0.44869968, 0.5226918 , 0.43218562, 0.41906303, 0.436424  ,\n",
       "       0.43815136, 0.45401877, 0.4686395 , 0.49536863, 0.7637861 ,\n",
       "       0.61514354, 0.5505852 , 0.5499905 , 0.53895366, 0.64563704,\n",
       "       0.5790271 , 0.5502958 , 0.6727013 , 0.53519833, 0.6540693 ,\n",
       "       0.5616995 , 0.5763694 , 0.60563   , 0.52863824, 0.59784764,\n",
       "       0.62152696, 0.6223313 , 0.6219068 , 0.5734146 , 0.580643  ,\n",
       "       0.6430308 , 0.4636795 , 0.45806566, 0.4597016 , 0.43732667,\n",
       "       0.46201423, 0.43120196, 0.4199319 , 0.4154514 , 0.47197604,\n",
       "       0.43822312, 0.3883257 , 0.40413404, 0.40162173, 0.41081923,\n",
       "       0.4120124 , 0.43464842, 0.43222827, 0.44615903, 0.4607598 ,\n",
       "       0.48140505, 0.30819106, 0.49094445, 0.57494134, 0.5388886 ,\n",
       "       0.5200795 , 0.5160525 , 0.3901946 , 0.506543  , 0.5344031 ,\n",
       "       0.5556286 , 0.53725415, 0.3587931 , 0.38405797, 0.2732596 ,\n",
       "       0.42811373, 0.43118182, 0.34026456, 0.5205217 , 0.5612506 ,\n",
       "       0.4630498 , 0.39897135, 0.38194242, 0.43440032, 0.3757299 ,\n",
       "       0.42113298, 0.37296957, 0.37644294, 0.38949406, 0.40350494,\n",
       "       0.4161069 , 0.42863566, 0.414522  , 0.4235962 , 0.44694293,\n",
       "       0.42506832, 0.46866596, 0.4787772 , 0.46934006, 0.50378984,\n",
       "       0.51934683, 0.5310882 , 0.5135697 , 0.3030587 , 0.37857455,\n",
       "       0.42232576, 0.27681717, 0.3641637 , 0.43111262, 0.4040192 ,\n",
       "       0.40412614, 0.37876886, 0.32991266, 0.33362213, 0.38279763,\n",
       "       0.3204743 , 0.32391536, 0.36691436, 0.35020855, 0.35531   ,\n",
       "       0.38966686, 0.3785968 , 0.38163382, 0.405167  , 0.42391026,\n",
       "       0.3944749 , 0.41027153, 0.44244385, 0.46995836, 0.4667238 ,\n",
       "       0.48680976, 0.49501336, 0.49217668, 0.49332157, 0.3862032 ,\n",
       "       0.44422376, 0.38413483, 0.4220173 , 0.4364825 , 0.43726265,\n",
       "       0.3949609 , 0.551351  , 0.47417286, 0.4014426 , 0.3660487 ,\n",
       "       0.38109592, 0.37379816, 0.3684239 , 0.3446881 , 0.34863582,\n",
       "       0.36590335, 0.37758777, 0.36572483, 0.38418743, 0.38965997,\n",
       "       0.39837563, 0.407982  , 0.42609367, 0.43063006, 0.4513211 ,\n",
       "       0.46074924, 0.45799103, 0.4747065 , 0.48969895, 0.4966999 ,\n",
       "       0.31376228, 0.30064297, 0.32000488, 0.34089395, 0.31930766,\n",
       "       0.3462876 , 0.34911686, 0.38628054, 0.28159934, 0.3627369 ,\n",
       "       0.41596138, 0.39656124, 0.32339916, 0.27384606, 0.37394723,\n",
       "       0.36815754, 0.31858882, 0.33842516, 0.35862654, 0.34191993,\n",
       "       0.3044802 , 0.32338294, 0.36181813, 0.3823679 , 0.4104403 ,\n",
       "       0.35382304, 0.3438774 , 0.3670379 , 0.3667986 , 0.41488868,\n",
       "       0.40240532, 0.4582582 , 0.3526926 , 0.27478963, 0.40877676,\n",
       "       0.40939188, 0.3618589 , 0.5249612 , 0.36274448, 0.31649446,\n",
       "       0.39789778, 0.30452377, 0.2138851 , 0.32177857, 0.26993054,\n",
       "       0.27846035, 0.25911295, 0.27674666, 0.26746637, 0.28896844,\n",
       "       0.30843973, 0.33016482, 0.36256424, 0.40238753, 0.26573223,\n",
       "       0.22156195, 0.35593435, 0.33750528, 0.28910235, 0.37896293,\n",
       "       0.2803547 , 0.4049907 , 0.33963594, 0.33004746, 0.3375563 ,\n",
       "       0.3204794 , 0.31054157, 0.32648873, 0.30842286, 0.4260846 ,\n",
       "       0.46692806, 0.30909103, 0.3797165 , 0.29219872, 0.33571044,\n",
       "       0.62112385, 0.34811348, 0.3195699 , 0.2970283 , 0.3069522 ,\n",
       "       0.3066885 , 0.31466964, 0.33998042, 0.32226023, 0.27235094,\n",
       "       0.22456524, 0.27676392, 0.2898272 , 0.2808813 , 0.26910356,\n",
       "       0.28608766, 0.31292447, 0.3187728 , 0.3861677 , 0.38987392,\n",
       "       0.38485253, 0.38261008, 0.3707685 , 0.39104915, 0.35279164,\n",
       "       0.3603043 , 0.33357993, 0.3343079 , 0.33669484, 0.3188711 ,\n",
       "       0.30423367, 0.3105262 , 0.30440813, 0.31578785, 0.299009  ,\n",
       "       0.29674652, 0.29555297, 0.29727829, 0.277262  , 0.2965727 ,\n",
       "       0.27959156, 0.28882012, 0.28481197, 0.2918079 , 0.2993838 ,\n",
       "       0.30200222, 0.31586194, 0.35213825, 0.34461346, 0.29542464,\n",
       "       0.33201844, 0.35361746, 0.35526073, 0.3420579 , 0.31507835,\n",
       "       0.3103886 , 0.2908673 , 0.3266469 , 0.317783  , 0.31828013,\n",
       "       0.3123295 , 0.25279772, 0.3215027 , 0.2804789 , 0.26861468,\n",
       "       0.2958932 , 0.2968075 , 0.26578093, 0.27257934, 0.25974604,\n",
       "       0.2520303 , 0.25218186, 0.32627842, 0.26667783, 0.26323926,\n",
       "       0.27470216, 0.27350318, 0.26511413, 0.27610195, 0.30017102,\n",
       "       0.38500676, 0.37637645, 0.34530547, 0.3690651 , 0.355853  ,\n",
       "       0.36944458, 0.34312207, 0.29550368, 0.36085805, 0.35986838,\n",
       "       0.31424642, 0.3283497 , 0.31813326, 0.30099776, 0.317086  ,\n",
       "       0.2966371 , 0.2646232 , 0.27826786, 0.27204275, 0.2763856 ,\n",
       "       0.29300806, 0.25812554, 0.26703545, 0.26603764, 0.27279052,\n",
       "       0.26665732, 0.2766223 , 0.26954728, 0.27440894, 0.25993377,\n",
       "       0.25956622], dtype=float32)"
      ]
     },
     "execution_count": 46,
     "metadata": {},
     "output_type": "execute_result"
    }
   ],
   "source": [
    "# y_pred = model.predict(X_test).flatten()\n",
    "# y_pred"
   ]
  },
  {
   "cell_type": "code",
   "execution_count": null,
   "metadata": {},
   "outputs": [
    {
     "name": "stdout",
     "output_type": "stream",
     "text": [
      "16/16 - 0s - loss: 0.6718 - accuracy: 0.5746 - 234ms/epoch - 15ms/step\n",
      "Model accuracy: 0.5745967626571655\n"
     ]
    }
   ],
   "source": [
    "# loss, accuracy = model.evaluate(X_test, y_test, verbose=2)\n",
    "# print(f'Model accuracy: {accuracy}')"
   ]
  },
  {
   "cell_type": "code",
   "execution_count": null,
   "metadata": {},
   "outputs": [
    {
     "name": "stdout",
     "output_type": "stream",
     "text": [
      "16/16 [==============================] - 0s 2ms/step - loss: 0.6718 - accuracy: 0.5746\n",
      "Loss: 0.6718045473098755\n",
      "Accuracy: 0.5745967626571655\n",
      "Precision: 0.005494505494505495\n",
      "Recall: 0.03225806451612903\n"
     ]
    },
    {
     "data": {
      "text/plain": [
       "(31.0, 182)"
      ]
     },
     "execution_count": 48,
     "metadata": {},
     "output_type": "execute_result"
    }
   ],
   "source": [
    "# from sklearn.metrics import precision_score, recall_score\n",
    "# y_pred_c = y_pred.round().astype(int)\n",
    "# precision = precision_score(y_test, y_pred_c)\n",
    "# recall = recall_score(y_test, y_pred_c)\n",
    "\n",
    "# loss, accuracy = model.evaluate(X_test, y_test)\n",
    "\n",
    "# print('Loss:', loss)\n",
    "# print('Accuracy:', accuracy)\n",
    "# print('Precision:', precision)\n",
    "# print('Recall:', recall)\n",
    "# y_test.sum(), y_pred_c.sum()"
   ]
  },
  {
   "cell_type": "code",
   "execution_count": null,
   "metadata": {},
   "outputs": [],
   "source": []
  }
 ],
 "metadata": {
  "kernelspec": {
   "display_name": ".venv",
   "language": "python",
   "name": "python3"
  },
  "language_info": {
   "codemirror_mode": {
    "name": "ipython",
    "version": 3
   },
   "file_extension": ".py",
   "mimetype": "text/x-python",
   "name": "python",
   "nbconvert_exporter": "python",
   "pygments_lexer": "ipython3",
   "version": "3.11.3"
  }
 },
 "nbformat": 4,
 "nbformat_minor": 2
}
