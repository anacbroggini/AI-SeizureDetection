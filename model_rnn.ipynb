{
 "cells": [
  {
   "cell_type": "code",
   "execution_count": 1,
   "metadata": {},
   "outputs": [
    {
     "name": "stderr",
     "output_type": "stream",
     "text": [
      "2023-11-15 16:44:04.460887: I tensorflow/core/platform/cpu_feature_guard.cc:182] This TensorFlow binary is optimized to use available CPU instructions in performance-critical operations.\n",
      "To enable the following instructions: AVX2 FMA, in other operations, rebuild TensorFlow with the appropriate compiler flags.\n"
     ]
    }
   ],
   "source": [
    "import pip\n",
    "\n",
    "def import_or_install(package):\n",
    "    try:\n",
    "        __import__(package)\n",
    "    except ImportError:\n",
    "        pip.main(['install', package])       \n",
    "\n",
    "import_or_install('tensorflow')\n",
    "import_or_install('pydot')\n"
   ]
  },
  {
   "cell_type": "code",
   "execution_count": 2,
   "metadata": {},
   "outputs": [],
   "source": [
    "import tensorflow as tf\n",
    "from tensorflow import keras\n",
    "from tensorflow.keras import layers"
   ]
  },
  {
   "cell_type": "code",
   "execution_count": 3,
   "metadata": {},
   "outputs": [],
   "source": [
    "import pyarrow as pa\n",
    "import pandas as pd\n",
    "import matplotlib\n",
    "import matplotlib.pyplot as plt\n",
    "import seaborn as sns\n",
    "import numpy as np\n",
    "from source import data_import"
   ]
  },
  {
   "cell_type": "code",
   "execution_count": 4,
   "metadata": {},
   "outputs": [],
   "source": [
    "from sklearn.model_selection import train_test_split\n",
    "from sklearn.metrics import confusion_matrix, accuracy_score\n",
    "from sklearn.preprocessing import StandardScaler"
   ]
  },
  {
   "cell_type": "code",
   "execution_count": 5,
   "metadata": {},
   "outputs": [],
   "source": [
    "import tensorflow as tf\n",
    "\n",
    "import keras \n",
    "from keras.models import Sequential # intitialize the ANN\n",
    "from keras.layers import Dense, Activation, Dropout "
   ]
  },
  {
   "cell_type": "code",
   "execution_count": 6,
   "metadata": {},
   "outputs": [],
   "source": [
    "import source.plots as plots"
   ]
  },
  {
   "cell_type": "code",
   "execution_count": 7,
   "metadata": {},
   "outputs": [],
   "source": [
    "RSEED = 42\n",
    "np.random.seed(seed=RSEED)\n",
    "tf.random.set_seed(RSEED)"
   ]
  },
  {
   "cell_type": "code",
   "execution_count": 34,
   "metadata": {},
   "outputs": [
    {
     "name": "stdout",
     "output_type": "stream",
     "text": [
      "data already loaded in parent notebook\n"
     ]
    },
    {
     "data": {
      "text/plain": [
       "(13330, 30, 63)"
      ]
     },
     "execution_count": 34,
     "metadata": {},
     "output_type": "execute_result"
    }
   ],
   "source": [
    "try:\n",
    "    data\n",
    "    print('data already loaded in parent notebook')\n",
    "except NameError:\n",
    "    data = np.load('data/extracted_features.npy')\n",
    "data.shape"
   ]
  },
  {
   "cell_type": "code",
   "execution_count": 228,
   "metadata": {},
   "outputs": [],
   "source": [
    "data = np.load('data/extracted_features.npy')\n"
   ]
  },
  {
   "cell_type": "code",
   "execution_count": 230,
   "metadata": {},
   "outputs": [
    {
     "data": {
      "text/plain": [
       "(13330, 30, 63)"
      ]
     },
     "execution_count": 230,
     "metadata": {},
     "output_type": "execute_result"
    }
   ],
   "source": [
    "data.shape"
   ]
  },
  {
   "cell_type": "code",
   "execution_count": 231,
   "metadata": {},
   "outputs": [],
   "source": [
    "import numpy as np\n",
    "\n",
    "def split_data(data, train_size=0.8, random_state=None):\n",
    "    np.random.seed(seed=RSEED)\n",
    "\n",
    "    # Assuming the first column contains the IDs\n",
    "    ids_column = data[:, 0, 0]\n",
    "\n",
    "    # Find unique epoch IDs\n",
    "    unique_epoch_ids = np.unique(ids_column)\n",
    "\n",
    "    # Shuffle the unique epoch IDs\n",
    "    np.random.shuffle(unique_epoch_ids)\n",
    "\n",
    "    # Calculate the number of unique epoch IDs for training, validation, and testing\n",
    "    train_samples_nr = int(np.floor(train_size * len(unique_epoch_ids)))\n",
    "    print(f'{train_samples_nr} of epochs for training, {len(unique_epoch_ids) - train_samples_nr} of epochs for testing/validation')\n",
    "\n",
    "    # Split the unique epoch IDs into train, validation, and test sets\n",
    "\n",
    "    train_sample_ids = unique_epoch_ids[:train_samples_nr]\n",
    "    test_sample_ids = unique_epoch_ids[train_samples_nr:]\n",
    "\n",
    "    # Create boolean masks for filtering\n",
    "    train_mask = np.in1d(ids_column, train_sample_ids)\n",
    "    test_mask = np.in1d(ids_column, test_sample_ids)\n",
    "\n",
    "    # Apply the masks to create train, validation, and test samples\n",
    "    train_sample = data[train_mask, :, :]\n",
    "    test_sample = data[test_mask, :, :]\n",
    "\n",
    "    X_train = train_sample[:,:,:-1]\n",
    "    X_test = test_sample[:,:,:-1]\n",
    "\n",
    "    Y_train = train_sample[:,:,-1]\n",
    "    Y_test = test_sample[:,:,-1]\n",
    "\n",
    "    y_test=Y_test.max(axis=1)\n",
    "    y_train=Y_train.max(axis=1)\n",
    "\n",
    "    return X_train, X_test, Y_train, Y_test, y_train, y_test\n"
   ]
  },
  {
   "cell_type": "code",
   "execution_count": 232,
   "metadata": {},
   "outputs": [
    {
     "name": "stdout",
     "output_type": "stream",
     "text": [
      "344 of epochs for training, 86 of epochs for testing/validation\n",
      "train shape (10664, 30, 62) ratio of seizures 0.14\n",
      "test shape (2666, 30, 62), ratio of seizures 0.13\n"
     ]
    }
   ],
   "source": [
    "X_train, X_test, Y_train, Y_test, y_train, y_test = split_data(data)\n",
    "print(f'train shape', X_train.shape, f'ratio of seizures {y_train.sum()/len(y_train):.2f}')\n",
    "print(f'test shape {X_test.shape}, ratio of seizures {y_test.sum()/len(y_test):.2f}')"
   ]
  },
  {
   "cell_type": "code",
   "execution_count": 233,
   "metadata": {},
   "outputs": [
    {
     "name": "stdout",
     "output_type": "stream",
     "text": [
      "train shape (10664, 30, 60)\n",
      "test shape (2666, 30, 60)\n"
     ]
    }
   ],
   "source": [
    "# Scaling features\n",
    "num_features_train = X_train[:,:,2:]\n",
    "num_features_test = X_test[:,:,2:]\n",
    "\n",
    "# Get the dimensions of the original array\n",
    "num_epochs_tr, num_segments_per_epoch_tr, features_tr = num_features_train.shape\n",
    "num_epochs_te, num_segments_per_epoch_te, features_te = num_features_test.shape\n",
    "\n",
    "# Reshape the array to 2D\n",
    "reshaped_array_train = num_features_train.reshape(num_epochs_tr * num_segments_per_epoch_tr, features_tr)\n",
    "reshaped_array_test = num_features_test.reshape(num_epochs_te * num_segments_per_epoch_te, features_te)\n",
    "\n",
    "# Scaling features\n",
    "scaler = StandardScaler()\n",
    "num_features_scaled_tr = scaler.fit_transform(reshaped_array_train)\n",
    "num_features_scaled_te = scaler.transform(reshaped_array_test)\n",
    "\n",
    "X_train_scaled = num_features_scaled_tr.reshape(num_epochs_tr, num_segments_per_epoch_tr, features_tr)\n",
    "X_test_scaled = num_features_scaled_te.reshape(num_epochs_te, num_segments_per_epoch_te, features_te)\n",
    "\n",
    "print(f'train shape', X_train_scaled.shape)\n",
    "print(f'test shape', X_test_scaled.shape)"
   ]
  },
  {
   "cell_type": "code",
   "execution_count": 234,
   "metadata": {},
   "outputs": [],
   "source": [
    "X_train = X_train_scaled\n",
    "X_test = X_test_scaled"
   ]
  },
  {
   "cell_type": "code",
   "execution_count": 235,
   "metadata": {},
   "outputs": [],
   "source": [
    "import numpy as np\n",
    "import tensorflow as tf\n",
    "from sklearn.utils.class_weight import compute_class_weight\n",
    "\n",
    "class_labels, class_counts = np.unique(y_train, return_counts=True)\n",
    "total_samples = len(y_train)\n",
    "class_weights = total_samples / (len(class_labels) * class_counts)\n",
    "\n",
    "# Convert class weights to a dictionary\n",
    "class_weight_dict = dict(zip(class_labels, class_weights))\n"
   ]
  },
  {
   "cell_type": "code",
   "execution_count": 236,
   "metadata": {},
   "outputs": [
    {
     "data": {
      "text/plain": [
       "{0.0: 0.5830508474576271, 1.0: 3.510204081632653}"
      ]
     },
     "execution_count": 236,
     "metadata": {},
     "output_type": "execute_result"
    }
   ],
   "source": [
    "class_weight_dict"
   ]
  },
  {
   "cell_type": "code",
   "execution_count": 237,
   "metadata": {},
   "outputs": [],
   "source": [
    "N_TRAIN = len(X_train)\n",
    "EPOCHS = 300\n",
    "BATCH_SIZE = 100\n",
    "STEPS_PER_EPOCH = N_TRAIN // BATCH_SIZE"
   ]
  },
  {
   "cell_type": "code",
   "execution_count": 65,
   "metadata": {},
   "outputs": [
    {
     "data": {
      "text/plain": [
       "106"
      ]
     },
     "execution_count": 65,
     "metadata": {},
     "output_type": "execute_result"
    }
   ],
   "source": [
    "STEPS_PER_EPOCH"
   ]
  },
  {
   "cell_type": "code",
   "execution_count": 238,
   "metadata": {},
   "outputs": [],
   "source": [
    "from keras.models import Sequential\n",
    "from keras.layers import LSTM, Dense, Dropout, BatchNormalization, Input\n",
    "from tensorflow.keras.optimizers import Adam\n",
    "from keras import regularizers\n",
    "\n",
    "# Set seeds for reproducibility\n",
    "np.random.seed(42)\n",
    "tf.random.set_seed(42)\n",
    "\n",
    "model = Sequential()\n",
    "\n",
    "model.add(Input(shape=X_train.shape[1:]))\n",
    "\n",
    "#model.add(normalizer)\n",
    "\n",
    "# Recurrent layer\n",
    "model.add(LSTM(64, return_sequences=False, kernel_regularizer=regularizers.l2(0.05)))\n",
    "\n",
    "model.add(Dropout(0.5))  # Add dropout after LSTM\n",
    "\n",
    "# Fully connected layer\n",
    "model.add(Dense(64, activation='relu', kernel_regularizer=regularizers.l2(0.05)))\n",
    "\n",
    "# Dropout for regularization\n",
    "model.add(Dropout(0.5))\n",
    "\n",
    "model.add(BatchNormalization())\n",
    "\n",
    "# Calculate the imbalance ratio\n",
    "pos_ratio = class_weight_dict[1] / (class_weight_dict[0] + class_weight_dict[1])\n",
    "\n",
    "# Calculate the initial bias based on the imbalance ratio\n",
    "initial_bias = -np.log(pos_ratio)\n",
    "\n",
    "# Output layer with a custom bias for initial probability\n",
    "model.add(Dense(1, activation='sigmoid', bias_initializer=tf.keras.initializers.Constant(initial_bias)))\n",
    "\n",
    "# Compile the model\n",
    "#learning_rate = 0.001  # Replace with your desired learning rate\n",
    "\n",
    "# Create an instance of the Adam optimizer with the specified learning rate\n",
    "\n",
    "lr_schedule = tf.keras.optimizers.schedules.InverseTimeDecay(\n",
    "    0.00001,\n",
    "    decay_steps=STEPS_PER_EPOCH*1000,\n",
    "    decay_rate=0.001,\n",
    "    staircase=False)\n",
    "\n",
    "\n",
    "optimizer = Adam(learning_rate=lr_schedule)\n",
    "model.compile(\n",
    "    optimizer=optimizer, loss='binary_crossentropy', metrics=['accuracy', 'AUC'])"
   ]
  },
  {
   "cell_type": "code",
   "execution_count": 239,
   "metadata": {},
   "outputs": [
    {
     "name": "stdout",
     "output_type": "stream",
     "text": [
      "Model: \"sequential_15\"\n",
      "_________________________________________________________________\n",
      " Layer (type)                Output Shape              Param #   \n",
      "=================================================================\n",
      " lstm_15 (LSTM)              (None, 64)                32000     \n",
      "                                                                 \n",
      " dropout_29 (Dropout)        (None, 64)                0         \n",
      "                                                                 \n",
      " dense_30 (Dense)            (None, 64)                4160      \n",
      "                                                                 \n",
      " dropout_30 (Dropout)        (None, 64)                0         \n",
      "                                                                 \n",
      " batch_normalization_15 (Ba  (None, 64)                256       \n",
      " tchNormalization)                                               \n",
      "                                                                 \n",
      " dense_31 (Dense)            (None, 1)                 65        \n",
      "                                                                 \n",
      "=================================================================\n",
      "Total params: 36481 (142.50 KB)\n",
      "Trainable params: 36353 (142.00 KB)\n",
      "Non-trainable params: 128 (512.00 Byte)\n",
      "_________________________________________________________________\n"
     ]
    }
   ],
   "source": [
    "model.summary()"
   ]
  },
  {
   "cell_type": "code",
   "execution_count": 240,
   "metadata": {},
   "outputs": [],
   "source": [
    "from keras.callbacks import EarlyStopping, ModelCheckpoint\n",
    "\n",
    "# Create EarlyStopping callback\n",
    "early_stopping = EarlyStopping(monitor='val_loss', patience=30, restore_best_weights=True)\n",
    "\n",
    "# Create ModelCheckpoint callback to save the best model\n",
    "model_checkpoint = ModelCheckpoint('best_model.h5', save_best_only=True)\n",
    "\n",
    "# Combine the callbacks in a list\n",
    "callbacks = [early_stopping, model_checkpoint]"
   ]
  },
  {
   "cell_type": "code",
   "execution_count": 241,
   "metadata": {},
   "outputs": [
    {
     "data": {
      "text/plain": [
       "(10664,)"
      ]
     },
     "execution_count": 241,
     "metadata": {},
     "output_type": "execute_result"
    }
   ],
   "source": [
    "y_train.shape"
   ]
  },
  {
   "cell_type": "code",
   "execution_count": 243,
   "metadata": {},
   "outputs": [
    {
     "name": "stdout",
     "output_type": "stream",
     "text": [
      "Epoch 1/300\n",
      "107/107 [==============================] - 4s 41ms/step - loss: 8.5434 - accuracy: 0.4932 - auc: 0.5270 - val_loss: 8.2543 - val_accuracy: 0.6751 - val_auc: 0.5090\n",
      "Epoch 2/300\n",
      "  5/107 [>.............................] - ETA: 3s - loss: 8.5022 - accuracy: 0.4820 - auc: 0.5435"
     ]
    },
    {
     "name": "stderr",
     "output_type": "stream",
     "text": [
      "/Users/anabroggini/Documents/bootcamp/ai2/.venv/lib/python3.11/site-packages/keras/src/engine/training.py:3079: UserWarning: You are saving your model as an HDF5 file via `model.save()`. This file format is considered legacy. We recommend using instead the native Keras format, e.g. `model.save('my_model.keras')`.\n",
      "  saving_api.save_model(\n"
     ]
    },
    {
     "name": "stdout",
     "output_type": "stream",
     "text": [
      "107/107 [==============================] - 5s 43ms/step - loss: 8.4218 - accuracy: 0.4912 - auc: 0.5279 - val_loss: 8.1508 - val_accuracy: 0.6779 - val_auc: 0.5128\n",
      "Epoch 3/300\n",
      "107/107 [==============================] - 4s 39ms/step - loss: 8.3270 - accuracy: 0.4997 - auc: 0.5289 - val_loss: 8.0465 - val_accuracy: 0.6784 - val_auc: 0.5182\n",
      "Epoch 4/300\n",
      "107/107 [==============================] - 4s 41ms/step - loss: 8.1881 - accuracy: 0.5021 - auc: 0.5530 - val_loss: 7.9392 - val_accuracy: 0.6831 - val_auc: 0.5237\n",
      "Epoch 5/300\n",
      "107/107 [==============================] - 4s 40ms/step - loss: 8.1021 - accuracy: 0.4972 - auc: 0.5392 - val_loss: 7.8300 - val_accuracy: 0.6892 - val_auc: 0.5275\n",
      "Epoch 6/300\n",
      "107/107 [==============================] - 4s 41ms/step - loss: 8.0042 - accuracy: 0.5030 - auc: 0.5369 - val_loss: 7.7259 - val_accuracy: 0.6939 - val_auc: 0.5316\n",
      "Epoch 7/300\n",
      "107/107 [==============================] - 5s 48ms/step - loss: 7.8974 - accuracy: 0.5018 - auc: 0.5428 - val_loss: 7.6235 - val_accuracy: 0.6953 - val_auc: 0.5362\n",
      "Epoch 8/300\n",
      "107/107 [==============================] - 5s 49ms/step - loss: 7.8137 - accuracy: 0.4953 - auc: 0.5286 - val_loss: 7.5314 - val_accuracy: 0.6887 - val_auc: 0.5396\n",
      "Epoch 9/300\n",
      "107/107 [==============================] - 5s 48ms/step - loss: 7.7027 - accuracy: 0.4999 - auc: 0.5315 - val_loss: 7.4303 - val_accuracy: 0.6943 - val_auc: 0.5420\n",
      "Epoch 10/300\n",
      "107/107 [==============================] - 5s 48ms/step - loss: 7.5880 - accuracy: 0.5099 - auc: 0.5469 - val_loss: 7.3257 - val_accuracy: 0.7014 - val_auc: 0.5456\n",
      "Epoch 11/300\n",
      "107/107 [==============================] - 5s 46ms/step - loss: 7.4831 - accuracy: 0.5125 - auc: 0.5576 - val_loss: 7.2333 - val_accuracy: 0.7009 - val_auc: 0.5491\n",
      "Epoch 12/300\n",
      "107/107 [==============================] - 5s 44ms/step - loss: 7.3873 - accuracy: 0.5078 - auc: 0.5542 - val_loss: 7.1369 - val_accuracy: 0.7028 - val_auc: 0.5531\n",
      "Epoch 13/300\n",
      "107/107 [==============================] - 5s 46ms/step - loss: 7.3074 - accuracy: 0.5050 - auc: 0.5483 - val_loss: 7.0433 - val_accuracy: 0.7014 - val_auc: 0.5553\n",
      "Epoch 14/300\n",
      "107/107 [==============================] - 5s 49ms/step - loss: 7.2110 - accuracy: 0.5112 - auc: 0.5488 - val_loss: 6.9524 - val_accuracy: 0.7042 - val_auc: 0.5603\n",
      "Epoch 15/300\n",
      "107/107 [==============================] - 5s 47ms/step - loss: 7.1060 - accuracy: 0.5188 - auc: 0.5651 - val_loss: 6.8593 - val_accuracy: 0.7060 - val_auc: 0.5619\n",
      "Epoch 16/300\n",
      "107/107 [==============================] - 5s 44ms/step - loss: 7.0256 - accuracy: 0.5158 - auc: 0.5573 - val_loss: 6.7721 - val_accuracy: 0.7070 - val_auc: 0.5650\n",
      "Epoch 17/300\n",
      "107/107 [==============================] - 5s 47ms/step - loss: 6.9265 - accuracy: 0.5158 - auc: 0.5647 - val_loss: 6.6815 - val_accuracy: 0.7121 - val_auc: 0.5695\n",
      "Epoch 18/300\n",
      "107/107 [==============================] - 5s 44ms/step - loss: 6.8349 - accuracy: 0.5244 - auc: 0.5704 - val_loss: 6.5944 - val_accuracy: 0.7150 - val_auc: 0.5726\n",
      "Epoch 19/300\n",
      "107/107 [==============================] - 4s 38ms/step - loss: 6.7509 - accuracy: 0.5201 - auc: 0.5667 - val_loss: 6.5054 - val_accuracy: 0.7201 - val_auc: 0.5759\n",
      "Epoch 20/300\n",
      "107/107 [==============================] - 4s 39ms/step - loss: 6.6625 - accuracy: 0.5245 - auc: 0.5703 - val_loss: 6.4201 - val_accuracy: 0.7173 - val_auc: 0.5736\n",
      "Epoch 21/300\n",
      "107/107 [==============================] - 4s 39ms/step - loss: 6.5685 - accuracy: 0.5237 - auc: 0.5794 - val_loss: 6.3328 - val_accuracy: 0.7206 - val_auc: 0.5779\n",
      "Epoch 22/300\n",
      "107/107 [==============================] - 4s 38ms/step - loss: 6.4809 - accuracy: 0.5269 - auc: 0.5727 - val_loss: 6.2523 - val_accuracy: 0.7206 - val_auc: 0.5801\n",
      "Epoch 23/300\n",
      "107/107 [==============================] - 4s 37ms/step - loss: 6.4212 - accuracy: 0.5229 - auc: 0.5600 - val_loss: 6.1665 - val_accuracy: 0.7220 - val_auc: 0.5828\n",
      "Epoch 24/300\n",
      "107/107 [==============================] - 4s 37ms/step - loss: 6.3254 - accuracy: 0.5284 - auc: 0.5695 - val_loss: 6.0885 - val_accuracy: 0.7211 - val_auc: 0.5847\n",
      "Epoch 25/300\n",
      "107/107 [==============================] - 4s 38ms/step - loss: 6.2227 - accuracy: 0.5385 - auc: 0.5929 - val_loss: 6.0109 - val_accuracy: 0.7196 - val_auc: 0.5860\n",
      "Epoch 26/300\n",
      "107/107 [==============================] - 4s 36ms/step - loss: 6.1575 - accuracy: 0.5357 - auc: 0.5802 - val_loss: 5.9270 - val_accuracy: 0.7248 - val_auc: 0.5867\n",
      "Epoch 27/300\n",
      "107/107 [==============================] - 4s 36ms/step - loss: 6.0944 - accuracy: 0.5301 - auc: 0.5705 - val_loss: 5.8485 - val_accuracy: 0.7286 - val_auc: 0.5900\n",
      "Epoch 28/300\n",
      "107/107 [==============================] - 4s 37ms/step - loss: 5.9971 - accuracy: 0.5379 - auc: 0.5848 - val_loss: 5.7706 - val_accuracy: 0.7300 - val_auc: 0.5939\n",
      "Epoch 29/300\n",
      "107/107 [==============================] - 4s 35ms/step - loss: 5.9287 - accuracy: 0.5381 - auc: 0.5827 - val_loss: 5.6955 - val_accuracy: 0.7267 - val_auc: 0.5929\n",
      "Epoch 30/300\n",
      "107/107 [==============================] - 4s 36ms/step - loss: 5.8470 - accuracy: 0.5380 - auc: 0.5863 - val_loss: 5.6241 - val_accuracy: 0.7229 - val_auc: 0.5966\n",
      "Epoch 31/300\n",
      "107/107 [==============================] - 4s 36ms/step - loss: 5.7790 - accuracy: 0.5447 - auc: 0.5829 - val_loss: 5.5518 - val_accuracy: 0.7304 - val_auc: 0.6034\n",
      "Epoch 32/300\n",
      "107/107 [==============================] - 4s 35ms/step - loss: 5.6892 - accuracy: 0.5418 - auc: 0.5951 - val_loss: 5.4770 - val_accuracy: 0.7300 - val_auc: 0.6013\n",
      "Epoch 33/300\n",
      "107/107 [==============================] - 4s 35ms/step - loss: 5.6210 - accuracy: 0.5410 - auc: 0.5912 - val_loss: 5.4037 - val_accuracy: 0.7351 - val_auc: 0.6069\n",
      "Epoch 34/300\n",
      "107/107 [==============================] - 4s 40ms/step - loss: 5.5476 - accuracy: 0.5485 - auc: 0.6006 - val_loss: 5.3331 - val_accuracy: 0.7323 - val_auc: 0.6059\n",
      "Epoch 35/300\n",
      "107/107 [==============================] - 4s 40ms/step - loss: 5.4767 - accuracy: 0.5510 - auc: 0.5961 - val_loss: 5.2654 - val_accuracy: 0.7342 - val_auc: 0.6097\n",
      "Epoch 36/300\n",
      "107/107 [==============================] - 4s 38ms/step - loss: 5.4096 - accuracy: 0.5482 - auc: 0.5944 - val_loss: 5.1942 - val_accuracy: 0.7323 - val_auc: 0.6108\n",
      "Epoch 37/300\n",
      "107/107 [==============================] - 4s 40ms/step - loss: 5.3388 - accuracy: 0.5501 - auc: 0.5969 - val_loss: 5.1228 - val_accuracy: 0.7417 - val_auc: 0.6151\n",
      "Epoch 38/300\n",
      "107/107 [==============================] - 4s 37ms/step - loss: 5.2663 - accuracy: 0.5511 - auc: 0.6028 - val_loss: 5.0583 - val_accuracy: 0.7384 - val_auc: 0.6174\n",
      "Epoch 39/300\n",
      "107/107 [==============================] - 4s 37ms/step - loss: 5.1791 - accuracy: 0.5602 - auc: 0.6201 - val_loss: 4.9936 - val_accuracy: 0.7375 - val_auc: 0.6176\n",
      "Epoch 40/300\n",
      "107/107 [==============================] - 4s 40ms/step - loss: 5.1296 - accuracy: 0.5617 - auc: 0.6103 - val_loss: 4.9237 - val_accuracy: 0.7431 - val_auc: 0.6225\n",
      "Epoch 41/300\n",
      "107/107 [==============================] - 4s 37ms/step - loss: 5.0625 - accuracy: 0.5522 - auc: 0.6078 - val_loss: 4.8627 - val_accuracy: 0.7421 - val_auc: 0.6242\n",
      "Epoch 42/300\n",
      "107/107 [==============================] - 4s 35ms/step - loss: 4.9964 - accuracy: 0.5580 - auc: 0.6087 - val_loss: 4.7999 - val_accuracy: 0.7421 - val_auc: 0.6228\n",
      "Epoch 43/300\n",
      "107/107 [==============================] - 4s 37ms/step - loss: 4.9240 - accuracy: 0.5659 - auc: 0.6224 - val_loss: 4.7348 - val_accuracy: 0.7440 - val_auc: 0.6210\n",
      "Epoch 44/300\n",
      "107/107 [==============================] - 4s 37ms/step - loss: 4.8803 - accuracy: 0.5603 - auc: 0.6115 - val_loss: 4.6698 - val_accuracy: 0.7511 - val_auc: 0.6273\n",
      "Epoch 45/300\n",
      "107/107 [==============================] - 4s 37ms/step - loss: 4.7962 - accuracy: 0.5653 - auc: 0.6269 - val_loss: 4.6145 - val_accuracy: 0.7464 - val_auc: 0.6275\n",
      "Epoch 46/300\n",
      "107/107 [==============================] - 4s 39ms/step - loss: 4.7382 - accuracy: 0.5689 - auc: 0.6245 - val_loss: 4.5538 - val_accuracy: 0.7468 - val_auc: 0.6321\n",
      "Epoch 47/300\n",
      "107/107 [==============================] - 4s 37ms/step - loss: 4.6832 - accuracy: 0.5635 - auc: 0.6199 - val_loss: 4.4910 - val_accuracy: 0.7576 - val_auc: 0.6372\n",
      "Epoch 48/300\n",
      "107/107 [==============================] - 4s 37ms/step - loss: 4.6240 - accuracy: 0.5684 - auc: 0.6256 - val_loss: 4.4346 - val_accuracy: 0.7595 - val_auc: 0.6364\n",
      "Epoch 49/300\n",
      "107/107 [==============================] - 4s 37ms/step - loss: 4.5545 - accuracy: 0.5746 - auc: 0.6353 - val_loss: 4.3765 - val_accuracy: 0.7600 - val_auc: 0.6411\n",
      "Epoch 50/300\n",
      "107/107 [==============================] - 4s 40ms/step - loss: 4.4974 - accuracy: 0.5777 - auc: 0.6387 - val_loss: 4.3181 - val_accuracy: 0.7614 - val_auc: 0.6371\n",
      "Epoch 51/300\n",
      "107/107 [==============================] - 4s 37ms/step - loss: 4.4451 - accuracy: 0.5750 - auc: 0.6303 - val_loss: 4.2644 - val_accuracy: 0.7581 - val_auc: 0.6348\n",
      "Epoch 52/300\n",
      "107/107 [==============================] - 4s 38ms/step - loss: 4.3750 - accuracy: 0.5886 - auc: 0.6521 - val_loss: 4.2099 - val_accuracy: 0.7614 - val_auc: 0.6392\n",
      "Epoch 53/300\n",
      "107/107 [==============================] - 4s 34ms/step - loss: 4.3352 - accuracy: 0.5819 - auc: 0.6357 - val_loss: 4.1528 - val_accuracy: 0.7651 - val_auc: 0.6420\n",
      "Epoch 54/300\n",
      "107/107 [==============================] - 4s 36ms/step - loss: 4.2669 - accuracy: 0.5825 - auc: 0.6447 - val_loss: 4.0991 - val_accuracy: 0.7661 - val_auc: 0.6461\n",
      "Epoch 55/300\n",
      "107/107 [==============================] - 4s 36ms/step - loss: 4.2214 - accuracy: 0.5806 - auc: 0.6357 - val_loss: 4.0464 - val_accuracy: 0.7712 - val_auc: 0.6484\n",
      "Epoch 56/300\n",
      "107/107 [==============================] - 4s 38ms/step - loss: 4.1697 - accuracy: 0.5762 - auc: 0.6375 - val_loss: 3.9983 - val_accuracy: 0.7684 - val_auc: 0.6476\n",
      "Epoch 57/300\n",
      "107/107 [==============================] - 5s 43ms/step - loss: 4.0986 - accuracy: 0.5899 - auc: 0.6592 - val_loss: 3.9503 - val_accuracy: 0.7661 - val_auc: 0.6453\n",
      "Epoch 58/300\n",
      "107/107 [==============================] - 4s 38ms/step - loss: 4.0586 - accuracy: 0.5886 - auc: 0.6483 - val_loss: 3.8998 - val_accuracy: 0.7623 - val_auc: 0.6456\n",
      "Epoch 59/300\n",
      "107/107 [==============================] - 5s 43ms/step - loss: 4.0035 - accuracy: 0.5930 - auc: 0.6563 - val_loss: 3.8486 - val_accuracy: 0.7651 - val_auc: 0.6425\n",
      "Epoch 60/300\n",
      "107/107 [==============================] - 4s 35ms/step - loss: 3.9492 - accuracy: 0.5982 - auc: 0.6619 - val_loss: 3.8008 - val_accuracy: 0.7647 - val_auc: 0.6461\n",
      "Epoch 61/300\n",
      "107/107 [==============================] - 5s 43ms/step - loss: 3.8957 - accuracy: 0.5948 - auc: 0.6638 - val_loss: 3.7548 - val_accuracy: 0.7623 - val_auc: 0.6487\n",
      "Epoch 62/300\n",
      "107/107 [==============================] - 4s 37ms/step - loss: 3.8472 - accuracy: 0.5980 - auc: 0.6634 - val_loss: 3.7073 - val_accuracy: 0.7614 - val_auc: 0.6495\n",
      "Epoch 63/300\n",
      "107/107 [==============================] - 4s 37ms/step - loss: 3.8007 - accuracy: 0.6015 - auc: 0.6683 - val_loss: 3.6635 - val_accuracy: 0.7586 - val_auc: 0.6419\n",
      "Epoch 64/300\n",
      "107/107 [==============================] - 5s 42ms/step - loss: 3.7526 - accuracy: 0.5976 - auc: 0.6654 - val_loss: 3.6154 - val_accuracy: 0.7614 - val_auc: 0.6423\n",
      "Epoch 65/300\n",
      "107/107 [==============================] - 4s 36ms/step - loss: 3.7054 - accuracy: 0.6081 - auc: 0.6747 - val_loss: 3.5701 - val_accuracy: 0.7609 - val_auc: 0.6434\n",
      "Epoch 66/300\n",
      "107/107 [==============================] - 4s 36ms/step - loss: 3.6692 - accuracy: 0.6061 - auc: 0.6616 - val_loss: 3.5257 - val_accuracy: 0.7623 - val_auc: 0.6456\n",
      "Epoch 67/300\n",
      "107/107 [==============================] - 4s 40ms/step - loss: 3.6166 - accuracy: 0.6023 - auc: 0.6721 - val_loss: 3.4804 - val_accuracy: 0.7609 - val_auc: 0.6544\n",
      "Epoch 68/300\n",
      "107/107 [==============================] - 4s 37ms/step - loss: 3.5504 - accuracy: 0.6125 - auc: 0.6903 - val_loss: 3.4387 - val_accuracy: 0.7595 - val_auc: 0.6564\n",
      "Epoch 69/300\n",
      "107/107 [==============================] - 4s 35ms/step - loss: 3.5260 - accuracy: 0.6086 - auc: 0.6735 - val_loss: 3.3983 - val_accuracy: 0.7581 - val_auc: 0.6460\n",
      "Epoch 70/300\n",
      "107/107 [==============================] - 4s 36ms/step - loss: 3.4835 - accuracy: 0.6035 - auc: 0.6728 - val_loss: 3.3625 - val_accuracy: 0.7562 - val_auc: 0.6529\n",
      "Epoch 71/300\n",
      "107/107 [==============================] - 4s 40ms/step - loss: 3.4303 - accuracy: 0.6136 - auc: 0.6835 - val_loss: 3.3193 - val_accuracy: 0.7590 - val_auc: 0.6541\n",
      "Epoch 72/300\n",
      "107/107 [==============================] - 4s 36ms/step - loss: 3.3836 - accuracy: 0.6195 - auc: 0.6940 - val_loss: 3.2796 - val_accuracy: 0.7576 - val_auc: 0.6596\n",
      "Epoch 73/300\n",
      "107/107 [==============================] - 4s 38ms/step - loss: 3.3532 - accuracy: 0.6090 - auc: 0.6830 - val_loss: 3.2384 - val_accuracy: 0.7562 - val_auc: 0.6634\n",
      "Epoch 74/300\n",
      "107/107 [==============================] - 4s 37ms/step - loss: 3.3033 - accuracy: 0.6182 - auc: 0.6925 - val_loss: 3.1959 - val_accuracy: 0.7567 - val_auc: 0.6664\n",
      "Epoch 75/300\n",
      "107/107 [==============================] - 4s 36ms/step - loss: 3.2607 - accuracy: 0.6184 - auc: 0.6966 - val_loss: 3.1573 - val_accuracy: 0.7553 - val_auc: 0.6671\n",
      "Epoch 76/300\n",
      "107/107 [==============================] - 4s 35ms/step - loss: 3.2028 - accuracy: 0.6276 - auc: 0.7164 - val_loss: 3.1178 - val_accuracy: 0.7571 - val_auc: 0.6664\n",
      "Epoch 77/300\n",
      "107/107 [==============================] - 4s 39ms/step - loss: 3.1785 - accuracy: 0.6192 - auc: 0.7013 - val_loss: 3.0780 - val_accuracy: 0.7600 - val_auc: 0.6706\n",
      "Epoch 78/300\n",
      "107/107 [==============================] - 4s 37ms/step - loss: 3.1326 - accuracy: 0.6269 - auc: 0.7081 - val_loss: 3.0419 - val_accuracy: 0.7604 - val_auc: 0.6754\n",
      "Epoch 79/300\n",
      "107/107 [==============================] - 4s 38ms/step - loss: 3.0918 - accuracy: 0.6338 - auc: 0.7182 - val_loss: 3.0086 - val_accuracy: 0.7557 - val_auc: 0.6782\n",
      "Epoch 80/300\n",
      "107/107 [==============================] - 4s 39ms/step - loss: 3.0520 - accuracy: 0.6279 - auc: 0.7170 - val_loss: 2.9730 - val_accuracy: 0.7548 - val_auc: 0.6746\n",
      "Epoch 81/300\n",
      "107/107 [==============================] - 4s 36ms/step - loss: 3.0280 - accuracy: 0.6255 - auc: 0.7059 - val_loss: 2.9374 - val_accuracy: 0.7539 - val_auc: 0.6739\n",
      "Epoch 82/300\n",
      "107/107 [==============================] - 4s 41ms/step - loss: 2.9884 - accuracy: 0.6285 - auc: 0.7084 - val_loss: 2.9063 - val_accuracy: 0.7496 - val_auc: 0.6736\n",
      "Epoch 83/300\n",
      "107/107 [==============================] - 4s 37ms/step - loss: 2.9478 - accuracy: 0.6330 - auc: 0.7172 - val_loss: 2.8737 - val_accuracy: 0.7511 - val_auc: 0.6807\n",
      "Epoch 84/300\n",
      "107/107 [==============================] - 5s 42ms/step - loss: 2.9080 - accuracy: 0.6260 - auc: 0.7191 - val_loss: 2.8441 - val_accuracy: 0.7454 - val_auc: 0.6815\n",
      "Epoch 85/300\n",
      "107/107 [==============================] - 4s 39ms/step - loss: 2.8788 - accuracy: 0.6357 - auc: 0.7195 - val_loss: 2.8088 - val_accuracy: 0.7482 - val_auc: 0.6849\n",
      "Epoch 86/300\n",
      "107/107 [==============================] - 4s 37ms/step - loss: 2.8352 - accuracy: 0.6372 - auc: 0.7284 - val_loss: 2.7723 - val_accuracy: 0.7492 - val_auc: 0.6885\n",
      "Epoch 87/300\n",
      "107/107 [==============================] - 4s 35ms/step - loss: 2.8089 - accuracy: 0.6297 - auc: 0.7189 - val_loss: 2.7428 - val_accuracy: 0.7459 - val_auc: 0.6952\n",
      "Epoch 88/300\n",
      "107/107 [==============================] - 4s 34ms/step - loss: 2.7749 - accuracy: 0.6418 - auc: 0.7268 - val_loss: 2.7103 - val_accuracy: 0.7445 - val_auc: 0.6899\n",
      "Epoch 89/300\n",
      "107/107 [==============================] - 4s 34ms/step - loss: 2.7332 - accuracy: 0.6322 - auc: 0.7345 - val_loss: 2.6895 - val_accuracy: 0.7328 - val_auc: 0.6887\n",
      "Epoch 90/300\n",
      "107/107 [==============================] - 4s 33ms/step - loss: 2.7002 - accuracy: 0.6393 - auc: 0.7373 - val_loss: 2.6525 - val_accuracy: 0.7412 - val_auc: 0.6932\n",
      "Epoch 91/300\n",
      "107/107 [==============================] - 4s 35ms/step - loss: 2.6599 - accuracy: 0.6501 - auc: 0.7475 - val_loss: 2.6198 - val_accuracy: 0.7407 - val_auc: 0.6957\n",
      "Epoch 92/300\n",
      "107/107 [==============================] - 4s 35ms/step - loss: 2.6251 - accuracy: 0.6465 - auc: 0.7492 - val_loss: 2.5883 - val_accuracy: 0.7412 - val_auc: 0.7003\n",
      "Epoch 93/300\n",
      "107/107 [==============================] - 4s 34ms/step - loss: 2.5934 - accuracy: 0.6567 - auc: 0.7537 - val_loss: 2.5651 - val_accuracy: 0.7351 - val_auc: 0.7008\n",
      "Epoch 94/300\n",
      "107/107 [==============================] - 4s 34ms/step - loss: 2.5729 - accuracy: 0.6477 - auc: 0.7445 - val_loss: 2.5358 - val_accuracy: 0.7365 - val_auc: 0.6925\n",
      "Epoch 95/300\n",
      "107/107 [==============================] - 4s 36ms/step - loss: 2.5303 - accuracy: 0.6532 - auc: 0.7556 - val_loss: 2.5063 - val_accuracy: 0.7384 - val_auc: 0.6995\n",
      "Epoch 96/300\n",
      "107/107 [==============================] - 4s 37ms/step - loss: 2.4983 - accuracy: 0.6587 - auc: 0.7605 - val_loss: 2.4760 - val_accuracy: 0.7407 - val_auc: 0.7057\n",
      "Epoch 97/300\n",
      "107/107 [==============================] - 4s 38ms/step - loss: 2.4707 - accuracy: 0.6540 - auc: 0.7612 - val_loss: 2.4449 - val_accuracy: 0.7440 - val_auc: 0.7074\n",
      "Epoch 98/300\n",
      "107/107 [==============================] - 4s 35ms/step - loss: 2.4436 - accuracy: 0.6627 - auc: 0.7617 - val_loss: 2.4174 - val_accuracy: 0.7440 - val_auc: 0.7123\n",
      "Epoch 99/300\n",
      "107/107 [==============================] - 4s 40ms/step - loss: 2.4093 - accuracy: 0.6604 - auc: 0.7678 - val_loss: 2.3828 - val_accuracy: 0.7496 - val_auc: 0.7104\n",
      "Epoch 100/300\n",
      "107/107 [==============================] - 5s 45ms/step - loss: 2.3806 - accuracy: 0.6582 - auc: 0.7680 - val_loss: 2.3548 - val_accuracy: 0.7534 - val_auc: 0.7091\n",
      "Epoch 101/300\n",
      "107/107 [==============================] - 4s 36ms/step - loss: 2.3569 - accuracy: 0.6697 - auc: 0.7695 - val_loss: 2.3286 - val_accuracy: 0.7506 - val_auc: 0.7195\n",
      "Epoch 102/300\n",
      "107/107 [==============================] - 4s 39ms/step - loss: 2.3189 - accuracy: 0.6661 - auc: 0.7813 - val_loss: 2.2980 - val_accuracy: 0.7539 - val_auc: 0.7209\n",
      "Epoch 103/300\n",
      "107/107 [==============================] - 4s 35ms/step - loss: 2.2915 - accuracy: 0.6670 - auc: 0.7851 - val_loss: 2.2751 - val_accuracy: 0.7506 - val_auc: 0.7179\n",
      "Epoch 104/300\n",
      "107/107 [==============================] - 4s 37ms/step - loss: 2.2685 - accuracy: 0.6713 - auc: 0.7777 - val_loss: 2.2479 - val_accuracy: 0.7515 - val_auc: 0.7149\n",
      "Epoch 105/300\n",
      "107/107 [==============================] - 4s 38ms/step - loss: 2.2415 - accuracy: 0.6787 - auc: 0.7821 - val_loss: 2.2189 - val_accuracy: 0.7553 - val_auc: 0.7232\n",
      "Epoch 106/300\n",
      "107/107 [==============================] - 4s 39ms/step - loss: 2.2207 - accuracy: 0.6719 - auc: 0.7824 - val_loss: 2.1902 - val_accuracy: 0.7581 - val_auc: 0.7233\n",
      "Epoch 107/300\n",
      "107/107 [==============================] - 4s 37ms/step - loss: 2.1884 - accuracy: 0.6749 - auc: 0.7872 - val_loss: 2.1696 - val_accuracy: 0.7543 - val_auc: 0.7228\n",
      "Epoch 108/300\n",
      "107/107 [==============================] - 4s 40ms/step - loss: 2.1556 - accuracy: 0.6843 - auc: 0.7972 - val_loss: 2.1454 - val_accuracy: 0.7557 - val_auc: 0.7337\n",
      "Epoch 109/300\n",
      "107/107 [==============================] - 4s 37ms/step - loss: 2.1310 - accuracy: 0.6842 - auc: 0.7993 - val_loss: 2.1181 - val_accuracy: 0.7576 - val_auc: 0.7269\n",
      "Epoch 110/300\n",
      "107/107 [==============================] - 4s 36ms/step - loss: 2.1071 - accuracy: 0.6880 - auc: 0.8003 - val_loss: 2.0985 - val_accuracy: 0.7595 - val_auc: 0.7316\n",
      "Epoch 111/300\n",
      "107/107 [==============================] - 4s 35ms/step - loss: 2.0798 - accuracy: 0.6869 - auc: 0.8052 - val_loss: 2.0728 - val_accuracy: 0.7567 - val_auc: 0.7253\n",
      "Epoch 112/300\n",
      "107/107 [==============================] - 4s 35ms/step - loss: 2.0599 - accuracy: 0.6950 - auc: 0.8059 - val_loss: 2.0428 - val_accuracy: 0.7647 - val_auc: 0.7339\n",
      "Epoch 113/300\n",
      "107/107 [==============================] - 4s 34ms/step - loss: 2.0378 - accuracy: 0.6959 - auc: 0.8056 - val_loss: 2.0216 - val_accuracy: 0.7661 - val_auc: 0.7334\n",
      "Epoch 114/300\n",
      "107/107 [==============================] - 4s 36ms/step - loss: 2.0104 - accuracy: 0.6926 - auc: 0.8088 - val_loss: 1.9960 - val_accuracy: 0.7679 - val_auc: 0.7262\n",
      "Epoch 115/300\n",
      "107/107 [==============================] - 4s 38ms/step - loss: 1.9838 - accuracy: 0.6968 - auc: 0.8153 - val_loss: 1.9710 - val_accuracy: 0.7722 - val_auc: 0.7406\n",
      "Epoch 116/300\n",
      "107/107 [==============================] - 4s 40ms/step - loss: 1.9613 - accuracy: 0.6961 - auc: 0.8197 - val_loss: 1.9490 - val_accuracy: 0.7722 - val_auc: 0.7404\n",
      "Epoch 117/300\n",
      "107/107 [==============================] - 5s 44ms/step - loss: 1.9342 - accuracy: 0.7051 - auc: 0.8255 - val_loss: 1.9319 - val_accuracy: 0.7717 - val_auc: 0.7373\n",
      "Epoch 118/300\n",
      "107/107 [==============================] - 4s 36ms/step - loss: 1.9114 - accuracy: 0.7042 - auc: 0.8264 - val_loss: 1.9048 - val_accuracy: 0.7768 - val_auc: 0.7417\n",
      "Epoch 119/300\n",
      "107/107 [==============================] - 4s 35ms/step - loss: 1.8954 - accuracy: 0.7098 - auc: 0.8238 - val_loss: 1.8794 - val_accuracy: 0.7815 - val_auc: 0.7429\n",
      "Epoch 120/300\n",
      "107/107 [==============================] - 4s 34ms/step - loss: 1.8723 - accuracy: 0.7091 - auc: 0.8276 - val_loss: 1.8607 - val_accuracy: 0.7834 - val_auc: 0.7415\n",
      "Epoch 121/300\n",
      "107/107 [==============================] - 4s 40ms/step - loss: 1.8465 - accuracy: 0.7172 - auc: 0.8371 - val_loss: 1.8400 - val_accuracy: 0.7843 - val_auc: 0.7504\n",
      "Epoch 122/300\n",
      "107/107 [==============================] - 4s 39ms/step - loss: 1.8274 - accuracy: 0.7198 - auc: 0.8361 - val_loss: 1.8163 - val_accuracy: 0.7872 - val_auc: 0.7471\n",
      "Epoch 123/300\n",
      "107/107 [==============================] - 4s 38ms/step - loss: 1.8102 - accuracy: 0.7220 - auc: 0.8374 - val_loss: 1.7995 - val_accuracy: 0.7867 - val_auc: 0.7450\n",
      "Epoch 124/300\n",
      "107/107 [==============================] - 4s 40ms/step - loss: 1.7758 - accuracy: 0.7216 - auc: 0.8485 - val_loss: 1.7846 - val_accuracy: 0.7825 - val_auc: 0.7477\n",
      "Epoch 125/300\n",
      "107/107 [==============================] - 4s 38ms/step - loss: 1.7606 - accuracy: 0.7264 - auc: 0.8472 - val_loss: 1.7711 - val_accuracy: 0.7773 - val_auc: 0.7511\n",
      "Epoch 126/300\n",
      "107/107 [==============================] - 4s 39ms/step - loss: 1.7419 - accuracy: 0.7222 - auc: 0.8478 - val_loss: 1.7395 - val_accuracy: 0.7900 - val_auc: 0.7469\n",
      "Epoch 127/300\n",
      "107/107 [==============================] - 4s 41ms/step - loss: 1.7186 - accuracy: 0.7342 - auc: 0.8549 - val_loss: 1.7185 - val_accuracy: 0.7932 - val_auc: 0.7475\n",
      "Epoch 128/300\n",
      "107/107 [==============================] - 4s 35ms/step - loss: 1.6987 - accuracy: 0.7281 - auc: 0.8579 - val_loss: 1.6991 - val_accuracy: 0.7979 - val_auc: 0.7492\n",
      "Epoch 129/300\n",
      "107/107 [==============================] - 4s 36ms/step - loss: 1.6838 - accuracy: 0.7414 - auc: 0.8573 - val_loss: 1.6769 - val_accuracy: 0.8101 - val_auc: 0.7437\n",
      "Epoch 130/300\n",
      "107/107 [==============================] - 4s 36ms/step - loss: 1.6636 - accuracy: 0.7437 - auc: 0.8600 - val_loss: 1.6676 - val_accuracy: 0.8092 - val_auc: 0.7472\n",
      "Epoch 131/300\n",
      "107/107 [==============================] - 4s 35ms/step - loss: 1.6487 - accuracy: 0.7444 - auc: 0.8598 - val_loss: 1.6504 - val_accuracy: 0.7970 - val_auc: 0.7510\n",
      "Epoch 132/300\n",
      "107/107 [==============================] - 4s 37ms/step - loss: 1.6262 - accuracy: 0.7476 - auc: 0.8656 - val_loss: 1.6185 - val_accuracy: 0.8190 - val_auc: 0.7463\n",
      "Epoch 133/300\n",
      "107/107 [==============================] - 4s 37ms/step - loss: 1.6057 - accuracy: 0.7526 - auc: 0.8696 - val_loss: 1.6056 - val_accuracy: 0.8158 - val_auc: 0.7505\n",
      "Epoch 134/300\n",
      "107/107 [==============================] - 4s 38ms/step - loss: 1.5878 - accuracy: 0.7523 - auc: 0.8725 - val_loss: 1.5887 - val_accuracy: 0.8214 - val_auc: 0.7480\n",
      "Epoch 135/300\n",
      "107/107 [==============================] - 4s 40ms/step - loss: 1.5746 - accuracy: 0.7541 - auc: 0.8719 - val_loss: 1.5748 - val_accuracy: 0.8209 - val_auc: 0.7526\n",
      "Epoch 136/300\n",
      "107/107 [==============================] - 4s 37ms/step - loss: 1.5560 - accuracy: 0.7558 - auc: 0.8743 - val_loss: 1.5488 - val_accuracy: 0.8340 - val_auc: 0.7508\n",
      "Epoch 137/300\n",
      "107/107 [==============================] - 4s 36ms/step - loss: 1.5399 - accuracy: 0.7633 - auc: 0.8762 - val_loss: 1.5333 - val_accuracy: 0.8368 - val_auc: 0.7515\n",
      "Epoch 138/300\n",
      "107/107 [==============================] - 4s 35ms/step - loss: 1.5231 - accuracy: 0.7658 - auc: 0.8807 - val_loss: 1.5222 - val_accuracy: 0.8312 - val_auc: 0.7581\n",
      "Epoch 139/300\n",
      "107/107 [==============================] - 4s 34ms/step - loss: 1.5010 - accuracy: 0.7659 - auc: 0.8846 - val_loss: 1.5016 - val_accuracy: 0.8373 - val_auc: 0.7577\n",
      "Epoch 140/300\n",
      "107/107 [==============================] - 4s 35ms/step - loss: 1.4893 - accuracy: 0.7773 - auc: 0.8858 - val_loss: 1.4995 - val_accuracy: 0.8331 - val_auc: 0.7598\n",
      "Epoch 141/300\n",
      "107/107 [==============================] - 4s 37ms/step - loss: 1.4766 - accuracy: 0.7745 - auc: 0.8839 - val_loss: 1.4666 - val_accuracy: 0.8462 - val_auc: 0.7599\n",
      "Epoch 142/300\n",
      "107/107 [==============================] - 4s 36ms/step - loss: 1.4605 - accuracy: 0.7816 - auc: 0.8886 - val_loss: 1.4646 - val_accuracy: 0.8383 - val_auc: 0.7634\n",
      "Epoch 143/300\n",
      "107/107 [==============================] - 4s 34ms/step - loss: 1.4449 - accuracy: 0.7824 - auc: 0.8894 - val_loss: 1.4419 - val_accuracy: 0.8481 - val_auc: 0.7606\n",
      "Epoch 144/300\n",
      "107/107 [==============================] - 4s 39ms/step - loss: 1.4285 - accuracy: 0.7816 - auc: 0.8924 - val_loss: 1.4197 - val_accuracy: 0.8556 - val_auc: 0.7538\n",
      "Epoch 145/300\n",
      "107/107 [==============================] - 4s 38ms/step - loss: 1.4124 - accuracy: 0.7879 - auc: 0.8954 - val_loss: 1.4083 - val_accuracy: 0.8579 - val_auc: 0.7590\n",
      "Epoch 146/300\n",
      "107/107 [==============================] - 4s 40ms/step - loss: 1.3947 - accuracy: 0.7904 - auc: 0.8988 - val_loss: 1.3936 - val_accuracy: 0.8603 - val_auc: 0.7618\n",
      "Epoch 147/300\n",
      "107/107 [==============================] - 5s 43ms/step - loss: 1.3832 - accuracy: 0.7884 - auc: 0.8988 - val_loss: 1.3859 - val_accuracy: 0.8547 - val_auc: 0.7650\n",
      "Epoch 148/300\n",
      "107/107 [==============================] - 4s 36ms/step - loss: 1.3715 - accuracy: 0.7948 - auc: 0.8988 - val_loss: 1.3664 - val_accuracy: 0.8612 - val_auc: 0.7638\n",
      "Epoch 149/300\n",
      "107/107 [==============================] - 4s 39ms/step - loss: 1.3573 - accuracy: 0.7921 - auc: 0.8994 - val_loss: 1.3505 - val_accuracy: 0.8659 - val_auc: 0.7665\n",
      "Epoch 150/300\n",
      "107/107 [==============================] - 4s 39ms/step - loss: 1.3410 - accuracy: 0.7937 - auc: 0.9035 - val_loss: 1.3291 - val_accuracy: 0.8706 - val_auc: 0.7653\n",
      "Epoch 151/300\n",
      "107/107 [==============================] - 4s 33ms/step - loss: 1.3327 - accuracy: 0.8028 - auc: 0.9025 - val_loss: 1.3441 - val_accuracy: 0.8561 - val_auc: 0.7705\n",
      "Epoch 152/300\n",
      "107/107 [==============================] - 4s 33ms/step - loss: 1.3196 - accuracy: 0.8041 - auc: 0.9041 - val_loss: 1.3059 - val_accuracy: 0.8725 - val_auc: 0.7673\n",
      "Epoch 153/300\n",
      "107/107 [==============================] - 4s 36ms/step - loss: 1.3020 - accuracy: 0.8060 - auc: 0.9085 - val_loss: 1.2926 - val_accuracy: 0.8734 - val_auc: 0.7688\n",
      "Epoch 154/300\n",
      "107/107 [==============================] - 4s 32ms/step - loss: 1.2901 - accuracy: 0.8120 - auc: 0.9089 - val_loss: 1.3039 - val_accuracy: 0.8589 - val_auc: 0.7781\n",
      "Epoch 155/300\n",
      "107/107 [==============================] - 3s 32ms/step - loss: 1.2868 - accuracy: 0.8132 - auc: 0.9054 - val_loss: 1.2838 - val_accuracy: 0.8701 - val_auc: 0.7779\n",
      "Epoch 156/300\n",
      "107/107 [==============================] - 3s 32ms/step - loss: 1.2677 - accuracy: 0.8136 - auc: 0.9107 - val_loss: 1.2611 - val_accuracy: 0.8729 - val_auc: 0.7776\n",
      "Epoch 157/300\n",
      "107/107 [==============================] - 4s 33ms/step - loss: 1.2511 - accuracy: 0.8174 - auc: 0.9145 - val_loss: 1.2481 - val_accuracy: 0.8767 - val_auc: 0.7768\n",
      "Epoch 158/300\n",
      "107/107 [==============================] - 4s 34ms/step - loss: 1.2475 - accuracy: 0.8152 - auc: 0.9100 - val_loss: 1.2365 - val_accuracy: 0.8776 - val_auc: 0.7820\n",
      "Epoch 159/300\n",
      "107/107 [==============================] - 4s 41ms/step - loss: 1.2292 - accuracy: 0.8205 - auc: 0.9170 - val_loss: 1.2264 - val_accuracy: 0.8767 - val_auc: 0.7771\n",
      "Epoch 160/300\n",
      "107/107 [==============================] - 4s 37ms/step - loss: 1.2116 - accuracy: 0.8264 - auc: 0.9217 - val_loss: 1.2089 - val_accuracy: 0.8809 - val_auc: 0.7825\n",
      "Epoch 161/300\n",
      "107/107 [==============================] - 4s 38ms/step - loss: 1.2058 - accuracy: 0.8294 - auc: 0.9204 - val_loss: 1.1998 - val_accuracy: 0.8847 - val_auc: 0.7841\n",
      "Epoch 162/300\n",
      "107/107 [==============================] - 4s 39ms/step - loss: 1.1944 - accuracy: 0.8299 - auc: 0.9204 - val_loss: 1.2000 - val_accuracy: 0.8772 - val_auc: 0.7900\n",
      "Epoch 163/300\n",
      "107/107 [==============================] - 4s 35ms/step - loss: 1.1828 - accuracy: 0.8388 - auc: 0.9227 - val_loss: 1.1801 - val_accuracy: 0.8809 - val_auc: 0.7845\n",
      "Epoch 164/300\n",
      "107/107 [==============================] - 4s 33ms/step - loss: 1.1791 - accuracy: 0.8323 - auc: 0.9202 - val_loss: 1.1640 - val_accuracy: 0.8865 - val_auc: 0.7873\n",
      "Epoch 165/300\n",
      "107/107 [==============================] - 4s 41ms/step - loss: 1.1650 - accuracy: 0.8343 - auc: 0.9239 - val_loss: 1.1501 - val_accuracy: 0.8889 - val_auc: 0.7861\n",
      "Epoch 166/300\n",
      "107/107 [==============================] - 4s 36ms/step - loss: 1.1565 - accuracy: 0.8367 - auc: 0.9224 - val_loss: 1.1664 - val_accuracy: 0.8776 - val_auc: 0.7984\n",
      "Epoch 167/300\n",
      "107/107 [==============================] - 4s 34ms/step - loss: 1.1408 - accuracy: 0.8425 - auc: 0.9265 - val_loss: 1.1507 - val_accuracy: 0.8837 - val_auc: 0.7994\n",
      "Epoch 168/300\n",
      "107/107 [==============================] - 4s 35ms/step - loss: 1.1264 - accuracy: 0.8457 - auc: 0.9317 - val_loss: 1.1345 - val_accuracy: 0.8861 - val_auc: 0.7991\n",
      "Epoch 169/300\n",
      "107/107 [==============================] - 3s 31ms/step - loss: 1.1196 - accuracy: 0.8490 - auc: 0.9293 - val_loss: 1.1061 - val_accuracy: 0.8964 - val_auc: 0.7949\n",
      "Epoch 170/300\n",
      "107/107 [==============================] - 4s 33ms/step - loss: 1.1080 - accuracy: 0.8501 - auc: 0.9302 - val_loss: 1.1180 - val_accuracy: 0.8884 - val_auc: 0.8062\n",
      "Epoch 171/300\n",
      "107/107 [==============================] - 4s 34ms/step - loss: 1.0989 - accuracy: 0.8511 - auc: 0.9325 - val_loss: 1.1038 - val_accuracy: 0.8894 - val_auc: 0.8073\n",
      "Epoch 172/300\n",
      "107/107 [==============================] - 3s 31ms/step - loss: 1.0942 - accuracy: 0.8495 - auc: 0.9302 - val_loss: 1.0904 - val_accuracy: 0.8945 - val_auc: 0.8100\n",
      "Epoch 173/300\n",
      "107/107 [==============================] - 3s 32ms/step - loss: 1.0852 - accuracy: 0.8551 - auc: 0.9312 - val_loss: 1.0770 - val_accuracy: 0.8969 - val_auc: 0.8102\n",
      "Epoch 174/300\n",
      "107/107 [==============================] - 4s 38ms/step - loss: 1.0763 - accuracy: 0.8549 - auc: 0.9323 - val_loss: 1.0706 - val_accuracy: 0.8973 - val_auc: 0.8128\n",
      "Epoch 175/300\n",
      "107/107 [==============================] - 4s 34ms/step - loss: 1.0587 - accuracy: 0.8593 - auc: 0.9384 - val_loss: 1.0637 - val_accuracy: 0.8950 - val_auc: 0.8168\n",
      "Epoch 176/300\n",
      "107/107 [==============================] - 4s 35ms/step - loss: 1.0539 - accuracy: 0.8590 - auc: 0.9368 - val_loss: 1.0564 - val_accuracy: 0.8964 - val_auc: 0.8173\n",
      "Epoch 177/300\n",
      "107/107 [==============================] - 4s 36ms/step - loss: 1.0491 - accuracy: 0.8652 - auc: 0.9352 - val_loss: 1.0355 - val_accuracy: 0.9020 - val_auc: 0.8141\n",
      "Epoch 178/300\n",
      "107/107 [==============================] - 4s 40ms/step - loss: 1.0388 - accuracy: 0.8673 - auc: 0.9374 - val_loss: 1.0412 - val_accuracy: 0.8978 - val_auc: 0.8248\n",
      "Epoch 179/300\n",
      "107/107 [==============================] - 4s 34ms/step - loss: 1.0275 - accuracy: 0.8710 - auc: 0.9383 - val_loss: 1.0298 - val_accuracy: 0.8997 - val_auc: 0.8235\n",
      "Epoch 180/300\n",
      "107/107 [==============================] - 4s 37ms/step - loss: 1.0163 - accuracy: 0.8724 - auc: 0.9416 - val_loss: 1.0259 - val_accuracy: 0.8964 - val_auc: 0.8301\n",
      "Epoch 181/300\n",
      "107/107 [==============================] - 3s 30ms/step - loss: 1.0108 - accuracy: 0.8700 - auc: 0.9405 - val_loss: 1.0105 - val_accuracy: 0.9030 - val_auc: 0.8295\n",
      "Epoch 182/300\n",
      "107/107 [==============================] - 4s 34ms/step - loss: 1.0069 - accuracy: 0.8688 - auc: 0.9397 - val_loss: 0.9929 - val_accuracy: 0.9090 - val_auc: 0.8324\n",
      "Epoch 183/300\n",
      "107/107 [==============================] - 4s 33ms/step - loss: 0.9980 - accuracy: 0.8742 - auc: 0.9420 - val_loss: 0.9949 - val_accuracy: 0.9006 - val_auc: 0.8296\n",
      "Epoch 184/300\n",
      "107/107 [==============================] - 4s 34ms/step - loss: 0.9917 - accuracy: 0.8749 - auc: 0.9404 - val_loss: 0.9964 - val_accuracy: 0.8987 - val_auc: 0.8402\n",
      "Epoch 185/300\n",
      "107/107 [==============================] - 4s 37ms/step - loss: 0.9797 - accuracy: 0.8790 - auc: 0.9426 - val_loss: 0.9824 - val_accuracy: 0.9062 - val_auc: 0.8411\n",
      "Epoch 186/300\n",
      "107/107 [==============================] - 4s 34ms/step - loss: 0.9719 - accuracy: 0.8760 - auc: 0.9449 - val_loss: 0.9543 - val_accuracy: 0.9133 - val_auc: 0.8323\n",
      "Epoch 187/300\n",
      "107/107 [==============================] - 3s 30ms/step - loss: 0.9632 - accuracy: 0.8838 - auc: 0.9457 - val_loss: 0.9811 - val_accuracy: 0.9030 - val_auc: 0.8485\n",
      "Epoch 188/300\n",
      "107/107 [==============================] - 4s 35ms/step - loss: 0.9528 - accuracy: 0.8794 - auc: 0.9485 - val_loss: 0.9428 - val_accuracy: 0.9198 - val_auc: 0.8439\n",
      "Epoch 189/300\n",
      "107/107 [==============================] - 4s 34ms/step - loss: 0.9492 - accuracy: 0.8825 - auc: 0.9466 - val_loss: 0.9601 - val_accuracy: 0.9090 - val_auc: 0.8510\n",
      "Epoch 190/300\n",
      "107/107 [==============================] - 4s 33ms/step - loss: 0.9473 - accuracy: 0.8833 - auc: 0.9453 - val_loss: 0.9374 - val_accuracy: 0.9170 - val_auc: 0.8507\n",
      "Epoch 191/300\n",
      "107/107 [==============================] - 4s 33ms/step - loss: 0.9330 - accuracy: 0.8840 - auc: 0.9497 - val_loss: 0.9366 - val_accuracy: 0.9137 - val_auc: 0.8541\n",
      "Epoch 192/300\n",
      "107/107 [==============================] - 3s 31ms/step - loss: 0.9265 - accuracy: 0.8889 - auc: 0.9495 - val_loss: 0.9268 - val_accuracy: 0.9194 - val_auc: 0.8565\n",
      "Epoch 193/300\n",
      "107/107 [==============================] - 4s 34ms/step - loss: 0.9225 - accuracy: 0.8895 - auc: 0.9500 - val_loss: 0.9102 - val_accuracy: 0.9217 - val_auc: 0.8529\n",
      "Epoch 194/300\n",
      "107/107 [==============================] - 4s 33ms/step - loss: 0.9111 - accuracy: 0.8911 - auc: 0.9515 - val_loss: 0.9099 - val_accuracy: 0.9198 - val_auc: 0.8570\n",
      "Epoch 195/300\n",
      "107/107 [==============================] - 4s 33ms/step - loss: 0.9064 - accuracy: 0.8932 - auc: 0.9517 - val_loss: 0.8980 - val_accuracy: 0.9292 - val_auc: 0.8585\n",
      "Epoch 196/300\n",
      "107/107 [==============================] - 4s 35ms/step - loss: 0.8920 - accuracy: 0.8965 - auc: 0.9552 - val_loss: 0.9109 - val_accuracy: 0.9208 - val_auc: 0.8621\n",
      "Epoch 197/300\n",
      "107/107 [==============================] - 3s 32ms/step - loss: 0.8957 - accuracy: 0.8952 - auc: 0.9520 - val_loss: 0.8827 - val_accuracy: 0.9320 - val_auc: 0.8567\n",
      "Epoch 198/300\n",
      "107/107 [==============================] - 3s 32ms/step - loss: 0.8848 - accuracy: 0.8991 - auc: 0.9535 - val_loss: 0.8716 - val_accuracy: 0.9306 - val_auc: 0.8641\n",
      "Epoch 199/300\n",
      "107/107 [==============================] - 4s 36ms/step - loss: 0.8805 - accuracy: 0.8975 - auc: 0.9544 - val_loss: 0.8649 - val_accuracy: 0.9316 - val_auc: 0.8623\n",
      "Epoch 200/300\n",
      "107/107 [==============================] - 4s 34ms/step - loss: 0.8763 - accuracy: 0.8985 - auc: 0.9534 - val_loss: 0.8580 - val_accuracy: 0.9367 - val_auc: 0.8634\n",
      "Epoch 201/300\n",
      "107/107 [==============================] - 3s 32ms/step - loss: 0.8626 - accuracy: 0.9033 - auc: 0.9573 - val_loss: 0.8613 - val_accuracy: 0.9306 - val_auc: 0.8668\n",
      "Epoch 202/300\n",
      "107/107 [==============================] - 3s 32ms/step - loss: 0.8664 - accuracy: 0.9038 - auc: 0.9534 - val_loss: 0.8535 - val_accuracy: 0.9325 - val_auc: 0.8681\n",
      "Epoch 203/300\n",
      "107/107 [==============================] - 4s 35ms/step - loss: 0.8530 - accuracy: 0.8952 - auc: 0.9576 - val_loss: 0.8358 - val_accuracy: 0.9391 - val_auc: 0.8680\n",
      "Epoch 204/300\n",
      "107/107 [==============================] - 3s 30ms/step - loss: 0.8515 - accuracy: 0.9027 - auc: 0.9566 - val_loss: 0.8280 - val_accuracy: 0.9381 - val_auc: 0.8681\n",
      "Epoch 205/300\n",
      "107/107 [==============================] - 4s 33ms/step - loss: 0.8427 - accuracy: 0.9042 - auc: 0.9584 - val_loss: 0.8332 - val_accuracy: 0.9344 - val_auc: 0.8626\n",
      "Epoch 206/300\n",
      "107/107 [==============================] - 4s 35ms/step - loss: 0.8400 - accuracy: 0.9046 - auc: 0.9571 - val_loss: 0.8270 - val_accuracy: 0.9386 - val_auc: 0.8718\n",
      "Epoch 207/300\n",
      "107/107 [==============================] - 4s 37ms/step - loss: 0.8301 - accuracy: 0.9079 - auc: 0.9601 - val_loss: 0.8221 - val_accuracy: 0.9376 - val_auc: 0.8752\n",
      "Epoch 208/300\n",
      "107/107 [==============================] - 4s 35ms/step - loss: 0.8251 - accuracy: 0.9097 - auc: 0.9599 - val_loss: 0.8187 - val_accuracy: 0.9386 - val_auc: 0.8692\n",
      "Epoch 209/300\n",
      "107/107 [==============================] - 4s 32ms/step - loss: 0.8263 - accuracy: 0.9082 - auc: 0.9565 - val_loss: 0.7993 - val_accuracy: 0.9428 - val_auc: 0.8689\n",
      "Epoch 210/300\n",
      "107/107 [==============================] - 4s 33ms/step - loss: 0.8137 - accuracy: 0.9099 - auc: 0.9606 - val_loss: 0.8012 - val_accuracy: 0.9391 - val_auc: 0.8657\n",
      "Epoch 211/300\n",
      "107/107 [==============================] - 3s 33ms/step - loss: 0.8093 - accuracy: 0.9135 - auc: 0.9611 - val_loss: 0.8171 - val_accuracy: 0.9325 - val_auc: 0.8779\n",
      "Epoch 212/300\n",
      "107/107 [==============================] - 4s 36ms/step - loss: 0.8019 - accuracy: 0.9145 - auc: 0.9618 - val_loss: 0.7943 - val_accuracy: 0.9428 - val_auc: 0.8771\n",
      "Epoch 213/300\n",
      "107/107 [==============================] - 3s 32ms/step - loss: 0.7970 - accuracy: 0.9147 - auc: 0.9632 - val_loss: 0.7932 - val_accuracy: 0.9419 - val_auc: 0.8774\n",
      "Epoch 214/300\n",
      "107/107 [==============================] - 4s 33ms/step - loss: 0.7907 - accuracy: 0.9169 - auc: 0.9628 - val_loss: 0.8040 - val_accuracy: 0.9297 - val_auc: 0.8853\n",
      "Epoch 215/300\n",
      "107/107 [==============================] - 3s 32ms/step - loss: 0.7910 - accuracy: 0.9134 - auc: 0.9632 - val_loss: 0.7611 - val_accuracy: 0.9456 - val_auc: 0.8735\n",
      "Epoch 216/300\n",
      "107/107 [==============================] - 4s 34ms/step - loss: 0.7876 - accuracy: 0.9159 - auc: 0.9623 - val_loss: 0.7646 - val_accuracy: 0.9447 - val_auc: 0.8744\n",
      "Epoch 217/300\n",
      "107/107 [==============================] - 4s 34ms/step - loss: 0.7818 - accuracy: 0.9164 - auc: 0.9623 - val_loss: 0.7806 - val_accuracy: 0.9367 - val_auc: 0.8864\n",
      "Epoch 218/300\n",
      "107/107 [==============================] - 3s 32ms/step - loss: 0.7825 - accuracy: 0.9169 - auc: 0.9597 - val_loss: 0.7671 - val_accuracy: 0.9423 - val_auc: 0.8878\n",
      "Epoch 219/300\n",
      "107/107 [==============================] - 5s 45ms/step - loss: 0.7769 - accuracy: 0.9174 - auc: 0.9615 - val_loss: 0.7512 - val_accuracy: 0.9475 - val_auc: 0.8805\n",
      "Epoch 220/300\n",
      "107/107 [==============================] - 5s 48ms/step - loss: 0.7698 - accuracy: 0.9218 - auc: 0.9623 - val_loss: 0.7585 - val_accuracy: 0.9437 - val_auc: 0.8882\n",
      "Epoch 221/300\n",
      "107/107 [==============================] - 5s 46ms/step - loss: 0.7629 - accuracy: 0.9183 - auc: 0.9645 - val_loss: 0.7555 - val_accuracy: 0.9428 - val_auc: 0.8888\n",
      "Epoch 222/300\n",
      "107/107 [==============================] - 4s 38ms/step - loss: 0.7577 - accuracy: 0.9237 - auc: 0.9646 - val_loss: 0.7499 - val_accuracy: 0.9461 - val_auc: 0.8863\n",
      "Epoch 223/300\n",
      "107/107 [==============================] - 4s 36ms/step - loss: 0.7513 - accuracy: 0.9247 - auc: 0.9660 - val_loss: 0.7422 - val_accuracy: 0.9475 - val_auc: 0.8887\n",
      "Epoch 224/300\n",
      "107/107 [==============================] - 3s 32ms/step - loss: 0.7498 - accuracy: 0.9196 - auc: 0.9653 - val_loss: 0.7365 - val_accuracy: 0.9484 - val_auc: 0.8914\n",
      "Epoch 225/300\n",
      "107/107 [==============================] - 4s 37ms/step - loss: 0.7418 - accuracy: 0.9273 - auc: 0.9662 - val_loss: 0.7173 - val_accuracy: 0.9526 - val_auc: 0.8834\n",
      "Epoch 226/300\n",
      "107/107 [==============================] - 4s 37ms/step - loss: 0.7379 - accuracy: 0.9255 - auc: 0.9674 - val_loss: 0.7156 - val_accuracy: 0.9526 - val_auc: 0.8925\n",
      "Epoch 227/300\n",
      "107/107 [==============================] - 3s 32ms/step - loss: 0.7366 - accuracy: 0.9273 - auc: 0.9657 - val_loss: 0.7359 - val_accuracy: 0.9475 - val_auc: 0.8989\n",
      "Epoch 228/300\n",
      "107/107 [==============================] - 3s 32ms/step - loss: 0.7321 - accuracy: 0.9254 - auc: 0.9671 - val_loss: 0.7247 - val_accuracy: 0.9466 - val_auc: 0.8924\n",
      "Epoch 229/300\n",
      "107/107 [==============================] - 5s 43ms/step - loss: 0.7265 - accuracy: 0.9286 - auc: 0.9673 - val_loss: 0.7088 - val_accuracy: 0.9545 - val_auc: 0.8932\n",
      "Epoch 230/300\n",
      "107/107 [==============================] - 4s 34ms/step - loss: 0.7213 - accuracy: 0.9267 - auc: 0.9693 - val_loss: 0.6980 - val_accuracy: 0.9555 - val_auc: 0.8909\n",
      "Epoch 231/300\n",
      "107/107 [==============================] - 4s 36ms/step - loss: 0.7158 - accuracy: 0.9304 - auc: 0.9694 - val_loss: 0.7131 - val_accuracy: 0.9494 - val_auc: 0.8971\n",
      "Epoch 232/300\n",
      "107/107 [==============================] - 5s 42ms/step - loss: 0.7130 - accuracy: 0.9270 - auc: 0.9695 - val_loss: 0.7006 - val_accuracy: 0.9550 - val_auc: 0.8961\n",
      "Epoch 233/300\n",
      "107/107 [==============================] - 5s 44ms/step - loss: 0.7129 - accuracy: 0.9298 - auc: 0.9679 - val_loss: 0.7059 - val_accuracy: 0.9494 - val_auc: 0.8996\n",
      "Epoch 234/300\n",
      "107/107 [==============================] - 4s 38ms/step - loss: 0.7115 - accuracy: 0.9271 - auc: 0.9680 - val_loss: 0.6935 - val_accuracy: 0.9531 - val_auc: 0.9011\n",
      "Epoch 235/300\n",
      "107/107 [==============================] - 3s 31ms/step - loss: 0.7038 - accuracy: 0.9316 - auc: 0.9696 - val_loss: 0.7105 - val_accuracy: 0.9433 - val_auc: 0.8956\n",
      "Epoch 236/300\n",
      "107/107 [==============================] - 3s 31ms/step - loss: 0.7063 - accuracy: 0.9286 - auc: 0.9685 - val_loss: 0.6933 - val_accuracy: 0.9512 - val_auc: 0.9013\n",
      "Epoch 237/300\n",
      "107/107 [==============================] - 3s 31ms/step - loss: 0.6999 - accuracy: 0.9293 - auc: 0.9689 - val_loss: 0.6792 - val_accuracy: 0.9545 - val_auc: 0.8978\n",
      "Epoch 238/300\n",
      "107/107 [==============================] - 3s 32ms/step - loss: 0.6969 - accuracy: 0.9264 - auc: 0.9700 - val_loss: 0.6701 - val_accuracy: 0.9559 - val_auc: 0.8989\n",
      "Epoch 239/300\n",
      "107/107 [==============================] - 3s 32ms/step - loss: 0.6979 - accuracy: 0.9307 - auc: 0.9676 - val_loss: 0.6714 - val_accuracy: 0.9559 - val_auc: 0.9010\n",
      "Epoch 240/300\n",
      "107/107 [==============================] - 4s 33ms/step - loss: 0.6809 - accuracy: 0.9317 - auc: 0.9725 - val_loss: 0.6770 - val_accuracy: 0.9531 - val_auc: 0.9036\n",
      "Epoch 241/300\n",
      "107/107 [==============================] - 3s 27ms/step - loss: 0.6833 - accuracy: 0.9334 - auc: 0.9707 - val_loss: 0.6570 - val_accuracy: 0.9578 - val_auc: 0.9017\n",
      "Epoch 242/300\n",
      "107/107 [==============================] - 3s 30ms/step - loss: 0.6842 - accuracy: 0.9281 - auc: 0.9698 - val_loss: 0.6737 - val_accuracy: 0.9508 - val_auc: 0.9057\n",
      "Epoch 243/300\n",
      "107/107 [==============================] - 3s 30ms/step - loss: 0.6764 - accuracy: 0.9354 - auc: 0.9719 - val_loss: 0.6647 - val_accuracy: 0.9569 - val_auc: 0.9075\n",
      "Epoch 244/300\n",
      "107/107 [==============================] - 3s 31ms/step - loss: 0.6711 - accuracy: 0.9377 - auc: 0.9724 - val_loss: 0.6565 - val_accuracy: 0.9583 - val_auc: 0.9075\n",
      "Epoch 245/300\n",
      "107/107 [==============================] - 3s 30ms/step - loss: 0.6702 - accuracy: 0.9357 - auc: 0.9719 - val_loss: 0.6451 - val_accuracy: 0.9602 - val_auc: 0.9076\n",
      "Epoch 246/300\n",
      "107/107 [==============================] - 3s 32ms/step - loss: 0.6676 - accuracy: 0.9328 - auc: 0.9726 - val_loss: 0.6479 - val_accuracy: 0.9597 - val_auc: 0.9102\n",
      "Epoch 247/300\n",
      "107/107 [==============================] - 4s 36ms/step - loss: 0.6636 - accuracy: 0.9345 - auc: 0.9727 - val_loss: 0.6658 - val_accuracy: 0.9494 - val_auc: 0.9111\n",
      "Epoch 248/300\n",
      "107/107 [==============================] - 3s 30ms/step - loss: 0.6626 - accuracy: 0.9336 - auc: 0.9721 - val_loss: 0.6452 - val_accuracy: 0.9559 - val_auc: 0.9098\n",
      "Epoch 249/300\n",
      "107/107 [==============================] - 3s 31ms/step - loss: 0.6587 - accuracy: 0.9321 - auc: 0.9738 - val_loss: 0.6381 - val_accuracy: 0.9583 - val_auc: 0.9088\n",
      "Epoch 250/300\n",
      "107/107 [==============================] - 3s 31ms/step - loss: 0.6562 - accuracy: 0.9360 - auc: 0.9719 - val_loss: 0.6303 - val_accuracy: 0.9597 - val_auc: 0.9136\n",
      "Epoch 251/300\n",
      "107/107 [==============================] - 3s 29ms/step - loss: 0.6570 - accuracy: 0.9368 - auc: 0.9721 - val_loss: 0.6490 - val_accuracy: 0.9512 - val_auc: 0.9140\n",
      "Epoch 252/300\n",
      "107/107 [==============================] - 4s 33ms/step - loss: 0.6528 - accuracy: 0.9369 - auc: 0.9720 - val_loss: 0.6342 - val_accuracy: 0.9597 - val_auc: 0.9112\n",
      "Epoch 253/300\n",
      "107/107 [==============================] - 4s 33ms/step - loss: 0.6439 - accuracy: 0.9380 - auc: 0.9749 - val_loss: 0.6343 - val_accuracy: 0.9573 - val_auc: 0.9142\n",
      "Epoch 254/300\n",
      "107/107 [==============================] - 3s 30ms/step - loss: 0.6490 - accuracy: 0.9384 - auc: 0.9717 - val_loss: 0.6243 - val_accuracy: 0.9592 - val_auc: 0.9146\n",
      "Epoch 255/300\n",
      "107/107 [==============================] - 3s 28ms/step - loss: 0.6417 - accuracy: 0.9362 - auc: 0.9739 - val_loss: 0.6196 - val_accuracy: 0.9587 - val_auc: 0.9116\n",
      "Epoch 256/300\n",
      "107/107 [==============================] - 3s 32ms/step - loss: 0.6461 - accuracy: 0.9339 - auc: 0.9713 - val_loss: 0.6164 - val_accuracy: 0.9578 - val_auc: 0.9136\n",
      "Epoch 257/300\n",
      "107/107 [==============================] - 5s 46ms/step - loss: 0.6370 - accuracy: 0.9389 - auc: 0.9741 - val_loss: 0.6173 - val_accuracy: 0.9597 - val_auc: 0.9185\n",
      "Epoch 258/300\n",
      "107/107 [==============================] - 5s 46ms/step - loss: 0.6340 - accuracy: 0.9424 - auc: 0.9744 - val_loss: 0.6139 - val_accuracy: 0.9611 - val_auc: 0.9194\n",
      "Epoch 259/300\n",
      "107/107 [==============================] - 5s 42ms/step - loss: 0.6253 - accuracy: 0.9423 - auc: 0.9762 - val_loss: 0.6241 - val_accuracy: 0.9545 - val_auc: 0.9231\n",
      "Epoch 260/300\n",
      "107/107 [==============================] - 3s 31ms/step - loss: 0.6263 - accuracy: 0.9364 - auc: 0.9770 - val_loss: 0.6157 - val_accuracy: 0.9578 - val_auc: 0.9144\n",
      "Epoch 261/300\n",
      "107/107 [==============================] - 4s 39ms/step - loss: 0.6292 - accuracy: 0.9391 - auc: 0.9743 - val_loss: 0.6064 - val_accuracy: 0.9611 - val_auc: 0.9224\n",
      "Epoch 262/300\n",
      "107/107 [==============================] - 4s 39ms/step - loss: 0.6271 - accuracy: 0.9404 - auc: 0.9743 - val_loss: 0.6363 - val_accuracy: 0.9386 - val_auc: 0.9222\n",
      "Epoch 263/300\n",
      "107/107 [==============================] - 4s 39ms/step - loss: 0.6243 - accuracy: 0.9360 - auc: 0.9751 - val_loss: 0.5939 - val_accuracy: 0.9620 - val_auc: 0.9213\n",
      "Epoch 264/300\n",
      "107/107 [==============================] - 4s 35ms/step - loss: 0.6187 - accuracy: 0.9424 - auc: 0.9763 - val_loss: 0.6016 - val_accuracy: 0.9606 - val_auc: 0.9229\n",
      "Epoch 265/300\n",
      "107/107 [==============================] - 3s 32ms/step - loss: 0.6179 - accuracy: 0.9398 - auc: 0.9753 - val_loss: 0.5990 - val_accuracy: 0.9606 - val_auc: 0.9197\n",
      "Epoch 266/300\n",
      "107/107 [==============================] - 3s 32ms/step - loss: 0.6183 - accuracy: 0.9418 - auc: 0.9748 - val_loss: 0.6056 - val_accuracy: 0.9564 - val_auc: 0.9212\n",
      "Epoch 267/300\n",
      "107/107 [==============================] - 3s 31ms/step - loss: 0.6146 - accuracy: 0.9379 - auc: 0.9757 - val_loss: 0.5819 - val_accuracy: 0.9625 - val_auc: 0.9215\n",
      "Epoch 268/300\n",
      "107/107 [==============================] - 4s 33ms/step - loss: 0.6094 - accuracy: 0.9422 - auc: 0.9765 - val_loss: 0.6104 - val_accuracy: 0.9498 - val_auc: 0.9241\n",
      "Epoch 269/300\n",
      "107/107 [==============================] - 4s 39ms/step - loss: 0.6071 - accuracy: 0.9403 - auc: 0.9763 - val_loss: 0.5923 - val_accuracy: 0.9592 - val_auc: 0.9266\n",
      "Epoch 270/300\n",
      "107/107 [==============================] - 3s 30ms/step - loss: 0.6005 - accuracy: 0.9441 - auc: 0.9778 - val_loss: 0.5913 - val_accuracy: 0.9592 - val_auc: 0.9282\n",
      "Epoch 271/300\n",
      "107/107 [==============================] - 3s 29ms/step - loss: 0.6040 - accuracy: 0.9405 - auc: 0.9765 - val_loss: 0.5844 - val_accuracy: 0.9620 - val_auc: 0.9272\n",
      "Epoch 272/300\n",
      "107/107 [==============================] - 3s 31ms/step - loss: 0.5954 - accuracy: 0.9429 - auc: 0.9780 - val_loss: 0.6044 - val_accuracy: 0.9466 - val_auc: 0.9286\n",
      "Epoch 273/300\n",
      "107/107 [==============================] - 3s 31ms/step - loss: 0.5980 - accuracy: 0.9440 - auc: 0.9774 - val_loss: 0.5923 - val_accuracy: 0.9550 - val_auc: 0.9284\n",
      "Epoch 274/300\n",
      "107/107 [==============================] - 3s 29ms/step - loss: 0.5940 - accuracy: 0.9440 - auc: 0.9779 - val_loss: 0.5962 - val_accuracy: 0.9508 - val_auc: 0.9308\n",
      "Epoch 275/300\n",
      "107/107 [==============================] - 3s 29ms/step - loss: 0.5916 - accuracy: 0.9433 - auc: 0.9786 - val_loss: 0.5928 - val_accuracy: 0.9508 - val_auc: 0.9308\n",
      "Epoch 276/300\n",
      "107/107 [==============================] - 4s 35ms/step - loss: 0.5861 - accuracy: 0.9459 - auc: 0.9791 - val_loss: 0.5733 - val_accuracy: 0.9630 - val_auc: 0.9295\n",
      "Epoch 277/300\n",
      "107/107 [==============================] - 3s 30ms/step - loss: 0.5910 - accuracy: 0.9439 - auc: 0.9773 - val_loss: 0.5740 - val_accuracy: 0.9602 - val_auc: 0.9322\n",
      "Epoch 278/300\n",
      "107/107 [==============================] - 3s 28ms/step - loss: 0.5850 - accuracy: 0.9413 - auc: 0.9793 - val_loss: 0.5605 - val_accuracy: 0.9634 - val_auc: 0.9292\n",
      "Epoch 279/300\n",
      "107/107 [==============================] - 3s 31ms/step - loss: 0.5907 - accuracy: 0.9441 - auc: 0.9769 - val_loss: 0.5772 - val_accuracy: 0.9578 - val_auc: 0.9344\n",
      "Epoch 280/300\n",
      "107/107 [==============================] - 3s 30ms/step - loss: 0.5862 - accuracy: 0.9435 - auc: 0.9766 - val_loss: 0.5585 - val_accuracy: 0.9630 - val_auc: 0.9325\n",
      "Epoch 281/300\n",
      "107/107 [==============================] - 3s 28ms/step - loss: 0.5789 - accuracy: 0.9450 - auc: 0.9796 - val_loss: 0.5566 - val_accuracy: 0.9634 - val_auc: 0.9331\n",
      "Epoch 282/300\n",
      "107/107 [==============================] - 3s 28ms/step - loss: 0.5756 - accuracy: 0.9480 - auc: 0.9800 - val_loss: 0.5750 - val_accuracy: 0.9545 - val_auc: 0.9338\n",
      "Epoch 283/300\n",
      "107/107 [==============================] - 3s 28ms/step - loss: 0.5799 - accuracy: 0.9423 - auc: 0.9791 - val_loss: 0.5713 - val_accuracy: 0.9578 - val_auc: 0.9374\n",
      "Epoch 284/300\n",
      "107/107 [==============================] - 3s 24ms/step - loss: 0.5710 - accuracy: 0.9478 - auc: 0.9809 - val_loss: 0.5787 - val_accuracy: 0.9470 - val_auc: 0.9350\n",
      "Epoch 285/300\n",
      "107/107 [==============================] - 3s 27ms/step - loss: 0.5737 - accuracy: 0.9424 - auc: 0.9793 - val_loss: 0.5564 - val_accuracy: 0.9639 - val_auc: 0.9366\n",
      "Epoch 286/300\n",
      "107/107 [==============================] - 3s 27ms/step - loss: 0.5639 - accuracy: 0.9479 - auc: 0.9814 - val_loss: 0.5471 - val_accuracy: 0.9653 - val_auc: 0.9348\n",
      "Epoch 287/300\n",
      "107/107 [==============================] - 3s 29ms/step - loss: 0.5689 - accuracy: 0.9479 - auc: 0.9799 - val_loss: 0.5734 - val_accuracy: 0.9480 - val_auc: 0.9391\n",
      "Epoch 288/300\n",
      "107/107 [==============================] - 4s 33ms/step - loss: 0.5707 - accuracy: 0.9449 - auc: 0.9790 - val_loss: 0.5468 - val_accuracy: 0.9653 - val_auc: 0.9398\n",
      "Epoch 289/300\n",
      "107/107 [==============================] - 4s 34ms/step - loss: 0.5648 - accuracy: 0.9455 - auc: 0.9806 - val_loss: 0.5463 - val_accuracy: 0.9644 - val_auc: 0.9369\n",
      "Epoch 290/300\n",
      "107/107 [==============================] - 4s 35ms/step - loss: 0.5700 - accuracy: 0.9445 - auc: 0.9782 - val_loss: 0.5559 - val_accuracy: 0.9587 - val_auc: 0.9396\n",
      "Epoch 291/300\n",
      "107/107 [==============================] - 3s 30ms/step - loss: 0.5644 - accuracy: 0.9447 - auc: 0.9799 - val_loss: 0.5543 - val_accuracy: 0.9592 - val_auc: 0.9344\n",
      "Epoch 292/300\n",
      "107/107 [==============================] - 4s 34ms/step - loss: 0.5666 - accuracy: 0.9444 - auc: 0.9783 - val_loss: 0.5362 - val_accuracy: 0.9639 - val_auc: 0.9427\n",
      "Epoch 293/300\n",
      "107/107 [==============================] - 4s 38ms/step - loss: 0.5583 - accuracy: 0.9497 - auc: 0.9808 - val_loss: 0.5496 - val_accuracy: 0.9606 - val_auc: 0.9389\n",
      "Epoch 294/300\n",
      "107/107 [==============================] - 3s 32ms/step - loss: 0.5544 - accuracy: 0.9442 - auc: 0.9816 - val_loss: 0.5559 - val_accuracy: 0.9545 - val_auc: 0.9425\n",
      "Epoch 295/300\n",
      "107/107 [==============================] - 4s 37ms/step - loss: 0.5572 - accuracy: 0.9453 - auc: 0.9809 - val_loss: 0.5396 - val_accuracy: 0.9639 - val_auc: 0.9421\n",
      "Epoch 296/300\n",
      "107/107 [==============================] - 4s 40ms/step - loss: 0.5555 - accuracy: 0.9451 - auc: 0.9798 - val_loss: 0.5415 - val_accuracy: 0.9620 - val_auc: 0.9435\n",
      "Epoch 297/300\n",
      "107/107 [==============================] - 3s 32ms/step - loss: 0.5530 - accuracy: 0.9459 - auc: 0.9820 - val_loss: 0.5323 - val_accuracy: 0.9653 - val_auc: 0.9439\n",
      "Epoch 298/300\n",
      "107/107 [==============================] - 4s 34ms/step - loss: 0.5535 - accuracy: 0.9494 - auc: 0.9805 - val_loss: 0.5350 - val_accuracy: 0.9630 - val_auc: 0.9440\n",
      "Epoch 299/300\n",
      "107/107 [==============================] - 3s 32ms/step - loss: 0.5469 - accuracy: 0.9478 - auc: 0.9821 - val_loss: 0.5352 - val_accuracy: 0.9639 - val_auc: 0.9429\n",
      "Epoch 300/300\n",
      "107/107 [==============================] - 3s 31ms/step - loss: 0.5491 - accuracy: 0.9481 - auc: 0.9813 - val_loss: 0.5313 - val_accuracy: 0.9625 - val_auc: 0.9456\n"
     ]
    }
   ],
   "source": [
    "## look at validation batch ?\n",
    "history = model.fit(X_train,  y_train, \n",
    "                    batch_size=BATCH_SIZE, \n",
    "                    class_weight=class_weight_dict,\n",
    "                    shuffle=True,\n",
    "                    epochs=EPOCHS,\n",
    "                    validation_data= (X_test, y_test),\n",
    "                    callbacks=callbacks\n",
    "                    )"
   ]
  },
  {
   "cell_type": "code",
   "execution_count": 244,
   "metadata": {},
   "outputs": [
    {
     "data": {
      "image/png": "[encoded data removed]",
      "text/plain": [
       "<Figure size 640x480 with 1 Axes>"
      ]
     },
     "metadata": {},
     "output_type": "display_data"
    }
   ],
   "source": [
    "plots.plot_history_metrics(history)"
   ]
  },
  {
   "cell_type": "code",
   "execution_count": 120,
   "metadata": {},
   "outputs": [
    {
     "name": "stdout",
     "output_type": "stream",
     "text": [
      "84/84 - 1s - loss: 1.2551 - accuracy: 0.7843 - auc: 0.6854 - 987ms/epoch - 12ms/step\n",
      "Model accuracy: [1.255138635635376, 0.7843210697174072, 0.6853933930397034]\n"
     ]
    }
   ],
   "source": [
    "metrics = model.evaluate(X_test, y_test, verbose=2)\n",
    "print(f'Model accuracy: {metrics}')"
   ]
  },
  {
   "cell_type": "code",
   "execution_count": 59,
   "metadata": {},
   "outputs": [
    {
     "name": "stdout",
     "output_type": "stream",
     "text": [
      "334/334 [==============================] - 3s 7ms/step\n"
     ]
    }
   ],
   "source": [
    "y_pred_train = model.predict(X_train)"
   ]
  },
  {
   "cell_type": "code",
   "execution_count": 245,
   "metadata": {},
   "outputs": [
    {
     "name": "stdout",
     "output_type": "stream",
     "text": [
      "84/84 [==============================] - 1s 7ms/step\n"
     ]
    },
    {
     "data": {
      "text/plain": [
       "(2666, 1)"
      ]
     },
     "execution_count": 245,
     "metadata": {},
     "output_type": "execute_result"
    }
   ],
   "source": [
    "y_pred = model.predict(X_test)\n",
    "y_pred_c = y_pred.round().astype(int)\n",
    "y_pred_c.shape"
   ]
  },
  {
   "cell_type": "code",
   "execution_count": 246,
   "metadata": {},
   "outputs": [
    {
     "data": {
      "image/png": "[encoded data removed]",
      "text/plain": [
       "<Figure size 640x480 with 1 Axes>"
      ]
     },
     "metadata": {},
     "output_type": "display_data"
    }
   ],
   "source": [
    "plots.plot_roc(y_test, y_pred)"
   ]
  },
  {
   "cell_type": "code",
   "execution_count": 106,
   "metadata": {},
   "outputs": [
    {
     "data": {
      "text/plain": [
       "[1.1344488859176636, 0.7111777663230896, 0.6929536461830139]"
      ]
     },
     "execution_count": 106,
     "metadata": {},
     "output_type": "execute_result"
    }
   ],
   "source": [
    "metrics"
   ]
  },
  {
   "cell_type": "code",
   "execution_count": 247,
   "metadata": {},
   "outputs": [
    {
     "name": "stdout",
     "output_type": "stream",
     "text": [
      "84/84 [==============================] - 1s 7ms/step - loss: 1.0915 - accuracy: 0.8061 - auc: 0.6023\n",
      "Loss: 1.0914945602416992\n",
      "Accuracy: 0.8060765266418457\n",
      "AUC: 0.6023032069206238\n",
      "Precision: 0.24269005847953215\n",
      "Recall: 0.2434017595307918\n"
     ]
    },
    {
     "data": {
      "text/plain": [
       "(341.0, 342)"
      ]
     },
     "execution_count": 247,
     "metadata": {},
     "output_type": "execute_result"
    }
   ],
   "source": [
    "from sklearn.metrics import precision_score, recall_score, confusion_matrix\n",
    "y_pred_c = y_pred.round().astype(int)\n",
    "precision = precision_score(y_test, y_pred_c)\n",
    "recall = recall_score(y_test, y_pred_c)\n",
    "\n",
    "metrics = model.evaluate(X_test, y_test)\n",
    "\n",
    "print('Loss:', metrics[0])\n",
    "print('Accuracy:', metrics[1])\n",
    "print('AUC:', metrics[2])\n",
    "print('Precision:', precision)\n",
    "print('Recall:', recall)\n",
    "y_test.sum(), y_pred_c.sum()\n"
   ]
  },
  {
   "cell_type": "code",
   "execution_count": 124,
   "metadata": {},
   "outputs": [
    {
     "name": "stdout",
     "output_type": "stream",
     "text": [
      "Metrics:  ['loss', 'accuracy', 'auc']\n",
      "Results:  [1.255138635635376, 0.7843210697174072, 0.6853933930397034]\n"
     ]
    }
   ],
   "source": [
    "# Print the results\n",
    "print(\"Metrics: \", model.metrics_names)\n",
    "print(\"Results: \", metrics)"
   ]
  },
  {
   "cell_type": "code",
   "execution_count": 248,
   "metadata": {},
   "outputs": [
    {
     "data": {
      "image/png": "[encoded data removed]",
      "text/plain": [
       "<Figure size 640x480 with 2 Axes>"
      ]
     },
     "metadata": {},
     "output_type": "display_data"
    }
   ],
   "source": [
    "plots.plot_confusion_matrix(y_test, y_pred_c)"
   ]
  },
  {
   "cell_type": "code",
   "execution_count": 126,
   "metadata": {},
   "outputs": [
    {
     "name": "stdout",
     "output_type": "stream",
     "text": [
      "Classification Report:\n",
      "              precision    recall  f1-score   support\n",
      "\n",
      "         0.0       0.90      0.85      0.87      2325\n",
      "         1.0       0.24      0.32      0.28       341\n",
      "\n",
      "    accuracy                           0.78      2666\n",
      "   macro avg       0.57      0.59      0.57      2666\n",
      "weighted avg       0.81      0.78      0.80      2666\n",
      "\n"
     ]
    }
   ],
   "source": [
    "from sklearn.metrics import classification_report\n",
    "report = classification_report(y_test, y_pred_c)\n",
    "print(\"Classification Report:\")\n",
    "print(report)\n",
    " "
   ]
  },
  {
   "cell_type": "code",
   "execution_count": 127,
   "metadata": {},
   "outputs": [
    {
     "data": {
      "text/plain": [
       "1.5083032846450806"
      ]
     },
     "execution_count": 127,
     "metadata": {},
     "output_type": "execute_result"
    }
   ],
   "source": [
    "model_checkpoint.best"
   ]
  },
  {
   "cell_type": "code",
   "execution_count": 114,
   "metadata": {},
   "outputs": [
    {
     "name": "stdout",
     "output_type": "stream",
     "text": [
      "INFO:tensorflow:Assets written to: saved_model/my_RNN_model_60per5_fixing_overfit/assets\n"
     ]
    },
    {
     "name": "stderr",
     "output_type": "stream",
     "text": [
      "INFO:tensorflow:Assets written to: saved_model/my_RNN_model_60per5_fixing_overfit/assets\n"
     ]
    }
   ],
   "source": [
    "!mkdir -p saved_model\n",
    "\n",
    "model.save('saved_model/my_RNN_model_60per5_fixing_overfit')"
   ]
  },
  {
   "cell_type": "code",
   "execution_count": 48,
   "metadata": {},
   "outputs": [],
   "source": [
    "# # Define a sequential model\n",
    "# model = keras.Sequential()\n",
    "\n",
    "# #model.add(normalizer)\n",
    "\n",
    "# # Add an input layer with an input shape of (time_steps, input_features)\n",
    "# model.add(layers.InputLayer(input_shape=(X_train.shape[1],X_train.shape[2])))\n",
    "\n",
    "# # Add a SimpleRNN layer with 32 units (neurons)\n",
    "# model.add(layers.SimpleRNN(72, activation='tanh'))\n",
    "\n",
    "# model.add(BatchNormalization())\n",
    "\n",
    "# # Add the output layer with 1 neuron and sigmoid activation for binary classification\n",
    "# model.add(layers.Dense(1, activation='sigmoid'))\n",
    "\n",
    "# # Compile the model with binary cross-entropy loss for binary classification\n",
    "# model.compile(loss='binary_crossentropy', optimizer='adam', metrics=['accuracy'])\n"
   ]
  },
  {
   "cell_type": "code",
   "execution_count": 47,
   "metadata": {},
   "outputs": [],
   "source": [
    "# history = model.fit(X_train,  y_train, \n",
    "#                     batch_size=100, \n",
    "#                     class_weight=class_weight_dict,\n",
    "#                     shuffle=True,\n",
    "#                     epochs=300,\n",
    "#                     validation_data=(X_val, y_val))"
   ]
  },
  {
   "cell_type": "code",
   "execution_count": null,
   "metadata": {},
   "outputs": [
    {
     "data": {
      "image/png": "[encoded data removed]",
      "text/plain": [
       "<Figure size 640x480 with 1 Axes>"
      ]
     },
     "metadata": {},
     "output_type": "display_data"
    }
   ],
   "source": [
    "# plot_loss(history)"
   ]
  },
  {
   "cell_type": "code",
   "execution_count": null,
   "metadata": {},
   "outputs": [
    {
     "name": "stdout",
     "output_type": "stream",
     "text": [
      "16/16 [==============================] - 0s 2ms/step\n"
     ]
    },
    {
     "data": {
      "text/plain": [
       "array([0.6652413 , 0.569696  , 0.6270943 , 0.6571634 , 0.6279296 ,\n",
       "       0.661146  , 0.6190019 , 0.6956031 , 0.60217565, 0.6422262 ,\n",
       "       0.6130368 , 0.61739904, 0.5836438 , 0.60966194, 0.61492014,\n",
       "       0.68353057, 0.62516934, 0.6223092 , 0.60138613, 0.86089545,\n",
       "       0.5997883 , 0.7082959 , 0.61577535, 0.65439284, 0.6153179 ,\n",
       "       0.61165124, 0.6138298 , 0.6019997 , 0.69033056, 0.5684809 ,\n",
       "       0.60205024, 0.6596652 , 0.5667143 , 0.5973395 , 0.5799074 ,\n",
       "       0.5978519 , 0.69248086, 0.6828316 , 0.5917969 , 0.65039593,\n",
       "       0.6280549 , 0.5896513 , 0.5801114 , 0.6888158 , 0.6263854 ,\n",
       "       0.5939749 , 0.6077289 , 0.7062058 , 0.5900531 , 0.61288965,\n",
       "       0.6144817 , 0.6018636 , 0.6108944 , 0.6096263 , 0.6149801 ,\n",
       "       0.60750127, 0.654709  , 0.6353007 , 0.60026884, 0.6303653 ,\n",
       "       0.6049201 , 0.61497486, 0.57438624, 0.5701094 , 0.5770952 ,\n",
       "       0.5821288 , 0.643623  , 0.621211  , 0.44605097, 0.6186412 ,\n",
       "       0.5902251 , 0.7171862 , 0.6248064 , 0.6361713 , 0.63841057,\n",
       "       0.60719955, 0.59733856, 0.60892665, 0.6013863 , 0.623986  ,\n",
       "       0.63009584, 0.603017  , 0.61030924, 0.58020943, 0.6748548 ,\n",
       "       0.60598344, 0.6255829 , 0.6094475 , 0.6422542 , 0.6050221 ,\n",
       "       0.64808655, 0.6784057 , 0.6414742 , 0.43772689, 0.47509748,\n",
       "       0.4773404 , 0.46248704, 0.49979073, 0.47895792, 0.5372552 ,\n",
       "       0.5187584 , 0.52861136, 0.50036955, 0.5100715 , 0.62464726,\n",
       "       0.5285064 , 0.5293216 , 0.5315612 , 0.5522734 , 0.56808764,\n",
       "       0.5585732 , 0.5905    , 0.5551743 , 0.59540546, 0.5667664 ,\n",
       "       0.5959337 , 0.6187483 , 0.5835188 , 0.6195134 , 0.59738874,\n",
       "       0.60609746, 0.5645777 , 0.5945552 , 0.5894392 , 0.42119426,\n",
       "       0.5681184 , 0.6998913 , 0.5707609 , 0.41356623, 0.38445675,\n",
       "       0.58828235, 0.44433853, 0.4882775 , 0.6843342 , 0.6339574 ,\n",
       "       0.55668706, 0.54252225, 0.52601564, 0.52793366, 0.5227525 ,\n",
       "       0.53863966, 0.52710426, 0.5825123 , 0.7270559 , 0.5614912 ,\n",
       "       0.67644376, 0.6574703 , 0.5613832 , 0.571432  , 0.45936516,\n",
       "       0.51618534, 0.5878282 , 0.6881402 , 0.55302554, 0.64734346,\n",
       "       0.44869968, 0.5226918 , 0.43218562, 0.41906303, 0.436424  ,\n",
       "       0.43815136, 0.45401877, 0.4686395 , 0.49536863, 0.7637861 ,\n",
       "       0.61514354, 0.5505852 , 0.5499905 , 0.53895366, 0.64563704,\n",
       "       0.5790271 , 0.5502958 , 0.6727013 , 0.53519833, 0.6540693 ,\n",
       "       0.5616995 , 0.5763694 , 0.60563   , 0.52863824, 0.59784764,\n",
       "       0.62152696, 0.6223313 , 0.6219068 , 0.5734146 , 0.580643  ,\n",
       "       0.6430308 , 0.4636795 , 0.45806566, 0.4597016 , 0.43732667,\n",
       "       0.46201423, 0.43120196, 0.4199319 , 0.4154514 , 0.47197604,\n",
       "       0.43822312, 0.3883257 , 0.40413404, 0.40162173, 0.41081923,\n",
       "       0.4120124 , 0.43464842, 0.43222827, 0.44615903, 0.4607598 ,\n",
       "       0.48140505, 0.30819106, 0.49094445, 0.57494134, 0.5388886 ,\n",
       "       0.5200795 , 0.5160525 , 0.3901946 , 0.506543  , 0.5344031 ,\n",
       "       0.5556286 , 0.53725415, 0.3587931 , 0.38405797, 0.2732596 ,\n",
       "       0.42811373, 0.43118182, 0.34026456, 0.5205217 , 0.5612506 ,\n",
       "       0.4630498 , 0.39897135, 0.38194242, 0.43440032, 0.3757299 ,\n",
       "       0.42113298, 0.37296957, 0.37644294, 0.38949406, 0.40350494,\n",
       "       0.4161069 , 0.42863566, 0.414522  , 0.4235962 , 0.44694293,\n",
       "       0.42506832, 0.46866596, 0.4787772 , 0.46934006, 0.50378984,\n",
       "       0.51934683, 0.5310882 , 0.5135697 , 0.3030587 , 0.37857455,\n",
       "       0.42232576, 0.27681717, 0.3641637 , 0.43111262, 0.4040192 ,\n",
       "       0.40412614, 0.37876886, 0.32991266, 0.33362213, 0.38279763,\n",
       "       0.3204743 , 0.32391536, 0.36691436, 0.35020855, 0.35531   ,\n",
       "       0.38966686, 0.3785968 , 0.38163382, 0.405167  , 0.42391026,\n",
       "       0.3944749 , 0.41027153, 0.44244385, 0.46995836, 0.4667238 ,\n",
       "       0.48680976, 0.49501336, 0.49217668, 0.49332157, 0.3862032 ,\n",
       "       0.44422376, 0.38413483, 0.4220173 , 0.4364825 , 0.43726265,\n",
       "       0.3949609 , 0.551351  , 0.47417286, 0.4014426 , 0.3660487 ,\n",
       "       0.38109592, 0.37379816, 0.3684239 , 0.3446881 , 0.34863582,\n",
       "       0.36590335, 0.37758777, 0.36572483, 0.38418743, 0.38965997,\n",
       "       0.39837563, 0.407982  , 0.42609367, 0.43063006, 0.4513211 ,\n",
       "       0.46074924, 0.45799103, 0.4747065 , 0.48969895, 0.4966999 ,\n",
       "       0.31376228, 0.30064297, 0.32000488, 0.34089395, 0.31930766,\n",
       "       0.3462876 , 0.34911686, 0.38628054, 0.28159934, 0.3627369 ,\n",
       "       0.41596138, 0.39656124, 0.32339916, 0.27384606, 0.37394723,\n",
       "       0.36815754, 0.31858882, 0.33842516, 0.35862654, 0.34191993,\n",
       "       0.3044802 , 0.32338294, 0.36181813, 0.3823679 , 0.4104403 ,\n",
       "       0.35382304, 0.3438774 , 0.3670379 , 0.3667986 , 0.41488868,\n",
       "       0.40240532, 0.4582582 , 0.3526926 , 0.27478963, 0.40877676,\n",
       "       0.40939188, 0.3618589 , 0.5249612 , 0.36274448, 0.31649446,\n",
       "       0.39789778, 0.30452377, 0.2138851 , 0.32177857, 0.26993054,\n",
       "       0.27846035, 0.25911295, 0.27674666, 0.26746637, 0.28896844,\n",
       "       0.30843973, 0.33016482, 0.36256424, 0.40238753, 0.26573223,\n",
       "       0.22156195, 0.35593435, 0.33750528, 0.28910235, 0.37896293,\n",
       "       0.2803547 , 0.4049907 , 0.33963594, 0.33004746, 0.3375563 ,\n",
       "       0.3204794 , 0.31054157, 0.32648873, 0.30842286, 0.4260846 ,\n",
       "       0.46692806, 0.30909103, 0.3797165 , 0.29219872, 0.33571044,\n",
       "       0.62112385, 0.34811348, 0.3195699 , 0.2970283 , 0.3069522 ,\n",
       "       0.3066885 , 0.31466964, 0.33998042, 0.32226023, 0.27235094,\n",
       "       0.22456524, 0.27676392, 0.2898272 , 0.2808813 , 0.26910356,\n",
       "       0.28608766, 0.31292447, 0.3187728 , 0.3861677 , 0.38987392,\n",
       "       0.38485253, 0.38261008, 0.3707685 , 0.39104915, 0.35279164,\n",
       "       0.3603043 , 0.33357993, 0.3343079 , 0.33669484, 0.3188711 ,\n",
       "       0.30423367, 0.3105262 , 0.30440813, 0.31578785, 0.299009  ,\n",
       "       0.29674652, 0.29555297, 0.29727829, 0.277262  , 0.2965727 ,\n",
       "       0.27959156, 0.28882012, 0.28481197, 0.2918079 , 0.2993838 ,\n",
       "       0.30200222, 0.31586194, 0.35213825, 0.34461346, 0.29542464,\n",
       "       0.33201844, 0.35361746, 0.35526073, 0.3420579 , 0.31507835,\n",
       "       0.3103886 , 0.2908673 , 0.3266469 , 0.317783  , 0.31828013,\n",
       "       0.3123295 , 0.25279772, 0.3215027 , 0.2804789 , 0.26861468,\n",
       "       0.2958932 , 0.2968075 , 0.26578093, 0.27257934, 0.25974604,\n",
       "       0.2520303 , 0.25218186, 0.32627842, 0.26667783, 0.26323926,\n",
       "       0.27470216, 0.27350318, 0.26511413, 0.27610195, 0.30017102,\n",
       "       0.38500676, 0.37637645, 0.34530547, 0.3690651 , 0.355853  ,\n",
       "       0.36944458, 0.34312207, 0.29550368, 0.36085805, 0.35986838,\n",
       "       0.31424642, 0.3283497 , 0.31813326, 0.30099776, 0.317086  ,\n",
       "       0.2966371 , 0.2646232 , 0.27826786, 0.27204275, 0.2763856 ,\n",
       "       0.29300806, 0.25812554, 0.26703545, 0.26603764, 0.27279052,\n",
       "       0.26665732, 0.2766223 , 0.26954728, 0.27440894, 0.25993377,\n",
       "       0.25956622], dtype=float32)"
      ]
     },
     "execution_count": 46,
     "metadata": {},
     "output_type": "execute_result"
    }
   ],
   "source": [
    "# y_pred = model.predict(X_test).flatten()\n",
    "# y_pred"
   ]
  },
  {
   "cell_type": "code",
   "execution_count": null,
   "metadata": {},
   "outputs": [
    {
     "name": "stdout",
     "output_type": "stream",
     "text": [
      "16/16 - 0s - loss: 0.6718 - accuracy: 0.5746 - 234ms/epoch - 15ms/step\n",
      "Model accuracy: 0.5745967626571655\n"
     ]
    }
   ],
   "source": [
    "# loss, accuracy = model.evaluate(X_test, y_test, verbose=2)\n",
    "# print(f'Model accuracy: {accuracy}')"
   ]
  },
  {
   "cell_type": "code",
   "execution_count": null,
   "metadata": {},
   "outputs": [
    {
     "name": "stdout",
     "output_type": "stream",
     "text": [
      "16/16 [==============================] - 0s 2ms/step - loss: 0.6718 - accuracy: 0.5746\n",
      "Loss: 0.6718045473098755\n",
      "Accuracy: 0.5745967626571655\n",
      "Precision: 0.005494505494505495\n",
      "Recall: 0.03225806451612903\n"
     ]
    },
    {
     "data": {
      "text/plain": [
       "(31.0, 182)"
      ]
     },
     "execution_count": 48,
     "metadata": {},
     "output_type": "execute_result"
    }
   ],
   "source": [
    "# from sklearn.metrics import precision_score, recall_score\n",
    "# y_pred_c = y_pred.round().astype(int)\n",
    "# precision = precision_score(y_test, y_pred_c)\n",
    "# recall = recall_score(y_test, y_pred_c)\n",
    "\n",
    "# loss, accuracy = model.evaluate(X_test, y_test)\n",
    "\n",
    "# print('Loss:', loss)\n",
    "# print('Accuracy:', accuracy)\n",
    "# print('Precision:', precision)\n",
    "# print('Recall:', recall)\n",
    "# y_test.sum(), y_pred_c.sum()"
   ]
  },
  {
   "cell_type": "code",
   "execution_count": null,
   "metadata": {},
   "outputs": [],
   "source": []
  }
 ],
 "metadata": {
  "kernelspec": {
   "display_name": ".venv",
   "language": "python",
   "name": "python3"
  },
  "language_info": {
   "codemirror_mode": {
    "name": "ipython",
    "version": 3
   },
   "file_extension": ".py",
   "mimetype": "text/x-python",
   "name": "python",
   "nbconvert_exporter": "python",
   "pygments_lexer": "ipython3",
   "version": "3.11.3"
  }
 },
 "nbformat": 4,
 "nbformat_minor": 2
}
