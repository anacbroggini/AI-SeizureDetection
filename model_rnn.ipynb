{
 "cells": [
  {
   "cell_type": "code",
<<<<<<< Updated upstream
   "execution_count": 12,
=======
   "execution_count": 1,
   "metadata": {},
   "outputs": [
    {
     "name": "stdout",
     "output_type": "stream",
     "text": [
      "\u001b[33mDEPRECATION: Loading egg at /home/weasel/reps/ai-seizure-detectives/.venv/lib/python3.11/site-packages/lazy_loader-0.3-py3.11.egg is deprecated. pip 24.3 will enforce this behaviour change. A possible replacement is to use pip for package installation.. Discussion can be found at https://github.com/pypa/pip/issues/12330\u001b[0m\u001b[33m\n",
      "\u001b[0m\u001b[33mDEPRECATION: Loading egg at /home/weasel/reps/ai-seizure-detectives/.venv/lib/python3.11/site-packages/mne-0.0.0-py3.11.egg is deprecated. pip 24.3 will enforce this behaviour change. A possible replacement is to use pip for package installation.. Discussion can be found at https://github.com/pypa/pip/issues/12330\u001b[0m\u001b[33m\n",
      "\u001b[0mRequirement already satisfied: tensorflow in ./.venv/lib/python3.11/site-packages (2.14.0)\n",
      "Requirement already satisfied: absl-py>=1.0.0 in ./.venv/lib/python3.11/site-packages (from tensorflow) (2.0.0)\n",
      "Requirement already satisfied: astunparse>=1.6.0 in ./.venv/lib/python3.11/site-packages (from tensorflow) (1.6.3)\n",
      "Requirement already satisfied: flatbuffers>=23.5.26 in ./.venv/lib/python3.11/site-packages (from tensorflow) (23.5.26)\n",
      "Requirement already satisfied: gast!=0.5.0,!=0.5.1,!=0.5.2,>=0.2.1 in ./.venv/lib/python3.11/site-packages (from tensorflow) (0.5.4)\n",
      "Requirement already satisfied: google-pasta>=0.1.1 in ./.venv/lib/python3.11/site-packages (from tensorflow) (0.2.0)\n",
      "Requirement already satisfied: h5py>=2.9.0 in ./.venv/lib/python3.11/site-packages (from tensorflow) (3.10.0)\n",
      "Requirement already satisfied: libclang>=13.0.0 in ./.venv/lib/python3.11/site-packages (from tensorflow) (16.0.6)\n",
      "Requirement already satisfied: ml-dtypes==0.2.0 in ./.venv/lib/python3.11/site-packages (from tensorflow) (0.2.0)\n",
      "Requirement already satisfied: numpy>=1.23.5 in ./.venv/lib/python3.11/site-packages (from tensorflow) (1.26.1)\n",
      "Requirement already satisfied: opt-einsum>=2.3.2 in ./.venv/lib/python3.11/site-packages (from tensorflow) (3.3.0)\n",
      "Requirement already satisfied: packaging in ./.venv/lib/python3.11/site-packages (from tensorflow) (23.2)\n",
      "Requirement already satisfied: protobuf!=4.21.0,!=4.21.1,!=4.21.2,!=4.21.3,!=4.21.4,!=4.21.5,<5.0.0dev,>=3.20.3 in ./.venv/lib/python3.11/site-packages (from tensorflow) (3.20.3)\n",
      "Requirement already satisfied: setuptools in ./.venv/lib/python3.11/site-packages (from tensorflow) (65.5.0)\n",
      "Requirement already satisfied: six>=1.12.0 in ./.venv/lib/python3.11/site-packages (from tensorflow) (1.16.0)\n",
      "Requirement already satisfied: termcolor>=1.1.0 in ./.venv/lib/python3.11/site-packages (from tensorflow) (2.3.0)\n",
      "Requirement already satisfied: typing-extensions>=3.6.6 in ./.venv/lib/python3.11/site-packages (from tensorflow) (4.8.0)\n",
      "Requirement already satisfied: wrapt<1.15,>=1.11.0 in ./.venv/lib/python3.11/site-packages (from tensorflow) (1.14.1)\n",
      "Requirement already satisfied: tensorflow-io-gcs-filesystem>=0.23.1 in ./.venv/lib/python3.11/site-packages (from tensorflow) (0.34.0)\n",
      "Requirement already satisfied: grpcio<2.0,>=1.24.3 in ./.venv/lib/python3.11/site-packages (from tensorflow) (1.59.0)\n",
      "Requirement already satisfied: tensorboard<2.15,>=2.14 in ./.venv/lib/python3.11/site-packages (from tensorflow) (2.14.1)\n",
      "Requirement already satisfied: tensorflow-estimator<2.15,>=2.14.0 in ./.venv/lib/python3.11/site-packages (from tensorflow) (2.14.0)\n",
      "Requirement already satisfied: keras<2.15,>=2.14.0 in ./.venv/lib/python3.11/site-packages (from tensorflow) (2.14.0)\n",
      "Requirement already satisfied: wheel<1.0,>=0.23.0 in ./.venv/lib/python3.11/site-packages (from astunparse>=1.6.0->tensorflow) (0.41.3)\n",
      "Requirement already satisfied: google-auth<3,>=1.6.3 in ./.venv/lib/python3.11/site-packages (from tensorboard<2.15,>=2.14->tensorflow) (2.23.3)\n",
      "Requirement already satisfied: google-auth-oauthlib<1.1,>=0.5 in ./.venv/lib/python3.11/site-packages (from tensorboard<2.15,>=2.14->tensorflow) (1.0.0)\n",
      "Requirement already satisfied: markdown>=2.6.8 in ./.venv/lib/python3.11/site-packages (from tensorboard<2.15,>=2.14->tensorflow) (3.5.1)\n",
      "Requirement already satisfied: requests<3,>=2.21.0 in ./.venv/lib/python3.11/site-packages (from tensorboard<2.15,>=2.14->tensorflow) (2.31.0)\n",
      "Requirement already satisfied: tensorboard-data-server<0.8.0,>=0.7.0 in ./.venv/lib/python3.11/site-packages (from tensorboard<2.15,>=2.14->tensorflow) (0.7.2)\n",
      "Requirement already satisfied: werkzeug>=1.0.1 in ./.venv/lib/python3.11/site-packages (from tensorboard<2.15,>=2.14->tensorflow) (3.0.1)\n",
      "Requirement already satisfied: cachetools<6.0,>=2.0.0 in ./.venv/lib/python3.11/site-packages (from google-auth<3,>=1.6.3->tensorboard<2.15,>=2.14->tensorflow) (5.3.2)\n",
      "Requirement already satisfied: pyasn1-modules>=0.2.1 in ./.venv/lib/python3.11/site-packages (from google-auth<3,>=1.6.3->tensorboard<2.15,>=2.14->tensorflow) (0.3.0)\n",
      "Requirement already satisfied: rsa<5,>=3.1.4 in ./.venv/lib/python3.11/site-packages (from google-auth<3,>=1.6.3->tensorboard<2.15,>=2.14->tensorflow) (4.9)\n",
      "Requirement already satisfied: requests-oauthlib>=0.7.0 in ./.venv/lib/python3.11/site-packages (from google-auth-oauthlib<1.1,>=0.5->tensorboard<2.15,>=2.14->tensorflow) (1.3.1)\n",
      "Requirement already satisfied: charset-normalizer<4,>=2 in ./.venv/lib/python3.11/site-packages (from requests<3,>=2.21.0->tensorboard<2.15,>=2.14->tensorflow) (3.3.1)\n",
      "Requirement already satisfied: idna<4,>=2.5 in ./.venv/lib/python3.11/site-packages (from requests<3,>=2.21.0->tensorboard<2.15,>=2.14->tensorflow) (3.4)\n",
      "Requirement already satisfied: urllib3<3,>=1.21.1 in ./.venv/lib/python3.11/site-packages (from requests<3,>=2.21.0->tensorboard<2.15,>=2.14->tensorflow) (2.0.7)\n",
      "Requirement already satisfied: certifi>=2017.4.17 in ./.venv/lib/python3.11/site-packages (from requests<3,>=2.21.0->tensorboard<2.15,>=2.14->tensorflow) (2023.7.22)\n",
      "Requirement already satisfied: MarkupSafe>=2.1.1 in ./.venv/lib/python3.11/site-packages (from werkzeug>=1.0.1->tensorboard<2.15,>=2.14->tensorflow) (2.1.3)\n",
      "Requirement already satisfied: pyasn1<0.6.0,>=0.4.6 in ./.venv/lib/python3.11/site-packages (from pyasn1-modules>=0.2.1->google-auth<3,>=1.6.3->tensorboard<2.15,>=2.14->tensorflow) (0.5.0)\n",
      "Requirement already satisfied: oauthlib>=3.0.0 in ./.venv/lib/python3.11/site-packages (from requests-oauthlib>=0.7.0->google-auth-oauthlib<1.1,>=0.5->tensorboard<2.15,>=2.14->tensorflow) (3.2.2)\n",
      "Note: you may need to restart the kernel to use updated packages.\n"
     ]
    }
   ],
   "source": [
    "%pip install tensorflow"
   ]
  },
  {
   "cell_type": "code",
   "execution_count": 2,
   "metadata": {},
   "outputs": [
    {
     "name": "stdout",
     "output_type": "stream",
     "text": [
      "\u001b[33mDEPRECATION: Loading egg at /home/weasel/reps/ai-seizure-detectives/.venv/lib/python3.11/site-packages/lazy_loader-0.3-py3.11.egg is deprecated. pip 24.3 will enforce this behaviour change. A possible replacement is to use pip for package installation.. Discussion can be found at https://github.com/pypa/pip/issues/12330\u001b[0m\u001b[33m\n",
      "\u001b[0m\u001b[33mDEPRECATION: Loading egg at /home/weasel/reps/ai-seizure-detectives/.venv/lib/python3.11/site-packages/mne-0.0.0-py3.11.egg is deprecated. pip 24.3 will enforce this behaviour change. A possible replacement is to use pip for package installation.. Discussion can be found at https://github.com/pypa/pip/issues/12330\u001b[0m\u001b[33m\n",
      "\u001b[0mRequirement already satisfied: pydot in ./.venv/lib/python3.11/site-packages (1.4.2)\n",
      "Requirement already satisfied: pyparsing>=2.1.4 in ./.venv/lib/python3.11/site-packages (from pydot) (3.1.1)\n",
      "Note: you may need to restart the kernel to use updated packages.\n"
     ]
    }
   ],
   "source": [
    "%pip install pydot"
   ]
  },
  {
   "cell_type": "code",
   "execution_count": 3,
>>>>>>> Stashed changes
   "metadata": {},
   "outputs": [
    {
     "name": "stderr",
     "output_type": "stream",
     "text": [
      "2023-11-13 16:26:09.213006: I tensorflow/tsl/cuda/cudart_stub.cc:28] Could not find cuda drivers on your machine, GPU will not be used.\n",
      "2023-11-13 16:26:09.389826: E tensorflow/compiler/xla/stream_executor/cuda/cuda_dnn.cc:9342] Unable to register cuDNN factory: Attempting to register factory for plugin cuDNN when one has already been registered\n",
      "2023-11-13 16:26:09.389863: E tensorflow/compiler/xla/stream_executor/cuda/cuda_fft.cc:609] Unable to register cuFFT factory: Attempting to register factory for plugin cuFFT when one has already been registered\n",
      "2023-11-13 16:26:09.391063: E tensorflow/compiler/xla/stream_executor/cuda/cuda_blas.cc:1518] Unable to register cuBLAS factory: Attempting to register factory for plugin cuBLAS when one has already been registered\n",
      "2023-11-13 16:26:09.501985: I tensorflow/tsl/cuda/cudart_stub.cc:28] Could not find cuda drivers on your machine, GPU will not be used.\n",
      "2023-11-13 16:26:09.503254: I tensorflow/core/platform/cpu_feature_guard.cc:182] This TensorFlow binary is optimized to use available CPU instructions in performance-critical operations.\n",
      "To enable the following instructions: AVX2 FMA, in other operations, rebuild TensorFlow with the appropriate compiler flags.\n",
      "2023-11-13 16:26:10.607012: W tensorflow/compiler/tf2tensorrt/utils/py_utils.cc:38] TF-TRT Warning: Could not find TensorRT\n"
     ]
    }
   ],
   "source": [
    "import tensorflow as tf\n",
    "from tensorflow import keras\n",
    "from tensorflow.keras import layers"
   ]
  },
  {
   "cell_type": "code",
<<<<<<< Updated upstream
   "execution_count": 13,
=======
   "execution_count": 4,
>>>>>>> Stashed changes
   "metadata": {},
   "outputs": [],
   "source": [
    "import pyarrow as pa\n",
    "import pandas as pd\n",
    "import matplotlib\n",
    "import matplotlib.pyplot as plt\n",
    "import seaborn as sns\n",
    "import numpy as np\n",
    "from source import data_import"
   ]
  },
  {
   "cell_type": "code",
<<<<<<< Updated upstream
   "execution_count": 14,
=======
   "execution_count": 5,
>>>>>>> Stashed changes
   "metadata": {},
   "outputs": [],
   "source": [
    "from sklearn.model_selection import train_test_split\n",
    "from sklearn.metrics import confusion_matrix, accuracy_score\n",
    "from sklearn.preprocessing import StandardScaler"
   ]
  },
  {
   "cell_type": "code",
<<<<<<< Updated upstream
   "execution_count": 15,
=======
   "execution_count": 6,
>>>>>>> Stashed changes
   "metadata": {},
   "outputs": [],
   "source": [
    "import tensorflow as tf\n",
    "from tensorflow.keras.utils import plot_model\n",
    "\n",
    "import keras \n",
    "from keras.models import Sequential # intitialize the ANN\n",
    "from keras.layers import Dense, Activation, Dropout "
   ]
  },
  {
   "cell_type": "code",
<<<<<<< Updated upstream
   "execution_count": 16,
   "metadata": {},
   "outputs": [
    {
     "data": {
      "text/plain": [
       "(439, 30, 71)"
      ]
     },
     "execution_count": 16,
     "metadata": {},
     "output_type": "execute_result"
    }
   ],
   "source": [
    "data = np.load('data/feature_extract_reshaped_all.npy')\n",
=======
   "execution_count": 7,
   "metadata": {},
   "outputs": [
    {
     "name": "stdout",
     "output_type": "stream",
     "text": [
      "load data from file\n"
     ]
    }
   ],
   "source": [
    "# check if data is already loaded\n",
    "\n",
    "try:\n",
    "    data\n",
    "except NameError:\n",
    "    print('load data from file')\n",
    "    data = np.load('data/feature_extract_reshaped.npy')\n",
    "    \n",
>>>>>>> Stashed changes
    "data.shape"
   ]
  },
  {
   "cell_type": "code",
<<<<<<< Updated upstream
   "execution_count": 17,
=======
   "execution_count": 12,
   "metadata": {},
   "outputs": [
    {
     "ename": "NameError",
     "evalue": "name 'test_samples_nr' is not defined",
     "output_type": "error",
     "traceback": [
      "\u001b[0;31m---------------------------------------------------------------------------\u001b[0m",
      "\u001b[0;31mNameError\u001b[0m                                 Traceback (most recent call last)",
      "\u001b[1;32m/home/weasel/reps/ai-seizure-detectives/model_rnn.ipynb Cell 12\u001b[0m line \u001b[0;36m5\n\u001b[1;32m      <a href='vscode-notebook-cell://wsl%2Bdebian/home/weasel/reps/ai-seizure-detectives/model_rnn.ipynb#Y105sdnNjb2RlLXJlbW90ZQ%3D%3D?line=2'>3</a>\u001b[0m train_samples_nr \u001b[39m=\u001b[39m \u001b[39mint\u001b[39m(np\u001b[39m.\u001b[39mfloor(sequence_nr \u001b[39m*\u001b[39m \u001b[39m0.8\u001b[39m))\n\u001b[1;32m      <a href='vscode-notebook-cell://wsl%2Bdebian/home/weasel/reps/ai-seizure-detectives/model_rnn.ipynb#Y105sdnNjb2RlLXJlbW90ZQ%3D%3D?line=3'>4</a>\u001b[0m train_samples_nr\n\u001b[0;32m----> <a href='vscode-notebook-cell://wsl%2Bdebian/home/weasel/reps/ai-seizure-detectives/model_rnn.ipynb#Y105sdnNjb2RlLXJlbW90ZQ%3D%3D?line=4'>5</a>\u001b[0m train_sample_ids \u001b[39m=\u001b[39m np\u001b[39m.\u001b[39mrandom\u001b[39m.\u001b[39mchoice(\u001b[39mrange\u001b[39m(sequence_nr), test_samples_nr)\n\u001b[1;32m      <a href='vscode-notebook-cell://wsl%2Bdebian/home/weasel/reps/ai-seizure-detectives/model_rnn.ipynb#Y105sdnNjb2RlLXJlbW90ZQ%3D%3D?line=5'>6</a>\u001b[0m train_sample \u001b[39m=\u001b[39m data[train_sample_ids,:,:]\n\u001b[1;32m      <a href='vscode-notebook-cell://wsl%2Bdebian/home/weasel/reps/ai-seizure-detectives/model_rnn.ipynb#Y105sdnNjb2RlLXJlbW90ZQ%3D%3D?line=6'>7</a>\u001b[0m test_sample \u001b[39m=\u001b[39m data[\u001b[39m~\u001b[39mtrain_sample_ids,:,:]\n",
      "\u001b[0;31mNameError\u001b[0m: name 'test_samples_nr' is not defined"
     ]
    }
   ],
   "source": [
    "# split\n",
    "sequence_nr = data[:,:,0].max().astype(int)\n",
    "train_samples_nr = int(np.floor(sequence_nr * 0.8))\n",
    "train_sample_ids = np.random.choice(range(sequence_nr), train_samples_nr)\n",
    "train_sample = data[train_sample_ids,:,:]\n",
    "test_sample = data[~train_sample_ids,:,:]\n",
    "train_sample.shape"
   ]
  },
  {
   "cell_type": "code",
   "execution_count": null,
   "metadata": {},
   "outputs": [],
   "source": [
    "X=data[:,:,2:-1]\n",
    "Y=data[:,:,-1]"
   ]
  },
  {
   "cell_type": "code",
   "execution_count": null,
   "metadata": {},
   "outputs": [],
   "source": [
    "# X_train, X_test, Y_train, Y_test = train_test_split(X, Y, test_size = 0.2, shuffle=False)"
   ]
  },
  {
   "cell_type": "code",
   "execution_count": null,
>>>>>>> Stashed changes
   "metadata": {},
   "outputs": [
    {
     "data": {
      "text/plain": [
<<<<<<< Updated upstream
       "((351, 30, 71), (88, 30, 71))"
      ]
     },
     "execution_count": 17,
=======
       "(2648, 30, 60)"
      ]
     },
     "execution_count": 469,
>>>>>>> Stashed changes
     "metadata": {},
     "output_type": "execute_result"
    }
   ],
   "source": [
    "# Split data into train and test set\n",
    "\n",
    "train_split_ratio = int((data.shape[0])*0.8)  # the first dimensio is epoch, and we are splitting the epochs between train anf test\n",
    "train_data = data[:train_split_ratio,:,:]\n",
    "test_data = data[train_split_ratio:,:,:]\n",
    "train_data.shape, test_data.shape"
   ]
  },
  {
   "cell_type": "code",
<<<<<<< Updated upstream
   "execution_count": 18,
=======
   "execution_count": null,
>>>>>>> Stashed changes
   "metadata": {},
   "outputs": [
    {
     "data": {
      "text/plain": [
<<<<<<< Updated upstream
       "(351, 30)"
      ]
     },
     "execution_count": 18,
     "metadata": {},
     "output_type": "execute_result"
    }
   ],
   "source": [
    "target =train_data[:,:,-1]\n",
    "target.shape"
   ]
  },
  {
   "cell_type": "code",
   "execution_count": 19,
   "metadata": {},
   "outputs": [
    {
     "data": {
      "text/plain": [
       "(351, 30, 70)"
      ]
     },
     "execution_count": 19,
     "metadata": {},
     "output_type": "execute_result"
    }
   ],
   "source": [
    "features =train_data[:,:,:-1]\n",
    "features.shape\n"
   ]
  },
  {
   "cell_type": "code",
   "execution_count": 20,
   "metadata": {},
   "outputs": [
    {
     "name": "stdout",
     "output_type": "stream",
     "text": [
      "X_train shape: (351, 30, 70)\n",
      "y_train shape: (351, 30)\n",
      "X_test shape: (88, 30, 70)\n",
      "y_test shape: (88, 30)\n"
     ]
    }
   ],
   "source": [
    "X_train = train_data[:,:,:-1]\n",
    "y_train = train_data[:,:,-1]\n",
    "X_test = test_data[:,:,:-1]\n",
    "y_test = test_data[:,:,-1]\n",
    "print(f\"X_train shape: {X_train.shape}\")\n",
    "print(f\"y_train shape: {y_train.shape}\")\n",
    "print(f\"X_test shape: {X_test.shape}\")\n",
    "print(f\"y_test shape: {y_test.shape}\")\n"
   ]
  },
  {
   "cell_type": "code",
   "execution_count": 24,
   "metadata": {},
   "outputs": [
    {
     "name": "stdout",
     "output_type": "stream",
     "text": [
      "y_train_1d shape: (351,)\n",
      "y_test_1d shape: (88,)\n"
     ]
    }
   ],
   "source": [
    "y_train_1d = y_train.max(axis=1)\n",
    "y_test_1d = y_test.max(axis=1)\n",
    "print(f\"y_train_1d shape: {y_train_1d.shape}\")\n",
    "print(f\"y_test_1d shape: {y_test_1d.shape}\")"
   ]
  },
  {
   "cell_type": "code",
   "execution_count": 25,
   "metadata": {},
   "outputs": [
    {
     "data": {
      "text/plain": [
       "False"
      ]
     },
     "execution_count": 25,
     "metadata": {},
     "output_type": "execute_result"
    }
   ],
   "source": [
    "positions = np.isnan(y_train)\n",
    "np.any(positions)"
   ]
  },
  {
   "cell_type": "code",
   "execution_count": 66,
   "metadata": {},
   "outputs": [
    {
     "data": {
      "text/plain": [
       "(351, 30, 70)"
      ]
     },
     "execution_count": 66,
=======
       "(10589, 30, 60)"
      ]
     },
     "execution_count": 470,
>>>>>>> Stashed changes
     "metadata": {},
     "output_type": "execute_result"
    }
   ],
   "source": [
    "X_train.shape"
   ]
  },
  {
   "cell_type": "code",
<<<<<<< Updated upstream
   "execution_count": 68,
   "metadata": {},
   "outputs": [
    {
     "name": "stdout",
     "output_type": "stream",
     "text": [
      "Epoch 1/100\n",
      "11/11 [==============================] - 2s 21ms/step - loss: 0.3150 - accuracy: 0.0456\n",
      "Epoch 2/100\n",
      "11/11 [==============================] - 0s 23ms/step - loss: 0.1866 - accuracy: 0.0114\n",
      "Epoch 3/100\n",
      "11/11 [==============================] - 0s 19ms/step - loss: 0.1705 - accuracy: 0.0114\n",
      "Epoch 4/100\n",
      "11/11 [==============================] - 0s 21ms/step - loss: 0.1658 - accuracy: 0.0057\n",
      "Epoch 5/100\n",
      "11/11 [==============================] - 0s 21ms/step - loss: 0.1674 - accuracy: 0.0028\n",
      "Epoch 6/100\n",
      "11/11 [==============================] - 0s 21ms/step - loss: 0.1630 - accuracy: 0.0085\n",
      "Epoch 7/100\n",
      "11/11 [==============================] - 0s 14ms/step - loss: 0.1650 - accuracy: 0.0114\n",
      "Epoch 8/100\n",
      "11/11 [==============================] - 0s 10ms/step - loss: 0.1611 - accuracy: 0.0057\n",
      "Epoch 9/100\n",
      "11/11 [==============================] - 0s 10ms/step - loss: 0.1620 - accuracy: 0.0171\n",
      "Epoch 10/100\n",
      "11/11 [==============================] - 0s 10ms/step - loss: 0.1628 - accuracy: 0.0085\n",
      "Epoch 11/100\n",
      "11/11 [==============================] - 0s 10ms/step - loss: 0.1588 - accuracy: 0.0057\n",
      "Epoch 12/100\n",
      "11/11 [==============================] - 0s 10ms/step - loss: 0.1591 - accuracy: 0.0228\n",
      "Epoch 13/100\n",
      "11/11 [==============================] - 0s 10ms/step - loss: 0.1638 - accuracy: 0.0057\n",
      "Epoch 14/100\n",
      "11/11 [==============================] - 0s 11ms/step - loss: 0.1602 - accuracy: 0.0142\n",
      "Epoch 15/100\n",
      "11/11 [==============================] - 0s 10ms/step - loss: 0.1543 - accuracy: 0.0085\n",
      "Epoch 16/100\n",
      "11/11 [==============================] - 0s 10ms/step - loss: 0.1548 - accuracy: 0.0085\n",
      "Epoch 17/100\n",
      "11/11 [==============================] - 0s 10ms/step - loss: 0.1612 - accuracy: 0.0085\n",
      "Epoch 18/100\n",
      "11/11 [==============================] - 0s 12ms/step - loss: 0.1574 - accuracy: 0.0085\n",
      "Epoch 19/100\n",
      "11/11 [==============================] - 0s 11ms/step - loss: 0.1602 - accuracy: 0.0000e+00\n",
      "Epoch 20/100\n",
      "11/11 [==============================] - 0s 10ms/step - loss: 0.1619 - accuracy: 0.0199\n",
      "Epoch 21/100\n",
      "11/11 [==============================] - 0s 10ms/step - loss: 0.1578 - accuracy: 0.0085\n",
      "Epoch 22/100\n",
      "11/11 [==============================] - 0s 10ms/step - loss: 0.1591 - accuracy: 0.0057\n",
      "Epoch 23/100\n",
      "11/11 [==============================] - 0s 10ms/step - loss: 0.1528 - accuracy: 0.0085\n",
      "Epoch 24/100\n",
      "11/11 [==============================] - 0s 10ms/step - loss: 0.1495 - accuracy: 0.0142\n",
      "Epoch 25/100\n",
      "11/11 [==============================] - 0s 10ms/step - loss: 0.1647 - accuracy: 0.0085\n",
      "Epoch 26/100\n",
      "11/11 [==============================] - 0s 10ms/step - loss: 0.1523 - accuracy: 0.0028\n",
      "Epoch 27/100\n",
      "11/11 [==============================] - 0s 10ms/step - loss: 0.1548 - accuracy: 0.0199\n",
      "Epoch 28/100\n",
      "11/11 [==============================] - 0s 10ms/step - loss: 0.1560 - accuracy: 0.0171\n",
      "Epoch 29/100\n",
      "11/11 [==============================] - 0s 10ms/step - loss: 0.1506 - accuracy: 0.0000e+00\n",
      "Epoch 30/100\n",
      "11/11 [==============================] - 0s 10ms/step - loss: 0.1476 - accuracy: 0.0228\n",
      "Epoch 31/100\n",
      "11/11 [==============================] - 0s 10ms/step - loss: 0.1433 - accuracy: 0.0085\n",
      "Epoch 32/100\n",
      "11/11 [==============================] - 0s 10ms/step - loss: 0.1456 - accuracy: 0.0114\n",
      "Epoch 33/100\n",
      "11/11 [==============================] - 0s 10ms/step - loss: 0.1459 - accuracy: 0.0171\n",
      "Epoch 34/100\n",
      "11/11 [==============================] - 0s 10ms/step - loss: 0.1479 - accuracy: 0.0142\n",
      "Epoch 35/100\n",
      "11/11 [==============================] - 0s 10ms/step - loss: 0.1480 - accuracy: 0.0028\n",
      "Epoch 36/100\n",
      "11/11 [==============================] - 0s 10ms/step - loss: 0.1443 - accuracy: 0.0085\n",
      "Epoch 37/100\n",
      "11/11 [==============================] - 0s 10ms/step - loss: 0.1410 - accuracy: 0.0256\n",
      "Epoch 38/100\n",
      "11/11 [==============================] - 0s 10ms/step - loss: 0.1369 - accuracy: 0.0085\n",
      "Epoch 39/100\n",
      "11/11 [==============================] - 0s 10ms/step - loss: 0.1515 - accuracy: 0.0142\n",
      "Epoch 40/100\n",
      "11/11 [==============================] - 0s 10ms/step - loss: 0.1443 - accuracy: 0.0142\n",
      "Epoch 41/100\n",
      "11/11 [==============================] - 0s 10ms/step - loss: 0.1422 - accuracy: 0.0114\n",
      "Epoch 42/100\n",
      "11/11 [==============================] - 0s 10ms/step - loss: 0.1434 - accuracy: 0.0028\n",
      "Epoch 43/100\n",
      "11/11 [==============================] - 0s 10ms/step - loss: 0.1421 - accuracy: 0.0085\n",
      "Epoch 44/100\n",
      "11/11 [==============================] - 0s 10ms/step - loss: 0.1337 - accuracy: 0.0228\n",
      "Epoch 45/100\n",
      "11/11 [==============================] - 0s 10ms/step - loss: 0.1385 - accuracy: 0.0228\n",
      "Epoch 46/100\n",
      "11/11 [==============================] - 0s 10ms/step - loss: 0.1360 - accuracy: 0.0199\n",
      "Epoch 47/100\n",
      "11/11 [==============================] - 0s 10ms/step - loss: 0.1238 - accuracy: 0.0114\n",
      "Epoch 48/100\n",
      "11/11 [==============================] - 0s 10ms/step - loss: 0.1302 - accuracy: 0.0171\n",
      "Epoch 49/100\n",
      "11/11 [==============================] - 0s 12ms/step - loss: 0.1198 - accuracy: 0.0171\n",
      "Epoch 50/100\n",
      "11/11 [==============================] - 0s 18ms/step - loss: 0.1182 - accuracy: 0.0114\n",
      "Epoch 51/100\n",
      "11/11 [==============================] - 0s 19ms/step - loss: 0.1240 - accuracy: 0.0313\n",
      "Epoch 52/100\n",
      "11/11 [==============================] - 0s 19ms/step - loss: 0.1251 - accuracy: 0.0171\n",
      "Epoch 53/100\n",
      "11/11 [==============================] - 0s 19ms/step - loss: 0.1233 - accuracy: 0.0057\n",
      "Epoch 54/100\n",
      "11/11 [==============================] - 0s 21ms/step - loss: 0.1171 - accuracy: 0.0085\n",
      "Epoch 55/100\n",
      "11/11 [==============================] - 0s 19ms/step - loss: 0.1122 - accuracy: 0.0427\n",
      "Epoch 56/100\n",
      "11/11 [==============================] - 0s 18ms/step - loss: 0.1148 - accuracy: 0.0171\n",
      "Epoch 57/100\n",
      "11/11 [==============================] - 0s 10ms/step - loss: 0.1119 - accuracy: 0.0313\n",
      "Epoch 58/100\n",
      "11/11 [==============================] - 0s 12ms/step - loss: 0.1125 - accuracy: 0.0142\n",
      "Epoch 59/100\n",
      "11/11 [==============================] - 0s 14ms/step - loss: 0.1165 - accuracy: 0.0142\n",
      "Epoch 60/100\n",
      "11/11 [==============================] - 0s 13ms/step - loss: 0.1152 - accuracy: 0.0142\n",
      "Epoch 61/100\n",
      "11/11 [==============================] - 0s 10ms/step - loss: 0.1089 - accuracy: 0.0342\n",
      "Epoch 62/100\n",
      "11/11 [==============================] - 0s 10ms/step - loss: 0.1162 - accuracy: 0.0057\n",
      "Epoch 63/100\n",
      "11/11 [==============================] - 0s 10ms/step - loss: 0.1159 - accuracy: 0.0142\n",
      "Epoch 64/100\n",
      "11/11 [==============================] - 0s 10ms/step - loss: 0.1174 - accuracy: 0.0228\n",
      "Epoch 65/100\n",
      "11/11 [==============================] - 0s 10ms/step - loss: 0.1200 - accuracy: 0.0114\n",
      "Epoch 66/100\n",
      "11/11 [==============================] - 0s 10ms/step - loss: 0.1145 - accuracy: 0.0085\n",
      "Epoch 67/100\n",
      "11/11 [==============================] - 0s 10ms/step - loss: 0.1101 - accuracy: 0.0114\n",
      "Epoch 68/100\n",
      "11/11 [==============================] - 0s 10ms/step - loss: 0.1089 - accuracy: 0.0057\n",
      "Epoch 69/100\n",
      "11/11 [==============================] - 0s 11ms/step - loss: 0.0954 - accuracy: 0.0028\n",
      "Epoch 70/100\n",
      "11/11 [==============================] - 0s 10ms/step - loss: 0.1022 - accuracy: 0.0114\n",
      "Epoch 71/100\n",
      "11/11 [==============================] - 0s 10ms/step - loss: 0.1038 - accuracy: 0.0028\n",
      "Epoch 72/100\n",
      "11/11 [==============================] - 0s 10ms/step - loss: 0.1253 - accuracy: 0.0085\n",
      "Epoch 73/100\n",
      "11/11 [==============================] - 0s 10ms/step - loss: 0.1053 - accuracy: 0.0057\n",
      "Epoch 74/100\n",
      "11/11 [==============================] - 0s 10ms/step - loss: 0.0998 - accuracy: 0.0142\n",
      "Epoch 75/100\n",
      "11/11 [==============================] - 0s 10ms/step - loss: 0.1025 - accuracy: 0.0142\n",
      "Epoch 76/100\n",
      "11/11 [==============================] - 0s 10ms/step - loss: 0.1097 - accuracy: 0.0171\n",
      "Epoch 77/100\n",
      "11/11 [==============================] - 0s 10ms/step - loss: 0.1014 - accuracy: 0.0199\n",
      "Epoch 78/100\n",
      "11/11 [==============================] - 0s 11ms/step - loss: 0.0949 - accuracy: 0.0171\n",
      "Epoch 79/100\n",
      "11/11 [==============================] - 0s 11ms/step - loss: 0.0988 - accuracy: 0.0199\n",
      "Epoch 80/100\n",
      "11/11 [==============================] - 0s 10ms/step - loss: 0.0944 - accuracy: 0.0114\n",
      "Epoch 81/100\n",
      "11/11 [==============================] - 0s 10ms/step - loss: 0.1028 - accuracy: 0.0142\n",
      "Epoch 82/100\n",
      "11/11 [==============================] - 0s 10ms/step - loss: 0.1014 - accuracy: 0.0085\n",
      "Epoch 83/100\n",
      "11/11 [==============================] - 0s 10ms/step - loss: 0.1025 - accuracy: 0.0142\n",
      "Epoch 84/100\n",
      "11/11 [==============================] - 0s 10ms/step - loss: 0.0972 - accuracy: 0.0370\n",
      "Epoch 85/100\n",
      "11/11 [==============================] - 0s 11ms/step - loss: 0.1060 - accuracy: 0.0228\n",
      "Epoch 86/100\n",
      "11/11 [==============================] - 0s 10ms/step - loss: 0.1023 - accuracy: 0.0114\n",
      "Epoch 87/100\n",
      "11/11 [==============================] - 0s 11ms/step - loss: 0.0972 - accuracy: 0.0228\n",
      "Epoch 88/100\n",
      "11/11 [==============================] - 0s 10ms/step - loss: 0.0919 - accuracy: 0.0228\n",
      "Epoch 89/100\n",
      "11/11 [==============================] - 0s 10ms/step - loss: 0.0884 - accuracy: 0.0285\n",
      "Epoch 90/100\n",
      "11/11 [==============================] - 0s 10ms/step - loss: 0.0904 - accuracy: 0.0228\n",
      "Epoch 91/100\n",
      "11/11 [==============================] - 0s 10ms/step - loss: 0.0901 - accuracy: 0.0057\n",
      "Epoch 92/100\n",
      "11/11 [==============================] - 0s 10ms/step - loss: 0.0808 - accuracy: 0.0142\n",
      "Epoch 93/100\n",
      "11/11 [==============================] - 0s 10ms/step - loss: 0.0899 - accuracy: 0.0057\n",
      "Epoch 94/100\n",
      "11/11 [==============================] - 0s 10ms/step - loss: 0.0854 - accuracy: 0.0000e+00\n",
      "Epoch 95/100\n",
      "11/11 [==============================] - 0s 10ms/step - loss: 0.0942 - accuracy: 0.0285\n",
      "Epoch 96/100\n",
      "11/11 [==============================] - 0s 10ms/step - loss: 0.1089 - accuracy: 0.0142\n",
      "Epoch 97/100\n",
      "11/11 [==============================] - 0s 10ms/step - loss: 0.1005 - accuracy: 0.0028\n",
      "Epoch 98/100\n",
      "11/11 [==============================] - 0s 10ms/step - loss: 0.0935 - accuracy: 0.0114\n",
      "Epoch 99/100\n",
      "11/11 [==============================] - 0s 10ms/step - loss: 0.0804 - accuracy: 0.0028\n",
      "Epoch 100/100\n",
      "11/11 [==============================] - 0s 10ms/step - loss: 0.1188 - accuracy: 0.0085\n"
     ]
    }
   ],
   "source": [
=======
   "execution_count": null,
   "metadata": {},
   "outputs": [
    {
     "data": {
      "text/plain": [
       "(2648,)"
      ]
     },
     "execution_count": 471,
     "metadata": {},
     "output_type": "execute_result"
    }
   ],
   "source": [
    "y_test_new=Y_test.max(axis=1)\n",
    "y_train_new=Y_train.max(axis=1)\n",
    "y_test_new.shape"
   ]
  },
  {
   "cell_type": "code",
   "execution_count": null,
   "metadata": {},
   "outputs": [
    {
     "name": "stdout",
     "output_type": "stream",
     "text": [
      "279.0 2369.0\n"
     ]
    }
   ],
   "source": [
    "print(y_test_new.sum(), (y_test_new.shape[0] - y_test_new.sum() ))"
   ]
  },
  {
   "cell_type": "code",
   "execution_count": null,
   "metadata": {},
   "outputs": [
    {
     "data": {
      "text/plain": [
       "(2648,)"
      ]
     },
     "execution_count": 473,
     "metadata": {},
     "output_type": "execute_result"
    }
   ],
   "source": [
    "y_test_new.shape"
   ]
  },
  {
   "cell_type": "code",
   "execution_count": null,
   "metadata": {},
   "outputs": [
    {
     "data": {
      "text/plain": [
       "(30, 60)"
      ]
     },
     "execution_count": 474,
     "metadata": {},
     "output_type": "execute_result"
    }
   ],
   "source": [
    "shape=X_train.shape[1:]\n",
    "shape"
   ]
  },
  {
   "cell_type": "code",
   "execution_count": null,
   "metadata": {},
   "outputs": [],
   "source": [
>>>>>>> Stashed changes
    "from keras.models import Sequential\n",
    "from keras.layers import LSTM, Dense, Dropout, Input\n",
    "from keras.initializers import GlorotUniform\n",
    "\n",
    "initializer = GlorotUniform()  # You can choose different initializers\n",
    "\n",
    "model = Sequential()\n",
    "\n",
    "# model.add(Input(shape=X_train.shape[1:]), kernel_initializer=initializer)\n",
    "model.add(LSTM(units=50, input_shape=X_train.shape[1:], kernel_initializer=initializer, return_sequences=False, \n",
    "               dropout=0.1, recurrent_dropout=0.1))\n",
    "\n",
    "# # Recurrent layer\n",
    "# model.add(LSTM(64, return_sequences=False, \n",
    "#                dropout=0.1, recurrent_dropout=0.1))\n",
    "\n",
    "# Fully connected layer\n",
    "model.add(Dense(128, activation='relu'))\n",
    "model.add(Dense(128, activation='relu'))\n",
    "# model.add(Dense(64, activation='relu'))\n",
    "\n",
    "# Dropout for regularization\n",
    "model.add(Dropout(0.2))\n",
    "\n",
    "# Output layer\n",
    "# model.add(Dense(1, activation='sigmoid'))\n",
    "model.add(Dense(y_train.shape[1], activation='sigmoid'))\n",
    "# model.add(Dense(1, activation='softmax'))\n",
    "\n",
    "\n",
    "# Compile the model\n",
    "from tensorflow.keras.optimizers import Adam\n",
    "\n",
    "learning_rate = 0.01\n",
    "adam_optimizer = Adam(learning_rate=learning_rate, clipvalue=2.0)\n",
    "\n",
    "model.compile(\n",
<<<<<<< Updated upstream
    "    optimizer=adam_optimizer, loss='binary_crossentropy', metrics=['accuracy'])\n",
=======
    "    optimizer=optimizer, loss='binary_crossentropy', metrics=['accuracy'])"
   ]
  },
  {
   "cell_type": "code",
   "execution_count": null,
   "metadata": {},
   "outputs": [],
   "source": [
    "# from keras.callbacks import EarlyStopping, ModelCheckpoint\n",
>>>>>>> Stashed changes
    "\n",
    "history = model.fit(X_train, y_train, epochs=100)\n",
    "# history = model.fit(X_train, y_train_1d, epochs=10)"
   ]
  },
  {
   "cell_type": "code",
<<<<<<< Updated upstream
   "execution_count": 55,
=======
   "execution_count": null,
   "metadata": {},
   "outputs": [],
   "source": [
    "import numpy as np\n",
    "import tensorflow as tf\n",
    "from sklearn.utils.class_weight import compute_class_weight\n",
    "\n",
    "class_labels, class_counts = np.unique(y_train_new, return_counts=True)\n",
    "total_samples = len(y_train_new)\n",
    "class_weights = total_samples / (len(class_labels) * class_counts)\n",
    "\n",
    "# Convert class weights to a dictionary\n",
    "class_weight_dict = dict(zip(class_labels, class_weights))\n"
   ]
  },
  {
   "cell_type": "markdown",
   "metadata": {},
   "source": []
  },
  {
   "cell_type": "code",
   "execution_count": null,
   "metadata": {},
   "outputs": [
    {
     "data": {
      "text/plain": [
       "{0.0: 0.5644456289978678, 1.0: 4.379239040529363}"
      ]
     },
     "execution_count": 478,
     "metadata": {},
     "output_type": "execute_result"
    }
   ],
   "source": [
    "class_weight_dict"
   ]
  },
  {
   "cell_type": "code",
   "execution_count": null,
>>>>>>> Stashed changes
   "metadata": {},
   "outputs": [
    {
     "name": "stdout",
     "output_type": "stream",
     "text": [
<<<<<<< Updated upstream
      "WARNING:tensorflow:5 out of the last 13 calls to <function Model.make_predict_function.<locals>.predict_function at 0x7fa03ff1fe20> triggered tf.function retracing. Tracing is expensive and the excessive number of tracings could be due to (1) creating @tf.function repeatedly in a loop, (2) passing tensors with different shapes, (3) passing Python objects instead of tensors. For (1), please define your @tf.function outside of the loop. For (2), @tf.function has reduce_retracing=True option that can avoid unnecessary retracing. For (3), please refer to https://www.tensorflow.org/guide/function#controlling_retracing and https://www.tensorflow.org/api_docs/python/tf/function for  more details.\n",
      "3/3 [==============================] - 0s 6ms/step\n"
=======
      "Epoch 1/200\n"
     ]
    },
    {
     "name": "stdout",
     "output_type": "stream",
     "text": [
      "85/85 [==============================] - 3s 17ms/step - loss: 0.5241 - accuracy: 0.6726 - val_loss: 0.4731 - val_accuracy: 0.8683\n",
      "Epoch 2/200\n",
      "85/85 [==============================] - 1s 12ms/step - loss: 0.2864 - accuracy: 0.8567 - val_loss: 0.3851 - val_accuracy: 0.8683\n",
      "Epoch 3/200\n",
      "85/85 [==============================] - 1s 12ms/step - loss: 0.1457 - accuracy: 0.9477 - val_loss: 0.4566 - val_accuracy: 0.8683\n",
      "Epoch 4/200\n",
      "85/85 [==============================] - 1s 11ms/step - loss: 0.0841 - accuracy: 0.9734 - val_loss: 0.4844 - val_accuracy: 0.8683\n",
      "Epoch 5/200\n",
      "85/85 [==============================] - ETA: 0s - loss: 0.0606 - accuracy: 0.9803"
     ]
    },
    {
     "ename": "KeyboardInterrupt",
     "evalue": "",
     "output_type": "error",
     "traceback": [
      "\u001b[0;31m---------------------------------------------------------------------------\u001b[0m",
      "\u001b[0;31mKeyboardInterrupt\u001b[0m                         Traceback (most recent call last)",
      "\u001b[1;32m/home/weasel/reps/ai-seizure-detectives/model_rnn.ipynb Cell 28\u001b[0m line \u001b[0;36m2\n\u001b[1;32m      <a href='vscode-notebook-cell://wsl%2Bdebian/home/weasel/reps/ai-seizure-detectives/model_rnn.ipynb#X25sdnNjb2RlLXJlbW90ZQ%3D%3D?line=0'>1</a>\u001b[0m \u001b[39m## look at validation batch ?\u001b[39;00m\n\u001b[0;32m----> <a href='vscode-notebook-cell://wsl%2Bdebian/home/weasel/reps/ai-seizure-detectives/model_rnn.ipynb#X25sdnNjb2RlLXJlbW90ZQ%3D%3D?line=1'>2</a>\u001b[0m history \u001b[39m=\u001b[39m model\u001b[39m.\u001b[39;49mfit(X_train,  y_train_new, \n\u001b[1;32m      <a href='vscode-notebook-cell://wsl%2Bdebian/home/weasel/reps/ai-seizure-detectives/model_rnn.ipynb#X25sdnNjb2RlLXJlbW90ZQ%3D%3D?line=2'>3</a>\u001b[0m                     batch_size\u001b[39m=\u001b[39;49m\u001b[39m100\u001b[39;49m, class_weight\u001b[39m=\u001b[39;49mclass_weight_dict,\n\u001b[1;32m      <a href='vscode-notebook-cell://wsl%2Bdebian/home/weasel/reps/ai-seizure-detectives/model_rnn.ipynb#X25sdnNjb2RlLXJlbW90ZQ%3D%3D?line=3'>4</a>\u001b[0m                     shuffle\u001b[39m=\u001b[39;49m\u001b[39mTrue\u001b[39;49;00m,\n\u001b[1;32m      <a href='vscode-notebook-cell://wsl%2Bdebian/home/weasel/reps/ai-seizure-detectives/model_rnn.ipynb#X25sdnNjb2RlLXJlbW90ZQ%3D%3D?line=4'>5</a>\u001b[0m                     epochs\u001b[39m=\u001b[39;49m\u001b[39m200\u001b[39;49m,\n\u001b[1;32m      <a href='vscode-notebook-cell://wsl%2Bdebian/home/weasel/reps/ai-seizure-detectives/model_rnn.ipynb#X25sdnNjb2RlLXJlbW90ZQ%3D%3D?line=5'>6</a>\u001b[0m                     validation_split \u001b[39m=\u001b[39;49m \u001b[39m0.2\u001b[39;49m)\n",
      "File \u001b[0;32m~/reps/ai-seizure-detectives/.venv/lib/python3.11/site-packages/keras/src/utils/traceback_utils.py:65\u001b[0m, in \u001b[0;36mfilter_traceback.<locals>.error_handler\u001b[0;34m(*args, **kwargs)\u001b[0m\n\u001b[1;32m     63\u001b[0m filtered_tb \u001b[39m=\u001b[39m \u001b[39mNone\u001b[39;00m\n\u001b[1;32m     64\u001b[0m \u001b[39mtry\u001b[39;00m:\n\u001b[0;32m---> 65\u001b[0m     \u001b[39mreturn\u001b[39;00m fn(\u001b[39m*\u001b[39;49margs, \u001b[39m*\u001b[39;49m\u001b[39m*\u001b[39;49mkwargs)\n\u001b[1;32m     66\u001b[0m \u001b[39mexcept\u001b[39;00m \u001b[39mException\u001b[39;00m \u001b[39mas\u001b[39;00m e:\n\u001b[1;32m     67\u001b[0m     filtered_tb \u001b[39m=\u001b[39m _process_traceback_frames(e\u001b[39m.\u001b[39m__traceback__)\n",
      "File \u001b[0;32m~/reps/ai-seizure-detectives/.venv/lib/python3.11/site-packages/keras/src/engine/training.py:1832\u001b[0m, in \u001b[0;36mModel.fit\u001b[0;34m(self, x, y, batch_size, epochs, verbose, callbacks, validation_split, validation_data, shuffle, class_weight, sample_weight, initial_epoch, steps_per_epoch, validation_steps, validation_batch_size, validation_freq, max_queue_size, workers, use_multiprocessing)\u001b[0m\n\u001b[1;32m   1816\u001b[0m \u001b[39mif\u001b[39;00m \u001b[39mgetattr\u001b[39m(\u001b[39mself\u001b[39m, \u001b[39m\"\u001b[39m\u001b[39m_eval_data_handler\u001b[39m\u001b[39m\"\u001b[39m, \u001b[39mNone\u001b[39;00m) \u001b[39mis\u001b[39;00m \u001b[39mNone\u001b[39;00m:\n\u001b[1;32m   1817\u001b[0m     \u001b[39mself\u001b[39m\u001b[39m.\u001b[39m_eval_data_handler \u001b[39m=\u001b[39m data_adapter\u001b[39m.\u001b[39mget_data_handler(\n\u001b[1;32m   1818\u001b[0m         x\u001b[39m=\u001b[39mval_x,\n\u001b[1;32m   1819\u001b[0m         y\u001b[39m=\u001b[39mval_y,\n\u001b[0;32m   (...)\u001b[0m\n\u001b[1;32m   1830\u001b[0m         pss_evaluation_shards\u001b[39m=\u001b[39m\u001b[39mself\u001b[39m\u001b[39m.\u001b[39m_pss_evaluation_shards,\n\u001b[1;32m   1831\u001b[0m     )\n\u001b[0;32m-> 1832\u001b[0m val_logs \u001b[39m=\u001b[39m \u001b[39mself\u001b[39;49m\u001b[39m.\u001b[39;49mevaluate(\n\u001b[1;32m   1833\u001b[0m     x\u001b[39m=\u001b[39;49mval_x,\n\u001b[1;32m   1834\u001b[0m     y\u001b[39m=\u001b[39;49mval_y,\n\u001b[1;32m   1835\u001b[0m     sample_weight\u001b[39m=\u001b[39;49mval_sample_weight,\n\u001b[1;32m   1836\u001b[0m     batch_size\u001b[39m=\u001b[39;49mvalidation_batch_size \u001b[39mor\u001b[39;49;00m batch_size,\n\u001b[1;32m   1837\u001b[0m     steps\u001b[39m=\u001b[39;49mvalidation_steps,\n\u001b[1;32m   1838\u001b[0m     callbacks\u001b[39m=\u001b[39;49mcallbacks,\n\u001b[1;32m   1839\u001b[0m     max_queue_size\u001b[39m=\u001b[39;49mmax_queue_size,\n\u001b[1;32m   1840\u001b[0m     workers\u001b[39m=\u001b[39;49mworkers,\n\u001b[1;32m   1841\u001b[0m     use_multiprocessing\u001b[39m=\u001b[39;49muse_multiprocessing,\n\u001b[1;32m   1842\u001b[0m     return_dict\u001b[39m=\u001b[39;49m\u001b[39mTrue\u001b[39;49;00m,\n\u001b[1;32m   1843\u001b[0m     _use_cached_eval_dataset\u001b[39m=\u001b[39;49m\u001b[39mTrue\u001b[39;49;00m,\n\u001b[1;32m   1844\u001b[0m )\n\u001b[1;32m   1845\u001b[0m val_logs \u001b[39m=\u001b[39m {\n\u001b[1;32m   1846\u001b[0m     \u001b[39m\"\u001b[39m\u001b[39mval_\u001b[39m\u001b[39m\"\u001b[39m \u001b[39m+\u001b[39m name: val \u001b[39mfor\u001b[39;00m name, val \u001b[39min\u001b[39;00m val_logs\u001b[39m.\u001b[39mitems()\n\u001b[1;32m   1847\u001b[0m }\n\u001b[1;32m   1848\u001b[0m epoch_logs\u001b[39m.\u001b[39mupdate(val_logs)\n",
      "File \u001b[0;32m~/reps/ai-seizure-detectives/.venv/lib/python3.11/site-packages/keras/src/utils/traceback_utils.py:65\u001b[0m, in \u001b[0;36mfilter_traceback.<locals>.error_handler\u001b[0;34m(*args, **kwargs)\u001b[0m\n\u001b[1;32m     63\u001b[0m filtered_tb \u001b[39m=\u001b[39m \u001b[39mNone\u001b[39;00m\n\u001b[1;32m     64\u001b[0m \u001b[39mtry\u001b[39;00m:\n\u001b[0;32m---> 65\u001b[0m     \u001b[39mreturn\u001b[39;00m fn(\u001b[39m*\u001b[39;49margs, \u001b[39m*\u001b[39;49m\u001b[39m*\u001b[39;49mkwargs)\n\u001b[1;32m     66\u001b[0m \u001b[39mexcept\u001b[39;00m \u001b[39mException\u001b[39;00m \u001b[39mas\u001b[39;00m e:\n\u001b[1;32m     67\u001b[0m     filtered_tb \u001b[39m=\u001b[39m _process_traceback_frames(e\u001b[39m.\u001b[39m__traceback__)\n",
      "File \u001b[0;32m~/reps/ai-seizure-detectives/.venv/lib/python3.11/site-packages/keras/src/engine/training.py:2272\u001b[0m, in \u001b[0;36mModel.evaluate\u001b[0;34m(self, x, y, batch_size, verbose, sample_weight, steps, callbacks, max_queue_size, workers, use_multiprocessing, return_dict, **kwargs)\u001b[0m\n\u001b[1;32m   2268\u001b[0m             \u001b[39mwith\u001b[39;00m tf\u001b[39m.\u001b[39mprofiler\u001b[39m.\u001b[39mexperimental\u001b[39m.\u001b[39mTrace(\n\u001b[1;32m   2269\u001b[0m                 \u001b[39m\"\u001b[39m\u001b[39mtest\u001b[39m\u001b[39m\"\u001b[39m, step_num\u001b[39m=\u001b[39mstep, _r\u001b[39m=\u001b[39m\u001b[39m1\u001b[39m\n\u001b[1;32m   2270\u001b[0m             ):\n\u001b[1;32m   2271\u001b[0m                 callbacks\u001b[39m.\u001b[39mon_test_batch_begin(step)\n\u001b[0;32m-> 2272\u001b[0m                 logs \u001b[39m=\u001b[39m test_function_runner\u001b[39m.\u001b[39;49mrun_step(\n\u001b[1;32m   2273\u001b[0m                     dataset_or_iterator,\n\u001b[1;32m   2274\u001b[0m                     data_handler,\n\u001b[1;32m   2275\u001b[0m                     step,\n\u001b[1;32m   2276\u001b[0m                     \u001b[39mself\u001b[39;49m\u001b[39m.\u001b[39;49m_pss_evaluation_shards,\n\u001b[1;32m   2277\u001b[0m                 )\n\u001b[1;32m   2279\u001b[0m logs \u001b[39m=\u001b[39m tf_utils\u001b[39m.\u001b[39msync_to_numpy_or_python_type(logs)\n\u001b[1;32m   2280\u001b[0m \u001b[39m# Override with model metrics instead of last step logs\u001b[39;00m\n",
      "File \u001b[0;32m~/reps/ai-seizure-detectives/.venv/lib/python3.11/site-packages/keras/src/engine/training.py:4079\u001b[0m, in \u001b[0;36m_TestFunction.run_step\u001b[0;34m(self, dataset_or_iterator, data_handler, step, unused_shards)\u001b[0m\n\u001b[1;32m   4078\u001b[0m \u001b[39mdef\u001b[39;00m \u001b[39mrun_step\u001b[39m(\u001b[39mself\u001b[39m, dataset_or_iterator, data_handler, step, unused_shards):\n\u001b[0;32m-> 4079\u001b[0m     tmp_logs \u001b[39m=\u001b[39m \u001b[39mself\u001b[39;49m\u001b[39m.\u001b[39;49m_function(dataset_or_iterator)\n\u001b[1;32m   4080\u001b[0m     \u001b[39mif\u001b[39;00m data_handler\u001b[39m.\u001b[39mshould_sync:\n\u001b[1;32m   4081\u001b[0m         context\u001b[39m.\u001b[39masync_wait()\n",
      "File \u001b[0;32m~/reps/ai-seizure-detectives/.venv/lib/python3.11/site-packages/tensorflow/python/util/traceback_utils.py:150\u001b[0m, in \u001b[0;36mfilter_traceback.<locals>.error_handler\u001b[0;34m(*args, **kwargs)\u001b[0m\n\u001b[1;32m    148\u001b[0m filtered_tb \u001b[39m=\u001b[39m \u001b[39mNone\u001b[39;00m\n\u001b[1;32m    149\u001b[0m \u001b[39mtry\u001b[39;00m:\n\u001b[0;32m--> 150\u001b[0m   \u001b[39mreturn\u001b[39;00m fn(\u001b[39m*\u001b[39;49margs, \u001b[39m*\u001b[39;49m\u001b[39m*\u001b[39;49mkwargs)\n\u001b[1;32m    151\u001b[0m \u001b[39mexcept\u001b[39;00m \u001b[39mException\u001b[39;00m \u001b[39mas\u001b[39;00m e:\n\u001b[1;32m    152\u001b[0m   filtered_tb \u001b[39m=\u001b[39m _process_traceback_frames(e\u001b[39m.\u001b[39m__traceback__)\n",
      "File \u001b[0;32m~/reps/ai-seizure-detectives/.venv/lib/python3.11/site-packages/tensorflow/python/eager/polymorphic_function/polymorphic_function.py:831\u001b[0m, in \u001b[0;36mFunction.__call__\u001b[0;34m(self, *args, **kwds)\u001b[0m\n\u001b[1;32m    828\u001b[0m compiler \u001b[39m=\u001b[39m \u001b[39m\"\u001b[39m\u001b[39mxla\u001b[39m\u001b[39m\"\u001b[39m \u001b[39mif\u001b[39;00m \u001b[39mself\u001b[39m\u001b[39m.\u001b[39m_jit_compile \u001b[39melse\u001b[39;00m \u001b[39m\"\u001b[39m\u001b[39mnonXla\u001b[39m\u001b[39m\"\u001b[39m\n\u001b[1;32m    830\u001b[0m \u001b[39mwith\u001b[39;00m OptionalXlaContext(\u001b[39mself\u001b[39m\u001b[39m.\u001b[39m_jit_compile):\n\u001b[0;32m--> 831\u001b[0m   result \u001b[39m=\u001b[39m \u001b[39mself\u001b[39;49m\u001b[39m.\u001b[39;49m_call(\u001b[39m*\u001b[39;49margs, \u001b[39m*\u001b[39;49m\u001b[39m*\u001b[39;49mkwds)\n\u001b[1;32m    833\u001b[0m new_tracing_count \u001b[39m=\u001b[39m \u001b[39mself\u001b[39m\u001b[39m.\u001b[39mexperimental_get_tracing_count()\n\u001b[1;32m    834\u001b[0m without_tracing \u001b[39m=\u001b[39m (tracing_count \u001b[39m==\u001b[39m new_tracing_count)\n",
      "File \u001b[0;32m~/reps/ai-seizure-detectives/.venv/lib/python3.11/site-packages/tensorflow/python/eager/polymorphic_function/polymorphic_function.py:876\u001b[0m, in \u001b[0;36mFunction._call\u001b[0;34m(self, *args, **kwds)\u001b[0m\n\u001b[1;32m    873\u001b[0m \u001b[39mself\u001b[39m\u001b[39m.\u001b[39m_lock\u001b[39m.\u001b[39mrelease()\n\u001b[1;32m    874\u001b[0m \u001b[39m# In this case we have not created variables on the first call. So we can\u001b[39;00m\n\u001b[1;32m    875\u001b[0m \u001b[39m# run the first trace but we should fail if variables are created.\u001b[39;00m\n\u001b[0;32m--> 876\u001b[0m results \u001b[39m=\u001b[39m tracing_compilation\u001b[39m.\u001b[39;49mcall_function(\n\u001b[1;32m    877\u001b[0m     args, kwds, \u001b[39mself\u001b[39;49m\u001b[39m.\u001b[39;49m_variable_creation_config\n\u001b[1;32m    878\u001b[0m )\n\u001b[1;32m    879\u001b[0m \u001b[39mif\u001b[39;00m \u001b[39mself\u001b[39m\u001b[39m.\u001b[39m_created_variables:\n\u001b[1;32m    880\u001b[0m   \u001b[39mraise\u001b[39;00m \u001b[39mValueError\u001b[39;00m(\u001b[39m\"\u001b[39m\u001b[39mCreating variables on a non-first call to a function\u001b[39m\u001b[39m\"\u001b[39m\n\u001b[1;32m    881\u001b[0m                    \u001b[39m\"\u001b[39m\u001b[39m decorated with tf.function.\u001b[39m\u001b[39m\"\u001b[39m)\n",
      "File \u001b[0;32m~/reps/ai-seizure-detectives/.venv/lib/python3.11/site-packages/tensorflow/python/eager/polymorphic_function/tracing_compilation.py:139\u001b[0m, in \u001b[0;36mcall_function\u001b[0;34m(args, kwargs, tracing_options)\u001b[0m\n\u001b[1;32m    137\u001b[0m bound_args \u001b[39m=\u001b[39m function\u001b[39m.\u001b[39mfunction_type\u001b[39m.\u001b[39mbind(\u001b[39m*\u001b[39margs, \u001b[39m*\u001b[39m\u001b[39m*\u001b[39mkwargs)\n\u001b[1;32m    138\u001b[0m flat_inputs \u001b[39m=\u001b[39m function\u001b[39m.\u001b[39mfunction_type\u001b[39m.\u001b[39munpack_inputs(bound_args)\n\u001b[0;32m--> 139\u001b[0m \u001b[39mreturn\u001b[39;00m function\u001b[39m.\u001b[39;49m_call_flat(  \u001b[39m# pylint: disable=protected-access\u001b[39;49;00m\n\u001b[1;32m    140\u001b[0m     flat_inputs, captured_inputs\u001b[39m=\u001b[39;49mfunction\u001b[39m.\u001b[39;49mcaptured_inputs\n\u001b[1;32m    141\u001b[0m )\n",
      "File \u001b[0;32m~/reps/ai-seizure-detectives/.venv/lib/python3.11/site-packages/tensorflow/python/eager/polymorphic_function/concrete_function.py:1260\u001b[0m, in \u001b[0;36mConcreteFunction._call_flat\u001b[0;34m(self, tensor_inputs, captured_inputs)\u001b[0m\n\u001b[1;32m   1251\u001b[0m       \u001b[39mraise\u001b[39;00m \u001b[39mValueError\u001b[39;00m(\n\u001b[1;32m   1252\u001b[0m           \u001b[39mf\u001b[39m\u001b[39m\"\u001b[39m\u001b[39mTensor \u001b[39m\u001b[39m{\u001b[39;00mtensor_input\u001b[39m}\u001b[39;00m\u001b[39m is not compatible with the shape this \u001b[39m\u001b[39m\"\u001b[39m\n\u001b[1;32m   1253\u001b[0m           \u001b[39mf\u001b[39m\u001b[39m\"\u001b[39m\u001b[39mfunction was traced with. Expected shape \u001b[39m\u001b[39m\"\u001b[39m\n\u001b[0;32m   (...)\u001b[0m\n\u001b[1;32m   1256\u001b[0m           \u001b[39mf\u001b[39m\u001b[39m\"\u001b[39m\u001b[39myou may need to pass a tf.TensorSpec(..., shape=...) with a \u001b[39m\u001b[39m\"\u001b[39m\n\u001b[1;32m   1257\u001b[0m           \u001b[39mf\u001b[39m\u001b[39m\"\u001b[39m\u001b[39mless specific shape, having None on axes which can vary.\u001b[39m\u001b[39m\"\u001b[39m)\n\u001b[1;32m   1259\u001b[0m args \u001b[39m=\u001b[39m tensor_inputs \u001b[39m+\u001b[39m captured_inputs\n\u001b[0;32m-> 1260\u001b[0m possible_gradient_type \u001b[39m=\u001b[39m gradients_util\u001b[39m.\u001b[39;49mPossibleTapeGradientTypes(args)\n\u001b[1;32m   1261\u001b[0m \u001b[39mif\u001b[39;00m (possible_gradient_type \u001b[39m==\u001b[39m gradients_util\u001b[39m.\u001b[39mPOSSIBLE_GRADIENT_TYPES_NONE\n\u001b[1;32m   1262\u001b[0m     \u001b[39mand\u001b[39;00m executing_eagerly):\n\u001b[1;32m   1263\u001b[0m   \u001b[39m# No tape is watching; skip to running the function.\u001b[39;00m\n\u001b[1;32m   1264\u001b[0m   \u001b[39mreturn\u001b[39;00m \u001b[39mself\u001b[39m\u001b[39m.\u001b[39m_inference_function\u001b[39m.\u001b[39mflat_call(args)\n",
      "File \u001b[0;32m~/reps/ai-seizure-detectives/.venv/lib/python3.11/site-packages/tensorflow/python/ops/gradients_util.py:1066\u001b[0m, in \u001b[0;36mPossibleTapeGradientTypes\u001b[0;34m(tensors)\u001b[0m\n\u001b[1;32m   1062\u001b[0m POSSIBLE_GRADIENT_TYPES_FIRST_ORDER \u001b[39m=\u001b[39m \u001b[39m1\u001b[39m\n\u001b[1;32m   1063\u001b[0m POSSIBLE_GRADIENT_TYPES_HIGHER_ORDER \u001b[39m=\u001b[39m \u001b[39m2\u001b[39m\n\u001b[0;32m-> 1066\u001b[0m \u001b[39mdef\u001b[39;00m \u001b[39mPossibleTapeGradientTypes\u001b[39m(tensors):\n\u001b[1;32m   1067\u001b[0m \u001b[39m  \u001b[39m\u001b[39m\"\"\"Determines whether and how `args` may require tape gradients.\"\"\"\u001b[39;00m\n\u001b[1;32m   1068\u001b[0m   \u001b[39mreturn\u001b[39;00m pywrap_tfe\u001b[39m.\u001b[39mTFE_Py_TapeSetPossibleGradientTypes(tensors)\n",
      "\u001b[0;31mKeyboardInterrupt\u001b[0m: "
     ]
    }
   ],
   "source": [
    "## look at validation batch ?\n",
    "history = model.fit(X_train,  y_train_new, \n",
    "                    batch_size=100, class_weight=class_weight_dict,\n",
    "                    shuffle=True,\n",
    "                    epochs=200,\n",
    "                    validation_split = 0.2)"
   ]
  },
  {
   "cell_type": "code",
   "execution_count": null,
   "metadata": {},
   "outputs": [],
   "source": [
    "def plot_accuracy(history):\n",
    "    plt.plot(history.history['accuracy'], label='accuracy')\n",
    "    plt.plot(history.history['val_accuracy'], label='val_accuracy')\n",
    "    #plt.ylim([0, 10])\n",
    "    plt.xlabel('Epoch')\n",
    "    plt.ylabel('Error ')\n",
    "    plt.legend()\n",
    "    plt.grid(True)"
   ]
  },
  {
   "cell_type": "code",
   "execution_count": null,
   "metadata": {},
   "outputs": [
    {
     "data": {
      "image/png": "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",
      "text/plain": [
       "<Figure size 640x480 with 1 Axes>"
      ]
     },
     "metadata": {},
     "output_type": "display_data"
    }
   ],
   "source": [
    "plot_accuracy(history)"
   ]
  },
  {
   "cell_type": "code",
   "execution_count": null,
   "metadata": {},
   "outputs": [],
   "source": [
    "def plot_loss(history):\n",
    "    plt.plot(history.history['loss'], label='loss')\n",
    "    plt.plot(history.history['val_loss'], label='val_loss')\n",
    "    #plt.ylim([0, 10])\n",
    "    plt.xlabel('Epoch')\n",
    "    plt.ylabel('Error ')\n",
    "    plt.legend()\n",
    "    plt.grid(True)"
   ]
  },
  {
   "cell_type": "code",
   "execution_count": null,
   "metadata": {},
   "outputs": [
    {
     "data": {
      "image/png": "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",
      "text/plain": [
       "<Figure size 640x480 with 1 Axes>"
      ]
     },
     "metadata": {},
     "output_type": "display_data"
    }
   ],
   "source": [
    "plot_loss(history)"
   ]
  },
  {
   "cell_type": "code",
   "execution_count": null,
   "metadata": {},
   "outputs": [
    {
     "data": {
      "text/plain": [
       "[1.424889087677002, 0.8387462496757507]"
      ]
     },
     "execution_count": 378,
     "metadata": {},
     "output_type": "execute_result"
    }
   ],
   "source": [
    "model.evaluate(\n",
    "    X_test,\n",
    "    y_test_new, verbose=0)"
   ]
  },
  {
   "cell_type": "code",
   "execution_count": null,
   "metadata": {},
   "outputs": [
    {
     "name": "stdout",
     "output_type": "stream",
     "text": [
      "83/83 - 0s - loss: 1.4249 - accuracy: 0.8387 - 185ms/epoch - 2ms/step\n",
      "Model accuracy: 0.8387462496757507\n"
     ]
    }
   ],
   "source": [
    "loss, accuracy = model.evaluate(X_test, y_test_new, verbose=2)\n",
    "print(f'Model accuracy: {accuracy}')"
   ]
  },
  {
   "cell_type": "code",
   "execution_count": null,
   "metadata": {},
   "outputs": [
    {
     "data": {
      "text/plain": [
       "(2648,)"
      ]
     },
     "execution_count": 380,
     "metadata": {},
     "output_type": "execute_result"
    }
   ],
   "source": [
    "y_test_new.shape"
   ]
  },
  {
   "cell_type": "code",
   "execution_count": null,
   "metadata": {},
   "outputs": [
    {
     "name": "stdout",
     "output_type": "stream",
     "text": [
      "331/331 [==============================] - 1s 2ms/step\n"
>>>>>>> Stashed changes
     ]
    },
    {
     "data": {
      "text/plain": [
<<<<<<< Updated upstream
       "array([[1.7863083e-04, 1.3197993e-04, 1.8590198e-04, ..., 1.3677372e-01,\n",
       "        1.4174931e-01, 1.2889439e-01],\n",
       "       [7.9300014e-05, 6.6943401e-05, 7.6219192e-05, ..., 8.2118884e-02,\n",
       "        8.4770575e-02, 7.7015303e-02],\n",
       "       [1.9917441e-04, 1.4472184e-04, 2.0759609e-04, ..., 1.4762381e-01,\n",
       "        1.5291797e-01, 1.3967624e-01],\n",
       "       ...,\n",
       "       [2.5302777e-04, 1.7230930e-04, 2.6828915e-04, ..., 1.9311816e-01,\n",
       "        2.0029886e-01, 1.8665610e-01],\n",
       "       [6.7393562e-06, 7.2500316e-06, 8.1746757e-06, ..., 4.8165027e-02,\n",
       "        4.6492904e-02, 5.3448688e-02],\n",
       "       [3.7300380e-04, 2.0142183e-04, 4.1773627e-04, ..., 4.6721911e-01,\n",
       "        4.5345420e-01, 4.6927902e-01]], dtype=float32)"
      ]
     },
     "execution_count": 55,
=======
       "array([[8.41001736e-07],\n",
       "       [2.94252089e-07],\n",
       "       [2.27488044e-06],\n",
       "       ...,\n",
       "       [1.07153406e-04],\n",
       "       [1.04192863e-04],\n",
       "       [4.87201105e-05]], dtype=float32)"
      ]
     },
     "execution_count": 381,
     "metadata": {},
     "output_type": "execute_result"
    }
   ],
   "source": [
    "y_pred_train = model.predict(X_train)\n",
    "y_pred_train"
   ]
  },
  {
   "cell_type": "code",
   "execution_count": null,
   "metadata": {},
   "outputs": [
    {
     "data": {
      "text/plain": [
       "[<matplotlib.lines.Line2D at 0x7f04453ce410>]"
      ]
     },
     "execution_count": 412,
     "metadata": {},
     "output_type": "execute_result"
    },
    {
     "data": {
      "image/png": "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",
      "text/plain": [
       "<Figure size 1500x1000 with 1 Axes>"
      ]
     },
     "metadata": {},
     "output_type": "display_data"
    }
   ],
   "source": [
    "plt.figure(figsize=(15,10))  # Adjust the width and height as needed\n",
    "plt.plot(y_pred_train[:200], 'blue')\n",
    "plt.plot(y_test_new[:200], 'orange')\n"
   ]
  },
  {
   "cell_type": "code",
   "execution_count": null,
   "metadata": {},
   "outputs": [
    {
     "name": "stdout",
     "output_type": "stream",
     "text": [
      "83/83 [==============================] - 0s 2ms/step\n"
     ]
    },
    {
     "data": {
      "text/plain": [
       "array([[1.4334060e-05],\n",
       "       [1.3627771e-04],\n",
       "       [8.3265295e-05],\n",
       "       ...,\n",
       "       [8.9983409e-08],\n",
       "       [2.8896224e-07],\n",
       "       [2.4710503e-06]], dtype=float32)"
      ]
     },
     "execution_count": 383,
>>>>>>> Stashed changes
     "metadata": {},
     "output_type": "execute_result"
    }
   ],
   "source": [
    "y_pred = model.predict(X_test)\n",
    "y_pred"
   ]
  },
  {
   "cell_type": "code",
<<<<<<< Updated upstream
   "execution_count": 56,
   "metadata": {},
   "outputs": [
    {
     "name": "stderr",
     "output_type": "stream",
     "text": [
      "/home/weasel/reps/ai-seizure-detectives/.venv/lib/python3.11/site-packages/sklearn/metrics/_classification.py:1344: UndefinedMetricWarning: Precision is ill-defined and being set to 0.0 in labels with no predicted samples. Use `zero_division` parameter to control this behavior.\n",
      "  _warn_prf(average, modifier, msg_start, len(result))\n",
      "/home/weasel/reps/ai-seizure-detectives/.venv/lib/python3.11/site-packages/sklearn/metrics/_classification.py:1344: UndefinedMetricWarning: Recall is ill-defined and being set to 0.0 in labels with no true samples. Use `zero_division` parameter to control this behavior.\n",
      "  _warn_prf(average, modifier, msg_start, len(result))\n"
     ]
    },
    {
     "name": "stdout",
     "output_type": "stream",
     "text": [
      "3/3 [==============================] - 0s 7ms/step - loss: 0.1839 - accuracy: 0.0000e+00\n",
      "Loss: 0.1839415580034256\n",
      "Accuracy: 0.0\n",
      "Precision: 0.145\n",
      "Recall: 0.07\n"
     ]
=======
   "execution_count": null,
   "metadata": {},
   "outputs": [
    {
     "data": {
      "text/plain": [
       "(2648, 1)"
      ]
     },
     "execution_count": 384,
     "metadata": {},
     "output_type": "execute_result"
    }
   ],
   "source": [
    "y_pred_c = y_pred.round().astype(int)\n",
    "y_pred_c.shape"
   ]
  },
  {
   "cell_type": "code",
   "execution_count": null,
   "metadata": {},
   "outputs": [
    {
     "data": {
      "text/plain": [
       "[<matplotlib.lines.Line2D at 0x7f02a546a910>]"
      ]
     },
     "execution_count": 385,
     "metadata": {},
     "output_type": "execute_result"
    },
    {
     "data": {
      "image/png": "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",
      "text/plain": [
       "<Figure size 1500x1000 with 1 Axes>"
      ]
     },
     "metadata": {},
     "output_type": "display_data"
    }
   ],
   "source": [
    "plt.figure(figsize=(15,10))  # Adjust the width and height as needed\n",
    "plt.plot(y_pred_c[:200])\n",
    "plt.plot(y_test_new[:200])"
   ]
  },
  {
   "cell_type": "code",
   "execution_count": null,
   "metadata": {},
   "outputs": [
    {
     "name": "stdout",
     "output_type": "stream",
     "text": [
      "83/83 [==============================] - 0s 2ms/step - loss: 1.4249 - accuracy: 0.8387\n",
      "Loss: 1.424889087677002\n",
      "Accuracy: 0.8387462496757507\n",
      "Precision: 0.0\n",
      "Recall: 0.0\n"
     ]
    },
    {
     "data": {
      "text/plain": [
       "(279.0, 148)"
      ]
     },
     "execution_count": 386,
     "metadata": {},
     "output_type": "execute_result"
>>>>>>> Stashed changes
    }
   ],
   "source": [
    "from sklearn.metrics import precision_score, recall_score\n",
    "y_pred_c = y_pred.round().astype(int)\n",
    "precision = precision_score(y_test, y_pred_c, average='macro')\n",
    "recall = recall_score(y_test, y_pred_c, average='macro')\n",
    "\n",
    "loss, accuracy = model.evaluate(X_test, y_test)\n",
    "\n",
    "print('Loss:', loss)\n",
    "print('Accuracy:', accuracy)\n",
    "print('Precision:', precision)\n",
    "print('Recall:', recall)"
   ]
  },
  {
   "cell_type": "code",
   "execution_count": null,
   "metadata": {},
<<<<<<< Updated upstream
   "outputs": [],
=======
   "outputs": [
    {
     "data": {
      "text/plain": [
       "2369"
      ]
     },
     "execution_count": 387,
     "metadata": {},
     "output_type": "execute_result"
    }
   ],
>>>>>>> Stashed changes
   "source": [
    "# from keras.callbacks import EarlyStopping, ModelCheckpoint\n",
    "\n",
    "# # Create callbacks\n",
    "# callbacks = EarlyStopping(monitor='val_loss', patience=5)"
   ]
  },
  {
   "cell_type": "code",
   "execution_count": null,
<<<<<<< Updated upstream
=======
   "metadata": {},
   "outputs": [
    {
     "data": {
      "text/plain": [
       "(2648,)"
      ]
     },
     "execution_count": 388,
     "metadata": {},
     "output_type": "execute_result"
    }
   ],
   "source": [
    "y_test_new.shape"
   ]
  },
  {
   "cell_type": "code",
   "execution_count": null,
   "metadata": {},
   "outputs": [
    {
     "data": {
      "text/plain": [
       "array([148])"
      ]
     },
     "execution_count": 389,
     "metadata": {},
     "output_type": "execute_result"
    }
   ],
   "source": [
    "sum(y_pred_c==1)"
   ]
  },
  {
   "cell_type": "code",
   "execution_count": null,
   "metadata": {},
   "outputs": [
    {
     "name": "stdout",
     "output_type": "stream",
     "text": [
      "Confusion Matrix:\n",
      "[[2221  148]\n",
      " [ 279    0]]\n"
     ]
    }
   ],
   "source": [
    "from sklearn.metrics import confusion_matrix, classification_report\n",
    "confusion = confusion_matrix(y_test_new, y_pred_c)\n",
    "print(\"Confusion Matrix:\")\n",
    "print(confusion)\n",
    "        "
   ]
  },
  {
   "cell_type": "code",
   "execution_count": null,
   "metadata": {},
   "outputs": [
    {
     "name": "stdout",
     "output_type": "stream",
     "text": [
      "Classification Report:\n",
      "              precision    recall  f1-score   support\n",
      "\n",
      "         0.0       0.89      0.94      0.91      2369\n",
      "         1.0       0.00      0.00      0.00       279\n",
      "\n",
      "    accuracy                           0.84      2648\n",
      "   macro avg       0.44      0.47      0.46      2648\n",
      "weighted avg       0.79      0.84      0.82      2648\n",
      "\n",
      "\n"
     ]
    }
   ],
   "source": [
    "# Generate a classification report with various metrics\n",
    "report = classification_report(y_test_new, y_pred_c)\n",
    "print(\"Classification Report:\")\n",
    "print(report)\n",
    "print()"
   ]
  },
  {
   "cell_type": "code",
   "execution_count": null,
   "metadata": {},
   "outputs": [
    {
     "data": {
      "text/plain": [
       "Text(0, 0.5, 'Predictions')"
      ]
     },
     "execution_count": 392,
     "metadata": {},
     "output_type": "execute_result"
    },
    {
     "data": {
      "image/png": "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",
      "text/plain": [
       "<Figure size 640x480 with 1 Axes>"
      ]
     },
     "metadata": {},
     "output_type": "display_data"
    }
   ],
   "source": [
    "a = plt.axes(aspect='equal')\n",
    "plt.scatter(y_test_new, y_pred_c,c=np.arange(len(y_test_new)))\n",
    "plt.xlabel('True Values')\n",
    "plt.ylabel('Predictions')\n",
    "#lims = [0, 50]\n",
    "#plt.xlim(lims)\n",
    "#plt.ylim(lims)\n",
    "#_ = plt.plot(lims, lims)"
   ]
  },
  {
   "cell_type": "code",
   "execution_count": null,
   "metadata": {},
   "outputs": [
    {
     "data": {
      "image/png": "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",
      "text/plain": [
       "<Figure size 640x480 with 1 Axes>"
      ]
     },
     "metadata": {},
     "output_type": "display_data"
    }
   ],
   "source": [
    "error = y_pred_c - y_test_new\n",
    "plt.hist(error, bins=25)\n",
    "plt.xlabel('Prediction Error')\n",
    "_ = plt.ylabel('Count')"
   ]
  },
  {
   "cell_type": "code",
   "execution_count": null,
>>>>>>> Stashed changes
   "metadata": {},
   "outputs": [],
   "source": [
    "# def make_model(input_shape):\n",
    "#     input_layer = keras.layers.Input(input_shape)\n",
    "\n",
    "#     conv1 = keras.layers.Conv1D(filters=64, kernel_size=3, padding=\"same\")(input_layer)\n",
    "#     conv1 = keras.layers.BatchNormalization()(conv1)\n",
    "#     conv1 = keras.layers.ReLU()(conv1)\n",
    "\n",
    "#     conv2 = keras.layers.Conv1D(filters=64, kernel_size=3, padding=\"same\")(conv1)\n",
    "#     conv2 = keras.layers.BatchNormalization()(conv2)\n",
    "#     conv2 = keras.layers.ReLU()(conv2)\n",
    "\n",
    "#     conv3 = keras.layers.Conv1D(filters=64, kernel_size=3, padding=\"same\")(conv2)\n",
    "#     conv3 = keras.layers.BatchNormalization()(conv3)\n",
    "#     conv3 = keras.layers.ReLU()(conv3)\n",
    "\n",
    "#     gap = keras.layers.GlobalAveragePooling1D()(conv3)\n",
    "\n",
    "#     output_layer = keras.layers.Dense(num_classes, activation=\"softmax\")(gap)\n",
    "\n",
    "#     return keras.models.Model(inputs=input_layer, outputs=output_layer)\n"
   ]
  },
  {
   "cell_type": "code",
   "execution_count": null,
   "metadata": {},
   "outputs": [],
   "source": [
    "# model = make_model(input_shape=X_train.shape[1:])\n",
    "# keras.utils.plot_model(model, show_shapes=True)"
   ]
  },
  {
   "cell_type": "code",
   "execution_count": null,
   "metadata": {},
   "outputs": [],
   "source": [
    "# epochs = 500\n",
    "# batch_size = 32\n",
    "\n",
    "# callbacks = [\n",
    "#     keras.callbacks.ModelCheckpoint(\n",
    "#         \"best_model.h5\", save_best_only=True, monitor=\"val_loss\"\n",
    "#     ),\n",
    "#     keras.callbacks.ReduceLROnPlateau(\n",
    "#         monitor=\"val_loss\", factor=0.5, patience=20, min_lr=0.0001\n",
    "#     ),\n",
    "#     keras.callbacks.EarlyStopping(monitor=\"val_loss\", patience=50, verbose=1),\n",
    "# ]\n",
    "# model.compile(\n",
    "#     optimizer=\"adam\",\n",
    "#     loss=\"sparse_categorical_crossentropy\",\n",
    "#     metrics=[\"sparse_categorical_accuracy\"],\n",
    "# )\n",
    "# history = model.fit(\n",
    "#     X_train,\n",
    "#     y_train,\n",
    "#     batch_size=batch_size,\n",
    "#     epochs=epochs,\n",
    "#     callbacks=callbacks,\n",
    "#     #validation_split=0.2,\n",
    "#     verbose=1,\n"
   ]
  },
  {
   "cell_type": "markdown",
   "metadata": {},
   "source": [
    "inputs: A 3D tensor with shape [batch, timesteps, feature]."
   ]
  },
  {
   "cell_type": "code",
   "execution_count": null,
   "metadata": {},
   "outputs": [],
   "source": [
    "# # Define a sequential model\n",
    "# model = keras.Sequential()\n",
    "\n",
    "# # Add an input layer with an input shape of (time_steps, input_features)\n",
    "# model.add(layers.InputLayer(input_shape=(X_train.shape[1],X_train.shape[2])))\n",
    "\n",
    "# # Add a SimpleRNN layer with 32 units (neurons)\n",
    "# model.add(layers.SimpleRNN(32, activation='tanh'))\n",
    "\n",
    "# # Add the output layer with 1 neuron and sigmoid activation for binary classification\n",
    "# model.add(layers.Dense(30, activation='sigmoid'))\n",
    "\n",
<<<<<<< Updated upstream
    "# # Compile the model with binary cross-entropy loss for binary classification\n",
    "# model.compile(loss='binary_crossentropy', optimizer='adam', metrics=['accuracy'])\n"
=======
    "model.add(BatchNormalization())\n",
    "\n",
    "# Add the output layer with 1 neuron and sigmoid activation for binary classification\n",
    "model.add(layers.Dense(1, activation='sigmoid'))\n",
    "\n",
    "# Compile the model with binary cross-entropy loss for binary classification\n",
    "model.compile(loss='binary_crossentropy', optimizer='adam', metrics=['accuracy'])\n"
   ]
  },
  {
   "cell_type": "code",
   "execution_count": null,
   "metadata": {},
   "outputs": [
    {
     "data": {
      "text/plain": [
       "(10589, 30, 60)"
      ]
     },
     "execution_count": 398,
     "metadata": {},
     "output_type": "execute_result"
    }
   ],
   "source": [
    "X_train.shape"
   ]
  },
  {
   "cell_type": "code",
   "execution_count": null,
   "metadata": {},
   "outputs": [
    {
     "name": "stdout",
     "output_type": "stream",
     "text": [
      "Epoch 1/200\n",
      "85/85 [==============================] - 1s 5ms/step - loss: 0.6232 - accuracy: 0.7016 - val_loss: 0.4955 - val_accuracy: 0.8640\n",
      "Epoch 2/200\n",
      "85/85 [==============================] - 0s 3ms/step - loss: 0.4315 - accuracy: 0.8757 - val_loss: 0.4047 - val_accuracy: 0.8678\n",
      "Epoch 3/200\n",
      "85/85 [==============================] - 0s 3ms/step - loss: 0.3309 - accuracy: 0.8962 - val_loss: 0.3850 - val_accuracy: 0.8683\n",
      "Epoch 4/200\n",
      "85/85 [==============================] - 0s 4ms/step - loss: 0.2795 - accuracy: 0.9071 - val_loss: 0.3980 - val_accuracy: 0.8683\n",
      "Epoch 5/200\n",
      "85/85 [==============================] - 0s 3ms/step - loss: 0.2451 - accuracy: 0.9128 - val_loss: 0.4232 - val_accuracy: 0.8678\n",
      "Epoch 6/200\n",
      "85/85 [==============================] - 0s 3ms/step - loss: 0.2137 - accuracy: 0.9239 - val_loss: 0.4177 - val_accuracy: 0.8711\n",
      "Epoch 7/200\n",
      "85/85 [==============================] - 0s 3ms/step - loss: 0.1913 - accuracy: 0.9332 - val_loss: 0.4430 - val_accuracy: 0.8683\n",
      "Epoch 8/200\n",
      "85/85 [==============================] - 0s 3ms/step - loss: 0.1591 - accuracy: 0.9475 - val_loss: 0.4553 - val_accuracy: 0.8659\n",
      "Epoch 9/200\n",
      "85/85 [==============================] - 0s 3ms/step - loss: 0.1525 - accuracy: 0.9498 - val_loss: 0.4399 - val_accuracy: 0.8631\n",
      "Epoch 10/200\n",
      "85/85 [==============================] - 0s 3ms/step - loss: 0.1383 - accuracy: 0.9509 - val_loss: 0.4806 - val_accuracy: 0.8621\n",
      "Epoch 11/200\n",
      "85/85 [==============================] - 0s 3ms/step - loss: 0.1113 - accuracy: 0.9653 - val_loss: 0.4606 - val_accuracy: 0.8636\n",
      "Epoch 12/200\n",
      "85/85 [==============================] - 0s 3ms/step - loss: 0.1145 - accuracy: 0.9626 - val_loss: 0.4595 - val_accuracy: 0.8669\n",
      "Epoch 13/200\n",
      "85/85 [==============================] - 0s 3ms/step - loss: 0.0989 - accuracy: 0.9679 - val_loss: 0.4448 - val_accuracy: 0.8532\n",
      "Epoch 14/200\n",
      "85/85 [==============================] - 0s 3ms/step - loss: 0.0987 - accuracy: 0.9685 - val_loss: 0.4949 - val_accuracy: 0.8584\n",
      "Epoch 15/200\n",
      "85/85 [==============================] - 0s 3ms/step - loss: 0.0975 - accuracy: 0.9673 - val_loss: 0.5094 - val_accuracy: 0.8565\n",
      "Epoch 16/200\n",
      "85/85 [==============================] - 0s 3ms/step - loss: 0.0743 - accuracy: 0.9759 - val_loss: 0.5687 - val_accuracy: 0.8621\n",
      "Epoch 17/200\n",
      "85/85 [==============================] - 0s 3ms/step - loss: 0.0696 - accuracy: 0.9783 - val_loss: 0.5574 - val_accuracy: 0.8541\n",
      "Epoch 18/200\n",
      "85/85 [==============================] - 0s 3ms/step - loss: 0.0748 - accuracy: 0.9757 - val_loss: 0.5057 - val_accuracy: 0.8645\n",
      "Epoch 19/200\n",
      "85/85 [==============================] - 0s 3ms/step - loss: 0.0631 - accuracy: 0.9819 - val_loss: 0.5655 - val_accuracy: 0.8560\n",
      "Epoch 20/200\n",
      "85/85 [==============================] - 0s 3ms/step - loss: 0.0586 - accuracy: 0.9830 - val_loss: 0.6199 - val_accuracy: 0.8607\n",
      "Epoch 21/200\n",
      "85/85 [==============================] - 0s 3ms/step - loss: 0.0467 - accuracy: 0.9855 - val_loss: 0.6832 - val_accuracy: 0.8546\n",
      "Epoch 22/200\n",
      "85/85 [==============================] - 0s 3ms/step - loss: 0.0439 - accuracy: 0.9861 - val_loss: 0.6455 - val_accuracy: 0.8607\n",
      "Epoch 23/200\n",
      "85/85 [==============================] - 0s 3ms/step - loss: 0.0350 - accuracy: 0.9914 - val_loss: 0.7343 - val_accuracy: 0.8565\n",
      "Epoch 24/200\n",
      "85/85 [==============================] - 0s 3ms/step - loss: 0.0696 - accuracy: 0.9772 - val_loss: 0.7871 - val_accuracy: 0.6072\n",
      "Epoch 25/200\n",
      "85/85 [==============================] - 0s 3ms/step - loss: 0.0819 - accuracy: 0.9737 - val_loss: 0.6595 - val_accuracy: 0.8480\n",
      "Epoch 26/200\n",
      "85/85 [==============================] - 0s 3ms/step - loss: 0.0422 - accuracy: 0.9878 - val_loss: 0.7021 - val_accuracy: 0.8588\n",
      "Epoch 27/200\n",
      "85/85 [==============================] - 0s 3ms/step - loss: 0.0340 - accuracy: 0.9895 - val_loss: 0.6381 - val_accuracy: 0.8607\n",
      "Epoch 28/200\n",
      "85/85 [==============================] - 0s 3ms/step - loss: 0.0334 - accuracy: 0.9902 - val_loss: 0.7111 - val_accuracy: 0.8612\n",
      "Epoch 29/200\n",
      "85/85 [==============================] - 0s 3ms/step - loss: 0.0569 - accuracy: 0.9843 - val_loss: 0.8244 - val_accuracy: 0.8527\n",
      "Epoch 30/200\n",
      "85/85 [==============================] - 0s 3ms/step - loss: 0.0461 - accuracy: 0.9860 - val_loss: 0.7003 - val_accuracy: 0.8584\n",
      "Epoch 31/200\n",
      "85/85 [==============================] - 0s 4ms/step - loss: 0.0571 - accuracy: 0.9816 - val_loss: 0.7149 - val_accuracy: 0.8560\n",
      "Epoch 32/200\n",
      "85/85 [==============================] - 0s 3ms/step - loss: 0.0250 - accuracy: 0.9936 - val_loss: 0.7697 - val_accuracy: 0.8598\n",
      "Epoch 33/200\n",
      "85/85 [==============================] - 0s 3ms/step - loss: 0.0265 - accuracy: 0.9945 - val_loss: 0.6596 - val_accuracy: 0.8673\n",
      "Epoch 34/200\n",
      "85/85 [==============================] - 0s 3ms/step - loss: 0.0263 - accuracy: 0.9937 - val_loss: 0.7252 - val_accuracy: 0.8636\n",
      "Epoch 35/200\n",
      "85/85 [==============================] - 0s 3ms/step - loss: 0.0228 - accuracy: 0.9942 - val_loss: 0.6060 - val_accuracy: 0.8508\n",
      "Epoch 36/200\n",
      "85/85 [==============================] - 0s 3ms/step - loss: 0.0237 - accuracy: 0.9939 - val_loss: 0.6536 - val_accuracy: 0.8565\n",
      "Epoch 37/200\n",
      "85/85 [==============================] - 0s 3ms/step - loss: 0.0217 - accuracy: 0.9946 - val_loss: 0.6876 - val_accuracy: 0.8650\n",
      "Epoch 38/200\n",
      "85/85 [==============================] - 0s 3ms/step - loss: 0.0365 - accuracy: 0.9903 - val_loss: 0.8287 - val_accuracy: 0.8560\n",
      "Epoch 39/200\n",
      "85/85 [==============================] - 0s 3ms/step - loss: 0.0217 - accuracy: 0.9948 - val_loss: 0.7426 - val_accuracy: 0.8617\n",
      "Epoch 40/200\n",
      "85/85 [==============================] - 0s 3ms/step - loss: 0.0155 - accuracy: 0.9970 - val_loss: 0.7607 - val_accuracy: 0.8593\n",
      "Epoch 41/200\n",
      "85/85 [==============================] - 0s 3ms/step - loss: 0.0243 - accuracy: 0.9928 - val_loss: 0.7725 - val_accuracy: 0.8598\n",
      "Epoch 42/200\n",
      "85/85 [==============================] - 0s 3ms/step - loss: 0.0479 - accuracy: 0.9889 - val_loss: 0.6917 - val_accuracy: 0.8532\n",
      "Epoch 43/200\n",
      "85/85 [==============================] - 0s 3ms/step - loss: 0.0868 - accuracy: 0.9776 - val_loss: 0.7362 - val_accuracy: 0.8574\n",
      "Epoch 44/200\n",
      "85/85 [==============================] - 0s 3ms/step - loss: 0.0341 - accuracy: 0.9909 - val_loss: 0.7005 - val_accuracy: 0.8225\n",
      "Epoch 45/200\n",
      "85/85 [==============================] - 0s 3ms/step - loss: 0.0507 - accuracy: 0.9861 - val_loss: 0.7224 - val_accuracy: 0.8669\n",
      "Epoch 46/200\n",
      "85/85 [==============================] - 0s 3ms/step - loss: 0.0248 - accuracy: 0.9936 - val_loss: 0.6727 - val_accuracy: 0.8735\n",
      "Epoch 47/200\n",
      "85/85 [==============================] - 0s 3ms/step - loss: 0.0764 - accuracy: 0.9782 - val_loss: 0.6590 - val_accuracy: 0.8574\n",
      "Epoch 48/200\n",
      "85/85 [==============================] - 0s 3ms/step - loss: 0.0693 - accuracy: 0.9809 - val_loss: 0.6968 - val_accuracy: 0.8362\n",
      "Epoch 49/200\n",
      "85/85 [==============================] - 0s 3ms/step - loss: 0.0244 - accuracy: 0.9946 - val_loss: 0.6898 - val_accuracy: 0.8584\n",
      "Epoch 50/200\n",
      "85/85 [==============================] - 0s 3ms/step - loss: 0.0179 - accuracy: 0.9973 - val_loss: 0.7837 - val_accuracy: 0.8555\n",
      "Epoch 51/200\n",
      "85/85 [==============================] - 0s 3ms/step - loss: 0.0854 - accuracy: 0.9824 - val_loss: 0.7847 - val_accuracy: 0.8617\n",
      "Epoch 52/200\n",
      "85/85 [==============================] - 0s 3ms/step - loss: 0.2481 - accuracy: 0.9240 - val_loss: 0.6637 - val_accuracy: 0.8041\n",
      "Epoch 53/200\n",
      "85/85 [==============================] - 0s 3ms/step - loss: 0.1943 - accuracy: 0.9319 - val_loss: 0.5533 - val_accuracy: 0.8612\n",
      "Epoch 54/200\n",
      "85/85 [==============================] - 0s 3ms/step - loss: 0.1153 - accuracy: 0.9623 - val_loss: 0.5493 - val_accuracy: 0.8602\n",
      "Epoch 55/200\n",
      "85/85 [==============================] - 0s 3ms/step - loss: 0.0753 - accuracy: 0.9778 - val_loss: 0.6103 - val_accuracy: 0.8418\n",
      "Epoch 56/200\n",
      "85/85 [==============================] - 0s 3ms/step - loss: 0.0583 - accuracy: 0.9843 - val_loss: 0.6657 - val_accuracy: 0.8414\n",
      "Epoch 57/200\n",
      "85/85 [==============================] - 0s 3ms/step - loss: 0.0548 - accuracy: 0.9841 - val_loss: 0.6238 - val_accuracy: 0.8409\n",
      "Epoch 58/200\n",
      "85/85 [==============================] - 0s 3ms/step - loss: 0.1833 - accuracy: 0.9401 - val_loss: 0.5045 - val_accuracy: 0.8777\n",
      "Epoch 59/200\n",
      "85/85 [==============================] - 0s 4ms/step - loss: 0.1413 - accuracy: 0.9522 - val_loss: 0.5294 - val_accuracy: 0.8787\n",
      "Epoch 60/200\n",
      "85/85 [==============================] - 0s 3ms/step - loss: 0.0963 - accuracy: 0.9692 - val_loss: 0.4816 - val_accuracy: 0.8720\n",
      "Epoch 61/200\n",
      "85/85 [==============================] - 0s 3ms/step - loss: 0.0731 - accuracy: 0.9786 - val_loss: 0.5030 - val_accuracy: 0.8702\n",
      "Epoch 62/200\n",
      "85/85 [==============================] - 0s 3ms/step - loss: 0.0800 - accuracy: 0.9765 - val_loss: 0.5075 - val_accuracy: 0.8645\n",
      "Epoch 63/200\n",
      "85/85 [==============================] - 0s 4ms/step - loss: 0.0962 - accuracy: 0.9705 - val_loss: 0.5361 - val_accuracy: 0.8650\n",
      "Epoch 64/200\n",
      "85/85 [==============================] - 0s 3ms/step - loss: 0.0658 - accuracy: 0.9791 - val_loss: 0.6324 - val_accuracy: 0.8607\n",
      "Epoch 65/200\n",
      "85/85 [==============================] - 0s 3ms/step - loss: 0.0696 - accuracy: 0.9779 - val_loss: 0.5124 - val_accuracy: 0.8447\n",
      "Epoch 66/200\n",
      "85/85 [==============================] - 0s 3ms/step - loss: 0.0422 - accuracy: 0.9871 - val_loss: 0.6871 - val_accuracy: 0.8621\n",
      "Epoch 67/200\n",
      "85/85 [==============================] - 0s 3ms/step - loss: 0.0221 - accuracy: 0.9941 - val_loss: 0.5779 - val_accuracy: 0.8735\n",
      "Epoch 68/200\n",
      "85/85 [==============================] - 0s 3ms/step - loss: 0.0180 - accuracy: 0.9966 - val_loss: 0.7548 - val_accuracy: 0.8584\n",
      "Epoch 69/200\n",
      "85/85 [==============================] - 0s 3ms/step - loss: 0.0151 - accuracy: 0.9978 - val_loss: 0.7898 - val_accuracy: 0.8607\n",
      "Epoch 70/200\n",
      "85/85 [==============================] - 0s 3ms/step - loss: 0.0261 - accuracy: 0.9933 - val_loss: 0.6524 - val_accuracy: 0.8584\n",
      "Epoch 71/200\n",
      "85/85 [==============================] - 0s 4ms/step - loss: 0.0229 - accuracy: 0.9945 - val_loss: 0.8359 - val_accuracy: 0.8593\n",
      "Epoch 72/200\n",
      "85/85 [==============================] - 0s 4ms/step - loss: 0.0286 - accuracy: 0.9921 - val_loss: 0.8078 - val_accuracy: 0.8532\n",
      "Epoch 73/200\n",
      "85/85 [==============================] - 0s 3ms/step - loss: 0.0356 - accuracy: 0.9927 - val_loss: 0.7518 - val_accuracy: 0.8626\n",
      "Epoch 74/200\n",
      "85/85 [==============================] - 0s 3ms/step - loss: 0.0223 - accuracy: 0.9948 - val_loss: 0.7935 - val_accuracy: 0.8532\n",
      "Epoch 75/200\n",
      "85/85 [==============================] - 0s 3ms/step - loss: 0.0082 - accuracy: 0.9991 - val_loss: 0.7771 - val_accuracy: 0.8357\n",
      "Epoch 76/200\n",
      "85/85 [==============================] - 0s 3ms/step - loss: 0.0120 - accuracy: 0.9976 - val_loss: 0.8638 - val_accuracy: 0.8602\n",
      "Epoch 77/200\n",
      "85/85 [==============================] - 0s 3ms/step - loss: 0.0100 - accuracy: 0.9979 - val_loss: 0.8673 - val_accuracy: 0.8527\n",
      "Epoch 78/200\n",
      "85/85 [==============================] - 0s 3ms/step - loss: 0.0148 - accuracy: 0.9967 - val_loss: 0.9314 - val_accuracy: 0.8659\n",
      "Epoch 79/200\n",
      "85/85 [==============================] - 0s 3ms/step - loss: 0.0922 - accuracy: 0.9712 - val_loss: 0.6691 - val_accuracy: 0.8574\n",
      "Epoch 80/200\n",
      "85/85 [==============================] - 0s 3ms/step - loss: 0.0196 - accuracy: 0.9948 - val_loss: 0.7617 - val_accuracy: 0.8555\n",
      "Epoch 81/200\n",
      "85/85 [==============================] - 0s 3ms/step - loss: 0.0158 - accuracy: 0.9961 - val_loss: 0.8263 - val_accuracy: 0.8560\n",
      "Epoch 82/200\n",
      "85/85 [==============================] - 0s 3ms/step - loss: 0.0347 - accuracy: 0.9920 - val_loss: 0.7167 - val_accuracy: 0.8617\n",
      "Epoch 83/200\n",
      "85/85 [==============================] - 0s 3ms/step - loss: 0.0139 - accuracy: 0.9974 - val_loss: 0.7836 - val_accuracy: 0.8621\n",
      "Epoch 84/200\n",
      "85/85 [==============================] - 0s 3ms/step - loss: 0.0077 - accuracy: 0.9991 - val_loss: 0.8945 - val_accuracy: 0.8569\n",
      "Epoch 85/200\n",
      "85/85 [==============================] - 0s 3ms/step - loss: 0.0069 - accuracy: 0.9992 - val_loss: 0.8751 - val_accuracy: 0.8579\n",
      "Epoch 86/200\n",
      "85/85 [==============================] - 0s 3ms/step - loss: 0.0070 - accuracy: 0.9993 - val_loss: 0.8089 - val_accuracy: 0.8612\n",
      "Epoch 87/200\n",
      "85/85 [==============================] - 0s 3ms/step - loss: 0.0073 - accuracy: 0.9989 - val_loss: 0.8984 - val_accuracy: 0.8612\n",
      "Epoch 88/200\n",
      "85/85 [==============================] - 0s 3ms/step - loss: 0.0072 - accuracy: 0.9991 - val_loss: 0.9191 - val_accuracy: 0.8645\n",
      "Epoch 89/200\n",
      "85/85 [==============================] - 0s 3ms/step - loss: 0.0077 - accuracy: 0.9986 - val_loss: 0.8737 - val_accuracy: 0.8551\n",
      "Epoch 90/200\n",
      "85/85 [==============================] - 0s 3ms/step - loss: 0.0552 - accuracy: 0.9890 - val_loss: 0.8417 - val_accuracy: 0.8489\n",
      "Epoch 91/200\n",
      "85/85 [==============================] - 0s 3ms/step - loss: 0.1872 - accuracy: 0.9457 - val_loss: 0.6788 - val_accuracy: 0.8418\n",
      "Epoch 92/200\n",
      "85/85 [==============================] - 0s 3ms/step - loss: 0.2585 - accuracy: 0.9329 - val_loss: 0.6246 - val_accuracy: 0.8621\n",
      "Epoch 93/200\n",
      "85/85 [==============================] - 0s 3ms/step - loss: 0.1962 - accuracy: 0.9390 - val_loss: 0.5469 - val_accuracy: 0.8593\n",
      "Epoch 94/200\n",
      "85/85 [==============================] - 0s 3ms/step - loss: 0.1036 - accuracy: 0.9705 - val_loss: 0.5320 - val_accuracy: 0.8499\n",
      "Epoch 95/200\n",
      "85/85 [==============================] - 0s 3ms/step - loss: 0.0783 - accuracy: 0.9779 - val_loss: 0.6330 - val_accuracy: 0.8267\n",
      "Epoch 96/200\n",
      "85/85 [==============================] - 0s 3ms/step - loss: 0.0378 - accuracy: 0.9901 - val_loss: 0.6525 - val_accuracy: 0.8574\n",
      "Epoch 97/200\n",
      "85/85 [==============================] - 0s 3ms/step - loss: 0.0279 - accuracy: 0.9934 - val_loss: 0.7125 - val_accuracy: 0.8636\n",
      "Epoch 98/200\n",
      "85/85 [==============================] - 0s 3ms/step - loss: 0.0152 - accuracy: 0.9972 - val_loss: 0.7652 - val_accuracy: 0.8598\n",
      "Epoch 99/200\n",
      "85/85 [==============================] - 0s 3ms/step - loss: 0.0117 - accuracy: 0.9986 - val_loss: 0.7951 - val_accuracy: 0.8560\n",
      "Epoch 100/200\n",
      "85/85 [==============================] - 0s 3ms/step - loss: 0.0446 - accuracy: 0.9904 - val_loss: 0.6780 - val_accuracy: 0.8598\n",
      "Epoch 101/200\n",
      "85/85 [==============================] - 0s 3ms/step - loss: 0.0313 - accuracy: 0.9920 - val_loss: 0.6845 - val_accuracy: 0.8612\n",
      "Epoch 102/200\n",
      "85/85 [==============================] - 0s 3ms/step - loss: 0.0106 - accuracy: 0.9980 - val_loss: 0.7847 - val_accuracy: 0.8437\n",
      "Epoch 103/200\n",
      "85/85 [==============================] - 0s 3ms/step - loss: 0.0177 - accuracy: 0.9958 - val_loss: 0.9257 - val_accuracy: 0.8447\n",
      "Epoch 104/200\n",
      "85/85 [==============================] - 0s 3ms/step - loss: 0.0333 - accuracy: 0.9901 - val_loss: 0.7087 - val_accuracy: 0.8466\n",
      "Epoch 105/200\n",
      "85/85 [==============================] - 0s 3ms/step - loss: 0.0123 - accuracy: 0.9972 - val_loss: 0.8161 - val_accuracy: 0.8508\n",
      "Epoch 106/200\n",
      "85/85 [==============================] - 0s 3ms/step - loss: 0.0084 - accuracy: 0.9987 - val_loss: 0.8810 - val_accuracy: 0.8437\n",
      "Epoch 107/200\n",
      "85/85 [==============================] - 0s 3ms/step - loss: 0.0096 - accuracy: 0.9987 - val_loss: 0.7796 - val_accuracy: 0.8621\n",
      "Epoch 108/200\n",
      "85/85 [==============================] - 0s 3ms/step - loss: 0.0099 - accuracy: 0.9975 - val_loss: 0.8515 - val_accuracy: 0.8598\n",
      "Epoch 109/200\n",
      "85/85 [==============================] - 0s 3ms/step - loss: 0.0078 - accuracy: 0.9989 - val_loss: 0.9296 - val_accuracy: 0.8588\n",
      "Epoch 110/200\n",
      "85/85 [==============================] - 0s 3ms/step - loss: 0.0571 - accuracy: 0.9842 - val_loss: 0.8964 - val_accuracy: 0.8333\n",
      "Epoch 111/200\n",
      "85/85 [==============================] - 0s 3ms/step - loss: 0.1200 - accuracy: 0.9704 - val_loss: 0.5903 - val_accuracy: 0.8555\n",
      "Epoch 112/200\n",
      "85/85 [==============================] - 0s 3ms/step - loss: 0.0405 - accuracy: 0.9885 - val_loss: 0.7432 - val_accuracy: 0.8560\n",
      "Epoch 113/200\n",
      "85/85 [==============================] - 0s 3ms/step - loss: 0.0109 - accuracy: 0.9982 - val_loss: 0.7976 - val_accuracy: 0.8617\n",
      "Epoch 114/200\n",
      "85/85 [==============================] - 0s 3ms/step - loss: 0.0172 - accuracy: 0.9962 - val_loss: 0.6803 - val_accuracy: 0.8333\n",
      "Epoch 115/200\n",
      "85/85 [==============================] - 0s 3ms/step - loss: 0.0097 - accuracy: 0.9982 - val_loss: 0.8357 - val_accuracy: 0.8296\n",
      "Epoch 116/200\n",
      "85/85 [==============================] - 0s 3ms/step - loss: 0.0085 - accuracy: 0.9988 - val_loss: 0.8291 - val_accuracy: 0.8602\n",
      "Epoch 117/200\n",
      "85/85 [==============================] - 0s 3ms/step - loss: 0.0077 - accuracy: 0.9983 - val_loss: 0.8423 - val_accuracy: 0.8381\n",
      "Epoch 118/200\n",
      "85/85 [==============================] - 0s 3ms/step - loss: 0.0062 - accuracy: 0.9991 - val_loss: 0.9043 - val_accuracy: 0.8272\n",
      "Epoch 119/200\n",
      "85/85 [==============================] - 0s 3ms/step - loss: 0.0057 - accuracy: 0.9989 - val_loss: 0.9504 - val_accuracy: 0.8357\n",
      "Epoch 120/200\n",
      "85/85 [==============================] - 0s 3ms/step - loss: 0.0085 - accuracy: 0.9986 - val_loss: 0.9355 - val_accuracy: 0.8617\n",
      "Epoch 121/200\n",
      "85/85 [==============================] - 0s 3ms/step - loss: 0.0057 - accuracy: 0.9991 - val_loss: 0.9515 - val_accuracy: 0.8470\n",
      "Epoch 122/200\n",
      "85/85 [==============================] - 0s 3ms/step - loss: 0.0047 - accuracy: 0.9995 - val_loss: 0.9655 - val_accuracy: 0.8121\n",
      "Epoch 123/200\n",
      "85/85 [==============================] - 0s 3ms/step - loss: 0.0964 - accuracy: 0.9764 - val_loss: 0.5576 - val_accuracy: 0.8588\n",
      "Epoch 124/200\n",
      "85/85 [==============================] - 0s 3ms/step - loss: 0.0348 - accuracy: 0.9913 - val_loss: 0.8087 - val_accuracy: 0.8551\n",
      "Epoch 125/200\n",
      "85/85 [==============================] - 0s 3ms/step - loss: 0.0084 - accuracy: 0.9989 - val_loss: 0.7960 - val_accuracy: 0.8347\n",
      "Epoch 126/200\n",
      "85/85 [==============================] - 0s 3ms/step - loss: 0.0081 - accuracy: 0.9991 - val_loss: 0.8706 - val_accuracy: 0.8461\n",
      "Epoch 127/200\n",
      "85/85 [==============================] - 0s 3ms/step - loss: 0.0097 - accuracy: 0.9979 - val_loss: 0.8401 - val_accuracy: 0.8541\n",
      "Epoch 128/200\n",
      "85/85 [==============================] - 0s 3ms/step - loss: 0.0092 - accuracy: 0.9979 - val_loss: 0.9301 - val_accuracy: 0.8588\n",
      "Epoch 129/200\n",
      "85/85 [==============================] - 0s 3ms/step - loss: 0.0059 - accuracy: 0.9992 - val_loss: 0.9675 - val_accuracy: 0.8239\n",
      "Epoch 130/200\n",
      "85/85 [==============================] - 0s 3ms/step - loss: 0.0126 - accuracy: 0.9970 - val_loss: 0.8649 - val_accuracy: 0.8466\n",
      "Epoch 131/200\n",
      "85/85 [==============================] - 0s 3ms/step - loss: 0.0063 - accuracy: 0.9988 - val_loss: 0.9929 - val_accuracy: 0.8513\n",
      "Epoch 132/200\n",
      "85/85 [==============================] - 0s 3ms/step - loss: 0.0050 - accuracy: 0.9993 - val_loss: 1.0700 - val_accuracy: 0.8551\n",
      "Epoch 133/200\n",
      "85/85 [==============================] - 0s 3ms/step - loss: 0.0530 - accuracy: 0.9894 - val_loss: 0.7187 - val_accuracy: 0.8621\n",
      "Epoch 134/200\n",
      "85/85 [==============================] - 0s 3ms/step - loss: 0.0581 - accuracy: 0.9852 - val_loss: 0.8823 - val_accuracy: 0.8333\n",
      "Epoch 135/200\n",
      "85/85 [==============================] - 0s 3ms/step - loss: 0.0082 - accuracy: 0.9988 - val_loss: 0.9240 - val_accuracy: 0.8617\n",
      "Epoch 136/200\n",
      "85/85 [==============================] - 0s 3ms/step - loss: 0.0074 - accuracy: 0.9988 - val_loss: 0.8869 - val_accuracy: 0.8466\n",
      "Epoch 137/200\n",
      "85/85 [==============================] - 0s 4ms/step - loss: 0.0060 - accuracy: 0.9995 - val_loss: 0.9777 - val_accuracy: 0.8560\n",
      "Epoch 138/200\n",
      "85/85 [==============================] - 0s 4ms/step - loss: 0.0061 - accuracy: 0.9991 - val_loss: 1.0455 - val_accuracy: 0.8602\n",
      "Epoch 139/200\n",
      "85/85 [==============================] - 0s 3ms/step - loss: 0.0229 - accuracy: 0.9958 - val_loss: 0.8671 - val_accuracy: 0.8687\n",
      "Epoch 140/200\n",
      "85/85 [==============================] - 0s 3ms/step - loss: 0.1965 - accuracy: 0.9497 - val_loss: 0.8359 - val_accuracy: 0.8569\n",
      "Epoch 141/200\n",
      "85/85 [==============================] - 0s 3ms/step - loss: 0.1510 - accuracy: 0.9550 - val_loss: 0.5979 - val_accuracy: 0.8418\n",
      "Epoch 142/200\n",
      "85/85 [==============================] - 0s 3ms/step - loss: 0.0238 - accuracy: 0.9943 - val_loss: 0.7387 - val_accuracy: 0.8645\n",
      "Epoch 143/200\n",
      "85/85 [==============================] - 0s 3ms/step - loss: 0.1790 - accuracy: 0.9457 - val_loss: 0.5116 - val_accuracy: 0.8735\n",
      "Epoch 144/200\n",
      "85/85 [==============================] - 0s 3ms/step - loss: 0.0951 - accuracy: 0.9706 - val_loss: 0.5907 - val_accuracy: 0.8678\n",
      "Epoch 145/200\n",
      "85/85 [==============================] - 0s 3ms/step - loss: 0.1214 - accuracy: 0.9711 - val_loss: 0.6252 - val_accuracy: 0.8574\n",
      "Epoch 146/200\n",
      "85/85 [==============================] - 0s 3ms/step - loss: 0.2200 - accuracy: 0.9370 - val_loss: 0.6555 - val_accuracy: 0.8588\n",
      "Epoch 147/200\n",
      "85/85 [==============================] - 0s 3ms/step - loss: 0.3654 - accuracy: 0.8867 - val_loss: 0.5034 - val_accuracy: 0.8569\n",
      "Epoch 148/200\n",
      "85/85 [==============================] - 0s 3ms/step - loss: 0.2998 - accuracy: 0.8935 - val_loss: 0.4796 - val_accuracy: 0.8617\n",
      "Epoch 149/200\n",
      "85/85 [==============================] - 0s 3ms/step - loss: 0.2765 - accuracy: 0.9015 - val_loss: 0.4735 - val_accuracy: 0.8631\n",
      "Epoch 150/200\n",
      "85/85 [==============================] - 0s 3ms/step - loss: 0.2600 - accuracy: 0.9069 - val_loss: 0.4766 - val_accuracy: 0.8640\n",
      "Epoch 151/200\n",
      "85/85 [==============================] - 0s 3ms/step - loss: 0.2453 - accuracy: 0.9119 - val_loss: 0.4837 - val_accuracy: 0.8650\n",
      "Epoch 152/200\n",
      "85/85 [==============================] - 0s 3ms/step - loss: 0.2300 - accuracy: 0.9182 - val_loss: 0.4852 - val_accuracy: 0.8654\n",
      "Epoch 153/200\n",
      "85/85 [==============================] - 0s 3ms/step - loss: 0.2125 - accuracy: 0.9263 - val_loss: 0.5033 - val_accuracy: 0.8654\n",
      "Epoch 154/200\n",
      "85/85 [==============================] - 0s 3ms/step - loss: 0.1969 - accuracy: 0.9319 - val_loss: 0.5011 - val_accuracy: 0.8640\n",
      "Epoch 155/200\n",
      "85/85 [==============================] - 0s 3ms/step - loss: 0.1841 - accuracy: 0.9363 - val_loss: 0.5247 - val_accuracy: 0.8650\n",
      "Epoch 156/200\n",
      "85/85 [==============================] - 0s 3ms/step - loss: 0.1723 - accuracy: 0.9399 - val_loss: 0.5305 - val_accuracy: 0.8626\n",
      "Epoch 157/200\n",
      "85/85 [==============================] - 0s 3ms/step - loss: 0.1728 - accuracy: 0.9377 - val_loss: 0.5216 - val_accuracy: 0.8602\n",
      "Epoch 158/200\n",
      "85/85 [==============================] - 0s 3ms/step - loss: 0.1559 - accuracy: 0.9449 - val_loss: 0.5331 - val_accuracy: 0.8593\n",
      "Epoch 159/200\n",
      "85/85 [==============================] - 0s 3ms/step - loss: 0.1472 - accuracy: 0.9490 - val_loss: 0.5519 - val_accuracy: 0.8593\n",
      "Epoch 160/200\n",
      "85/85 [==============================] - 0s 3ms/step - loss: 0.1395 - accuracy: 0.9514 - val_loss: 0.5370 - val_accuracy: 0.8593\n",
      "Epoch 161/200\n",
      "85/85 [==============================] - 0s 3ms/step - loss: 0.1315 - accuracy: 0.9521 - val_loss: 0.5708 - val_accuracy: 0.8593\n",
      "Epoch 162/200\n",
      "85/85 [==============================] - 0s 3ms/step - loss: 0.1309 - accuracy: 0.9529 - val_loss: 0.5484 - val_accuracy: 0.8588\n",
      "Epoch 163/200\n",
      "85/85 [==============================] - 0s 4ms/step - loss: 0.1221 - accuracy: 0.9537 - val_loss: 0.5838 - val_accuracy: 0.8555\n",
      "Epoch 164/200\n",
      "85/85 [==============================] - 0s 3ms/step - loss: 0.1195 - accuracy: 0.9549 - val_loss: 0.5821 - val_accuracy: 0.8541\n",
      "Epoch 165/200\n",
      "85/85 [==============================] - 0s 3ms/step - loss: 0.0975 - accuracy: 0.9658 - val_loss: 0.6035 - val_accuracy: 0.8517\n",
      "Epoch 166/200\n",
      "85/85 [==============================] - 0s 3ms/step - loss: 0.1217 - accuracy: 0.9599 - val_loss: 0.5991 - val_accuracy: 0.8499\n",
      "Epoch 167/200\n",
      "85/85 [==============================] - 0s 3ms/step - loss: 0.1006 - accuracy: 0.9625 - val_loss: 0.6103 - val_accuracy: 0.8513\n",
      "Epoch 168/200\n",
      "85/85 [==============================] - 0s 3ms/step - loss: 0.1005 - accuracy: 0.9659 - val_loss: 0.5816 - val_accuracy: 0.8475\n",
      "Epoch 169/200\n",
      "85/85 [==============================] - 0s 3ms/step - loss: 0.0793 - accuracy: 0.9731 - val_loss: 0.6507 - val_accuracy: 0.8532\n",
      "Epoch 170/200\n",
      "85/85 [==============================] - 0s 4ms/step - loss: 0.0845 - accuracy: 0.9699 - val_loss: 0.6399 - val_accuracy: 0.8442\n",
      "Epoch 171/200\n",
      "85/85 [==============================] - 0s 3ms/step - loss: 0.0705 - accuracy: 0.9757 - val_loss: 0.6077 - val_accuracy: 0.8499\n",
      "Epoch 172/200\n",
      "85/85 [==============================] - 0s 3ms/step - loss: 0.0659 - accuracy: 0.9782 - val_loss: 0.6917 - val_accuracy: 0.8513\n",
      "Epoch 173/200\n",
      "85/85 [==============================] - 0s 3ms/step - loss: 0.0549 - accuracy: 0.9825 - val_loss: 0.7328 - val_accuracy: 0.8499\n",
      "Epoch 174/200\n",
      "85/85 [==============================] - 0s 3ms/step - loss: 0.0468 - accuracy: 0.9845 - val_loss: 0.8071 - val_accuracy: 0.8494\n",
      "Epoch 175/200\n",
      "85/85 [==============================] - 0s 3ms/step - loss: 0.0462 - accuracy: 0.9855 - val_loss: 0.7250 - val_accuracy: 0.8399\n",
      "Epoch 176/200\n",
      "85/85 [==============================] - 0s 3ms/step - loss: 0.2050 - accuracy: 0.9361 - val_loss: 0.5145 - val_accuracy: 0.8579\n",
      "Epoch 177/200\n",
      "85/85 [==============================] - 0s 3ms/step - loss: 0.1289 - accuracy: 0.9564 - val_loss: 0.5831 - val_accuracy: 0.8551\n",
      "Epoch 178/200\n",
      "85/85 [==============================] - 0s 3ms/step - loss: 0.0800 - accuracy: 0.9731 - val_loss: 0.6702 - val_accuracy: 0.8527\n",
      "Epoch 179/200\n",
      "85/85 [==============================] - 0s 4ms/step - loss: 0.0515 - accuracy: 0.9829 - val_loss: 0.7640 - val_accuracy: 0.8513\n",
      "Epoch 180/200\n",
      "85/85 [==============================] - 0s 3ms/step - loss: 0.0401 - accuracy: 0.9882 - val_loss: 0.8041 - val_accuracy: 0.8286\n",
      "Epoch 181/200\n",
      "85/85 [==============================] - 0s 3ms/step - loss: 0.0417 - accuracy: 0.9871 - val_loss: 0.8161 - val_accuracy: 0.8480\n",
      "Epoch 182/200\n",
      "85/85 [==============================] - 0s 4ms/step - loss: 0.0681 - accuracy: 0.9795 - val_loss: 0.8057 - val_accuracy: 0.8489\n",
      "Epoch 183/200\n",
      "85/85 [==============================] - 0s 3ms/step - loss: 0.0442 - accuracy: 0.9850 - val_loss: 0.7249 - val_accuracy: 0.8428\n",
      "Epoch 184/200\n",
      "85/85 [==============================] - 0s 3ms/step - loss: 0.0431 - accuracy: 0.9855 - val_loss: 0.8487 - val_accuracy: 0.8494\n",
      "Epoch 185/200\n",
      "85/85 [==============================] - 0s 3ms/step - loss: 0.0596 - accuracy: 0.9784 - val_loss: 0.7445 - val_accuracy: 0.8499\n",
      "Epoch 186/200\n",
      "85/85 [==============================] - 0s 3ms/step - loss: 0.0553 - accuracy: 0.9832 - val_loss: 0.8101 - val_accuracy: 0.8503\n",
      "Epoch 187/200\n",
      "85/85 [==============================] - 0s 3ms/step - loss: 0.0387 - accuracy: 0.9881 - val_loss: 0.7878 - val_accuracy: 0.8466\n",
      "Epoch 188/200\n",
      "85/85 [==============================] - 0s 3ms/step - loss: 0.0253 - accuracy: 0.9942 - val_loss: 0.8300 - val_accuracy: 0.8442\n",
      "Epoch 189/200\n",
      "85/85 [==============================] - 0s 3ms/step - loss: 0.0697 - accuracy: 0.9819 - val_loss: 0.7715 - val_accuracy: 0.8480\n",
      "Epoch 190/200\n",
      "85/85 [==============================] - 0s 3ms/step - loss: 0.0399 - accuracy: 0.9895 - val_loss: 0.8652 - val_accuracy: 0.8451\n",
      "Epoch 191/200\n",
      "85/85 [==============================] - 0s 3ms/step - loss: 0.0256 - accuracy: 0.9928 - val_loss: 0.9026 - val_accuracy: 0.8480\n",
      "Epoch 192/200\n",
      "85/85 [==============================] - 0s 3ms/step - loss: 0.0428 - accuracy: 0.9888 - val_loss: 0.9063 - val_accuracy: 0.8447\n",
      "Epoch 193/200\n",
      "85/85 [==============================] - 0s 3ms/step - loss: 0.0354 - accuracy: 0.9910 - val_loss: 0.9022 - val_accuracy: 0.8220\n",
      "Epoch 194/200\n",
      "85/85 [==============================] - 0s 3ms/step - loss: 0.0409 - accuracy: 0.9906 - val_loss: 0.8421 - val_accuracy: 0.8508\n",
      "Epoch 195/200\n",
      "85/85 [==============================] - 0s 3ms/step - loss: 0.0953 - accuracy: 0.9802 - val_loss: 0.6124 - val_accuracy: 0.8654\n",
      "Epoch 196/200\n",
      "85/85 [==============================] - 0s 3ms/step - loss: 0.0988 - accuracy: 0.9708 - val_loss: 0.6417 - val_accuracy: 0.8508\n",
      "Epoch 197/200\n",
      "85/85 [==============================] - 0s 3ms/step - loss: 0.0370 - accuracy: 0.9902 - val_loss: 0.7531 - val_accuracy: 0.8390\n",
      "Epoch 198/200\n",
      "85/85 [==============================] - 0s 3ms/step - loss: 0.0757 - accuracy: 0.9836 - val_loss: 0.8962 - val_accuracy: 0.7823\n",
      "Epoch 199/200\n",
      "85/85 [==============================] - 0s 4ms/step - loss: 0.0309 - accuracy: 0.9929 - val_loss: 0.8370 - val_accuracy: 0.8376\n",
      "Epoch 200/200\n",
      "85/85 [==============================] - 0s 3ms/step - loss: 0.0107 - accuracy: 0.9987 - val_loss: 0.9171 - val_accuracy: 0.8366\n"
     ]
    }
   ],
   "source": [
    "history = model.fit(X_train,  y_train_new, \n",
    "                    batch_size=100, \n",
    "                    epochs=200,\n",
    "                    shuffle=True,\n",
    "                    validation_split = 0.2)"
   ]
  },
  {
   "cell_type": "code",
   "execution_count": null,
   "metadata": {},
   "outputs": [
    {
     "data": {
      "image/png": "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",
      "text/plain": [
       "<Figure size 640x480 with 1 Axes>"
      ]
     },
     "metadata": {},
     "output_type": "display_data"
    }
   ],
   "source": [
    "plot_loss(history)"
   ]
  },
  {
   "cell_type": "code",
   "execution_count": null,
   "metadata": {},
   "outputs": [
    {
     "name": "stdout",
     "output_type": "stream",
     "text": [
      "83/83 [==============================] - 0s 1ms/step\n"
     ]
    },
    {
     "data": {
      "text/plain": [
       "array([0.0003108 , 0.00041288, 0.00018741, ..., 0.00028233, 0.00420183,\n",
       "       0.01305895], dtype=float32)"
      ]
     },
     "execution_count": 401,
     "metadata": {},
     "output_type": "execute_result"
    }
   ],
   "source": [
    "y_pred = model.predict(X_test).flatten()\n",
    "y_pred"
   ]
  },
  {
   "cell_type": "code",
   "execution_count": null,
   "metadata": {},
   "outputs": [
    {
     "name": "stdout",
     "output_type": "stream",
     "text": [
      "83/83 - 0s - loss: 0.8320 - accuracy: 0.8644 - 110ms/epoch - 1ms/step\n",
      "Model accuracy: 0.8644259572029114\n"
     ]
    }
   ],
   "source": [
    "loss, accuracy = model.evaluate(X_test, y_test_new, verbose=2)\n",
    "print(f'Model accuracy: {accuracy}')"
   ]
  },
  {
   "cell_type": "code",
   "execution_count": null,
   "metadata": {},
   "outputs": [
    {
     "name": "stdout",
     "output_type": "stream",
     "text": [
      "83/83 [==============================] - 0s 1ms/step - loss: 0.8320 - accuracy: 0.8644\n",
      "Loss: 0.8319762945175171\n",
      "Accuracy: 0.8644259572029114\n",
      "Precision: 0.09183673469387756\n",
      "Recall: 0.03225806451612903\n"
     ]
    },
    {
     "data": {
      "text/plain": [
       "(279.0, 98)"
      ]
     },
     "execution_count": 403,
     "metadata": {},
     "output_type": "execute_result"
    }
   ],
   "source": [
    "from sklearn.metrics import precision_score, recall_score\n",
    "y_pred_c = y_pred.round().astype(int)\n",
    "precision = precision_score(y_test_new, y_pred_c)\n",
    "recall = recall_score(y_test_new, y_pred_c)\n",
    "\n",
    "loss, accuracy = model.evaluate(X_test, y_test_new)\n",
    "\n",
    "print('Loss:', loss)\n",
    "print('Accuracy:', accuracy)\n",
    "print('Precision:', precision)\n",
    "print('Recall:', recall)\n",
    "y_test_new.sum(), y_pred_c.sum()"
>>>>>>> Stashed changes
   ]
  },
  {
   "cell_type": "code",
   "execution_count": null,
   "metadata": {},
   "outputs": [
    {
     "ename": "NameError",
     "evalue": "name 'y_test' is not defined",
     "output_type": "error",
     "traceback": [
      "\u001b[0;31m---------------------------------------------------------------------------\u001b[0m",
      "\u001b[0;31mNameError\u001b[0m                                 Traceback (most recent call last)",
      "\u001b[1;32m/home/weasel/reps/ai-seizure-detectives/model_rnn.ipynb Cell 56\u001b[0m line \u001b[0;36m2\n\u001b[1;32m      <a href='vscode-notebook-cell://wsl%2Bdebian/home/weasel/reps/ai-seizure-detectives/model_rnn.ipynb#Y102sdnNjb2RlLXJlbW90ZQ%3D%3D?line=0'>1</a>\u001b[0m a \u001b[39m=\u001b[39m plt\u001b[39m.\u001b[39maxes(aspect\u001b[39m=\u001b[39m\u001b[39m'\u001b[39m\u001b[39mequal\u001b[39m\u001b[39m'\u001b[39m)\n\u001b[0;32m----> <a href='vscode-notebook-cell://wsl%2Bdebian/home/weasel/reps/ai-seizure-detectives/model_rnn.ipynb#Y102sdnNjb2RlLXJlbW90ZQ%3D%3D?line=1'>2</a>\u001b[0m plt\u001b[39m.\u001b[39mscatter(y_test, y_pred)\n\u001b[1;32m      <a href='vscode-notebook-cell://wsl%2Bdebian/home/weasel/reps/ai-seizure-detectives/model_rnn.ipynb#Y102sdnNjb2RlLXJlbW90ZQ%3D%3D?line=2'>3</a>\u001b[0m plt\u001b[39m.\u001b[39mxlabel(\u001b[39m'\u001b[39m\u001b[39mTrue Values\u001b[39m\u001b[39m'\u001b[39m)\n\u001b[1;32m      <a href='vscode-notebook-cell://wsl%2Bdebian/home/weasel/reps/ai-seizure-detectives/model_rnn.ipynb#Y102sdnNjb2RlLXJlbW90ZQ%3D%3D?line=3'>4</a>\u001b[0m plt\u001b[39m.\u001b[39mylabel(\u001b[39m'\u001b[39m\u001b[39mPredictions\u001b[39m\u001b[39m'\u001b[39m)\n",
      "\u001b[0;31mNameError\u001b[0m: name 'y_test' is not defined"
     ]
    },
    {
     "data": {
      "image/png": "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",
      "text/plain": [
       "<Figure size 640x480 with 1 Axes>"
      ]
     },
     "metadata": {},
     "output_type": "display_data"
    }
   ],
   "source": [
    "# Assuming X_train and y_train are your training data\n",
    "# model.fit(X_train, y_train, epochs=100, batch_size=30)"
   ]
  }
 ],
 "metadata": {
  "kernelspec": {
   "display_name": ".venv",
   "language": "python",
   "name": "python3"
  },
  "language_info": {
   "codemirror_mode": {
    "name": "ipython",
    "version": 3
   },
   "file_extension": ".py",
   "mimetype": "text/x-python",
   "name": "python",
   "nbconvert_exporter": "python",
   "pygments_lexer": "ipython3",
   "version": "3.11.3"
  }
 },
 "nbformat": 4,
 "nbformat_minor": 2
}
