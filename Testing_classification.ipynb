{
 "cells": [
  {
   "cell_type": "code",
   "execution_count": 14,
   "metadata": {},
   "outputs": [],
   "source": [
    "import pandas as pd\n",
    "import numpy as np\n",
    "import mne\n",
    "import pickle \n",
    "from pickle import dump\n",
    "from mne.io import  read_raw_edf\n",
    "import matplotlib.pyplot as plt\n",
    "import seaborn as sns\n",
    "from source import data_import\n",
    "from sklearn.metrics import confusion_matrix, classification_report\n",
    "from sklearn.model_selection import train_test_split\n",
    "import joblib\n",
    "import tempfile\n",
    "import os\n",
    "from source.constants import CHANNELS, FREQUENCY_RANGES\n",
    "import scipy\n",
    "from scipy.signal import butter, lfilter"
   ]
  },
  {
   "cell_type": "code",
   "execution_count": 34,
   "metadata": {},
   "outputs": [
    {
     "name": "stdout",
     "output_type": "stream",
     "text": [
      "/Users/anabroggini/Documents/bootcamp/ai2/source/../data/feature_extracted .arrow was loaded.\n"
     ]
    }
   ],
   "source": [
    "df = data_import.load_pyarrow(file_name=\"feature_extracted \")"
   ]
  },
  {
   "cell_type": "code",
   "execution_count": 35,
   "metadata": {},
   "outputs": [
    {
     "data": {
      "text/html": [
       "<div>\n",
       "<style scoped>\n",
       "    .dataframe tbody tr th:only-of-type {\n",
       "        vertical-align: middle;\n",
       "    }\n",
       "\n",
       "    .dataframe tbody tr th {\n",
       "        vertical-align: top;\n",
       "    }\n",
       "\n",
       "    .dataframe thead th {\n",
       "        text-align: right;\n",
       "    }\n",
       "</style>\n",
       "<table border=\"1\" class=\"dataframe\">\n",
       "  <thead>\n",
       "    <tr style=\"text-align: right;\">\n",
       "      <th></th>\n",
       "      <th>seizure_id</th>\n",
       "      <th>segment_id</th>\n",
       "      <th>is_seizure</th>\n",
       "      <th>F4-C4_std</th>\n",
       "      <th>F4-C4_var</th>\n",
       "      <th>F4-C4_mean</th>\n",
       "      <th>F4-C4_abs_mean</th>\n",
       "      <th>F4-C4_delta</th>\n",
       "      <th>F4-C4_theta</th>\n",
       "      <th>F4-C4_gamma</th>\n",
       "      <th>...</th>\n",
       "      <th>FP1-F3_delta</th>\n",
       "      <th>FP1-F3_theta</th>\n",
       "      <th>FP1-F3_gamma</th>\n",
       "      <th>CZ-PZ_std</th>\n",
       "      <th>CZ-PZ_var</th>\n",
       "      <th>CZ-PZ_mean</th>\n",
       "      <th>CZ-PZ_abs_mean</th>\n",
       "      <th>CZ-PZ_delta</th>\n",
       "      <th>CZ-PZ_theta</th>\n",
       "      <th>CZ-PZ_gamma</th>\n",
       "    </tr>\n",
       "  </thead>\n",
       "  <tbody>\n",
       "    <tr>\n",
       "      <th>0</th>\n",
       "      <td>0</td>\n",
       "      <td>0</td>\n",
       "      <td>False</td>\n",
       "      <td>26.608636</td>\n",
       "      <td>708.019529</td>\n",
       "      <td>0.023863</td>\n",
       "      <td>19.505481</td>\n",
       "      <td>99.563890</td>\n",
       "      <td>26.281879</td>\n",
       "      <td>0.551555</td>\n",
       "      <td>...</td>\n",
       "      <td>346.084315</td>\n",
       "      <td>64.842219</td>\n",
       "      <td>8.286583</td>\n",
       "      <td>29.122383</td>\n",
       "      <td>848.113174</td>\n",
       "      <td>2.203434</td>\n",
       "      <td>20.289365</td>\n",
       "      <td>137.834177</td>\n",
       "      <td>37.725855</td>\n",
       "      <td>0.255758</td>\n",
       "    </tr>\n",
       "    <tr>\n",
       "      <th>1</th>\n",
       "      <td>0</td>\n",
       "      <td>1</td>\n",
       "      <td>False</td>\n",
       "      <td>25.884854</td>\n",
       "      <td>670.025660</td>\n",
       "      <td>-0.139982</td>\n",
       "      <td>18.224443</td>\n",
       "      <td>101.516124</td>\n",
       "      <td>24.805891</td>\n",
       "      <td>0.549208</td>\n",
       "      <td>...</td>\n",
       "      <td>142.811834</td>\n",
       "      <td>54.132612</td>\n",
       "      <td>12.542004</td>\n",
       "      <td>27.997680</td>\n",
       "      <td>783.870065</td>\n",
       "      <td>-1.106477</td>\n",
       "      <td>19.785279</td>\n",
       "      <td>114.492765</td>\n",
       "      <td>35.674094</td>\n",
       "      <td>0.309405</td>\n",
       "    </tr>\n",
       "    <tr>\n",
       "      <th>2</th>\n",
       "      <td>0</td>\n",
       "      <td>2</td>\n",
       "      <td>False</td>\n",
       "      <td>21.037686</td>\n",
       "      <td>442.584228</td>\n",
       "      <td>0.631048</td>\n",
       "      <td>15.457515</td>\n",
       "      <td>69.388422</td>\n",
       "      <td>14.019323</td>\n",
       "      <td>0.473173</td>\n",
       "      <td>...</td>\n",
       "      <td>739.054151</td>\n",
       "      <td>65.174735</td>\n",
       "      <td>4.685447</td>\n",
       "      <td>23.147740</td>\n",
       "      <td>535.817871</td>\n",
       "      <td>-1.023719</td>\n",
       "      <td>18.166435</td>\n",
       "      <td>81.360188</td>\n",
       "      <td>21.100725</td>\n",
       "      <td>0.254085</td>\n",
       "    </tr>\n",
       "    <tr>\n",
       "      <th>3</th>\n",
       "      <td>0</td>\n",
       "      <td>3</td>\n",
       "      <td>False</td>\n",
       "      <td>24.740861</td>\n",
       "      <td>612.110181</td>\n",
       "      <td>-0.149270</td>\n",
       "      <td>17.969433</td>\n",
       "      <td>101.927819</td>\n",
       "      <td>19.748344</td>\n",
       "      <td>0.569984</td>\n",
       "      <td>...</td>\n",
       "      <td>869.540612</td>\n",
       "      <td>96.307576</td>\n",
       "      <td>7.998007</td>\n",
       "      <td>28.321972</td>\n",
       "      <td>802.134118</td>\n",
       "      <td>1.266842</td>\n",
       "      <td>21.061472</td>\n",
       "      <td>117.478709</td>\n",
       "      <td>23.682498</td>\n",
       "      <td>0.305565</td>\n",
       "    </tr>\n",
       "    <tr>\n",
       "      <th>4</th>\n",
       "      <td>0</td>\n",
       "      <td>4</td>\n",
       "      <td>False</td>\n",
       "      <td>24.711581</td>\n",
       "      <td>610.662235</td>\n",
       "      <td>0.056478</td>\n",
       "      <td>18.635458</td>\n",
       "      <td>78.193766</td>\n",
       "      <td>18.391775</td>\n",
       "      <td>0.696673</td>\n",
       "      <td>...</td>\n",
       "      <td>496.665690</td>\n",
       "      <td>113.406518</td>\n",
       "      <td>7.170648</td>\n",
       "      <td>22.775900</td>\n",
       "      <td>518.741632</td>\n",
       "      <td>1.082338</td>\n",
       "      <td>18.012052</td>\n",
       "      <td>63.030117</td>\n",
       "      <td>27.597611</td>\n",
       "      <td>0.314608</td>\n",
       "    </tr>\n",
       "  </tbody>\n",
       "</table>\n",
       "<p>5 rows × 73 columns</p>\n",
       "</div>"
      ],
      "text/plain": [
       "   seizure_id  segment_id  is_seizure  F4-C4_std   F4-C4_var  F4-C4_mean  \\\n",
       "0           0           0       False  26.608636  708.019529    0.023863   \n",
       "1           0           1       False  25.884854  670.025660   -0.139982   \n",
       "2           0           2       False  21.037686  442.584228    0.631048   \n",
       "3           0           3       False  24.740861  612.110181   -0.149270   \n",
       "4           0           4       False  24.711581  610.662235    0.056478   \n",
       "\n",
       "   F4-C4_abs_mean  F4-C4_delta  F4-C4_theta  F4-C4_gamma  ...  FP1-F3_delta  \\\n",
       "0       19.505481    99.563890    26.281879     0.551555  ...    346.084315   \n",
       "1       18.224443   101.516124    24.805891     0.549208  ...    142.811834   \n",
       "2       15.457515    69.388422    14.019323     0.473173  ...    739.054151   \n",
       "3       17.969433   101.927819    19.748344     0.569984  ...    869.540612   \n",
       "4       18.635458    78.193766    18.391775     0.696673  ...    496.665690   \n",
       "\n",
       "   FP1-F3_theta  FP1-F3_gamma  CZ-PZ_std   CZ-PZ_var  CZ-PZ_mean  \\\n",
       "0     64.842219      8.286583  29.122383  848.113174    2.203434   \n",
       "1     54.132612     12.542004  27.997680  783.870065   -1.106477   \n",
       "2     65.174735      4.685447  23.147740  535.817871   -1.023719   \n",
       "3     96.307576      7.998007  28.321972  802.134118    1.266842   \n",
       "4    113.406518      7.170648  22.775900  518.741632    1.082338   \n",
       "\n",
       "   CZ-PZ_abs_mean  CZ-PZ_delta  CZ-PZ_theta  CZ-PZ_gamma  \n",
       "0       20.289365   137.834177    37.725855     0.255758  \n",
       "1       19.785279   114.492765    35.674094     0.309405  \n",
       "2       18.166435    81.360188    21.100725     0.254085  \n",
       "3       21.061472   117.478709    23.682498     0.305565  \n",
       "4       18.012052    63.030117    27.597611     0.314608  \n",
       "\n",
       "[5 rows x 73 columns]"
      ]
     },
     "execution_count": 35,
     "metadata": {},
     "output_type": "execute_result"
    }
   ],
   "source": [
    "df.head()"
   ]
  },
  {
   "cell_type": "code",
   "execution_count": 37,
   "metadata": {},
   "outputs": [],
   "source": [
    "y = df[\"is_seizure\"]\n",
    "X = df.drop(columns=[\"seizure_id\", \"is_seizure\",\"segment_id\" ])"
   ]
  },
  {
   "cell_type": "code",
   "execution_count": 38,
   "metadata": {},
   "outputs": [],
   "source": [
    "X_train, X_test, y_train, y_test = train_test_split(X, y, test_size=0.2, stratify=y, random_state=42)"
   ]
  },
  {
   "cell_type": "code",
   "execution_count": 39,
   "metadata": {},
   "outputs": [],
   "source": [
    "model_path = \"Class_models/best_xgboost_model.pkl\"  \n",
    "loaded_model=joblib.load(model_path)\n"
   ]
  },
  {
   "cell_type": "code",
   "execution_count": 40,
   "metadata": {},
   "outputs": [],
   "source": [
    "loaded_model=joblib.load(model_path)"
   ]
  },
  {
   "cell_type": "code",
   "execution_count": 41,
   "metadata": {},
   "outputs": [],
   "source": [
    "\n",
    "# Perform classification using the loaded model\n",
    "predictions = loaded_model.predict(X_test) \n"
   ]
  },
  {
   "cell_type": "code",
   "execution_count": 42,
   "metadata": {},
   "outputs": [
    {
     "name": "stdout",
     "output_type": "stream",
     "text": [
      "Confusion Matrix:\n",
      "[[294   4]\n",
      " [  6 161]]\n"
     ]
    }
   ],
   "source": [
    "confusion = confusion_matrix(y_test, predictions)\n",
    "print(\"Confusion Matrix:\")\n",
    "print(confusion)"
   ]
  },
  {
   "cell_type": "code",
   "execution_count": 43,
   "metadata": {},
   "outputs": [
    {
     "data": {
      "image/png": "[encoded data removed]",
      "text/plain": [
       "<Figure size 640x480 with 1 Axes>"
      ]
     },
     "metadata": {},
     "output_type": "display_data"
    },
    {
     "name": "stdout",
     "output_type": "stream",
     "text": [
      "\n"
     ]
    }
   ],
   "source": [
    "labels = ['No Seizure', 'Seizure']\n",
    "mat = confusion.T  # Transpose to match your reference code\n",
    "sns.heatmap(mat, square=True, annot=True, fmt='d', cbar=False, xticklabels=labels, yticklabels=labels)\n",
    "plt.xlabel('True label')\n",
    "plt.ylabel('Predicted label')\n",
    "#plt.title(f'Confusion Matrix for {XG boost}')\n",
    "plt.show()\n",
    "print()"
   ]
  },
  {
   "cell_type": "code",
   "execution_count": 45,
   "metadata": {},
   "outputs": [
    {
     "name": "stdout",
     "output_type": "stream",
     "text": [
      "Classification Report:\n",
      "              precision    recall  f1-score   support\n",
      "\n",
      "       False       0.98      0.99      0.98       298\n",
      "        True       0.98      0.96      0.97       167\n",
      "\n",
      "    accuracy                           0.98       465\n",
      "   macro avg       0.98      0.98      0.98       465\n",
      "weighted avg       0.98      0.98      0.98       465\n",
      "\n"
     ]
    }
   ],
   "source": [
    "report = classification_report(y_test, predictions)\n",
    "print(\"Classification Report:\")\n",
    "print(report)"
   ]
  }
 ],
 "metadata": {
  "kernelspec": {
   "display_name": ".venv",
   "language": "python",
   "name": "python3"
  },
  "language_info": {
   "codemirror_mode": {
    "name": "ipython",
    "version": 3
   },
   "file_extension": ".py",
   "mimetype": "text/x-python",
   "name": "python",
   "nbconvert_exporter": "python",
   "pygments_lexer": "ipython3",
   "version": "3.11.3"
  }
 },
 "nbformat": 4,
 "nbformat_minor": 2
}
