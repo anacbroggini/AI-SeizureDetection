{
 "cells": [
  {
   "cell_type": "code",
   "execution_count": 1,
   "metadata": {},
   "outputs": [],
   "source": [
    "import pandas as pd\n",
    "import numpy as np\n",
    "import mne\n",
    "import pickle \n",
    "from pickle import dump\n",
    "from mne.io import  read_raw_edf\n",
    "import matplotlib.pyplot as plt\n",
    "import seaborn as sns\n",
    "from source import data_import\n",
    "from filter_eeg_channels_web import filter_eeg_channels\n",
    "import joblib\n",
    "import tempfile\n",
    "import os\n",
    "from source.constants import CHANNELS, FREQUENCY_RANGES\n",
    "from extract_features import extract_features\n",
    "import scipy\n",
    "from scipy.signal import butter, lfilter"
   ]
  },
  {
   "cell_type": "code",
   "execution_count": 2,
   "metadata": {},
   "outputs": [],
   "source": [
    "temp_filepath ='data/chb09/chb09_08.edf'"
   ]
  },
  {
   "cell_type": "code",
   "execution_count": 3,
   "metadata": {},
   "outputs": [],
   "source": [
    "edf_df_classifier = data_import.load_segmented_unlabeled_data(temp_filepath, channels=CHANNELS)"
   ]
  },
  {
   "cell_type": "code",
   "execution_count": 4,
   "metadata": {},
   "outputs": [],
   "source": [
    "exclude_ranges=[[58, 62], [118, 122]]\n",
    "filtered = filter_eeg_channels(edf_df_classifier, CHANNELS, fs=256, exclude_ranges=exclude_ranges, Q=30)"
   ]
  },
  {
   "cell_type": "code",
   "execution_count": 5,
   "metadata": {},
   "outputs": [],
   "source": [
    " # Extract features from the preprocessed data\n",
    "extracted_features = extract_features(filtered)"
   ]
  },
  {
   "cell_type": "code",
   "execution_count": 6,
   "metadata": {},
   "outputs": [
    {
     "name": "stdout",
     "output_type": "stream",
     "text": [
      "<class 'pandas.core.frame.DataFrame'>\n",
      "RangeIndex: 2880 entries, 0 to 2879\n",
      "Data columns (total 70 columns):\n",
      " #   Column             Non-Null Count  Dtype  \n",
      "---  ------             --------------  -----  \n",
      " 0   F4-C4_std          2880 non-null   float64\n",
      " 1   F4-C4_var          2880 non-null   float64\n",
      " 2   F4-C4_mean         2880 non-null   float64\n",
      " 3   F4-C4_abs_mean     2880 non-null   float64\n",
      " 4   F4-C4_delta        2880 non-null   float64\n",
      " 5   F4-C4_theta        2880 non-null   float64\n",
      " 6   F4-C4_gamma        2880 non-null   float64\n",
      " 7   F3-C3_std          2880 non-null   float64\n",
      " 8   F3-C3_var          2880 non-null   float64\n",
      " 9   F3-C3_mean         2880 non-null   float64\n",
      " 10  F3-C3_abs_mean     2880 non-null   float64\n",
      " 11  F3-C3_delta        2880 non-null   float64\n",
      " 12  F3-C3_theta        2880 non-null   float64\n",
      " 13  F3-C3_gamma        2880 non-null   float64\n",
      " 14  FT9-FT10_std       2880 non-null   float64\n",
      " 15  FT9-FT10_var       2880 non-null   float64\n",
      " 16  FT9-FT10_mean      2880 non-null   float64\n",
      " 17  FT9-FT10_abs_mean  2880 non-null   float64\n",
      " 18  FT9-FT10_delta     2880 non-null   float64\n",
      " 19  FT9-FT10_theta     2880 non-null   float64\n",
      " 20  FT9-FT10_gamma     2880 non-null   float64\n",
      " 21  FZ-CZ_std          2880 non-null   float64\n",
      " 22  FZ-CZ_var          2880 non-null   float64\n",
      " 23  FZ-CZ_mean         2880 non-null   float64\n",
      " 24  FZ-CZ_abs_mean     2880 non-null   float64\n",
      " 25  FZ-CZ_delta        2880 non-null   float64\n",
      " 26  FZ-CZ_theta        2880 non-null   float64\n",
      " 27  FZ-CZ_gamma        2880 non-null   float64\n",
      " 28  F7-T7_std          2880 non-null   float64\n",
      " 29  F7-T7_var          2880 non-null   float64\n",
      " 30  F7-T7_mean         2880 non-null   float64\n",
      " 31  F7-T7_abs_mean     2880 non-null   float64\n",
      " 32  F7-T7_delta        2880 non-null   float64\n",
      " 33  F7-T7_theta        2880 non-null   float64\n",
      " 34  F7-T7_gamma        2880 non-null   float64\n",
      " 35  FP2-F4_std         2880 non-null   float64\n",
      " 36  FP2-F4_var         2880 non-null   float64\n",
      " 37  FP2-F4_mean        2880 non-null   float64\n",
      " 38  FP2-F4_abs_mean    2880 non-null   float64\n",
      " 39  FP2-F4_delta       2880 non-null   float64\n",
      " 40  FP2-F4_theta       2880 non-null   float64\n",
      " 41  FP2-F4_gamma       2880 non-null   float64\n",
      " 42  T8-P8-1_std        2880 non-null   float64\n",
      " 43  T8-P8-1_var        2880 non-null   float64\n",
      " 44  T8-P8-1_mean       2880 non-null   float64\n",
      " 45  T8-P8-1_abs_mean   2880 non-null   float64\n",
      " 46  T8-P8-1_delta      2880 non-null   float64\n",
      " 47  T8-P8-1_theta      2880 non-null   float64\n",
      " 48  T8-P8-1_gamma      2880 non-null   float64\n",
      " 49  T8-P8-0_std        2880 non-null   float64\n",
      " 50  T8-P8-0_var        2880 non-null   float64\n",
      " 51  T8-P8-0_mean       2880 non-null   float64\n",
      " 52  T8-P8-0_abs_mean   2880 non-null   float64\n",
      " 53  T8-P8-0_delta      2880 non-null   float64\n",
      " 54  T8-P8-0_theta      2880 non-null   float64\n",
      " 55  T8-P8-0_gamma      2880 non-null   float64\n",
      " 56  FP1-F3_std         2880 non-null   float64\n",
      " 57  FP1-F3_var         2880 non-null   float64\n",
      " 58  FP1-F3_mean        2880 non-null   float64\n",
      " 59  FP1-F3_abs_mean    2880 non-null   float64\n",
      " 60  FP1-F3_delta       2880 non-null   float64\n",
      " 61  FP1-F3_theta       2880 non-null   float64\n",
      " 62  FP1-F3_gamma       2880 non-null   float64\n",
      " 63  CZ-PZ_std          2880 non-null   float64\n",
      " 64  CZ-PZ_var          2880 non-null   float64\n",
      " 65  CZ-PZ_mean         2880 non-null   float64\n",
      " 66  CZ-PZ_abs_mean     2880 non-null   float64\n",
      " 67  CZ-PZ_delta        2880 non-null   float64\n",
      " 68  CZ-PZ_theta        2880 non-null   float64\n",
      " 69  CZ-PZ_gamma        2880 non-null   float64\n",
      "dtypes: float64(70)\n",
      "memory usage: 1.5 MB\n"
     ]
    }
   ],
   "source": [
    "extracted_features.info()"
   ]
  },
  {
   "cell_type": "code",
   "execution_count": 7,
   "metadata": {},
   "outputs": [],
   "source": [
    "model_path = \"xgboost_model.joblib\"  \n",
    "loaded_model = joblib.load(model_path)"
   ]
  },
  {
   "cell_type": "code",
   "execution_count": 8,
   "metadata": {},
   "outputs": [],
   "source": [
    "\n",
    "\n",
    "# Perform classification using the loaded model\n",
    "predictions = loaded_model.predict(extracted_features) \n"
   ]
  },
  {
   "cell_type": "code",
   "execution_count": 9,
   "metadata": {},
   "outputs": [
    {
     "name": "stdout",
     "output_type": "stream",
     "text": [
      "[0 0 0 ... 1 0 0]\n"
     ]
    }
   ],
   "source": [
    "print(predictions)"
   ]
  },
  {
   "cell_type": "code",
   "execution_count": 10,
   "metadata": {},
   "outputs": [
    {
     "data": {
      "text/plain": [
       "(2880,)"
      ]
     },
     "execution_count": 10,
     "metadata": {},
     "output_type": "execute_result"
    }
   ],
   "source": [
    "predictions.shape\n"
   ]
  }
 ],
 "metadata": {
  "kernelspec": {
   "display_name": ".venv",
   "language": "python",
   "name": "python3"
  },
  "language_info": {
   "codemirror_mode": {
    "name": "ipython",
    "version": 3
   },
   "file_extension": ".py",
   "mimetype": "text/x-python",
   "name": "python",
   "nbconvert_exporter": "python",
   "pygments_lexer": "ipython3",
   "version": "3.11.3"
  }
 },
 "nbformat": 4,
 "nbformat_minor": 2
}
