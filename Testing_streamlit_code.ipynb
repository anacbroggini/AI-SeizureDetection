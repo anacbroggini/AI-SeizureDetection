{
 "cells": [
  {
   "cell_type": "code",
   "execution_count": 14,
   "metadata": {},
   "outputs": [],
   "source": [
    "import pandas as pd\n",
    "import numpy as np\n",
    "import mne\n",
    "import pickle \n",
    "from pickle import dump\n",
    "from mne.io import  read_raw_edf\n",
    "import matplotlib.pyplot as plt\n",
    "import seaborn as sns\n",
    "from source import data_import\n",
    "from filter_eeg_channels_web import filter_eeg_channels\n",
    "from sklearn.metrics import confusion_matrix, classification_report\n",
    "from sklearn.model_selection import train_test_split\n",
    "import joblib\n",
    "import tempfile\n",
    "import os\n",
    "from source.constants import CHANNELS, FREQUENCY_RANGES\n",
    "from extract_features import extract_features\n",
    "import scipy\n",
    "from scipy.signal import butter, lfilter"
   ]
  },
  {
   "cell_type": "code",
   "execution_count": 2,
   "metadata": {},
   "outputs": [],
   "source": [
    "temp_filepath ='data/chb05/chb05_06.edf'"
   ]
  },
  {
   "cell_type": "code",
   "execution_count": 3,
   "metadata": {},
   "outputs": [
    {
     "ename": "KeyError",
     "evalue": "Timedelta('0 days 01:00:00')",
     "output_type": "error",
     "traceback": [
      "\u001b[0;31m---------------------------------------------------------------------------\u001b[0m",
      "\u001b[0;31mKeyError\u001b[0m                                  Traceback (most recent call last)",
      "File \u001b[0;32mindex.pyx:598\u001b[0m, in \u001b[0;36mpandas._libs.index.DatetimeEngine.get_loc\u001b[0;34m()\u001b[0m\n",
      "File \u001b[0;32mpandas/_libs/hashtable_class_helper.pxi:2606\u001b[0m, in \u001b[0;36mpandas._libs.hashtable.Int64HashTable.get_item\u001b[0;34m()\u001b[0m\n",
      "File \u001b[0;32mpandas/_libs/hashtable_class_helper.pxi:2630\u001b[0m, in \u001b[0;36mpandas._libs.hashtable.Int64HashTable.get_item\u001b[0;34m()\u001b[0m\n",
      "\u001b[0;31mKeyError\u001b[0m: 3600000000000",
      "\nDuring handling of the above exception, another exception occurred:\n",
      "\u001b[0;31mKeyError\u001b[0m                                  Traceback (most recent call last)",
      "File \u001b[0;32m~/Documents/bootcamp/ai2/.venv/lib/python3.11/site-packages/pandas/core/indexes/base.py:3790\u001b[0m, in \u001b[0;36mIndex.get_loc\u001b[0;34m(self, key)\u001b[0m\n\u001b[1;32m   3789\u001b[0m \u001b[39mtry\u001b[39;00m:\n\u001b[0;32m-> 3790\u001b[0m     \u001b[39mreturn\u001b[39;00m \u001b[39mself\u001b[39;49m\u001b[39m.\u001b[39;49m_engine\u001b[39m.\u001b[39;49mget_loc(casted_key)\n\u001b[1;32m   3791\u001b[0m \u001b[39mexcept\u001b[39;00m \u001b[39mKeyError\u001b[39;00m \u001b[39mas\u001b[39;00m err:\n",
      "File \u001b[0;32mindex.pyx:566\u001b[0m, in \u001b[0;36mpandas._libs.index.DatetimeEngine.get_loc\u001b[0;34m()\u001b[0m\n",
      "File \u001b[0;32mindex.pyx:600\u001b[0m, in \u001b[0;36mpandas._libs.index.DatetimeEngine.get_loc\u001b[0;34m()\u001b[0m\n",
      "\u001b[0;31mKeyError\u001b[0m: Timedelta('0 days 01:00:00')",
      "\nThe above exception was the direct cause of the following exception:\n",
      "\u001b[0;31mKeyError\u001b[0m                                  Traceback (most recent call last)",
      "\u001b[1;32m/Users/anabroggini/Documents/bootcamp/ai2/Testing_streamlit_code.ipynb Cell 3\u001b[0m line \u001b[0;36m1\n\u001b[0;32m----> <a href='vscode-notebook-cell:/Users/anabroggini/Documents/bootcamp/ai2/Testing_streamlit_code.ipynb#W3sZmlsZQ%3D%3D?line=0'>1</a>\u001b[0m edf_df_classifier \u001b[39m=\u001b[39m data_import\u001b[39m.\u001b[39;49mload_segmented_unlabeled_data(temp_filepath, channels\u001b[39m=\u001b[39;49mCHANNELS)\n",
      "File \u001b[0;32m~/Documents/bootcamp/ai2/source/data_import.py:422\u001b[0m, in \u001b[0;36mload_segmented_unlabeled_data\u001b[0;34m(file_path, channels)\u001b[0m\n\u001b[1;32m    420\u001b[0m nr_segments \u001b[39m=\u001b[39m \u001b[39mint\u001b[39m(\u001b[39mlen\u001b[39m(df\u001b[39m.\u001b[39mindex) \u001b[39m/\u001b[39m\u001b[39m/\u001b[39m (segment_duration \u001b[39m*\u001b[39m raw\u001b[39m.\u001b[39minfo[\u001b[39m'\u001b[39m\u001b[39msfreq\u001b[39m\u001b[39m'\u001b[39m]))\n\u001b[1;32m    421\u001b[0m crop_at \u001b[39m=\u001b[39m pd\u001b[39m.\u001b[39mTimedelta(seconds\u001b[39m=\u001b[39mnr_segments \u001b[39m*\u001b[39m segment_duration)\n\u001b[0;32m--> 422\u001b[0m iloc_idx \u001b[39m=\u001b[39m df\u001b[39m.\u001b[39;49mindex\u001b[39m.\u001b[39;49mget_loc(crop_at)\n\u001b[1;32m    423\u001b[0m segments \u001b[39m=\u001b[39m df\u001b[39m.\u001b[39miloc[:iloc_idx,:]\u001b[39m.\u001b[39mcopy()\n\u001b[1;32m    424\u001b[0m \u001b[39m# add segment numbers and epoch id\u001b[39;00m\n\u001b[1;32m    425\u001b[0m \u001b[39m# segments['epoch'] = 0\u001b[39;00m\n",
      "File \u001b[0;32m~/Documents/bootcamp/ai2/.venv/lib/python3.11/site-packages/pandas/core/indexes/timedeltas.py:239\u001b[0m, in \u001b[0;36mTimedeltaIndex.get_loc\u001b[0;34m(self, key)\u001b[0m\n\u001b[1;32m    236\u001b[0m \u001b[39mexcept\u001b[39;00m \u001b[39mTypeError\u001b[39;00m \u001b[39mas\u001b[39;00m err:\n\u001b[1;32m    237\u001b[0m     \u001b[39mraise\u001b[39;00m \u001b[39mKeyError\u001b[39;00m(key) \u001b[39mfrom\u001b[39;00m \u001b[39merr\u001b[39;00m\n\u001b[0;32m--> 239\u001b[0m \u001b[39mreturn\u001b[39;00m Index\u001b[39m.\u001b[39;49mget_loc(\u001b[39mself\u001b[39;49m, key)\n",
      "File \u001b[0;32m~/Documents/bootcamp/ai2/.venv/lib/python3.11/site-packages/pandas/core/indexes/base.py:3797\u001b[0m, in \u001b[0;36mIndex.get_loc\u001b[0;34m(self, key)\u001b[0m\n\u001b[1;32m   3792\u001b[0m     \u001b[39mif\u001b[39;00m \u001b[39misinstance\u001b[39m(casted_key, \u001b[39mslice\u001b[39m) \u001b[39mor\u001b[39;00m (\n\u001b[1;32m   3793\u001b[0m         \u001b[39misinstance\u001b[39m(casted_key, abc\u001b[39m.\u001b[39mIterable)\n\u001b[1;32m   3794\u001b[0m         \u001b[39mand\u001b[39;00m \u001b[39many\u001b[39m(\u001b[39misinstance\u001b[39m(x, \u001b[39mslice\u001b[39m) \u001b[39mfor\u001b[39;00m x \u001b[39min\u001b[39;00m casted_key)\n\u001b[1;32m   3795\u001b[0m     ):\n\u001b[1;32m   3796\u001b[0m         \u001b[39mraise\u001b[39;00m InvalidIndexError(key)\n\u001b[0;32m-> 3797\u001b[0m     \u001b[39mraise\u001b[39;00m \u001b[39mKeyError\u001b[39;00m(key) \u001b[39mfrom\u001b[39;00m \u001b[39merr\u001b[39;00m\n\u001b[1;32m   3798\u001b[0m \u001b[39mexcept\u001b[39;00m \u001b[39mTypeError\u001b[39;00m:\n\u001b[1;32m   3799\u001b[0m     \u001b[39m# If we have a listlike key, _check_indexing_error will raise\u001b[39;00m\n\u001b[1;32m   3800\u001b[0m     \u001b[39m#  InvalidIndexError. Otherwise we fall through and re-raise\u001b[39;00m\n\u001b[1;32m   3801\u001b[0m     \u001b[39m#  the TypeError.\u001b[39;00m\n\u001b[1;32m   3802\u001b[0m     \u001b[39mself\u001b[39m\u001b[39m.\u001b[39m_check_indexing_error(key)\n",
      "\u001b[0;31mKeyError\u001b[0m: Timedelta('0 days 01:00:00')"
     ]
    }
   ],
   "source": [
    "edf_df_classifier = data_import.load_segmented_unlabeled_data(temp_filepath, channels=CHANNELS)"
   ]
  },
  {
   "cell_type": "code",
   "execution_count": 57,
   "metadata": {},
   "outputs": [],
   "source": [
    "edf_df_classifier= edf_df_classifier.reset_index(drop=True)"
   ]
  },
  {
   "cell_type": "code",
   "execution_count": 58,
   "metadata": {},
   "outputs": [],
   "source": [
    "exclude_ranges=[[58, 62], [118, 122]]\n",
    "filtered = filter_eeg_channels(edf_df_classifier, CHANNELS, fs=256, exclude_ranges=exclude_ranges, Q=30)"
   ]
  },
  {
   "cell_type": "code",
   "execution_count": 59,
   "metadata": {},
   "outputs": [],
   "source": [
    " # Extract features from the preprocessed data\n",
    "extracted_features = extract_features(filtered)"
   ]
  },
  {
   "cell_type": "code",
   "execution_count": 61,
   "metadata": {},
   "outputs": [
    {
     "name": "stdout",
     "output_type": "stream",
     "text": [
      "<class 'pandas.core.frame.DataFrame'>\n",
      "RangeIndex: 720 entries, 0 to 719\n",
      "Data columns (total 70 columns):\n",
      " #   Column             Non-Null Count  Dtype  \n",
      "---  ------             --------------  -----  \n",
      " 0   F4-C4_std          720 non-null    float64\n",
      " 1   F4-C4_var          720 non-null    float64\n",
      " 2   F4-C4_mean         720 non-null    float64\n",
      " 3   F4-C4_abs_mean     720 non-null    float64\n",
      " 4   F4-C4_delta        720 non-null    float64\n",
      " 5   F4-C4_theta        720 non-null    float64\n",
      " 6   F4-C4_gamma        720 non-null    float64\n",
      " 7   F3-C3_std          720 non-null    float64\n",
      " 8   F3-C3_var          720 non-null    float64\n",
      " 9   F3-C3_mean         720 non-null    float64\n",
      " 10  F3-C3_abs_mean     720 non-null    float64\n",
      " 11  F3-C3_delta        720 non-null    float64\n",
      " 12  F3-C3_theta        720 non-null    float64\n",
      " 13  F3-C3_gamma        720 non-null    float64\n",
      " 14  FT9-FT10_std       720 non-null    float64\n",
      " 15  FT9-FT10_var       720 non-null    float64\n",
      " 16  FT9-FT10_mean      720 non-null    float64\n",
      " 17  FT9-FT10_abs_mean  720 non-null    float64\n",
      " 18  FT9-FT10_delta     720 non-null    float64\n",
      " 19  FT9-FT10_theta     720 non-null    float64\n",
      " 20  FT9-FT10_gamma     720 non-null    float64\n",
      " 21  FZ-CZ_std          720 non-null    float64\n",
      " 22  FZ-CZ_var          720 non-null    float64\n",
      " 23  FZ-CZ_mean         720 non-null    float64\n",
      " 24  FZ-CZ_abs_mean     720 non-null    float64\n",
      " 25  FZ-CZ_delta        720 non-null    float64\n",
      " 26  FZ-CZ_theta        720 non-null    float64\n",
      " 27  FZ-CZ_gamma        720 non-null    float64\n",
      " 28  F7-T7_std          720 non-null    float64\n",
      " 29  F7-T7_var          720 non-null    float64\n",
      " 30  F7-T7_mean         720 non-null    float64\n",
      " 31  F7-T7_abs_mean     720 non-null    float64\n",
      " 32  F7-T7_delta        720 non-null    float64\n",
      " 33  F7-T7_theta        720 non-null    float64\n",
      " 34  F7-T7_gamma        720 non-null    float64\n",
      " 35  FP2-F4_std         720 non-null    float64\n",
      " 36  FP2-F4_var         720 non-null    float64\n",
      " 37  FP2-F4_mean        720 non-null    float64\n",
      " 38  FP2-F4_abs_mean    720 non-null    float64\n",
      " 39  FP2-F4_delta       720 non-null    float64\n",
      " 40  FP2-F4_theta       720 non-null    float64\n",
      " 41  FP2-F4_gamma       720 non-null    float64\n",
      " 42  T8-P8-1_std        720 non-null    float64\n",
      " 43  T8-P8-1_var        720 non-null    float64\n",
      " 44  T8-P8-1_mean       720 non-null    float64\n",
      " 45  T8-P8-1_abs_mean   720 non-null    float64\n",
      " 46  T8-P8-1_delta      720 non-null    float64\n",
      " 47  T8-P8-1_theta      720 non-null    float64\n",
      " 48  T8-P8-1_gamma      720 non-null    float64\n",
      " 49  T8-P8-0_std        720 non-null    float64\n",
      " 50  T8-P8-0_var        720 non-null    float64\n",
      " 51  T8-P8-0_mean       720 non-null    float64\n",
      " 52  T8-P8-0_abs_mean   720 non-null    float64\n",
      " 53  T8-P8-0_delta      720 non-null    float64\n",
      " 54  T8-P8-0_theta      720 non-null    float64\n",
      " 55  T8-P8-0_gamma      720 non-null    float64\n",
      " 56  FP1-F3_std         720 non-null    float64\n",
      " 57  FP1-F3_var         720 non-null    float64\n",
      " 58  FP1-F3_mean        720 non-null    float64\n",
      " 59  FP1-F3_abs_mean    720 non-null    float64\n",
      " 60  FP1-F3_delta       720 non-null    float64\n",
      " 61  FP1-F3_theta       720 non-null    float64\n",
      " 62  FP1-F3_gamma       720 non-null    float64\n",
      " 63  CZ-PZ_std          720 non-null    float64\n",
      " 64  CZ-PZ_var          720 non-null    float64\n",
      " 65  CZ-PZ_mean         720 non-null    float64\n",
      " 66  CZ-PZ_abs_mean     720 non-null    float64\n",
      " 67  CZ-PZ_delta        720 non-null    float64\n",
      " 68  CZ-PZ_theta        720 non-null    float64\n",
      " 69  CZ-PZ_gamma        720 non-null    float64\n",
      "dtypes: float64(70)\n",
      "memory usage: 393.9 KB\n"
     ]
    }
   ],
   "source": [
    "extracted_features.info()"
   ]
  },
  {
   "cell_type": "code",
   "execution_count": 3,
   "metadata": {},
   "outputs": [
    {
     "name": "stdout",
     "output_type": "stream",
     "text": [
      "/Users/anabroggini/Documents/bootcamp/ai2/source/../data/feature_extracted.arrow was loaded.\n"
     ]
    }
   ],
   "source": [
    "df = data_import.load_pyarrow(file_name=\"feature_extracted\")"
   ]
  },
  {
   "cell_type": "code",
   "execution_count": 22,
   "metadata": {},
   "outputs": [
    {
     "data": {
      "text/html": [
       "<div>\n",
       "<style scoped>\n",
       "    .dataframe tbody tr th:only-of-type {\n",
       "        vertical-align: middle;\n",
       "    }\n",
       "\n",
       "    .dataframe tbody tr th {\n",
       "        vertical-align: top;\n",
       "    }\n",
       "\n",
       "    .dataframe thead th {\n",
       "        text-align: right;\n",
       "    }\n",
       "</style>\n",
       "<table border=\"1\" class=\"dataframe\">\n",
       "  <thead>\n",
       "    <tr style=\"text-align: right;\">\n",
       "      <th></th>\n",
       "      <th>epoch</th>\n",
       "      <th>segment_id</th>\n",
       "      <th>F4-C4_std</th>\n",
       "      <th>F4-C4_var</th>\n",
       "      <th>F4-C4_mean</th>\n",
       "      <th>F4-C4_abs_mean</th>\n",
       "      <th>F4-C4_delta</th>\n",
       "      <th>F4-C4_theta</th>\n",
       "      <th>F4-C4_gamma</th>\n",
       "      <th>F3-C3_std</th>\n",
       "      <th>...</th>\n",
       "      <th>FP1-F3_theta</th>\n",
       "      <th>FP1-F3_gamma</th>\n",
       "      <th>CZ-PZ_std</th>\n",
       "      <th>CZ-PZ_var</th>\n",
       "      <th>CZ-PZ_mean</th>\n",
       "      <th>CZ-PZ_abs_mean</th>\n",
       "      <th>CZ-PZ_delta</th>\n",
       "      <th>CZ-PZ_theta</th>\n",
       "      <th>CZ-PZ_gamma</th>\n",
       "      <th>target</th>\n",
       "    </tr>\n",
       "  </thead>\n",
       "  <tbody>\n",
       "    <tr>\n",
       "      <th>0</th>\n",
       "      <td>0</td>\n",
       "      <td>0</td>\n",
       "      <td>19.215291</td>\n",
       "      <td>369.227396</td>\n",
       "      <td>1.677760</td>\n",
       "      <td>14.539727</td>\n",
       "      <td>39.509423</td>\n",
       "      <td>15.649456</td>\n",
       "      <td>1.143016</td>\n",
       "      <td>21.315638</td>\n",
       "      <td>...</td>\n",
       "      <td>92.822474</td>\n",
       "      <td>22.441816</td>\n",
       "      <td>16.368013</td>\n",
       "      <td>267.911860</td>\n",
       "      <td>0.692305</td>\n",
       "      <td>13.053429</td>\n",
       "      <td>33.181709</td>\n",
       "      <td>18.606278</td>\n",
       "      <td>0.272641</td>\n",
       "      <td>False</td>\n",
       "    </tr>\n",
       "    <tr>\n",
       "      <th>1</th>\n",
       "      <td>0</td>\n",
       "      <td>1</td>\n",
       "      <td>19.292719</td>\n",
       "      <td>372.208995</td>\n",
       "      <td>-0.391839</td>\n",
       "      <td>15.081409</td>\n",
       "      <td>57.166882</td>\n",
       "      <td>13.481116</td>\n",
       "      <td>1.218430</td>\n",
       "      <td>25.477037</td>\n",
       "      <td>...</td>\n",
       "      <td>76.808250</td>\n",
       "      <td>33.427544</td>\n",
       "      <td>18.012047</td>\n",
       "      <td>324.433840</td>\n",
       "      <td>-0.487618</td>\n",
       "      <td>14.154003</td>\n",
       "      <td>40.078259</td>\n",
       "      <td>21.722061</td>\n",
       "      <td>0.268936</td>\n",
       "      <td>False</td>\n",
       "    </tr>\n",
       "    <tr>\n",
       "      <th>2</th>\n",
       "      <td>0</td>\n",
       "      <td>2</td>\n",
       "      <td>26.026211</td>\n",
       "      <td>677.363658</td>\n",
       "      <td>1.356797</td>\n",
       "      <td>18.727514</td>\n",
       "      <td>112.603482</td>\n",
       "      <td>22.111449</td>\n",
       "      <td>0.943441</td>\n",
       "      <td>27.729263</td>\n",
       "      <td>...</td>\n",
       "      <td>176.024973</td>\n",
       "      <td>8.914849</td>\n",
       "      <td>22.813508</td>\n",
       "      <td>520.456131</td>\n",
       "      <td>1.294472</td>\n",
       "      <td>18.522101</td>\n",
       "      <td>78.066994</td>\n",
       "      <td>19.695134</td>\n",
       "      <td>0.256728</td>\n",
       "      <td>False</td>\n",
       "    </tr>\n",
       "    <tr>\n",
       "      <th>3</th>\n",
       "      <td>0</td>\n",
       "      <td>3</td>\n",
       "      <td>26.999490</td>\n",
       "      <td>728.972443</td>\n",
       "      <td>-1.657887</td>\n",
       "      <td>18.877600</td>\n",
       "      <td>148.551723</td>\n",
       "      <td>15.161321</td>\n",
       "      <td>1.178056</td>\n",
       "      <td>29.614908</td>\n",
       "      <td>...</td>\n",
       "      <td>75.730101</td>\n",
       "      <td>21.215121</td>\n",
       "      <td>19.942794</td>\n",
       "      <td>397.715029</td>\n",
       "      <td>-0.476040</td>\n",
       "      <td>15.324033</td>\n",
       "      <td>60.340596</td>\n",
       "      <td>18.821070</td>\n",
       "      <td>0.258679</td>\n",
       "      <td>False</td>\n",
       "    </tr>\n",
       "    <tr>\n",
       "      <th>4</th>\n",
       "      <td>0</td>\n",
       "      <td>4</td>\n",
       "      <td>23.273241</td>\n",
       "      <td>541.643731</td>\n",
       "      <td>0.776272</td>\n",
       "      <td>17.412866</td>\n",
       "      <td>77.372989</td>\n",
       "      <td>25.561364</td>\n",
       "      <td>1.423834</td>\n",
       "      <td>23.413506</td>\n",
       "      <td>...</td>\n",
       "      <td>284.475569</td>\n",
       "      <td>16.303152</td>\n",
       "      <td>18.725786</td>\n",
       "      <td>350.655046</td>\n",
       "      <td>1.382429</td>\n",
       "      <td>15.186356</td>\n",
       "      <td>46.083693</td>\n",
       "      <td>24.182717</td>\n",
       "      <td>0.271254</td>\n",
       "      <td>False</td>\n",
       "    </tr>\n",
       "  </tbody>\n",
       "</table>\n",
       "<p>5 rows × 73 columns</p>\n",
       "</div>"
      ],
      "text/plain": [
       "   epoch  segment_id  F4-C4_std   F4-C4_var  F4-C4_mean  F4-C4_abs_mean  \\\n",
       "0      0           0  19.215291  369.227396    1.677760       14.539727   \n",
       "1      0           1  19.292719  372.208995   -0.391839       15.081409   \n",
       "2      0           2  26.026211  677.363658    1.356797       18.727514   \n",
       "3      0           3  26.999490  728.972443   -1.657887       18.877600   \n",
       "4      0           4  23.273241  541.643731    0.776272       17.412866   \n",
       "\n",
       "   F4-C4_delta  F4-C4_theta  F4-C4_gamma  F3-C3_std  ...  FP1-F3_theta  \\\n",
       "0    39.509423    15.649456     1.143016  21.315638  ...     92.822474   \n",
       "1    57.166882    13.481116     1.218430  25.477037  ...     76.808250   \n",
       "2   112.603482    22.111449     0.943441  27.729263  ...    176.024973   \n",
       "3   148.551723    15.161321     1.178056  29.614908  ...     75.730101   \n",
       "4    77.372989    25.561364     1.423834  23.413506  ...    284.475569   \n",
       "\n",
       "   FP1-F3_gamma  CZ-PZ_std   CZ-PZ_var  CZ-PZ_mean  CZ-PZ_abs_mean  \\\n",
       "0     22.441816  16.368013  267.911860    0.692305       13.053429   \n",
       "1     33.427544  18.012047  324.433840   -0.487618       14.154003   \n",
       "2      8.914849  22.813508  520.456131    1.294472       18.522101   \n",
       "3     21.215121  19.942794  397.715029   -0.476040       15.324033   \n",
       "4     16.303152  18.725786  350.655046    1.382429       15.186356   \n",
       "\n",
       "   CZ-PZ_delta  CZ-PZ_theta  CZ-PZ_gamma  target  \n",
       "0    33.181709    18.606278     0.272641   False  \n",
       "1    40.078259    21.722061     0.268936   False  \n",
       "2    78.066994    19.695134     0.256728   False  \n",
       "3    60.340596    18.821070     0.258679   False  \n",
       "4    46.083693    24.182717     0.271254   False  \n",
       "\n",
       "[5 rows x 73 columns]"
      ]
     },
     "execution_count": 22,
     "metadata": {},
     "output_type": "execute_result"
    }
   ],
   "source": [
    "df.head()"
   ]
  },
  {
   "cell_type": "code",
   "execution_count": 5,
   "metadata": {},
   "outputs": [],
   "source": [
    "y = df[\"target\"]\n",
    "X = df.drop(columns=[\"epoch\", \"target\",\"segment_id\" ])"
   ]
  },
  {
   "cell_type": "code",
   "execution_count": 15,
   "metadata": {},
   "outputs": [],
   "source": [
    "X_train, X_test, y_train, y_test = train_test_split(X, y, test_size=0.2, stratify=y, random_state=42)"
   ]
  },
  {
   "cell_type": "code",
   "execution_count": 16,
   "metadata": {},
   "outputs": [],
   "source": [
    "model_path = \"best_xgboost_model.pkl\"  \n",
    "loaded_model=joblib.load(model_path)\n"
   ]
  },
  {
   "cell_type": "code",
   "execution_count": 17,
   "metadata": {},
   "outputs": [],
   "source": [
    "loaded_model=joblib.load('best_xgboost_model.pkl')"
   ]
  },
  {
   "cell_type": "code",
   "execution_count": 18,
   "metadata": {},
   "outputs": [],
   "source": [
    "\n",
    "# Perform classification using the loaded model\n",
    "predictions = loaded_model.predict(X_test) \n"
   ]
  },
  {
   "cell_type": "code",
   "execution_count": 20,
   "metadata": {},
   "outputs": [
    {
     "name": "stdout",
     "output_type": "stream",
     "text": [
      "Confusion Matrix:\n",
      "[[427  13]\n",
      " [ 19   3]]\n"
     ]
    }
   ],
   "source": [
    "confusion = confusion_matrix(y_test, predictions)\n",
    "print(\"Confusion Matrix:\")\n",
    "print(confusion)"
   ]
  },
  {
   "cell_type": "code",
   "execution_count": 21,
   "metadata": {},
   "outputs": [
    {
     "data": {
      "image/png": "[encoded data removed]",
      "text/plain": [
       "<Figure size 640x480 with 1 Axes>"
      ]
     },
     "metadata": {},
     "output_type": "display_data"
    },
    {
     "name": "stdout",
     "output_type": "stream",
     "text": [
      "\n"
     ]
    }
   ],
   "source": [
    "labels = ['No Seizure', 'Seizure']\n",
    "mat = confusion.T  # Transpose to match your reference code\n",
    "sns.heatmap(mat, square=True, annot=True, fmt='d', cbar=False, xticklabels=labels, yticklabels=labels)\n",
    "plt.xlabel('True label')\n",
    "plt.ylabel('Predicted label')\n",
    "#plt.title(f'Confusion Matrix for {XG boost}')\n",
    "plt.show()\n",
    "print()"
   ]
  },
  {
   "cell_type": "code",
   "execution_count": 4,
   "metadata": {},
   "outputs": [],
   "source": [
    "channels=CHANNELS\n",
    "file_path ='data/chb05/chb05_06.edf'\n"
   ]
  },
  {
   "cell_type": "code",
   "execution_count": 5,
   "metadata": {},
   "outputs": [],
   "source": [
    "from pathlib import Path"
   ]
  },
  {
   "cell_type": "code",
   "execution_count": 6,
   "metadata": {},
   "outputs": [],
   "source": [
    "segment_duration = 5\n",
    "    # load edf into pandas df\n",
    "if channels is None:\n",
    "    ch = None\n",
    "else:\n",
    "    ch = channels.copy()\n",
    "    if 'T8-P8-1' in ch:\n",
    "        ch.remove('T8-P8-1')\n",
    "        ch.append('T8-P8')\n",
    "    if 'T8-P8-0' in ch:\n",
    "        ch.remove('T8-P8-0')\n",
    "        ch.append('T8-P8')\n",
    "\n",
    "file_path = Path(file_path)\n",
    "raw = mne.io.read_raw_edf(file_path, preload=False, include=ch, verbose='ERROR')\n",
    "sample_freq = str(1/raw.info['sfreq'] * 1E9) + 'N' # in Nanoseconds\n",
    "df = raw.to_data_frame(index='time')\n",
    "time_index = pd.timedelta_range(start=0, periods=df.shape[0], freq=sample_freq)\n",
    "df = df.set_index(time_index)\n",
    "\n",
    "# do segmentation of whole file\n",
    "nr_segments = int(len(df.index) // (segment_duration * raw.info['sfreq']))\n",
    "crop_at = pd.Timedelta(seconds=nr_segments * segment_duration)\n",
    "if crop_at > df.index[-1]:\n",
    "    iloc_idx = None # exclusive slicing index exceeds data length by one timestep -> use whole data\n",
    "else:\n",
    "    iloc_idx = df.index.get_loc(crop_at)\n",
    "segments = df.iloc[:iloc_idx, :].copy()\n",
    "# add segment numbers and epoch id\n",
    "# segments['epoch'] = 0\n",
    "segments['segment_id'] = [i for i in range(nr_segments) for _ in range(int(len(segments)/nr_segments))]"
   ]
  },
  {
   "cell_type": "code",
   "execution_count": 7,
   "metadata": {},
   "outputs": [
    {
     "data": {
      "text/html": [
       "<div>\n",
       "<style scoped>\n",
       "    .dataframe tbody tr th:only-of-type {\n",
       "        vertical-align: middle;\n",
       "    }\n",
       "\n",
       "    .dataframe tbody tr th {\n",
       "        vertical-align: top;\n",
       "    }\n",
       "\n",
       "    .dataframe thead th {\n",
       "        text-align: right;\n",
       "    }\n",
       "</style>\n",
       "<table border=\"1\" class=\"dataframe\">\n",
       "  <thead>\n",
       "    <tr style=\"text-align: right;\">\n",
       "      <th>channel</th>\n",
       "      <th>F7-T7</th>\n",
       "      <th>FP1-F3</th>\n",
       "      <th>F3-C3</th>\n",
       "      <th>FP2-F4</th>\n",
       "      <th>F4-C4</th>\n",
       "      <th>T8-P8-0</th>\n",
       "      <th>FZ-CZ</th>\n",
       "      <th>CZ-PZ</th>\n",
       "      <th>FT9-FT10</th>\n",
       "      <th>T8-P8-1</th>\n",
       "      <th>segment_id</th>\n",
       "    </tr>\n",
       "  </thead>\n",
       "  <tbody>\n",
       "    <tr>\n",
       "      <th>0 days 00:00:00</th>\n",
       "      <td>50.207570</td>\n",
       "      <td>-112.722833</td>\n",
       "      <td>5.665446</td>\n",
       "      <td>18.949939</td>\n",
       "      <td>13.870574</td>\n",
       "      <td>-55.286935</td>\n",
       "      <td>-2.148962</td>\n",
       "      <td>69.743590</td>\n",
       "      <td>185.006105</td>\n",
       "      <td>-55.286935</td>\n",
       "      <td>0</td>\n",
       "    </tr>\n",
       "    <tr>\n",
       "      <th>0 days 00:00:00.003906250</th>\n",
       "      <td>0.195360</td>\n",
       "      <td>0.195360</td>\n",
       "      <td>0.195360</td>\n",
       "      <td>0.195360</td>\n",
       "      <td>0.195360</td>\n",
       "      <td>0.195360</td>\n",
       "      <td>0.195360</td>\n",
       "      <td>0.195360</td>\n",
       "      <td>0.195360</td>\n",
       "      <td>0.195360</td>\n",
       "      <td>0</td>\n",
       "    </tr>\n",
       "    <tr>\n",
       "      <th>0 days 00:00:00.007812500</th>\n",
       "      <td>0.195360</td>\n",
       "      <td>0.195360</td>\n",
       "      <td>0.195360</td>\n",
       "      <td>0.195360</td>\n",
       "      <td>0.195360</td>\n",
       "      <td>0.195360</td>\n",
       "      <td>0.195360</td>\n",
       "      <td>0.195360</td>\n",
       "      <td>0.195360</td>\n",
       "      <td>0.195360</td>\n",
       "      <td>0</td>\n",
       "    </tr>\n",
       "    <tr>\n",
       "      <th>0 days 00:00:00.011718750</th>\n",
       "      <td>0.195360</td>\n",
       "      <td>0.195360</td>\n",
       "      <td>0.195360</td>\n",
       "      <td>0.195360</td>\n",
       "      <td>0.195360</td>\n",
       "      <td>0.976801</td>\n",
       "      <td>0.195360</td>\n",
       "      <td>0.195360</td>\n",
       "      <td>-0.976801</td>\n",
       "      <td>0.976801</td>\n",
       "      <td>0</td>\n",
       "    </tr>\n",
       "    <tr>\n",
       "      <th>0 days 00:00:00.015625</th>\n",
       "      <td>1.367521</td>\n",
       "      <td>0.586081</td>\n",
       "      <td>-0.195360</td>\n",
       "      <td>0.195360</td>\n",
       "      <td>0.195360</td>\n",
       "      <td>-0.195360</td>\n",
       "      <td>0.195360</td>\n",
       "      <td>0.586081</td>\n",
       "      <td>1.367521</td>\n",
       "      <td>-0.195360</td>\n",
       "      <td>0</td>\n",
       "    </tr>\n",
       "    <tr>\n",
       "      <th>...</th>\n",
       "      <td>...</td>\n",
       "      <td>...</td>\n",
       "      <td>...</td>\n",
       "      <td>...</td>\n",
       "      <td>...</td>\n",
       "      <td>...</td>\n",
       "      <td>...</td>\n",
       "      <td>...</td>\n",
       "      <td>...</td>\n",
       "      <td>...</td>\n",
       "      <td>...</td>\n",
       "    </tr>\n",
       "    <tr>\n",
       "      <th>0 days 00:59:59.980468750</th>\n",
       "      <td>124.053724</td>\n",
       "      <td>40.439560</td>\n",
       "      <td>4.102564</td>\n",
       "      <td>-38.095238</td>\n",
       "      <td>-37.704518</td>\n",
       "      <td>-33.797314</td>\n",
       "      <td>-34.969475</td>\n",
       "      <td>-56.068376</td>\n",
       "      <td>-136.166056</td>\n",
       "      <td>-33.797314</td>\n",
       "      <td>719</td>\n",
       "    </tr>\n",
       "    <tr>\n",
       "      <th>0 days 00:59:59.984375</th>\n",
       "      <td>106.862027</td>\n",
       "      <td>40.439560</td>\n",
       "      <td>-1.758242</td>\n",
       "      <td>-44.346764</td>\n",
       "      <td>-36.532357</td>\n",
       "      <td>-29.890110</td>\n",
       "      <td>-38.485958</td>\n",
       "      <td>-60.757021</td>\n",
       "      <td>-129.523810</td>\n",
       "      <td>-29.890110</td>\n",
       "      <td>719</td>\n",
       "    </tr>\n",
       "    <tr>\n",
       "      <th>0 days 00:59:59.988281250</th>\n",
       "      <td>92.796093</td>\n",
       "      <td>40.830281</td>\n",
       "      <td>-7.619048</td>\n",
       "      <td>-38.485958</td>\n",
       "      <td>-33.406593</td>\n",
       "      <td>-27.155067</td>\n",
       "      <td>-40.830281</td>\n",
       "      <td>-70.525031</td>\n",
       "      <td>-123.272283</td>\n",
       "      <td>-27.155067</td>\n",
       "      <td>719</td>\n",
       "    </tr>\n",
       "    <tr>\n",
       "      <th>0 days 00:59:59.992187500</th>\n",
       "      <td>75.213675</td>\n",
       "      <td>40.048840</td>\n",
       "      <td>-16.214896</td>\n",
       "      <td>-33.015873</td>\n",
       "      <td>-33.406593</td>\n",
       "      <td>-22.075702</td>\n",
       "      <td>-39.267399</td>\n",
       "      <td>-79.902320</td>\n",
       "      <td>-116.630037</td>\n",
       "      <td>-22.075702</td>\n",
       "      <td>719</td>\n",
       "    </tr>\n",
       "    <tr>\n",
       "      <th>0 days 00:59:59.996093750</th>\n",
       "      <td>54.505495</td>\n",
       "      <td>37.313797</td>\n",
       "      <td>-27.936508</td>\n",
       "      <td>-24.029304</td>\n",
       "      <td>-34.969475</td>\n",
       "      <td>-18.949939</td>\n",
       "      <td>-40.439560</td>\n",
       "      <td>-83.028083</td>\n",
       "      <td>-106.862027</td>\n",
       "      <td>-18.949939</td>\n",
       "      <td>719</td>\n",
       "    </tr>\n",
       "  </tbody>\n",
       "</table>\n",
       "<p>921600 rows × 11 columns</p>\n",
       "</div>"
      ],
      "text/plain": [
       "channel                         F7-T7      FP1-F3      F3-C3     FP2-F4  \\\n",
       "0 days 00:00:00             50.207570 -112.722833   5.665446  18.949939   \n",
       "0 days 00:00:00.003906250    0.195360    0.195360   0.195360   0.195360   \n",
       "0 days 00:00:00.007812500    0.195360    0.195360   0.195360   0.195360   \n",
       "0 days 00:00:00.011718750    0.195360    0.195360   0.195360   0.195360   \n",
       "0 days 00:00:00.015625       1.367521    0.586081  -0.195360   0.195360   \n",
       "...                               ...         ...        ...        ...   \n",
       "0 days 00:59:59.980468750  124.053724   40.439560   4.102564 -38.095238   \n",
       "0 days 00:59:59.984375     106.862027   40.439560  -1.758242 -44.346764   \n",
       "0 days 00:59:59.988281250   92.796093   40.830281  -7.619048 -38.485958   \n",
       "0 days 00:59:59.992187500   75.213675   40.048840 -16.214896 -33.015873   \n",
       "0 days 00:59:59.996093750   54.505495   37.313797 -27.936508 -24.029304   \n",
       "\n",
       "channel                        F4-C4    T8-P8-0      FZ-CZ      CZ-PZ  \\\n",
       "0 days 00:00:00            13.870574 -55.286935  -2.148962  69.743590   \n",
       "0 days 00:00:00.003906250   0.195360   0.195360   0.195360   0.195360   \n",
       "0 days 00:00:00.007812500   0.195360   0.195360   0.195360   0.195360   \n",
       "0 days 00:00:00.011718750   0.195360   0.976801   0.195360   0.195360   \n",
       "0 days 00:00:00.015625      0.195360  -0.195360   0.195360   0.586081   \n",
       "...                              ...        ...        ...        ...   \n",
       "0 days 00:59:59.980468750 -37.704518 -33.797314 -34.969475 -56.068376   \n",
       "0 days 00:59:59.984375    -36.532357 -29.890110 -38.485958 -60.757021   \n",
       "0 days 00:59:59.988281250 -33.406593 -27.155067 -40.830281 -70.525031   \n",
       "0 days 00:59:59.992187500 -33.406593 -22.075702 -39.267399 -79.902320   \n",
       "0 days 00:59:59.996093750 -34.969475 -18.949939 -40.439560 -83.028083   \n",
       "\n",
       "channel                      FT9-FT10    T8-P8-1  segment_id  \n",
       "0 days 00:00:00            185.006105 -55.286935           0  \n",
       "0 days 00:00:00.003906250    0.195360   0.195360           0  \n",
       "0 days 00:00:00.007812500    0.195360   0.195360           0  \n",
       "0 days 00:00:00.011718750   -0.976801   0.976801           0  \n",
       "0 days 00:00:00.015625       1.367521  -0.195360           0  \n",
       "...                               ...        ...         ...  \n",
       "0 days 00:59:59.980468750 -136.166056 -33.797314         719  \n",
       "0 days 00:59:59.984375    -129.523810 -29.890110         719  \n",
       "0 days 00:59:59.988281250 -123.272283 -27.155067         719  \n",
       "0 days 00:59:59.992187500 -116.630037 -22.075702         719  \n",
       "0 days 00:59:59.996093750 -106.862027 -18.949939         719  \n",
       "\n",
       "[921600 rows x 11 columns]"
      ]
     },
     "execution_count": 7,
     "metadata": {},
     "output_type": "execute_result"
    }
   ],
   "source": [
    "segments"
   ]
  },
  {
   "cell_type": "code",
   "execution_count": 94,
   "metadata": {},
   "outputs": [
    {
     "data": {
      "text/plain": [
       "920319"
      ]
     },
     "execution_count": 94,
     "metadata": {},
     "output_type": "execute_result"
    }
   ],
   "source": [
    "iloc_idx"
   ]
  },
  {
   "cell_type": "code",
   "execution_count": 92,
   "metadata": {},
   "outputs": [
    {
     "data": {
      "text/plain": [
       "Timedelta('0 days 00:59:54.996093750')"
      ]
     },
     "execution_count": 92,
     "metadata": {},
     "output_type": "execute_result"
    }
   ],
   "source": [
    "crop_at"
   ]
  },
  {
   "cell_type": "code",
   "execution_count": 81,
   "metadata": {},
   "outputs": [
    {
     "name": "stdout",
     "output_type": "stream",
     "text": [
      "0 days 01:00:00\n"
     ]
    }
   ],
   "source": [
    "print(crop_at)"
   ]
  },
  {
   "cell_type": "code",
   "execution_count": 74,
   "metadata": {},
   "outputs": [
    {
     "data": {
      "text/plain": [
       "Timedelta('0 days 01:00:00')"
      ]
     },
     "execution_count": 74,
     "metadata": {},
     "output_type": "execute_result"
    }
   ],
   "source": [
    "pd.Timedelta(seconds=nr_segments * segment_duration)"
   ]
  }
 ],
 "metadata": {
  "kernelspec": {
   "display_name": ".venv",
   "language": "python",
   "name": "python3"
  },
  "language_info": {
   "codemirror_mode": {
    "name": "ipython",
    "version": 3
   },
   "file_extension": ".py",
   "mimetype": "text/x-python",
   "name": "python",
   "nbconvert_exporter": "python",
   "pygments_lexer": "ipython3",
   "version": "3.11.3"
  }
 },
 "nbformat": 4,
 "nbformat_minor": 2
}
