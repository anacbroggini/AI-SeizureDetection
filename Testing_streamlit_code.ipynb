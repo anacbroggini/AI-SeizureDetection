{
 "cells": [
  {
   "cell_type": "code",
   "execution_count": 1,
   "metadata": {},
   "outputs": [],
   "source": [
    "import pandas as pd\n",
    "import numpy as np\n",
    "import mne\n",
    "import pickle \n",
    "from pickle import dump\n",
    "from mne.io import  read_raw_edf\n",
    "import matplotlib.pyplot as plt\n",
    "import seaborn as sns\n",
    "from source import data_import\n",
    "from filter_eeg_channels_web import filter_eeg_channels\n",
    "import joblib\n",
    "import tempfile\n",
    "import os\n",
    "from source.constants import CHANNELS, FREQUENCY_RANGES\n",
    "from extract_features import extract_features\n",
    "import scipy\n",
    "from scipy.signal import butter, lfilter"
   ]
  },
  {
   "cell_type": "code",
   "execution_count": 2,
   "metadata": {},
   "outputs": [],
   "source": [
    "temp_filepath ='data/chb01/chb01_01.edf'"
   ]
  },
  {
   "cell_type": "code",
   "execution_count": 3,
   "metadata": {},
   "outputs": [],
   "source": [
    "edf_df_classifier = data_import.load_segmented_unlabeled_data(temp_filepath, channels=CHANNELS)"
   ]
  },
  {
   "cell_type": "code",
   "execution_count": 5,
   "metadata": {},
   "outputs": [],
   "source": [
    "exclude_ranges=[[58, 62], [118, 122]]\n",
    "filtered = filter_eeg_channels(edf_df_classifier, CHANNELS, fs=256, exclude_ranges=exclude_ranges, Q=30)"
   ]
  },
  {
   "cell_type": "code",
   "execution_count": 7,
   "metadata": {},
   "outputs": [],
   "source": [
    " # Extract features from the preprocessed data\n",
    "extracted_features = extract_features(filtered)"
   ]
  },
  {
   "cell_type": "code",
   "execution_count": 9,
   "metadata": {},
   "outputs": [
    {
     "name": "stdout",
     "output_type": "stream",
     "text": [
      "<class 'pandas.core.frame.DataFrame'>\n",
      "RangeIndex: 720 entries, 0 to 719\n",
      "Data columns (total 70 columns):\n",
      " #   Column             Non-Null Count  Dtype  \n",
      "---  ------             --------------  -----  \n",
      " 0   F4-C4_std          720 non-null    float64\n",
      " 1   F4-C4_var          720 non-null    float64\n",
      " 2   F4-C4_mean         720 non-null    float64\n",
      " 3   F4-C4_abs_mean     720 non-null    float64\n",
      " 4   F4-C4_delta        720 non-null    float64\n",
      " 5   F4-C4_theta        720 non-null    float64\n",
      " 6   F4-C4_gamma        720 non-null    float64\n",
      " 7   F3-C3_std          720 non-null    float64\n",
      " 8   F3-C3_var          720 non-null    float64\n",
      " 9   F3-C3_mean         720 non-null    float64\n",
      " 10  F3-C3_abs_mean     720 non-null    float64\n",
      " 11  F3-C3_delta        720 non-null    float64\n",
      " 12  F3-C3_theta        720 non-null    float64\n",
      " 13  F3-C3_gamma        720 non-null    float64\n",
      " 14  FT9-FT10_std       720 non-null    float64\n",
      " 15  FT9-FT10_var       720 non-null    float64\n",
      " 16  FT9-FT10_mean      720 non-null    float64\n",
      " 17  FT9-FT10_abs_mean  720 non-null    float64\n",
      " 18  FT9-FT10_delta     720 non-null    float64\n",
      " 19  FT9-FT10_theta     720 non-null    float64\n",
      " 20  FT9-FT10_gamma     720 non-null    float64\n",
      " 21  FZ-CZ_std          720 non-null    float64\n",
      " 22  FZ-CZ_var          720 non-null    float64\n",
      " 23  FZ-CZ_mean         720 non-null    float64\n",
      " 24  FZ-CZ_abs_mean     720 non-null    float64\n",
      " 25  FZ-CZ_delta        720 non-null    float64\n",
      " 26  FZ-CZ_theta        720 non-null    float64\n",
      " 27  FZ-CZ_gamma        720 non-null    float64\n",
      " 28  F7-T7_std          720 non-null    float64\n",
      " 29  F7-T7_var          720 non-null    float64\n",
      " 30  F7-T7_mean         720 non-null    float64\n",
      " 31  F7-T7_abs_mean     720 non-null    float64\n",
      " 32  F7-T7_delta        720 non-null    float64\n",
      " 33  F7-T7_theta        720 non-null    float64\n",
      " 34  F7-T7_gamma        720 non-null    float64\n",
      " 35  FP2-F4_std         720 non-null    float64\n",
      " 36  FP2-F4_var         720 non-null    float64\n",
      " 37  FP2-F4_mean        720 non-null    float64\n",
      " 38  FP2-F4_abs_mean    720 non-null    float64\n",
      " 39  FP2-F4_delta       720 non-null    float64\n",
      " 40  FP2-F4_theta       720 non-null    float64\n",
      " 41  FP2-F4_gamma       720 non-null    float64\n",
      " 42  T8-P8-1_std        720 non-null    float64\n",
      " 43  T8-P8-1_var        720 non-null    float64\n",
      " 44  T8-P8-1_mean       720 non-null    float64\n",
      " 45  T8-P8-1_abs_mean   720 non-null    float64\n",
      " 46  T8-P8-1_delta      720 non-null    float64\n",
      " 47  T8-P8-1_theta      720 non-null    float64\n",
      " 48  T8-P8-1_gamma      720 non-null    float64\n",
      " 49  T8-P8-0_std        720 non-null    float64\n",
      " 50  T8-P8-0_var        720 non-null    float64\n",
      " 51  T8-P8-0_mean       720 non-null    float64\n",
      " 52  T8-P8-0_abs_mean   720 non-null    float64\n",
      " 53  T8-P8-0_delta      720 non-null    float64\n",
      " 54  T8-P8-0_theta      720 non-null    float64\n",
      " 55  T8-P8-0_gamma      720 non-null    float64\n",
      " 56  FP1-F3_std         720 non-null    float64\n",
      " 57  FP1-F3_var         720 non-null    float64\n",
      " 58  FP1-F3_mean        720 non-null    float64\n",
      " 59  FP1-F3_abs_mean    720 non-null    float64\n",
      " 60  FP1-F3_delta       720 non-null    float64\n",
      " 61  FP1-F3_theta       720 non-null    float64\n",
      " 62  FP1-F3_gamma       720 non-null    float64\n",
      " 63  CZ-PZ_std          720 non-null    float64\n",
      " 64  CZ-PZ_var          720 non-null    float64\n",
      " 65  CZ-PZ_mean         720 non-null    float64\n",
      " 66  CZ-PZ_abs_mean     720 non-null    float64\n",
      " 67  CZ-PZ_delta        720 non-null    float64\n",
      " 68  CZ-PZ_theta        720 non-null    float64\n",
      " 69  CZ-PZ_gamma        720 non-null    float64\n",
      "dtypes: float64(70)\n",
      "memory usage: 393.9 KB\n"
     ]
    }
   ],
   "source": [
    "extracted_features.info()"
   ]
  },
  {
   "cell_type": "code",
   "execution_count": 13,
   "metadata": {},
   "outputs": [
    {
     "ename": "ModuleNotFoundError",
     "evalue": "No module named 'xgboost'",
     "output_type": "error",
     "traceback": [
      "\u001b[0;31m---------------------------------------------------------------------------\u001b[0m",
      "\u001b[0;31mModuleNotFoundError\u001b[0m                       Traceback (most recent call last)",
      "\u001b[1;32mUntitled-1.ipynb Cell 8\u001b[0m line \u001b[0;36m2\n\u001b[1;32m      <a href='vscode-notebook-cell:Untitled-1.ipynb?jupyter-notebook#W6sdW50aXRsZWQ%3D?line=0'>1</a>\u001b[0m model_path \u001b[39m=\u001b[39m \u001b[39m\"\u001b[39m\u001b[39mxgboost_model.joblib\u001b[39m\u001b[39m\"\u001b[39m  \n\u001b[0;32m----> <a href='vscode-notebook-cell:Untitled-1.ipynb?jupyter-notebook#W6sdW50aXRsZWQ%3D?line=1'>2</a>\u001b[0m loaded_model \u001b[39m=\u001b[39m joblib\u001b[39m.\u001b[39;49mload(model_path)\n",
      "File \u001b[0;32m~/Documents/bootcamp/ai2/.venv/lib/python3.11/site-packages/joblib/numpy_pickle.py:658\u001b[0m, in \u001b[0;36mload\u001b[0;34m(filename, mmap_mode)\u001b[0m\n\u001b[1;32m    652\u001b[0m             \u001b[39mif\u001b[39;00m \u001b[39misinstance\u001b[39m(fobj, \u001b[39mstr\u001b[39m):\n\u001b[1;32m    653\u001b[0m                 \u001b[39m# if the returned file object is a string, this means we\u001b[39;00m\n\u001b[1;32m    654\u001b[0m                 \u001b[39m# try to load a pickle file generated with an version of\u001b[39;00m\n\u001b[1;32m    655\u001b[0m                 \u001b[39m# Joblib so we load it with joblib compatibility function.\u001b[39;00m\n\u001b[1;32m    656\u001b[0m                 \u001b[39mreturn\u001b[39;00m load_compatibility(fobj)\n\u001b[0;32m--> 658\u001b[0m             obj \u001b[39m=\u001b[39m _unpickle(fobj, filename, mmap_mode)\n\u001b[1;32m    659\u001b[0m \u001b[39mreturn\u001b[39;00m obj\n",
      "File \u001b[0;32m~/Documents/bootcamp/ai2/.venv/lib/python3.11/site-packages/joblib/numpy_pickle.py:577\u001b[0m, in \u001b[0;36m_unpickle\u001b[0;34m(fobj, filename, mmap_mode)\u001b[0m\n\u001b[1;32m    575\u001b[0m obj \u001b[39m=\u001b[39m \u001b[39mNone\u001b[39;00m\n\u001b[1;32m    576\u001b[0m \u001b[39mtry\u001b[39;00m:\n\u001b[0;32m--> 577\u001b[0m     obj \u001b[39m=\u001b[39m unpickler\u001b[39m.\u001b[39;49mload()\n\u001b[1;32m    578\u001b[0m     \u001b[39mif\u001b[39;00m unpickler\u001b[39m.\u001b[39mcompat_mode:\n\u001b[1;32m    579\u001b[0m         warnings\u001b[39m.\u001b[39mwarn(\u001b[39m\"\u001b[39m\u001b[39mThe file \u001b[39m\u001b[39m'\u001b[39m\u001b[39m%s\u001b[39;00m\u001b[39m'\u001b[39m\u001b[39m has been generated with a \u001b[39m\u001b[39m\"\u001b[39m\n\u001b[1;32m    580\u001b[0m                       \u001b[39m\"\u001b[39m\u001b[39mjoblib version less than 0.10. \u001b[39m\u001b[39m\"\u001b[39m\n\u001b[1;32m    581\u001b[0m                       \u001b[39m\"\u001b[39m\u001b[39mPlease regenerate this pickle file.\u001b[39m\u001b[39m\"\u001b[39m\n\u001b[1;32m    582\u001b[0m                       \u001b[39m%\u001b[39m filename,\n\u001b[1;32m    583\u001b[0m                       \u001b[39mDeprecationWarning\u001b[39;00m, stacklevel\u001b[39m=\u001b[39m\u001b[39m3\u001b[39m)\n",
      "File \u001b[0;32m~/.pyenv/versions/3.11.3/lib/python3.11/pickle.py:1213\u001b[0m, in \u001b[0;36m_Unpickler.load\u001b[0;34m(self)\u001b[0m\n\u001b[1;32m   1211\u001b[0m             \u001b[39mraise\u001b[39;00m \u001b[39mEOFError\u001b[39;00m\n\u001b[1;32m   1212\u001b[0m         \u001b[39massert\u001b[39;00m \u001b[39misinstance\u001b[39m(key, bytes_types)\n\u001b[0;32m-> 1213\u001b[0m         dispatch[key[\u001b[39m0\u001b[39;49m]](\u001b[39mself\u001b[39;49m)\n\u001b[1;32m   1214\u001b[0m \u001b[39mexcept\u001b[39;00m _Stop \u001b[39mas\u001b[39;00m stopinst:\n\u001b[1;32m   1215\u001b[0m     \u001b[39mreturn\u001b[39;00m stopinst\u001b[39m.\u001b[39mvalue\n",
      "File \u001b[0;32m~/.pyenv/versions/3.11.3/lib/python3.11/pickle.py:1538\u001b[0m, in \u001b[0;36m_Unpickler.load_stack_global\u001b[0;34m(self)\u001b[0m\n\u001b[1;32m   1536\u001b[0m \u001b[39mif\u001b[39;00m \u001b[39mtype\u001b[39m(name) \u001b[39mis\u001b[39;00m \u001b[39mnot\u001b[39;00m \u001b[39mstr\u001b[39m \u001b[39mor\u001b[39;00m \u001b[39mtype\u001b[39m(module) \u001b[39mis\u001b[39;00m \u001b[39mnot\u001b[39;00m \u001b[39mstr\u001b[39m:\n\u001b[1;32m   1537\u001b[0m     \u001b[39mraise\u001b[39;00m UnpicklingError(\u001b[39m\"\u001b[39m\u001b[39mSTACK_GLOBAL requires str\u001b[39m\u001b[39m\"\u001b[39m)\n\u001b[0;32m-> 1538\u001b[0m \u001b[39mself\u001b[39m\u001b[39m.\u001b[39mappend(\u001b[39mself\u001b[39;49m\u001b[39m.\u001b[39;49mfind_class(module, name))\n",
      "File \u001b[0;32m~/.pyenv/versions/3.11.3/lib/python3.11/pickle.py:1580\u001b[0m, in \u001b[0;36m_Unpickler.find_class\u001b[0;34m(self, module, name)\u001b[0m\n\u001b[1;32m   1578\u001b[0m     \u001b[39melif\u001b[39;00m module \u001b[39min\u001b[39;00m _compat_pickle\u001b[39m.\u001b[39mIMPORT_MAPPING:\n\u001b[1;32m   1579\u001b[0m         module \u001b[39m=\u001b[39m _compat_pickle\u001b[39m.\u001b[39mIMPORT_MAPPING[module]\n\u001b[0;32m-> 1580\u001b[0m \u001b[39m__import__\u001b[39;49m(module, level\u001b[39m=\u001b[39;49m\u001b[39m0\u001b[39;49m)\n\u001b[1;32m   1581\u001b[0m \u001b[39mif\u001b[39;00m \u001b[39mself\u001b[39m\u001b[39m.\u001b[39mproto \u001b[39m>\u001b[39m\u001b[39m=\u001b[39m \u001b[39m4\u001b[39m:\n\u001b[1;32m   1582\u001b[0m     \u001b[39mreturn\u001b[39;00m _getattribute(sys\u001b[39m.\u001b[39mmodules[module], name)[\u001b[39m0\u001b[39m]\n",
      "\u001b[0;31mModuleNotFoundError\u001b[0m: No module named 'xgboost'"
     ]
    }
   ],
   "source": [
    "model_path = \"xgboost_model.joblib\"  \n",
    "loaded_model = joblib.load(model_path)"
   ]
  },
  {
   "cell_type": "code",
   "execution_count": null,
   "metadata": {},
   "outputs": [],
   "source": [
    "\n",
    "\n",
    "# Perform classification using the loaded model\n",
    "predictions = loaded_model.predict(extracted_features) \n"
   ]
  }
 ],
 "metadata": {
  "kernelspec": {
   "display_name": ".venv",
   "language": "python",
   "name": "python3"
  },
  "language_info": {
   "codemirror_mode": {
    "name": "ipython",
    "version": 3
   },
   "file_extension": ".py",
   "mimetype": "text/x-python",
   "name": "python",
   "nbconvert_exporter": "python",
   "pygments_lexer": "ipython3",
   "version": "3.11.3"
  }
 },
 "nbformat": 4,
 "nbformat_minor": 2
}
