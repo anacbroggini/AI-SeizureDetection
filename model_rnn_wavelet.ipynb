{
 "cells": [
  {
   "cell_type": "code",
   "execution_count": 1,
   "metadata": {},
   "outputs": [
    {
     "name": "stdout",
     "output_type": "stream",
     "text": [
      "WARNING:tensorflow:From d:\\_c\\spiced\\ai-seizure-detectives\\venv\\Lib\\site-packages\\keras\\src\\losses.py:2976: The name tf.losses.sparse_softmax_cross_entropy is deprecated. Please use tf.compat.v1.losses.sparse_softmax_cross_entropy instead.\n",
      "\n"
     ]
    }
   ],
   "source": [
    "import pip\n",
    "\n",
    "def import_or_install(package):\n",
    "    try:\n",
    "        __import__(package)\n",
    "    except ImportError:\n",
    "        pip.main(['install', package])       \n",
    "\n",
    "import_or_install('tensorflow')\n",
    "import_or_install('pydot')\n"
   ]
  },
  {
   "cell_type": "code",
   "execution_count": 1,
   "metadata": {},
   "outputs": [
    {
     "name": "stderr",
     "output_type": "stream",
     "text": [
      "2023-11-20 16:56:46.770052: I tensorflow/core/platform/cpu_feature_guard.cc:182] This TensorFlow binary is optimized to use available CPU instructions in performance-critical operations.\n",
      "To enable the following instructions: AVX2 FMA, in other operations, rebuild TensorFlow with the appropriate compiler flags.\n"
     ]
    }
   ],
   "source": [
    "import tensorflow as tf\n",
    "from tensorflow import keras\n",
    "from tensorflow.keras import layers"
   ]
  },
  {
   "cell_type": "code",
   "execution_count": 2,
   "metadata": {},
   "outputs": [],
   "source": [
    "import pyarrow as pa\n",
    "import pandas as pd\n",
    "import matplotlib\n",
    "import matplotlib.pyplot as plt\n",
    "import seaborn as sns\n",
    "import numpy as np\n",
    "from source import data_import"
   ]
  },
  {
   "cell_type": "code",
   "execution_count": 3,
   "metadata": {},
   "outputs": [],
   "source": [
    "from sklearn.model_selection import train_test_split\n",
    "from sklearn.metrics import confusion_matrix, accuracy_score\n",
    "from sklearn.preprocessing import StandardScaler"
   ]
  },
  {
   "cell_type": "code",
   "execution_count": 4,
   "metadata": {},
   "outputs": [],
   "source": [
    "import tensorflow as tf\n",
    "\n",
    "# import keras \n",
    "from tensorflow.keras.models import Sequential # intitialize the ANN\n",
    "from tensorflow.keras.layers import Dense, Activation, Dropout "
   ]
  },
  {
   "cell_type": "code",
   "execution_count": 5,
   "metadata": {},
   "outputs": [],
   "source": [
    "import source.plots as plots"
   ]
  },
  {
   "cell_type": "code",
   "execution_count": 6,
   "metadata": {},
   "outputs": [],
   "source": [
    "RSEED = 42\n",
    "np.random.seed(seed=RSEED)\n",
    "tf.random.set_seed(RSEED)"
   ]
  },
  {
   "cell_type": "code",
   "execution_count": 8,
   "metadata": {},
   "outputs": [
    {
     "data": {
      "text/plain": [
       "(21390, 30, 63)"
      ]
     },
     "execution_count": 8,
     "metadata": {},
     "output_type": "execute_result"
    }
   ],
   "source": [
    "try:\n",
    "    data\n",
    "    print('data already loaded in parent notebook')\n",
    "except NameError:\n",
    "    data = np.load('data/features_60_dur2_all.npy')\n",
    "data.shape"
   ]
  },
  {
   "cell_type": "code",
   "execution_count": 7,
   "metadata": {},
   "outputs": [],
   "source": [
    "data = np.load('data/features_wave_all.npy')"
   ]
  },
  {
   "cell_type": "code",
   "execution_count": 9,
   "metadata": {},
   "outputs": [],
   "source": [
    "import numpy as np\n",
    "\n",
    "def split_data(data, train_size=0.8, random_state=None):\n",
    "    np.random.seed(seed=RSEED)\n",
    "\n",
    "    # Assuming the first column contains the IDs\n",
    "    ids_column = data[:, 0, 0]\n",
    "\n",
    "    # Find unique epoch IDs\n",
    "    unique_epoch_ids = np.unique(ids_column)\n",
    "\n",
    "    # Shuffle the unique epoch IDs\n",
    "    np.random.shuffle(unique_epoch_ids)\n",
    "\n",
    "    # Calculate the number of unique epoch IDs for training, validation, and testing\n",
    "    train_samples_nr = int(np.floor(train_size * len(unique_epoch_ids)))\n",
    "    print(f'{train_samples_nr} of epochs for training, {len(unique_epoch_ids) - train_samples_nr} of epochs for testing/validation')\n",
    "\n",
    "    # Split the unique epoch IDs into train, validation, and test sets\n",
    "\n",
    "    train_sample_ids = unique_epoch_ids[:train_samples_nr]\n",
    "    test_sample_ids = unique_epoch_ids[train_samples_nr:]\n",
    "\n",
    "    # Create boolean masks for filtering\n",
    "    train_mask = np.in1d(ids_column, train_sample_ids)\n",
    "    test_mask = np.in1d(ids_column, test_sample_ids)\n",
    "\n",
    "    # Apply the masks to create train, validation, and test samples\n",
    "    train_sample = data[train_mask, :, :]\n",
    "    test_sample = data[test_mask, :, :]\n",
    "\n",
    "    X_train = train_sample[:,:,:-1]\n",
    "    X_test = test_sample[:,:,:-1]\n",
    "\n",
    "    Y_train = train_sample[:,:,-1]\n",
    "    Y_test = test_sample[:,:,-1]\n",
    "\n",
    "    y_test=Y_test.max(axis=1)\n",
    "    y_train=Y_train.max(axis=1)\n",
    "\n",
    "    return X_train, X_test, Y_train, Y_test, y_train, y_test\n"
   ]
  },
  {
   "cell_type": "code",
   "execution_count": 10,
   "metadata": {},
   "outputs": [
    {
     "name": "stdout",
     "output_type": "stream",
     "text": [
      "552 of epochs for training, 138 of epochs for testing/validation\n",
      "train shape (17112, 30, 92) ratio of seizures 0.25\n",
      "test shape (4278, 30, 92), ratio of seizures 0.25\n"
     ]
    }
   ],
   "source": [
    "X_train, X_test, Y_train, Y_test, y_train, y_test = split_data(data)\n",
    "print(f'train shape', X_train.shape, f'ratio of seizures {y_train.sum()/len(y_train):.2f}')\n",
    "print(f'test shape {X_test.shape}, ratio of seizures {y_test.sum()/len(y_test):.2f}')"
   ]
  },
  {
   "cell_type": "code",
   "execution_count": 11,
   "metadata": {},
   "outputs": [
    {
     "name": "stdout",
     "output_type": "stream",
     "text": [
      "train shape (17112, 30, 90)\n",
      "test shape (4278, 30, 90)\n"
     ]
    }
   ],
   "source": [
    "# Scaling features\n",
    "num_features_train = X_train[:,:,2:]\n",
    "num_features_test = X_test[:,:,2:]\n",
    "\n",
    "# Get the dimensions of the original array\n",
    "num_epochs_tr, num_segments_per_epoch_tr, features_tr = num_features_train.shape\n",
    "num_epochs_te, num_segments_per_epoch_te, features_te = num_features_test.shape\n",
    "\n",
    "# Reshape the array to 2D\n",
    "reshaped_array_train = num_features_train.reshape(num_epochs_tr * num_segments_per_epoch_tr, features_tr)\n",
    "reshaped_array_test = num_features_test.reshape(num_epochs_te * num_segments_per_epoch_te, features_te)\n",
    "\n",
    "# Scaling features\n",
    "scaler = StandardScaler()\n",
    "num_features_scaled_tr = scaler.fit_transform(reshaped_array_train)\n",
    "num_features_scaled_te = scaler.transform(reshaped_array_test)\n",
    "\n",
    "X_train_scaled = num_features_scaled_tr.reshape(num_epochs_tr, num_segments_per_epoch_tr, features_tr)\n",
    "X_test_scaled = num_features_scaled_te.reshape(num_epochs_te, num_segments_per_epoch_te, features_te)\n",
    "\n",
    "print(f'train shape', X_train_scaled.shape)\n",
    "print(f'test shape', X_test_scaled.shape)"
   ]
  },
  {
   "cell_type": "code",
   "execution_count": 12,
   "metadata": {},
   "outputs": [],
   "source": [
    "X_train = X_train_scaled\n",
    "X_test = X_test_scaled"
   ]
  },
  {
   "cell_type": "code",
   "execution_count": 14,
   "metadata": {},
   "outputs": [],
   "source": [
    "import numpy as np\n",
    "import tensorflow as tf\n",
    "from sklearn.utils.class_weight import compute_class_weight\n",
    "\n",
    "class_labels, class_counts = np.unique(y_train, return_counts=True)\n",
    "total_samples = len(y_train)\n",
    "class_weights = total_samples / (len(class_labels) * class_counts)\n",
    "\n",
    "# Convert class weights to a dictionary\n",
    "class_weight_dict = dict(zip(class_labels, class_weights))\n"
   ]
  },
  {
   "cell_type": "code",
   "execution_count": 15,
   "metadata": {},
   "outputs": [
    {
     "data": {
      "text/plain": [
       "{0.0: 0.6699029126213593, 1.0: 1.9714285714285715}"
      ]
     },
     "execution_count": 15,
     "metadata": {},
     "output_type": "execute_result"
    }
   ],
   "source": [
    "class_weight_dict"
   ]
  },
  {
   "cell_type": "code",
   "execution_count": 17,
   "metadata": {},
   "outputs": [],
   "source": [
    "N_TRAIN = len(X_train)\n",
    "EPOCHS = 200\n",
    "BATCH_SIZE = 1000\n",
    "STEPS_PER_EPOCH = N_TRAIN // BATCH_SIZE"
   ]
  },
  {
   "cell_type": "code",
   "execution_count": 16,
   "metadata": {},
   "outputs": [
    {
     "data": {
      "text/plain": [
       "1"
      ]
     },
     "execution_count": 16,
     "metadata": {},
     "output_type": "execute_result"
    }
   ],
   "source": [
    "STEPS_PER_EPOCH"
   ]
  },
  {
   "cell_type": "code",
   "execution_count": 18,
   "metadata": {},
   "outputs": [],
   "source": [
    "from keras.models import Sequential\n",
    "from keras.layers import LSTM, Dense, Dropout, BatchNormalization, Input\n",
    "from tensorflow.keras.optimizers import Adam\n",
    "from keras import regularizers\n",
    "\n",
    "# Set seeds for reproducibility\n",
    "np.random.seed(42)\n",
    "tf.random.set_seed(42)\n",
    "\n",
    "model = Sequential()\n",
    "\n",
    "model.add(Input(shape=X_train.shape[1:]))\n",
    "\n",
    "#model.add(normalizer)\n",
    "\n",
    "# Recurrent layer\n",
    "model.add(LSTM(512, return_sequences=False, kernel_regularizer=regularizers.l2(0.05)))\n",
    "model.add(Dropout(0.5))  # Add dropout after LSTM\n",
    "\n",
    "\n",
    "# Fully connected layer\n",
    "model.add(Dense(512, activation='relu', kernel_regularizer=regularizers.l2(0.05)))\n",
    "\n",
    "# Dropout for regularization\n",
    "model.add(Dropout(0.5))\n",
    "\n",
    "model.add(BatchNormalization())\n",
    "\n",
    "# Calculate the imbalance ratio\n",
    "pos_ratio = class_weight_dict[1] / (class_weight_dict[0] + class_weight_dict[1])\n",
    "\n",
    "# Calculate the initial bias based on the imbalance ratio\n",
    "initial_bias = -np.log(pos_ratio)\n",
    "\n",
    "# Output layer with a custom bias for initial probability\n",
    "model.add(Dense(1, activation='sigmoid', bias_initializer=tf.keras.initializers.Constant(initial_bias)))\n",
    "\n",
    "# Compile the model\n",
    "#learning_rate = 0.001  # Replace with your desired learning rate\n",
    "\n",
    "# Create an instance of the Adam optimizer with the specified learning rate\n",
    "\n",
    "lr_schedule = tf.keras.optimizers.schedules.InverseTimeDecay(\n",
    "    0.00001,\n",
    "    \n",
    "    decay_steps=STEPS_PER_EPOCH*1000,\n",
    "    decay_rate=0.001,\n",
    "    staircase=False)\n",
    "\n",
    "\n",
    "optimizer = Adam(learning_rate=lr_schedule)\n",
    "model.compile(\n",
    "    optimizer=optimizer, loss='binary_crossentropy', metrics=['accuracy', 'AUC'])"
   ]
  },
  {
   "cell_type": "code",
   "execution_count": 25,
   "metadata": {},
   "outputs": [
    {
     "name": "stdout",
     "output_type": "stream",
     "text": [
      "Model: \"sequential_2\"\n",
      "_________________________________________________________________\n",
      " Layer (type)                Output Shape              Param #   \n",
      "=================================================================\n",
      " lstm_2 (LSTM)               (None, 1024)              4444160   \n",
      "                                                                 \n",
      " dropout_4 (Dropout)         (None, 1024)              0         \n",
      "                                                                 \n",
      " dense_4 (Dense)             (None, 1024)              1049600   \n",
      "                                                                 \n",
      " dropout_5 (Dropout)         (None, 1024)              0         \n",
      "                                                                 \n",
      " batch_normalization_2 (Bat  (None, 1024)              4096      \n",
      " chNormalization)                                                \n",
      "                                                                 \n",
      " dense_5 (Dense)             (None, 1)                 1025      \n",
      "                                                                 \n",
      "=================================================================\n",
      "Total params: 5498881 (20.98 MB)\n",
      "Trainable params: 5496833 (20.97 MB)\n",
      "Non-trainable params: 2048 (8.00 KB)\n",
      "_________________________________________________________________\n"
     ]
    }
   ],
   "source": [
    "model.summary()"
   ]
  },
  {
   "cell_type": "code",
   "execution_count": 19,
   "metadata": {},
   "outputs": [],
   "source": [
    "from keras.callbacks import EarlyStopping, ModelCheckpoint\n",
    "\n",
    "# Create EarlyStopping callback\n",
    "early_stopping = EarlyStopping(monitor='val_auc', patience=5, restore_best_weights=True)\n",
    "\n",
    "# Create ModelCheckpoint callback to save the best model\n",
    "model_checkpoint = ModelCheckpoint('best_model.h5', save_best_only=True)\n",
    "\n",
    "# Combine the callbacks in a list\n",
    "callbacks = [early_stopping, model_checkpoint]"
   ]
  },
  {
   "cell_type": "code",
   "execution_count": 20,
   "metadata": {},
   "outputs": [
    {
     "data": {
      "text/plain": [
       "(17112,)"
      ]
     },
     "execution_count": 20,
     "metadata": {},
     "output_type": "execute_result"
    }
   ],
   "source": [
    "y_train.shape"
   ]
  },
  {
   "cell_type": "code",
   "execution_count": 20,
   "metadata": {},
   "outputs": [
    {
     "name": "stdout",
     "output_type": "stream",
     "text": [
      "Epoch 1/200\n",
      "18/18 [==============================] - 38s 2s/step - loss: 34.9675 - accuracy: 0.4504 - auc: 0.4846 - val_loss: 34.7440 - val_accuracy: 0.2553 - val_auc: 0.4133\n",
      "Epoch 2/200\n"
     ]
    },
    {
     "name": "stderr",
     "output_type": "stream",
     "text": [
      "/Users/anabroggini/Documents/bootcamp/ai2/.venv/lib/python3.11/site-packages/keras/src/engine/training.py:3079: UserWarning: You are saving your model as an HDF5 file via `model.save()`. This file format is considered legacy. We recommend using instead the native Keras format, e.g. `model.save('my_model.keras')`.\n",
      "  saving_api.save_model(\n"
     ]
    },
    {
     "name": "stdout",
     "output_type": "stream",
     "text": [
      "18/18 [==============================] - 36s 2s/step - loss: 34.6945 - accuracy: 0.4632 - auc: 0.5036 - val_loss: 34.4923 - val_accuracy: 0.2550 - val_auc: 0.4583\n",
      "Epoch 3/200\n",
      "18/18 [==============================] - 33s 2s/step - loss: 34.4283 - accuracy: 0.4740 - auc: 0.5236 - val_loss: 34.2457 - val_accuracy: 0.2564 - val_auc: 0.4836\n",
      "Epoch 4/200\n",
      "18/18 [==============================] - 29s 2s/step - loss: 34.1746 - accuracy: 0.4813 - auc: 0.5371 - val_loss: 34.0020 - val_accuracy: 0.2630 - val_auc: 0.4991\n",
      "Epoch 5/200\n",
      "18/18 [==============================] - 30s 2s/step - loss: 33.9350 - accuracy: 0.4866 - auc: 0.5405 - val_loss: 33.7604 - val_accuracy: 0.2838 - val_auc: 0.5211\n",
      "Epoch 6/200\n",
      "18/18 [==============================] - 31s 2s/step - loss: 33.6925 - accuracy: 0.4851 - auc: 0.5464 - val_loss: 33.5207 - val_accuracy: 0.2899 - val_auc: 0.5361\n",
      "Epoch 7/200\n",
      "18/18 [==============================] - 34s 2s/step - loss: 33.4444 - accuracy: 0.4940 - auc: 0.5610 - val_loss: 33.2826 - val_accuracy: 0.2997 - val_auc: 0.5532\n",
      "Epoch 8/200\n",
      "18/18 [==============================] - 31s 2s/step - loss: 33.2052 - accuracy: 0.5004 - auc: 0.5705 - val_loss: 33.0488 - val_accuracy: 0.3114 - val_auc: 0.5541\n",
      "Epoch 9/200\n",
      "18/18 [==============================] - 28s 2s/step - loss: 32.9698 - accuracy: 0.5038 - auc: 0.5776 - val_loss: 32.8158 - val_accuracy: 0.3266 - val_auc: 0.5649\n",
      "Epoch 10/200\n",
      "18/18 [==============================] - 31s 2s/step - loss: 32.7396 - accuracy: 0.5033 - auc: 0.5793 - val_loss: 32.5825 - val_accuracy: 0.3375 - val_auc: 0.5725\n",
      "Epoch 11/200\n",
      "18/18 [==============================] - 37s 2s/step - loss: 32.4964 - accuracy: 0.5091 - auc: 0.5886 - val_loss: 32.3511 - val_accuracy: 0.3602 - val_auc: 0.5810\n",
      "Epoch 12/200\n",
      "18/18 [==============================] - 32s 2s/step - loss: 32.2742 - accuracy: 0.5155 - auc: 0.5901 - val_loss: 32.1209 - val_accuracy: 0.4299 - val_auc: 0.5923\n",
      "Epoch 13/200\n",
      "18/18 [==============================] - 31s 2s/step - loss: 32.0305 - accuracy: 0.5183 - auc: 0.6040 - val_loss: 31.8934 - val_accuracy: 0.4652 - val_auc: 0.6007\n",
      "Epoch 14/200\n",
      "18/18 [==============================] - 29s 2s/step - loss: 31.8112 - accuracy: 0.5205 - auc: 0.6033 - val_loss: 31.6668 - val_accuracy: 0.4970 - val_auc: 0.6104\n",
      "Epoch 15/200\n",
      "18/18 [==============================] - 28s 2s/step - loss: 31.5808 - accuracy: 0.5234 - auc: 0.6083 - val_loss: 31.4434 - val_accuracy: 0.5077 - val_auc: 0.6149\n",
      "Epoch 16/200\n",
      "18/18 [==============================] - 30s 2s/step - loss: 31.3485 - accuracy: 0.5286 - auc: 0.6192 - val_loss: 31.2204 - val_accuracy: 0.5164 - val_auc: 0.6185\n",
      "Epoch 17/200\n",
      "18/18 [==============================] - 26s 1s/step - loss: 31.1164 - accuracy: 0.5340 - auc: 0.6286 - val_loss: 30.9972 - val_accuracy: 0.5292 - val_auc: 0.6244\n",
      "Epoch 18/200\n",
      "18/18 [==============================] - 28s 2s/step - loss: 30.8969 - accuracy: 0.5354 - auc: 0.6329 - val_loss: 30.7767 - val_accuracy: 0.5416 - val_auc: 0.6313\n",
      "Epoch 19/200\n",
      "18/18 [==============================] - 26s 1s/step - loss: 30.6761 - accuracy: 0.5389 - auc: 0.6353 - val_loss: 30.5623 - val_accuracy: 0.5533 - val_auc: 0.6428\n",
      "Epoch 20/200\n",
      "18/18 [==============================] - 26s 1s/step - loss: 30.4522 - accuracy: 0.5445 - auc: 0.6468 - val_loss: 30.3475 - val_accuracy: 0.5645 - val_auc: 0.6504\n",
      "Epoch 21/200\n",
      "18/18 [==============================] - 26s 1s/step - loss: 30.2307 - accuracy: 0.5527 - auc: 0.6520 - val_loss: 30.1367 - val_accuracy: 0.5589 - val_auc: 0.6528\n",
      "Epoch 22/200\n",
      "18/18 [==============================] - 26s 1s/step - loss: 30.0150 - accuracy: 0.5482 - auc: 0.6528 - val_loss: 29.9195 - val_accuracy: 0.5708 - val_auc: 0.6571\n",
      "Epoch 23/200\n",
      "18/18 [==============================] - 26s 1s/step - loss: 29.8022 - accuracy: 0.5508 - auc: 0.6537 - val_loss: 29.7074 - val_accuracy: 0.5729 - val_auc: 0.6612\n",
      "Epoch 24/200\n",
      "18/18 [==============================] - 26s 1s/step - loss: 29.5814 - accuracy: 0.5550 - auc: 0.6612 - val_loss: 29.4985 - val_accuracy: 0.5727 - val_auc: 0.6678\n",
      "Epoch 25/200\n",
      "18/18 [==============================] - 26s 1s/step - loss: 29.3685 - accuracy: 0.5608 - auc: 0.6707 - val_loss: 29.2886 - val_accuracy: 0.5837 - val_auc: 0.6748\n",
      "Epoch 26/200\n",
      "18/18 [==============================] - 26s 1s/step - loss: 29.1590 - accuracy: 0.5623 - auc: 0.6731 - val_loss: 29.0816 - val_accuracy: 0.5823 - val_auc: 0.6757\n",
      "Epoch 27/200\n",
      "18/18 [==============================] - 26s 1s/step - loss: 28.9470 - accuracy: 0.5628 - auc: 0.6755 - val_loss: 28.8722 - val_accuracy: 0.5947 - val_auc: 0.6804\n",
      "Epoch 28/200\n",
      "18/18 [==============================] - 27s 2s/step - loss: 28.7371 - accuracy: 0.5703 - auc: 0.6819 - val_loss: 28.6665 - val_accuracy: 0.6054 - val_auc: 0.6859\n",
      "Epoch 29/200\n",
      "18/18 [==============================] - 26s 1s/step - loss: 28.5270 - accuracy: 0.5728 - auc: 0.6865 - val_loss: 28.4623 - val_accuracy: 0.6038 - val_auc: 0.6862\n",
      "Epoch 30/200\n",
      "18/18 [==============================] - 26s 1s/step - loss: 28.3218 - accuracy: 0.5777 - auc: 0.6933 - val_loss: 28.2552 - val_accuracy: 0.6141 - val_auc: 0.6904\n",
      "Epoch 31/200\n",
      "18/18 [==============================] - 29s 2s/step - loss: 28.1218 - accuracy: 0.5760 - auc: 0.6882 - val_loss: 28.0538 - val_accuracy: 0.6124 - val_auc: 0.6942\n",
      "Epoch 32/200\n",
      "18/18 [==============================] - 26s 1s/step - loss: 27.9058 - accuracy: 0.5812 - auc: 0.7040 - val_loss: 27.8536 - val_accuracy: 0.6190 - val_auc: 0.6985\n",
      "Epoch 33/200\n",
      "18/18 [==============================] - 26s 1s/step - loss: 27.6996 - accuracy: 0.5864 - auc: 0.7106 - val_loss: 27.6544 - val_accuracy: 0.6269 - val_auc: 0.7022\n",
      "Epoch 34/200\n",
      "18/18 [==============================] - 26s 1s/step - loss: 27.5031 - accuracy: 0.5892 - auc: 0.7107 - val_loss: 27.4504 - val_accuracy: 0.6323 - val_auc: 0.7054\n",
      "Epoch 35/200\n",
      "18/18 [==============================] - 26s 1s/step - loss: 27.3022 - accuracy: 0.5920 - auc: 0.7130 - val_loss: 27.2493 - val_accuracy: 0.6349 - val_auc: 0.7073\n",
      "Epoch 36/200\n",
      "18/18 [==============================] - 26s 1s/step - loss: 27.1079 - accuracy: 0.5975 - auc: 0.7170 - val_loss: 27.0509 - val_accuracy: 0.6370 - val_auc: 0.7074\n",
      "Epoch 37/200\n",
      "18/18 [==============================] - 26s 1s/step - loss: 26.9002 - accuracy: 0.6016 - auc: 0.7271 - val_loss: 26.8554 - val_accuracy: 0.6393 - val_auc: 0.7103\n",
      "Epoch 38/200\n",
      "18/18 [==============================] - 27s 1s/step - loss: 26.7028 - accuracy: 0.6086 - auc: 0.7307 - val_loss: 26.6627 - val_accuracy: 0.6424 - val_auc: 0.7150\n",
      "Epoch 39/200\n",
      "18/18 [==============================] - 26s 1s/step - loss: 26.5142 - accuracy: 0.6063 - auc: 0.7292 - val_loss: 26.4698 - val_accuracy: 0.6484 - val_auc: 0.7194\n",
      "Epoch 40/200\n",
      "18/18 [==============================] - 26s 1s/step - loss: 26.3125 - accuracy: 0.6192 - auc: 0.7415 - val_loss: 26.2834 - val_accuracy: 0.6433 - val_auc: 0.7202\n",
      "Epoch 41/200\n",
      "18/18 [==============================] - 26s 1s/step - loss: 26.1229 - accuracy: 0.6114 - auc: 0.7404 - val_loss: 26.0944 - val_accuracy: 0.6524 - val_auc: 0.7231\n",
      "Epoch 42/200\n",
      "18/18 [==============================] - 26s 1s/step - loss: 25.9288 - accuracy: 0.6241 - auc: 0.7494 - val_loss: 25.9025 - val_accuracy: 0.6477 - val_auc: 0.7244\n",
      "Epoch 43/200\n",
      "18/18 [==============================] - 26s 1s/step - loss: 25.7311 - accuracy: 0.6237 - auc: 0.7539 - val_loss: 25.7103 - val_accuracy: 0.6599 - val_auc: 0.7252\n",
      "Epoch 44/200\n",
      "18/18 [==============================] - 26s 1s/step - loss: 25.5435 - accuracy: 0.6315 - auc: 0.7581 - val_loss: 25.5286 - val_accuracy: 0.6561 - val_auc: 0.7255\n",
      "Epoch 45/200\n",
      "18/18 [==============================] - 26s 1s/step - loss: 25.3612 - accuracy: 0.6290 - auc: 0.7596 - val_loss: 25.3399 - val_accuracy: 0.6671 - val_auc: 0.7272\n",
      "Epoch 46/200\n",
      "18/18 [==============================] - 26s 1s/step - loss: 25.1718 - accuracy: 0.6327 - auc: 0.7633 - val_loss: 25.1554 - val_accuracy: 0.6727 - val_auc: 0.7284\n",
      "Epoch 47/200\n",
      "18/18 [==============================] - 26s 1s/step - loss: 24.9774 - accuracy: 0.6436 - auc: 0.7738 - val_loss: 24.9662 - val_accuracy: 0.6597 - val_auc: 0.7308\n",
      "Epoch 48/200\n",
      "18/18 [==============================] - 26s 1s/step - loss: 24.7905 - accuracy: 0.6408 - auc: 0.7769 - val_loss: 24.7779 - val_accuracy: 0.6800 - val_auc: 0.7327\n",
      "Epoch 49/200\n",
      "18/18 [==============================] - 26s 1s/step - loss: 24.6121 - accuracy: 0.6428 - auc: 0.7756 - val_loss: 24.6068 - val_accuracy: 0.6835 - val_auc: 0.7341\n",
      "Epoch 50/200\n",
      "18/18 [==============================] - 26s 1s/step - loss: 24.4273 - accuracy: 0.6467 - auc: 0.7813 - val_loss: 24.4258 - val_accuracy: 0.6819 - val_auc: 0.7330\n",
      "Epoch 51/200\n",
      "18/18 [==============================] - 26s 1s/step - loss: 24.2500 - accuracy: 0.6546 - auc: 0.7847 - val_loss: 24.2350 - val_accuracy: 0.6926 - val_auc: 0.7334\n",
      "Epoch 52/200\n",
      "18/18 [==============================] - 26s 1s/step - loss: 24.0693 - accuracy: 0.6560 - auc: 0.7864 - val_loss: 24.0556 - val_accuracy: 0.6966 - val_auc: 0.7338\n",
      "Epoch 53/200\n",
      "18/18 [==============================] - 26s 1s/step - loss: 23.8896 - accuracy: 0.6543 - auc: 0.7899 - val_loss: 23.8794 - val_accuracy: 0.7071 - val_auc: 0.7334\n",
      "Epoch 54/200\n",
      "18/18 [==============================] - 26s 1s/step - loss: 23.7074 - accuracy: 0.6636 - auc: 0.7950 - val_loss: 23.7037 - val_accuracy: 0.6947 - val_auc: 0.7335\n"
     ]
    }
   ],
   "source": [
    "## look at validation batch ?\n",
    "history = model.fit(X_train,  y_train, \n",
    "                    batch_size=BATCH_SIZE, \n",
    "                    class_weight=class_weight_dict,\n",
    "                    shuffle=True,\n",
    "                    epochs=EPOCHS,\n",
    "                    validation_data = (X_test, y_test),\n",
    "                    # validation_split= 0.2,\n",
    "                    callbacks=callbacks,\n",
    "                    )"
   ]
  },
  {
   "cell_type": "code",
   "execution_count": 21,
   "metadata": {},
   "outputs": [
    {
     "data": {
      "image/png": "[encoded data removed]",
      "text/plain": [
       "<Figure size 640x480 with 2 Axes>"
      ]
     },
     "metadata": {},
     "output_type": "display_data"
    }
   ],
   "source": [
    "plots.plot_history_metrics(history)"
   ]
  },
  {
   "cell_type": "code",
   "execution_count": 22,
   "metadata": {},
   "outputs": [
    {
     "name": "stdout",
     "output_type": "stream",
     "text": [
      "134/134 - 4s - loss: 24.6068 - accuracy: 0.6835 - auc: 0.7341 - 4s/epoch - 30ms/step\n",
      "Model accuracy: [24.60676383972168, 0.6834969520568848, 0.7340831756591797]\n"
     ]
    }
   ],
   "source": [
    "metrics = model.evaluate(X_test, y_test, verbose=2)\n",
    "print(f'Model accuracy: {metrics}')"
   ]
  },
  {
   "cell_type": "code",
   "execution_count": null,
   "metadata": {},
   "outputs": [],
   "source": [
    "model.summary()"
   ]
  },
  {
   "cell_type": "code",
   "execution_count": null,
   "metadata": {},
   "outputs": [
    {
     "name": "stdout",
     "output_type": "stream",
     "text": [
      "535/535 [==============================] - 3s 6ms/step\n"
     ]
    }
   ],
   "source": [
    "y_pred_train = model.predict(X_train)"
   ]
  },
  {
   "cell_type": "code",
   "execution_count": 24,
   "metadata": {},
   "outputs": [
    {
     "name": "stdout",
     "output_type": "stream",
     "text": [
      "134/134 [==============================] - 5s 33ms/step\n"
     ]
    },
    {
     "data": {
      "text/plain": [
       "(4278, 1)"
      ]
     },
     "execution_count": 24,
     "metadata": {},
     "output_type": "execute_result"
    }
   ],
   "source": [
    "y_pred = model.predict(X_test)\n",
    "y_pred_c = y_pred.round().astype(int)\n",
    "y_pred_c.shape"
   ]
  },
  {
   "cell_type": "code",
   "execution_count": 25,
   "metadata": {},
   "outputs": [
    {
     "data": {
      "image/png": "[encoded data removed]",
      "text/plain": [
       "<Figure size 640x480 with 1 Axes>"
      ]
     },
     "metadata": {},
     "output_type": "display_data"
    }
   ],
   "source": [
    "plots.plot_roc(y_test, y_pred)"
   ]
  },
  {
   "cell_type": "code",
   "execution_count": null,
   "metadata": {},
   "outputs": [
    {
     "data": {
      "text/plain": [
       "[8.797004699707031, 0.6443302631378174]"
      ]
     },
     "execution_count": 35,
     "metadata": {},
     "output_type": "execute_result"
    }
   ],
   "source": [
    "metrics"
   ]
  },
  {
   "cell_type": "code",
   "execution_count": 26,
   "metadata": {},
   "outputs": [
    {
     "name": "stdout",
     "output_type": "stream",
     "text": [
      "134/134 [==============================] - 5s 35ms/step - loss: 24.6068 - accuracy: 0.6835 - auc: 0.7341\n",
      "Loss: 24.60676383972168\n",
      "AUC: 0.6834969520568848\n",
      "Accuracy: 0.7340831756591797\n",
      "Precision: 0.4273365748244192\n",
      "Recall: 0.7290322580645161\n"
     ]
    },
    {
     "data": {
      "text/plain": [
       "(1085.0, 1851)"
      ]
     },
     "execution_count": 26,
     "metadata": {},
     "output_type": "execute_result"
    }
   ],
   "source": [
    "from sklearn.metrics import precision_score, recall_score, confusion_matrix\n",
    "y_pred_c = y_pred.round().astype(int)\n",
    "precision = precision_score(y_test, y_pred_c)\n",
    "recall = recall_score(y_test, y_pred_c)\n",
    "\n",
    "metrics = model.evaluate(X_test, y_test)\n",
    "\n",
    "limit_index = lambda x, arr: min(x,len(arr))\n",
    "print('Loss:', metrics[limit_index(0,metrics)])\n",
    "print('AUC:', metrics[limit_index(1,metrics)])\n",
    "print('Accuracy:', metrics[limit_index(2,metrics)])\n",
    "print('Precision:', precision)\n",
    "print('Recall:', recall)\n",
    "y_test.sum(), y_pred_c.sum()\n"
   ]
  },
  {
   "cell_type": "code",
   "execution_count": null,
   "metadata": {},
   "outputs": [
    {
     "name": "stdout",
     "output_type": "stream",
     "text": [
      "Metrics:  ['loss', 'accuracy', 'auc']\n",
      "Results:  [1.255138635635376, 0.7843210697174072, 0.6853933930397034]\n"
     ]
    }
   ],
   "source": [
    "# Print the results\n",
    "print(\"Metrics: \", model.metrics_names)\n",
    "print(\"Results: \", metrics)"
   ]
  },
  {
   "cell_type": "code",
   "execution_count": 27,
   "metadata": {},
   "outputs": [
    {
     "data": {
      "image/png": "[encoded data removed]",
      "text/plain": [
       "<Figure size 640x480 with 2 Axes>"
      ]
     },
     "metadata": {},
     "output_type": "display_data"
    }
   ],
   "source": [
    "plots.plot_confusion_matrix(y_test, y_pred_c)"
   ]
  },
  {
   "cell_type": "code",
   "execution_count": 28,
   "metadata": {},
   "outputs": [
    {
     "name": "stdout",
     "output_type": "stream",
     "text": [
      "Classification Report:\n",
      "              precision    recall  f1-score   support\n",
      "\n",
      "         0.0       0.88      0.67      0.76      3193\n",
      "         1.0       0.43      0.73      0.54      1085\n",
      "\n",
      "    accuracy                           0.68      4278\n",
      "   macro avg       0.65      0.70      0.65      4278\n",
      "weighted avg       0.76      0.68      0.70      4278\n",
      "\n"
     ]
    }
   ],
   "source": [
    "from sklearn.metrics import classification_report\n",
    "report = classification_report(y_test, y_pred_c)\n",
    "print(\"Classification Report:\")\n",
    "print(report)\n",
    " "
   ]
  },
  {
   "cell_type": "code",
   "execution_count": null,
   "metadata": {},
   "outputs": [
    {
     "data": {
      "text/plain": [
       "1.5083032846450806"
      ]
     },
     "execution_count": 127,
     "metadata": {},
     "output_type": "execute_result"
    }
   ],
   "source": [
    "model_checkpoint.best"
   ]
  },
  {
   "cell_type": "code",
   "execution_count": null,
   "metadata": {},
   "outputs": [
    {
     "name": "stdout",
     "output_type": "stream",
     "text": [
      "INFO:tensorflow:Assets written to: saved_model/my_RNN_model_60per5_fixing_overfit/assets\n"
     ]
    },
    {
     "name": "stderr",
     "output_type": "stream",
     "text": [
      "INFO:tensorflow:Assets written to: saved_model/my_RNN_model_60per5_fixing_overfit/assets\n"
     ]
    }
   ],
   "source": [
    "# !mkdir -p saved_model\n",
    "\n",
    "model.save('saved_model/wavelet_model')"
   ]
  },
  {
   "cell_type": "code",
   "execution_count": null,
   "metadata": {},
   "outputs": [],
   "source": [
    "# # Define a sequential model\n",
    "# model = keras.Sequential()\n",
    "\n",
    "# #model.add(normalizer)\n",
    "\n",
    "# # Add an input layer with an input shape of (time_steps, input_features)\n",
    "# model.add(layers.InputLayer(input_shape=(X_train.shape[1],X_train.shape[2])))\n",
    "\n",
    "# # Add a SimpleRNN layer with 32 units (neurons)\n",
    "# model.add(layers.SimpleRNN(72, activation='tanh'))\n",
    "\n",
    "# model.add(BatchNormalization())\n",
    "\n",
    "# # Add the output layer with 1 neuron and sigmoid activation for binary classification\n",
    "# model.add(layers.Dense(1, activation='sigmoid'))\n",
    "\n",
    "# # Compile the model with binary cross-entropy loss for binary classification\n",
    "# model.compile(loss='binary_crossentropy', optimizer='adam', metrics=['accuracy'])\n"
   ]
  },
  {
   "cell_type": "code",
   "execution_count": null,
   "metadata": {},
   "outputs": [],
   "source": [
    "# history = model.fit(X_train,  y_train, \n",
    "#                     batch_size=100, \n",
    "#                     class_weight=class_weight_dict,\n",
    "#                     shuffle=True,\n",
    "#                     epochs=300,\n",
    "#                     validation_data=(X_val, y_val))"
   ]
  },
  {
   "cell_type": "code",
   "execution_count": null,
   "metadata": {},
   "outputs": [
    {
     "data": {
      "image/png": "[encoded data removed]",
      "text/plain": [
       "<Figure size 640x480 with 1 Axes>"
      ]
     },
     "metadata": {},
     "output_type": "display_data"
    }
   ],
   "source": [
    "# plot_loss(history)"
   ]
  },
  {
   "cell_type": "code",
   "execution_count": null,
   "metadata": {},
   "outputs": [
    {
     "name": "stdout",
     "output_type": "stream",
     "text": [
      "16/16 [==============================] - 0s 2ms/step\n"
     ]
    },
    {
     "data": {
      "text/plain": [
       "array([0.6652413 , 0.569696  , 0.6270943 , 0.6571634 , 0.6279296 ,\n",
       "       0.661146  , 0.6190019 , 0.6956031 , 0.60217565, 0.6422262 ,\n",
       "       0.6130368 , 0.61739904, 0.5836438 , 0.60966194, 0.61492014,\n",
       "       0.68353057, 0.62516934, 0.6223092 , 0.60138613, 0.86089545,\n",
       "       0.5997883 , 0.7082959 , 0.61577535, 0.65439284, 0.6153179 ,\n",
       "       0.61165124, 0.6138298 , 0.6019997 , 0.69033056, 0.5684809 ,\n",
       "       0.60205024, 0.6596652 , 0.5667143 , 0.5973395 , 0.5799074 ,\n",
       "       0.5978519 , 0.69248086, 0.6828316 , 0.5917969 , 0.65039593,\n",
       "       0.6280549 , 0.5896513 , 0.5801114 , 0.6888158 , 0.6263854 ,\n",
       "       0.5939749 , 0.6077289 , 0.7062058 , 0.5900531 , 0.61288965,\n",
       "       0.6144817 , 0.6018636 , 0.6108944 , 0.6096263 , 0.6149801 ,\n",
       "       0.60750127, 0.654709  , 0.6353007 , 0.60026884, 0.6303653 ,\n",
       "       0.6049201 , 0.61497486, 0.57438624, 0.5701094 , 0.5770952 ,\n",
       "       0.5821288 , 0.643623  , 0.621211  , 0.44605097, 0.6186412 ,\n",
       "       0.5902251 , 0.7171862 , 0.6248064 , 0.6361713 , 0.63841057,\n",
       "       0.60719955, 0.59733856, 0.60892665, 0.6013863 , 0.623986  ,\n",
       "       0.63009584, 0.603017  , 0.61030924, 0.58020943, 0.6748548 ,\n",
       "       0.60598344, 0.6255829 , 0.6094475 , 0.6422542 , 0.6050221 ,\n",
       "       0.64808655, 0.6784057 , 0.6414742 , 0.43772689, 0.47509748,\n",
       "       0.4773404 , 0.46248704, 0.49979073, 0.47895792, 0.5372552 ,\n",
       "       0.5187584 , 0.52861136, 0.50036955, 0.5100715 , 0.62464726,\n",
       "       0.5285064 , 0.5293216 , 0.5315612 , 0.5522734 , 0.56808764,\n",
       "       0.5585732 , 0.5905    , 0.5551743 , 0.59540546, 0.5667664 ,\n",
       "       0.5959337 , 0.6187483 , 0.5835188 , 0.6195134 , 0.59738874,\n",
       "       0.60609746, 0.5645777 , 0.5945552 , 0.5894392 , 0.42119426,\n",
       "       0.5681184 , 0.6998913 , 0.5707609 , 0.41356623, 0.38445675,\n",
       "       0.58828235, 0.44433853, 0.4882775 , 0.6843342 , 0.6339574 ,\n",
       "       0.55668706, 0.54252225, 0.52601564, 0.52793366, 0.5227525 ,\n",
       "       0.53863966, 0.52710426, 0.5825123 , 0.7270559 , 0.5614912 ,\n",
       "       0.67644376, 0.6574703 , 0.5613832 , 0.571432  , 0.45936516,\n",
       "       0.51618534, 0.5878282 , 0.6881402 , 0.55302554, 0.64734346,\n",
       "       0.44869968, 0.5226918 , 0.43218562, 0.41906303, 0.436424  ,\n",
       "       0.43815136, 0.45401877, 0.4686395 , 0.49536863, 0.7637861 ,\n",
       "       0.61514354, 0.5505852 , 0.5499905 , 0.53895366, 0.64563704,\n",
       "       0.5790271 , 0.5502958 , 0.6727013 , 0.53519833, 0.6540693 ,\n",
       "       0.5616995 , 0.5763694 , 0.60563   , 0.52863824, 0.59784764,\n",
       "       0.62152696, 0.6223313 , 0.6219068 , 0.5734146 , 0.580643  ,\n",
       "       0.6430308 , 0.4636795 , 0.45806566, 0.4597016 , 0.43732667,\n",
       "       0.46201423, 0.43120196, 0.4199319 , 0.4154514 , 0.47197604,\n",
       "       0.43822312, 0.3883257 , 0.40413404, 0.40162173, 0.41081923,\n",
       "       0.4120124 , 0.43464842, 0.43222827, 0.44615903, 0.4607598 ,\n",
       "       0.48140505, 0.30819106, 0.49094445, 0.57494134, 0.5388886 ,\n",
       "       0.5200795 , 0.5160525 , 0.3901946 , 0.506543  , 0.5344031 ,\n",
       "       0.5556286 , 0.53725415, 0.3587931 , 0.38405797, 0.2732596 ,\n",
       "       0.42811373, 0.43118182, 0.34026456, 0.5205217 , 0.5612506 ,\n",
       "       0.4630498 , 0.39897135, 0.38194242, 0.43440032, 0.3757299 ,\n",
       "       0.42113298, 0.37296957, 0.37644294, 0.38949406, 0.40350494,\n",
       "       0.4161069 , 0.42863566, 0.414522  , 0.4235962 , 0.44694293,\n",
       "       0.42506832, 0.46866596, 0.4787772 , 0.46934006, 0.50378984,\n",
       "       0.51934683, 0.5310882 , 0.5135697 , 0.3030587 , 0.37857455,\n",
       "       0.42232576, 0.27681717, 0.3641637 , 0.43111262, 0.4040192 ,\n",
       "       0.40412614, 0.37876886, 0.32991266, 0.33362213, 0.38279763,\n",
       "       0.3204743 , 0.32391536, 0.36691436, 0.35020855, 0.35531   ,\n",
       "       0.38966686, 0.3785968 , 0.38163382, 0.405167  , 0.42391026,\n",
       "       0.3944749 , 0.41027153, 0.44244385, 0.46995836, 0.4667238 ,\n",
       "       0.48680976, 0.49501336, 0.49217668, 0.49332157, 0.3862032 ,\n",
       "       0.44422376, 0.38413483, 0.4220173 , 0.4364825 , 0.43726265,\n",
       "       0.3949609 , 0.551351  , 0.47417286, 0.4014426 , 0.3660487 ,\n",
       "       0.38109592, 0.37379816, 0.3684239 , 0.3446881 , 0.34863582,\n",
       "       0.36590335, 0.37758777, 0.36572483, 0.38418743, 0.38965997,\n",
       "       0.39837563, 0.407982  , 0.42609367, 0.43063006, 0.4513211 ,\n",
       "       0.46074924, 0.45799103, 0.4747065 , 0.48969895, 0.4966999 ,\n",
       "       0.31376228, 0.30064297, 0.32000488, 0.34089395, 0.31930766,\n",
       "       0.3462876 , 0.34911686, 0.38628054, 0.28159934, 0.3627369 ,\n",
       "       0.41596138, 0.39656124, 0.32339916, 0.27384606, 0.37394723,\n",
       "       0.36815754, 0.31858882, 0.33842516, 0.35862654, 0.34191993,\n",
       "       0.3044802 , 0.32338294, 0.36181813, 0.3823679 , 0.4104403 ,\n",
       "       0.35382304, 0.3438774 , 0.3670379 , 0.3667986 , 0.41488868,\n",
       "       0.40240532, 0.4582582 , 0.3526926 , 0.27478963, 0.40877676,\n",
       "       0.40939188, 0.3618589 , 0.5249612 , 0.36274448, 0.31649446,\n",
       "       0.39789778, 0.30452377, 0.2138851 , 0.32177857, 0.26993054,\n",
       "       0.27846035, 0.25911295, 0.27674666, 0.26746637, 0.28896844,\n",
       "       0.30843973, 0.33016482, 0.36256424, 0.40238753, 0.26573223,\n",
       "       0.22156195, 0.35593435, 0.33750528, 0.28910235, 0.37896293,\n",
       "       0.2803547 , 0.4049907 , 0.33963594, 0.33004746, 0.3375563 ,\n",
       "       0.3204794 , 0.31054157, 0.32648873, 0.30842286, 0.4260846 ,\n",
       "       0.46692806, 0.30909103, 0.3797165 , 0.29219872, 0.33571044,\n",
       "       0.62112385, 0.34811348, 0.3195699 , 0.2970283 , 0.3069522 ,\n",
       "       0.3066885 , 0.31466964, 0.33998042, 0.32226023, 0.27235094,\n",
       "       0.22456524, 0.27676392, 0.2898272 , 0.2808813 , 0.26910356,\n",
       "       0.28608766, 0.31292447, 0.3187728 , 0.3861677 , 0.38987392,\n",
       "       0.38485253, 0.38261008, 0.3707685 , 0.39104915, 0.35279164,\n",
       "       0.3603043 , 0.33357993, 0.3343079 , 0.33669484, 0.3188711 ,\n",
       "       0.30423367, 0.3105262 , 0.30440813, 0.31578785, 0.299009  ,\n",
       "       0.29674652, 0.29555297, 0.29727829, 0.277262  , 0.2965727 ,\n",
       "       0.27959156, 0.28882012, 0.28481197, 0.2918079 , 0.2993838 ,\n",
       "       0.30200222, 0.31586194, 0.35213825, 0.34461346, 0.29542464,\n",
       "       0.33201844, 0.35361746, 0.35526073, 0.3420579 , 0.31507835,\n",
       "       0.3103886 , 0.2908673 , 0.3266469 , 0.317783  , 0.31828013,\n",
       "       0.3123295 , 0.25279772, 0.3215027 , 0.2804789 , 0.26861468,\n",
       "       0.2958932 , 0.2968075 , 0.26578093, 0.27257934, 0.25974604,\n",
       "       0.2520303 , 0.25218186, 0.32627842, 0.26667783, 0.26323926,\n",
       "       0.27470216, 0.27350318, 0.26511413, 0.27610195, 0.30017102,\n",
       "       0.38500676, 0.37637645, 0.34530547, 0.3690651 , 0.355853  ,\n",
       "       0.36944458, 0.34312207, 0.29550368, 0.36085805, 0.35986838,\n",
       "       0.31424642, 0.3283497 , 0.31813326, 0.30099776, 0.317086  ,\n",
       "       0.2966371 , 0.2646232 , 0.27826786, 0.27204275, 0.2763856 ,\n",
       "       0.29300806, 0.25812554, 0.26703545, 0.26603764, 0.27279052,\n",
       "       0.26665732, 0.2766223 , 0.26954728, 0.27440894, 0.25993377,\n",
       "       0.25956622], dtype=float32)"
      ]
     },
     "execution_count": 46,
     "metadata": {},
     "output_type": "execute_result"
    }
   ],
   "source": [
    "# y_pred = model.predict(X_test).flatten()\n",
    "# y_pred"
   ]
  },
  {
   "cell_type": "code",
   "execution_count": null,
   "metadata": {},
   "outputs": [
    {
     "name": "stdout",
     "output_type": "stream",
     "text": [
      "16/16 - 0s - loss: 0.6718 - accuracy: 0.5746 - 234ms/epoch - 15ms/step\n",
      "Model accuracy: 0.5745967626571655\n"
     ]
    }
   ],
   "source": [
    "# loss, accuracy = model.evaluate(X_test, y_test, verbose=2)\n",
    "# print(f'Model accuracy: {accuracy}')"
   ]
  },
  {
   "cell_type": "code",
   "execution_count": null,
   "metadata": {},
   "outputs": [
    {
     "name": "stdout",
     "output_type": "stream",
     "text": [
      "16/16 [==============================] - 0s 2ms/step - loss: 0.6718 - accuracy: 0.5746\n",
      "Loss: 0.6718045473098755\n",
      "Accuracy: 0.5745967626571655\n",
      "Precision: 0.005494505494505495\n",
      "Recall: 0.03225806451612903\n"
     ]
    },
    {
     "data": {
      "text/plain": [
       "(31.0, 182)"
      ]
     },
     "execution_count": 48,
     "metadata": {},
     "output_type": "execute_result"
    }
   ],
   "source": [
    "# from sklearn.metrics import precision_score, recall_score\n",
    "# y_pred_c = y_pred.round().astype(int)\n",
    "# precision = precision_score(y_test, y_pred_c)\n",
    "# recall = recall_score(y_test, y_pred_c)\n",
    "\n",
    "# loss, accuracy = model.evaluate(X_test, y_test)\n",
    "\n",
    "# print('Loss:', loss)\n",
    "# print('Accuracy:', accuracy)\n",
    "# print('Precision:', precision)\n",
    "# print('Recall:', recall)\n",
    "# y_test.sum(), y_pred_c.sum()"
   ]
  },
  {
   "cell_type": "code",
   "execution_count": null,
   "metadata": {},
   "outputs": [],
   "source": []
  }
 ],
 "metadata": {
  "kernelspec": {
   "display_name": ".venv",
   "language": "python",
   "name": "python3"
  },
  "language_info": {
   "codemirror_mode": {
    "name": "ipython",
    "version": 3
   },
   "file_extension": ".py",
   "mimetype": "text/x-python",
   "name": "python",
   "nbconvert_exporter": "python",
   "pygments_lexer": "ipython3",
   "version": "3.11.3"
  }
 },
 "nbformat": 4,
 "nbformat_minor": 2
}
