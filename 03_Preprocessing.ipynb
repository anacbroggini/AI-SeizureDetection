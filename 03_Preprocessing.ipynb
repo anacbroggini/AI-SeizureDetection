{
 "cells": [
  {
   "cell_type": "code",
   "execution_count": 1,
   "metadata": {},
   "outputs": [],
   "source": [
    "from source import data_import\n",
    "from source.constants import CHANNELS\n",
    "import pandas as pd\n"
   ]
  },
  {
   "cell_type": "code",
   "execution_count": 2,
   "metadata": {},
   "outputs": [],
   "source": [
    "# p_df = data_import.import_patients(patient_ids=[1, 2, 3, 4], seizure_flag=True)\n",
    "# p_df.head()"
   ]
  },
  {
   "cell_type": "code",
   "execution_count": 3,
   "metadata": {},
   "outputs": [],
   "source": [
    "# data_import.save_pyarrow(p_df, file_name=\"preprocess_test\")"
   ]
  },
  {
   "cell_type": "code",
   "execution_count": 4,
   "metadata": {},
   "outputs": [
    {
     "name": "stdout",
     "output_type": "stream",
     "text": [
      "chb01_01.edf was import but not resampled 256Hz.\n",
      "chb01_02.edf was import but not resampled 256Hz.\n",
      "chb01_03.edf was import but not resampled 256Hz.\n",
      "chb01_03.edf seizure and buffer was labeled\n",
      "seizure end reached. epoch number: 2, number of segments completed: 2\n",
      "adding 2 ictal segments to epoch 2.\n",
      "adding 13 pre-ictal segments to epoch 2.\n",
      "chb01_04.edf was import but not resampled 256Hz.\n",
      "chb01_04.edf seizure and buffer was labeled\n",
      "seizure end reached. epoch number: 3, number of segments completed: 1\n",
      "adding 1 ictal segments to epoch 3.\n",
      "adding 14 pre-ictal segments to epoch 3.\n",
      "chb01_05.edf was import but not resampled 256Hz.\n",
      "chb01_06.edf was import but not resampled 256Hz.\n",
      "chb01_07.edf was import but not resampled 256Hz.\n",
      "chb01_08.edf was import but not resampled 256Hz.\n",
      "chb01_09.edf was import but not resampled 256Hz.\n",
      "chb01_10.edf was import but not resampled 256Hz.\n",
      "chb01_11.edf was import but not resampled 256Hz.\n",
      "chb01_12.edf was import but not resampled 256Hz.\n",
      "chb01_13.edf was import but not resampled 256Hz.\n",
      "chb01_14.edf was import but not resampled 256Hz.\n",
      "chb01_15.edf was import but not resampled 256Hz.\n",
      "chb01_15.edf seizure and buffer was labeled\n",
      "seizure end reached. epoch number: 14, number of segments completed: 2\n",
      "adding 2 ictal segments to epoch 14.\n",
      "adding 13 pre-ictal segments to epoch 14.\n",
      "chb01_16.edf was import but not resampled 256Hz.\n",
      "chb01_16.edf seizure and buffer was labeled\n",
      "seizure end reached. epoch number: 15, number of segments completed: 2\n",
      "adding 2 ictal segments to epoch 15.\n",
      "adding 13 pre-ictal segments to epoch 15.\n",
      "chb01_17.edf was import but not resampled 256Hz.\n",
      "chb01_18.edf was import but not resampled 256Hz.\n",
      "chb01_18.edf seizure and buffer was labeled\n",
      "seizure end reached. epoch number: 17, number of segments completed: 4\n",
      "adding 4 ictal segments to epoch 17.\n",
      "adding 11 pre-ictal segments to epoch 17.\n",
      "chb01_19.edf was import but not resampled 256Hz.\n",
      "chb01_20.edf was import but not resampled 256Hz.\n",
      "chb01_21.edf was import but not resampled 256Hz.\n",
      "chb01_21.edf seizure and buffer was labeled\n",
      "seizure end reached. epoch number: 20, number of segments completed: 4\n",
      "adding 4 ictal segments to epoch 20.\n",
      "adding 11 pre-ictal segments to epoch 20.\n",
      "chb01_22.edf was import but not resampled 256Hz.\n",
      "chb01_23.edf was import but not resampled 256Hz.\n",
      "chb01_24.edf was import but not resampled 256Hz.\n",
      "chb01_25.edf was import but not resampled 256Hz.\n",
      "chb01_26.edf was import but not resampled 256Hz.\n",
      "chb01_26.edf seizure and buffer was labeled\n",
      "seizure end reached. epoch number: 25, number of segments completed: 5\n",
      "adding 5 ictal segments to epoch 25.\n",
      "adding 10 pre-ictal segments to epoch 25.\n",
      "chb01_27.edf was import but not resampled 256Hz.\n",
      "chb01_29.edf was import but not resampled 256Hz.\n",
      "chb01_30.edf was import but not resampled 256Hz.\n",
      "chb01_31.edf was import but not resampled 256Hz.\n",
      "chb01_32.edf was import but not resampled 256Hz.\n",
      "chb01_33.edf was import but not resampled 256Hz.\n",
      "chb01_34.edf was import but not resampled 256Hz.\n",
      "chb01_36.edf was import but not resampled 256Hz.\n",
      "chb01_37.edf was import but not resampled 256Hz.\n",
      "chb01_38.edf was import but not resampled 256Hz.\n",
      "chb01_39.edf was import but not resampled 256Hz.\n",
      "chb01_40.edf was import but not resampled 256Hz.\n",
      "chb01_41.edf was import but not resampled 256Hz.\n",
      "chb01_42.edf was import but not resampled 256Hz.\n",
      "chb01_43.edf was import but not resampled 256Hz.\n",
      "chb01_46.edf was import but not resampled 256Hz.\n",
      "chb02_01.edf was import but not resampled 256Hz.\n",
      "chb02_02.edf was import but not resampled 256Hz.\n",
      "chb02_03.edf was import but not resampled 256Hz.\n",
      "chb02_04.edf was import but not resampled 256Hz.\n",
      "chb02_05.edf was import but not resampled 256Hz.\n",
      "chb02_06.edf was import but not resampled 256Hz.\n",
      "chb02_07.edf was import but not resampled 256Hz.\n",
      "chb02_08.edf was import but not resampled 256Hz.\n",
      "chb02_09.edf was import but not resampled 256Hz.\n",
      "chb02_10.edf was import but not resampled 256Hz.\n",
      "chb02_11.edf was import but not resampled 256Hz.\n",
      "chb02_12.edf was import but not resampled 256Hz.\n",
      "chb02_13.edf was import but not resampled 256Hz.\n",
      "chb02_14.edf was import but not resampled 256Hz.\n",
      "chb02_15.edf was import but not resampled 256Hz.\n",
      "chb02_16+.edf was import but not resampled 256Hz.\n",
      "chb02_16+.edf seizure and buffer was labeled\n",
      "seizure end reached. epoch number: 57, number of segments completed: 4\n",
      "adding 4 ictal segments to epoch 57.\n",
      "adding 11 pre-ictal segments to epoch 57.\n",
      "chb02_16.edf was import but not resampled 256Hz.\n",
      "chb02_16.edf seizure and buffer was labeled\n",
      "seizure end reached. epoch number: 58, number of segments completed: 4\n",
      "adding 4 ictal segments to epoch 58.\n",
      "preictal interval is not fully covered by datafile! skipping ...\n",
      "chb02_17.edf was import but not resampled 256Hz.\n",
      "chb02_18.edf was import but not resampled 256Hz.\n",
      "chb02_19.edf was import but not resampled 256Hz.\n",
      "chb02_19.edf seizure and buffer was labeled\n",
      "seizure end reached. epoch number: 60, number of segments completed: 0\n",
      "adding 0 ictal segments to epoch 60.\n",
      "first ictal segment is too small.\n",
      "chb02_20.edf was import but not resampled 256Hz.\n",
      "chb02_21.edf was import but not resampled 256Hz.\n",
      "chb02_22.edf was import but not resampled 256Hz.\n",
      "chb02_23.edf was import but not resampled 256Hz.\n",
      "chb02_24.edf was import but not resampled 256Hz.\n",
      "chb02_25.edf was import but not resampled 256Hz.\n",
      "chb02_26.edf was import but not resampled 256Hz.\n",
      "chb02_27.edf was import but not resampled 256Hz.\n",
      "chb02_28.edf was import but not resampled 256Hz.\n",
      "chb02_29.edf was import but not resampled 256Hz.\n",
      "chb02_30.edf was import but not resampled 256Hz.\n",
      "chb02_31.edf was import but not resampled 256Hz.\n",
      "chb02_32.edf was import but not resampled 256Hz.\n",
      "chb02_33.edf was import but not resampled 256Hz.\n",
      "chb02_34.edf was import but not resampled 256Hz.\n",
      "chb02_35.edf was import but not resampled 256Hz.\n"
     ]
    }
   ],
   "source": [
    "# import segmented data\n",
    "s_df = data_import.load_segmented_data(patient_ids=[1,2])"
   ]
  },
  {
   "cell_type": "code",
   "execution_count": 5,
   "metadata": {},
   "outputs": [
    {
     "name": "stdout",
     "output_type": "stream",
     "text": [
      "/home/weasel/reps/ai-seizure-detectives/source/../data/preprocess_seg.arrow was successfully written.\n"
     ]
    }
   ],
   "source": [
    "data_import.save_pyarrow(s_df, file_name=\"preprocess_seg\")"
   ]
  },
  {
   "cell_type": "code",
   "execution_count": 6,
   "metadata": {},
   "outputs": [
    {
     "name": "stdout",
     "output_type": "stream",
     "text": [
      "/home/weasel/reps/ai-seizure-detectives/source/../data/preprocess_seg.arrow was loaded.\n"
     ]
    }
   ],
   "source": [
    "# p_df = data_import.load_pyarrow(file_name=\"preprocess_test\")\n",
    "p_df = data_import.load_pyarrow(file_name=\"preprocess_seg\")"
   ]
  },
  {
   "cell_type": "code",
   "execution_count": 7,
   "metadata": {},
   "outputs": [
    {
     "data": {
      "text/html": [
       "<div>\n",
       "<style scoped>\n",
       "    .dataframe tbody tr th:only-of-type {\n",
       "        vertical-align: middle;\n",
       "    }\n",
       "\n",
       "    .dataframe tbody tr th {\n",
       "        vertical-align: top;\n",
       "    }\n",
       "\n",
       "    .dataframe thead th {\n",
       "        text-align: right;\n",
       "    }\n",
       "</style>\n",
       "<table border=\"1\" class=\"dataframe\">\n",
       "  <thead>\n",
       "    <tr style=\"text-align: right;\">\n",
       "      <th>channel</th>\n",
       "      <th>F4-C4</th>\n",
       "      <th>F3-C3</th>\n",
       "      <th>FT9-FT10</th>\n",
       "      <th>FZ-CZ</th>\n",
       "      <th>F7-T7</th>\n",
       "      <th>FP2-F4</th>\n",
       "      <th>T8-P8-1</th>\n",
       "      <th>T8-P8-0</th>\n",
       "      <th>FP1-F3</th>\n",
       "      <th>CZ-PZ</th>\n",
       "      <th>before_seizure</th>\n",
       "      <th>is_seizure</th>\n",
       "    </tr>\n",
       "  </thead>\n",
       "  <tbody>\n",
       "    <tr>\n",
       "      <th>0 days 00:30:00</th>\n",
       "      <td>16.878726</td>\n",
       "      <td>20.334213</td>\n",
       "      <td>-3.322584</td>\n",
       "      <td>17.941953</td>\n",
       "      <td>18.739373</td>\n",
       "      <td>33.092935</td>\n",
       "      <td>12.625819</td>\n",
       "      <td>12.625819</td>\n",
       "      <td>44.788430</td>\n",
       "      <td>2.790970</td>\n",
       "      <td>False</td>\n",
       "      <td>False</td>\n",
       "    </tr>\n",
       "    <tr>\n",
       "      <th>0 days 00:30:00.003906250</th>\n",
       "      <td>22.891349</td>\n",
       "      <td>24.865283</td>\n",
       "      <td>-8.175141</td>\n",
       "      <td>23.784967</td>\n",
       "      <td>26.448730</td>\n",
       "      <td>40.639022</td>\n",
       "      <td>11.874291</td>\n",
       "      <td>11.874291</td>\n",
       "      <td>59.506243</td>\n",
       "      <td>4.538652</td>\n",
       "      <td>False</td>\n",
       "      <td>False</td>\n",
       "    </tr>\n",
       "    <tr>\n",
       "      <th>0 days 00:30:00.007812500</th>\n",
       "      <td>22.162881</td>\n",
       "      <td>25.360125</td>\n",
       "      <td>-8.902114</td>\n",
       "      <td>25.615925</td>\n",
       "      <td>27.023819</td>\n",
       "      <td>40.074853</td>\n",
       "      <td>5.285063</td>\n",
       "      <td>5.285063</td>\n",
       "      <td>60.136641</td>\n",
       "      <td>5.292160</td>\n",
       "      <td>False</td>\n",
       "      <td>False</td>\n",
       "    </tr>\n",
       "    <tr>\n",
       "      <th>0 days 00:30:00.011718750</th>\n",
       "      <td>29.573426</td>\n",
       "      <td>33.953147</td>\n",
       "      <td>-14.930178</td>\n",
       "      <td>33.038895</td>\n",
       "      <td>32.700204</td>\n",
       "      <td>52.956037</td>\n",
       "      <td>8.308854</td>\n",
       "      <td>8.308854</td>\n",
       "      <td>79.842157</td>\n",
       "      <td>8.558853</td>\n",
       "      <td>False</td>\n",
       "      <td>False</td>\n",
       "    </tr>\n",
       "    <tr>\n",
       "      <th>0 days 00:30:00.015625</th>\n",
       "      <td>21.292400</td>\n",
       "      <td>18.163275</td>\n",
       "      <td>-11.955401</td>\n",
       "      <td>21.366748</td>\n",
       "      <td>20.938086</td>\n",
       "      <td>35.328903</td>\n",
       "      <td>-1.132117</td>\n",
       "      <td>-1.132117</td>\n",
       "      <td>60.607725</td>\n",
       "      <td>6.096930</td>\n",
       "      <td>False</td>\n",
       "      <td>False</td>\n",
       "    </tr>\n",
       "  </tbody>\n",
       "</table>\n",
       "</div>"
      ],
      "text/plain": [
       "channel                        F4-C4      F3-C3   FT9-FT10      FZ-CZ  \\\n",
       "0 days 00:30:00            16.878726  20.334213  -3.322584  17.941953   \n",
       "0 days 00:30:00.003906250  22.891349  24.865283  -8.175141  23.784967   \n",
       "0 days 00:30:00.007812500  22.162881  25.360125  -8.902114  25.615925   \n",
       "0 days 00:30:00.011718750  29.573426  33.953147 -14.930178  33.038895   \n",
       "0 days 00:30:00.015625     21.292400  18.163275 -11.955401  21.366748   \n",
       "\n",
       "channel                        F7-T7     FP2-F4    T8-P8-1    T8-P8-0  \\\n",
       "0 days 00:30:00            18.739373  33.092935  12.625819  12.625819   \n",
       "0 days 00:30:00.003906250  26.448730  40.639022  11.874291  11.874291   \n",
       "0 days 00:30:00.007812500  27.023819  40.074853   5.285063   5.285063   \n",
       "0 days 00:30:00.011718750  32.700204  52.956037   8.308854   8.308854   \n",
       "0 days 00:30:00.015625     20.938086  35.328903  -1.132117  -1.132117   \n",
       "\n",
       "channel                       FP1-F3     CZ-PZ  before_seizure  is_seizure  \n",
       "0 days 00:30:00            44.788430  2.790970           False       False  \n",
       "0 days 00:30:00.003906250  59.506243  4.538652           False       False  \n",
       "0 days 00:30:00.007812500  60.136641  5.292160           False       False  \n",
       "0 days 00:30:00.011718750  79.842157  8.558853           False       False  \n",
       "0 days 00:30:00.015625     60.607725  6.096930           False       False  "
      ]
     },
     "execution_count": 7,
     "metadata": {},
     "output_type": "execute_result"
    }
   ],
   "source": [
    "from source.filter_eeg_channels import filter_eeg_channels\n",
    "\n",
    "exclude_ranges=[[58, 62], [118, 122]]\n",
    "fit_df = filter_eeg_channels(p_df, CHANNELS, fs=256, exclude_ranges=exclude_ranges, Q=30)\n",
    "fit_df.head()"
   ]
  },
  {
   "cell_type": "code",
   "execution_count": 8,
   "metadata": {},
   "outputs": [],
   "source": [
    "### go through non-seizure data (before_seizure)\n",
    "# extract seizure-starts\n",
    "    # for each seizure start\n",
    "        # get previous 20 seconds\n",
    "        # check if is_seizure in it AND if all are before_seizure\n",
    "            # yes: drop and continue to next seizure start\n",
    "        # take 20 seconds:\n",
    "            # mean of amplitude over time per channel\n",
    "            # mean of power spectrum for frequency ranges per channel\n",
    "\n",
    "### go through seizure data (is_seizure)\n",
    "# take seizre-starts\n",
    "    # for each seizure start\n",
    "        # get next 20 seconds\n",
    "        # check if all are is_seizure\n",
    "            # no: drop and continue\n",
    "        # take 20 seconds:\n",
    "            # mean of amplitude over time per channel\n",
    "            # mean of power spectrum for frequency ranges per channel\n",
    "\n",
    "# out put: data resampled to 20sec with features"
   ]
  },
  {
   "cell_type": "code",
   "execution_count": 9,
   "metadata": {},
   "outputs": [
    {
     "name": "stdout",
     "output_type": "stream",
     "text": [
      "<class 'pandas.core.frame.DataFrame'>\n",
      "TimedeltaIndex: 5836800 entries, 0 days 00:30:00 to 0 days 00:34:59.996093750\n",
      "Data columns (total 12 columns):\n",
      " #   Column          Dtype  \n",
      "---  ------          -----  \n",
      " 0   F4-C4           float64\n",
      " 1   F3-C3           float64\n",
      " 2   FT9-FT10        float64\n",
      " 3   FZ-CZ           float64\n",
      " 4   F7-T7           float64\n",
      " 5   FP2-F4          float64\n",
      " 6   T8-P8-1         float64\n",
      " 7   T8-P8-0         float64\n",
      " 8   FP1-F3          float64\n",
      " 9   CZ-PZ           float64\n",
      " 10  before_seizure  bool   \n",
      " 11  is_seizure      bool   \n",
      "dtypes: bool(2), float64(10)\n",
      "memory usage: 501.0 MB\n"
     ]
    }
   ],
   "source": [
    "fit_df.info()"
   ]
  },
  {
   "cell_type": "code",
   "execution_count": 10,
   "metadata": {},
   "outputs": [
    {
     "data": {
      "text/plain": [
       "0 days 00:49:55    True\n",
       "0 days 00:24:26    True\n",
       "0 days 00:28:51    True\n",
       "0 days 00:16:54    True\n",
       "0 days 00:28:39    True\n",
       "0 days 00:05:26    True\n",
       "0 days 00:31:01    True\n",
       "0 days 00:49:31    True\n",
       "Name: seizure_start, dtype: bool"
      ]
     },
     "execution_count": 10,
     "metadata": {},
     "output_type": "execute_result"
    }
   ],
   "source": [
    "fit_df['seizure_start'] = fit_df['is_seizure'] & ~fit_df['is_seizure'].shift(fill_value=False)\n",
    "fit_df.loc[fit_df['seizure_start'] == True, 'seizure_start']"
   ]
  },
  {
   "cell_type": "code",
   "execution_count": 11,
   "metadata": {},
   "outputs": [
    {
     "data": {
      "text/plain": [
       "0 days 00:34:59.980468750    8\n",
       "0 days 00:34:59.984375       8\n",
       "0 days 00:34:59.988281250    8\n",
       "0 days 00:34:59.992187500    8\n",
       "0 days 00:34:59.996093750    8\n",
       "Name: seizure_id, dtype: int64"
      ]
     },
     "execution_count": 11,
     "metadata": {},
     "output_type": "execute_result"
    }
   ],
   "source": [
    "fit_df['seizure_id'] = fit_df['seizure_start'].cumsum()\n",
    "fit_df['seizure_id'].tail()"
   ]
  },
  {
   "cell_type": "code",
   "execution_count": 12,
   "metadata": {},
   "outputs": [
    {
     "data": {
      "text/plain": [
       "TimedeltaIndex([          '0 days 00:30:00', '0 days 00:30:00.003906250',\n",
       "                '0 days 00:30:00.007812500', '0 days 00:30:00.011718750',\n",
       "                   '0 days 00:30:00.015625', '0 days 00:30:00.019531250',\n",
       "                '0 days 00:30:00.023437500', '0 days 00:30:00.027343750',\n",
       "                   '0 days 00:30:00.031250', '0 days 00:30:00.035156250',\n",
       "                ...\n",
       "                '0 days 00:34:59.960937500', '0 days 00:34:59.964843750',\n",
       "                   '0 days 00:34:59.968750', '0 days 00:34:59.972656250',\n",
       "                '0 days 00:34:59.976562500', '0 days 00:34:59.980468750',\n",
       "                   '0 days 00:34:59.984375', '0 days 00:34:59.988281250',\n",
       "                '0 days 00:34:59.992187500', '0 days 00:34:59.996093750'],\n",
       "               dtype='timedelta64[ns]', length=5836800, freq=None)"
      ]
     },
     "execution_count": 12,
     "metadata": {},
     "output_type": "execute_result"
    }
   ],
   "source": [
    "fit_df.index"
   ]
  },
  {
   "cell_type": "code",
   "execution_count": 14,
   "metadata": {},
   "outputs": [
    {
     "data": {
      "text/plain": [
       "(1884222, 15)"
      ]
     },
     "execution_count": 14,
     "metadata": {},
     "output_type": "execute_result"
    }
   ],
   "source": [
    "merged_df = pd.concat(objs=[b4seizure_df, post_seizure_df])\n",
    "merged_df.shape"
   ]
  },
  {
   "cell_type": "code",
   "execution_count": 15,
   "metadata": {},
   "outputs": [
    {
     "name": "stdout",
     "output_type": "stream",
     "text": [
      "/home/weasel/reps/ai-seizure-detectives/source/../data/preprocessed_seg.arrow was successfully written.\n"
     ]
    }
   ],
   "source": [
    "data_import.save_pyarrow(fit_df, file_name=\"preprocessed_seg\")"
   ]
  }
 ],
 "metadata": {
  "kernelspec": {
   "display_name": ".venv",
   "language": "python",
   "name": "python3"
  },
  "language_info": {
   "codemirror_mode": {
    "name": "ipython",
    "version": 3
   },
   "file_extension": ".py",
   "mimetype": "text/x-python",
   "name": "python",
   "nbconvert_exporter": "python",
   "pygments_lexer": "ipython3",
   "version": "3.11.3"
  }
 },
 "nbformat": 4,
 "nbformat_minor": 2
}
