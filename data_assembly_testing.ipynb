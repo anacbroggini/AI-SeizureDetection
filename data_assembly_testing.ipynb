{
 "cells": [
  {
   "cell_type": "code",
   "execution_count": 17,
   "metadata": {},
   "outputs": [],
   "source": [
    "from source import data_import\n",
    "import modin.pandas as pd\n",
    "import pyarrow as pa"
   ]
  },
  {
   "cell_type": "code",
   "execution_count": 18,
   "metadata": {},
   "outputs": [
    {
     "name": "stdout",
     "output_type": "stream",
     "text": [
      "chb01_01.edf was imported and resampled.\n",
      "chb01_02.edf was imported and resampled.\n",
      "chb01_03.edf was imported and resampled.\n",
      "chb01_03.edf seizure was labeled\n",
      "chb01_04.edf was imported and resampled.\n",
      "chb01_04.edf seizure was labeled\n",
      "chb01_05.edf was imported and resampled.\n",
      "chb01_06.edf was imported and resampled.\n",
      "chb01_07.edf was imported and resampled.\n",
      "chb01_08.edf was imported and resampled.\n",
      "chb01_09.edf was imported and resampled.\n",
      "chb01_10.edf was imported and resampled.\n",
      "chb01_11.edf was imported and resampled.\n",
      "chb01_12.edf was imported and resampled.\n",
      "chb01_13.edf was imported and resampled.\n",
      "chb01_14.edf was imported and resampled.\n",
      "chb01_15.edf was imported and resampled.\n",
      "chb01_15.edf seizure was labeled\n",
      "chb01_16.edf was imported and resampled.\n",
      "chb01_16.edf seizure was labeled\n",
      "chb01_17.edf was imported and resampled.\n",
      "chb01_18.edf was imported and resampled.\n",
      "chb01_18.edf seizure was labeled\n",
      "chb01_19.edf was imported and resampled.\n",
      "chb01_20.edf was imported and resampled.\n",
      "chb01_21.edf was imported and resampled.\n",
      "chb01_21.edf seizure was labeled\n",
      "chb01_22.edf was imported and resampled.\n",
      "chb01_23.edf was imported and resampled.\n",
      "chb01_24.edf was imported and resampled.\n",
      "chb01_25.edf was imported and resampled.\n",
      "chb01_26.edf was imported and resampled.\n",
      "chb01_26.edf seizure was labeled\n",
      "chb01_27.edf was imported and resampled.\n",
      "chb01_29.edf was imported and resampled.\n",
      "chb01_30.edf was imported and resampled.\n",
      "chb01_31.edf was imported and resampled.\n",
      "chb01_32.edf was imported and resampled.\n",
      "chb01_33.edf was imported and resampled.\n",
      "chb01_34.edf was imported and resampled.\n",
      "chb01_36.edf was imported and resampled.\n",
      "chb01_37.edf was imported and resampled.\n",
      "chb01_38.edf was imported and resampled.\n",
      "chb01_39.edf was imported and resampled.\n",
      "chb01_40.edf was imported and resampled.\n",
      "chb01_41.edf was imported and resampled.\n",
      "chb01_42.edf was imported and resampled.\n",
      "chb01_43.edf was imported and resampled.\n",
      "chb01_46.edf was imported and resampled.\n",
      "patient chb01 sessions concatenated.\n",
      "chb02_01.edf was imported and resampled.\n",
      "chb02_02.edf was imported and resampled.\n",
      "chb02_03.edf was imported and resampled.\n",
      "chb02_04.edf was imported and resampled.\n",
      "chb02_05.edf was imported and resampled.\n",
      "chb02_06.edf was imported and resampled.\n",
      "chb02_07.edf was imported and resampled.\n",
      "chb02_08.edf was imported and resampled.\n",
      "chb02_09.edf was imported and resampled.\n",
      "chb02_10.edf was imported and resampled.\n",
      "chb02_11.edf was imported and resampled.\n",
      "chb02_12.edf was imported and resampled.\n",
      "chb02_13.edf was imported and resampled.\n",
      "chb02_14.edf was imported and resampled.\n",
      "chb02_15.edf was imported and resampled.\n",
      "chb02_16+.edf was imported and resampled.\n",
      "chb02_16.edf was imported and resampled.\n",
      "chb02_17.edf was imported and resampled.\n",
      "chb02_18.edf was imported and resampled.\n",
      "chb02_19.edf was imported and resampled.\n",
      "chb02_20.edf was imported and resampled.\n",
      "chb02_21.edf was imported and resampled.\n",
      "chb02_22.edf was imported and resampled.\n",
      "chb02_23.edf was imported and resampled.\n",
      "chb02_24.edf was imported and resampled.\n",
      "chb02_25.edf was imported and resampled.\n",
      "chb02_26.edf was imported and resampled.\n",
      "chb02_27.edf was imported and resampled.\n",
      "chb02_28.edf was imported and resampled.\n",
      "chb02_29.edf was imported and resampled.\n",
      "chb02_30.edf was imported and resampled.\n",
      "chb02_31.edf was imported and resampled.\n",
      "chb02_32.edf was imported and resampled.\n",
      "chb02_33.edf was imported and resampled.\n",
      "chb02_34.edf was imported and resampled.\n",
      "chb02_35.edf was imported and resampled.\n",
      "patient chb02 sessions concatenated.\n",
      "chb03_01.edf was imported and resampled.\n",
      "chb03_02.edf was imported and resampled.\n",
      "chb03_03.edf was imported and resampled.\n",
      "chb03_04.edf was imported and resampled.\n",
      "chb03_05.edf was imported and resampled.\n",
      "chb03_06.edf was imported and resampled.\n",
      "chb03_07.edf was imported and resampled.\n",
      "chb03_08.edf was imported and resampled.\n",
      "chb03_09.edf was imported and resampled.\n",
      "chb03_10.edf was imported and resampled.\n",
      "chb03_11.edf was imported and resampled.\n",
      "chb03_12.edf was imported and resampled.\n",
      "chb03_13.edf was imported and resampled.\n",
      "chb03_14.edf was imported and resampled.\n",
      "chb03_15.edf was imported and resampled.\n",
      "chb03_16.edf was imported and resampled.\n",
      "chb03_17.edf was imported and resampled.\n",
      "chb03_18.edf was imported and resampled.\n",
      "chb03_19.edf was imported and resampled.\n",
      "chb03_20.edf was imported and resampled.\n",
      "chb03_21.edf was imported and resampled.\n",
      "chb03_22.edf was imported and resampled.\n",
      "chb03_23.edf was imported and resampled.\n",
      "chb03_24.edf was imported and resampled.\n",
      "chb03_25.edf was imported and resampled.\n",
      "chb03_26.edf was imported and resampled.\n",
      "chb03_27.edf was imported and resampled.\n",
      "chb03_28.edf was imported and resampled.\n",
      "chb03_29.edf was imported and resampled.\n",
      "chb03_30.edf was imported and resampled.\n",
      "chb03_31.edf was imported and resampled.\n",
      "chb03_32.edf was imported and resampled.\n",
      "chb03_33.edf was imported and resampled.\n",
      "chb03_34.edf was imported and resampled.\n",
      "chb03_35.edf was imported and resampled.\n",
      "chb03_36.edf was imported and resampled.\n",
      "chb03_37.edf was imported and resampled.\n",
      "chb03_38.edf was imported and resampled.\n",
      "patient chb03 sessions concatenated.\n",
      "chb04_01.edf was imported and resampled.\n",
      "chb04_02.edf was imported and resampled.\n",
      "chb04_03.edf was imported and resampled.\n",
      "chb04_04.edf was imported and resampled.\n",
      "chb04_05.edf was imported and resampled.\n",
      "chb04_06.edf was imported and resampled.\n",
      "chb04_07.edf was imported and resampled.\n",
      "chb04_08.edf was imported and resampled.\n",
      "chb04_09.edf was imported and resampled.\n",
      "chb04_10.edf was imported and resampled.\n",
      "chb04_11.edf was imported and resampled.\n",
      "chb04_12.edf was imported and resampled.\n",
      "chb04_13.edf was imported and resampled.\n",
      "chb04_14.edf was imported and resampled.\n",
      "chb04_15.edf was imported and resampled.\n",
      "chb04_16.edf was imported and resampled.\n",
      "chb04_17.edf was imported and resampled.\n",
      "chb04_18.edf was imported and resampled.\n",
      "chb04_19.edf was imported and resampled.\n",
      "chb04_21.edf was imported and resampled.\n",
      "chb04_22.edf was imported and resampled.\n",
      "chb04_23.edf was imported and resampled.\n",
      "chb04_24.edf was imported and resampled.\n",
      "chb04_25.edf was imported and resampled.\n",
      "chb04_26.edf was imported and resampled.\n",
      "chb04_27.edf was imported and resampled.\n",
      "chb04_28.edf was imported and resampled.\n",
      "chb04_29.edf was imported and resampled.\n",
      "chb04_30.edf was imported and resampled.\n",
      "chb04_31.edf was imported and resampled.\n",
      "chb04_32.edf was imported and resampled.\n",
      "chb04_33.edf was imported and resampled.\n",
      "chb04_34.edf was imported and resampled.\n",
      "chb04_35.edf was imported and resampled.\n",
      "chb04_36.edf was imported and resampled.\n",
      "chb04_37.edf was imported and resampled.\n",
      "chb04_38.edf was imported and resampled.\n",
      "chb04_39.edf was imported and resampled.\n",
      "chb04_40.edf was imported and resampled.\n",
      "chb04_41.edf was imported and resampled.\n",
      "chb04_42.edf was imported and resampled.\n",
      "chb04_43.edf was imported and resampled.\n"
     ]
    },
    {
     "ename": "",
     "evalue": "",
     "output_type": "error",
     "traceback": [
      "\u001b[1;31mCannot execute code, session has been disposed. Please try restarting the Kernel."
     ]
    },
    {
     "ename": "",
     "evalue": "",
     "output_type": "error",
     "traceback": [
      "\u001b[1;31mThe Kernel crashed while executing code in the the current cell or a previous cell. Please review the code in the cell(s) to identify a possible cause of the failure. Click <a href='https://aka.ms/vscodeJupyterKernelCrash'>here</a> for more info. View Jupyter <a href='command:jupyter.viewOutput'>log</a> for further details."
     ]
    }
   ],
   "source": [
    "# save default single patient to disc\n",
    "data_import.save_pyarrow_eeg_single()\n",
    "\n",
    "#\n",
    "\n",
    "patient_df = data_import.import_patients(patient_ids=[1,2,3,4], target_freq=128)\n",
    "patient_df.head()"
   ]
  },
  {
   "cell_type": "code",
   "execution_count": null,
   "metadata": {},
   "outputs": [],
   "source": [
    "# load single patient via memory mapping\n",
    "df = data_import.load_eeg_single_mem()\n",
    "df.shape"
   ]
  },
  {
   "cell_type": "code",
   "execution_count": null,
   "metadata": {},
   "outputs": [],
   "source": [
    "df.mean()"
   ]
  },
  {
   "cell_type": "code",
   "execution_count": 10,
   "metadata": {},
   "outputs": [
    {
     "name": "stdout",
     "output_type": "stream",
     "text": [
      "/home/weasel/reps/ai-seizure-detectives/source/../data/eeg_large.arrow was loaded.\n"
     ]
    }
   ],
   "source": [
    "# try this with a larger dataset\n",
    "data_import.save_pyarrow_eeg_large(patient_ids=[1,2,3,12])\n",
    "df = data_import.load_eeg_large_mem()\n",
    "df.shape"
   ]
  },
  {
   "cell_type": "code",
   "execution_count": 15,
   "metadata": {},
   "outputs": [
    {
     "data": {
      "text/plain": [
       "channel\n",
       "FP1-F7        0.211053\n",
       "F7-T7         0.223634\n",
       "T7-P7         0.146917\n",
       "P7-O1         0.197380\n",
       "FP1-F3        0.211108\n",
       "F3-C3         0.189135\n",
       "C3-P3         0.189155\n",
       "P3-O1         0.191907\n",
       "FP2-F4        0.218078\n",
       "F4-C4         0.186815\n",
       "C4-P4         0.186980\n",
       "P4-O2         0.196692\n",
       "FP2-F8        0.210387\n",
       "F8-T8         0.224631\n",
       "T8-P8-0       0.153614\n",
       "P8-O2         0.179424\n",
       "FZ-CZ         0.212834\n",
       "CZ-PZ         0.190577\n",
       "P7-T7         0.243804\n",
       "T7-FT9        0.160734\n",
       "FT9-FT10      0.196162\n",
       "FT10-T8       0.220769\n",
       "T8-P8-1       0.153614\n",
       "is_seizure    0.000000\n",
       "ECG           0.188060\n",
       "dtype: double[pyarrow]"
      ]
     },
     "execution_count": 15,
     "metadata": {},
     "output_type": "execute_result"
    }
   ],
   "source": [
    "df.mean()"
   ]
  },
  {
   "cell_type": "code",
   "execution_count": 16,
   "metadata": {},
   "outputs": [
    {
     "name": "stdout",
     "output_type": "stream",
     "text": [
      "procs -----------memory---------- ---swap-- -----io---- -system-- ------cpu-----\n",
      " r  b   swpd   free   buff  cache   si   so    bi    bo   in   cs us sy id wa st\n",
      " 1  1 1708028 18776208   9940 11116624   19  109   294   427  118  386  4  1 95  0  0\n"
     ]
    }
   ],
   "source": [
    "!vmstat"
   ]
  },
  {
   "cell_type": "code",
   "execution_count": 12,
   "metadata": {},
   "outputs": [
    {
     "name": "stdout",
     "output_type": "stream",
     "text": [
      "<class 'pandas.core.frame.DataFrame'>\n",
      "TimedeltaIndex: 26224192 entries, 0 days 00:00:00 to 4 days 17:49:12.984375\n",
      "Freq: 15625000N\n",
      "Data columns (total 24 columns):\n",
      " #   Column      Dtype  \n",
      "---  ------      -----  \n",
      " 0   FP1-F7      float64\n",
      " 1   F7-T7       float64\n",
      " 2   T7-P7       float64\n",
      " 3   P7-O1       float64\n",
      " 4   FP1-F3      float64\n",
      " 5   F3-C3       float64\n",
      " 6   C3-P3       float64\n",
      " 7   P3-O1       float64\n",
      " 8   FP2-F4      float64\n",
      " 9   F4-C4       float64\n",
      " 10  C4-P4       float64\n",
      " 11  P4-O2       float64\n",
      " 12  FP2-F8      float64\n",
      " 13  F8-T8       float64\n",
      " 14  T8-P8-0     float64\n",
      " 15  P8-O2       float64\n",
      " 16  FZ-CZ       float64\n",
      " 17  CZ-PZ       float64\n",
      " 18  P7-T7       float64\n",
      " 19  T7-FT9      float64\n",
      " 20  FT9-FT10    float64\n",
      " 21  FT10-T8     float64\n",
      " 22  T8-P8-1     float64\n",
      " 23  is_seizure  int64  \n",
      "dtypes: float64(23), int64(1)\n",
      "memory usage: 4.9 GB\n"
     ]
    }
   ],
   "source": [
    "\n",
    "patient_df.info()"
   ]
  },
  {
   "cell_type": "code",
   "execution_count": 17,
   "metadata": {},
   "outputs": [
    {
     "name": "stdout",
     "output_type": "stream",
     "text": [
      "<class 'pandas.core.frame.DataFrame'>\n",
      "Index: 26224192 entries, 0 days 00:00:00 to 4 days 17:49:12.984375\n",
      "Data columns (total 24 columns):\n",
      " #   Column      Dtype          \n",
      "---  ------      -----          \n",
      " 0   FP1-F7      double[pyarrow]\n",
      " 1   F7-T7       double[pyarrow]\n",
      " 2   T7-P7       double[pyarrow]\n",
      " 3   P7-O1       double[pyarrow]\n",
      " 4   FP1-F3      double[pyarrow]\n",
      " 5   F3-C3       double[pyarrow]\n",
      " 6   C3-P3       double[pyarrow]\n",
      " 7   P3-O1       double[pyarrow]\n",
      " 8   FP2-F4      double[pyarrow]\n",
      " 9   F4-C4       double[pyarrow]\n",
      " 10  C4-P4       double[pyarrow]\n",
      " 11  P4-O2       double[pyarrow]\n",
      " 12  FP2-F8      double[pyarrow]\n",
      " 13  F8-T8       double[pyarrow]\n",
      " 14  T8-P8-0     double[pyarrow]\n",
      " 15  P8-O2       double[pyarrow]\n",
      " 16  FZ-CZ       double[pyarrow]\n",
      " 17  CZ-PZ       double[pyarrow]\n",
      " 18  P7-T7       double[pyarrow]\n",
      " 19  T7-FT9      double[pyarrow]\n",
      " 20  FT9-FT10    double[pyarrow]\n",
      " 21  FT10-T8     double[pyarrow]\n",
      " 22  T8-P8-1     double[pyarrow]\n",
      " 23  is_seizure  int64[pyarrow] \n",
      "dtypes: double[pyarrow](23), int64[pyarrow](1)\n",
      "memory usage: 4.9 GB\n"
     ]
    }
   ],
   "source": [
    "pa_table = pa.Table.from_pandas(arrow_patient_df, preserve_index=True)\n",
    "pa_df = pa_table.to_pandas(types_mapper=pd.ArrowDtype)\n",
    "pa_df.info()\n"
   ]
  },
  {
   "cell_type": "code",
   "execution_count": 15,
   "metadata": {},
   "outputs": [
    {
     "name": "stderr",
     "output_type": "stream",
     "text": [
      "\u001b[2m\u001b[33m(raylet)\u001b[0m [2023-10-29 02:21:50,169 E 18821 18821] (raylet) node_manager.cc:3007: 1 Workers (tasks / actors) killed due to memory pressure (OOM), 0 Workers crashed due to other reasons at node (ID: 9711dedd9a16392a7e57fda42ab48669ecfcc1d6e3b0ae22bfd38b69, IP: 192.168.20.196) over the last time period. To see more information about the Workers killed on this node, use `ray logs raylet.out -ip 192.168.20.196`\n",
      "\u001b[2m\u001b[33m(raylet)\u001b[0m \n",
      "\u001b[2m\u001b[33m(raylet)\u001b[0m Refer to the documentation on how to address the out of memory issue: https://docs.ray.io/en/latest/ray-core/scheduling/ray-oom-prevention.html. Consider provisioning more memory on this node or reducing task parallelism by requesting more CPUs per task. To adjust the kill threshold, set the environment variable `RAY_memory_usage_threshold` when starting Ray. To disable worker killing, set the environment variable `RAY_memory_monitor_refresh_ms` to zero.\n",
      "\u001b[2m\u001b[36m(raylet)\u001b[0m Spilled 33124 MiB, 2454 objects, write throughput 1904 MiB/s.\n"
     ]
    }
   ],
   "source": [
    "import pyarrow as pa\n",
    "pa_table = pa.Table.from_pandas(patient_df, preserve_index=True)\n",
    "pa_df = pa_table.to_pandas(types_mapper=pd.ArrowDtype)\n",
    "pa_df.info()\n",
    "# will crash with modin"
   ]
  },
  {
   "cell_type": "code",
   "execution_count": 5,
   "metadata": {},
   "outputs": [
    {
     "name": "stdout",
     "output_type": "stream",
     "text": [
      "<class 'modin.pandas.dataframe.DataFrame'>\n",
      "TimedeltaIndex: 18686464 entries, 0 days 00:00:00 to 1 days 16:33:07.992187500\n",
      "Freq: 7812500N\n",
      "Data columns (total 23 columns):\n",
      " #   Column    Dtype  \n",
      "---  ------    -----  \n",
      " 0   FP1-F7    float64\n",
      " 1   F7-T7     float64\n",
      " 2   T7-P7     float64\n",
      " 3   P7-O1     float64\n",
      " 4   FP1-F3    float64\n",
      " 5   F3-C3     float64\n",
      " 6   C3-P3     float64\n",
      " 7   P3-O1     float64\n",
      " 8   FP2-F4    float64\n",
      " 9   F4-C4     float64\n",
      " 10  C4-P4     float64\n",
      " 11  P4-O2     float64\n",
      " 12  FP2-F8    float64\n",
      " 13  F8-T8     float64\n",
      " 14  T8-P8-0   float64\n",
      " 15  P8-O2     float64\n",
      " 16  FZ-CZ     float64\n",
      " 17  CZ-PZ     float64\n",
      " 18  P7-T7     float64\n",
      " 19  T7-FT9    float64\n",
      " 20  FT9-FT10  float64\n",
      " 21  FT10-T8   float64\n",
      " 22  T8-P8-1   float64\n",
      "dtypes: float64(23)\n",
      "memory usage: 3.3 GB\n"
     ]
    }
   ],
   "source": [
    "patient_df.info()"
   ]
  },
  {
   "cell_type": "code",
   "execution_count": 3,
   "metadata": {},
   "outputs": [
    {
     "name": "stdout",
     "output_type": "stream",
     "text": [
      "<class 'modin.pandas.dataframe.DataFrame'>\n",
      "TimedeltaIndex: 18686464 entries, 0 days 00:00:00 to 1 days 16:33:07.992187500\n",
      "Freq: 7812500N\n",
      "Data columns (total 24 columns):\n",
      " #   Column      Dtype          \n",
      "---  ------      -----          \n",
      " 0   FP1-F7      double[pyarrow]\n",
      " 1   F7-T7       double[pyarrow]\n",
      " 2   T7-P7       double[pyarrow]\n",
      " 3   P7-O1       double[pyarrow]\n",
      " 4   FP1-F3      double[pyarrow]\n",
      " 5   F3-C3       double[pyarrow]\n",
      " 6   C3-P3       double[pyarrow]\n",
      " 7   P3-O1       double[pyarrow]\n",
      " 8   FP2-F4      double[pyarrow]\n",
      " 9   F4-C4       double[pyarrow]\n",
      " 10  C4-P4       double[pyarrow]\n",
      " 11  P4-O2       double[pyarrow]\n",
      " 12  FP2-F8      double[pyarrow]\n",
      " 13  F8-T8       double[pyarrow]\n",
      " 14  T8-P8-0     double[pyarrow]\n",
      " 15  P8-O2       double[pyarrow]\n",
      " 16  FZ-CZ       double[pyarrow]\n",
      " 17  CZ-PZ       double[pyarrow]\n",
      " 18  P7-T7       double[pyarrow]\n",
      " 19  T7-FT9      double[pyarrow]\n",
      " 20  FT9-FT10    double[pyarrow]\n",
      " 21  FT10-T8     double[pyarrow]\n",
      " 22  T8-P8-1     double[pyarrow]\n",
      " 23  is_seizure  double[pyarrow]\n",
      "dtypes: double[pyarrow](24)\n",
      "memory usage: 3.5 GB\n"
     ]
    }
   ],
   "source": [
    "import pyarrow as pa\n",
    "p = patient_df.copy().astype(pd.ArrowDtype(pa.float64()))\n",
    "p.info()"
   ]
  },
  {
   "cell_type": "code",
   "execution_count": 24,
   "metadata": {},
   "outputs": [
    {
     "name": "stdout",
     "output_type": "stream",
     "text": [
      "180 ms ± 11.2 ms per loop (mean ± std. dev. of 7 runs, 1 loop each)\n",
      "1 s ± 13.9 ms per loop (mean ± std. dev. of 7 runs, 1 loop each)\n"
     ]
    }
   ],
   "source": [
    "import modin.pandas as pd\n",
    "%timeit p.mean()\n",
    "%timeit patient_df.mean()"
   ]
  },
  {
   "cell_type": "code",
   "execution_count": 6,
   "metadata": {},
   "outputs": [
    {
     "name": "stderr",
     "output_type": "stream",
     "text": [
      "\u001b[2m\u001b[36m(raylet)\u001b[0m Spilled 10700 MiB, 1452 objects, write throughput 3683 MiB/s.\n"
     ]
    },
    {
     "name": "stdout",
     "output_type": "stream",
     "text": [
      "20.1 ms ± 1.08 ms per loop (mean ± std. dev. of 7 runs, 10 loops each)\n",
      "28.9 ms ± 1.65 ms per loop (mean ± std. dev. of 7 runs, 10 loops each)\n"
     ]
    }
   ],
   "source": [
    "import modin.pandas as pd\n",
    "%timeit p.mean()            # 20 ms\n",
    "%timeit patient_df.mean() # 30ms"
   ]
  },
  {
   "cell_type": "code",
   "execution_count": 6,
   "metadata": {},
   "outputs": [
    {
     "name": "stdout",
     "output_type": "stream",
     "text": [
      "23.8 ms ± 1.9 ms per loop (mean ± std. dev. of 7 runs, 100 loops each)\n",
      "11.9 ms ± 5.64 ms per loop (mean ± std. dev. of 7 runs, 100 loops each)\n"
     ]
    },
    {
     "name": "stderr",
     "output_type": "stream",
     "text": [
      "\u001b[2m\u001b[33m(raylet)\u001b[0m [2023-10-29 02:34:05,819 E 187199 187199] (raylet) node_manager.cc:3007: 27 Workers (tasks / actors) killed due to memory pressure (OOM), 0 Workers crashed due to other reasons at node (ID: c99c6d0268c97ba3a7a39c70f2dbfec796935085e8155cf649b88d50, IP: 192.168.20.196) over the last time period. To see more information about the Workers killed on this node, use `ray logs raylet.out -ip 192.168.20.196`\n",
      "\u001b[2m\u001b[33m(raylet)\u001b[0m \n",
      "\u001b[2m\u001b[33m(raylet)\u001b[0m Refer to the documentation on how to address the out of memory issue: https://docs.ray.io/en/latest/ray-core/scheduling/ray-oom-prevention.html. Consider provisioning more memory on this node or reducing task parallelism by requesting more CPUs per task. To adjust the kill threshold, set the environment variable `RAY_memory_usage_threshold` when starting Ray. To disable worker killing, set the environment variable `RAY_memory_monitor_refresh_ms` to zero.\n"
     ]
    },
    {
     "name": "stdout",
     "output_type": "stream",
     "text": [
      "954 ms ± 28.3 ms per loop (mean ± std. dev. of 7 runs, 1 loop each)\n",
      "374 ms ± 120 ms per loop (mean ± std. dev. of 7 runs, 1 loop each)\n"
     ]
    },
    {
     "name": "stdout",
     "output_type": "stream",
     "text": [
      "\u001b[2m\u001b[1m\u001b[36m(autoscaler +1m6s)\u001b[0m Tip: use `ray status` to view detailed cluster status. To disable these messages, set RAY_SCHEDULER_EVENTS=0.\n",
      "\u001b[2m\u001b[1m\u001b[33m(autoscaler +1m6s)\u001b[0m Warning: The following resource request cannot be scheduled right now: {'CPU': 1.0}. This is likely due to all cluster resources being claimed by actors. Consider creating fewer actors or adding more nodes to this Ray cluster.\n",
      "\u001b[2m\u001b[1m\u001b[33m(autoscaler +1m42s)\u001b[0m Warning: The following resource request cannot be scheduled right now: {'CPU': 1.0}. This is likely due to all cluster resources being claimed by actors. Consider creating fewer actors or adding more nodes to this Ray cluster.\n"
     ]
    },
    {
     "name": "stderr",
     "output_type": "stream",
     "text": [
      "\u001b[2m\u001b[33m(raylet)\u001b[0m [2023-10-29 02:35:05,825 E 187199 187199] (raylet) node_manager.cc:3007: 16 Workers (tasks / actors) killed due to memory pressure (OOM), 0 Workers crashed due to other reasons at node (ID: c99c6d0268c97ba3a7a39c70f2dbfec796935085e8155cf649b88d50, IP: 192.168.20.196) over the last time period. To see more information about the Workers killed on this node, use `ray logs raylet.out -ip 192.168.20.196`\n",
      "\u001b[2m\u001b[33m(raylet)\u001b[0m \n",
      "\u001b[2m\u001b[33m(raylet)\u001b[0m Refer to the documentation on how to address the out of memory issue: https://docs.ray.io/en/latest/ray-core/scheduling/ray-oom-prevention.html. Consider provisioning more memory on this node or reducing task parallelism by requesting more CPUs per task. To adjust the kill threshold, set the environment variable `RAY_memory_usage_threshold` when starting Ray. To disable worker killing, set the environment variable `RAY_memory_monitor_refresh_ms` to zero.\n",
      "2023-10-30 09:44:12,530\tWARNING worker.py:2058 -- Raylet is terminated. Termination is unexpected. Possible reasons include: (1) SIGKILL by the user or system OOM killer, (2) Invalid memory access from Raylet causing SIGSEGV or SIGBUS, (3) Other termination signals. Last 20 lines of the Raylet logs:\n",
      "    [2023-10-30 09:44:10,462 I 187199 187199] (raylet) local_resource_manager.cc:267: Object store memory is not idle.\n",
      "    [2023-10-30 09:44:10,562 I 187199 187199] (raylet) local_resource_manager.cc:267: Object store memory is not idle.\n",
      "    [2023-10-30 09:44:10,663 I 187199 187199] (raylet) local_resource_manager.cc:267: Object store memory is not idle.\n",
      "    [2023-10-30 09:44:10,765 I 187199 187199] (raylet) local_resource_manager.cc:267: Object store memory is not idle.\n",
      "    [2023-10-30 09:44:10,866 I 187199 187199] (raylet) local_resource_manager.cc:267: Object store memory is not idle.\n",
      "    [2023-10-30 09:44:10,866 I 187199 187199] (raylet) node_manager.cc:653: Sending Python GC request to 37 local workers to clean up Python cyclic references.\n",
      "    [2023-10-30 09:44:11,166 I 187199 187199] (raylet) local_resource_manager.cc:267: Object store memory is not idle.\n",
      "    [2023-10-30 09:44:11,267 I 187199 187199] (raylet) local_resource_manager.cc:267: Object store memory is not idle.\n",
      "    [2023-10-30 09:44:11,367 I 187199 187199] (raylet) local_resource_manager.cc:267: Object store memory is not idle.\n",
      "    [2023-10-30 09:44:11,468 I 187199 187199] (raylet) local_resource_manager.cc:267: Object store memory is not idle.\n",
      "    [2023-10-30 09:44:11,568 I 187199 187199] (raylet) local_resource_manager.cc:267: Object store memory is not idle.\n",
      "    [2023-10-30 09:44:11,669 I 187199 187199] (raylet) local_resource_manager.cc:267: Object store memory is not idle.\n",
      "    [2023-10-30 09:44:11,770 I 187199 187199] (raylet) local_resource_manager.cc:267: Object store memory is not idle.\n",
      "    [2023-10-30 09:44:11,870 I 187199 187199] (raylet) local_resource_manager.cc:267: Object store memory is not idle.\n",
      "    [2023-10-30 09:44:11,970 I 187199 187199] (raylet) local_resource_manager.cc:267: Object store memory is not idle.\n",
      "    [2023-10-30 09:44:12,071 I 187199 187199] (raylet) local_resource_manager.cc:267: Object store memory is not idle.\n",
      "    [2023-10-30 09:44:12,173 I 187199 187199] (raylet) local_resource_manager.cc:267: Object store memory is not idle.\n",
      "    [2023-10-30 09:44:12,275 I 187199 187199] (raylet) local_resource_manager.cc:267: Object store memory is not idle.\n",
      "    [2023-10-30 09:44:12,375 I 187199 187199] (raylet) local_resource_manager.cc:267: Object store memory is not idle.\n",
      "    [2023-10-30 09:44:12,475 I 187199 187199] (raylet) local_resource_manager.cc:267: Object store memory is not idle.\n",
      "\n",
      "\u001b[2m\u001b[33m(raylet)\u001b[0m [2023-10-30 09:44:14,150 E 187199 187265] (raylet) agent_manager.cc:70: The raylet exited immediately because one Ray agent failed, agent_name = dashboard_agent/424238335.\n",
      "\u001b[2m\u001b[33m(raylet)\u001b[0m The raylet fate shares with the agent. This can happen because\n",
      "\u001b[2m\u001b[33m(raylet)\u001b[0m - The version of `grpcio` doesn't follow Ray's requirement. Agent can segfault with the incorrect `grpcio` version. Check the grpcio version `pip freeze | grep grpcio`.\n",
      "\u001b[2m\u001b[33m(raylet)\u001b[0m - The agent failed to start because of unexpected error or port conflict. Read the log `cat /tmp/ray/session_latest/logs/{dashboard_agent|runtime_env_agent}.log`. You can find the log file structure here https://docs.ray.io/en/master/ray-observability/ray-logging.html#logging-directory-structure.\n",
      "\u001b[2m\u001b[33m(raylet)\u001b[0m - The agent is killed by the OS (e.g., out of memory).\n"
     ]
    }
   ],
   "source": [
    "import modin.pandas as pd\n",
    "%timeit p.mean()            # 20 ms -- put all to pyarrow / raylet. even when no raylet is shown but pd.ArrowDtype(pa.()) is used\n",
    "%timeit patient_df.mean() # 30-40ms put to pyarrow in data_import except is_seizure / raylet not gripping\n",
    "%timeit arrow_patient_df.mean()  # 700ms no modin\n",
    "%timeit a.mean()  # pd.ArrowDtype(pa.float64()): 237ms no modin\n",
    "\n",
    "# pyarrow datatypes wont be saved by mem mapping\n",
    "# 30/50 ms when all are double from import  ... \n",
    "\n",
    "# modin accelerates (parallel computing?!?)\n",
    "# pyarrow dtypes accelerate, but mem mapping is slow"
   ]
  },
  {
   "cell_type": "code",
   "execution_count": 3,
   "metadata": {},
   "outputs": [
    {
     "name": "stdout",
     "output_type": "stream",
     "text": [
      "60.6 ms ± 3.49 ms per loop (mean ± std. dev. of 7 runs, 10 loops each)\n"
     ]
    }
   ],
   "source": [
    "import modin.pandas as pd\n",
    "# %timeit p.mean()\n",
    "%timeit patient_df.mean()"
   ]
  },
  {
   "cell_type": "code",
   "execution_count": 3,
   "metadata": {},
   "outputs": [
    {
     "name": "stdout",
     "output_type": "stream",
     "text": [
      "176 ms ± 5.36 ms per loop (mean ± std. dev. of 7 runs, 1 loop each)\n",
      "166 ms ± 2.32 ms per loop (mean ± std. dev. of 7 runs, 10 loops each)\n"
     ]
    }
   ],
   "source": [
    "# import modin.pandas as pd\n",
    "%timeit p.mean()\n",
    "%timeit patient_df.mean()"
   ]
  },
  {
   "cell_type": "code",
   "execution_count": 14,
   "metadata": {},
   "outputs": [
    {
     "data": {
      "text/plain": [
       "TimedeltaIndex([       '0 days 00:00:00', '0 days 00:00:00.015625',\n",
       "                '0 days 00:00:00.031250', '0 days 00:00:00.046875',\n",
       "                '0 days 00:00:00.062500', '0 days 00:00:00.078125',\n",
       "                '0 days 00:00:00.093750', '0 days 00:00:00.109375',\n",
       "                '0 days 00:00:00.125000', '0 days 00:00:00.140625',\n",
       "                ...\n",
       "                '4 days 17:49:12.843750', '4 days 17:49:12.859375',\n",
       "                '4 days 17:49:12.875000', '4 days 17:49:12.890625',\n",
       "                '4 days 17:49:12.906250', '4 days 17:49:12.921875',\n",
       "                '4 days 17:49:12.937500', '4 days 17:49:12.953125',\n",
       "                '4 days 17:49:12.968750', '4 days 17:49:12.984375'],\n",
       "               dtype='timedelta64[ns]', length=26224192, freq=None)"
      ]
     },
     "execution_count": 14,
     "metadata": {},
     "output_type": "execute_result"
    }
   ],
   "source": []
  },
  {
   "cell_type": "code",
   "execution_count": 6,
   "metadata": {},
   "outputs": [
    {
     "name": "stdout",
     "output_type": "stream",
     "text": [
      "<class 'pandas.core.frame.DataFrame'>\n",
      "RangeIndex: 4 entries, 0 to 3\n",
      "Data columns (total 2 columns):\n",
      " #   Column  Non-Null Count  Dtype         \n",
      "---  ------  --------------  -----         \n",
      " 0   col_1   4 non-null      int64[pyarrow]\n",
      " 1   col_2   4 non-null      int64[pyarrow]\n",
      "dtypes: int64[pyarrow](2)\n",
      "memory usage: 196.0 bytes\n"
     ]
    }
   ],
   "source": [
    "import pandas as pd\n",
    "import pyarrow as pa\n",
    "data = {'col_1': [3, 2, 1, 0], 'col_2': [1, 2, 3, 4]}\n",
    "d = pd.DataFrame(\n",
    "    data,\n",
    "    dtype='int64[pyarrow]')\n",
    "d.info()"
   ]
  },
  {
   "cell_type": "code",
   "execution_count": 1,
   "metadata": {},
   "outputs": [],
   "source": [
    "import mne \n",
    "import os\n",
    "from mne.io import  read_raw_edf\n"
   ]
  },
  {
   "cell_type": "code",
   "execution_count": 13,
   "metadata": {},
   "outputs": [
    {
     "name": "stdout",
     "output_type": "stream",
     "text": [
      "Extracting EDF parameters from /Users/Samet/Documents/Bildung/BootcampSpiced/github_rice_regression/Capstone_project/chb-mit-scalp-eeg-database-1.0.0/chb01/chb01_01.edf...\n",
      "EDF file detected\n",
      "Setting channel info structure...\n",
      "Creating raw.info structure...\n",
      "Reading 0 ... 921599  =      0.000 ...  3599.996 secs...\n"
     ]
    },
    {
     "name": "stderr",
     "output_type": "stream",
     "text": [
      "/var/folders/qc/mckg6k9d38ngx5rhh3c9fbpr0000gp/T/ipykernel_19543/2274303558.py:15: RuntimeWarning: Channel names are not unique, found duplicates for: {'T8-P8'}. Applying running numbers for duplicates.\n",
      "  first_raw = mne.io.read_raw_edf(first_file_path, preload=True)\n"
     ]
    },
    {
     "name": "stdout",
     "output_type": "stream",
     "text": [
      "Extracting EDF parameters from /Users/Samet/Documents/Bildung/BootcampSpiced/github_rice_regression/Capstone_project/chb-mit-scalp-eeg-database-1.0.0/chb01/chb01_01.edf...\n",
      "EDF file detected\n",
      "Setting channel info structure...\n",
      "Creating raw.info structure...\n",
      "Reading 0 ... 921599  =      0.000 ...  3599.996 secs...\n"
     ]
    },
    {
     "name": "stderr",
     "output_type": "stream",
     "text": [
      "/var/folders/qc/mckg6k9d38ngx5rhh3c9fbpr0000gp/T/ipykernel_19543/2274303558.py:20: RuntimeWarning: Channel names are not unique, found duplicates for: {'T8-P8'}. Applying running numbers for duplicates.\n",
      "  raw = mne.io.read_raw_edf(file_path, preload=True)\n"
     ]
    },
    {
     "name": "stdout",
     "output_type": "stream",
     "text": [
      "Extracting EDF parameters from /Users/Samet/Documents/Bildung/BootcampSpiced/github_rice_regression/Capstone_project/chb-mit-scalp-eeg-database-1.0.0/chb01/chb01_02.edf...\n",
      "EDF file detected\n",
      "Setting channel info structure...\n",
      "Creating raw.info structure...\n",
      "Reading 0 ... 921599  =      0.000 ...  3599.996 secs...\n"
     ]
    },
    {
     "name": "stderr",
     "output_type": "stream",
     "text": [
      "/var/folders/qc/mckg6k9d38ngx5rhh3c9fbpr0000gp/T/ipykernel_19543/2274303558.py:20: RuntimeWarning: Channel names are not unique, found duplicates for: {'T8-P8'}. Applying running numbers for duplicates.\n",
      "  raw = mne.io.read_raw_edf(file_path, preload=True)\n"
     ]
    },
    {
     "name": "stdout",
     "output_type": "stream",
     "text": [
      "Extracting EDF parameters from /Users/Samet/Documents/Bildung/BootcampSpiced/github_rice_regression/Capstone_project/chb-mit-scalp-eeg-database-1.0.0/chb01/chb01_03.edf...\n",
      "EDF file detected\n",
      "Setting channel info structure...\n",
      "Creating raw.info structure...\n",
      "Reading 0 ... 921599  =      0.000 ...  3599.996 secs...\n"
     ]
    },
    {
     "name": "stderr",
     "output_type": "stream",
     "text": [
      "/var/folders/qc/mckg6k9d38ngx5rhh3c9fbpr0000gp/T/ipykernel_19543/2274303558.py:20: RuntimeWarning: Channel names are not unique, found duplicates for: {'T8-P8'}. Applying running numbers for duplicates.\n",
      "  raw = mne.io.read_raw_edf(file_path, preload=True)\n"
     ]
    },
    {
     "name": "stdout",
     "output_type": "stream",
     "text": [
      "Extracting EDF parameters from /Users/Samet/Documents/Bildung/BootcampSpiced/github_rice_regression/Capstone_project/chb-mit-scalp-eeg-database-1.0.0/chb01/chb01_04.edf...\n",
      "EDF file detected\n",
      "Setting channel info structure...\n",
      "Creating raw.info structure...\n",
      "Reading 0 ... 921599  =      0.000 ...  3599.996 secs...\n"
     ]
    },
    {
     "name": "stderr",
     "output_type": "stream",
     "text": [
      "/var/folders/qc/mckg6k9d38ngx5rhh3c9fbpr0000gp/T/ipykernel_19543/2274303558.py:20: RuntimeWarning: Channel names are not unique, found duplicates for: {'T8-P8'}. Applying running numbers for duplicates.\n",
      "  raw = mne.io.read_raw_edf(file_path, preload=True)\n"
     ]
    },
    {
     "name": "stdout",
     "output_type": "stream",
     "text": [
      "Extracting EDF parameters from /Users/Samet/Documents/Bildung/BootcampSpiced/github_rice_regression/Capstone_project/chb-mit-scalp-eeg-database-1.0.0/chb01/chb01_05.edf...\n",
      "EDF file detected\n",
      "Setting channel info structure...\n",
      "Creating raw.info structure...\n",
      "Reading 0 ... 921599  =      0.000 ...  3599.996 secs...\n"
     ]
    },
    {
     "name": "stderr",
     "output_type": "stream",
     "text": [
      "/var/folders/qc/mckg6k9d38ngx5rhh3c9fbpr0000gp/T/ipykernel_19543/2274303558.py:20: RuntimeWarning: Channel names are not unique, found duplicates for: {'T8-P8'}. Applying running numbers for duplicates.\n",
      "  raw = mne.io.read_raw_edf(file_path, preload=True)\n"
     ]
    },
    {
     "name": "stdout",
     "output_type": "stream",
     "text": [
      "Extracting EDF parameters from /Users/Samet/Documents/Bildung/BootcampSpiced/github_rice_regression/Capstone_project/chb-mit-scalp-eeg-database-1.0.0/chb01/chb01_06.edf...\n",
      "EDF file detected\n",
      "Setting channel info structure...\n",
      "Creating raw.info structure...\n",
      "Reading 0 ... 921599  =      0.000 ...  3599.996 secs...\n"
     ]
    },
    {
     "name": "stderr",
     "output_type": "stream",
     "text": [
      "/var/folders/qc/mckg6k9d38ngx5rhh3c9fbpr0000gp/T/ipykernel_19543/2274303558.py:20: RuntimeWarning: Channel names are not unique, found duplicates for: {'T8-P8'}. Applying running numbers for duplicates.\n",
      "  raw = mne.io.read_raw_edf(file_path, preload=True)\n"
     ]
    },
    {
     "name": "stdout",
     "output_type": "stream",
     "text": [
      "Extracting EDF parameters from /Users/Samet/Documents/Bildung/BootcampSpiced/github_rice_regression/Capstone_project/chb-mit-scalp-eeg-database-1.0.0/chb01/chb01_07.edf...\n",
      "EDF file detected\n",
      "Setting channel info structure...\n",
      "Creating raw.info structure...\n",
      "Reading 0 ... 921599  =      0.000 ...  3599.996 secs...\n"
     ]
    },
    {
     "name": "stderr",
     "output_type": "stream",
     "text": [
      "/var/folders/qc/mckg6k9d38ngx5rhh3c9fbpr0000gp/T/ipykernel_19543/2274303558.py:20: RuntimeWarning: Channel names are not unique, found duplicates for: {'T8-P8'}. Applying running numbers for duplicates.\n",
      "  raw = mne.io.read_raw_edf(file_path, preload=True)\n"
     ]
    },
    {
     "name": "stdout",
     "output_type": "stream",
     "text": [
      "Extracting EDF parameters from /Users/Samet/Documents/Bildung/BootcampSpiced/github_rice_regression/Capstone_project/chb-mit-scalp-eeg-database-1.0.0/chb01/chb01_08.edf...\n",
      "EDF file detected\n",
      "Setting channel info structure...\n",
      "Creating raw.info structure...\n",
      "Reading 0 ... 921599  =      0.000 ...  3599.996 secs...\n"
     ]
    },
    {
     "name": "stderr",
     "output_type": "stream",
     "text": [
      "/var/folders/qc/mckg6k9d38ngx5rhh3c9fbpr0000gp/T/ipykernel_19543/2274303558.py:20: RuntimeWarning: Channel names are not unique, found duplicates for: {'T8-P8'}. Applying running numbers for duplicates.\n",
      "  raw = mne.io.read_raw_edf(file_path, preload=True)\n"
     ]
    },
    {
     "name": "stdout",
     "output_type": "stream",
     "text": [
      "Extracting EDF parameters from /Users/Samet/Documents/Bildung/BootcampSpiced/github_rice_regression/Capstone_project/chb-mit-scalp-eeg-database-1.0.0/chb01/chb01_09.edf...\n",
      "EDF file detected\n",
      "Setting channel info structure...\n",
      "Creating raw.info structure...\n",
      "Reading 0 ... 921599  =      0.000 ...  3599.996 secs...\n"
     ]
    },
    {
     "name": "stderr",
     "output_type": "stream",
     "text": [
      "/var/folders/qc/mckg6k9d38ngx5rhh3c9fbpr0000gp/T/ipykernel_19543/2274303558.py:20: RuntimeWarning: Channel names are not unique, found duplicates for: {'T8-P8'}. Applying running numbers for duplicates.\n",
      "  raw = mne.io.read_raw_edf(file_path, preload=True)\n"
     ]
    },
    {
     "name": "stdout",
     "output_type": "stream",
     "text": [
      "Extracting EDF parameters from /Users/Samet/Documents/Bildung/BootcampSpiced/github_rice_regression/Capstone_project/chb-mit-scalp-eeg-database-1.0.0/chb01/chb01_10.edf...\n",
      "EDF file detected\n",
      "Setting channel info structure...\n",
      "Creating raw.info structure...\n",
      "Reading 0 ... 921599  =      0.000 ...  3599.996 secs...\n"
     ]
    },
    {
     "name": "stderr",
     "output_type": "stream",
     "text": [
      "/var/folders/qc/mckg6k9d38ngx5rhh3c9fbpr0000gp/T/ipykernel_19543/2274303558.py:20: RuntimeWarning: Channel names are not unique, found duplicates for: {'T8-P8'}. Applying running numbers for duplicates.\n",
      "  raw = mne.io.read_raw_edf(file_path, preload=True)\n"
     ]
    },
    {
     "name": "stdout",
     "output_type": "stream",
     "text": [
      "Extracting EDF parameters from /Users/Samet/Documents/Bildung/BootcampSpiced/github_rice_regression/Capstone_project/chb-mit-scalp-eeg-database-1.0.0/chb01/chb01_11.edf...\n",
      "EDF file detected\n",
      "Setting channel info structure...\n",
      "Creating raw.info structure...\n",
      "Reading 0 ... 921599  =      0.000 ...  3599.996 secs...\n"
     ]
    },
    {
     "name": "stderr",
     "output_type": "stream",
     "text": [
      "/var/folders/qc/mckg6k9d38ngx5rhh3c9fbpr0000gp/T/ipykernel_19543/2274303558.py:20: RuntimeWarning: Channel names are not unique, found duplicates for: {'T8-P8'}. Applying running numbers for duplicates.\n",
      "  raw = mne.io.read_raw_edf(file_path, preload=True)\n"
     ]
    },
    {
     "name": "stdout",
     "output_type": "stream",
     "text": [
      "Extracting EDF parameters from /Users/Samet/Documents/Bildung/BootcampSpiced/github_rice_regression/Capstone_project/chb-mit-scalp-eeg-database-1.0.0/chb01/chb01_12.edf...\n",
      "EDF file detected\n",
      "Setting channel info structure...\n",
      "Creating raw.info structure...\n",
      "Reading 0 ... 921599  =      0.000 ...  3599.996 secs...\n"
     ]
    },
    {
     "name": "stderr",
     "output_type": "stream",
     "text": [
      "/var/folders/qc/mckg6k9d38ngx5rhh3c9fbpr0000gp/T/ipykernel_19543/2274303558.py:20: RuntimeWarning: Channel names are not unique, found duplicates for: {'T8-P8'}. Applying running numbers for duplicates.\n",
      "  raw = mne.io.read_raw_edf(file_path, preload=True)\n"
     ]
    },
    {
     "name": "stdout",
     "output_type": "stream",
     "text": [
      "Extracting EDF parameters from /Users/Samet/Documents/Bildung/BootcampSpiced/github_rice_regression/Capstone_project/chb-mit-scalp-eeg-database-1.0.0/chb01/chb01_13.edf...\n",
      "EDF file detected\n",
      "Setting channel info structure...\n",
      "Creating raw.info structure...\n",
      "Reading 0 ... 921599  =      0.000 ...  3599.996 secs...\n"
     ]
    },
    {
     "name": "stderr",
     "output_type": "stream",
     "text": [
      "/var/folders/qc/mckg6k9d38ngx5rhh3c9fbpr0000gp/T/ipykernel_19543/2274303558.py:20: RuntimeWarning: Channel names are not unique, found duplicates for: {'T8-P8'}. Applying running numbers for duplicates.\n",
      "  raw = mne.io.read_raw_edf(file_path, preload=True)\n"
     ]
    },
    {
     "name": "stdout",
     "output_type": "stream",
     "text": [
      "Extracting EDF parameters from /Users/Samet/Documents/Bildung/BootcampSpiced/github_rice_regression/Capstone_project/chb-mit-scalp-eeg-database-1.0.0/chb01/chb01_14.edf...\n",
      "EDF file detected\n",
      "Setting channel info structure...\n",
      "Creating raw.info structure...\n",
      "Reading 0 ... 921599  =      0.000 ...  3599.996 secs...\n"
     ]
    },
    {
     "name": "stderr",
     "output_type": "stream",
     "text": [
      "/var/folders/qc/mckg6k9d38ngx5rhh3c9fbpr0000gp/T/ipykernel_19543/2274303558.py:20: RuntimeWarning: Channel names are not unique, found duplicates for: {'T8-P8'}. Applying running numbers for duplicates.\n",
      "  raw = mne.io.read_raw_edf(file_path, preload=True)\n"
     ]
    },
    {
     "name": "stdout",
     "output_type": "stream",
     "text": [
      "Extracting EDF parameters from /Users/Samet/Documents/Bildung/BootcampSpiced/github_rice_regression/Capstone_project/chb-mit-scalp-eeg-database-1.0.0/chb01/chb01_15.edf...\n",
      "EDF file detected\n",
      "Setting channel info structure...\n",
      "Creating raw.info structure...\n",
      "Reading 0 ... 921599  =      0.000 ...  3599.996 secs...\n"
     ]
    },
    {
     "name": "stderr",
     "output_type": "stream",
     "text": [
      "/var/folders/qc/mckg6k9d38ngx5rhh3c9fbpr0000gp/T/ipykernel_19543/2274303558.py:20: RuntimeWarning: Channel names are not unique, found duplicates for: {'T8-P8'}. Applying running numbers for duplicates.\n",
      "  raw = mne.io.read_raw_edf(file_path, preload=True)\n"
     ]
    },
    {
     "name": "stdout",
     "output_type": "stream",
     "text": [
      "Extracting EDF parameters from /Users/Samet/Documents/Bildung/BootcampSpiced/github_rice_regression/Capstone_project/chb-mit-scalp-eeg-database-1.0.0/chb01/chb01_16.edf...\n",
      "EDF file detected\n",
      "Setting channel info structure...\n",
      "Creating raw.info structure...\n",
      "Reading 0 ... 921599  =      0.000 ...  3599.996 secs...\n"
     ]
    },
    {
     "name": "stderr",
     "output_type": "stream",
     "text": [
      "/var/folders/qc/mckg6k9d38ngx5rhh3c9fbpr0000gp/T/ipykernel_19543/2274303558.py:20: RuntimeWarning: Channel names are not unique, found duplicates for: {'T8-P8'}. Applying running numbers for duplicates.\n",
      "  raw = mne.io.read_raw_edf(file_path, preload=True)\n"
     ]
    },
    {
     "name": "stdout",
     "output_type": "stream",
     "text": [
      "Extracting EDF parameters from /Users/Samet/Documents/Bildung/BootcampSpiced/github_rice_regression/Capstone_project/chb-mit-scalp-eeg-database-1.0.0/chb01/chb01_17.edf...\n",
      "EDF file detected\n",
      "Setting channel info structure...\n",
      "Creating raw.info structure...\n",
      "Reading 0 ... 921599  =      0.000 ...  3599.996 secs...\n"
     ]
    },
    {
     "name": "stderr",
     "output_type": "stream",
     "text": [
      "/var/folders/qc/mckg6k9d38ngx5rhh3c9fbpr0000gp/T/ipykernel_19543/2274303558.py:20: RuntimeWarning: Channel names are not unique, found duplicates for: {'T8-P8'}. Applying running numbers for duplicates.\n",
      "  raw = mne.io.read_raw_edf(file_path, preload=True)\n"
     ]
    },
    {
     "name": "stdout",
     "output_type": "stream",
     "text": [
      "Extracting EDF parameters from /Users/Samet/Documents/Bildung/BootcampSpiced/github_rice_regression/Capstone_project/chb-mit-scalp-eeg-database-1.0.0/chb01/chb01_18.edf...\n",
      "EDF file detected\n",
      "Setting channel info structure...\n",
      "Creating raw.info structure...\n",
      "Reading 0 ... 921599  =      0.000 ...  3599.996 secs...\n"
     ]
    },
    {
     "name": "stderr",
     "output_type": "stream",
     "text": [
      "/var/folders/qc/mckg6k9d38ngx5rhh3c9fbpr0000gp/T/ipykernel_19543/2274303558.py:20: RuntimeWarning: Channel names are not unique, found duplicates for: {'T8-P8'}. Applying running numbers for duplicates.\n",
      "  raw = mne.io.read_raw_edf(file_path, preload=True)\n"
     ]
    },
    {
     "name": "stdout",
     "output_type": "stream",
     "text": [
      "Extracting EDF parameters from /Users/Samet/Documents/Bildung/BootcampSpiced/github_rice_regression/Capstone_project/chb-mit-scalp-eeg-database-1.0.0/chb01/chb01_19.edf...\n",
      "EDF file detected\n",
      "Setting channel info structure...\n",
      "Creating raw.info structure...\n",
      "Reading 0 ... 921599  =      0.000 ...  3599.996 secs...\n"
     ]
    },
    {
     "name": "stderr",
     "output_type": "stream",
     "text": [
      "/var/folders/qc/mckg6k9d38ngx5rhh3c9fbpr0000gp/T/ipykernel_19543/2274303558.py:20: RuntimeWarning: Channel names are not unique, found duplicates for: {'T8-P8'}. Applying running numbers for duplicates.\n",
      "  raw = mne.io.read_raw_edf(file_path, preload=True)\n"
     ]
    },
    {
     "name": "stdout",
     "output_type": "stream",
     "text": [
      "Extracting EDF parameters from /Users/Samet/Documents/Bildung/BootcampSpiced/github_rice_regression/Capstone_project/chb-mit-scalp-eeg-database-1.0.0/chb01/chb01_20.edf...\n",
      "EDF file detected\n",
      "Setting channel info structure...\n",
      "Creating raw.info structure...\n",
      "Reading 0 ... 681727  =      0.000 ...  2662.996 secs...\n"
     ]
    },
    {
     "name": "stderr",
     "output_type": "stream",
     "text": [
      "/var/folders/qc/mckg6k9d38ngx5rhh3c9fbpr0000gp/T/ipykernel_19543/2274303558.py:20: RuntimeWarning: Channel names are not unique, found duplicates for: {'T8-P8'}. Applying running numbers for duplicates.\n",
      "  raw = mne.io.read_raw_edf(file_path, preload=True)\n"
     ]
    },
    {
     "name": "stdout",
     "output_type": "stream",
     "text": [
      "Extracting EDF parameters from /Users/Samet/Documents/Bildung/BootcampSpiced/github_rice_regression/Capstone_project/chb-mit-scalp-eeg-database-1.0.0/chb01/chb01_21.edf...\n",
      "EDF file detected\n",
      "Setting channel info structure...\n",
      "Creating raw.info structure...\n",
      "Reading 0 ... 921599  =      0.000 ...  3599.996 secs...\n"
     ]
    },
    {
     "name": "stderr",
     "output_type": "stream",
     "text": [
      "/var/folders/qc/mckg6k9d38ngx5rhh3c9fbpr0000gp/T/ipykernel_19543/2274303558.py:20: RuntimeWarning: Channel names are not unique, found duplicates for: {'T8-P8'}. Applying running numbers for duplicates.\n",
      "  raw = mne.io.read_raw_edf(file_path, preload=True)\n"
     ]
    },
    {
     "name": "stdout",
     "output_type": "stream",
     "text": [
      "Extracting EDF parameters from /Users/Samet/Documents/Bildung/BootcampSpiced/github_rice_regression/Capstone_project/chb-mit-scalp-eeg-database-1.0.0/chb01/chb01_22.edf...\n",
      "EDF file detected\n",
      "Setting channel info structure...\n",
      "Creating raw.info structure...\n"
     ]
    },
    {
     "name": "stderr",
     "output_type": "stream",
     "text": [
      "/var/folders/qc/mckg6k9d38ngx5rhh3c9fbpr0000gp/T/ipykernel_19543/2274303558.py:20: RuntimeWarning: Channel names are not unique, found duplicates for: {'T8-P8'}. Applying running numbers for duplicates.\n",
      "  raw = mne.io.read_raw_edf(file_path, preload=True)\n"
     ]
    },
    {
     "name": "stdout",
     "output_type": "stream",
     "text": [
      "Reading 0 ... 921599  =      0.000 ...  3599.996 secs...\n",
      "Extracting EDF parameters from /Users/Samet/Documents/Bildung/BootcampSpiced/github_rice_regression/Capstone_project/chb-mit-scalp-eeg-database-1.0.0/chb01/chb01_23.edf...\n",
      "EDF file detected\n",
      "Setting channel info structure...\n",
      "Creating raw.info structure...\n",
      "Reading 0 ... 921599  =      0.000 ...  3599.996 secs...\n"
     ]
    },
    {
     "name": "stderr",
     "output_type": "stream",
     "text": [
      "/var/folders/qc/mckg6k9d38ngx5rhh3c9fbpr0000gp/T/ipykernel_19543/2274303558.py:20: RuntimeWarning: Channel names are not unique, found duplicates for: {'T8-P8'}. Applying running numbers for duplicates.\n",
      "  raw = mne.io.read_raw_edf(file_path, preload=True)\n"
     ]
    },
    {
     "name": "stdout",
     "output_type": "stream",
     "text": [
      "Extracting EDF parameters from /Users/Samet/Documents/Bildung/BootcampSpiced/github_rice_regression/Capstone_project/chb-mit-scalp-eeg-database-1.0.0/chb01/chb01_24.edf...\n",
      "EDF file detected\n",
      "Setting channel info structure...\n",
      "Creating raw.info structure...\n",
      "Reading 0 ... 921599  =      0.000 ...  3599.996 secs...\n"
     ]
    },
    {
     "name": "stderr",
     "output_type": "stream",
     "text": [
      "/var/folders/qc/mckg6k9d38ngx5rhh3c9fbpr0000gp/T/ipykernel_19543/2274303558.py:20: RuntimeWarning: Channel names are not unique, found duplicates for: {'T8-P8'}. Applying running numbers for duplicates.\n",
      "  raw = mne.io.read_raw_edf(file_path, preload=True)\n"
     ]
    },
    {
     "name": "stdout",
     "output_type": "stream",
     "text": [
      "Extracting EDF parameters from /Users/Samet/Documents/Bildung/BootcampSpiced/github_rice_regression/Capstone_project/chb-mit-scalp-eeg-database-1.0.0/chb01/chb01_25.edf...\n",
      "EDF file detected\n",
      "Setting channel info structure...\n",
      "Creating raw.info structure...\n",
      "Reading 0 ... 921599  =      0.000 ...  3599.996 secs...\n"
     ]
    },
    {
     "name": "stderr",
     "output_type": "stream",
     "text": [
      "/var/folders/qc/mckg6k9d38ngx5rhh3c9fbpr0000gp/T/ipykernel_19543/2274303558.py:20: RuntimeWarning: Channel names are not unique, found duplicates for: {'T8-P8'}. Applying running numbers for duplicates.\n",
      "  raw = mne.io.read_raw_edf(file_path, preload=True)\n"
     ]
    },
    {
     "name": "stdout",
     "output_type": "stream",
     "text": [
      "Extracting EDF parameters from /Users/Samet/Documents/Bildung/BootcampSpiced/github_rice_regression/Capstone_project/chb-mit-scalp-eeg-database-1.0.0/chb01/chb01_26.edf...\n",
      "EDF file detected\n",
      "Setting channel info structure...\n",
      "Creating raw.info structure...\n",
      "Reading 0 ... 595199  =      0.000 ...  2324.996 secs...\n"
     ]
    },
    {
     "name": "stderr",
     "output_type": "stream",
     "text": [
      "/var/folders/qc/mckg6k9d38ngx5rhh3c9fbpr0000gp/T/ipykernel_19543/2274303558.py:20: RuntimeWarning: Channel names are not unique, found duplicates for: {'T8-P8'}. Applying running numbers for duplicates.\n",
      "  raw = mne.io.read_raw_edf(file_path, preload=True)\n"
     ]
    },
    {
     "name": "stdout",
     "output_type": "stream",
     "text": [
      "Extracting EDF parameters from /Users/Samet/Documents/Bildung/BootcampSpiced/github_rice_regression/Capstone_project/chb-mit-scalp-eeg-database-1.0.0/chb01/chb01_27.edf...\n",
      "EDF file detected\n",
      "Setting channel info structure...\n",
      "Creating raw.info structure...\n",
      "Reading 0 ... 153599  =      0.000 ...   599.996 secs...\n"
     ]
    },
    {
     "name": "stderr",
     "output_type": "stream",
     "text": [
      "/var/folders/qc/mckg6k9d38ngx5rhh3c9fbpr0000gp/T/ipykernel_19543/2274303558.py:20: RuntimeWarning: Channel names are not unique, found duplicates for: {'T8-P8'}. Applying running numbers for duplicates.\n",
      "  raw = mne.io.read_raw_edf(file_path, preload=True)\n"
     ]
    },
    {
     "name": "stdout",
     "output_type": "stream",
     "text": [
      "Extracting EDF parameters from /Users/Samet/Documents/Bildung/BootcampSpiced/github_rice_regression/Capstone_project/chb-mit-scalp-eeg-database-1.0.0/chb01/chb01_29.edf...\n",
      "EDF file detected\n",
      "Setting channel info structure...\n",
      "Creating raw.info structure...\n",
      "Reading 0 ... 921599  =      0.000 ...  3599.996 secs...\n"
     ]
    },
    {
     "name": "stderr",
     "output_type": "stream",
     "text": [
      "/var/folders/qc/mckg6k9d38ngx5rhh3c9fbpr0000gp/T/ipykernel_19543/2274303558.py:20: RuntimeWarning: Channel names are not unique, found duplicates for: {'T8-P8'}. Applying running numbers for duplicates.\n",
      "  raw = mne.io.read_raw_edf(file_path, preload=True)\n"
     ]
    },
    {
     "name": "stdout",
     "output_type": "stream",
     "text": [
      "Extracting EDF parameters from /Users/Samet/Documents/Bildung/BootcampSpiced/github_rice_regression/Capstone_project/chb-mit-scalp-eeg-database-1.0.0/chb01/chb01_30.edf...\n",
      "EDF file detected\n",
      "Setting channel info structure...\n",
      "Creating raw.info structure...\n",
      "Reading 0 ... 921599  =      0.000 ...  3599.996 secs...\n"
     ]
    },
    {
     "name": "stderr",
     "output_type": "stream",
     "text": [
      "/var/folders/qc/mckg6k9d38ngx5rhh3c9fbpr0000gp/T/ipykernel_19543/2274303558.py:20: RuntimeWarning: Channel names are not unique, found duplicates for: {'T8-P8'}. Applying running numbers for duplicates.\n",
      "  raw = mne.io.read_raw_edf(file_path, preload=True)\n"
     ]
    },
    {
     "name": "stdout",
     "output_type": "stream",
     "text": [
      "Extracting EDF parameters from /Users/Samet/Documents/Bildung/BootcampSpiced/github_rice_regression/Capstone_project/chb-mit-scalp-eeg-database-1.0.0/chb01/chb01_31.edf...\n",
      "EDF file detected\n",
      "Setting channel info structure...\n",
      "Creating raw.info structure...\n",
      "Reading 0 ... 921599  =      0.000 ...  3599.996 secs...\n"
     ]
    },
    {
     "name": "stderr",
     "output_type": "stream",
     "text": [
      "/var/folders/qc/mckg6k9d38ngx5rhh3c9fbpr0000gp/T/ipykernel_19543/2274303558.py:20: RuntimeWarning: Channel names are not unique, found duplicates for: {'T8-P8'}. Applying running numbers for duplicates.\n",
      "  raw = mne.io.read_raw_edf(file_path, preload=True)\n"
     ]
    },
    {
     "name": "stdout",
     "output_type": "stream",
     "text": [
      "Extracting EDF parameters from /Users/Samet/Documents/Bildung/BootcampSpiced/github_rice_regression/Capstone_project/chb-mit-scalp-eeg-database-1.0.0/chb01/chb01_32.edf...\n",
      "EDF file detected\n",
      "Setting channel info structure...\n",
      "Creating raw.info structure...\n",
      "Reading 0 ... 921599  =      0.000 ...  3599.996 secs...\n"
     ]
    },
    {
     "name": "stderr",
     "output_type": "stream",
     "text": [
      "/var/folders/qc/mckg6k9d38ngx5rhh3c9fbpr0000gp/T/ipykernel_19543/2274303558.py:20: RuntimeWarning: Channel names are not unique, found duplicates for: {'T8-P8'}. Applying running numbers for duplicates.\n",
      "  raw = mne.io.read_raw_edf(file_path, preload=True)\n"
     ]
    },
    {
     "name": "stdout",
     "output_type": "stream",
     "text": [
      "Extracting EDF parameters from /Users/Samet/Documents/Bildung/BootcampSpiced/github_rice_regression/Capstone_project/chb-mit-scalp-eeg-database-1.0.0/chb01/chb01_33.edf...\n",
      "EDF file detected\n",
      "Setting channel info structure...\n",
      "Creating raw.info structure...\n",
      "Reading 0 ... 921599  =      0.000 ...  3599.996 secs...\n"
     ]
    },
    {
     "name": "stderr",
     "output_type": "stream",
     "text": [
      "/var/folders/qc/mckg6k9d38ngx5rhh3c9fbpr0000gp/T/ipykernel_19543/2274303558.py:20: RuntimeWarning: Channel names are not unique, found duplicates for: {'T8-P8'}. Applying running numbers for duplicates.\n",
      "  raw = mne.io.read_raw_edf(file_path, preload=True)\n"
     ]
    },
    {
     "name": "stdout",
     "output_type": "stream",
     "text": [
      "Extracting EDF parameters from /Users/Samet/Documents/Bildung/BootcampSpiced/github_rice_regression/Capstone_project/chb-mit-scalp-eeg-database-1.0.0/chb01/chb01_34.edf...\n",
      "EDF file detected\n",
      "Setting channel info structure...\n",
      "Creating raw.info structure...\n",
      "Reading 0 ... 921599  =      0.000 ...  3599.996 secs...\n"
     ]
    },
    {
     "name": "stderr",
     "output_type": "stream",
     "text": [
      "/var/folders/qc/mckg6k9d38ngx5rhh3c9fbpr0000gp/T/ipykernel_19543/2274303558.py:20: RuntimeWarning: Channel names are not unique, found duplicates for: {'T8-P8'}. Applying running numbers for duplicates.\n",
      "  raw = mne.io.read_raw_edf(file_path, preload=True)\n"
     ]
    },
    {
     "name": "stdout",
     "output_type": "stream",
     "text": [
      "Extracting EDF parameters from /Users/Samet/Documents/Bildung/BootcampSpiced/github_rice_regression/Capstone_project/chb-mit-scalp-eeg-database-1.0.0/chb01/chb01_36.edf...\n",
      "EDF file detected\n",
      "Setting channel info structure...\n",
      "Creating raw.info structure...\n",
      "Reading 0 ... 921599  =      0.000 ...  3599.996 secs...\n"
     ]
    },
    {
     "name": "stderr",
     "output_type": "stream",
     "text": [
      "/var/folders/qc/mckg6k9d38ngx5rhh3c9fbpr0000gp/T/ipykernel_19543/2274303558.py:20: RuntimeWarning: Channel names are not unique, found duplicates for: {'T8-P8'}. Applying running numbers for duplicates.\n",
      "  raw = mne.io.read_raw_edf(file_path, preload=True)\n"
     ]
    },
    {
     "name": "stdout",
     "output_type": "stream",
     "text": [
      "Extracting EDF parameters from /Users/Samet/Documents/Bildung/BootcampSpiced/github_rice_regression/Capstone_project/chb-mit-scalp-eeg-database-1.0.0/chb01/chb01_37.edf...\n",
      "EDF file detected\n",
      "Setting channel info structure...\n",
      "Creating raw.info structure...\n",
      "Reading 0 ... 921599  =      0.000 ...  3599.996 secs...\n"
     ]
    },
    {
     "name": "stderr",
     "output_type": "stream",
     "text": [
      "/var/folders/qc/mckg6k9d38ngx5rhh3c9fbpr0000gp/T/ipykernel_19543/2274303558.py:20: RuntimeWarning: Channel names are not unique, found duplicates for: {'T8-P8'}. Applying running numbers for duplicates.\n",
      "  raw = mne.io.read_raw_edf(file_path, preload=True)\n"
     ]
    },
    {
     "name": "stdout",
     "output_type": "stream",
     "text": [
      "Extracting EDF parameters from /Users/Samet/Documents/Bildung/BootcampSpiced/github_rice_regression/Capstone_project/chb-mit-scalp-eeg-database-1.0.0/chb01/chb01_38.edf...\n",
      "EDF file detected\n",
      "Setting channel info structure...\n",
      "Creating raw.info structure...\n",
      "Reading 0 ... 921599  =      0.000 ...  3599.996 secs...\n"
     ]
    },
    {
     "name": "stderr",
     "output_type": "stream",
     "text": [
      "/var/folders/qc/mckg6k9d38ngx5rhh3c9fbpr0000gp/T/ipykernel_19543/2274303558.py:20: RuntimeWarning: Channel names are not unique, found duplicates for: {'T8-P8'}. Applying running numbers for duplicates.\n",
      "  raw = mne.io.read_raw_edf(file_path, preload=True)\n"
     ]
    },
    {
     "name": "stdout",
     "output_type": "stream",
     "text": [
      "Extracting EDF parameters from /Users/Samet/Documents/Bildung/BootcampSpiced/github_rice_regression/Capstone_project/chb-mit-scalp-eeg-database-1.0.0/chb01/chb01_39.edf...\n",
      "EDF file detected\n",
      "Setting channel info structure...\n",
      "Creating raw.info structure...\n",
      "Reading 0 ... 921599  =      0.000 ...  3599.996 secs...\n"
     ]
    },
    {
     "name": "stderr",
     "output_type": "stream",
     "text": [
      "/var/folders/qc/mckg6k9d38ngx5rhh3c9fbpr0000gp/T/ipykernel_19543/2274303558.py:20: RuntimeWarning: Channel names are not unique, found duplicates for: {'T8-P8'}. Applying running numbers for duplicates.\n",
      "  raw = mne.io.read_raw_edf(file_path, preload=True)\n"
     ]
    },
    {
     "name": "stdout",
     "output_type": "stream",
     "text": [
      "Extracting EDF parameters from /Users/Samet/Documents/Bildung/BootcampSpiced/github_rice_regression/Capstone_project/chb-mit-scalp-eeg-database-1.0.0/chb01/chb01_40.edf...\n",
      "EDF file detected\n",
      "Setting channel info structure...\n",
      "Creating raw.info structure...\n",
      "Reading 0 ... 921599  =      0.000 ...  3599.996 secs...\n"
     ]
    },
    {
     "name": "stderr",
     "output_type": "stream",
     "text": [
      "/var/folders/qc/mckg6k9d38ngx5rhh3c9fbpr0000gp/T/ipykernel_19543/2274303558.py:20: RuntimeWarning: Channel names are not unique, found duplicates for: {'T8-P8'}. Applying running numbers for duplicates.\n",
      "  raw = mne.io.read_raw_edf(file_path, preload=True)\n"
     ]
    },
    {
     "name": "stdout",
     "output_type": "stream",
     "text": [
      "Extracting EDF parameters from /Users/Samet/Documents/Bildung/BootcampSpiced/github_rice_regression/Capstone_project/chb-mit-scalp-eeg-database-1.0.0/chb01/chb01_41.edf...\n",
      "EDF file detected\n",
      "Setting channel info structure...\n",
      "Creating raw.info structure...\n",
      "Reading 0 ... 921599  =      0.000 ...  3599.996 secs...\n"
     ]
    },
    {
     "name": "stderr",
     "output_type": "stream",
     "text": [
      "/var/folders/qc/mckg6k9d38ngx5rhh3c9fbpr0000gp/T/ipykernel_19543/2274303558.py:20: RuntimeWarning: Channel names are not unique, found duplicates for: {'T8-P8'}. Applying running numbers for duplicates.\n",
      "  raw = mne.io.read_raw_edf(file_path, preload=True)\n"
     ]
    },
    {
     "name": "stdout",
     "output_type": "stream",
     "text": [
      "Extracting EDF parameters from /Users/Samet/Documents/Bildung/BootcampSpiced/github_rice_regression/Capstone_project/chb-mit-scalp-eeg-database-1.0.0/chb01/chb01_42.edf...\n",
      "EDF file detected\n",
      "Setting channel info structure...\n",
      "Creating raw.info structure...\n",
      "Reading 0 ... 921599  =      0.000 ...  3599.996 secs...\n"
     ]
    },
    {
     "name": "stderr",
     "output_type": "stream",
     "text": [
      "/var/folders/qc/mckg6k9d38ngx5rhh3c9fbpr0000gp/T/ipykernel_19543/2274303558.py:20: RuntimeWarning: Channel names are not unique, found duplicates for: {'T8-P8'}. Applying running numbers for duplicates.\n",
      "  raw = mne.io.read_raw_edf(file_path, preload=True)\n"
     ]
    },
    {
     "name": "stdout",
     "output_type": "stream",
     "text": [
      "Extracting EDF parameters from /Users/Samet/Documents/Bildung/BootcampSpiced/github_rice_regression/Capstone_project/chb-mit-scalp-eeg-database-1.0.0/chb01/chb01_43.edf...\n",
      "EDF file detected\n",
      "Setting channel info structure...\n",
      "Creating raw.info structure...\n",
      "Reading 0 ... 921599  =      0.000 ...  3599.996 secs...\n"
     ]
    },
    {
     "name": "stderr",
     "output_type": "stream",
     "text": [
      "/var/folders/qc/mckg6k9d38ngx5rhh3c9fbpr0000gp/T/ipykernel_19543/2274303558.py:20: RuntimeWarning: Channel names are not unique, found duplicates for: {'T8-P8'}. Applying running numbers for duplicates.\n",
      "  raw = mne.io.read_raw_edf(file_path, preload=True)\n"
     ]
    },
    {
     "name": "stdout",
     "output_type": "stream",
     "text": [
      "Extracting EDF parameters from /Users/Samet/Documents/Bildung/BootcampSpiced/github_rice_regression/Capstone_project/chb-mit-scalp-eeg-database-1.0.0/chb01/chb01_46.edf...\n",
      "EDF file detected\n",
      "Setting channel info structure...\n",
      "Creating raw.info structure...\n",
      "Reading 0 ... 921599  =      0.000 ...  3599.996 secs...\n"
     ]
    },
    {
     "name": "stderr",
     "output_type": "stream",
     "text": [
      "/var/folders/qc/mckg6k9d38ngx5rhh3c9fbpr0000gp/T/ipykernel_19543/2274303558.py:20: RuntimeWarning: Channel names are not unique, found duplicates for: {'T8-P8'}. Applying running numbers for duplicates.\n",
      "  raw = mne.io.read_raw_edf(file_path, preload=True)\n"
     ]
    },
    {
     "name": "stdout",
     "output_type": "stream",
     "text": [
      "<Info | 8 non-empty values\n",
      " bads: []\n",
      " ch_names: FP1-F7, F7-T7, T7-P7, P7-O1, FP1-F3, F3-C3, C3-P3, P3-O1, ...\n",
      " chs: 23 EEG\n",
      " custom_ref_applied: False\n",
      " highpass: 0.0 Hz\n",
      " lowpass: 128.0 Hz\n",
      " meas_date: 2076-11-06 11:42:54 UTC\n",
      " nchan: 23\n",
      " projs: []\n",
      " sfreq: 256.0 Hz\n",
      " subject_info: 1 item (dict)\n",
      ">\n"
     ]
    }
   ],
   "source": [
    "# Set the path to the patient folder\n",
    "patient_folder = '/Users/Samet/Documents/Bildung/BootcampSpiced/github_rice_regression/Capstone_project/chb-mit-scalp-eeg-database-1.0.0/chb01'\n",
    "\n",
    "# Create an empty list to store raw data\n",
    "patient_raws = []\n",
    "\n",
    "# Create an empty list to store file names\n",
    "file_names = []\n",
    "\n",
    "# Get a list of .edf files sorted by filename numbers\n",
    "edf_files = sorted([f for f in os.listdir(patient_folder) if f.endswith('.edf')])\n",
    "\n",
    "# Read the first .edf file to obtain the channel information\n",
    "first_file_path = os.path.join(patient_folder, edf_files[0])\n",
    "first_raw = mne.io.read_raw_edf(first_file_path, preload=True)\n",
    "\n",
    "# Loop through the sorted .edf files\n",
    "for file in edf_files:\n",
    "    file_path = os.path.join(patient_folder, file)\n",
    "    raw = mne.io.read_raw_edf(file_path, preload=True)\n",
    "    raw_downsampled = raw.copy().resample(sfreq=128)\n",
    "    \n",
    "\n",
    "    # Set the channel information for each Raw object to match the first Raw object\n",
    "    raw_downsampled.info = first_raw.info\n",
    "\n",
    "    patient_raws.append(raw_downsampled)\n",
    "    file_names.extend([file] * len(raw_downsampled.times))\n",
    "\n",
    "# Concatenate the raw objects into a single patient_combined object while maintaining a continuous time axis\n",
    "patient_combined = mne.concatenate_raws(patient_raws, preload=True)\n",
    "\n",
    "\n",
    "# Print info about the combined raw object for this patient\n",
    "print(patient_combined.info)\n",
    "\n",
    "# You now have the EEG data from the .edf files in the patient folder in one patient_combined object with a continuous time axis.\n"
   ]
  },
  {
   "cell_type": "code",
   "execution_count": 14,
   "metadata": {},
   "outputs": [],
   "source": [
    "df = patient_combined.to_data_frame()\n",
    "# Add a new column to the DataFrame to indicate the source file name\n",
    "df['File Name'] = file_names"
   ]
  },
  {
   "cell_type": "code",
   "execution_count": 15,
   "metadata": {},
   "outputs": [
    {
     "data": {
      "text/plain": [
       "(18686464, 25)"
      ]
     },
     "execution_count": 15,
     "metadata": {},
     "output_type": "execute_result"
    }
   ],
   "source": [
    "df.shape"
   ]
  },
  {
   "cell_type": "code",
   "execution_count": 16,
   "metadata": {},
   "outputs": [
    {
     "data": {
      "text/plain": [
       "pandas.core.frame.DataFrame"
      ]
     },
     "execution_count": 16,
     "metadata": {},
     "output_type": "execute_result"
    }
   ],
   "source": [
    "type(df)"
   ]
  },
  {
   "cell_type": "code",
   "execution_count": 18,
   "metadata": {},
   "outputs": [
    {
     "data": {
      "text/html": [
       "<div>\n",
       "<style scoped>\n",
       "    .dataframe tbody tr th:only-of-type {\n",
       "        vertical-align: middle;\n",
       "    }\n",
       "\n",
       "    .dataframe tbody tr th {\n",
       "        vertical-align: top;\n",
       "    }\n",
       "\n",
       "    .dataframe thead th {\n",
       "        text-align: right;\n",
       "    }\n",
       "</style>\n",
       "<table border=\"1\" class=\"dataframe\">\n",
       "  <thead>\n",
       "    <tr style=\"text-align: right;\">\n",
       "      <th></th>\n",
       "      <th>time</th>\n",
       "      <th>FP1-F7</th>\n",
       "      <th>F7-T7</th>\n",
       "      <th>T7-P7</th>\n",
       "      <th>P7-O1</th>\n",
       "      <th>FP1-F3</th>\n",
       "      <th>F3-C3</th>\n",
       "      <th>C3-P3</th>\n",
       "      <th>P3-O1</th>\n",
       "      <th>FP2-F4</th>\n",
       "      <th>...</th>\n",
       "      <th>T8-P8-0</th>\n",
       "      <th>P8-O2</th>\n",
       "      <th>FZ-CZ</th>\n",
       "      <th>CZ-PZ</th>\n",
       "      <th>P7-T7</th>\n",
       "      <th>T7-FT9</th>\n",
       "      <th>FT9-FT10</th>\n",
       "      <th>FT10-T8</th>\n",
       "      <th>T8-P8-1</th>\n",
       "      <th>File Name</th>\n",
       "    </tr>\n",
       "  </thead>\n",
       "  <tbody>\n",
       "    <tr>\n",
       "      <th>0</th>\n",
       "      <td>0.000000</td>\n",
       "      <td>-145.889824</td>\n",
       "      <td>-104.437950</td>\n",
       "      <td>-42.712763</td>\n",
       "      <td>-33.231272</td>\n",
       "      <td>-170.898152</td>\n",
       "      <td>-110.662484</td>\n",
       "      <td>11.982817</td>\n",
       "      <td>-56.693821</td>\n",
       "      <td>-139.224010</td>\n",
       "      <td>...</td>\n",
       "      <td>44.764205</td>\n",
       "      <td>74.665696</td>\n",
       "      <td>-106.011537</td>\n",
       "      <td>84.636952</td>\n",
       "      <td>43.103484</td>\n",
       "      <td>-57.184707</td>\n",
       "      <td>-264.745427</td>\n",
       "      <td>94.719394</td>\n",
       "      <td>44.764205</td>\n",
       "      <td>chb01_01.edf</td>\n",
       "    </tr>\n",
       "    <tr>\n",
       "      <th>1</th>\n",
       "      <td>0.003906</td>\n",
       "      <td>19.998681</td>\n",
       "      <td>14.586589</td>\n",
       "      <td>5.942093</td>\n",
       "      <td>5.114176</td>\n",
       "      <td>23.455757</td>\n",
       "      <td>15.226859</td>\n",
       "      <td>-1.495469</td>\n",
       "      <td>8.265635</td>\n",
       "      <td>19.049821</td>\n",
       "      <td>...</td>\n",
       "      <td>-5.903085</td>\n",
       "      <td>-11.423631</td>\n",
       "      <td>14.619662</td>\n",
       "      <td>-11.367358</td>\n",
       "      <td>-5.551373</td>\n",
       "      <td>7.423304</td>\n",
       "      <td>37.449772</td>\n",
       "      <td>-12.575222</td>\n",
       "      <td>-5.903085</td>\n",
       "      <td>chb01_01.edf</td>\n",
       "    </tr>\n",
       "    <tr>\n",
       "      <th>2</th>\n",
       "      <td>0.007812</td>\n",
       "      <td>-10.400608</td>\n",
       "      <td>-7.840311</td>\n",
       "      <td>-2.702939</td>\n",
       "      <td>-2.982295</td>\n",
       "      <td>-12.495403</td>\n",
       "      <td>-8.041283</td>\n",
       "      <td>1.278082</td>\n",
       "      <td>-4.729659</td>\n",
       "      <td>-9.780279</td>\n",
       "      <td>...</td>\n",
       "      <td>3.634643</td>\n",
       "      <td>8.669002</td>\n",
       "      <td>-7.695286</td>\n",
       "      <td>6.598238</td>\n",
       "      <td>3.093659</td>\n",
       "      <td>-2.615871</td>\n",
       "      <td>-22.604027</td>\n",
       "      <td>6.888621</td>\n",
       "      <td>3.634643</td>\n",
       "      <td>chb01_01.edf</td>\n",
       "    </tr>\n",
       "    <tr>\n",
       "      <th>3</th>\n",
       "      <td>0.011719</td>\n",
       "      <td>7.521448</td>\n",
       "      <td>2.545940</td>\n",
       "      <td>4.279262</td>\n",
       "      <td>1.486770</td>\n",
       "      <td>7.968614</td>\n",
       "      <td>5.961491</td>\n",
       "      <td>-0.573553</td>\n",
       "      <td>3.144477</td>\n",
       "      <td>7.997345</td>\n",
       "      <td>...</td>\n",
       "      <td>-2.189232</td>\n",
       "      <td>2.133745</td>\n",
       "      <td>4.962829</td>\n",
       "      <td>-4.438937</td>\n",
       "      <td>-3.888542</td>\n",
       "      <td>5.468633</td>\n",
       "      <td>12.280984</td>\n",
       "      <td>-4.141289</td>\n",
       "      <td>-2.189232</td>\n",
       "      <td>chb01_01.edf</td>\n",
       "    </tr>\n",
       "    <tr>\n",
       "      <th>4</th>\n",
       "      <td>0.015625</td>\n",
       "      <td>-6.548636</td>\n",
       "      <td>-2.030466</td>\n",
       "      <td>-4.010286</td>\n",
       "      <td>0.332089</td>\n",
       "      <td>-6.684477</td>\n",
       "      <td>-4.638781</td>\n",
       "      <td>-0.011514</td>\n",
       "      <td>-1.049334</td>\n",
       "      <td>-5.965863</td>\n",
       "      <td>...</td>\n",
       "      <td>2.918519</td>\n",
       "      <td>-8.928768</td>\n",
       "      <td>-4.007684</td>\n",
       "      <td>3.505916</td>\n",
       "      <td>4.401006</td>\n",
       "      <td>-7.245550</td>\n",
       "      <td>-5.458360</td>\n",
       "      <td>4.351446</td>\n",
       "      <td>2.918519</td>\n",
       "      <td>chb01_01.edf</td>\n",
       "    </tr>\n",
       "  </tbody>\n",
       "</table>\n",
       "<p>5 rows × 25 columns</p>\n",
       "</div>"
      ],
      "text/plain": [
       "       time      FP1-F7       F7-T7      T7-P7      P7-O1      FP1-F3  \\\n",
       "0  0.000000 -145.889824 -104.437950 -42.712763 -33.231272 -170.898152   \n",
       "1  0.003906   19.998681   14.586589   5.942093   5.114176   23.455757   \n",
       "2  0.007812  -10.400608   -7.840311  -2.702939  -2.982295  -12.495403   \n",
       "3  0.011719    7.521448    2.545940   4.279262   1.486770    7.968614   \n",
       "4  0.015625   -6.548636   -2.030466  -4.010286   0.332089   -6.684477   \n",
       "\n",
       "        F3-C3      C3-P3      P3-O1      FP2-F4  ...    T8-P8-0      P8-O2  \\\n",
       "0 -110.662484  11.982817 -56.693821 -139.224010  ...  44.764205  74.665696   \n",
       "1   15.226859  -1.495469   8.265635   19.049821  ...  -5.903085 -11.423631   \n",
       "2   -8.041283   1.278082  -4.729659   -9.780279  ...   3.634643   8.669002   \n",
       "3    5.961491  -0.573553   3.144477    7.997345  ...  -2.189232   2.133745   \n",
       "4   -4.638781  -0.011514  -1.049334   -5.965863  ...   2.918519  -8.928768   \n",
       "\n",
       "        FZ-CZ      CZ-PZ      P7-T7     T7-FT9    FT9-FT10    FT10-T8  \\\n",
       "0 -106.011537  84.636952  43.103484 -57.184707 -264.745427  94.719394   \n",
       "1   14.619662 -11.367358  -5.551373   7.423304   37.449772 -12.575222   \n",
       "2   -7.695286   6.598238   3.093659  -2.615871  -22.604027   6.888621   \n",
       "3    4.962829  -4.438937  -3.888542   5.468633   12.280984  -4.141289   \n",
       "4   -4.007684   3.505916   4.401006  -7.245550   -5.458360   4.351446   \n",
       "\n",
       "     T8-P8-1     File Name  \n",
       "0  44.764205  chb01_01.edf  \n",
       "1  -5.903085  chb01_01.edf  \n",
       "2   3.634643  chb01_01.edf  \n",
       "3  -2.189232  chb01_01.edf  \n",
       "4   2.918519  chb01_01.edf  \n",
       "\n",
       "[5 rows x 25 columns]"
      ]
     },
     "execution_count": 18,
     "metadata": {},
     "output_type": "execute_result"
    }
   ],
   "source": [
    "df.head()"
   ]
  }
 ],
 "metadata": {
  "kernelspec": {
   "display_name": ".venv",
   "language": "python",
   "name": "python3"
  },
  "language_info": {
   "codemirror_mode": {
    "name": "ipython",
    "version": 3
   },
   "file_extension": ".py",
   "mimetype": "text/x-python",
   "name": "python",
   "nbconvert_exporter": "python",
   "pygments_lexer": "ipython3",
   "version": "3.11.3"
  }
 },
 "nbformat": 4,
 "nbformat_minor": 2
}
