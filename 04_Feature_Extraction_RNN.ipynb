{
 "cells": [
  {
   "cell_type": "code",
<<<<<<< Updated upstream
   "execution_count": 1,
=======
   "execution_count": 127,
>>>>>>> Stashed changes
   "metadata": {},
   "outputs": [
    {
     "name": "stdout",
     "output_type": "stream",
     "text": [
      "loaded channel names: ['F4-C4', 'F3-C3', 'FT9-FT10', 'FZ-CZ', 'F7-T7', 'FP2-F4', 'T8-P8-1', 'T8-P8-0', 'FP1-F3', 'CZ-PZ']\n"
     ]
    }
   ],
   "source": [
    "import pandas as pd\n",
    "import numpy as np\n",
    "from source import data_import\n",
    "from source.calculate_mean_psd import calculate_mean_psd\n",
    "from source.constants import CHANNELS, FREQUENCY_RANGES\n",
    "\n",
    "print(f\"loaded channel names: {CHANNELS}\")"
   ]
  },
  {
   "cell_type": "code",
<<<<<<< Updated upstream
   "execution_count": 2,
=======
   "execution_count": 128,
>>>>>>> Stashed changes
   "metadata": {},
   "outputs": [
    {
     "name": "stdout",
     "output_type": "stream",
     "text": [
<<<<<<< Updated upstream
      "/home/weasel/reps/ai-seizure-detectives/source/../data/segmented_data_300.arrow was loaded.\n"
=======
      "/home/weasel/reps/ai-seizure-detectives/source/../data/preprocessed_seg_all_60_300gap.arrow was loaded.\n"
>>>>>>> Stashed changes
     ]
    },
    {
     "data": {
      "text/plain": [
<<<<<<< Updated upstream
       "(33561600, 17)"
      ]
     },
     "execution_count": 2,
=======
       "(6574080, 17)"
      ]
     },
     "execution_count": 128,
>>>>>>> Stashed changes
     "metadata": {},
     "output_type": "execute_result"
    }
   ],
   "source": [
    "py_arrow_segment_file_name = \"segmented_data_300\"\n",
    "np_file_name = \"segmented_data_300\"\n",
    "# load data\n",
<<<<<<< Updated upstream
    "df_pp = data_import.load_pyarrow(file_name=py_arrow_segment_file_name)\n",
=======
    "df_pp = data_import.load_pyarrow(file_name=\"preprocessed_seg_all_60_300gap\")\n",
>>>>>>> Stashed changes
    "df_pp.shape"
   ]
  },
  {
   "cell_type": "code",
<<<<<<< Updated upstream
   "execution_count": 3,
=======
   "execution_count": 129,
>>>>>>> Stashed changes
   "metadata": {},
   "outputs": [
    {
     "data": {
      "text/plain": [
       "channel\n",
       "F7-T7             0\n",
       "FP1-F3            0\n",
       "F3-C3             0\n",
       "FP2-F4            0\n",
       "F4-C4             0\n",
       "T8-P8-0           0\n",
       "FZ-CZ             0\n",
       "CZ-PZ             0\n",
       "FT9-FT10          0\n",
       "T8-P8-1           0\n",
       "is_seizure        0\n",
       "before_seizure    0\n",
       "file              0\n",
       "seizure_start     0\n",
       "target            0\n",
       "epoch             0\n",
       "segment_id        0\n",
       "dtype: int64"
      ]
     },
     "execution_count": 3,
     "metadata": {},
     "output_type": "execute_result"
    }
   ],
   "source": [
<<<<<<< Updated upstream
    "df_pp.isna().sum()"
=======
    "test= df_pp.drop(['target'],axis=1)\n",
    "missing_data = np.isnan(test)\n",
    "missing_count = missing_data.sum()\n",
    "\n",
    "# Display the count of missing values\n",
    "print(missing_count)"
>>>>>>> Stashed changes
   ]
  },
  {
   "cell_type": "code",
<<<<<<< Updated upstream
   "execution_count": 4,
=======
   "execution_count": 130,
>>>>>>> Stashed changes
   "metadata": {},
   "outputs": [
    {
     "data": {
      "text/plain": [
       "(33561600, 17)"
      ]
     },
     "execution_count": 4,
     "metadata": {},
     "output_type": "execute_result"
    }
   ],
   "source": [
    "df_pp.shape"
   ]
  },
  {
   "cell_type": "code",
   "execution_count": 11,
   "metadata": {},
   "outputs": [
    {
     "data": {
      "text/plain": [
       "array([1.33617031e+02, 6.79883614e+02, 5.60459699e+02, 2.84056740e+02,\n",
       "       1.56091960e+02, 9.09543689e+01, 5.37764680e+01, 3.57499764e+01,\n",
       "       2.82162949e+01, 1.80549309e+01, 1.29651234e+01, 1.51794595e+01,\n",
       "       2.18835322e+01, 1.17059932e+01, 8.59736083e+00, 1.19459915e+01,\n",
       "       2.11182341e+01, 1.22855652e+01, 9.47673116e+00, 1.06786219e+01,\n",
       "       1.39763280e+01, 1.16029194e+01, 1.05082293e+01, 1.19290316e+01,\n",
       "       1.53512919e+01, 1.26771206e+01, 1.16187725e+01, 2.25264684e+01,\n",
       "       4.57138126e+01, 1.93670206e+01, 1.27333580e+01, 1.41298215e+01,\n",
       "       1.71990056e+01, 1.44662043e+01, 1.35388270e+01, 1.46519769e+01,\n",
       "       1.78544737e+01, 1.46552974e+01, 1.26931270e+01, 1.25815882e+01,\n",
       "       1.31905263e+01, 1.15302345e+01, 9.88827951e+00, 3.90704635e+01,\n",
       "       1.15096926e+02, 3.13122095e+01, 6.08300294e+00, 5.57003500e+00,\n",
       "       5.81081207e+00, 3.85894282e+00, 2.71452041e+00, 2.19051921e+00,\n",
       "       2.04218784e+00, 1.37057212e+00, 9.51742118e-01, 7.70347292e-01,\n",
       "       6.47703838e-01, 5.13479935e-01, 4.25404229e-01, 8.72329686e+00,\n",
       "       3.36722913e+01, 8.72707796e+00, 3.82534256e-01, 4.06614550e-01,\n",
       "       4.72270099e-01, 5.11488384e-01, 6.11663099e-01, 8.22382321e-01,\n",
       "       1.21832315e+00, 1.25464218e+00, 1.45147715e+00, 1.93796349e+00,\n",
       "       2.58812797e+00, 2.53821163e+00, 2.81136316e+00, 3.16903113e+01,\n",
       "       1.15589885e+02, 3.18359638e+01, 3.89658655e+00, 4.32732708e+00,\n",
       "       5.50733042e+00, 4.53813480e+00, 3.97576959e+00, 4.32698334e+00,\n",
       "       5.41295139e+00, 4.10867574e+00, 3.40259374e+00, 3.74629873e+00,\n",
       "       4.57936173e+00, 3.14730475e+00, 2.62291910e+00, 4.52897464e+00,\n",
       "       9.55631721e+00, 3.73991396e+00, 1.91354103e+00, 1.90621666e+00,\n",
       "       2.25462449e+00, 1.80828985e+00, 1.48566735e+00, 1.57734865e+00,\n",
       "       1.99091684e+00, 1.48181144e+00, 1.27096004e+00, 1.62947670e+00,\n",
       "       2.54109245e+00, 1.53126522e+00, 1.18257072e+00, 1.51453185e+00,\n",
       "       2.27627303e+00, 1.35035671e+00, 1.05675142e+00, 1.13153299e+00,\n",
       "       1.35855780e+00, 1.09993334e+00, 9.07389134e-01, 9.59486108e-01,\n",
       "       1.21767708e+00, 9.15953527e-01, 7.93920036e-01, 1.39451069e+00,\n",
       "       2.97713019e+00, 1.30932448e+00, 6.46318006e-01, 6.91064148e-01,\n",
       "       8.75687382e-01, 6.28390873e-01, 5.45349984e-01, 6.04961015e-01,\n",
       "       3.66081645e-01])"
      ]
     },
     "execution_count": 11,
     "metadata": {},
     "output_type": "execute_result"
    }
   ],
   "source": [
    "# df_pp = df_pp.iloc[:2_000_000,:]\n",
    "# df_pp.shape\n",
    "\n",
    "from scipy.signal import welch\n",
    "f, Pxx = welch(df_pp['F7-T7'], fs=256, nperseg=256, noverlap=128, detrend=\"constant\", scaling=\"density\")\n",
    "\n",
    "# import matplotlib.pyplot as plt\n",
    "# plt.pcolormesh(df_pp.index, f, 10 * np.log10(Pxx))  # Converting to dB scale\n",
    "# plt.ylabel('Frequency [Hz]')\n",
    "# plt.xlabel('Time [sec]')\n",
    "# plt.colorbar(label='Power Spectral Density (dB)')\n",
    "# plt.show()\n",
    "\n",
    "Pxx"
   ]
  },
  {
   "cell_type": "markdown",
   "metadata": {},
   "source": [
    "## Feature Extraction"
   ]
  },
  {
   "cell_type": "code",
<<<<<<< Updated upstream
   "execution_count": 8,
=======
   "execution_count": 131,
>>>>>>> Stashed changes
   "metadata": {},
   "outputs": [],
   "source": [
    "# ignore for aggregation\n",
    "ignore_col = ['psd']\n",
    "\n",
    "# target definition\n",
    "PRED_INTERVAL = 1000\n",
    "target_colname = 'target'"
   ]
  },
  {
   "cell_type": "code",
<<<<<<< Updated upstream
   "execution_count": 9,
=======
   "execution_count": 132,
>>>>>>> Stashed changes
   "metadata": {},
   "outputs": [],
   "source": [
    "### aggregate Functions for mean psd:\n",
    "delta = lambda x: calculate_mean_psd(x, frequency_ranges={'Delta' : FREQUENCY_RANGES['Delta']})[x.name]['Delta']\n",
    "theta = lambda x: calculate_mean_psd(x, frequency_ranges={'Theta' : FREQUENCY_RANGES['Theta']})[x.name]['Theta']\n",
    "gamma = lambda x: calculate_mean_psd(x, frequency_ranges={'Gamma': FREQUENCY_RANGES['Gamma']})[x.name]['Gamma']\n",
    "\n",
    "delta_agg = pd.NamedAgg(column='delta', aggfunc=delta)\n",
    "theta_agg = pd.NamedAgg(column='theta', aggfunc=theta)\n",
    "gamma_agg = pd.NamedAgg(column='gamma', aggfunc=gamma)\n",
    "\n",
    "### aggregate Functions for target:\n",
    "target_foo = lambda x, pred_interval=PRED_INTERVAL: 0 < x.dt.total_seconds().min() < pred_interval\n"
   ]
  },
  {
   "cell_type": "code",
<<<<<<< Updated upstream
   "execution_count": 10,
=======
   "execution_count": 133,
>>>>>>> Stashed changes
   "metadata": {},
   "outputs": [],
   "source": [
    "abs_mean = lambda x: x.apply(abs).mean()\n",
    "abs_mean_agg = pd.NamedAgg(column='abs_mean', aggfunc=abs_mean)"
   ]
  },
  {
   "cell_type": "code",
<<<<<<< Updated upstream
   "execution_count": null,
   "metadata": {},
   "outputs": [],
   "source": [
    "# nice to add:\n",
    "    # maximum\n",
    "    # 80% maximum\n",
    "    # hits above 80% maximum\n"
   ]
  },
  {
   "cell_type": "code",
   "execution_count": 11,
=======
   "execution_count": 134,
>>>>>>> Stashed changes
   "metadata": {},
   "outputs": [
    {
     "data": {
      "text/html": [
       "<div>\n",
       "<style scoped>\n",
       "    .dataframe tbody tr th:only-of-type {\n",
       "        vertical-align: middle;\n",
       "    }\n",
       "\n",
       "    .dataframe tbody tr th {\n",
       "        vertical-align: top;\n",
       "    }\n",
       "\n",
       "    .dataframe thead tr th {\n",
       "        text-align: left;\n",
       "    }\n",
       "\n",
       "    .dataframe thead tr:last-of-type th {\n",
       "        text-align: right;\n",
       "    }\n",
       "</style>\n",
       "<table border=\"1\" class=\"dataframe\">\n",
       "  <thead>\n",
       "    <tr>\n",
       "      <th></th>\n",
       "      <th>channel</th>\n",
       "      <th colspan=\"7\" halign=\"left\">F4-C4</th>\n",
       "      <th colspan=\"3\" halign=\"left\">F3-C3</th>\n",
       "      <th>...</th>\n",
       "      <th colspan=\"2\" halign=\"left\">FP1-F3</th>\n",
       "      <th colspan=\"7\" halign=\"left\">CZ-PZ</th>\n",
       "      <th>target</th>\n",
       "    </tr>\n",
       "    <tr>\n",
       "      <th></th>\n",
       "      <th></th>\n",
       "      <th>std</th>\n",
       "      <th>var</th>\n",
       "      <th>mean</th>\n",
       "      <th>abs_mean</th>\n",
       "      <th>delta</th>\n",
       "      <th>theta</th>\n",
       "      <th>gamma</th>\n",
       "      <th>std</th>\n",
       "      <th>var</th>\n",
       "      <th>mean</th>\n",
       "      <th>...</th>\n",
       "      <th>theta</th>\n",
       "      <th>gamma</th>\n",
       "      <th>std</th>\n",
       "      <th>var</th>\n",
       "      <th>mean</th>\n",
       "      <th>abs_mean</th>\n",
       "      <th>delta</th>\n",
       "      <th>theta</th>\n",
       "      <th>gamma</th>\n",
       "      <th>&lt;lambda&gt;</th>\n",
       "    </tr>\n",
       "    <tr>\n",
       "      <th>epoch</th>\n",
       "      <th>segment_id</th>\n",
       "      <th></th>\n",
       "      <th></th>\n",
       "      <th></th>\n",
       "      <th></th>\n",
       "      <th></th>\n",
       "      <th></th>\n",
       "      <th></th>\n",
       "      <th></th>\n",
       "      <th></th>\n",
       "      <th></th>\n",
       "      <th></th>\n",
       "      <th></th>\n",
       "      <th></th>\n",
       "      <th></th>\n",
       "      <th></th>\n",
       "      <th></th>\n",
       "      <th></th>\n",
       "      <th></th>\n",
       "      <th></th>\n",
       "      <th></th>\n",
       "      <th></th>\n",
       "    </tr>\n",
       "  </thead>\n",
       "  <tbody>\n",
       "    <tr>\n",
       "      <th rowspan=\"5\" valign=\"top\">0</th>\n",
       "      <th>0</th>\n",
<<<<<<< Updated upstream
       "      <td>28.591644</td>\n",
       "      <td>817.482095</td>\n",
       "      <td>5.700549</td>\n",
       "      <td>23.484432</td>\n",
       "      <td>90.752080</td>\n",
       "      <td>22.017557</td>\n",
       "      <td>1.358653</td>\n",
       "      <td>26.327333</td>\n",
       "      <td>693.128467</td>\n",
       "      <td>10.578449</td>\n",
=======
       "      <td>28.535956</td>\n",
       "      <td>814.300765</td>\n",
       "      <td>23.474976</td>\n",
       "      <td>91.216311</td>\n",
       "      <td>22.066200</td>\n",
       "      <td>1.361588</td>\n",
       "      <td>26.318663</td>\n",
       "      <td>692.672009</td>\n",
       "      <td>22.161551</td>\n",
       "      <td>84.172459</td>\n",
>>>>>>> Stashed changes
       "      <td>...</td>\n",
       "      <td>131.355683</td>\n",
       "      <td>24.845281</td>\n",
       "      <td>15.917382</td>\n",
       "      <td>253.363046</td>\n",
       "      <td>-2.052808</td>\n",
       "      <td>12.764042</td>\n",
       "      <td>16.860269</td>\n",
       "      <td>9.121391</td>\n",
       "      <td>0.392502</td>\n",
       "      <td>False</td>\n",
       "    </tr>\n",
       "    <tr>\n",
       "      <th>1</th>\n",
<<<<<<< Updated upstream
       "      <td>15.703171</td>\n",
       "      <td>246.589589</td>\n",
       "      <td>1.385836</td>\n",
       "      <td>12.170330</td>\n",
       "      <td>38.092166</td>\n",
       "      <td>5.071763</td>\n",
       "      <td>2.198591</td>\n",
       "      <td>17.862862</td>\n",
       "      <td>319.081827</td>\n",
       "      <td>4.810745</td>\n",
=======
       "      <td>15.763829</td>\n",
       "      <td>248.498306</td>\n",
       "      <td>12.224155</td>\n",
       "      <td>38.354721</td>\n",
       "      <td>5.081434</td>\n",
       "      <td>2.206003</td>\n",
       "      <td>17.842494</td>\n",
       "      <td>318.354586</td>\n",
       "      <td>14.392837</td>\n",
       "      <td>52.233751</td>\n",
>>>>>>> Stashed changes
       "      <td>...</td>\n",
       "      <td>18.431833</td>\n",
       "      <td>26.286171</td>\n",
       "      <td>19.462216</td>\n",
       "      <td>378.777839</td>\n",
       "      <td>-2.988400</td>\n",
       "      <td>15.975275</td>\n",
       "      <td>77.629197</td>\n",
       "      <td>10.970848</td>\n",
       "      <td>0.323111</td>\n",
       "      <td>False</td>\n",
       "    </tr>\n",
       "    <tr>\n",
       "      <th>2</th>\n",
       "      <td>15.430893</td>\n",
       "      <td>238.112444</td>\n",
       "      <td>-0.270147</td>\n",
       "      <td>12.554945</td>\n",
       "      <td>37.880881</td>\n",
       "      <td>17.995183</td>\n",
       "      <td>1.250724</td>\n",
       "      <td>17.298442</td>\n",
       "      <td>299.236084</td>\n",
       "      <td>-3.395910</td>\n",
       "      <td>...</td>\n",
       "      <td>12.845020</td>\n",
       "      <td>19.786654</td>\n",
       "      <td>10.909920</td>\n",
       "      <td>119.026364</td>\n",
       "      <td>12.789988</td>\n",
       "      <td>14.157509</td>\n",
       "      <td>12.582095</td>\n",
       "      <td>10.424822</td>\n",
       "      <td>0.183952</td>\n",
       "      <td>False</td>\n",
       "    </tr>\n",
       "    <tr>\n",
       "      <th>3</th>\n",
       "      <td>19.565103</td>\n",
       "      <td>382.793261</td>\n",
       "      <td>-0.798230</td>\n",
       "      <td>14.752747</td>\n",
       "      <td>17.753778</td>\n",
       "      <td>14.348884</td>\n",
       "      <td>0.886124</td>\n",
       "      <td>23.817424</td>\n",
       "      <td>567.269685</td>\n",
       "      <td>-7.261905</td>\n",
       "      <td>...</td>\n",
       "      <td>11.210357</td>\n",
       "      <td>28.438759</td>\n",
       "      <td>16.653185</td>\n",
       "      <td>277.328577</td>\n",
       "      <td>-3.002137</td>\n",
       "      <td>13.487485</td>\n",
       "      <td>17.957038</td>\n",
       "      <td>20.901462</td>\n",
       "      <td>0.236749</td>\n",
       "      <td>False</td>\n",
       "    </tr>\n",
       "    <tr>\n",
       "      <th>4</th>\n",
       "      <td>11.894778</td>\n",
       "      <td>141.485738</td>\n",
       "      <td>2.368742</td>\n",
       "      <td>9.621490</td>\n",
       "      <td>11.566655</td>\n",
       "      <td>5.349397</td>\n",
       "      <td>0.662431</td>\n",
       "      <td>14.410295</td>\n",
       "      <td>207.656590</td>\n",
       "      <td>0.511294</td>\n",
       "      <td>...</td>\n",
       "      <td>14.802946</td>\n",
       "      <td>15.672533</td>\n",
       "      <td>11.435759</td>\n",
       "      <td>130.776582</td>\n",
       "      <td>-1.312576</td>\n",
       "      <td>8.847680</td>\n",
       "      <td>15.219390</td>\n",
       "      <td>8.397903</td>\n",
       "      <td>0.372599</td>\n",
       "      <td>False</td>\n",
       "    </tr>\n",
       "  </tbody>\n",
       "</table>\n",
       "<p>5 rows × 71 columns</p>\n",
       "</div>"
      ],
      "text/plain": [
<<<<<<< Updated upstream
       "channel               F4-C4                                              \\\n",
       "                        std         var      mean   abs_mean      delta   \n",
       "epoch segment_id                                                          \n",
       "0     0           28.591644  817.482095  5.700549  23.484432  90.752080   \n",
       "      1           15.703171  246.589589  1.385836  12.170330  38.092166   \n",
       "      2           15.430893  238.112444 -0.270147  12.554945  37.880881   \n",
       "      3           19.565103  382.793261 -0.798230  14.752747  17.753778   \n",
       "      4           11.894778  141.485738  2.368742   9.621490  11.566655   \n",
=======
       "channel               F4-C4                                               \\\n",
       "                        std         var   abs_mean      delta      theta   \n",
       "epoch segment_id                                                           \n",
       "0     0           28.535956  814.300765  23.474976  91.216311  22.066200   \n",
       "      1           15.763829  248.498306  12.224155  38.354721   5.081434   \n",
       "      2           15.423302  237.878237  12.624893  37.979591  17.939820   \n",
       "      3           19.534544  381.598402  14.705306  17.657032  14.363613   \n",
       "      4           11.926589  142.243524   9.669304  11.649572   5.357976   \n",
>>>>>>> Stashed changes
       "\n",
       "channel                                    F3-C3                         ...  \\\n",
       "                      theta     gamma        std         var       mean  ...   \n",
       "epoch segment_id                                                         ...   \n",
<<<<<<< Updated upstream
       "0     0           22.017557  1.358653  26.327333  693.128467  10.578449  ...   \n",
       "      1            5.071763  2.198591  17.862862  319.081827   4.810745  ...   \n",
       "      2           17.995183  1.250724  17.298442  299.236084  -3.395910  ...   \n",
       "      3           14.348884  0.886124  23.817424  567.269685  -7.261905  ...   \n",
       "      4            5.349397  0.662431  14.410295  207.656590   0.511294  ...   \n",
=======
       "0     0           1.361588  26.318663  692.672009  22.161551  84.172459  ...   \n",
       "      1           2.206003  17.842494  318.354586  14.392837  52.233751  ...   \n",
       "      2           1.250689  17.309557  299.620748  13.648520  71.069314  ...   \n",
       "      3           0.886137  23.789589  565.944568  19.939037  93.422189  ...   \n",
       "      4           0.655076  14.409950  207.646670  11.128378  24.074110  ...   \n",
>>>>>>> Stashed changes
       "\n",
       "channel               FP1-F3                 CZ-PZ                         \\\n",
       "                       theta      gamma        std         var       mean   \n",
       "epoch segment_id                                                            \n",
       "0     0           131.355683  24.845281  15.917382  253.363046  -2.052808   \n",
       "      1            18.431833  26.286171  19.462216  378.777839  -2.988400   \n",
       "      2            12.845020  19.786654  10.909920  119.026364  12.789988   \n",
       "      3            11.210357  28.438759  16.653185  277.328577  -3.002137   \n",
       "      4            14.802946  15.672533  11.435759  130.776582  -1.312576   \n",
       "\n",
       "channel                                                       target  \n",
       "                   abs_mean      delta      theta     gamma <lambda>  \n",
       "epoch segment_id                                                      \n",
       "0     0           12.764042  16.860269   9.121391  0.392502    False  \n",
       "      1           15.975275  77.629197  10.970848  0.323111    False  \n",
       "      2           14.157509  12.582095  10.424822  0.183952    False  \n",
       "      3           13.487485  17.957038  20.901462  0.236749    False  \n",
       "      4            8.847680  15.219390   8.397903  0.372599    False  \n",
       "\n",
       "[5 rows x 71 columns]"
      ]
     },
<<<<<<< Updated upstream
     "execution_count": 11,
=======
     "execution_count": 134,
>>>>>>> Stashed changes
     "metadata": {},
     "output_type": "execute_result"
    }
   ],
   "source": [
    "df_features = df_pp.groupby(['epoch', 'segment_id']).agg(\n",
    "    {C:[\n",
    "        # 'mean', \n",
    "        'std',\n",
    "        'var',\n",
    "        'mean',\n",
    "        abs_mean_agg,\n",
    "        delta_agg,\n",
    "        theta_agg,\n",
    "        gamma_agg\n",
    "        ] for C in CHANNELS} | \n",
    "    {target_colname: [target_foo]} \n",
    "    ) \n",
    "df_features.head()"
   ]
  },
  {
   "cell_type": "markdown",
   "metadata": {},
   "source": [
    "## Flatten Dataframe"
   ]
  },
  {
   "cell_type": "code",
<<<<<<< Updated upstream
   "execution_count": 12,
=======
   "execution_count": 135,
>>>>>>> Stashed changes
   "metadata": {},
   "outputs": [
    {
     "data": {
      "text/html": [
       "<div>\n",
       "<style scoped>\n",
       "    .dataframe tbody tr th:only-of-type {\n",
       "        vertical-align: middle;\n",
       "    }\n",
       "\n",
       "    .dataframe tbody tr th {\n",
       "        vertical-align: top;\n",
       "    }\n",
       "\n",
       "    .dataframe thead th {\n",
       "        text-align: right;\n",
       "    }\n",
       "</style>\n",
       "<table border=\"1\" class=\"dataframe\">\n",
       "  <thead>\n",
       "    <tr style=\"text-align: right;\">\n",
       "      <th></th>\n",
       "      <th>epoch</th>\n",
       "      <th>segment_id</th>\n",
       "      <th>F4-C4_std</th>\n",
       "      <th>F4-C4_var</th>\n",
       "      <th>F4-C4_mean</th>\n",
       "      <th>F4-C4_abs_mean</th>\n",
       "      <th>F4-C4_delta</th>\n",
       "      <th>F4-C4_theta</th>\n",
       "      <th>F4-C4_gamma</th>\n",
       "      <th>F3-C3_std</th>\n",
       "      <th>...</th>\n",
       "      <th>FP1-F3_theta</th>\n",
       "      <th>FP1-F3_gamma</th>\n",
       "      <th>CZ-PZ_std</th>\n",
       "      <th>CZ-PZ_var</th>\n",
       "      <th>CZ-PZ_mean</th>\n",
       "      <th>CZ-PZ_abs_mean</th>\n",
       "      <th>CZ-PZ_delta</th>\n",
       "      <th>CZ-PZ_theta</th>\n",
       "      <th>CZ-PZ_gamma</th>\n",
       "      <th>target</th>\n",
       "    </tr>\n",
       "  </thead>\n",
       "  <tbody>\n",
       "    <tr>\n",
<<<<<<< Updated upstream
       "      <th>0</th>\n",
       "      <td>0</td>\n",
       "      <td>0</td>\n",
       "      <td>28.591644</td>\n",
       "      <td>817.482095</td>\n",
       "      <td>5.700549</td>\n",
       "      <td>23.484432</td>\n",
       "      <td>90.752080</td>\n",
       "      <td>22.017557</td>\n",
       "      <td>1.358653</td>\n",
       "      <td>26.327333</td>\n",
       "      <td>...</td>\n",
       "      <td>131.355683</td>\n",
       "      <td>24.845281</td>\n",
       "      <td>15.917382</td>\n",
       "      <td>253.363046</td>\n",
       "      <td>-2.052808</td>\n",
       "      <td>12.764042</td>\n",
       "      <td>16.860269</td>\n",
       "      <td>9.121391</td>\n",
       "      <td>0.392502</td>\n",
       "      <td>False</td>\n",
       "    </tr>\n",
       "    <tr>\n",
       "      <th>1</th>\n",
       "      <td>0</td>\n",
       "      <td>1</td>\n",
       "      <td>15.703171</td>\n",
       "      <td>246.589589</td>\n",
       "      <td>1.385836</td>\n",
       "      <td>12.170330</td>\n",
       "      <td>38.092166</td>\n",
       "      <td>5.071763</td>\n",
       "      <td>2.198591</td>\n",
       "      <td>17.862862</td>\n",
       "      <td>...</td>\n",
       "      <td>18.431833</td>\n",
       "      <td>26.286171</td>\n",
       "      <td>19.462216</td>\n",
       "      <td>378.777839</td>\n",
       "      <td>-2.988400</td>\n",
       "      <td>15.975275</td>\n",
       "      <td>77.629197</td>\n",
       "      <td>10.970848</td>\n",
       "      <td>0.323111</td>\n",
       "      <td>False</td>\n",
       "    </tr>\n",
       "    <tr>\n",
       "      <th>2</th>\n",
       "      <td>0</td>\n",
       "      <td>2</td>\n",
       "      <td>15.430893</td>\n",
       "      <td>238.112444</td>\n",
       "      <td>-0.270147</td>\n",
       "      <td>12.554945</td>\n",
       "      <td>37.880881</td>\n",
       "      <td>17.995183</td>\n",
       "      <td>1.250724</td>\n",
       "      <td>17.298442</td>\n",
       "      <td>...</td>\n",
       "      <td>12.845020</td>\n",
       "      <td>19.786654</td>\n",
       "      <td>10.909920</td>\n",
       "      <td>119.026364</td>\n",
       "      <td>12.789988</td>\n",
       "      <td>14.157509</td>\n",
       "      <td>12.582095</td>\n",
       "      <td>10.424822</td>\n",
       "      <td>0.183952</td>\n",
       "      <td>False</td>\n",
       "    </tr>\n",
       "    <tr>\n",
       "      <th>3</th>\n",
       "      <td>0</td>\n",
       "      <td>3</td>\n",
       "      <td>19.565103</td>\n",
       "      <td>382.793261</td>\n",
       "      <td>-0.798230</td>\n",
       "      <td>14.752747</td>\n",
       "      <td>17.753778</td>\n",
       "      <td>14.348884</td>\n",
       "      <td>0.886124</td>\n",
       "      <td>23.817424</td>\n",
=======
       "      <th>25670</th>\n",
       "      <td>427</td>\n",
       "      <td>50</td>\n",
       "      <td>49.426071</td>\n",
       "      <td>2442.936515</td>\n",
       "      <td>41.038129</td>\n",
       "      <td>354.745654</td>\n",
       "      <td>26.726115</td>\n",
       "      <td>0.103330</td>\n",
       "      <td>52.659968</td>\n",
       "      <td>2773.072178</td>\n",
       "      <td>...</td>\n",
       "      <td>1472.675770</td>\n",
       "      <td>165.543483</td>\n",
       "      <td>0.196624</td>\n",
       "      <td>87.654792</td>\n",
       "      <td>7683.362622</td>\n",
       "      <td>67.680404</td>\n",
       "      <td>2366.065688</td>\n",
       "      <td>169.572076</td>\n",
       "      <td>0.082873</td>\n",
       "      <td>False</td>\n",
       "    </tr>\n",
       "    <tr>\n",
       "      <th>25671</th>\n",
       "      <td>427</td>\n",
       "      <td>51</td>\n",
       "      <td>55.503908</td>\n",
       "      <td>3080.683748</td>\n",
       "      <td>47.433894</td>\n",
       "      <td>725.909082</td>\n",
       "      <td>59.506356</td>\n",
       "      <td>0.084784</td>\n",
       "      <td>35.181746</td>\n",
       "      <td>1237.755256</td>\n",
       "      <td>...</td>\n",
       "      <td>1520.175067</td>\n",
       "      <td>180.597302</td>\n",
       "      <td>0.208722</td>\n",
       "      <td>70.857330</td>\n",
       "      <td>5020.761153</td>\n",
       "      <td>62.053315</td>\n",
       "      <td>716.101413</td>\n",
       "      <td>282.818599</td>\n",
       "      <td>0.081990</td>\n",
       "      <td>False</td>\n",
       "    </tr>\n",
       "    <tr>\n",
       "      <th>25672</th>\n",
       "      <td>427</td>\n",
       "      <td>52</td>\n",
       "      <td>62.204786</td>\n",
       "      <td>3869.435415</td>\n",
       "      <td>52.265716</td>\n",
       "      <td>1059.099059</td>\n",
       "      <td>160.637536</td>\n",
       "      <td>0.137019</td>\n",
       "      <td>49.545852</td>\n",
       "      <td>2454.791460</td>\n",
       "      <td>...</td>\n",
       "      <td>1178.475304</td>\n",
       "      <td>241.762279</td>\n",
       "      <td>0.105725</td>\n",
       "      <td>82.447462</td>\n",
       "      <td>6797.584027</td>\n",
       "      <td>68.099829</td>\n",
       "      <td>733.079397</td>\n",
       "      <td>110.030786</td>\n",
       "      <td>0.202845</td>\n",
       "      <td>False</td>\n",
       "    </tr>\n",
       "    <tr>\n",
       "      <th>25673</th>\n",
       "      <td>427</td>\n",
       "      <td>53</td>\n",
       "      <td>42.618013</td>\n",
       "      <td>1816.295023</td>\n",
       "      <td>41.814122</td>\n",
       "      <td>141.020374</td>\n",
       "      <td>23.248539</td>\n",
       "      <td>0.140314</td>\n",
       "      <td>57.418013</td>\n",
       "      <td>3296.828211</td>\n",
>>>>>>> Stashed changes
       "      <td>...</td>\n",
       "      <td>11.210357</td>\n",
       "      <td>28.438759</td>\n",
       "      <td>16.653185</td>\n",
       "      <td>277.328577</td>\n",
       "      <td>-3.002137</td>\n",
       "      <td>13.487485</td>\n",
       "      <td>17.957038</td>\n",
       "      <td>20.901462</td>\n",
       "      <td>0.236749</td>\n",
       "      <td>False</td>\n",
       "    </tr>\n",
       "    <tr>\n",
<<<<<<< Updated upstream
       "      <th>4</th>\n",
       "      <td>0</td>\n",
       "      <td>4</td>\n",
       "      <td>11.894778</td>\n",
       "      <td>141.485738</td>\n",
       "      <td>2.368742</td>\n",
       "      <td>9.621490</td>\n",
       "      <td>11.566655</td>\n",
       "      <td>5.349397</td>\n",
       "      <td>0.662431</td>\n",
       "      <td>14.410295</td>\n",
       "      <td>...</td>\n",
       "      <td>14.802946</td>\n",
       "      <td>15.672533</td>\n",
       "      <td>11.435759</td>\n",
       "      <td>130.776582</td>\n",
       "      <td>-1.312576</td>\n",
       "      <td>8.847680</td>\n",
       "      <td>15.219390</td>\n",
       "      <td>8.397903</td>\n",
       "      <td>0.372599</td>\n",
       "      <td>False</td>\n",
       "    </tr>\n",
       "    <tr>\n",
       "      <th>5</th>\n",
       "      <td>0</td>\n",
       "      <td>5</td>\n",
       "      <td>20.456250</td>\n",
       "      <td>418.458171</td>\n",
       "      <td>-1.413309</td>\n",
       "      <td>15.947802</td>\n",
       "      <td>52.580755</td>\n",
       "      <td>25.085792</td>\n",
       "      <td>2.709056</td>\n",
       "      <td>32.195808</td>\n",
=======
       "      <th>25674</th>\n",
       "      <td>427</td>\n",
       "      <td>54</td>\n",
       "      <td>39.495856</td>\n",
       "      <td>1559.922631</td>\n",
       "      <td>32.199412</td>\n",
       "      <td>137.840981</td>\n",
       "      <td>61.726881</td>\n",
       "      <td>0.135566</td>\n",
       "      <td>38.618930</td>\n",
       "      <td>1491.421782</td>\n",
       "      <td>...</td>\n",
       "      <td>380.973632</td>\n",
       "      <td>97.773307</td>\n",
       "      <td>0.080616</td>\n",
       "      <td>107.070449</td>\n",
       "      <td>11464.081081</td>\n",
       "      <td>77.342170</td>\n",
       "      <td>5628.331110</td>\n",
       "      <td>421.212656</td>\n",
       "      <td>0.103651</td>\n",
       "      <td>False</td>\n",
       "    </tr>\n",
       "    <tr>\n",
       "      <th>25675</th>\n",
       "      <td>427</td>\n",
       "      <td>55</td>\n",
       "      <td>42.199732</td>\n",
       "      <td>1780.817351</td>\n",
       "      <td>35.104197</td>\n",
       "      <td>199.294654</td>\n",
       "      <td>29.125047</td>\n",
       "      <td>0.095960</td>\n",
       "      <td>53.164338</td>\n",
       "      <td>2826.446864</td>\n",
>>>>>>> Stashed changes
       "      <td>...</td>\n",
       "      <td>544.425437</td>\n",
       "      <td>45.142188</td>\n",
       "      <td>21.627095</td>\n",
       "      <td>467.731229</td>\n",
       "      <td>3.047924</td>\n",
       "      <td>17.338217</td>\n",
       "      <td>25.949766</td>\n",
       "      <td>29.852899</td>\n",
       "      <td>0.244165</td>\n",
       "      <td>False</td>\n",
       "    </tr>\n",
       "    <tr>\n",
<<<<<<< Updated upstream
       "      <th>6</th>\n",
       "      <td>0</td>\n",
       "      <td>6</td>\n",
       "      <td>26.688526</td>\n",
       "      <td>712.277423</td>\n",
       "      <td>-3.447802</td>\n",
       "      <td>21.144689</td>\n",
       "      <td>164.351623</td>\n",
       "      <td>13.122467</td>\n",
       "      <td>0.693333</td>\n",
       "      <td>27.911897</td>\n",
=======
       "      <th>25676</th>\n",
       "      <td>427</td>\n",
       "      <td>56</td>\n",
       "      <td>79.495663</td>\n",
       "      <td>6319.560372</td>\n",
       "      <td>69.680987</td>\n",
       "      <td>766.586022</td>\n",
       "      <td>38.186860</td>\n",
       "      <td>0.070636</td>\n",
       "      <td>63.795168</td>\n",
       "      <td>4069.823446</td>\n",
>>>>>>> Stashed changes
       "      <td>...</td>\n",
       "      <td>18.646527</td>\n",
       "      <td>21.815430</td>\n",
       "      <td>17.049196</td>\n",
       "      <td>290.675092</td>\n",
       "      <td>-2.356532</td>\n",
       "      <td>13.824786</td>\n",
       "      <td>65.058987</td>\n",
       "      <td>15.267040</td>\n",
       "      <td>0.230536</td>\n",
       "      <td>False</td>\n",
       "    </tr>\n",
       "    <tr>\n",
<<<<<<< Updated upstream
       "      <th>7</th>\n",
       "      <td>0</td>\n",
       "      <td>7</td>\n",
       "      <td>15.269193</td>\n",
       "      <td>233.148259</td>\n",
       "      <td>-1.939866</td>\n",
       "      <td>12.332112</td>\n",
       "      <td>17.984758</td>\n",
       "      <td>6.736646</td>\n",
       "      <td>1.220931</td>\n",
       "      <td>21.066595</td>\n",
=======
       "      <th>25677</th>\n",
       "      <td>427</td>\n",
       "      <td>57</td>\n",
       "      <td>99.757496</td>\n",
       "      <td>9951.557973</td>\n",
       "      <td>88.135144</td>\n",
       "      <td>2072.322148</td>\n",
       "      <td>235.761249</td>\n",
       "      <td>0.087496</td>\n",
       "      <td>80.661890</td>\n",
       "      <td>6506.340433</td>\n",
>>>>>>> Stashed changes
       "      <td>...</td>\n",
       "      <td>22.841471</td>\n",
       "      <td>34.591868</td>\n",
       "      <td>14.515155</td>\n",
       "      <td>210.689727</td>\n",
       "      <td>-4.021673</td>\n",
       "      <td>11.527778</td>\n",
       "      <td>13.573702</td>\n",
       "      <td>13.476781</td>\n",
       "      <td>0.236498</td>\n",
       "      <td>False</td>\n",
       "    </tr>\n",
       "    <tr>\n",
<<<<<<< Updated upstream
       "      <th>8</th>\n",
       "      <td>0</td>\n",
       "      <td>8</td>\n",
       "      <td>14.091817</td>\n",
       "      <td>198.579312</td>\n",
       "      <td>2.806777</td>\n",
       "      <td>11.536935</td>\n",
       "      <td>14.936508</td>\n",
       "      <td>12.702729</td>\n",
       "      <td>1.284247</td>\n",
       "      <td>23.404054</td>\n",
       "      <td>...</td>\n",
       "      <td>27.785088</td>\n",
       "      <td>47.398717</td>\n",
       "      <td>17.921096</td>\n",
       "      <td>321.165669</td>\n",
       "      <td>1.355311</td>\n",
       "      <td>14.064408</td>\n",
       "      <td>49.629803</td>\n",
       "      <td>13.335399</td>\n",
       "      <td>0.331788</td>\n",
       "      <td>False</td>\n",
       "    </tr>\n",
       "    <tr>\n",
       "      <th>9</th>\n",
       "      <td>0</td>\n",
       "      <td>9</td>\n",
       "      <td>16.632450</td>\n",
       "      <td>276.638378</td>\n",
       "      <td>2.052808</td>\n",
       "      <td>14.285714</td>\n",
       "      <td>31.961215</td>\n",
       "      <td>5.704794</td>\n",
       "      <td>0.734911</td>\n",
       "      <td>20.025988</td>\n",
=======
       "      <th>25678</th>\n",
       "      <td>427</td>\n",
       "      <td>58</td>\n",
       "      <td>51.606989</td>\n",
       "      <td>2663.281313</td>\n",
       "      <td>44.737615</td>\n",
       "      <td>474.889864</td>\n",
       "      <td>188.909825</td>\n",
       "      <td>0.084074</td>\n",
       "      <td>41.174085</td>\n",
       "      <td>1695.305283</td>\n",
       "      <td>...</td>\n",
       "      <td>1239.941787</td>\n",
       "      <td>88.921867</td>\n",
       "      <td>0.112852</td>\n",
       "      <td>73.390298</td>\n",
       "      <td>5386.135892</td>\n",
       "      <td>61.355920</td>\n",
       "      <td>1415.989575</td>\n",
       "      <td>84.728257</td>\n",
       "      <td>0.114984</td>\n",
       "      <td>False</td>\n",
       "    </tr>\n",
       "    <tr>\n",
       "      <th>25679</th>\n",
       "      <td>427</td>\n",
       "      <td>59</td>\n",
       "      <td>33.692272</td>\n",
       "      <td>1135.169163</td>\n",
       "      <td>29.144569</td>\n",
       "      <td>84.911408</td>\n",
       "      <td>79.231900</td>\n",
       "      <td>0.156342</td>\n",
       "      <td>49.851065</td>\n",
       "      <td>2485.128682</td>\n",
>>>>>>> Stashed changes
       "      <td>...</td>\n",
       "      <td>13.757021</td>\n",
       "      <td>11.188177</td>\n",
       "      <td>17.468450</td>\n",
       "      <td>305.146732</td>\n",
       "      <td>-0.436508</td>\n",
       "      <td>13.904151</td>\n",
       "      <td>37.930194</td>\n",
       "      <td>30.099507</td>\n",
       "      <td>0.336281</td>\n",
       "      <td>False</td>\n",
       "    </tr>\n",
       "  </tbody>\n",
       "</table>\n",
       "<p>10 rows × 73 columns</p>\n",
       "</div>"
      ],
      "text/plain": [
<<<<<<< Updated upstream
       "   epoch  segment_id  F4-C4_std   F4-C4_var  F4-C4_mean  F4-C4_abs_mean  \\\n",
       "0      0           0  28.591644  817.482095    5.700549       23.484432   \n",
       "1      0           1  15.703171  246.589589    1.385836       12.170330   \n",
       "2      0           2  15.430893  238.112444   -0.270147       12.554945   \n",
       "3      0           3  19.565103  382.793261   -0.798230       14.752747   \n",
       "4      0           4  11.894778  141.485738    2.368742        9.621490   \n",
       "5      0           5  20.456250  418.458171   -1.413309       15.947802   \n",
       "6      0           6  26.688526  712.277423   -3.447802       21.144689   \n",
       "7      0           7  15.269193  233.148259   -1.939866       12.332112   \n",
       "8      0           8  14.091817  198.579312    2.806777       11.536935   \n",
       "9      0           9  16.632450  276.638378    2.052808       14.285714   \n",
       "\n",
       "   F4-C4_delta  F4-C4_theta  F4-C4_gamma  F3-C3_std  ...  FP1-F3_theta  \\\n",
       "0    90.752080    22.017557     1.358653  26.327333  ...    131.355683   \n",
       "1    38.092166     5.071763     2.198591  17.862862  ...     18.431833   \n",
       "2    37.880881    17.995183     1.250724  17.298442  ...     12.845020   \n",
       "3    17.753778    14.348884     0.886124  23.817424  ...     11.210357   \n",
       "4    11.566655     5.349397     0.662431  14.410295  ...     14.802946   \n",
       "5    52.580755    25.085792     2.709056  32.195808  ...    544.425437   \n",
       "6   164.351623    13.122467     0.693333  27.911897  ...     18.646527   \n",
       "7    17.984758     6.736646     1.220931  21.066595  ...     22.841471   \n",
       "8    14.936508    12.702729     1.284247  23.404054  ...     27.785088   \n",
       "9    31.961215     5.704794     0.734911  20.025988  ...     13.757021   \n",
       "\n",
       "   FP1-F3_gamma  CZ-PZ_std   CZ-PZ_var  CZ-PZ_mean  CZ-PZ_abs_mean  \\\n",
       "0     24.845281  15.917382  253.363046   -2.052808       12.764042   \n",
       "1     26.286171  19.462216  378.777839   -2.988400       15.975275   \n",
       "2     19.786654  10.909920  119.026364   12.789988       14.157509   \n",
       "3     28.438759  16.653185  277.328577   -3.002137       13.487485   \n",
       "4     15.672533  11.435759  130.776582   -1.312576        8.847680   \n",
       "5     45.142188  21.627095  467.731229    3.047924       17.338217   \n",
       "6     21.815430  17.049196  290.675092   -2.356532       13.824786   \n",
       "7     34.591868  14.515155  210.689727   -4.021673       11.527778   \n",
       "8     47.398717  17.921096  321.165669    1.355311       14.064408   \n",
       "9     11.188177  17.468450  305.146732   -0.436508       13.904151   \n",
       "\n",
       "   CZ-PZ_delta  CZ-PZ_theta  CZ-PZ_gamma  target  \n",
       "0    16.860269     9.121391     0.392502   False  \n",
       "1    77.629197    10.970848     0.323111   False  \n",
       "2    12.582095    10.424822     0.183952   False  \n",
       "3    17.957038    20.901462     0.236749   False  \n",
       "4    15.219390     8.397903     0.372599   False  \n",
       "5    25.949766    29.852899     0.244165   False  \n",
       "6    65.058987    15.267040     0.230536   False  \n",
       "7    13.573702    13.476781     0.236498   False  \n",
       "8    49.629803    13.335399     0.331788   False  \n",
       "9    37.930194    30.099507     0.336281   False  \n",
=======
       "       epoch  segment_id  F4-C4_std    F4-C4_var  F4-C4_abs_mean  F4-C4_delta  \\\n",
       "25670    427          50  49.426071  2442.936515       41.038129   354.745654   \n",
       "25671    427          51  55.503908  3080.683748       47.433894   725.909082   \n",
       "25672    427          52  62.204786  3869.435415       52.265716  1059.099059   \n",
       "25673    427          53  42.618013  1816.295023       41.814122   141.020374   \n",
       "25674    427          54  39.495856  1559.922631       32.199412   137.840981   \n",
       "25675    427          55  42.199732  1780.817351       35.104197   199.294654   \n",
       "25676    427          56  79.495663  6319.560372       69.680987   766.586022   \n",
       "25677    427          57  99.757496  9951.557973       88.135144  2072.322148   \n",
       "25678    427          58  51.606989  2663.281313       44.737615   474.889864   \n",
       "25679    427          59  33.692272  1135.169163       29.144569    84.911408   \n",
       "\n",
       "       F4-C4_theta  F4-C4_gamma  F3-C3_std    F3-C3_var  ...  FP1-F3_delta  \\\n",
       "25670    26.726115     0.103330  52.659968  2773.072178  ...   1472.675770   \n",
       "25671    59.506356     0.084784  35.181746  1237.755256  ...   1520.175067   \n",
       "25672   160.637536     0.137019  49.545852  2454.791460  ...   1178.475304   \n",
       "25673    23.248539     0.140314  57.418013  3296.828211  ...    155.776402   \n",
       "25674    61.726881     0.135566  38.618930  1491.421782  ...    380.973632   \n",
       "25675    29.125047     0.095960  53.164338  2826.446864  ...   1171.198622   \n",
       "25676    38.186860     0.070636  63.795168  4069.823446  ...    122.369026   \n",
       "25677   235.761249     0.087496  80.661890  6506.340433  ...    919.843265   \n",
       "25678   188.909825     0.084074  41.174085  1695.305283  ...   1239.941787   \n",
       "25679    79.231900     0.156342  49.851065  2485.128682  ...    747.523643   \n",
       "\n",
       "       FP1-F3_theta  FP1-F3_gamma   CZ-PZ_std     CZ-PZ_var  CZ-PZ_abs_mean  \\\n",
       "25670    165.543483      0.196624   87.654792   7683.362622       67.680404   \n",
       "25671    180.597302      0.208722   70.857330   5020.761153       62.053315   \n",
       "25672    241.762279      0.105725   82.447462   6797.584027       68.099829   \n",
       "25673    103.788137      0.219907   82.797009   6855.344652       70.549495   \n",
       "25674     97.773307      0.080616  107.070449  11464.081081       77.342170   \n",
       "25675    170.430666      0.325827   44.151061   1949.316171       36.395633   \n",
       "25676    170.211651      0.255789   84.320194   7109.895199       64.453101   \n",
       "25677     70.438011      0.126130   80.077598   6412.421702       69.887542   \n",
       "25678     88.921867      0.112852   73.390298   5386.135892       61.355920   \n",
       "25679    375.554879      0.174379   51.746096   2677.658430       39.460570   \n",
       "\n",
       "       CZ-PZ_delta  CZ-PZ_theta  CZ-PZ_gamma  target  \n",
       "25670  2366.065688   169.572076     0.082873   False  \n",
       "25671   716.101413   282.818599     0.081990   False  \n",
       "25672   733.079397   110.030786     0.202845   False  \n",
       "25673   687.720017   186.980200     0.098512   False  \n",
       "25674  5628.331110   421.212656     0.103651   False  \n",
       "25675   263.724765    72.544538     0.074845   False  \n",
       "25676   838.483947   128.984153     0.129915   False  \n",
       "25677   617.550083   222.669281     0.089078   False  \n",
       "25678  1415.989575    84.728257     0.114984   False  \n",
       "25679   404.365479    84.037479     0.046453   False  \n",
>>>>>>> Stashed changes
       "\n",
       "[10 rows x 73 columns]"
      ]
     },
<<<<<<< Updated upstream
     "execution_count": 12,
=======
     "execution_count": 135,
>>>>>>> Stashed changes
     "metadata": {},
     "output_type": "execute_result"
    }
   ],
   "source": [
    "# joining column names with agg functions, but leaving target column\n",
    "df_features.columns = ['_'.join(col).strip() for col in df_features.columns.values if target_colname != col[0]] + [target_colname]\n",
    "df_features.reset_index(inplace=True)\n",
    "df_features.head(10)\n"
   ]
  },
  {
   "cell_type": "code",
<<<<<<< Updated upstream
   "execution_count": 13,
=======
   "execution_count": 136,
>>>>>>> Stashed changes
   "metadata": {},
   "outputs": [
    {
     "data": {
      "text/plain": [
<<<<<<< Updated upstream
       "epoch             0\n",
       "segment_id        0\n",
       "F4-C4_std         0\n",
       "F4-C4_var         0\n",
       "F4-C4_mean        0\n",
       "                 ..\n",
       "CZ-PZ_abs_mean    0\n",
       "CZ-PZ_delta       0\n",
       "CZ-PZ_theta       0\n",
       "CZ-PZ_gamma       0\n",
       "target            0\n",
       "Length: 73, dtype: int64"
      ]
     },
     "execution_count": 13,
=======
       "(25680, 63)"
      ]
     },
     "execution_count": 136,
>>>>>>> Stashed changes
     "metadata": {},
     "output_type": "execute_result"
    }
   ],
   "source": [
    "df_features.isna().sum()"
   ]
  },
  {
   "cell_type": "code",
<<<<<<< Updated upstream
   "execution_count": 14,
=======
   "execution_count": 137,
>>>>>>> Stashed changes
   "metadata": {},
   "outputs": [
    {
     "name": "stderr",
     "output_type": "stream",
     "text": [
      "/home/weasel/reps/ai-seizure-detectives/.venv/lib/python3.11/site-packages/sklearn/utils/validation.py:767: FutureWarning: is_sparse is deprecated and will be removed in a future version. Check `isinstance(dtype, pd.SparseDtype)` instead.\n",
      "  if not hasattr(array, \"sparse\") and array.dtypes.apply(is_sparse).any():\n",
      "/home/weasel/reps/ai-seizure-detectives/.venv/lib/python3.11/site-packages/sklearn/utils/validation.py:605: FutureWarning: is_sparse is deprecated and will be removed in a future version. Check `isinstance(dtype, pd.SparseDtype)` instead.\n",
      "  if is_sparse(pd_dtype):\n",
      "/home/weasel/reps/ai-seizure-detectives/.venv/lib/python3.11/site-packages/sklearn/utils/validation.py:614: FutureWarning: is_sparse is deprecated and will be removed in a future version. Check `isinstance(dtype, pd.SparseDtype)` instead.\n",
      "  if is_sparse(pd_dtype) or not is_extension_array_dtype(pd_dtype):\n",
      "/home/weasel/reps/ai-seizure-detectives/.venv/lib/python3.11/site-packages/sklearn/utils/validation.py:767: FutureWarning: is_sparse is deprecated and will be removed in a future version. Check `isinstance(dtype, pd.SparseDtype)` instead.\n",
      "  if not hasattr(array, \"sparse\") and array.dtypes.apply(is_sparse).any():\n",
      "/home/weasel/reps/ai-seizure-detectives/.venv/lib/python3.11/site-packages/sklearn/utils/validation.py:605: FutureWarning: is_sparse is deprecated and will be removed in a future version. Check `isinstance(dtype, pd.SparseDtype)` instead.\n",
      "  if is_sparse(pd_dtype):\n",
      "/home/weasel/reps/ai-seizure-detectives/.venv/lib/python3.11/site-packages/sklearn/utils/validation.py:614: FutureWarning: is_sparse is deprecated and will be removed in a future version. Check `isinstance(dtype, pd.SparseDtype)` instead.\n",
      "  if is_sparse(pd_dtype) or not is_extension_array_dtype(pd_dtype):\n"
     ]
    },
    {
     "data": {
      "text/plain": [
       "(131100, 70)"
      ]
     },
     "execution_count": 14,
     "metadata": {},
     "output_type": "execute_result"
    }
   ],
   "source": [
    "#Preparing data to be scaled\n",
    "\n",
    "num_features= df_features.drop(['epoch','segment_id','target'],axis =1)\n",
    "\n",
    "from sklearn.preprocessing import StandardScaler, minmax_scale, MinMaxScaler\n",
    "\n",
    "scaler = MinMaxScaler()\n",
    "num_features_scaled = scaler.fit_transform(num_features)\n",
    "num_features_scaled.shape # timepoints x features\n"
   ]
  },
  {
   "cell_type": "code",
<<<<<<< Updated upstream
   "execution_count": 15,
=======
   "execution_count": 138,
>>>>>>> Stashed changes
   "metadata": {},
   "outputs": [
    {
     "data": {
      "text/plain": [
<<<<<<< Updated upstream
       "array([[3.80959219e-02, 1.45129926e-03, 5.35631024e-01],\n",
       "       [2.09231337e-02, 4.37777526e-04, 5.28046873e-01],\n",
       "       [2.05603455e-02, 4.22727809e-04, 5.25136083e-01],\n",
       "       [2.60688279e-02, 6.79583787e-04, 5.24207849e-01],\n",
       "       [1.58487748e-02, 2.51183664e-04, 5.29774568e-01],\n",
       "       [2.72562051e-02, 7.42900718e-04, 5.23126699e-01],\n",
       "       [3.55601801e-02, 1.26452641e-03, 5.19550585e-01],\n",
       "       [2.03448949e-02, 4.13914749e-04, 5.22201148e-01],\n",
       "       [1.87761421e-02, 3.52543513e-04, 5.30544519e-01],\n",
       "       [2.21613176e-02, 4.91123998e-04, 5.29219238e-01],\n",
       "       [5.80504234e-02, 3.36985166e-03, 5.20975128e-01],\n",
       "       [2.11349044e-02, 4.46684182e-04, 5.16028126e-01],\n",
       "       [2.53588901e-02, 6.43073307e-04, 5.41074336e-01],\n",
       "       [3.03856789e-02, 9.23289480e-04, 5.24972435e-01],\n",
       "       [1.97301637e-02, 3.89279358e-04, 5.36899968e-01],\n",
       "       [2.63668893e-02, 6.95212851e-04, 5.25844330e-01],\n",
       "       [2.41270289e-02, 5.82113522e-04, 5.20371508e-01],\n",
       "       [3.52576758e-02, 1.24310370e-03, 5.37669919e-01],\n",
       "       [5.11797087e-02, 2.61936258e-03, 4.89570786e-01],\n",
       "       [2.02273452e-02, 4.09145494e-04, 5.40087082e-01],\n",
       "       [2.17453575e-02, 4.72860573e-04, 5.28272225e-01],\n",
       "       [2.26785921e-02, 5.14318539e-04, 5.32851689e-01],\n",
       "       [2.41435910e-02, 5.82912986e-04, 5.29119976e-01],\n",
       "       [4.32114761e-02, 1.86723167e-03, 5.03298449e-01],\n",
       "       [3.03513227e-02, 9.21202792e-04, 5.41297005e-01],\n",
       "       [3.13947421e-02, 9.85629834e-04, 5.16494926e-01],\n",
       "       [2.78464613e-02, 7.75425406e-04, 5.37965022e-01],\n",
       "       [3.74282800e-02, 1.40087615e-03, 5.16122022e-01],\n",
       "       [2.37217986e-02, 5.62723728e-04, 5.21924824e-01],\n",
       "       [2.45977443e-02, 6.05049026e-04, 5.35330556e-01]])"
      ]
     },
     "execution_count": 15,
=======
       "(25680, 63)"
      ]
     },
     "execution_count": 138,
>>>>>>> Stashed changes
     "metadata": {},
     "output_type": "execute_result"
    }
   ],
   "source": [
    "num_features_scaled[:30, :3]\n"
   ]
  },
  {
   "cell_type": "code",
   "execution_count": 16,
   "metadata": {},
   "outputs": [
    {
     "data": {
      "text/plain": [
       "(437, 300, 70)"
      ]
     },
     "execution_count": 16,
     "metadata": {},
     "output_type": "execute_result"
    }
   ],
   "source": [
    "# Determine the number of epochs\n",
    "num_epochs = df_features.epoch.nunique()\n",
    "# Determine the number of segments for each epoch\n",
    "num_segments = df_features.segment_id.nunique()  # Assuming there are 30 segments for each epocha\n",
    "num_features = num_features_scaled.shape[1]\n",
    "\n",
    "reshaped_features = num_features_scaled.reshape(num_epochs, num_segments, num_features)\n",
    "reshaped_features.shape # epochs x segments x features"
   ]
  },
  {
   "cell_type": "code",
   "execution_count": 17,
   "metadata": {},
   "outputs": [
    {
     "data": {
      "text/plain": [
       "(437, 300)"
      ]
     },
     "execution_count": 17,
     "metadata": {},
     "output_type": "execute_result"
    }
   ],
   "source": [
    "# target_array = df_features.groupby('epoch')['target'].sum().gt(0).astype(int).values\n",
    "target_array = df_features['target'].values.reshape(num_epochs, -1)\n",
    "target_array = target_array.astype(int)\n",
    "target_array.shape"
   ]
  },
  {
   "cell_type": "code",
   "execution_count": 18,
   "metadata": {},
   "outputs": [
    {
     "data": {
      "text/plain": [
       "(437, 300, 71)"
      ]
     },
     "execution_count": 18,
     "metadata": {},
     "output_type": "execute_result"
    }
   ],
   "source": [
    "array_all_scaled = np.concatenate((reshaped_features, target_array[:,:,np.newaxis]), axis=2)\n",
    "array_all_scaled.shape"
   ]
  },
  {
   "cell_type": "code",
<<<<<<< Updated upstream
   "execution_count": 25,
   "metadata": {},
   "outputs": [
    {
     "data": {
      "text/plain": [
       "0"
      ]
     },
     "execution_count": 25,
     "metadata": {},
     "output_type": "execute_result"
    }
   ],
=======
   "execution_count": 139,
   "metadata": {},
   "outputs": [],
>>>>>>> Stashed changes
   "source": [
    "np.isnan(array_all_scaled).sum()"
   ]
  },
  {
   "cell_type": "code",
<<<<<<< Updated upstream
   "execution_count": 19,
=======
   "execution_count": 140,
>>>>>>> Stashed changes
   "metadata": {},
   "outputs": [],
   "source": [
    "np.save('data/'+np_file_name + '.npy', array_all_scaled)"
   ]
  },
  {
   "cell_type": "code",
<<<<<<< Updated upstream
   "execution_count": 23,
=======
   "execution_count": 141,
   "metadata": {},
   "outputs": [],
   "source": [
    "import numpy as np\n",
    "\n",
    "\n",
    "original_array =np.array(df_features)\n",
    "\n",
    "# Extract the epoch column\n",
    "epoch_column = original_array[:, 0]\n",
    "\n",
    "# Determine the number of epochs (assuming epochs are from 1 to number of segments)\n",
    "num_epochs = df_features.epoch.unique()[-1]\n",
    "\n",
    "# Determine the number of segments for each epoch\n",
    "num_segments = len(df_features.segment_id.unique())  # Assuming there are 30 segments for each epoch\n",
    "\n",
    "# Initialize an empty 3D array\n",
    "reshaped_array = np.empty((num_epochs,num_segments, array_all_scaled.shape[1]))\n",
    "\n",
    "# Reshape the data for each epoch and insert it into the 3D array\n",
    "for epoch in range(num_epochs):\n",
    "    start_idx = epoch * num_segments\n",
    "    end_idx = (epoch + 1) * num_segments\n",
    "    reshaped_array[epoch,:, :] = array_all_scaled[start_idx:end_idx,:]"
   ]
  },
  {
   "cell_type": "code",
   "execution_count": 142,
>>>>>>> Stashed changes
   "metadata": {},
   "outputs": [
    {
     "data": {
      "text/plain": [
<<<<<<< Updated upstream
       "0"
      ]
     },
     "execution_count": 23,
=======
       "(427, 60, 63)"
      ]
     },
     "execution_count": 142,
>>>>>>> Stashed changes
     "metadata": {},
     "output_type": "execute_result"
    }
   ],
   "source": [
<<<<<<< Updated upstream
    "np.isnan(array_all_scaled).sum()"
=======
    "reshaped_array.shape"
   ]
  },
  {
   "cell_type": "code",
   "execution_count": 143,
   "metadata": {},
   "outputs": [
    {
     "data": {
      "text/plain": [
       "array([ 8.30000000e+01,  7.00000000e+00, -9.16639471e-01, -4.51334500e-01,\n",
       "       -9.23902634e-01, -3.45186280e-01, -2.89477343e-01, -1.68703798e-01,\n",
       "       -7.55389263e-01, -2.95482529e-01, -7.73092732e-01, -3.20133933e-01,\n",
       "       -3.15754339e-01, -1.01452259e-01, -9.18360904e-01, -3.99708706e-01,\n",
       "       -9.43191398e-01, -3.08125216e-01, -3.32778466e-01, -1.65472335e-01,\n",
       "       -7.00231830e-01, -3.32029940e-01, -7.52740443e-01, -3.16060650e-01,\n",
       "       -2.58273929e-01, -8.79169010e-02, -8.14442465e-01, -3.32826391e-01,\n",
       "       -7.90631409e-01, -3.33575929e-01, -3.53140669e-01, -1.44481125e-01,\n",
       "       -7.64948649e-01, -3.00120169e-01, -8.11827605e-01, -2.24561213e-01,\n",
       "       -2.22117200e-01, -1.76999028e-01, -9.98393651e-01, -3.90718817e-01,\n",
       "       -1.03553915e+00, -3.13423446e-01, -4.76727472e-01, -2.26844026e-01,\n",
       "       -9.98393651e-01, -3.90718817e-01, -1.03553915e+00, -3.13423446e-01,\n",
       "       -4.76727472e-01, -2.26844026e-01, -7.70086377e-01, -3.92565440e-01,\n",
       "       -7.90647619e-01, -3.43846145e-01, -3.64840458e-01, -1.26297729e-01,\n",
       "       -7.52094096e-01, -2.92840635e-01, -7.47078181e-01, -2.37150108e-01,\n",
       "       -2.39578486e-01, -8.29627061e-02,  0.00000000e+00])"
      ]
     },
     "execution_count": 143,
     "metadata": {},
     "output_type": "execute_result"
    }
   ],
   "source": [
    "reshaped_array[83,7,:]"
   ]
  },
  {
   "cell_type": "code",
   "execution_count": 144,
   "metadata": {},
   "outputs": [
    {
     "data": {
      "text/plain": [
       "array([ 0.        ,  0.        ,  0.00988573, -0.17511309,  0.01553993,\n",
       "       -0.18449449, -0.21051369, -0.10492562, -0.21981923, -0.21337249,\n",
       "       -0.212613  , -0.23630721, -0.2694454 , -0.08796275, -0.52498737,\n",
       "       -0.34517039, -0.57321173, -0.28612891, -0.23650099, -0.12665466,\n",
       "       -0.12044315, -0.20387549, -0.0798534 , -0.14598089, -0.09514671,\n",
       "       -0.07686089, -0.13331671, -0.21092767, -0.12395778, -0.24496351,\n",
       "       -0.26601547, -0.11306124,  2.26523643,  1.33601042,  1.92792453,\n",
       "        0.78856479,  0.04324556,  0.44178676, -0.30678913, -0.26706969,\n",
       "       -0.36506249, -0.20835179, -0.44189521, -0.14459166, -0.30678913,\n",
       "       -0.26706969, -0.36506249, -0.20835179, -0.44189521, -0.14459166,\n",
       "        2.47950039,  2.0153165 ,  2.21516335,  1.56509295,  0.09113347,\n",
       "        0.04350481, -0.51891423, -0.25721135, -0.54578133, -0.22655821,\n",
       "       -0.23472434, -0.06606823,  0.        ])"
      ]
     },
     "execution_count": 144,
     "metadata": {},
     "output_type": "execute_result"
    }
   ],
   "source": [
    "reshaped_array[0,0,:]"
   ]
  },
  {
   "cell_type": "code",
   "execution_count": 145,
   "metadata": {},
   "outputs": [
    {
     "name": "stdout",
     "output_type": "stream",
     "text": [
      "num_augmented_batches: 31\n",
      "augmented_data_array.shape: (13237, 30, 63)\n"
     ]
    },
    {
     "data": {
      "text/plain": [
       "array([[[ 0.00000000e+00,  0.00000000e+00,  9.88572685e-03, ...,\n",
       "         -2.34724342e-01, -6.60682321e-02,  0.00000000e+00],\n",
       "        [ 0.00000000e+00,  1.00000000e+00, -5.68757592e-01, ...,\n",
       "         -2.25064254e-01, -7.10047334e-02,  0.00000000e+00],\n",
       "        [ 0.00000000e+00,  2.00000000e+00, -5.84185238e-01, ...,\n",
       "         -2.28203063e-01, -8.04641955e-02,  0.00000000e+00],\n",
       "        ...,\n",
       "        [ 0.00000000e+00,  2.70000000e+01, -8.23261813e-03, ...,\n",
       "         -1.88461600e-01, -5.94955868e-02,  0.00000000e+00],\n",
       "        [ 0.00000000e+00,  2.80000000e+01, -4.76966535e-01, ...,\n",
       "         -1.29878138e-01, -4.46954866e-02,  0.00000000e+00],\n",
       "        [ 0.00000000e+00,  2.90000000e+01, -4.50880925e-01, ...,\n",
       "         -2.43376351e-01, -8.15085881e-02,  0.00000000e+00]],\n",
       "\n",
       "       [[ 0.00000000e+00,  1.00000000e+00, -5.68757592e-01, ...,\n",
       "         -2.25064254e-01, -7.10047334e-02,  0.00000000e+00],\n",
       "        [ 0.00000000e+00,  2.00000000e+00, -5.84185238e-01, ...,\n",
       "         -2.28203063e-01, -8.04641955e-02,  0.00000000e+00],\n",
       "        [ 0.00000000e+00,  3.00000000e+00, -3.97924733e-01, ...,\n",
       "         -1.75801958e-01, -7.67657544e-02,  0.00000000e+00],\n",
       "        ...,\n",
       "        [ 0.00000000e+00,  2.80000000e+01, -4.76966535e-01, ...,\n",
       "         -1.29878138e-01, -4.46954866e-02,  0.00000000e+00],\n",
       "        [ 0.00000000e+00,  2.90000000e+01, -4.50880925e-01, ...,\n",
       "         -2.43376351e-01, -8.15085881e-02,  0.00000000e+00],\n",
       "        [ 0.00000000e+00,  3.00000000e+01,  3.37687396e-01, ...,\n",
       "         -1.63589916e-01, -7.97078884e-02,  0.00000000e+00]],\n",
       "\n",
       "       [[ 0.00000000e+00,  2.00000000e+00, -5.84185238e-01, ...,\n",
       "         -2.28203063e-01, -8.04641955e-02,  0.00000000e+00],\n",
       "        [ 0.00000000e+00,  3.00000000e+00, -3.97924733e-01, ...,\n",
       "         -1.75801958e-01, -7.67657544e-02,  0.00000000e+00],\n",
       "        [ 0.00000000e+00,  4.00000000e+00, -7.42604393e-01, ...,\n",
       "         -2.38234734e-01, -6.77034073e-02,  0.00000000e+00],\n",
       "        ...,\n",
       "        [ 0.00000000e+00,  2.90000000e+01, -4.50880925e-01, ...,\n",
       "         -2.43376351e-01, -8.15085881e-02,  0.00000000e+00],\n",
       "        [ 0.00000000e+00,  3.00000000e+01,  3.37687396e-01, ...,\n",
       "         -1.63589916e-01, -7.97078884e-02,  0.00000000e+00],\n",
       "        [ 0.00000000e+00,  3.10000000e+01, -7.31949529e-01, ...,\n",
       "         -2.42447681e-01, -7.73402868e-02,  0.00000000e+00]],\n",
       "\n",
       "       ...,\n",
       "\n",
       "       [[ 4.26000000e+02,  2.80000000e+01,  3.11766296e+00, ...,\n",
       "          5.30404920e-01, -8.54110336e-02,  0.00000000e+00],\n",
       "        [ 4.26000000e+02,  2.90000000e+01,  5.54011924e+00, ...,\n",
       "          2.48853889e+00, -8.25932067e-02,  0.00000000e+00],\n",
       "        [ 4.26000000e+02,  3.00000000e+01,  3.83556336e+00, ...,\n",
       "          5.99898587e-01, -8.82814344e-02,  0.00000000e+00],\n",
       "        ...,\n",
       "        [ 4.26000000e+02,  5.50000000e+01,  1.05710421e+00, ...,\n",
       "          3.23100175e-01, -7.75435944e-02,  0.00000000e+00],\n",
       "        [ 4.26000000e+02,  5.60000000e+01,  1.47814269e+00, ...,\n",
       "         -6.82342965e-02, -8.28566379e-02,  0.00000000e+00],\n",
       "        [ 4.26000000e+02,  5.70000000e+01,  2.13854445e+00, ...,\n",
       "          1.04396636e+00, -8.21396571e-02,  0.00000000e+00]],\n",
       "\n",
       "       [[ 4.26000000e+02,  2.90000000e+01,  5.54011924e+00, ...,\n",
       "          2.48853889e+00, -8.25932067e-02,  0.00000000e+00],\n",
       "        [ 4.26000000e+02,  3.00000000e+01,  3.83556336e+00, ...,\n",
       "          5.99898587e-01, -8.82814344e-02,  0.00000000e+00],\n",
       "        [ 4.26000000e+02,  3.10000000e+01,  4.72149993e+00, ...,\n",
       "          6.56952778e-02, -8.45866875e-02,  0.00000000e+00],\n",
       "        ...,\n",
       "        [ 4.26000000e+02,  5.60000000e+01,  1.47814269e+00, ...,\n",
       "         -6.82342965e-02, -8.28566379e-02,  0.00000000e+00],\n",
       "        [ 4.26000000e+02,  5.70000000e+01,  2.13854445e+00, ...,\n",
       "          1.04396636e+00, -8.21396571e-02,  0.00000000e+00],\n",
       "        [ 4.26000000e+02,  5.80000000e+01,  2.96338266e+00, ...,\n",
       "          5.96821611e-01, -7.79686530e-02,  0.00000000e+00]],\n",
       "\n",
       "       [[ 4.26000000e+02,  3.00000000e+01,  3.83556336e+00, ...,\n",
       "          5.99898587e-01, -8.82814344e-02,  0.00000000e+00],\n",
       "        [ 4.26000000e+02,  3.10000000e+01,  4.72149993e+00, ...,\n",
       "          6.56952778e-02, -8.45866875e-02,  0.00000000e+00],\n",
       "        [ 4.26000000e+02,  3.20000000e+01,  4.30825463e+00, ...,\n",
       "          2.13154396e+00, -8.63738813e-02,  0.00000000e+00],\n",
       "        ...,\n",
       "        [ 4.26000000e+02,  5.70000000e+01,  2.13854445e+00, ...,\n",
       "          1.04396636e+00, -8.21396571e-02,  0.00000000e+00],\n",
       "        [ 4.26000000e+02,  5.80000000e+01,  2.96338266e+00, ...,\n",
       "          5.96821611e-01, -7.79686530e-02,  0.00000000e+00],\n",
       "        [ 4.26000000e+02,  5.90000000e+01,  3.60351200e+00, ...,\n",
       "          2.55294101e-01, -7.51523562e-02,  0.00000000e+00]]])"
      ]
     },
     "execution_count": 145,
     "metadata": {},
     "output_type": "execute_result"
    }
   ],
   "source": [
    "import numpy as np\n",
    "\n",
    "# Assuming original_data_array has dimensions (batch, sequence, features)\n",
    "\n",
    "num_batches, num_sequences, num_features = reshaped_array.shape\n",
    "\n",
    "# Define the window size\n",
    "window_size = 30\n",
    "\n",
    "# Calculate the number of augmented batches\n",
    "num_augmented_batches = num_sequences - window_size + 1\n",
    "print(f\"num_augmented_batches: {num_augmented_batches}\")\n",
    "\n",
    "# Create an empty array for the augmented data\n",
    "augmented_data_array = np.zeros((num_batches * num_augmented_batches, window_size, num_features))\n",
    "print(f\"augmented_data_array.shape: {augmented_data_array.shape}\")\n",
    "\n",
    "# Iterate through batches\n",
    "for batch_idx in range(num_batches):\n",
    "    # Iterate through sequences to create augmented batches\n",
    "    for seq_idx in range(num_augmented_batches):\n",
    "        # Copy the window of data\n",
    "        augmented_data_array[batch_idx * num_augmented_batches + seq_idx, :, :] = reshaped_array[batch_idx, seq_idx:seq_idx + window_size, :]\n",
    "\n",
    "# The resulting augmented_data_array will have the desired structure\n",
    "augmented_data_array\n",
    "\n"
   ]
  },
  {
   "cell_type": "code",
   "execution_count": 146,
   "metadata": {},
   "outputs": [],
   "source": [
    "### Testing Example\n",
    "# test_array = reshaped_array[:3,:6,59:]\n",
    "# print(test_array.shape)\n",
    "# test_array\n",
    "\n",
    "# import numpy as np\n",
    "\n",
    "# # Assuming original_data_array has dimensions (batch, sequence, features)\n",
    "\n",
    "# num_batches, num_sequences, num_features = test_array.shape\n",
    "\n",
    "# # Define the window size\n",
    "# window_size = 2\n",
    "\n",
    "# # Calculate the number of augmented batches\n",
    "# num_augmented_batches = num_sequences - window_size + 1\n",
    "# print(f\"num_augmented_batches: {num_augmented_batches}\")\n",
    "\n",
    "# # Create an empty array for the augmented data\n",
    "# augmented_data_array = np.zeros((num_batches * num_augmented_batches, window_size, num_features))\n",
    "# print(f\"augmented_data_array.shape: {augmented_data_array.shape}\")\n",
    "\n",
    "# # Iterate through batches\n",
    "# for batch_idx in range(num_batches):\n",
    "#     # Iterate through sequences to create augmented batches\n",
    "#     for seq_idx in range(num_augmented_batches):\n",
    "#         # Copy the window of data\n",
    "#         augmented_data_array[batch_idx * num_augmented_batches + seq_idx, :, :] = test_array[batch_idx, seq_idx:seq_idx + window_size, :]\n",
    "\n",
    "# # The resulting augmented_data_array will have the desired structure\n",
    "# augmented_data_array\n",
    "\n"
   ]
  },
  {
   "cell_type": "code",
   "execution_count": 149,
   "metadata": {},
   "outputs": [],
   "source": [
    "\n",
    "np.save('data/feature_extract_reshaped.npy', augmented_data_array)"
   ]
  },
  {
   "cell_type": "code",
   "execution_count": 148,
   "metadata": {},
   "outputs": [],
   "source": [
    "# from source.data_import import save_pyarrow\n",
    "\n",
    "# save_pyarrow(df_features, file_name=\"feature_extracted\")"
>>>>>>> Stashed changes
   ]
  }
 ],
 "metadata": {
  "kernelspec": {
   "display_name": ".venv",
   "language": "python",
   "name": "python3"
  },
  "language_info": {
   "codemirror_mode": {
    "name": "ipython",
    "version": 3
   },
   "file_extension": ".py",
   "mimetype": "text/x-python",
   "name": "python",
   "nbconvert_exporter": "python",
   "pygments_lexer": "ipython3",
   "version": "3.11.3"
  }
 },
 "nbformat": 4,
 "nbformat_minor": 2
}
