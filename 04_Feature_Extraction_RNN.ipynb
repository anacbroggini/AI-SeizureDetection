{
 "cells": [
  {
   "cell_type": "code",
   "execution_count": 1,
   "metadata": {},
   "outputs": [
    {
     "name": "stdout",
     "output_type": "stream",
     "text": [
      "loaded channel names: ['F4-C4', 'F3-C3', 'FT9-FT10', 'FZ-CZ', 'F7-T7', 'FP2-F4', 'T8-P8-1', 'T8-P8-0', 'FP1-F3', 'CZ-PZ']\n"
     ]
    }
   ],
   "source": [
    "import pandas as pd\n",
    "import numpy as np\n",
    "from source import data_import\n",
    "from source.calculate_mean_psd import calculate_mean_psd\n",
    "from source.constants import CHANNELS, FREQUENCY_RANGES\n",
    "\n",
    "print(f\"loaded channel names: {CHANNELS}\")"
   ]
  },
  {
   "cell_type": "code",
   "execution_count": 2,
   "metadata": {},
   "outputs": [
    {
     "name": "stdout",
     "output_type": "stream",
     "text": [
      "/home/weasel/reps/ai-seizure-detectives/source/../data/segmented_data_300.arrow was loaded.\n"
     ]
    },
    {
     "data": {
      "text/plain": [
       "(33561600, 17)"
      ]
     },
     "execution_count": 2,
     "metadata": {},
     "output_type": "execute_result"
    }
   ],
   "source": [
    "py_arrow_segment_file_name = \"segmented_data_300\"\n",
    "np_file_name = \"segmented_data_300\"\n",
    "# load data\n",
    "df_pp = data_import.load_pyarrow(file_name=py_arrow_segment_file_name)\n",
    "df_pp.shape"
   ]
  },
  {
   "cell_type": "code",
   "execution_count": 3,
   "metadata": {},
   "outputs": [
    {
     "data": {
      "text/plain": [
       "channel\n",
       "F7-T7             0\n",
       "FP1-F3            0\n",
       "F3-C3             0\n",
       "FP2-F4            0\n",
       "F4-C4             0\n",
       "T8-P8-0           0\n",
       "FZ-CZ             0\n",
       "CZ-PZ             0\n",
       "FT9-FT10          0\n",
       "T8-P8-1           0\n",
       "is_seizure        0\n",
       "before_seizure    0\n",
       "file              0\n",
       "seizure_start     0\n",
       "target            0\n",
       "epoch             0\n",
       "segment_id        0\n",
       "dtype: int64"
      ]
     },
     "execution_count": 3,
     "metadata": {},
     "output_type": "execute_result"
    }
   ],
   "source": [
    "df_pp.isna().sum()"
   ]
  },
  {
   "cell_type": "code",
   "execution_count": 4,
   "metadata": {},
   "outputs": [
    {
     "data": {
      "text/plain": [
       "(33561600, 17)"
      ]
     },
     "execution_count": 4,
     "metadata": {},
     "output_type": "execute_result"
    }
   ],
   "source": [
    "df_pp.shape"
   ]
  },
  {
   "cell_type": "code",
   "execution_count": 11,
   "metadata": {},
   "outputs": [
    {
     "data": {
      "text/plain": [
       "array([1.33617031e+02, 6.79883614e+02, 5.60459699e+02, 2.84056740e+02,\n",
       "       1.56091960e+02, 9.09543689e+01, 5.37764680e+01, 3.57499764e+01,\n",
       "       2.82162949e+01, 1.80549309e+01, 1.29651234e+01, 1.51794595e+01,\n",
       "       2.18835322e+01, 1.17059932e+01, 8.59736083e+00, 1.19459915e+01,\n",
       "       2.11182341e+01, 1.22855652e+01, 9.47673116e+00, 1.06786219e+01,\n",
       "       1.39763280e+01, 1.16029194e+01, 1.05082293e+01, 1.19290316e+01,\n",
       "       1.53512919e+01, 1.26771206e+01, 1.16187725e+01, 2.25264684e+01,\n",
       "       4.57138126e+01, 1.93670206e+01, 1.27333580e+01, 1.41298215e+01,\n",
       "       1.71990056e+01, 1.44662043e+01, 1.35388270e+01, 1.46519769e+01,\n",
       "       1.78544737e+01, 1.46552974e+01, 1.26931270e+01, 1.25815882e+01,\n",
       "       1.31905263e+01, 1.15302345e+01, 9.88827951e+00, 3.90704635e+01,\n",
       "       1.15096926e+02, 3.13122095e+01, 6.08300294e+00, 5.57003500e+00,\n",
       "       5.81081207e+00, 3.85894282e+00, 2.71452041e+00, 2.19051921e+00,\n",
       "       2.04218784e+00, 1.37057212e+00, 9.51742118e-01, 7.70347292e-01,\n",
       "       6.47703838e-01, 5.13479935e-01, 4.25404229e-01, 8.72329686e+00,\n",
       "       3.36722913e+01, 8.72707796e+00, 3.82534256e-01, 4.06614550e-01,\n",
       "       4.72270099e-01, 5.11488384e-01, 6.11663099e-01, 8.22382321e-01,\n",
       "       1.21832315e+00, 1.25464218e+00, 1.45147715e+00, 1.93796349e+00,\n",
       "       2.58812797e+00, 2.53821163e+00, 2.81136316e+00, 3.16903113e+01,\n",
       "       1.15589885e+02, 3.18359638e+01, 3.89658655e+00, 4.32732708e+00,\n",
       "       5.50733042e+00, 4.53813480e+00, 3.97576959e+00, 4.32698334e+00,\n",
       "       5.41295139e+00, 4.10867574e+00, 3.40259374e+00, 3.74629873e+00,\n",
       "       4.57936173e+00, 3.14730475e+00, 2.62291910e+00, 4.52897464e+00,\n",
       "       9.55631721e+00, 3.73991396e+00, 1.91354103e+00, 1.90621666e+00,\n",
       "       2.25462449e+00, 1.80828985e+00, 1.48566735e+00, 1.57734865e+00,\n",
       "       1.99091684e+00, 1.48181144e+00, 1.27096004e+00, 1.62947670e+00,\n",
       "       2.54109245e+00, 1.53126522e+00, 1.18257072e+00, 1.51453185e+00,\n",
       "       2.27627303e+00, 1.35035671e+00, 1.05675142e+00, 1.13153299e+00,\n",
       "       1.35855780e+00, 1.09993334e+00, 9.07389134e-01, 9.59486108e-01,\n",
       "       1.21767708e+00, 9.15953527e-01, 7.93920036e-01, 1.39451069e+00,\n",
       "       2.97713019e+00, 1.30932448e+00, 6.46318006e-01, 6.91064148e-01,\n",
       "       8.75687382e-01, 6.28390873e-01, 5.45349984e-01, 6.04961015e-01,\n",
       "       3.66081645e-01])"
      ]
     },
     "execution_count": 11,
     "metadata": {},
     "output_type": "execute_result"
    }
   ],
   "source": [
    "# df_pp = df_pp.iloc[:2_000_000,:]\n",
    "# df_pp.shape\n",
    "\n",
    "from scipy.signal import welch\n",
    "f, Pxx = welch(df_pp['F7-T7'], fs=256, nperseg=256, noverlap=128, detrend=\"constant\", scaling=\"density\")\n",
    "\n",
    "# import matplotlib.pyplot as plt\n",
    "# plt.pcolormesh(df_pp.index, f, 10 * np.log10(Pxx))  # Converting to dB scale\n",
    "# plt.ylabel('Frequency [Hz]')\n",
    "# plt.xlabel('Time [sec]')\n",
    "# plt.colorbar(label='Power Spectral Density (dB)')\n",
    "# plt.show()\n",
    "\n",
    "Pxx"
   ]
  },
  {
   "cell_type": "markdown",
   "metadata": {},
   "source": [
    "## Feature Extraction"
   ]
  },
  {
   "cell_type": "code",
   "execution_count": 8,
   "metadata": {},
   "outputs": [],
   "source": [
    "# ignore for aggregation\n",
    "ignore_col = ['psd']\n",
    "\n",
    "# target definition\n",
    "PRED_INTERVAL = 60\n",
    "target_colname = 'target'"
   ]
  },
  {
   "cell_type": "code",
   "execution_count": 9,
   "metadata": {},
   "outputs": [],
   "source": [
    "### aggregate Functions for mean psd:\n",
    "delta = lambda x: calculate_mean_psd(x, frequency_ranges={'Delta' : FREQUENCY_RANGES['Delta']})[x.name]['Delta']\n",
    "theta = lambda x: calculate_mean_psd(x, frequency_ranges={'Theta' : FREQUENCY_RANGES['Theta']})[x.name]['Theta']\n",
    "gamma = lambda x: calculate_mean_psd(x, frequency_ranges={'Gamma': FREQUENCY_RANGES['Gamma']})[x.name]['Gamma']\n",
    "\n",
    "delta_agg = pd.NamedAgg(column='delta', aggfunc=delta)\n",
    "theta_agg = pd.NamedAgg(column='theta', aggfunc=theta)\n",
    "gamma_agg = pd.NamedAgg(column='gamma', aggfunc=gamma)\n",
    "\n",
    "### aggregate Functions for target:\n",
    "target_foo = lambda x, pred_interval=PRED_INTERVAL: 0 < x.dt.total_seconds().min() < pred_interval\n"
   ]
  },
  {
   "cell_type": "code",
   "execution_count": 10,
   "metadata": {},
   "outputs": [],
   "source": [
    "abs_mean = lambda x: x.apply(abs).mean()\n",
    "abs_mean_agg = pd.NamedAgg(column='abs_mean', aggfunc=abs_mean)"
   ]
  },
  {
   "cell_type": "code",
   "execution_count": null,
   "metadata": {},
   "outputs": [],
   "source": [
    "# nice to add:\n",
    "    # maximum\n",
    "    # 80% maximum\n",
    "    # hits above 80% maximum\n"
   ]
  },
  {
   "cell_type": "code",
   "execution_count": 11,
   "metadata": {},
   "outputs": [
    {
     "data": {
      "text/html": [
       "<div>\n",
       "<style scoped>\n",
       "    .dataframe tbody tr th:only-of-type {\n",
       "        vertical-align: middle;\n",
       "    }\n",
       "\n",
       "    .dataframe tbody tr th {\n",
       "        vertical-align: top;\n",
       "    }\n",
       "\n",
       "    .dataframe thead tr th {\n",
       "        text-align: left;\n",
       "    }\n",
       "\n",
       "    .dataframe thead tr:last-of-type th {\n",
       "        text-align: right;\n",
       "    }\n",
       "</style>\n",
       "<table border=\"1\" class=\"dataframe\">\n",
       "  <thead>\n",
       "    <tr>\n",
       "      <th></th>\n",
       "      <th>channel</th>\n",
       "      <th colspan=\"7\" halign=\"left\">F4-C4</th>\n",
       "      <th colspan=\"3\" halign=\"left\">F3-C3</th>\n",
       "      <th>...</th>\n",
       "      <th colspan=\"2\" halign=\"left\">FP1-F3</th>\n",
       "      <th colspan=\"7\" halign=\"left\">CZ-PZ</th>\n",
       "      <th>target</th>\n",
       "    </tr>\n",
       "    <tr>\n",
       "      <th></th>\n",
       "      <th></th>\n",
       "      <th>std</th>\n",
       "      <th>var</th>\n",
       "      <th>mean</th>\n",
       "      <th>abs_mean</th>\n",
       "      <th>delta</th>\n",
       "      <th>theta</th>\n",
       "      <th>gamma</th>\n",
       "      <th>std</th>\n",
       "      <th>var</th>\n",
       "      <th>mean</th>\n",
       "      <th>...</th>\n",
       "      <th>theta</th>\n",
       "      <th>gamma</th>\n",
       "      <th>std</th>\n",
       "      <th>var</th>\n",
       "      <th>mean</th>\n",
       "      <th>abs_mean</th>\n",
       "      <th>delta</th>\n",
       "      <th>theta</th>\n",
       "      <th>gamma</th>\n",
       "      <th>&lt;lambda&gt;</th>\n",
       "    </tr>\n",
       "    <tr>\n",
       "      <th>epoch</th>\n",
       "      <th>segment_id</th>\n",
       "      <th></th>\n",
       "      <th></th>\n",
       "      <th></th>\n",
       "      <th></th>\n",
       "      <th></th>\n",
       "      <th></th>\n",
       "      <th></th>\n",
       "      <th></th>\n",
       "      <th></th>\n",
       "      <th></th>\n",
       "      <th></th>\n",
       "      <th></th>\n",
       "      <th></th>\n",
       "      <th></th>\n",
       "      <th></th>\n",
       "      <th></th>\n",
       "      <th></th>\n",
       "      <th></th>\n",
       "      <th></th>\n",
       "      <th></th>\n",
       "      <th></th>\n",
       "    </tr>\n",
       "  </thead>\n",
       "  <tbody>\n",
       "    <tr>\n",
       "      <th rowspan=\"5\" valign=\"top\">0</th>\n",
       "      <th>0</th>\n",
       "      <td>28.591644</td>\n",
       "      <td>817.482095</td>\n",
       "      <td>5.700549</td>\n",
       "      <td>23.484432</td>\n",
       "      <td>90.752080</td>\n",
       "      <td>22.017557</td>\n",
       "      <td>1.358653</td>\n",
       "      <td>26.327333</td>\n",
       "      <td>693.128467</td>\n",
       "      <td>10.578449</td>\n",
       "      <td>...</td>\n",
       "      <td>131.355683</td>\n",
       "      <td>24.845281</td>\n",
       "      <td>15.917382</td>\n",
       "      <td>253.363046</td>\n",
       "      <td>-2.052808</td>\n",
       "      <td>12.764042</td>\n",
       "      <td>16.860269</td>\n",
       "      <td>9.121391</td>\n",
       "      <td>0.392502</td>\n",
       "      <td>False</td>\n",
       "    </tr>\n",
       "    <tr>\n",
       "      <th>1</th>\n",
       "      <td>15.703171</td>\n",
       "      <td>246.589589</td>\n",
       "      <td>1.385836</td>\n",
       "      <td>12.170330</td>\n",
       "      <td>38.092166</td>\n",
       "      <td>5.071763</td>\n",
       "      <td>2.198591</td>\n",
       "      <td>17.862862</td>\n",
       "      <td>319.081827</td>\n",
       "      <td>4.810745</td>\n",
       "      <td>...</td>\n",
       "      <td>18.431833</td>\n",
       "      <td>26.286171</td>\n",
       "      <td>19.462216</td>\n",
       "      <td>378.777839</td>\n",
       "      <td>-2.988400</td>\n",
       "      <td>15.975275</td>\n",
       "      <td>77.629197</td>\n",
       "      <td>10.970848</td>\n",
       "      <td>0.323111</td>\n",
       "      <td>False</td>\n",
       "    </tr>\n",
       "    <tr>\n",
       "      <th>2</th>\n",
       "      <td>15.430893</td>\n",
       "      <td>238.112444</td>\n",
       "      <td>-0.270147</td>\n",
       "      <td>12.554945</td>\n",
       "      <td>37.880881</td>\n",
       "      <td>17.995183</td>\n",
       "      <td>1.250724</td>\n",
       "      <td>17.298442</td>\n",
       "      <td>299.236084</td>\n",
       "      <td>-3.395910</td>\n",
       "      <td>...</td>\n",
       "      <td>12.845020</td>\n",
       "      <td>19.786654</td>\n",
       "      <td>10.909920</td>\n",
       "      <td>119.026364</td>\n",
       "      <td>12.789988</td>\n",
       "      <td>14.157509</td>\n",
       "      <td>12.582095</td>\n",
       "      <td>10.424822</td>\n",
       "      <td>0.183952</td>\n",
       "      <td>False</td>\n",
       "    </tr>\n",
       "    <tr>\n",
       "      <th>3</th>\n",
       "      <td>19.565103</td>\n",
       "      <td>382.793261</td>\n",
       "      <td>-0.798230</td>\n",
       "      <td>14.752747</td>\n",
       "      <td>17.753778</td>\n",
       "      <td>14.348884</td>\n",
       "      <td>0.886124</td>\n",
       "      <td>23.817424</td>\n",
       "      <td>567.269685</td>\n",
       "      <td>-7.261905</td>\n",
       "      <td>...</td>\n",
       "      <td>11.210357</td>\n",
       "      <td>28.438759</td>\n",
       "      <td>16.653185</td>\n",
       "      <td>277.328577</td>\n",
       "      <td>-3.002137</td>\n",
       "      <td>13.487485</td>\n",
       "      <td>17.957038</td>\n",
       "      <td>20.901462</td>\n",
       "      <td>0.236749</td>\n",
       "      <td>False</td>\n",
       "    </tr>\n",
       "    <tr>\n",
       "      <th>4</th>\n",
       "      <td>11.894778</td>\n",
       "      <td>141.485738</td>\n",
       "      <td>2.368742</td>\n",
       "      <td>9.621490</td>\n",
       "      <td>11.566655</td>\n",
       "      <td>5.349397</td>\n",
       "      <td>0.662431</td>\n",
       "      <td>14.410295</td>\n",
       "      <td>207.656590</td>\n",
       "      <td>0.511294</td>\n",
       "      <td>...</td>\n",
       "      <td>14.802946</td>\n",
       "      <td>15.672533</td>\n",
       "      <td>11.435759</td>\n",
       "      <td>130.776582</td>\n",
       "      <td>-1.312576</td>\n",
       "      <td>8.847680</td>\n",
       "      <td>15.219390</td>\n",
       "      <td>8.397903</td>\n",
       "      <td>0.372599</td>\n",
       "      <td>False</td>\n",
       "    </tr>\n",
       "  </tbody>\n",
       "</table>\n",
       "<p>5 rows × 71 columns</p>\n",
       "</div>"
      ],
      "text/plain": [
       "channel               F4-C4                                              \\\n",
       "                        std         var      mean   abs_mean      delta   \n",
       "epoch segment_id                                                          \n",
       "0     0           28.591644  817.482095  5.700549  23.484432  90.752080   \n",
       "      1           15.703171  246.589589  1.385836  12.170330  38.092166   \n",
       "      2           15.430893  238.112444 -0.270147  12.554945  37.880881   \n",
       "      3           19.565103  382.793261 -0.798230  14.752747  17.753778   \n",
       "      4           11.894778  141.485738  2.368742   9.621490  11.566655   \n",
       "\n",
       "channel                                    F3-C3                         ...  \\\n",
       "                      theta     gamma        std         var       mean  ...   \n",
       "epoch segment_id                                                         ...   \n",
       "0     0           22.017557  1.358653  26.327333  693.128467  10.578449  ...   \n",
       "      1            5.071763  2.198591  17.862862  319.081827   4.810745  ...   \n",
       "      2           17.995183  1.250724  17.298442  299.236084  -3.395910  ...   \n",
       "      3           14.348884  0.886124  23.817424  567.269685  -7.261905  ...   \n",
       "      4            5.349397  0.662431  14.410295  207.656590   0.511294  ...   \n",
       "\n",
       "channel               FP1-F3                 CZ-PZ                         \\\n",
       "                       theta      gamma        std         var       mean   \n",
       "epoch segment_id                                                            \n",
       "0     0           131.355683  24.845281  15.917382  253.363046  -2.052808   \n",
       "      1            18.431833  26.286171  19.462216  378.777839  -2.988400   \n",
       "      2            12.845020  19.786654  10.909920  119.026364  12.789988   \n",
       "      3            11.210357  28.438759  16.653185  277.328577  -3.002137   \n",
       "      4            14.802946  15.672533  11.435759  130.776582  -1.312576   \n",
       "\n",
       "channel                                                       target  \n",
       "                   abs_mean      delta      theta     gamma <lambda>  \n",
       "epoch segment_id                                                      \n",
       "0     0           12.764042  16.860269   9.121391  0.392502    False  \n",
       "      1           15.975275  77.629197  10.970848  0.323111    False  \n",
       "      2           14.157509  12.582095  10.424822  0.183952    False  \n",
       "      3           13.487485  17.957038  20.901462  0.236749    False  \n",
       "      4            8.847680  15.219390   8.397903  0.372599    False  \n",
       "\n",
       "[5 rows x 71 columns]"
      ]
     },
     "execution_count": 11,
     "metadata": {},
     "output_type": "execute_result"
    }
   ],
   "source": [
    "df_features = df_pp.groupby(['epoch', 'segment_id']).agg(\n",
    "    {C:[\n",
    "        # 'mean', \n",
    "        'std',\n",
    "        'var',\n",
    "        'mean',\n",
    "        abs_mean_agg,\n",
    "        delta_agg,\n",
    "        theta_agg,\n",
    "        gamma_agg\n",
    "        ] for C in CHANNELS} | \n",
    "    {target_colname: [target_foo]} \n",
    "    ) \n",
    "df_features.head()"
   ]
  },
  {
   "cell_type": "markdown",
   "metadata": {},
   "source": [
    "## Flatten Dataframe"
   ]
  },
  {
   "cell_type": "code",
   "execution_count": 12,
   "metadata": {},
   "outputs": [
    {
     "data": {
      "text/html": [
       "<div>\n",
       "<style scoped>\n",
       "    .dataframe tbody tr th:only-of-type {\n",
       "        vertical-align: middle;\n",
       "    }\n",
       "\n",
       "    .dataframe tbody tr th {\n",
       "        vertical-align: top;\n",
       "    }\n",
       "\n",
       "    .dataframe thead th {\n",
       "        text-align: right;\n",
       "    }\n",
       "</style>\n",
       "<table border=\"1\" class=\"dataframe\">\n",
       "  <thead>\n",
       "    <tr style=\"text-align: right;\">\n",
       "      <th></th>\n",
       "      <th>epoch</th>\n",
       "      <th>segment_id</th>\n",
       "      <th>F4-C4_std</th>\n",
       "      <th>F4-C4_var</th>\n",
       "      <th>F4-C4_mean</th>\n",
       "      <th>F4-C4_abs_mean</th>\n",
       "      <th>F4-C4_delta</th>\n",
       "      <th>F4-C4_theta</th>\n",
       "      <th>F4-C4_gamma</th>\n",
       "      <th>F3-C3_std</th>\n",
       "      <th>...</th>\n",
       "      <th>FP1-F3_theta</th>\n",
       "      <th>FP1-F3_gamma</th>\n",
       "      <th>CZ-PZ_std</th>\n",
       "      <th>CZ-PZ_var</th>\n",
       "      <th>CZ-PZ_mean</th>\n",
       "      <th>CZ-PZ_abs_mean</th>\n",
       "      <th>CZ-PZ_delta</th>\n",
       "      <th>CZ-PZ_theta</th>\n",
       "      <th>CZ-PZ_gamma</th>\n",
       "      <th>target</th>\n",
       "    </tr>\n",
       "  </thead>\n",
       "  <tbody>\n",
       "    <tr>\n",
       "      <th>0</th>\n",
       "      <td>0</td>\n",
       "      <td>0</td>\n",
       "      <td>28.591644</td>\n",
       "      <td>817.482095</td>\n",
       "      <td>5.700549</td>\n",
       "      <td>23.484432</td>\n",
       "      <td>90.752080</td>\n",
       "      <td>22.017557</td>\n",
       "      <td>1.358653</td>\n",
       "      <td>26.327333</td>\n",
       "      <td>...</td>\n",
       "      <td>131.355683</td>\n",
       "      <td>24.845281</td>\n",
       "      <td>15.917382</td>\n",
       "      <td>253.363046</td>\n",
       "      <td>-2.052808</td>\n",
       "      <td>12.764042</td>\n",
       "      <td>16.860269</td>\n",
       "      <td>9.121391</td>\n",
       "      <td>0.392502</td>\n",
       "      <td>False</td>\n",
       "    </tr>\n",
       "    <tr>\n",
       "      <th>1</th>\n",
       "      <td>0</td>\n",
       "      <td>1</td>\n",
       "      <td>15.703171</td>\n",
       "      <td>246.589589</td>\n",
       "      <td>1.385836</td>\n",
       "      <td>12.170330</td>\n",
       "      <td>38.092166</td>\n",
       "      <td>5.071763</td>\n",
       "      <td>2.198591</td>\n",
       "      <td>17.862862</td>\n",
       "      <td>...</td>\n",
       "      <td>18.431833</td>\n",
       "      <td>26.286171</td>\n",
       "      <td>19.462216</td>\n",
       "      <td>378.777839</td>\n",
       "      <td>-2.988400</td>\n",
       "      <td>15.975275</td>\n",
       "      <td>77.629197</td>\n",
       "      <td>10.970848</td>\n",
       "      <td>0.323111</td>\n",
       "      <td>False</td>\n",
       "    </tr>\n",
       "    <tr>\n",
       "      <th>2</th>\n",
       "      <td>0</td>\n",
       "      <td>2</td>\n",
       "      <td>15.430893</td>\n",
       "      <td>238.112444</td>\n",
       "      <td>-0.270147</td>\n",
       "      <td>12.554945</td>\n",
       "      <td>37.880881</td>\n",
       "      <td>17.995183</td>\n",
       "      <td>1.250724</td>\n",
       "      <td>17.298442</td>\n",
       "      <td>...</td>\n",
       "      <td>12.845020</td>\n",
       "      <td>19.786654</td>\n",
       "      <td>10.909920</td>\n",
       "      <td>119.026364</td>\n",
       "      <td>12.789988</td>\n",
       "      <td>14.157509</td>\n",
       "      <td>12.582095</td>\n",
       "      <td>10.424822</td>\n",
       "      <td>0.183952</td>\n",
       "      <td>False</td>\n",
       "    </tr>\n",
       "    <tr>\n",
       "      <th>3</th>\n",
       "      <td>0</td>\n",
       "      <td>3</td>\n",
       "      <td>19.565103</td>\n",
       "      <td>382.793261</td>\n",
       "      <td>-0.798230</td>\n",
       "      <td>14.752747</td>\n",
       "      <td>17.753778</td>\n",
       "      <td>14.348884</td>\n",
       "      <td>0.886124</td>\n",
       "      <td>23.817424</td>\n",
       "      <td>...</td>\n",
       "      <td>11.210357</td>\n",
       "      <td>28.438759</td>\n",
       "      <td>16.653185</td>\n",
       "      <td>277.328577</td>\n",
       "      <td>-3.002137</td>\n",
       "      <td>13.487485</td>\n",
       "      <td>17.957038</td>\n",
       "      <td>20.901462</td>\n",
       "      <td>0.236749</td>\n",
       "      <td>False</td>\n",
       "    </tr>\n",
       "    <tr>\n",
       "      <th>4</th>\n",
       "      <td>0</td>\n",
       "      <td>4</td>\n",
       "      <td>11.894778</td>\n",
       "      <td>141.485738</td>\n",
       "      <td>2.368742</td>\n",
       "      <td>9.621490</td>\n",
       "      <td>11.566655</td>\n",
       "      <td>5.349397</td>\n",
       "      <td>0.662431</td>\n",
       "      <td>14.410295</td>\n",
       "      <td>...</td>\n",
       "      <td>14.802946</td>\n",
       "      <td>15.672533</td>\n",
       "      <td>11.435759</td>\n",
       "      <td>130.776582</td>\n",
       "      <td>-1.312576</td>\n",
       "      <td>8.847680</td>\n",
       "      <td>15.219390</td>\n",
       "      <td>8.397903</td>\n",
       "      <td>0.372599</td>\n",
       "      <td>False</td>\n",
       "    </tr>\n",
       "    <tr>\n",
       "      <th>5</th>\n",
       "      <td>0</td>\n",
       "      <td>5</td>\n",
       "      <td>20.456250</td>\n",
       "      <td>418.458171</td>\n",
       "      <td>-1.413309</td>\n",
       "      <td>15.947802</td>\n",
       "      <td>52.580755</td>\n",
       "      <td>25.085792</td>\n",
       "      <td>2.709056</td>\n",
       "      <td>32.195808</td>\n",
       "      <td>...</td>\n",
       "      <td>544.425437</td>\n",
       "      <td>45.142188</td>\n",
       "      <td>21.627095</td>\n",
       "      <td>467.731229</td>\n",
       "      <td>3.047924</td>\n",
       "      <td>17.338217</td>\n",
       "      <td>25.949766</td>\n",
       "      <td>29.852899</td>\n",
       "      <td>0.244165</td>\n",
       "      <td>False</td>\n",
       "    </tr>\n",
       "    <tr>\n",
       "      <th>6</th>\n",
       "      <td>0</td>\n",
       "      <td>6</td>\n",
       "      <td>26.688526</td>\n",
       "      <td>712.277423</td>\n",
       "      <td>-3.447802</td>\n",
       "      <td>21.144689</td>\n",
       "      <td>164.351623</td>\n",
       "      <td>13.122467</td>\n",
       "      <td>0.693333</td>\n",
       "      <td>27.911897</td>\n",
       "      <td>...</td>\n",
       "      <td>18.646527</td>\n",
       "      <td>21.815430</td>\n",
       "      <td>17.049196</td>\n",
       "      <td>290.675092</td>\n",
       "      <td>-2.356532</td>\n",
       "      <td>13.824786</td>\n",
       "      <td>65.058987</td>\n",
       "      <td>15.267040</td>\n",
       "      <td>0.230536</td>\n",
       "      <td>False</td>\n",
       "    </tr>\n",
       "    <tr>\n",
       "      <th>7</th>\n",
       "      <td>0</td>\n",
       "      <td>7</td>\n",
       "      <td>15.269193</td>\n",
       "      <td>233.148259</td>\n",
       "      <td>-1.939866</td>\n",
       "      <td>12.332112</td>\n",
       "      <td>17.984758</td>\n",
       "      <td>6.736646</td>\n",
       "      <td>1.220931</td>\n",
       "      <td>21.066595</td>\n",
       "      <td>...</td>\n",
       "      <td>22.841471</td>\n",
       "      <td>34.591868</td>\n",
       "      <td>14.515155</td>\n",
       "      <td>210.689727</td>\n",
       "      <td>-4.021673</td>\n",
       "      <td>11.527778</td>\n",
       "      <td>13.573702</td>\n",
       "      <td>13.476781</td>\n",
       "      <td>0.236498</td>\n",
       "      <td>False</td>\n",
       "    </tr>\n",
       "    <tr>\n",
       "      <th>8</th>\n",
       "      <td>0</td>\n",
       "      <td>8</td>\n",
       "      <td>14.091817</td>\n",
       "      <td>198.579312</td>\n",
       "      <td>2.806777</td>\n",
       "      <td>11.536935</td>\n",
       "      <td>14.936508</td>\n",
       "      <td>12.702729</td>\n",
       "      <td>1.284247</td>\n",
       "      <td>23.404054</td>\n",
       "      <td>...</td>\n",
       "      <td>27.785088</td>\n",
       "      <td>47.398717</td>\n",
       "      <td>17.921096</td>\n",
       "      <td>321.165669</td>\n",
       "      <td>1.355311</td>\n",
       "      <td>14.064408</td>\n",
       "      <td>49.629803</td>\n",
       "      <td>13.335399</td>\n",
       "      <td>0.331788</td>\n",
       "      <td>False</td>\n",
       "    </tr>\n",
       "    <tr>\n",
       "      <th>9</th>\n",
       "      <td>0</td>\n",
       "      <td>9</td>\n",
       "      <td>16.632450</td>\n",
       "      <td>276.638378</td>\n",
       "      <td>2.052808</td>\n",
       "      <td>14.285714</td>\n",
       "      <td>31.961215</td>\n",
       "      <td>5.704794</td>\n",
       "      <td>0.734911</td>\n",
       "      <td>20.025988</td>\n",
       "      <td>...</td>\n",
       "      <td>13.757021</td>\n",
       "      <td>11.188177</td>\n",
       "      <td>17.468450</td>\n",
       "      <td>305.146732</td>\n",
       "      <td>-0.436508</td>\n",
       "      <td>13.904151</td>\n",
       "      <td>37.930194</td>\n",
       "      <td>30.099507</td>\n",
       "      <td>0.336281</td>\n",
       "      <td>False</td>\n",
       "    </tr>\n",
       "  </tbody>\n",
       "</table>\n",
       "<p>10 rows × 73 columns</p>\n",
       "</div>"
      ],
      "text/plain": [
       "   epoch  segment_id  F4-C4_std   F4-C4_var  F4-C4_mean  F4-C4_abs_mean  \\\n",
       "0      0           0  28.591644  817.482095    5.700549       23.484432   \n",
       "1      0           1  15.703171  246.589589    1.385836       12.170330   \n",
       "2      0           2  15.430893  238.112444   -0.270147       12.554945   \n",
       "3      0           3  19.565103  382.793261   -0.798230       14.752747   \n",
       "4      0           4  11.894778  141.485738    2.368742        9.621490   \n",
       "5      0           5  20.456250  418.458171   -1.413309       15.947802   \n",
       "6      0           6  26.688526  712.277423   -3.447802       21.144689   \n",
       "7      0           7  15.269193  233.148259   -1.939866       12.332112   \n",
       "8      0           8  14.091817  198.579312    2.806777       11.536935   \n",
       "9      0           9  16.632450  276.638378    2.052808       14.285714   \n",
       "\n",
       "   F4-C4_delta  F4-C4_theta  F4-C4_gamma  F3-C3_std  ...  FP1-F3_theta  \\\n",
       "0    90.752080    22.017557     1.358653  26.327333  ...    131.355683   \n",
       "1    38.092166     5.071763     2.198591  17.862862  ...     18.431833   \n",
       "2    37.880881    17.995183     1.250724  17.298442  ...     12.845020   \n",
       "3    17.753778    14.348884     0.886124  23.817424  ...     11.210357   \n",
       "4    11.566655     5.349397     0.662431  14.410295  ...     14.802946   \n",
       "5    52.580755    25.085792     2.709056  32.195808  ...    544.425437   \n",
       "6   164.351623    13.122467     0.693333  27.911897  ...     18.646527   \n",
       "7    17.984758     6.736646     1.220931  21.066595  ...     22.841471   \n",
       "8    14.936508    12.702729     1.284247  23.404054  ...     27.785088   \n",
       "9    31.961215     5.704794     0.734911  20.025988  ...     13.757021   \n",
       "\n",
       "   FP1-F3_gamma  CZ-PZ_std   CZ-PZ_var  CZ-PZ_mean  CZ-PZ_abs_mean  \\\n",
       "0     24.845281  15.917382  253.363046   -2.052808       12.764042   \n",
       "1     26.286171  19.462216  378.777839   -2.988400       15.975275   \n",
       "2     19.786654  10.909920  119.026364   12.789988       14.157509   \n",
       "3     28.438759  16.653185  277.328577   -3.002137       13.487485   \n",
       "4     15.672533  11.435759  130.776582   -1.312576        8.847680   \n",
       "5     45.142188  21.627095  467.731229    3.047924       17.338217   \n",
       "6     21.815430  17.049196  290.675092   -2.356532       13.824786   \n",
       "7     34.591868  14.515155  210.689727   -4.021673       11.527778   \n",
       "8     47.398717  17.921096  321.165669    1.355311       14.064408   \n",
       "9     11.188177  17.468450  305.146732   -0.436508       13.904151   \n",
       "\n",
       "   CZ-PZ_delta  CZ-PZ_theta  CZ-PZ_gamma  target  \n",
       "0    16.860269     9.121391     0.392502   False  \n",
       "1    77.629197    10.970848     0.323111   False  \n",
       "2    12.582095    10.424822     0.183952   False  \n",
       "3    17.957038    20.901462     0.236749   False  \n",
       "4    15.219390     8.397903     0.372599   False  \n",
       "5    25.949766    29.852899     0.244165   False  \n",
       "6    65.058987    15.267040     0.230536   False  \n",
       "7    13.573702    13.476781     0.236498   False  \n",
       "8    49.629803    13.335399     0.331788   False  \n",
       "9    37.930194    30.099507     0.336281   False  \n",
       "\n",
       "[10 rows x 73 columns]"
      ]
     },
     "execution_count": 12,
     "metadata": {},
     "output_type": "execute_result"
    }
   ],
   "source": [
    "# joining column names with agg functions, but leaving target column\n",
    "df_features.columns = ['_'.join(col).strip() for col in df_features.columns.values if target_colname != col[0]] + [target_colname]\n",
    "df_features.reset_index(inplace=True)\n",
    "df_features.head(10)\n"
   ]
  },
  {
   "cell_type": "code",
   "execution_count": 13,
   "metadata": {},
   "outputs": [
    {
     "data": {
      "text/plain": [
       "epoch             0\n",
       "segment_id        0\n",
       "F4-C4_std         0\n",
       "F4-C4_var         0\n",
       "F4-C4_mean        0\n",
       "                 ..\n",
       "CZ-PZ_abs_mean    0\n",
       "CZ-PZ_delta       0\n",
       "CZ-PZ_theta       0\n",
       "CZ-PZ_gamma       0\n",
       "target            0\n",
       "Length: 73, dtype: int64"
      ]
     },
     "execution_count": 13,
     "metadata": {},
     "output_type": "execute_result"
    }
   ],
   "source": [
    "df_features.isna().sum()"
   ]
  },
  {
   "cell_type": "code",
   "execution_count": 14,
   "metadata": {},
   "outputs": [
    {
     "name": "stderr",
     "output_type": "stream",
     "text": [
      "/home/weasel/reps/ai-seizure-detectives/.venv/lib/python3.11/site-packages/sklearn/utils/validation.py:767: FutureWarning: is_sparse is deprecated and will be removed in a future version. Check `isinstance(dtype, pd.SparseDtype)` instead.\n",
      "  if not hasattr(array, \"sparse\") and array.dtypes.apply(is_sparse).any():\n",
      "/home/weasel/reps/ai-seizure-detectives/.venv/lib/python3.11/site-packages/sklearn/utils/validation.py:605: FutureWarning: is_sparse is deprecated and will be removed in a future version. Check `isinstance(dtype, pd.SparseDtype)` instead.\n",
      "  if is_sparse(pd_dtype):\n",
      "/home/weasel/reps/ai-seizure-detectives/.venv/lib/python3.11/site-packages/sklearn/utils/validation.py:614: FutureWarning: is_sparse is deprecated and will be removed in a future version. Check `isinstance(dtype, pd.SparseDtype)` instead.\n",
      "  if is_sparse(pd_dtype) or not is_extension_array_dtype(pd_dtype):\n",
      "/home/weasel/reps/ai-seizure-detectives/.venv/lib/python3.11/site-packages/sklearn/utils/validation.py:767: FutureWarning: is_sparse is deprecated and will be removed in a future version. Check `isinstance(dtype, pd.SparseDtype)` instead.\n",
      "  if not hasattr(array, \"sparse\") and array.dtypes.apply(is_sparse).any():\n",
      "/home/weasel/reps/ai-seizure-detectives/.venv/lib/python3.11/site-packages/sklearn/utils/validation.py:605: FutureWarning: is_sparse is deprecated and will be removed in a future version. Check `isinstance(dtype, pd.SparseDtype)` instead.\n",
      "  if is_sparse(pd_dtype):\n",
      "/home/weasel/reps/ai-seizure-detectives/.venv/lib/python3.11/site-packages/sklearn/utils/validation.py:614: FutureWarning: is_sparse is deprecated and will be removed in a future version. Check `isinstance(dtype, pd.SparseDtype)` instead.\n",
      "  if is_sparse(pd_dtype) or not is_extension_array_dtype(pd_dtype):\n"
     ]
    },
    {
     "data": {
      "text/plain": [
       "(131100, 70)"
      ]
     },
     "execution_count": 14,
     "metadata": {},
     "output_type": "execute_result"
    }
   ],
   "source": [
    "#Preparing data to be scaled\n",
    "\n",
    "num_features= df_features.drop(['epoch','segment_id','target'],axis =1)\n",
    "\n",
    "from sklearn.preprocessing import StandardScaler, minmax_scale, MinMaxScaler\n",
    "\n",
    "scaler = MinMaxScaler()\n",
    "num_features_scaled = scaler.fit_transform(num_features)\n",
    "num_features_scaled.shape # timepoints x features\n"
   ]
  },
  {
   "cell_type": "code",
   "execution_count": 15,
   "metadata": {},
   "outputs": [
    {
     "data": {
      "text/plain": [
       "array([[3.80959219e-02, 1.45129926e-03, 5.35631024e-01],\n",
       "       [2.09231337e-02, 4.37777526e-04, 5.28046873e-01],\n",
       "       [2.05603455e-02, 4.22727809e-04, 5.25136083e-01],\n",
       "       [2.60688279e-02, 6.79583787e-04, 5.24207849e-01],\n",
       "       [1.58487748e-02, 2.51183664e-04, 5.29774568e-01],\n",
       "       [2.72562051e-02, 7.42900718e-04, 5.23126699e-01],\n",
       "       [3.55601801e-02, 1.26452641e-03, 5.19550585e-01],\n",
       "       [2.03448949e-02, 4.13914749e-04, 5.22201148e-01],\n",
       "       [1.87761421e-02, 3.52543513e-04, 5.30544519e-01],\n",
       "       [2.21613176e-02, 4.91123998e-04, 5.29219238e-01],\n",
       "       [5.80504234e-02, 3.36985166e-03, 5.20975128e-01],\n",
       "       [2.11349044e-02, 4.46684182e-04, 5.16028126e-01],\n",
       "       [2.53588901e-02, 6.43073307e-04, 5.41074336e-01],\n",
       "       [3.03856789e-02, 9.23289480e-04, 5.24972435e-01],\n",
       "       [1.97301637e-02, 3.89279358e-04, 5.36899968e-01],\n",
       "       [2.63668893e-02, 6.95212851e-04, 5.25844330e-01],\n",
       "       [2.41270289e-02, 5.82113522e-04, 5.20371508e-01],\n",
       "       [3.52576758e-02, 1.24310370e-03, 5.37669919e-01],\n",
       "       [5.11797087e-02, 2.61936258e-03, 4.89570786e-01],\n",
       "       [2.02273452e-02, 4.09145494e-04, 5.40087082e-01],\n",
       "       [2.17453575e-02, 4.72860573e-04, 5.28272225e-01],\n",
       "       [2.26785921e-02, 5.14318539e-04, 5.32851689e-01],\n",
       "       [2.41435910e-02, 5.82912986e-04, 5.29119976e-01],\n",
       "       [4.32114761e-02, 1.86723167e-03, 5.03298449e-01],\n",
       "       [3.03513227e-02, 9.21202792e-04, 5.41297005e-01],\n",
       "       [3.13947421e-02, 9.85629834e-04, 5.16494926e-01],\n",
       "       [2.78464613e-02, 7.75425406e-04, 5.37965022e-01],\n",
       "       [3.74282800e-02, 1.40087615e-03, 5.16122022e-01],\n",
       "       [2.37217986e-02, 5.62723728e-04, 5.21924824e-01],\n",
       "       [2.45977443e-02, 6.05049026e-04, 5.35330556e-01]])"
      ]
     },
     "execution_count": 15,
     "metadata": {},
     "output_type": "execute_result"
    }
   ],
   "source": [
    "num_features_scaled[:30, :3]\n"
   ]
  },
  {
   "cell_type": "code",
   "execution_count": 16,
   "metadata": {},
   "outputs": [
    {
     "data": {
      "text/plain": [
       "(437, 300, 70)"
      ]
     },
     "execution_count": 16,
     "metadata": {},
     "output_type": "execute_result"
    }
   ],
   "source": [
    "# Determine the number of epochs\n",
    "num_epochs = df_features.epoch.nunique()\n",
    "# Determine the number of segments for each epoch\n",
    "num_segments = df_features.segment_id.nunique()  # Assuming there are 30 segments for each epocha\n",
    "num_features = num_features_scaled.shape[1]\n",
    "\n",
    "reshaped_features = num_features_scaled.reshape(num_epochs, num_segments, num_features)\n",
    "reshaped_features.shape # epochs x segments x features"
   ]
  },
  {
   "cell_type": "code",
   "execution_count": 17,
   "metadata": {},
   "outputs": [
    {
     "data": {
      "text/plain": [
       "(437, 300)"
      ]
     },
     "execution_count": 17,
     "metadata": {},
     "output_type": "execute_result"
    }
   ],
   "source": [
    "# target_array = df_features.groupby('epoch')['target'].sum().gt(0).astype(int).values\n",
    "target_array = df_features['target'].values.reshape(num_epochs, -1)\n",
    "target_array = target_array.astype(int)\n",
    "target_array.shape"
   ]
  },
  {
   "cell_type": "code",
   "execution_count": 18,
   "metadata": {},
   "outputs": [
    {
     "data": {
      "text/plain": [
       "(437, 300, 71)"
      ]
     },
     "execution_count": 18,
     "metadata": {},
     "output_type": "execute_result"
    }
   ],
   "source": [
    "array_all_scaled = np.concatenate((reshaped_features, target_array[:,:,np.newaxis]), axis=2)\n",
    "array_all_scaled.shape"
   ]
  },
  {
   "cell_type": "code",
   "execution_count": 25,
   "metadata": {},
   "outputs": [
    {
     "data": {
      "text/plain": [
       "0"
      ]
     },
     "execution_count": 25,
     "metadata": {},
     "output_type": "execute_result"
    }
   ],
   "source": [
    "np.isnan(array_all_scaled).sum()"
   ]
  },
  {
   "cell_type": "code",
   "execution_count": 19,
   "metadata": {},
   "outputs": [],
   "source": [
    "np.save('data/'+np_file_name + '.npy', array_all_scaled)"
   ]
  },
  {
   "cell_type": "code",
   "execution_count": 23,
   "metadata": {},
   "outputs": [
    {
     "data": {
      "text/plain": [
       "0"
      ]
     },
     "execution_count": 23,
     "metadata": {},
     "output_type": "execute_result"
    }
   ],
   "source": [
    "np.isnan(array_all_scaled).sum()"
   ]
  }
 ],
 "metadata": {
  "kernelspec": {
   "display_name": ".venv",
   "language": "python",
   "name": "python3"
  },
  "language_info": {
   "codemirror_mode": {
    "name": "ipython",
    "version": 3
   },
   "file_extension": ".py",
   "mimetype": "text/x-python",
   "name": "python",
   "nbconvert_exporter": "python",
   "pygments_lexer": "ipython3",
   "version": "3.11.3"
  }
 },
 "nbformat": 4,
 "nbformat_minor": 2
}
