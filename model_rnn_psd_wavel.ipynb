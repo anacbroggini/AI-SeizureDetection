{
 "cells": [
  {
   "cell_type": "code",
   "execution_count": 2,
   "metadata": {},
   "outputs": [
    {
     "name": "stderr",
     "output_type": "stream",
     "text": [
      "2023-11-20 14:50:18.034394: I tensorflow/core/platform/cpu_feature_guard.cc:182] This TensorFlow binary is optimized to use available CPU instructions in performance-critical operations.\n",
      "To enable the following instructions: AVX2 FMA, in other operations, rebuild TensorFlow with the appropriate compiler flags.\n"
     ]
    }
   ],
   "source": [
    "import pip\n",
    "\n",
    "def import_or_install(package):\n",
    "    try:\n",
    "        __import__(package)\n",
    "    except ImportError:\n",
    "        pip.main(['install', package])       \n",
    "\n",
    "import_or_install('tensorflow')\n",
    "import_or_install('pydot')\n"
   ]
  },
  {
   "cell_type": "code",
   "execution_count": 3,
   "metadata": {},
   "outputs": [],
   "source": [
    "import tensorflow as tf\n",
    "from tensorflow import keras\n",
    "from tensorflow.keras import layers"
   ]
  },
  {
   "cell_type": "code",
   "execution_count": 4,
   "metadata": {},
   "outputs": [],
   "source": [
    "import pyarrow as pa\n",
    "import pandas as pd\n",
    "import matplotlib\n",
    "import matplotlib.pyplot as plt\n",
    "import seaborn as sns\n",
    "import numpy as np\n",
    "from source import data_import"
   ]
  },
  {
   "cell_type": "code",
   "execution_count": 5,
   "metadata": {},
   "outputs": [],
   "source": [
    "from sklearn.model_selection import train_test_split\n",
    "from sklearn.metrics import confusion_matrix, accuracy_score\n",
    "from sklearn.preprocessing import StandardScaler"
   ]
  },
  {
   "cell_type": "code",
   "execution_count": 6,
   "metadata": {},
   "outputs": [],
   "source": [
    "import tensorflow as tf\n",
    "\n",
    "import keras \n",
    "from keras.models import Sequential # intitialize the ANN\n",
    "from keras.layers import Dense, Activation, Dropout "
   ]
  },
  {
   "cell_type": "code",
   "execution_count": 7,
   "metadata": {},
   "outputs": [],
   "source": [
    "import source.plots as plots"
   ]
  },
  {
   "cell_type": "code",
   "execution_count": 8,
   "metadata": {},
   "outputs": [],
   "source": [
    "RSEED = 42\n",
    "np.random.seed(seed=RSEED)\n",
    "tf.random.set_seed(RSEED)"
   ]
  },
  {
   "cell_type": "code",
   "execution_count": 186,
   "metadata": {},
   "outputs": [
    {
     "name": "stdout",
     "output_type": "stream",
     "text": [
      "data already loaded in parent notebook\n"
     ]
    },
    {
     "data": {
      "text/plain": [
       "(13330, 30, 63)"
      ]
     },
     "execution_count": 186,
     "metadata": {},
     "output_type": "execute_result"
    }
   ],
   "source": [
    "try:\n",
    "    data\n",
    "    print('data already loaded in parent notebook')\n",
    "except NameError:\n",
    "    data = np.load('data/extracted_features.npy')\n",
    "data.shape"
   ]
  },
  {
   "cell_type": "code",
   "execution_count": 9,
   "metadata": {},
   "outputs": [],
   "source": [
    "data = np.load('data/psd_wav_features.npy')\n"
   ]
  },
  {
   "cell_type": "code",
   "execution_count": 10,
   "metadata": {},
   "outputs": [],
   "source": [
    "import numpy as np\n",
    "\n",
    "def split_data(data, train_size=0.8, random_state=None):\n",
    "    np.random.seed(seed=RSEED)\n",
    "\n",
    "    # Assuming the first column contains the IDs\n",
    "    ids_column = data[:, 0, 0]\n",
    "\n",
    "    # Find unique epoch IDs\n",
    "    unique_epoch_ids = np.unique(ids_column)\n",
    "\n",
    "    # Shuffle the unique epoch IDs\n",
    "    np.random.shuffle(unique_epoch_ids)\n",
    "\n",
    "    # Calculate the number of unique epoch IDs for training, validation, and testing\n",
    "    train_samples_nr = int(np.floor(train_size * len(unique_epoch_ids)))\n",
    "    print(f'{train_samples_nr} of epochs for training, {len(unique_epoch_ids) - train_samples_nr} of epochs for testing/validation')\n",
    "\n",
    "    # Split the unique epoch IDs into train, validation, and test sets\n",
    "\n",
    "    train_sample_ids = unique_epoch_ids[:train_samples_nr]\n",
    "    test_sample_ids = unique_epoch_ids[train_samples_nr:]\n",
    "\n",
    "    # Create boolean masks for filtering\n",
    "    train_mask = np.in1d(ids_column, train_sample_ids)\n",
    "    test_mask = np.in1d(ids_column, test_sample_ids)\n",
    "\n",
    "    # Apply the masks to create train, validation, and test samples\n",
    "    train_sample = data[train_mask, :, :]\n",
    "    test_sample = data[test_mask, :, :]\n",
    "\n",
    "    X_train = train_sample[:,:,:-1]\n",
    "    X_test = test_sample[:,:,:-1]\n",
    "\n",
    "    Y_train = train_sample[:,:,-1]\n",
    "    Y_test = test_sample[:,:,-1]\n",
    "\n",
    "    y_test=Y_test.max(axis=1)\n",
    "    y_train=Y_train.max(axis=1)\n",
    "\n",
    "    return X_train, X_test, Y_train, Y_test, y_train, y_test\n"
   ]
  },
  {
   "cell_type": "code",
   "execution_count": 11,
   "metadata": {},
   "outputs": [
    {
     "name": "stdout",
     "output_type": "stream",
     "text": [
      "344 of epochs for training, 86 of epochs for testing/validation\n",
      "train shape (10664, 30, 92) ratio of seizures 0.14\n",
      "test shape (2666, 30, 92), ratio of seizures 0.13\n"
     ]
    }
   ],
   "source": [
    "X_train, X_test, Y_train, Y_test, y_train, y_test = split_data(data)\n",
    "print(f'train shape', X_train.shape, f'ratio of seizures {y_train.sum()/len(y_train):.2f}')\n",
    "print(f'test shape {X_test.shape}, ratio of seizures {y_test.sum()/len(y_test):.2f}')"
   ]
  },
  {
   "cell_type": "code",
   "execution_count": 12,
   "metadata": {},
   "outputs": [
    {
     "name": "stdout",
     "output_type": "stream",
     "text": [
      "train shape (10664, 30, 90)\n",
      "test shape (2666, 30, 90)\n"
     ]
    }
   ],
   "source": [
    "# Scaling features\n",
    "num_features_train = X_train[:,:,2:]\n",
    "num_features_test = X_test[:,:,2:]\n",
    "\n",
    "# Get the dimensions of the original array\n",
    "num_epochs_tr, num_segments_per_epoch_tr, features_tr = num_features_train.shape\n",
    "num_epochs_te, num_segments_per_epoch_te, features_te = num_features_test.shape\n",
    "\n",
    "# Reshape the array to 2D\n",
    "reshaped_array_train = num_features_train.reshape(num_epochs_tr * num_segments_per_epoch_tr, features_tr)\n",
    "reshaped_array_test = num_features_test.reshape(num_epochs_te * num_segments_per_epoch_te, features_te)\n",
    "\n",
    "# Scaling features\n",
    "scaler = StandardScaler()\n",
    "num_features_scaled_tr = scaler.fit_transform(reshaped_array_train)\n",
    "num_features_scaled_te = scaler.transform(reshaped_array_test)\n",
    "\n",
    "X_train_scaled = num_features_scaled_tr.reshape(num_epochs_tr, num_segments_per_epoch_tr, features_tr)\n",
    "X_test_scaled = num_features_scaled_te.reshape(num_epochs_te, num_segments_per_epoch_te, features_te)\n",
    "\n",
    "print(f'train shape', X_train_scaled.shape)\n",
    "print(f'test shape', X_test_scaled.shape)"
   ]
  },
  {
   "cell_type": "code",
   "execution_count": 13,
   "metadata": {},
   "outputs": [],
   "source": [
    "X_train = X_train_scaled\n",
    "X_test = X_test_scaled"
   ]
  },
  {
   "cell_type": "code",
   "execution_count": 14,
   "metadata": {},
   "outputs": [],
   "source": [
    "import numpy as np\n",
    "import tensorflow as tf\n",
    "from sklearn.utils.class_weight import compute_class_weight\n",
    "\n",
    "class_labels, class_counts = np.unique(y_train, return_counts=True)\n",
    "total_samples = len(y_train)\n",
    "class_weights = total_samples / (len(class_labels) * class_counts)\n",
    "\n",
    "# Convert class weights to a dictionary\n",
    "class_weight_dict = dict(zip(class_labels, class_weights))\n"
   ]
  },
  {
   "cell_type": "code",
   "execution_count": 15,
   "metadata": {},
   "outputs": [],
   "source": [
    "class_labels, class_counts = np.unique(y_train, return_counts=True)"
   ]
  },
  {
   "cell_type": "code",
   "execution_count": 16,
   "metadata": {},
   "outputs": [
    {
     "data": {
      "text/plain": [
       "{0.0: 0.5830508474576271, 1.0: 3.510204081632653}"
      ]
     },
     "execution_count": 16,
     "metadata": {},
     "output_type": "execute_result"
    }
   ],
   "source": [
    "class_weight_dict"
   ]
  },
  {
   "cell_type": "code",
   "execution_count": 17,
   "metadata": {},
   "outputs": [],
   "source": [
    "N_TRAIN = len(X_train)\n",
    "EPOCHS = 400\n",
    "BATCH_SIZE = 100\n",
    "STEPS_PER_EPOCH = N_TRAIN // BATCH_SIZE"
   ]
  },
  {
   "cell_type": "code",
   "execution_count": 18,
   "metadata": {},
   "outputs": [
    {
     "data": {
      "text/plain": [
       "106"
      ]
     },
     "execution_count": 18,
     "metadata": {},
     "output_type": "execute_result"
    }
   ],
   "source": [
    "STEPS_PER_EPOCH"
   ]
  },
  {
   "cell_type": "code",
   "execution_count": 19,
   "metadata": {},
   "outputs": [],
   "source": [
    "from keras.models import Sequential\n",
    "from keras.layers import LSTM, Dense, Dropout, BatchNormalization, Input\n",
    "from tensorflow.keras.optimizers import Adam\n",
    "from keras import regularizers\n",
    "\n",
    "# Set seeds for reproducibility\n",
    "np.random.seed(42)\n",
    "tf.random.set_seed(42)\n",
    "\n",
    "model = Sequential()\n",
    "\n",
    "model.add(Input(shape=X_train.shape[1:]))\n",
    "\n",
    "#model.add(normalizer)\n",
    "\n",
    "# Recurrent layer\n",
    "model.add(LSTM(128, return_sequences=False, kernel_regularizer=regularizers.l2(0.01)))\n",
    "\n",
    "model.add(Dropout(0.5))  # Add dropout after LSTM\n",
    "\n",
    "# Fully connected layer\n",
    "model.add(Dense(128, activation='relu', kernel_regularizer=regularizers.l2(0.01)))\n",
    "\n",
    "# Dropout for regularization\n",
    "model.add(Dropout(0.5))\n",
    "\n",
    "model.add(BatchNormalization())\n",
    "\n",
    "# Calculate the imbalance ratio\n",
    "pos_ratio = class_weight_dict[1] / (class_weight_dict[0] + class_weight_dict[1])\n",
    "\n",
    "# Calculate the initial bias based on the imbalance ratio\n",
    "initial_bias = -np.log(pos_ratio)\n",
    "\n",
    "# Output layer with a custom bias for initial probability\n",
    "model.add(Dense(1, activation='sigmoid', bias_initializer=tf.keras.initializers.Constant(initial_bias)))\n",
    "\n",
    "# Compile the model\n",
    "#learning_rate = 0.001  # Replace with your desired learning rate\n",
    "\n",
    "# Create an instance of the Adam optimizer with the specified learning rate\n",
    "\n",
    "lr_schedule = tf.keras.optimizers.schedules.InverseTimeDecay(\n",
    "    0.00001,\n",
    "    decay_steps=STEPS_PER_EPOCH*1000,\n",
    "    decay_rate=0.001,\n",
    "    staircase=False)\n",
    "\n",
    "\n",
    "optimizer = Adam(learning_rate=lr_schedule)\n",
    "model.compile(\n",
    "    optimizer=optimizer, loss='binary_crossentropy', metrics=['accuracy', 'AUC'])"
   ]
  },
  {
   "cell_type": "code",
   "execution_count": 20,
   "metadata": {},
   "outputs": [
    {
     "name": "stdout",
     "output_type": "stream",
     "text": [
      "Model: \"sequential\"\n",
      "_________________________________________________________________\n",
      " Layer (type)                Output Shape              Param #   \n",
      "=================================================================\n",
      " lstm (LSTM)                 (None, 128)               112128    \n",
      "                                                                 \n",
      " dropout (Dropout)           (None, 128)               0         \n",
      "                                                                 \n",
      " dense (Dense)               (None, 128)               16512     \n",
      "                                                                 \n",
      " dropout_1 (Dropout)         (None, 128)               0         \n",
      "                                                                 \n",
      " batch_normalization (Batch  (None, 128)               512       \n",
      " Normalization)                                                  \n",
      "                                                                 \n",
      " dense_1 (Dense)             (None, 1)                 129       \n",
      "                                                                 \n",
      "=================================================================\n",
      "Total params: 129281 (505.00 KB)\n",
      "Trainable params: 129025 (504.00 KB)\n",
      "Non-trainable params: 256 (1.00 KB)\n",
      "_________________________________________________________________\n"
     ]
    }
   ],
   "source": [
    "model.summary()"
   ]
  },
  {
   "cell_type": "code",
   "execution_count": 21,
   "metadata": {},
   "outputs": [],
   "source": [
    "from keras.callbacks import EarlyStopping, ModelCheckpoint\n",
    "\n",
    "# Create EarlyStopping callback\n",
    "early_stopping = EarlyStopping(monitor='val_loss', patience=30, restore_best_weights=True)\n",
    "\n",
    "# Create ModelCheckpoint callback to save the best model\n",
    "model_checkpoint = ModelCheckpoint('best_model.h5', save_best_only=True)\n",
    "\n",
    "# Combine the callbacks in a list\n",
    "callbacks = [early_stopping, model_checkpoint]"
   ]
  },
  {
   "cell_type": "code",
   "execution_count": 22,
   "metadata": {},
   "outputs": [
    {
     "data": {
      "text/plain": [
       "(10664,)"
      ]
     },
     "execution_count": 22,
     "metadata": {},
     "output_type": "execute_result"
    }
   ],
   "source": [
    "y_train.shape"
   ]
  },
  {
   "cell_type": "code",
   "execution_count": 23,
   "metadata": {},
   "outputs": [
    {
     "name": "stdout",
     "output_type": "stream",
     "text": [
      "Epoch 1/400\n",
      "107/107 [==============================] - 10s 56ms/step - loss: 3.7220 - accuracy: 0.4616 - auc: 0.4868 - val_loss: 3.5526 - val_accuracy: 0.2423 - val_auc: 0.4780\n",
      "Epoch 2/400\n",
      "  3/107 [..............................] - ETA: 4s - loss: 3.7565 - accuracy: 0.4833 - auc: 0.4855"
     ]
    },
    {
     "name": "stderr",
     "output_type": "stream",
     "text": [
      "/Users/anabroggini/Documents/bootcamp/ai2/.venv/lib/python3.11/site-packages/keras/src/engine/training.py:3079: UserWarning: You are saving your model as an HDF5 file via `model.save()`. This file format is considered legacy. We recommend using instead the native Keras format, e.g. `model.save('my_model.keras')`.\n",
      "  saving_api.save_model(\n"
     ]
    },
    {
     "name": "stdout",
     "output_type": "stream",
     "text": [
      "107/107 [==============================] - 5s 49ms/step - loss: 3.6736 - accuracy: 0.4711 - auc: 0.5056 - val_loss: 3.5304 - val_accuracy: 0.2986 - val_auc: 0.5521\n",
      "Epoch 3/400\n",
      "107/107 [==============================] - 5s 50ms/step - loss: 3.6367 - accuracy: 0.4772 - auc: 0.5190 - val_loss: 3.5091 - val_accuracy: 0.3957 - val_auc: 0.5998\n",
      "Epoch 4/400\n",
      "107/107 [==============================] - 5s 50ms/step - loss: 3.5846 - accuracy: 0.4889 - auc: 0.5339 - val_loss: 3.4859 - val_accuracy: 0.4895 - val_auc: 0.6415\n",
      "Epoch 5/400\n",
      "107/107 [==============================] - 6s 54ms/step - loss: 3.5696 - accuracy: 0.4894 - auc: 0.5373 - val_loss: 3.4595 - val_accuracy: 0.5401 - val_auc: 0.6744\n",
      "Epoch 6/400\n",
      "107/107 [==============================] - 7s 67ms/step - loss: 3.5195 - accuracy: 0.4985 - auc: 0.5582 - val_loss: 3.4307 - val_accuracy: 0.5709 - val_auc: 0.6921\n",
      "Epoch 7/400\n",
      "107/107 [==============================] - 9s 85ms/step - loss: 3.5122 - accuracy: 0.4948 - auc: 0.5455 - val_loss: 3.4045 - val_accuracy: 0.5889 - val_auc: 0.7043\n",
      "Epoch 8/400\n",
      "107/107 [==============================] - 6s 52ms/step - loss: 3.4772 - accuracy: 0.5071 - auc: 0.5571 - val_loss: 3.3793 - val_accuracy: 0.6088 - val_auc: 0.7157\n",
      "Epoch 9/400\n",
      "107/107 [==============================] - 6s 53ms/step - loss: 3.4457 - accuracy: 0.5099 - auc: 0.5729 - val_loss: 3.3521 - val_accuracy: 0.6230 - val_auc: 0.7250\n",
      "Epoch 10/400\n",
      "107/107 [==============================] - 6s 52ms/step - loss: 3.4274 - accuracy: 0.5149 - auc: 0.5689 - val_loss: 3.3283 - val_accuracy: 0.6275 - val_auc: 0.7278\n",
      "Epoch 11/400\n",
      "107/107 [==============================] - 5s 46ms/step - loss: 3.3921 - accuracy: 0.5233 - auc: 0.5870 - val_loss: 3.3050 - val_accuracy: 0.6343 - val_auc: 0.7331\n",
      "Epoch 12/400\n",
      "107/107 [==============================] - 5s 49ms/step - loss: 3.3728 - accuracy: 0.5192 - auc: 0.5805 - val_loss: 3.2833 - val_accuracy: 0.6422 - val_auc: 0.7345\n",
      "Epoch 13/400\n",
      "107/107 [==============================] - 5s 48ms/step - loss: 3.3270 - accuracy: 0.5286 - auc: 0.6009 - val_loss: 3.2579 - val_accuracy: 0.6493 - val_auc: 0.7396\n",
      "Epoch 14/400\n",
      "107/107 [==============================] - 5s 46ms/step - loss: 3.3005 - accuracy: 0.5375 - auc: 0.6105 - val_loss: 3.2297 - val_accuracy: 0.6564 - val_auc: 0.7410\n",
      "Epoch 15/400\n",
      "107/107 [==============================] - 5s 46ms/step - loss: 3.2817 - accuracy: 0.5371 - auc: 0.6116 - val_loss: 3.2085 - val_accuracy: 0.6583 - val_auc: 0.7415\n",
      "Epoch 16/400\n",
      "107/107 [==============================] - 5s 48ms/step - loss: 3.2589 - accuracy: 0.5370 - auc: 0.6176 - val_loss: 3.1900 - val_accuracy: 0.6572 - val_auc: 0.7411\n",
      "Epoch 17/400\n",
      "107/107 [==============================] - 5s 46ms/step - loss: 3.2428 - accuracy: 0.5408 - auc: 0.6101 - val_loss: 3.1603 - val_accuracy: 0.6710 - val_auc: 0.7407\n",
      "Epoch 18/400\n",
      "107/107 [==============================] - 5s 48ms/step - loss: 3.2220 - accuracy: 0.5433 - auc: 0.6149 - val_loss: 3.1414 - val_accuracy: 0.6673 - val_auc: 0.7376\n",
      "Epoch 19/400\n",
      "107/107 [==============================] - 5s 47ms/step - loss: 3.1837 - accuracy: 0.5508 - auc: 0.6326 - val_loss: 3.1220 - val_accuracy: 0.6650 - val_auc: 0.7352\n",
      "Epoch 20/400\n",
      "107/107 [==============================] - 5s 46ms/step - loss: 3.1566 - accuracy: 0.5571 - auc: 0.6400 - val_loss: 3.1062 - val_accuracy: 0.6650 - val_auc: 0.7324\n",
      "Epoch 21/400\n",
      "107/107 [==============================] - 6s 54ms/step - loss: 3.1368 - accuracy: 0.5546 - auc: 0.6402 - val_loss: 3.0842 - val_accuracy: 0.6677 - val_auc: 0.7313\n",
      "Epoch 22/400\n",
      "107/107 [==============================] - 5s 48ms/step - loss: 3.0960 - accuracy: 0.5639 - auc: 0.6592 - val_loss: 3.0647 - val_accuracy: 0.6688 - val_auc: 0.7295\n",
      "Epoch 23/400\n",
      "107/107 [==============================] - 5s 45ms/step - loss: 3.0954 - accuracy: 0.5633 - auc: 0.6485 - val_loss: 3.0388 - val_accuracy: 0.6804 - val_auc: 0.7274\n",
      "Epoch 24/400\n",
      "107/107 [==============================] - 5s 47ms/step - loss: 3.0680 - accuracy: 0.5615 - auc: 0.6499 - val_loss: 3.0169 - val_accuracy: 0.6849 - val_auc: 0.7241\n",
      "Epoch 25/400\n",
      "107/107 [==============================] - 5s 45ms/step - loss: 3.0446 - accuracy: 0.5693 - auc: 0.6535 - val_loss: 2.9917 - val_accuracy: 0.6920 - val_auc: 0.7219\n",
      "Epoch 26/400\n",
      "107/107 [==============================] - 5s 50ms/step - loss: 3.0244 - accuracy: 0.5669 - auc: 0.6524 - val_loss: 2.9703 - val_accuracy: 0.6962 - val_auc: 0.7162\n",
      "Epoch 27/400\n",
      "107/107 [==============================] - 7s 62ms/step - loss: 2.9908 - accuracy: 0.5816 - auc: 0.6742 - val_loss: 2.9535 - val_accuracy: 0.6962 - val_auc: 0.7145\n",
      "Epoch 28/400\n",
      "107/107 [==============================] - 6s 60ms/step - loss: 2.9974 - accuracy: 0.5701 - auc: 0.6502 - val_loss: 2.9363 - val_accuracy: 0.6988 - val_auc: 0.7154\n",
      "Epoch 29/400\n",
      "107/107 [==============================] - 7s 61ms/step - loss: 2.9481 - accuracy: 0.5836 - auc: 0.6764 - val_loss: 2.9196 - val_accuracy: 0.6999 - val_auc: 0.7146\n",
      "Epoch 30/400\n",
      "107/107 [==============================] - 6s 52ms/step - loss: 2.9274 - accuracy: 0.5872 - auc: 0.6847 - val_loss: 2.9009 - val_accuracy: 0.7041 - val_auc: 0.7118\n",
      "Epoch 31/400\n",
      "107/107 [==============================] - 5s 49ms/step - loss: 2.9141 - accuracy: 0.5894 - auc: 0.6845 - val_loss: 2.8843 - val_accuracy: 0.6988 - val_auc: 0.7114\n",
      "Epoch 32/400\n",
      "107/107 [==============================] - 5s 44ms/step - loss: 2.8745 - accuracy: 0.5918 - auc: 0.6943 - val_loss: 2.8672 - val_accuracy: 0.6977 - val_auc: 0.7079\n",
      "Epoch 33/400\n",
      "107/107 [==============================] - 5s 46ms/step - loss: 2.8602 - accuracy: 0.5969 - auc: 0.6973 - val_loss: 2.8478 - val_accuracy: 0.7011 - val_auc: 0.7044\n",
      "Epoch 34/400\n",
      "107/107 [==============================] - 5s 46ms/step - loss: 2.8354 - accuracy: 0.5959 - auc: 0.6989 - val_loss: 2.8316 - val_accuracy: 0.7018 - val_auc: 0.7026\n",
      "Epoch 35/400\n",
      "107/107 [==============================] - 5s 44ms/step - loss: 2.8246 - accuracy: 0.6027 - auc: 0.7011 - val_loss: 2.8113 - val_accuracy: 0.7014 - val_auc: 0.7024\n",
      "Epoch 36/400\n",
      "107/107 [==============================] - 5s 46ms/step - loss: 2.7812 - accuracy: 0.6063 - auc: 0.7208 - val_loss: 2.7913 - val_accuracy: 0.7003 - val_auc: 0.6987\n",
      "Epoch 37/400\n",
      "107/107 [==============================] - 5s 45ms/step - loss: 2.7699 - accuracy: 0.6088 - auc: 0.7168 - val_loss: 2.7741 - val_accuracy: 0.7026 - val_auc: 0.7008\n",
      "Epoch 38/400\n",
      "107/107 [==============================] - 5s 46ms/step - loss: 2.7430 - accuracy: 0.6139 - auc: 0.7262 - val_loss: 2.7592 - val_accuracy: 0.6887 - val_auc: 0.6941\n",
      "Epoch 39/400\n",
      "107/107 [==============================] - 5s 45ms/step - loss: 2.7296 - accuracy: 0.6080 - auc: 0.7200 - val_loss: 2.7389 - val_accuracy: 0.6917 - val_auc: 0.6929\n",
      "Epoch 40/400\n",
      "107/107 [==============================] - 5s 51ms/step - loss: 2.7080 - accuracy: 0.6103 - auc: 0.7233 - val_loss: 2.7198 - val_accuracy: 0.6995 - val_auc: 0.6950\n",
      "Epoch 41/400\n",
      "107/107 [==============================] - 6s 60ms/step - loss: 2.6784 - accuracy: 0.6247 - auc: 0.7370 - val_loss: 2.7060 - val_accuracy: 0.6913 - val_auc: 0.6920\n",
      "Epoch 42/400\n",
      "107/107 [==============================] - 5s 46ms/step - loss: 2.6573 - accuracy: 0.6226 - auc: 0.7408 - val_loss: 2.6907 - val_accuracy: 0.6887 - val_auc: 0.6896\n",
      "Epoch 43/400\n",
      "107/107 [==============================] - 6s 57ms/step - loss: 2.6334 - accuracy: 0.6181 - auc: 0.7466 - val_loss: 2.6778 - val_accuracy: 0.6842 - val_auc: 0.6883\n",
      "Epoch 44/400\n",
      "107/107 [==============================] - 6s 59ms/step - loss: 2.6102 - accuracy: 0.6265 - auc: 0.7520 - val_loss: 2.6604 - val_accuracy: 0.6819 - val_auc: 0.6839\n",
      "Epoch 45/400\n",
      "107/107 [==============================] - 5s 48ms/step - loss: 2.5950 - accuracy: 0.6266 - auc: 0.7513 - val_loss: 2.6403 - val_accuracy: 0.6842 - val_auc: 0.6818\n",
      "Epoch 46/400\n",
      "107/107 [==============================] - 5s 50ms/step - loss: 2.5740 - accuracy: 0.6275 - auc: 0.7579 - val_loss: 2.6250 - val_accuracy: 0.6887 - val_auc: 0.6834\n",
      "Epoch 47/400\n",
      "107/107 [==============================] - 5s 46ms/step - loss: 2.5516 - accuracy: 0.6378 - auc: 0.7615 - val_loss: 2.6218 - val_accuracy: 0.6628 - val_auc: 0.6808\n",
      "Epoch 48/400\n",
      "107/107 [==============================] - 5s 47ms/step - loss: 2.5364 - accuracy: 0.6344 - auc: 0.7604 - val_loss: 2.5947 - val_accuracy: 0.6842 - val_auc: 0.6840\n",
      "Epoch 49/400\n",
      "107/107 [==============================] - 5s 46ms/step - loss: 2.5190 - accuracy: 0.6359 - auc: 0.7632 - val_loss: 2.5837 - val_accuracy: 0.6688 - val_auc: 0.6789\n",
      "Epoch 50/400\n",
      "107/107 [==============================] - 5s 46ms/step - loss: 2.4878 - accuracy: 0.6417 - auc: 0.7755 - val_loss: 2.5798 - val_accuracy: 0.6369 - val_auc: 0.6748\n",
      "Epoch 51/400\n",
      "107/107 [==============================] - 5s 46ms/step - loss: 2.4711 - accuracy: 0.6438 - auc: 0.7766 - val_loss: 2.5524 - val_accuracy: 0.6515 - val_auc: 0.6773\n",
      "Epoch 52/400\n",
      "107/107 [==============================] - 5s 47ms/step - loss: 2.4494 - accuracy: 0.6446 - auc: 0.7836 - val_loss: 2.5323 - val_accuracy: 0.6613 - val_auc: 0.6776\n",
      "Epoch 53/400\n",
      "107/107 [==============================] - 5s 49ms/step - loss: 2.4215 - accuracy: 0.6463 - auc: 0.7899 - val_loss: 2.5161 - val_accuracy: 0.6489 - val_auc: 0.6709\n",
      "Epoch 54/400\n",
      "107/107 [==============================] - 5s 44ms/step - loss: 2.4041 - accuracy: 0.6565 - auc: 0.7940 - val_loss: 2.4956 - val_accuracy: 0.6617 - val_auc: 0.6775\n",
      "Epoch 55/400\n",
      "107/107 [==============================] - 5s 45ms/step - loss: 2.3849 - accuracy: 0.6544 - auc: 0.7948 - val_loss: 2.4902 - val_accuracy: 0.6463 - val_auc: 0.6696\n",
      "Epoch 56/400\n",
      "107/107 [==============================] - 5s 45ms/step - loss: 2.3646 - accuracy: 0.6648 - auc: 0.8032 - val_loss: 2.4589 - val_accuracy: 0.6647 - val_auc: 0.6750\n",
      "Epoch 57/400\n",
      "107/107 [==============================] - 5s 46ms/step - loss: 2.3461 - accuracy: 0.6638 - auc: 0.8039 - val_loss: 2.4439 - val_accuracy: 0.6609 - val_auc: 0.6704\n",
      "Epoch 58/400\n",
      "107/107 [==============================] - 5s 44ms/step - loss: 2.3116 - accuracy: 0.6715 - auc: 0.8207 - val_loss: 2.4243 - val_accuracy: 0.6647 - val_auc: 0.6750\n",
      "Epoch 59/400\n",
      "107/107 [==============================] - 6s 53ms/step - loss: 2.2962 - accuracy: 0.6766 - auc: 0.8206 - val_loss: 2.4122 - val_accuracy: 0.6568 - val_auc: 0.6721\n",
      "Epoch 60/400\n",
      "107/107 [==============================] - 5s 44ms/step - loss: 2.2731 - accuracy: 0.6830 - auc: 0.8284 - val_loss: 2.3937 - val_accuracy: 0.6602 - val_auc: 0.6725\n",
      "Epoch 61/400\n",
      "107/107 [==============================] - 6s 55ms/step - loss: 2.2536 - accuracy: 0.6762 - auc: 0.8292 - val_loss: 2.3609 - val_accuracy: 0.6770 - val_auc: 0.6755\n",
      "Epoch 62/400\n",
      "107/107 [==============================] - 6s 56ms/step - loss: 2.2459 - accuracy: 0.6816 - auc: 0.8256 - val_loss: 2.3688 - val_accuracy: 0.6579 - val_auc: 0.6643\n",
      "Epoch 63/400\n",
      "107/107 [==============================] - 6s 56ms/step - loss: 2.2228 - accuracy: 0.6856 - auc: 0.8323 - val_loss: 2.3557 - val_accuracy: 0.6519 - val_auc: 0.6658\n",
      "Epoch 64/400\n",
      "107/107 [==============================] - 5s 51ms/step - loss: 2.1983 - accuracy: 0.6922 - auc: 0.8390 - val_loss: 2.3323 - val_accuracy: 0.6710 - val_auc: 0.6702\n",
      "Epoch 65/400\n",
      "107/107 [==============================] - 6s 55ms/step - loss: 2.1754 - accuracy: 0.6982 - auc: 0.8457 - val_loss: 2.3210 - val_accuracy: 0.6583 - val_auc: 0.6690\n",
      "Epoch 66/400\n",
      "107/107 [==============================] - 7s 62ms/step - loss: 2.1600 - accuracy: 0.6962 - auc: 0.8471 - val_loss: 2.2925 - val_accuracy: 0.6797 - val_auc: 0.6717\n",
      "Epoch 67/400\n",
      "107/107 [==============================] - 6s 60ms/step - loss: 2.1388 - accuracy: 0.7032 - auc: 0.8509 - val_loss: 2.2683 - val_accuracy: 0.6905 - val_auc: 0.6754\n",
      "Epoch 68/400\n",
      "107/107 [==============================] - 6s 61ms/step - loss: 2.1198 - accuracy: 0.7101 - auc: 0.8553 - val_loss: 2.2571 - val_accuracy: 0.6782 - val_auc: 0.6732\n",
      "Epoch 69/400\n",
      "107/107 [==============================] - 6s 59ms/step - loss: 2.0938 - accuracy: 0.7206 - auc: 0.8628 - val_loss: 2.2508 - val_accuracy: 0.6632 - val_auc: 0.6635\n",
      "Epoch 70/400\n",
      "107/107 [==============================] - 7s 62ms/step - loss: 2.0746 - accuracy: 0.7221 - auc: 0.8677 - val_loss: 2.2098 - val_accuracy: 0.6958 - val_auc: 0.6716\n",
      "Epoch 71/400\n",
      "107/107 [==============================] - 6s 52ms/step - loss: 2.0544 - accuracy: 0.7267 - auc: 0.8701 - val_loss: 2.1933 - val_accuracy: 0.6909 - val_auc: 0.6783\n",
      "Epoch 72/400\n",
      "107/107 [==============================] - 5s 49ms/step - loss: 2.0318 - accuracy: 0.7312 - auc: 0.8775 - val_loss: 2.2119 - val_accuracy: 0.6624 - val_auc: 0.6693\n",
      "Epoch 73/400\n",
      "107/107 [==============================] - 5s 46ms/step - loss: 2.0127 - accuracy: 0.7314 - auc: 0.8788 - val_loss: 2.1527 - val_accuracy: 0.6999 - val_auc: 0.6816\n",
      "Epoch 74/400\n",
      "107/107 [==============================] - 5s 49ms/step - loss: 1.9854 - accuracy: 0.7402 - auc: 0.8871 - val_loss: 2.1323 - val_accuracy: 0.7104 - val_auc: 0.6857\n",
      "Epoch 75/400\n",
      "107/107 [==============================] - 5s 50ms/step - loss: 1.9770 - accuracy: 0.7412 - auc: 0.8846 - val_loss: 2.1395 - val_accuracy: 0.6995 - val_auc: 0.6880\n",
      "Epoch 76/400\n",
      "107/107 [==============================] - 6s 58ms/step - loss: 1.9545 - accuracy: 0.7448 - auc: 0.8895 - val_loss: 2.1199 - val_accuracy: 0.7059 - val_auc: 0.6907\n",
      "Epoch 77/400\n",
      "107/107 [==============================] - 5s 47ms/step - loss: 1.9277 - accuracy: 0.7533 - auc: 0.8989 - val_loss: 2.0955 - val_accuracy: 0.7179 - val_auc: 0.6895\n",
      "Epoch 78/400\n",
      "107/107 [==============================] - 6s 53ms/step - loss: 1.9013 - accuracy: 0.7611 - auc: 0.9053 - val_loss: 2.0825 - val_accuracy: 0.7191 - val_auc: 0.6944\n",
      "Epoch 79/400\n",
      "107/107 [==============================] - 5s 46ms/step - loss: 1.8910 - accuracy: 0.7648 - auc: 0.9027 - val_loss: 2.0837 - val_accuracy: 0.6995 - val_auc: 0.6906\n",
      "Epoch 80/400\n",
      "107/107 [==============================] - 5s 47ms/step - loss: 1.8722 - accuracy: 0.7726 - auc: 0.9060 - val_loss: 2.0455 - val_accuracy: 0.7416 - val_auc: 0.6942\n",
      "Epoch 81/400\n",
      "107/107 [==============================] - 6s 54ms/step - loss: 1.8481 - accuracy: 0.7798 - auc: 0.9130 - val_loss: 2.0262 - val_accuracy: 0.7491 - val_auc: 0.6929\n",
      "Epoch 82/400\n",
      "107/107 [==============================] - 6s 52ms/step - loss: 1.8295 - accuracy: 0.7794 - auc: 0.9153 - val_loss: 1.9940 - val_accuracy: 0.7566 - val_auc: 0.7016\n",
      "Epoch 83/400\n",
      "107/107 [==============================] - 6s 59ms/step - loss: 1.8161 - accuracy: 0.7873 - auc: 0.9151 - val_loss: 2.0225 - val_accuracy: 0.7157 - val_auc: 0.6918\n",
      "Epoch 84/400\n",
      "107/107 [==============================] - 5s 47ms/step - loss: 1.7982 - accuracy: 0.7845 - auc: 0.9175 - val_loss: 1.9825 - val_accuracy: 0.7558 - val_auc: 0.7015\n",
      "Epoch 85/400\n",
      "107/107 [==============================] - 5s 49ms/step - loss: 1.7702 - accuracy: 0.7948 - auc: 0.9261 - val_loss: 1.9858 - val_accuracy: 0.7333 - val_auc: 0.7069\n",
      "Epoch 86/400\n",
      "107/107 [==============================] - 5s 51ms/step - loss: 1.7526 - accuracy: 0.7977 - auc: 0.9289 - val_loss: 1.9228 - val_accuracy: 0.7873 - val_auc: 0.7214\n",
      "Epoch 87/400\n",
      "107/107 [==============================] - 5s 47ms/step - loss: 1.7430 - accuracy: 0.8020 - auc: 0.9263 - val_loss: 1.9604 - val_accuracy: 0.7363 - val_auc: 0.7091\n",
      "Epoch 88/400\n",
      "107/107 [==============================] - 5s 46ms/step - loss: 1.7157 - accuracy: 0.8122 - auc: 0.9339 - val_loss: 1.9512 - val_accuracy: 0.7509 - val_auc: 0.7134\n",
      "Epoch 89/400\n",
      "107/107 [==============================] - 6s 54ms/step - loss: 1.6986 - accuracy: 0.8152 - auc: 0.9357 - val_loss: 1.9292 - val_accuracy: 0.7569 - val_auc: 0.7085\n",
      "Epoch 90/400\n",
      "107/107 [==============================] - 5s 45ms/step - loss: 1.6785 - accuracy: 0.8217 - auc: 0.9391 - val_loss: 1.8967 - val_accuracy: 0.7877 - val_auc: 0.7127\n",
      "Epoch 91/400\n",
      "107/107 [==============================] - 5s 48ms/step - loss: 1.6715 - accuracy: 0.8197 - auc: 0.9360 - val_loss: 1.8924 - val_accuracy: 0.7914 - val_auc: 0.7079\n",
      "Epoch 92/400\n",
      "107/107 [==============================] - 5s 47ms/step - loss: 1.6456 - accuracy: 0.8343 - auc: 0.9429 - val_loss: 1.8948 - val_accuracy: 0.7674 - val_auc: 0.7004\n",
      "Epoch 93/400\n",
      "107/107 [==============================] - 5s 48ms/step - loss: 1.6245 - accuracy: 0.8335 - auc: 0.9469 - val_loss: 1.8842 - val_accuracy: 0.7828 - val_auc: 0.7130\n",
      "Epoch 94/400\n",
      "107/107 [==============================] - 5s 51ms/step - loss: 1.6168 - accuracy: 0.8395 - auc: 0.9437 - val_loss: 1.8476 - val_accuracy: 0.7993 - val_auc: 0.7189\n",
      "Epoch 95/400\n",
      "107/107 [==============================] - 6s 53ms/step - loss: 1.5934 - accuracy: 0.8481 - auc: 0.9490 - val_loss: 1.8429 - val_accuracy: 0.8053 - val_auc: 0.7215\n",
      "Epoch 96/400\n",
      "107/107 [==============================] - 6s 52ms/step - loss: 1.5775 - accuracy: 0.8454 - auc: 0.9519 - val_loss: 1.8518 - val_accuracy: 0.7881 - val_auc: 0.7112\n",
      "Epoch 97/400\n",
      "107/107 [==============================] - 6s 52ms/step - loss: 1.5665 - accuracy: 0.8497 - auc: 0.9508 - val_loss: 1.8421 - val_accuracy: 0.7794 - val_auc: 0.7130\n",
      "Epoch 98/400\n",
      "107/107 [==============================] - 5s 50ms/step - loss: 1.5508 - accuracy: 0.8488 - auc: 0.9525 - val_loss: 1.8754 - val_accuracy: 0.7251 - val_auc: 0.7014\n",
      "Epoch 99/400\n",
      "107/107 [==============================] - 5s 50ms/step - loss: 1.5270 - accuracy: 0.8585 - auc: 0.9581 - val_loss: 1.8300 - val_accuracy: 0.7896 - val_auc: 0.7122\n",
      "Epoch 100/400\n",
      "107/107 [==============================] - 6s 57ms/step - loss: 1.5141 - accuracy: 0.8581 - auc: 0.9585 - val_loss: 1.8192 - val_accuracy: 0.7821 - val_auc: 0.7096\n",
      "Epoch 101/400\n",
      "107/107 [==============================] - 7s 61ms/step - loss: 1.4984 - accuracy: 0.8649 - auc: 0.9599 - val_loss: 1.7952 - val_accuracy: 0.8128 - val_auc: 0.7102\n",
      "Epoch 102/400\n",
      "107/107 [==============================] - 6s 55ms/step - loss: 1.4865 - accuracy: 0.8685 - auc: 0.9603 - val_loss: 1.7561 - val_accuracy: 0.8151 - val_auc: 0.7150\n",
      "Epoch 103/400\n",
      "107/107 [==============================] - 6s 55ms/step - loss: 1.4695 - accuracy: 0.8735 - auc: 0.9621 - val_loss: 1.7717 - val_accuracy: 0.8188 - val_auc: 0.7174\n",
      "Epoch 104/400\n",
      "107/107 [==============================] - 5s 50ms/step - loss: 1.4507 - accuracy: 0.8793 - auc: 0.9650 - val_loss: 1.7995 - val_accuracy: 0.7813 - val_auc: 0.7087\n",
      "Epoch 105/400\n",
      "107/107 [==============================] - 6s 52ms/step - loss: 1.4382 - accuracy: 0.8771 - auc: 0.9663 - val_loss: 1.7434 - val_accuracy: 0.8222 - val_auc: 0.7169\n",
      "Epoch 106/400\n",
      "107/107 [==============================] - 6s 57ms/step - loss: 1.4279 - accuracy: 0.8793 - auc: 0.9658 - val_loss: 1.7822 - val_accuracy: 0.7629 - val_auc: 0.7044\n",
      "Epoch 107/400\n",
      "107/107 [==============================] - 6s 59ms/step - loss: 1.4087 - accuracy: 0.8841 - auc: 0.9682 - val_loss: 1.8030 - val_accuracy: 0.7491 - val_auc: 0.7041\n",
      "Epoch 108/400\n",
      "107/107 [==============================] - 6s 52ms/step - loss: 1.3988 - accuracy: 0.8877 - auc: 0.9693 - val_loss: 1.7411 - val_accuracy: 0.8125 - val_auc: 0.7148\n",
      "Epoch 109/400\n",
      "107/107 [==============================] - 5s 47ms/step - loss: 1.3765 - accuracy: 0.8907 - auc: 0.9735 - val_loss: 1.7270 - val_accuracy: 0.8215 - val_auc: 0.7131\n",
      "Epoch 110/400\n",
      "107/107 [==============================] - 5s 47ms/step - loss: 1.3754 - accuracy: 0.8907 - auc: 0.9686 - val_loss: 1.8045 - val_accuracy: 0.7262 - val_auc: 0.6878\n",
      "Epoch 111/400\n",
      "107/107 [==============================] - 5s 46ms/step - loss: 1.3632 - accuracy: 0.8900 - auc: 0.9706 - val_loss: 1.7650 - val_accuracy: 0.7764 - val_auc: 0.7086\n",
      "Epoch 112/400\n",
      "107/107 [==============================] - 5s 46ms/step - loss: 1.3484 - accuracy: 0.8976 - auc: 0.9716 - val_loss: 1.7331 - val_accuracy: 0.8035 - val_auc: 0.7094\n",
      "Epoch 113/400\n",
      "107/107 [==============================] - 5s 46ms/step - loss: 1.3325 - accuracy: 0.8993 - auc: 0.9739 - val_loss: 1.7101 - val_accuracy: 0.8237 - val_auc: 0.7208\n",
      "Epoch 114/400\n",
      "107/107 [==============================] - 5s 45ms/step - loss: 1.3204 - accuracy: 0.9007 - auc: 0.9750 - val_loss: 1.7504 - val_accuracy: 0.7667 - val_auc: 0.7063\n",
      "Epoch 115/400\n",
      "107/107 [==============================] - 5s 47ms/step - loss: 1.3101 - accuracy: 0.9019 - auc: 0.9751 - val_loss: 1.7313 - val_accuracy: 0.7753 - val_auc: 0.7034\n",
      "Epoch 116/400\n",
      "107/107 [==============================] - 6s 52ms/step - loss: 1.2983 - accuracy: 0.9027 - auc: 0.9755 - val_loss: 1.6856 - val_accuracy: 0.8406 - val_auc: 0.7167\n",
      "Epoch 117/400\n",
      "107/107 [==============================] - 5s 48ms/step - loss: 1.2833 - accuracy: 0.9063 - auc: 0.9766 - val_loss: 1.7182 - val_accuracy: 0.7806 - val_auc: 0.7039\n",
      "Epoch 118/400\n",
      "107/107 [==============================] - 5s 50ms/step - loss: 1.2741 - accuracy: 0.9038 - auc: 0.9776 - val_loss: 1.7655 - val_accuracy: 0.7517 - val_auc: 0.7011\n",
      "Epoch 119/400\n",
      "107/107 [==============================] - 5s 50ms/step - loss: 1.2561 - accuracy: 0.9116 - auc: 0.9802 - val_loss: 1.7458 - val_accuracy: 0.7626 - val_auc: 0.6972\n",
      "Epoch 120/400\n",
      "107/107 [==============================] - 5s 49ms/step - loss: 1.2512 - accuracy: 0.9119 - auc: 0.9785 - val_loss: 1.6907 - val_accuracy: 0.8061 - val_auc: 0.6991\n",
      "Epoch 121/400\n",
      "107/107 [==============================] - 5s 46ms/step - loss: 1.2360 - accuracy: 0.9153 - auc: 0.9803 - val_loss: 1.6875 - val_accuracy: 0.7843 - val_auc: 0.6969\n",
      "Epoch 122/400\n",
      "107/107 [==============================] - 5s 50ms/step - loss: 1.2297 - accuracy: 0.9084 - auc: 0.9801 - val_loss: 1.7341 - val_accuracy: 0.7652 - val_auc: 0.6934\n",
      "Epoch 123/400\n",
      "107/107 [==============================] - 5s 49ms/step - loss: 1.2216 - accuracy: 0.9161 - auc: 0.9797 - val_loss: 1.7251 - val_accuracy: 0.7682 - val_auc: 0.6946\n",
      "Epoch 124/400\n",
      "107/107 [==============================] - 6s 52ms/step - loss: 1.2080 - accuracy: 0.9173 - auc: 0.9810 - val_loss: 1.6753 - val_accuracy: 0.8061 - val_auc: 0.7083\n",
      "Epoch 125/400\n",
      "107/107 [==============================] - 5s 51ms/step - loss: 1.1856 - accuracy: 0.9249 - auc: 0.9847 - val_loss: 1.6938 - val_accuracy: 0.7768 - val_auc: 0.7054\n",
      "Epoch 126/400\n",
      "107/107 [==============================] - 6s 52ms/step - loss: 1.1828 - accuracy: 0.9172 - auc: 0.9833 - val_loss: 1.6463 - val_accuracy: 0.8500 - val_auc: 0.7143\n",
      "Epoch 127/400\n",
      "107/107 [==============================] - 6s 54ms/step - loss: 1.1772 - accuracy: 0.9227 - auc: 0.9825 - val_loss: 1.6844 - val_accuracy: 0.7963 - val_auc: 0.7026\n",
      "Epoch 128/400\n",
      "107/107 [==============================] - 5s 49ms/step - loss: 1.1597 - accuracy: 0.9272 - auc: 0.9841 - val_loss: 1.6996 - val_accuracy: 0.7693 - val_auc: 0.6926\n",
      "Epoch 129/400\n",
      "107/107 [==============================] - 5s 48ms/step - loss: 1.1508 - accuracy: 0.9268 - auc: 0.9850 - val_loss: 1.7060 - val_accuracy: 0.7712 - val_auc: 0.6968\n",
      "Epoch 130/400\n",
      "107/107 [==============================] - 5s 46ms/step - loss: 1.1365 - accuracy: 0.9266 - auc: 0.9866 - val_loss: 1.7194 - val_accuracy: 0.7648 - val_auc: 0.6912\n",
      "Epoch 131/400\n",
      "107/107 [==============================] - 6s 55ms/step - loss: 1.1364 - accuracy: 0.9271 - auc: 0.9844 - val_loss: 1.6258 - val_accuracy: 0.8406 - val_auc: 0.7109\n",
      "Epoch 132/400\n",
      "107/107 [==============================] - 6s 53ms/step - loss: 1.1203 - accuracy: 0.9280 - auc: 0.9869 - val_loss: 1.6319 - val_accuracy: 0.7933 - val_auc: 0.6985\n",
      "Epoch 133/400\n",
      "107/107 [==============================] - 6s 55ms/step - loss: 1.1112 - accuracy: 0.9307 - auc: 0.9866 - val_loss: 1.6020 - val_accuracy: 0.8342 - val_auc: 0.7116\n",
      "Epoch 134/400\n",
      "107/107 [==============================] - 6s 54ms/step - loss: 1.1026 - accuracy: 0.9330 - auc: 0.9866 - val_loss: 1.6846 - val_accuracy: 0.7791 - val_auc: 0.6985\n",
      "Epoch 135/400\n",
      "107/107 [==============================] - 7s 63ms/step - loss: 1.0928 - accuracy: 0.9326 - auc: 0.9877 - val_loss: 1.6109 - val_accuracy: 0.8402 - val_auc: 0.7130\n",
      "Epoch 136/400\n",
      "107/107 [==============================] - 6s 61ms/step - loss: 1.0902 - accuracy: 0.9310 - auc: 0.9862 - val_loss: 1.5964 - val_accuracy: 0.8338 - val_auc: 0.7106\n",
      "Epoch 137/400\n",
      "107/107 [==============================] - 6s 57ms/step - loss: 1.0729 - accuracy: 0.9362 - auc: 0.9883 - val_loss: 1.6095 - val_accuracy: 0.8327 - val_auc: 0.7103\n",
      "Epoch 138/400\n",
      "107/107 [==============================] - 6s 56ms/step - loss: 1.0643 - accuracy: 0.9368 - auc: 0.9884 - val_loss: 1.5943 - val_accuracy: 0.8380 - val_auc: 0.7061\n",
      "Epoch 139/400\n",
      "107/107 [==============================] - 5s 48ms/step - loss: 1.0591 - accuracy: 0.9375 - auc: 0.9878 - val_loss: 1.6309 - val_accuracy: 0.7828 - val_auc: 0.6978\n",
      "Epoch 140/400\n",
      "107/107 [==============================] - 6s 56ms/step - loss: 1.0468 - accuracy: 0.9415 - auc: 0.9891 - val_loss: 1.6401 - val_accuracy: 0.7854 - val_auc: 0.7015\n",
      "Epoch 141/400\n",
      "107/107 [==============================] - 7s 62ms/step - loss: 1.0440 - accuracy: 0.9377 - auc: 0.9879 - val_loss: 1.5763 - val_accuracy: 0.8421 - val_auc: 0.7132\n",
      "Epoch 142/400\n",
      "107/107 [==============================] - 6s 53ms/step - loss: 1.0315 - accuracy: 0.9390 - auc: 0.9893 - val_loss: 1.5833 - val_accuracy: 0.8410 - val_auc: 0.7169\n",
      "Epoch 143/400\n",
      "107/107 [==============================] - 6s 54ms/step - loss: 1.0244 - accuracy: 0.9430 - auc: 0.9892 - val_loss: 1.6275 - val_accuracy: 0.7749 - val_auc: 0.6953\n",
      "Epoch 144/400\n",
      "107/107 [==============================] - 6s 58ms/step - loss: 1.0198 - accuracy: 0.9374 - auc: 0.9886 - val_loss: 1.6129 - val_accuracy: 0.8308 - val_auc: 0.7067\n",
      "Epoch 145/400\n",
      "107/107 [==============================] - 6s 54ms/step - loss: 1.0093 - accuracy: 0.9415 - auc: 0.9895 - val_loss: 1.6793 - val_accuracy: 0.7637 - val_auc: 0.6916\n",
      "Epoch 146/400\n",
      "107/107 [==============================] - 5s 50ms/step - loss: 0.9976 - accuracy: 0.9433 - auc: 0.9904 - val_loss: 1.5615 - val_accuracy: 0.8203 - val_auc: 0.7061\n",
      "Epoch 147/400\n",
      "107/107 [==============================] - 6s 56ms/step - loss: 0.9920 - accuracy: 0.9442 - auc: 0.9903 - val_loss: 1.5438 - val_accuracy: 0.8428 - val_auc: 0.7184\n",
      "Epoch 148/400\n",
      "107/107 [==============================] - 5s 48ms/step - loss: 0.9846 - accuracy: 0.9429 - auc: 0.9901 - val_loss: 1.6159 - val_accuracy: 0.7854 - val_auc: 0.6987\n",
      "Epoch 149/400\n",
      "107/107 [==============================] - 5s 46ms/step - loss: 0.9806 - accuracy: 0.9409 - auc: 0.9901 - val_loss: 1.5485 - val_accuracy: 0.8443 - val_auc: 0.7084\n",
      "Epoch 150/400\n",
      "107/107 [==============================] - 5s 47ms/step - loss: 0.9739 - accuracy: 0.9449 - auc: 0.9898 - val_loss: 1.5516 - val_accuracy: 0.8248 - val_auc: 0.7066\n",
      "Epoch 151/400\n",
      "107/107 [==============================] - 5s 48ms/step - loss: 0.9632 - accuracy: 0.9473 - auc: 0.9910 - val_loss: 1.5880 - val_accuracy: 0.7903 - val_auc: 0.6992\n",
      "Epoch 152/400\n",
      "107/107 [==============================] - 5s 46ms/step - loss: 0.9566 - accuracy: 0.9471 - auc: 0.9909 - val_loss: 1.5645 - val_accuracy: 0.8132 - val_auc: 0.7041\n",
      "Epoch 153/400\n",
      "107/107 [==============================] - 5s 48ms/step - loss: 0.9532 - accuracy: 0.9495 - auc: 0.9902 - val_loss: 1.5947 - val_accuracy: 0.7926 - val_auc: 0.6984\n",
      "Epoch 154/400\n",
      "107/107 [==============================] - 5s 47ms/step - loss: 0.9412 - accuracy: 0.9480 - auc: 0.9913 - val_loss: 1.6326 - val_accuracy: 0.7701 - val_auc: 0.6945\n",
      "Epoch 155/400\n",
      "107/107 [==============================] - 5s 47ms/step - loss: 0.9361 - accuracy: 0.9464 - auc: 0.9913 - val_loss: 1.5430 - val_accuracy: 0.8402 - val_auc: 0.7081\n",
      "Epoch 156/400\n",
      "107/107 [==============================] - 5s 49ms/step - loss: 0.9298 - accuracy: 0.9468 - auc: 0.9911 - val_loss: 1.5812 - val_accuracy: 0.7967 - val_auc: 0.7004\n",
      "Epoch 157/400\n",
      "107/107 [==============================] - 5s 47ms/step - loss: 0.9180 - accuracy: 0.9511 - auc: 0.9924 - val_loss: 1.6639 - val_accuracy: 0.7663 - val_auc: 0.6841\n",
      "Epoch 158/400\n",
      "107/107 [==============================] - 5s 49ms/step - loss: 0.9115 - accuracy: 0.9487 - auc: 0.9928 - val_loss: 1.5540 - val_accuracy: 0.8218 - val_auc: 0.7003\n",
      "Epoch 159/400\n",
      "107/107 [==============================] - 5s 50ms/step - loss: 0.9037 - accuracy: 0.9537 - auc: 0.9926 - val_loss: 1.5130 - val_accuracy: 0.8608 - val_auc: 0.7103\n",
      "Epoch 160/400\n",
      "107/107 [==============================] - 6s 53ms/step - loss: 0.9019 - accuracy: 0.9504 - auc: 0.9923 - val_loss: 1.5205 - val_accuracy: 0.8320 - val_auc: 0.7019\n",
      "Epoch 161/400\n",
      "107/107 [==============================] - 5s 47ms/step - loss: 0.8952 - accuracy: 0.9517 - auc: 0.9921 - val_loss: 1.5300 - val_accuracy: 0.8361 - val_auc: 0.7035\n",
      "Epoch 162/400\n",
      "107/107 [==============================] - 5s 48ms/step - loss: 0.8861 - accuracy: 0.9514 - auc: 0.9931 - val_loss: 1.5067 - val_accuracy: 0.8432 - val_auc: 0.7125\n",
      "Epoch 163/400\n",
      "107/107 [==============================] - 5s 46ms/step - loss: 0.8839 - accuracy: 0.9511 - auc: 0.9924 - val_loss: 1.5441 - val_accuracy: 0.7903 - val_auc: 0.6994\n",
      "Epoch 164/400\n",
      "107/107 [==============================] - 5s 48ms/step - loss: 0.8810 - accuracy: 0.9526 - auc: 0.9919 - val_loss: 1.5283 - val_accuracy: 0.8395 - val_auc: 0.7083\n",
      "Epoch 165/400\n",
      "107/107 [==============================] - 6s 52ms/step - loss: 0.8738 - accuracy: 0.9530 - auc: 0.9919 - val_loss: 1.5033 - val_accuracy: 0.8466 - val_auc: 0.7108\n",
      "Epoch 166/400\n",
      "107/107 [==============================] - 5s 49ms/step - loss: 0.8623 - accuracy: 0.9542 - auc: 0.9934 - val_loss: 1.5237 - val_accuracy: 0.8020 - val_auc: 0.7023\n",
      "Epoch 167/400\n",
      "107/107 [==============================] - 5s 50ms/step - loss: 0.8573 - accuracy: 0.9527 - auc: 0.9932 - val_loss: 1.5459 - val_accuracy: 0.7896 - val_auc: 0.6937\n",
      "Epoch 168/400\n",
      "107/107 [==============================] - 5s 50ms/step - loss: 0.8519 - accuracy: 0.9541 - auc: 0.9932 - val_loss: 1.4816 - val_accuracy: 0.8458 - val_auc: 0.7065\n",
      "Epoch 169/400\n",
      "107/107 [==============================] - 5s 48ms/step - loss: 0.8504 - accuracy: 0.9586 - auc: 0.9927 - val_loss: 1.5166 - val_accuracy: 0.8012 - val_auc: 0.6994\n",
      "Epoch 170/400\n",
      "107/107 [==============================] - 5s 46ms/step - loss: 0.8403 - accuracy: 0.9545 - auc: 0.9937 - val_loss: 1.5499 - val_accuracy: 0.7907 - val_auc: 0.6907\n",
      "Epoch 171/400\n",
      "107/107 [==============================] - 5s 49ms/step - loss: 0.8341 - accuracy: 0.9575 - auc: 0.9938 - val_loss: 1.4877 - val_accuracy: 0.8481 - val_auc: 0.7058\n",
      "Epoch 172/400\n",
      "107/107 [==============================] - 5s 49ms/step - loss: 0.8299 - accuracy: 0.9563 - auc: 0.9936 - val_loss: 1.4893 - val_accuracy: 0.8571 - val_auc: 0.7137\n",
      "Epoch 173/400\n",
      "107/107 [==============================] - 7s 68ms/step - loss: 0.8239 - accuracy: 0.9578 - auc: 0.9937 - val_loss: 1.5207 - val_accuracy: 0.8305 - val_auc: 0.6989\n",
      "Epoch 174/400\n",
      "107/107 [==============================] - 7s 68ms/step - loss: 0.8192 - accuracy: 0.9569 - auc: 0.9937 - val_loss: 1.4818 - val_accuracy: 0.8293 - val_auc: 0.6994\n",
      "Epoch 175/400\n",
      "107/107 [==============================] - 7s 64ms/step - loss: 0.8172 - accuracy: 0.9585 - auc: 0.9933 - val_loss: 1.5181 - val_accuracy: 0.7918 - val_auc: 0.6951\n",
      "Epoch 176/400\n",
      "107/107 [==============================] - 7s 66ms/step - loss: 0.8125 - accuracy: 0.9564 - auc: 0.9934 - val_loss: 1.4916 - val_accuracy: 0.8428 - val_auc: 0.7066\n",
      "Epoch 177/400\n",
      "107/107 [==============================] - 7s 68ms/step - loss: 0.8047 - accuracy: 0.9590 - auc: 0.9937 - val_loss: 1.4758 - val_accuracy: 0.8331 - val_auc: 0.7016\n",
      "Epoch 178/400\n",
      "107/107 [==============================] - 7s 67ms/step - loss: 0.7996 - accuracy: 0.9598 - auc: 0.9938 - val_loss: 1.5182 - val_accuracy: 0.7997 - val_auc: 0.6922\n",
      "Epoch 179/400\n",
      "107/107 [==============================] - 6s 52ms/step - loss: 0.7886 - accuracy: 0.9613 - auc: 0.9948 - val_loss: 1.5284 - val_accuracy: 0.7892 - val_auc: 0.6900\n",
      "Epoch 180/400\n",
      "107/107 [==============================] - 6s 52ms/step - loss: 0.7840 - accuracy: 0.9582 - auc: 0.9950 - val_loss: 1.4866 - val_accuracy: 0.8020 - val_auc: 0.7012\n",
      "Epoch 181/400\n",
      "107/107 [==============================] - 5s 51ms/step - loss: 0.7830 - accuracy: 0.9585 - auc: 0.9944 - val_loss: 1.5457 - val_accuracy: 0.7851 - val_auc: 0.6941\n",
      "Epoch 182/400\n",
      "107/107 [==============================] - 5s 51ms/step - loss: 0.7794 - accuracy: 0.9587 - auc: 0.9941 - val_loss: 1.4806 - val_accuracy: 0.8323 - val_auc: 0.7011\n",
      "Epoch 183/400\n",
      "107/107 [==============================] - 5s 50ms/step - loss: 0.7737 - accuracy: 0.9608 - auc: 0.9945 - val_loss: 1.4771 - val_accuracy: 0.7971 - val_auc: 0.6996\n",
      "Epoch 184/400\n",
      "107/107 [==============================] - 5s 47ms/step - loss: 0.7697 - accuracy: 0.9592 - auc: 0.9945 - val_loss: 1.4726 - val_accuracy: 0.8365 - val_auc: 0.7064\n",
      "Epoch 185/400\n",
      "107/107 [==============================] - 5s 50ms/step - loss: 0.7623 - accuracy: 0.9616 - auc: 0.9949 - val_loss: 1.4888 - val_accuracy: 0.8001 - val_auc: 0.7034\n",
      "Epoch 186/400\n",
      "107/107 [==============================] - 5s 47ms/step - loss: 0.7592 - accuracy: 0.9647 - auc: 0.9949 - val_loss: 1.5180 - val_accuracy: 0.7888 - val_auc: 0.6967\n",
      "Epoch 187/400\n",
      "107/107 [==============================] - 5s 48ms/step - loss: 0.7498 - accuracy: 0.9635 - auc: 0.9953 - val_loss: 1.5233 - val_accuracy: 0.7858 - val_auc: 0.6966\n",
      "Epoch 188/400\n",
      "107/107 [==============================] - 5s 50ms/step - loss: 0.7479 - accuracy: 0.9626 - auc: 0.9952 - val_loss: 1.5349 - val_accuracy: 0.7787 - val_auc: 0.6976\n",
      "Epoch 189/400\n",
      "107/107 [==============================] - 5s 48ms/step - loss: 0.7465 - accuracy: 0.9625 - auc: 0.9949 - val_loss: 1.5177 - val_accuracy: 0.7851 - val_auc: 0.6990\n",
      "Epoch 190/400\n",
      "107/107 [==============================] - 5s 47ms/step - loss: 0.7482 - accuracy: 0.9597 - auc: 0.9941 - val_loss: 1.4891 - val_accuracy: 0.7941 - val_auc: 0.6980\n",
      "Epoch 191/400\n",
      "107/107 [==============================] - 5s 45ms/step - loss: 0.7356 - accuracy: 0.9604 - auc: 0.9954 - val_loss: 1.4237 - val_accuracy: 0.8571 - val_auc: 0.7162\n",
      "Epoch 192/400\n",
      "107/107 [==============================] - 5s 47ms/step - loss: 0.7365 - accuracy: 0.9616 - auc: 0.9946 - val_loss: 1.4449 - val_accuracy: 0.8316 - val_auc: 0.7065\n",
      "Epoch 193/400\n",
      "107/107 [==============================] - 6s 54ms/step - loss: 0.7305 - accuracy: 0.9622 - auc: 0.9949 - val_loss: 1.4192 - val_accuracy: 0.8657 - val_auc: 0.7239\n",
      "Epoch 194/400\n",
      "107/107 [==============================] - 6s 56ms/step - loss: 0.7198 - accuracy: 0.9642 - auc: 0.9959 - val_loss: 1.4240 - val_accuracy: 0.8308 - val_auc: 0.7034\n",
      "Epoch 195/400\n",
      "107/107 [==============================] - 7s 63ms/step - loss: 0.7199 - accuracy: 0.9641 - auc: 0.9954 - val_loss: 1.4333 - val_accuracy: 0.8305 - val_auc: 0.7073\n",
      "Epoch 196/400\n",
      "107/107 [==============================] - 6s 57ms/step - loss: 0.7153 - accuracy: 0.9633 - auc: 0.9955 - val_loss: 1.4633 - val_accuracy: 0.8016 - val_auc: 0.7010\n",
      "Epoch 197/400\n",
      "107/107 [==============================] - 7s 66ms/step - loss: 0.7166 - accuracy: 0.9636 - auc: 0.9950 - val_loss: 1.5161 - val_accuracy: 0.7776 - val_auc: 0.6940\n",
      "Epoch 198/400\n",
      "107/107 [==============================] - 6s 54ms/step - loss: 0.7090 - accuracy: 0.9644 - auc: 0.9955 - val_loss: 1.4210 - val_accuracy: 0.8582 - val_auc: 0.7102\n",
      "Epoch 199/400\n",
      "107/107 [==============================] - 5s 51ms/step - loss: 0.7025 - accuracy: 0.9664 - auc: 0.9958 - val_loss: 1.4149 - val_accuracy: 0.8593 - val_auc: 0.7151\n",
      "Epoch 200/400\n",
      "107/107 [==============================] - 6s 55ms/step - loss: 0.6971 - accuracy: 0.9642 - auc: 0.9961 - val_loss: 1.4675 - val_accuracy: 0.7978 - val_auc: 0.6965\n",
      "Epoch 201/400\n",
      "107/107 [==============================] - 7s 66ms/step - loss: 0.6971 - accuracy: 0.9656 - auc: 0.9955 - val_loss: 1.5296 - val_accuracy: 0.7779 - val_auc: 0.6934\n",
      "Epoch 202/400\n",
      "107/107 [==============================] - 5s 51ms/step - loss: 0.6918 - accuracy: 0.9644 - auc: 0.9959 - val_loss: 1.3965 - val_accuracy: 0.8646 - val_auc: 0.7113\n",
      "Epoch 203/400\n",
      "107/107 [==============================] - 6s 54ms/step - loss: 0.6932 - accuracy: 0.9652 - auc: 0.9953 - val_loss: 1.4456 - val_accuracy: 0.7982 - val_auc: 0.6979\n",
      "Epoch 204/400\n",
      "107/107 [==============================] - 6s 59ms/step - loss: 0.6832 - accuracy: 0.9672 - auc: 0.9961 - val_loss: 1.4092 - val_accuracy: 0.8586 - val_auc: 0.7081\n",
      "Epoch 205/400\n",
      "107/107 [==============================] - 5s 46ms/step - loss: 0.6806 - accuracy: 0.9655 - auc: 0.9961 - val_loss: 1.4374 - val_accuracy: 0.8428 - val_auc: 0.7012\n",
      "Epoch 206/400\n",
      "107/107 [==============================] - 5s 47ms/step - loss: 0.6746 - accuracy: 0.9667 - auc: 0.9964 - val_loss: 1.3919 - val_accuracy: 0.8567 - val_auc: 0.7087\n",
      "Epoch 207/400\n",
      "107/107 [==============================] - 6s 55ms/step - loss: 0.6726 - accuracy: 0.9682 - auc: 0.9961 - val_loss: 1.4323 - val_accuracy: 0.8170 - val_auc: 0.7026\n",
      "Epoch 208/400\n",
      "107/107 [==============================] - 6s 56ms/step - loss: 0.6702 - accuracy: 0.9680 - auc: 0.9959 - val_loss: 1.4524 - val_accuracy: 0.7978 - val_auc: 0.7004\n",
      "Epoch 209/400\n",
      "107/107 [==============================] - 6s 58ms/step - loss: 0.6666 - accuracy: 0.9683 - auc: 0.9960 - val_loss: 1.3963 - val_accuracy: 0.8290 - val_auc: 0.7051\n",
      "Epoch 210/400\n",
      "107/107 [==============================] - 6s 58ms/step - loss: 0.6635 - accuracy: 0.9691 - auc: 0.9961 - val_loss: 1.4342 - val_accuracy: 0.8027 - val_auc: 0.7014\n",
      "Epoch 211/400\n",
      "107/107 [==============================] - 5s 46ms/step - loss: 0.6593 - accuracy: 0.9700 - auc: 0.9963 - val_loss: 1.4423 - val_accuracy: 0.8038 - val_auc: 0.7014\n",
      "Epoch 212/400\n",
      "107/107 [==============================] - 5s 50ms/step - loss: 0.6582 - accuracy: 0.9677 - auc: 0.9960 - val_loss: 1.5972 - val_accuracy: 0.7674 - val_auc: 0.6810\n",
      "Epoch 213/400\n",
      "107/107 [==============================] - 6s 52ms/step - loss: 0.6598 - accuracy: 0.9661 - auc: 0.9955 - val_loss: 1.5156 - val_accuracy: 0.7738 - val_auc: 0.6934\n",
      "Epoch 214/400\n",
      "107/107 [==============================] - 5s 51ms/step - loss: 0.6464 - accuracy: 0.9688 - auc: 0.9967 - val_loss: 1.4853 - val_accuracy: 0.7806 - val_auc: 0.6937\n",
      "Epoch 215/400\n",
      "107/107 [==============================] - 7s 62ms/step - loss: 0.6473 - accuracy: 0.9676 - auc: 0.9961 - val_loss: 1.3703 - val_accuracy: 0.8593 - val_auc: 0.7199\n",
      "Epoch 216/400\n",
      "107/107 [==============================] - 6s 54ms/step - loss: 0.6456 - accuracy: 0.9688 - auc: 0.9962 - val_loss: 1.4398 - val_accuracy: 0.7944 - val_auc: 0.6996\n",
      "Epoch 217/400\n",
      "107/107 [==============================] - 5s 47ms/step - loss: 0.6400 - accuracy: 0.9669 - auc: 0.9965 - val_loss: 1.4566 - val_accuracy: 0.7948 - val_auc: 0.6968\n",
      "Epoch 218/400\n",
      "107/107 [==============================] - 5s 50ms/step - loss: 0.6400 - accuracy: 0.9664 - auc: 0.9962 - val_loss: 1.5428 - val_accuracy: 0.7727 - val_auc: 0.6897\n",
      "Epoch 219/400\n",
      "107/107 [==============================] - 7s 65ms/step - loss: 0.6408 - accuracy: 0.9685 - auc: 0.9957 - val_loss: 1.5018 - val_accuracy: 0.7776 - val_auc: 0.6942\n",
      "Epoch 220/400\n",
      "107/107 [==============================] - 8s 71ms/step - loss: 0.6300 - accuracy: 0.9701 - auc: 0.9967 - val_loss: 1.3848 - val_accuracy: 0.8496 - val_auc: 0.7106\n",
      "Epoch 221/400\n",
      "107/107 [==============================] - 5s 49ms/step - loss: 0.6258 - accuracy: 0.9710 - auc: 0.9968 - val_loss: 1.4357 - val_accuracy: 0.7956 - val_auc: 0.7036\n",
      "Epoch 222/400\n",
      "107/107 [==============================] - 5s 50ms/step - loss: 0.6226 - accuracy: 0.9736 - auc: 0.9969 - val_loss: 1.4986 - val_accuracy: 0.7783 - val_auc: 0.6961\n",
      "Epoch 223/400\n",
      "107/107 [==============================] - 6s 52ms/step - loss: 0.6196 - accuracy: 0.9711 - auc: 0.9968 - val_loss: 1.3671 - val_accuracy: 0.8620 - val_auc: 0.7153\n",
      "Epoch 224/400\n",
      "107/107 [==============================] - 6s 53ms/step - loss: 0.6188 - accuracy: 0.9718 - auc: 0.9965 - val_loss: 1.3981 - val_accuracy: 0.8308 - val_auc: 0.7086\n",
      "Epoch 225/400\n",
      "107/107 [==============================] - 5s 50ms/step - loss: 0.6116 - accuracy: 0.9724 - auc: 0.9972 - val_loss: 1.4005 - val_accuracy: 0.8398 - val_auc: 0.7126\n",
      "Epoch 226/400\n",
      "107/107 [==============================] - 5s 50ms/step - loss: 0.6099 - accuracy: 0.9713 - auc: 0.9971 - val_loss: 1.3899 - val_accuracy: 0.8425 - val_auc: 0.7136\n",
      "Epoch 227/400\n",
      "107/107 [==============================] - 5s 50ms/step - loss: 0.6047 - accuracy: 0.9736 - auc: 0.9972 - val_loss: 1.3936 - val_accuracy: 0.8432 - val_auc: 0.7084\n",
      "Epoch 228/400\n",
      "107/107 [==============================] - 6s 53ms/step - loss: 0.6017 - accuracy: 0.9739 - auc: 0.9974 - val_loss: 1.4292 - val_accuracy: 0.8031 - val_auc: 0.7059\n",
      "Epoch 229/400\n",
      "107/107 [==============================] - 5s 47ms/step - loss: 0.6083 - accuracy: 0.9707 - auc: 0.9965 - val_loss: 1.4074 - val_accuracy: 0.7974 - val_auc: 0.7057\n",
      "Epoch 230/400\n",
      "107/107 [==============================] - 6s 54ms/step - loss: 0.6024 - accuracy: 0.9727 - auc: 0.9966 - val_loss: 1.3899 - val_accuracy: 0.8477 - val_auc: 0.7136\n",
      "Epoch 231/400\n",
      "107/107 [==============================] - 5s 49ms/step - loss: 0.5965 - accuracy: 0.9717 - auc: 0.9969 - val_loss: 1.3946 - val_accuracy: 0.8121 - val_auc: 0.7079\n",
      "Epoch 232/400\n",
      "107/107 [==============================] - 7s 67ms/step - loss: 0.5880 - accuracy: 0.9727 - auc: 0.9977 - val_loss: 1.4046 - val_accuracy: 0.8237 - val_auc: 0.7111\n",
      "Epoch 233/400\n",
      "107/107 [==============================] - 7s 67ms/step - loss: 0.5933 - accuracy: 0.9725 - auc: 0.9971 - val_loss: 1.4075 - val_accuracy: 0.8425 - val_auc: 0.7091\n",
      "Epoch 234/400\n",
      "107/107 [==============================] - 6s 53ms/step - loss: 0.5868 - accuracy: 0.9737 - auc: 0.9974 - val_loss: 1.3726 - val_accuracy: 0.8616 - val_auc: 0.7161\n",
      "Epoch 235/400\n",
      "107/107 [==============================] - 6s 52ms/step - loss: 0.5859 - accuracy: 0.9740 - auc: 0.9972 - val_loss: 1.4039 - val_accuracy: 0.8218 - val_auc: 0.7129\n",
      "Epoch 236/400\n",
      "107/107 [==============================] - 6s 56ms/step - loss: 0.5865 - accuracy: 0.9728 - auc: 0.9970 - val_loss: 1.3625 - val_accuracy: 0.8597 - val_auc: 0.7164\n",
      "Epoch 237/400\n",
      "107/107 [==============================] - 5s 49ms/step - loss: 0.5792 - accuracy: 0.9745 - auc: 0.9975 - val_loss: 1.4084 - val_accuracy: 0.8312 - val_auc: 0.7101\n",
      "Epoch 238/400\n",
      "107/107 [==============================] - 6s 52ms/step - loss: 0.5742 - accuracy: 0.9737 - auc: 0.9976 - val_loss: 1.3864 - val_accuracy: 0.8676 - val_auc: 0.7340\n",
      "Epoch 239/400\n",
      "107/107 [==============================] - 6s 52ms/step - loss: 0.5783 - accuracy: 0.9735 - auc: 0.9971 - val_loss: 1.3795 - val_accuracy: 0.8620 - val_auc: 0.7348\n",
      "Epoch 240/400\n",
      "107/107 [==============================] - 6s 57ms/step - loss: 0.5743 - accuracy: 0.9737 - auc: 0.9973 - val_loss: 1.3868 - val_accuracy: 0.8428 - val_auc: 0.7160\n",
      "Epoch 241/400\n",
      "107/107 [==============================] - 5s 49ms/step - loss: 0.5709 - accuracy: 0.9745 - auc: 0.9975 - val_loss: 1.3833 - val_accuracy: 0.8503 - val_auc: 0.7170\n",
      "Epoch 242/400\n",
      "107/107 [==============================] - 6s 53ms/step - loss: 0.5721 - accuracy: 0.9715 - auc: 0.9970 - val_loss: 1.3523 - val_accuracy: 0.8590 - val_auc: 0.7167\n",
      "Epoch 243/400\n",
      "107/107 [==============================] - 5s 49ms/step - loss: 0.5610 - accuracy: 0.9756 - auc: 0.9980 - val_loss: 1.3535 - val_accuracy: 0.8158 - val_auc: 0.7059\n",
      "Epoch 244/400\n",
      "107/107 [==============================] - 5s 47ms/step - loss: 0.5635 - accuracy: 0.9734 - auc: 0.9975 - val_loss: 1.4230 - val_accuracy: 0.8061 - val_auc: 0.7041\n",
      "Epoch 245/400\n",
      "107/107 [==============================] - 5s 46ms/step - loss: 0.5598 - accuracy: 0.9745 - auc: 0.9977 - val_loss: 1.3824 - val_accuracy: 0.8451 - val_auc: 0.7170\n",
      "Epoch 246/400\n",
      "107/107 [==============================] - 5s 46ms/step - loss: 0.5586 - accuracy: 0.9757 - auc: 0.9975 - val_loss: 1.3807 - val_accuracy: 0.8552 - val_auc: 0.7223\n",
      "Epoch 247/400\n",
      "107/107 [==============================] - 5s 49ms/step - loss: 0.5553 - accuracy: 0.9767 - auc: 0.9977 - val_loss: 1.4248 - val_accuracy: 0.8027 - val_auc: 0.7047\n",
      "Epoch 248/400\n",
      "107/107 [==============================] - 5s 46ms/step - loss: 0.5535 - accuracy: 0.9755 - auc: 0.9976 - val_loss: 1.3668 - val_accuracy: 0.8575 - val_auc: 0.7217\n",
      "Epoch 249/400\n",
      "107/107 [==============================] - 5s 48ms/step - loss: 0.5525 - accuracy: 0.9753 - auc: 0.9974 - val_loss: 1.4543 - val_accuracy: 0.7959 - val_auc: 0.6992\n",
      "Epoch 250/400\n",
      "107/107 [==============================] - 6s 58ms/step - loss: 0.5544 - accuracy: 0.9710 - auc: 0.9971 - val_loss: 1.3748 - val_accuracy: 0.8447 - val_auc: 0.7171\n",
      "Epoch 251/400\n",
      "107/107 [==============================] - 7s 65ms/step - loss: 0.5447 - accuracy: 0.9746 - auc: 0.9978 - val_loss: 1.3962 - val_accuracy: 0.8203 - val_auc: 0.7113\n",
      "Epoch 252/400\n",
      "107/107 [==============================] - 6s 52ms/step - loss: 0.5464 - accuracy: 0.9742 - auc: 0.9975 - val_loss: 1.4531 - val_accuracy: 0.7937 - val_auc: 0.7037\n",
      "Epoch 253/400\n",
      "107/107 [==============================] - 5s 51ms/step - loss: 0.5429 - accuracy: 0.9756 - auc: 0.9977 - val_loss: 1.3882 - val_accuracy: 0.8522 - val_auc: 0.7275\n",
      "Epoch 254/400\n",
      "107/107 [==============================] - 7s 64ms/step - loss: 0.5473 - accuracy: 0.9744 - auc: 0.9973 - val_loss: 1.4101 - val_accuracy: 0.8132 - val_auc: 0.7124\n",
      "Epoch 255/400\n",
      "107/107 [==============================] - 6s 53ms/step - loss: 0.5386 - accuracy: 0.9756 - auc: 0.9978 - val_loss: 1.3446 - val_accuracy: 0.8575 - val_auc: 0.7281\n",
      "Epoch 256/400\n",
      "107/107 [==============================] - 5s 51ms/step - loss: 0.5387 - accuracy: 0.9737 - auc: 0.9977 - val_loss: 1.3572 - val_accuracy: 0.8578 - val_auc: 0.7341\n",
      "Epoch 257/400\n",
      "107/107 [==============================] - 6s 54ms/step - loss: 0.5313 - accuracy: 0.9768 - auc: 0.9982 - val_loss: 1.3407 - val_accuracy: 0.8560 - val_auc: 0.7376\n",
      "Epoch 258/400\n",
      "107/107 [==============================] - 5s 50ms/step - loss: 0.5353 - accuracy: 0.9773 - auc: 0.9975 - val_loss: 1.3693 - val_accuracy: 0.8387 - val_auc: 0.7217\n",
      "Epoch 259/400\n",
      "107/107 [==============================] - 6s 56ms/step - loss: 0.5257 - accuracy: 0.9784 - auc: 0.9983 - val_loss: 1.3332 - val_accuracy: 0.8578 - val_auc: 0.7256\n",
      "Epoch 260/400\n",
      "107/107 [==============================] - 6s 53ms/step - loss: 0.5283 - accuracy: 0.9780 - auc: 0.9979 - val_loss: 1.3590 - val_accuracy: 0.8451 - val_auc: 0.7217\n",
      "Epoch 261/400\n",
      "107/107 [==============================] - 5s 51ms/step - loss: 0.5240 - accuracy: 0.9767 - auc: 0.9982 - val_loss: 1.3515 - val_accuracy: 0.8578 - val_auc: 0.7431\n",
      "Epoch 262/400\n",
      "107/107 [==============================] - 6s 51ms/step - loss: 0.5247 - accuracy: 0.9769 - auc: 0.9979 - val_loss: 1.3682 - val_accuracy: 0.8402 - val_auc: 0.7247\n",
      "Epoch 263/400\n",
      "107/107 [==============================] - 6s 52ms/step - loss: 0.5244 - accuracy: 0.9767 - auc: 0.9979 - val_loss: 1.3378 - val_accuracy: 0.8590 - val_auc: 0.7380\n",
      "Epoch 264/400\n",
      "107/107 [==============================] - 6s 54ms/step - loss: 0.5249 - accuracy: 0.9779 - auc: 0.9974 - val_loss: 1.3731 - val_accuracy: 0.8541 - val_auc: 0.7293\n",
      "Epoch 265/400\n",
      "107/107 [==============================] - 5s 49ms/step - loss: 0.5175 - accuracy: 0.9786 - auc: 0.9980 - val_loss: 1.4261 - val_accuracy: 0.8038 - val_auc: 0.7142\n",
      "Epoch 266/400\n",
      "107/107 [==============================] - 5s 48ms/step - loss: 0.5163 - accuracy: 0.9784 - auc: 0.9980 - val_loss: 1.4310 - val_accuracy: 0.7982 - val_auc: 0.7103\n",
      "Epoch 267/400\n",
      "107/107 [==============================] - 5s 49ms/step - loss: 0.5144 - accuracy: 0.9782 - auc: 0.9981 - val_loss: 1.3498 - val_accuracy: 0.8593 - val_auc: 0.7417\n",
      "Epoch 268/400\n",
      "107/107 [==============================] - 5s 51ms/step - loss: 0.5187 - accuracy: 0.9780 - auc: 0.9975 - val_loss: 1.4561 - val_accuracy: 0.7884 - val_auc: 0.7022\n",
      "Epoch 269/400\n",
      "107/107 [==============================] - 6s 56ms/step - loss: 0.5112 - accuracy: 0.9785 - auc: 0.9980 - val_loss: 1.3985 - val_accuracy: 0.8185 - val_auc: 0.7178\n",
      "Epoch 270/400\n",
      "107/107 [==============================] - 7s 66ms/step - loss: 0.5015 - accuracy: 0.9825 - auc: 0.9988 - val_loss: 1.4345 - val_accuracy: 0.8008 - val_auc: 0.7122\n",
      "Epoch 271/400\n",
      "107/107 [==============================] - 7s 67ms/step - loss: 0.5106 - accuracy: 0.9783 - auc: 0.9977 - val_loss: 1.3798 - val_accuracy: 0.8241 - val_auc: 0.7126\n",
      "Epoch 272/400\n",
      "107/107 [==============================] - 6s 57ms/step - loss: 0.4988 - accuracy: 0.9819 - auc: 0.9988 - val_loss: 1.3685 - val_accuracy: 0.8537 - val_auc: 0.7360\n",
      "Epoch 273/400\n",
      "107/107 [==============================] - 7s 65ms/step - loss: 0.5033 - accuracy: 0.9800 - auc: 0.9981 - val_loss: 1.4074 - val_accuracy: 0.8203 - val_auc: 0.7146\n",
      "Epoch 274/400\n",
      "107/107 [==============================] - 6s 58ms/step - loss: 0.5018 - accuracy: 0.9800 - auc: 0.9981 - val_loss: 1.4125 - val_accuracy: 0.8140 - val_auc: 0.7157\n",
      "Epoch 275/400\n",
      "107/107 [==============================] - 6s 59ms/step - loss: 0.4989 - accuracy: 0.9808 - auc: 0.9983 - val_loss: 1.3635 - val_accuracy: 0.8526 - val_auc: 0.7232\n",
      "Epoch 276/400\n",
      "107/107 [==============================] - 6s 54ms/step - loss: 0.4946 - accuracy: 0.9821 - auc: 0.9986 - val_loss: 1.3743 - val_accuracy: 0.8275 - val_auc: 0.7151\n",
      "Epoch 277/400\n",
      "107/107 [==============================] - 6s 52ms/step - loss: 0.4930 - accuracy: 0.9812 - auc: 0.9985 - val_loss: 1.3620 - val_accuracy: 0.8425 - val_auc: 0.7213\n",
      "Epoch 278/400\n",
      "107/107 [==============================] - 7s 66ms/step - loss: 0.4937 - accuracy: 0.9820 - auc: 0.9985 - val_loss: 1.3550 - val_accuracy: 0.8511 - val_auc: 0.7261\n",
      "Epoch 279/400\n",
      "107/107 [==============================] - 6s 56ms/step - loss: 0.4947 - accuracy: 0.9816 - auc: 0.9980 - val_loss: 1.3724 - val_accuracy: 0.8241 - val_auc: 0.7156\n",
      "Epoch 280/400\n",
      "107/107 [==============================] - 6s 52ms/step - loss: 0.4967 - accuracy: 0.9797 - auc: 0.9978 - val_loss: 1.4564 - val_accuracy: 0.7914 - val_auc: 0.7079\n",
      "Epoch 281/400\n",
      "107/107 [==============================] - 6s 53ms/step - loss: 0.4865 - accuracy: 0.9825 - auc: 0.9987 - val_loss: 1.4301 - val_accuracy: 0.8001 - val_auc: 0.7146\n",
      "Epoch 282/400\n",
      "107/107 [==============================] - 6s 58ms/step - loss: 0.4845 - accuracy: 0.9804 - auc: 0.9986 - val_loss: 1.3528 - val_accuracy: 0.8556 - val_auc: 0.7368\n",
      "Epoch 283/400\n",
      "107/107 [==============================] - 7s 67ms/step - loss: 0.4899 - accuracy: 0.9786 - auc: 0.9982 - val_loss: 1.3753 - val_accuracy: 0.8507 - val_auc: 0.7296\n",
      "Epoch 284/400\n",
      "107/107 [==============================] - 6s 54ms/step - loss: 0.4910 - accuracy: 0.9803 - auc: 0.9980 - val_loss: 1.4604 - val_accuracy: 0.7959 - val_auc: 0.7120\n",
      "Epoch 285/400\n",
      "107/107 [==============================] - 6s 59ms/step - loss: 0.4856 - accuracy: 0.9791 - auc: 0.9983 - val_loss: 1.3692 - val_accuracy: 0.8537 - val_auc: 0.7272\n",
      "Epoch 286/400\n",
      "107/107 [==============================] - 8s 71ms/step - loss: 0.4772 - accuracy: 0.9835 - auc: 0.9989 - val_loss: 1.3902 - val_accuracy: 0.8425 - val_auc: 0.7262\n",
      "Epoch 287/400\n",
      "107/107 [==============================] - 8s 77ms/step - loss: 0.4757 - accuracy: 0.9828 - auc: 0.9987 - val_loss: 1.3494 - val_accuracy: 0.8522 - val_auc: 0.7267\n",
      "Epoch 288/400\n",
      "107/107 [==============================] - 7s 66ms/step - loss: 0.4783 - accuracy: 0.9811 - auc: 0.9986 - val_loss: 1.3661 - val_accuracy: 0.8571 - val_auc: 0.7461\n",
      "Epoch 289/400\n",
      "107/107 [==============================] - 5s 49ms/step - loss: 0.4774 - accuracy: 0.9812 - auc: 0.9986 - val_loss: 1.4051 - val_accuracy: 0.8218 - val_auc: 0.7159\n"
     ]
    }
   ],
   "source": [
    "## look at validation batch ?\n",
    "history = model.fit(X_train,  y_train, \n",
    "                    batch_size=BATCH_SIZE, \n",
    "                    class_weight=class_weight_dict,\n",
    "                    shuffle=True,\n",
    "                    epochs=EPOCHS\n",
    "                    #validation_data= (X_test, y_test),\n",
    "                    #callbacks=callbacks\n",
    "                    )"
   ]
  },
  {
   "cell_type": "code",
   "execution_count": 24,
   "metadata": {},
   "outputs": [
    {
     "data": {
      "image/png": "[encoded data removed]",
      "text/plain": [
       "<Figure size 640x480 with 1 Axes>"
      ]
     },
     "metadata": {},
     "output_type": "display_data"
    }
   ],
   "source": [
    "plots.plot_history_metrics(history)"
   ]
  },
  {
   "cell_type": "code",
   "execution_count": 25,
   "metadata": {},
   "outputs": [
    {
     "name": "stdout",
     "output_type": "stream",
     "text": [
      "84/84 - 1s - loss: 1.3332 - accuracy: 0.8578 - auc: 0.7256 - 625ms/epoch - 7ms/step\n",
      "Model accuracy: [1.3332136869430542, 0.8578394651412964, 0.7255838513374329]\n"
     ]
    }
   ],
   "source": [
    "metrics = model.evaluate(X_test, y_test, verbose=2)\n",
    "print(f'Model accuracy: {metrics}')"
   ]
  },
  {
   "cell_type": "code",
   "execution_count": 59,
   "metadata": {},
   "outputs": [
    {
     "name": "stdout",
     "output_type": "stream",
     "text": [
      "334/334 [==============================] - 3s 7ms/step\n"
     ]
    }
   ],
   "source": [
    "y_pred_train = model.predict(X_train)"
   ]
  },
  {
   "cell_type": "code",
   "execution_count": 26,
   "metadata": {},
   "outputs": [
    {
     "name": "stdout",
     "output_type": "stream",
     "text": [
      "84/84 [==============================] - 2s 10ms/step\n"
     ]
    },
    {
     "data": {
      "text/plain": [
       "(2666, 1)"
      ]
     },
     "execution_count": 26,
     "metadata": {},
     "output_type": "execute_result"
    }
   ],
   "source": [
    "y_pred = model.predict(X_test)\n",
    "y_pred_c = y_pred.round().astype(int)\n",
    "y_pred_c.shape"
   ]
  },
  {
   "cell_type": "code",
   "execution_count": 27,
   "metadata": {},
   "outputs": [
    {
     "data": {
      "image/png": "[encoded data removed]",
      "text/plain": [
       "<Figure size 640x480 with 1 Axes>"
      ]
     },
     "metadata": {},
     "output_type": "display_data"
    }
   ],
   "source": [
    "plots.plot_roc(y_test, y_pred)"
   ]
  },
  {
   "cell_type": "code",
   "execution_count": 204,
   "metadata": {},
   "outputs": [
    {
     "data": {
      "text/plain": [
       "[1.1895338296890259, 0.6995499134063721, 0.6688827872276306]"
      ]
     },
     "execution_count": 204,
     "metadata": {},
     "output_type": "execute_result"
    }
   ],
   "source": [
    "metrics"
   ]
  },
  {
   "cell_type": "code",
   "execution_count": 28,
   "metadata": {},
   "outputs": [
    {
     "name": "stdout",
     "output_type": "stream",
     "text": [
      "84/84 [==============================] - 1s 11ms/step - loss: 1.3332 - accuracy: 0.8578 - auc: 0.7256\n",
      "Loss: 1.3332136869430542\n",
      "Accuracy: 0.8578394651412964\n",
      "AUC: 0.7255838513374329\n",
      "Precision: 0.4246031746031746\n",
      "Recall: 0.31378299120234604\n"
     ]
    },
    {
     "data": {
      "text/plain": [
       "(341.0, 252)"
      ]
     },
     "execution_count": 28,
     "metadata": {},
     "output_type": "execute_result"
    }
   ],
   "source": [
    "from sklearn.metrics import precision_score, recall_score, confusion_matrix\n",
    "y_pred_c = y_pred.round().astype(int)\n",
    "precision = precision_score(y_test, y_pred_c)\n",
    "recall = recall_score(y_test, y_pred_c)\n",
    "\n",
    "metrics = model.evaluate(X_test, y_test)\n",
    "\n",
    "print('Loss:', metrics[0])\n",
    "print('Accuracy:', metrics[1])\n",
    "print('AUC:', metrics[2])\n",
    "print('Precision:', precision)\n",
    "print('Recall:', recall)\n",
    "y_test.sum(), y_pred_c.sum()\n"
   ]
  },
  {
   "cell_type": "code",
   "execution_count": 137,
   "metadata": {},
   "outputs": [
    {
     "name": "stdout",
     "output_type": "stream",
     "text": [
      "Metrics:  ['loss', 'accuracy', 'auc']\n",
      "Results:  [1.385009527206421, 0.7786946892738342, 0.6934046149253845]\n"
     ]
    }
   ],
   "source": [
    "# Print the results\n",
    "print(\"Metrics: \", model.metrics_names)\n",
    "print(\"Results: \", metrics)"
   ]
  },
  {
   "cell_type": "code",
   "execution_count": 29,
   "metadata": {},
   "outputs": [
    {
     "data": {
      "image/png": "[encoded data removed]",
      "text/plain": [
       "<Figure size 640x480 with 2 Axes>"
      ]
     },
     "metadata": {},
     "output_type": "display_data"
    }
   ],
   "source": [
    "plots.plot_confusion_matrix(y_test, y_pred_c)"
   ]
  },
  {
   "cell_type": "code",
   "execution_count": 139,
   "metadata": {},
   "outputs": [
    {
     "name": "stdout",
     "output_type": "stream",
     "text": [
      "Classification Report:\n",
      "              precision    recall  f1-score   support\n",
      "\n",
      "         0.0       0.91      0.83      0.87      2325\n",
      "         1.0       0.27      0.43      0.33       341\n",
      "\n",
      "    accuracy                           0.78      2666\n",
      "   macro avg       0.59      0.63      0.60      2666\n",
      "weighted avg       0.83      0.78      0.80      2666\n",
      "\n"
     ]
    }
   ],
   "source": [
    "from sklearn.metrics import classification_report\n",
    "report = classification_report(y_test, y_pred_c)\n",
    "print(\"Classification Report:\")\n",
    "print(report)\n",
    " "
   ]
  },
  {
   "cell_type": "code",
   "execution_count": 172,
   "metadata": {},
   "outputs": [
    {
     "data": {
      "text/plain": [
       "1.5736794471740723"
      ]
     },
     "execution_count": 172,
     "metadata": {},
     "output_type": "execute_result"
    }
   ],
   "source": [
    "model_checkpoint.best"
   ]
  },
  {
   "cell_type": "code",
   "execution_count": 141,
   "metadata": {},
   "outputs": [
    {
     "name": "stdout",
     "output_type": "stream",
     "text": [
      "INFO:tensorflow:Assets written to: saved_model/my_RNN_model_60per5_fixing_overfit2/assets\n"
     ]
    },
    {
     "name": "stderr",
     "output_type": "stream",
     "text": [
      "INFO:tensorflow:Assets written to: saved_model/my_RNN_model_60per5_fixing_overfit2/assets\n"
     ]
    }
   ],
   "source": [
    "!mkdir -p saved_model\n",
    "\n",
    "model.save('saved_model/my_RNN_model_60per5_fixing_overfit2')"
   ]
  },
  {
   "cell_type": "code",
   "execution_count": 48,
   "metadata": {},
   "outputs": [],
   "source": [
    "# # Define a sequential model\n",
    "# model = keras.Sequential()\n",
    "\n",
    "# #model.add(normalizer)\n",
    "\n",
    "# # Add an input layer with an input shape of (time_steps, input_features)\n",
    "# model.add(layers.InputLayer(input_shape=(X_train.shape[1],X_train.shape[2])))\n",
    "\n",
    "# # Add a SimpleRNN layer with 32 units (neurons)\n",
    "# model.add(layers.SimpleRNN(72, activation='tanh'))\n",
    "\n",
    "# model.add(BatchNormalization())\n",
    "\n",
    "# # Add the output layer with 1 neuron and sigmoid activation for binary classification\n",
    "# model.add(layers.Dense(1, activation='sigmoid'))\n",
    "\n",
    "# # Compile the model with binary cross-entropy loss for binary classification\n",
    "# model.compile(loss='binary_crossentropy', optimizer='adam', metrics=['accuracy'])\n"
   ]
  },
  {
   "cell_type": "code",
   "execution_count": 47,
   "metadata": {},
   "outputs": [],
   "source": [
    "# history = model.fit(X_train,  y_train, \n",
    "#                     batch_size=100, \n",
    "#                     class_weight=class_weight_dict,\n",
    "#                     shuffle=True,\n",
    "#                     epochs=300,\n",
    "#                     validation_data=(X_val, y_val))"
   ]
  },
  {
   "cell_type": "code",
   "execution_count": 173,
   "metadata": {},
   "outputs": [],
   "source": [
    "# plot_loss(history)"
   ]
  },
  {
   "cell_type": "code",
   "execution_count": 174,
   "metadata": {},
   "outputs": [],
   "source": [
    "# y_pred = model.predict(X_test).flatten()\n",
    "# y_pred"
   ]
  },
  {
   "cell_type": "code",
   "execution_count": null,
   "metadata": {},
   "outputs": [
    {
     "name": "stdout",
     "output_type": "stream",
     "text": [
      "16/16 - 0s - loss: 0.6718 - accuracy: 0.5746 - 234ms/epoch - 15ms/step\n",
      "Model accuracy: 0.5745967626571655\n"
     ]
    }
   ],
   "source": [
    "# loss, accuracy = model.evaluate(X_test, y_test, verbose=2)\n",
    "# print(f'Model accuracy: {accuracy}')"
   ]
  },
  {
   "cell_type": "code",
   "execution_count": 175,
   "metadata": {},
   "outputs": [],
   "source": [
    "# from sklearn.metrics import precision_score, recall_score\n",
    "# y_pred_c = y_pred.round().astype(int)\n",
    "# precision = precision_score(y_test, y_pred_c)\n",
    "# recall = recall_score(y_test, y_pred_c)\n",
    "\n",
    "# loss, accuracy = model.evaluate(X_test, y_test)\n",
    "\n",
    "# print('Loss:', loss)\n",
    "# print('Accuracy:', accuracy)\n",
    "# print('Precision:', precision)\n",
    "# print('Recall:', recall)\n",
    "# y_test.sum(), y_pred_c.sum()"
   ]
  },
  {
   "cell_type": "code",
   "execution_count": null,
   "metadata": {},
   "outputs": [],
   "source": []
  }
 ],
 "metadata": {
  "kernelspec": {
   "display_name": ".venv",
   "language": "python",
   "name": "python3"
  },
  "language_info": {
   "codemirror_mode": {
    "name": "ipython",
    "version": 3
   },
   "file_extension": ".py",
   "mimetype": "text/x-python",
   "name": "python",
   "nbconvert_exporter": "python",
   "pygments_lexer": "ipython3",
   "version": "3.11.3"
  }
 },
 "nbformat": 4,
 "nbformat_minor": 2
}
