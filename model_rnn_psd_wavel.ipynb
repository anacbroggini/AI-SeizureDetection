{
 "cells": [
  {
   "cell_type": "code",
   "execution_count": 2,
   "metadata": {},
   "outputs": [
    {
     "name": "stderr",
     "output_type": "stream",
     "text": [
      "2023-11-20 14:50:18.034394: I tensorflow/core/platform/cpu_feature_guard.cc:182] This TensorFlow binary is optimized to use available CPU instructions in performance-critical operations.\n",
      "To enable the following instructions: AVX2 FMA, in other operations, rebuild TensorFlow with the appropriate compiler flags.\n"
     ]
    }
   ],
   "source": [
    "import pip\n",
    "\n",
    "def import_or_install(package):\n",
    "    try:\n",
    "        __import__(package)\n",
    "    except ImportError:\n",
    "        pip.main(['install', package])       \n",
    "\n",
    "import_or_install('tensorflow')\n",
    "import_or_install('pydot')\n"
   ]
  },
  {
   "cell_type": "code",
   "execution_count": 3,
   "metadata": {},
   "outputs": [],
   "source": [
    "import tensorflow as tf\n",
    "from tensorflow import keras\n",
    "from tensorflow.keras import layers"
   ]
  },
  {
   "cell_type": "code",
   "execution_count": 4,
   "metadata": {},
   "outputs": [],
   "source": [
    "import pyarrow as pa\n",
    "import pandas as pd\n",
    "import matplotlib\n",
    "import matplotlib.pyplot as plt\n",
    "import seaborn as sns\n",
    "import numpy as np\n",
    "from source import data_import"
   ]
  },
  {
   "cell_type": "code",
   "execution_count": 5,
   "metadata": {},
   "outputs": [],
   "source": [
    "from sklearn.model_selection import train_test_split\n",
    "from sklearn.metrics import confusion_matrix, accuracy_score\n",
    "from sklearn.preprocessing import StandardScaler"
   ]
  },
  {
   "cell_type": "code",
   "execution_count": 6,
   "metadata": {},
   "outputs": [],
   "source": [
    "import tensorflow as tf\n",
    "\n",
    "import keras \n",
    "from keras.models import Sequential # intitialize the ANN\n",
    "from keras.layers import Dense, Activation, Dropout "
   ]
  },
  {
   "cell_type": "code",
   "execution_count": 7,
   "metadata": {},
   "outputs": [],
   "source": [
    "import source.plots as plots"
   ]
  },
  {
   "cell_type": "code",
   "execution_count": 8,
   "metadata": {},
   "outputs": [],
   "source": [
    "RSEED = 42\n",
    "np.random.seed(seed=RSEED)\n",
    "tf.random.set_seed(RSEED)"
   ]
  },
  {
   "cell_type": "code",
   "execution_count": 186,
   "metadata": {},
   "outputs": [
    {
     "name": "stdout",
     "output_type": "stream",
     "text": [
      "data already loaded in parent notebook\n"
     ]
    },
    {
     "data": {
      "text/plain": [
       "(13330, 30, 63)"
      ]
     },
     "execution_count": 186,
     "metadata": {},
     "output_type": "execute_result"
    }
   ],
   "source": [
    "try:\n",
    "    data\n",
    "    print('data already loaded in parent notebook')\n",
    "except NameError:\n",
    "    data = np.load('data/extracted_features.npy')\n",
    "data.shape"
   ]
  },
  {
   "cell_type": "code",
   "execution_count": 9,
   "metadata": {},
   "outputs": [],
   "source": [
    "data = np.load('data/psd_wav_features.npy')\n"
   ]
  },
  {
   "cell_type": "code",
   "execution_count": 10,
   "metadata": {},
   "outputs": [],
   "source": [
    "import numpy as np\n",
    "\n",
    "def split_data(data, train_size=0.8, random_state=None):\n",
    "    np.random.seed(seed=RSEED)\n",
    "\n",
    "    # Assuming the first column contains the IDs\n",
    "    ids_column = data[:, 0, 0]\n",
    "\n",
    "    # Find unique epoch IDs\n",
    "    unique_epoch_ids = np.unique(ids_column)\n",
    "\n",
    "    # Shuffle the unique epoch IDs\n",
    "    np.random.shuffle(unique_epoch_ids)\n",
    "\n",
    "    # Calculate the number of unique epoch IDs for training, validation, and testing\n",
    "    train_samples_nr = int(np.floor(train_size * len(unique_epoch_ids)))\n",
    "    print(f'{train_samples_nr} of epochs for training, {len(unique_epoch_ids) - train_samples_nr} of epochs for testing/validation')\n",
    "\n",
    "    # Split the unique epoch IDs into train, validation, and test sets\n",
    "\n",
    "    train_sample_ids = unique_epoch_ids[:train_samples_nr]\n",
    "    test_sample_ids = unique_epoch_ids[train_samples_nr:]\n",
    "\n",
    "    # Create boolean masks for filtering\n",
    "    train_mask = np.in1d(ids_column, train_sample_ids)\n",
    "    test_mask = np.in1d(ids_column, test_sample_ids)\n",
    "\n",
    "    # Apply the masks to create train, validation, and test samples\n",
    "    train_sample = data[train_mask, :, :]\n",
    "    test_sample = data[test_mask, :, :]\n",
    "\n",
    "    X_train = train_sample[:,:,:-1]\n",
    "    X_test = test_sample[:,:,:-1]\n",
    "\n",
    "    Y_train = train_sample[:,:,-1]\n",
    "    Y_test = test_sample[:,:,-1]\n",
    "\n",
    "    y_test=Y_test.max(axis=1)\n",
    "    y_train=Y_train.max(axis=1)\n",
    "\n",
    "    return X_train, X_test, Y_train, Y_test, y_train, y_test\n"
   ]
  },
  {
   "cell_type": "code",
   "execution_count": 11,
   "metadata": {},
   "outputs": [
    {
     "name": "stdout",
     "output_type": "stream",
     "text": [
      "344 of epochs for training, 86 of epochs for testing/validation\n",
      "train shape (10664, 30, 92) ratio of seizures 0.14\n",
      "test shape (2666, 30, 92), ratio of seizures 0.13\n"
     ]
    }
   ],
   "source": [
    "X_train, X_test, Y_train, Y_test, y_train, y_test = split_data(data)\n",
    "print(f'train shape', X_train.shape, f'ratio of seizures {y_train.sum()/len(y_train):.2f}')\n",
    "print(f'test shape {X_test.shape}, ratio of seizures {y_test.sum()/len(y_test):.2f}')"
   ]
  },
  {
   "cell_type": "code",
   "execution_count": 12,
   "metadata": {},
   "outputs": [
    {
     "name": "stdout",
     "output_type": "stream",
     "text": [
      "train shape (10664, 30, 90)\n",
      "test shape (2666, 30, 90)\n"
     ]
    }
   ],
   "source": [
    "# Scaling features\n",
    "num_features_train = X_train[:,:,2:]\n",
    "num_features_test = X_test[:,:,2:]\n",
    "\n",
    "# Get the dimensions of the original array\n",
    "num_epochs_tr, num_segments_per_epoch_tr, features_tr = num_features_train.shape\n",
    "num_epochs_te, num_segments_per_epoch_te, features_te = num_features_test.shape\n",
    "\n",
    "# Reshape the array to 2D\n",
    "reshaped_array_train = num_features_train.reshape(num_epochs_tr * num_segments_per_epoch_tr, features_tr)\n",
    "reshaped_array_test = num_features_test.reshape(num_epochs_te * num_segments_per_epoch_te, features_te)\n",
    "\n",
    "# Scaling features\n",
    "scaler = StandardScaler()\n",
    "num_features_scaled_tr = scaler.fit_transform(reshaped_array_train)\n",
    "num_features_scaled_te = scaler.transform(reshaped_array_test)\n",
    "\n",
    "X_train_scaled = num_features_scaled_tr.reshape(num_epochs_tr, num_segments_per_epoch_tr, features_tr)\n",
    "X_test_scaled = num_features_scaled_te.reshape(num_epochs_te, num_segments_per_epoch_te, features_te)\n",
    "\n",
    "print(f'train shape', X_train_scaled.shape)\n",
    "print(f'test shape', X_test_scaled.shape)"
   ]
  },
  {
   "cell_type": "code",
   "execution_count": 13,
   "metadata": {},
   "outputs": [],
   "source": [
    "X_train = X_train_scaled\n",
    "X_test = X_test_scaled"
   ]
  },
  {
   "cell_type": "code",
   "execution_count": 14,
   "metadata": {},
   "outputs": [],
   "source": [
    "import numpy as np\n",
    "import tensorflow as tf\n",
    "from sklearn.utils.class_weight import compute_class_weight\n",
    "\n",
    "class_labels, class_counts = np.unique(y_train, return_counts=True)\n",
    "total_samples = len(y_train)\n",
    "class_weights = total_samples / (len(class_labels) * class_counts)\n",
    "\n",
    "# Convert class weights to a dictionary\n",
    "class_weight_dict = dict(zip(class_labels, class_weights))\n"
   ]
  },
  {
   "cell_type": "code",
   "execution_count": 15,
   "metadata": {},
   "outputs": [],
   "source": [
    "class_labels, class_counts = np.unique(y_train, return_counts=True)"
   ]
  },
  {
   "cell_type": "code",
   "execution_count": 16,
   "metadata": {},
   "outputs": [
    {
     "data": {
      "text/plain": [
       "{0.0: 0.5830508474576271, 1.0: 3.510204081632653}"
      ]
     },
     "execution_count": 16,
     "metadata": {},
     "output_type": "execute_result"
    }
   ],
   "source": [
    "class_weight_dict"
   ]
  },
  {
   "cell_type": "code",
   "execution_count": 30,
   "metadata": {},
   "outputs": [],
   "source": [
    "N_TRAIN = len(X_train)\n",
    "EPOCHS = 300\n",
    "BATCH_SIZE = 100\n",
    "STEPS_PER_EPOCH = N_TRAIN // BATCH_SIZE"
   ]
  },
  {
   "cell_type": "code",
   "execution_count": 18,
   "metadata": {},
   "outputs": [
    {
     "data": {
      "text/plain": [
       "106"
      ]
     },
     "execution_count": 18,
     "metadata": {},
     "output_type": "execute_result"
    }
   ],
   "source": [
    "STEPS_PER_EPOCH"
   ]
  },
  {
   "cell_type": "code",
   "execution_count": 33,
   "metadata": {},
   "outputs": [],
   "source": [
    "from keras.models import Sequential\n",
    "from keras.layers import LSTM, Dense, Dropout, BatchNormalization, Input\n",
    "from tensorflow.keras.optimizers import Adam\n",
    "from keras import regularizers\n",
    "\n",
    "# Set seeds for reproducibility\n",
    "np.random.seed(42)\n",
    "tf.random.set_seed(42)\n",
    "\n",
    "model = Sequential()\n",
    "\n",
    "model.add(Input(shape=X_train.shape[1:]))\n",
    "\n",
    "#model.add(normalizer)\n",
    "\n",
    "# Recurrent layer\n",
    "model.add(LSTM(128, return_sequences=False, kernel_regularizer=regularizers.l2(0.01)))\n",
    "\n",
    "model.add(Dropout(0.5))  # Add dropout after LSTM\n",
    "\n",
    "# Fully connected layer\n",
    "model.add(Dense(128, activation='relu', kernel_regularizer=regularizers.l2(0.01)))\n",
    "\n",
    "# Dropout for regularization\n",
    "model.add(Dropout(0.5))\n",
    "\n",
    "model.add(BatchNormalization())\n",
    "\n",
    "# Calculate the imbalance ratio\n",
    "pos_ratio = class_weight_dict[1] / (class_weight_dict[0] + class_weight_dict[1])\n",
    "\n",
    "# Calculate the initial bias based on the imbalance ratio\n",
    "initial_bias = -np.log(pos_ratio)\n",
    "\n",
    "# Output layer with a custom bias for initial probability\n",
    "model.add(Dense(1, activation='sigmoid', bias_initializer=tf.keras.initializers.Constant(initial_bias)))\n",
    "\n",
    "# Compile the model\n",
    "#learning_rate = 0.001  # Replace with your desired learning rate\n",
    "\n",
    "# Create an instance of the Adam optimizer with the specified learning rate\n",
    "\n",
    "lr_schedule = tf.keras.optimizers.schedules.InverseTimeDecay(\n",
    "    0.00001,\n",
    "    decay_steps=STEPS_PER_EPOCH*1000,\n",
    "    decay_rate=0.001,\n",
    "    staircase=False)\n",
    "\n",
    "\n",
    "optimizer = Adam(learning_rate=lr_schedule)\n",
    "model.compile(\n",
    "    optimizer=optimizer, loss='binary_crossentropy', metrics=['accuracy', 'AUC'])"
   ]
  },
  {
   "cell_type": "code",
   "execution_count": 20,
   "metadata": {},
   "outputs": [
    {
     "name": "stdout",
     "output_type": "stream",
     "text": [
      "Model: \"sequential\"\n",
      "_________________________________________________________________\n",
      " Layer (type)                Output Shape              Param #   \n",
      "=================================================================\n",
      " lstm (LSTM)                 (None, 128)               112128    \n",
      "                                                                 \n",
      " dropout (Dropout)           (None, 128)               0         \n",
      "                                                                 \n",
      " dense (Dense)               (None, 128)               16512     \n",
      "                                                                 \n",
      " dropout_1 (Dropout)         (None, 128)               0         \n",
      "                                                                 \n",
      " batch_normalization (Batch  (None, 128)               512       \n",
      " Normalization)                                                  \n",
      "                                                                 \n",
      " dense_1 (Dense)             (None, 1)                 129       \n",
      "                                                                 \n",
      "=================================================================\n",
      "Total params: 129281 (505.00 KB)\n",
      "Trainable params: 129025 (504.00 KB)\n",
      "Non-trainable params: 256 (1.00 KB)\n",
      "_________________________________________________________________\n"
     ]
    }
   ],
   "source": [
    "model.summary()"
   ]
  },
  {
   "cell_type": "code",
   "execution_count": 21,
   "metadata": {},
   "outputs": [],
   "source": [
    "from keras.callbacks import EarlyStopping, ModelCheckpoint\n",
    "\n",
    "# Create EarlyStopping callback\n",
    "early_stopping = EarlyStopping(monitor='val_loss', patience=30, restore_best_weights=True)\n",
    "\n",
    "# Create ModelCheckpoint callback to save the best model\n",
    "model_checkpoint = ModelCheckpoint('best_model.h5', save_best_only=True)\n",
    "\n",
    "# Combine the callbacks in a list\n",
    "callbacks = [early_stopping, model_checkpoint]"
   ]
  },
  {
   "cell_type": "code",
   "execution_count": 32,
   "metadata": {},
   "outputs": [
    {
     "data": {
      "text/plain": [
       "(10664,)"
      ]
     },
     "execution_count": 32,
     "metadata": {},
     "output_type": "execute_result"
    }
   ],
   "source": [
    "y_train.shape"
   ]
  },
  {
   "cell_type": "code",
   "execution_count": 34,
   "metadata": {},
   "outputs": [
    {
     "name": "stdout",
     "output_type": "stream",
     "text": [
      "Epoch 1/300\n",
      "107/107 [==============================] - 11s 59ms/step - loss: 3.6785 - accuracy: 0.4675 - auc: 0.5113\n",
      "Epoch 2/300\n",
      "107/107 [==============================] - 7s 67ms/step - loss: 3.6585 - accuracy: 0.4741 - auc: 0.5133\n",
      "Epoch 3/300\n",
      "107/107 [==============================] - 6s 55ms/step - loss: 3.6135 - accuracy: 0.4868 - auc: 0.5372\n",
      "Epoch 4/300\n",
      "107/107 [==============================] - 5s 50ms/step - loss: 3.5851 - accuracy: 0.4841 - auc: 0.5406\n",
      "Epoch 5/300\n",
      "107/107 [==============================] - 6s 54ms/step - loss: 3.5378 - accuracy: 0.4983 - auc: 0.5612\n",
      "Epoch 6/300\n",
      "107/107 [==============================] - 7s 70ms/step - loss: 3.5223 - accuracy: 0.4989 - auc: 0.5566\n",
      "Epoch 7/300\n",
      "107/107 [==============================] - 7s 61ms/step - loss: 3.4709 - accuracy: 0.5135 - auc: 0.5848\n",
      "Epoch 8/300\n",
      "107/107 [==============================] - 6s 58ms/step - loss: 3.4613 - accuracy: 0.5064 - auc: 0.5767\n",
      "Epoch 9/300\n",
      "107/107 [==============================] - 6s 56ms/step - loss: 3.4231 - accuracy: 0.5155 - auc: 0.5887\n",
      "Epoch 10/300\n",
      "107/107 [==============================] - 6s 52ms/step - loss: 3.3919 - accuracy: 0.5177 - auc: 0.5951\n",
      "Epoch 11/300\n",
      "107/107 [==============================] - 6s 52ms/step - loss: 3.3660 - accuracy: 0.5193 - auc: 0.5965\n",
      "Epoch 12/300\n",
      "107/107 [==============================] - 5s 49ms/step - loss: 3.3377 - accuracy: 0.5258 - auc: 0.6136\n",
      "Epoch 13/300\n",
      "107/107 [==============================] - 7s 63ms/step - loss: 3.3025 - accuracy: 0.5349 - auc: 0.6217\n",
      "Epoch 14/300\n",
      "107/107 [==============================] - 9s 83ms/step - loss: 3.2860 - accuracy: 0.5372 - auc: 0.6162\n",
      "Epoch 15/300\n",
      "107/107 [==============================] - 6s 55ms/step - loss: 3.2680 - accuracy: 0.5349 - auc: 0.6188\n",
      "Epoch 16/300\n",
      "107/107 [==============================] - 6s 57ms/step - loss: 3.2307 - accuracy: 0.5450 - auc: 0.6292\n",
      "Epoch 17/300\n",
      "107/107 [==============================] - 6s 60ms/step - loss: 3.2158 - accuracy: 0.5441 - auc: 0.6272\n",
      "Epoch 18/300\n",
      "107/107 [==============================] - 6s 59ms/step - loss: 3.1830 - accuracy: 0.5428 - auc: 0.6314\n",
      "Epoch 19/300\n",
      "107/107 [==============================] - 6s 54ms/step - loss: 3.1633 - accuracy: 0.5503 - auc: 0.6324\n",
      "Epoch 20/300\n",
      "107/107 [==============================] - 6s 52ms/step - loss: 3.1286 - accuracy: 0.5545 - auc: 0.6467\n",
      "Epoch 21/300\n",
      "107/107 [==============================] - 5s 50ms/step - loss: 3.1026 - accuracy: 0.5549 - auc: 0.6524\n",
      "Epoch 22/300\n",
      "107/107 [==============================] - 5s 45ms/step - loss: 3.0717 - accuracy: 0.5595 - auc: 0.6636\n",
      "Epoch 23/300\n",
      "107/107 [==============================] - 5s 47ms/step - loss: 3.0649 - accuracy: 0.5610 - auc: 0.6473\n",
      "Epoch 24/300\n",
      "107/107 [==============================] - 6s 58ms/step - loss: 3.0404 - accuracy: 0.5565 - auc: 0.6519\n",
      "Epoch 25/300\n",
      "107/107 [==============================] - 5s 42ms/step - loss: 2.9997 - accuracy: 0.5689 - auc: 0.6674\n",
      "Epoch 26/300\n",
      "107/107 [==============================] - 5s 42ms/step - loss: 2.9688 - accuracy: 0.5745 - auc: 0.6843\n",
      "Epoch 27/300\n",
      "107/107 [==============================] - 4s 41ms/step - loss: 2.9549 - accuracy: 0.5776 - auc: 0.6835\n",
      "Epoch 28/300\n",
      "107/107 [==============================] - 5s 42ms/step - loss: 2.9329 - accuracy: 0.5806 - auc: 0.6846\n",
      "Epoch 29/300\n",
      "107/107 [==============================] - 4s 42ms/step - loss: 2.9055 - accuracy: 0.5853 - auc: 0.6905\n",
      "Epoch 30/300\n",
      "107/107 [==============================] - 5s 44ms/step - loss: 2.8914 - accuracy: 0.5884 - auc: 0.6884\n",
      "Epoch 31/300\n",
      "107/107 [==============================] - 4s 42ms/step - loss: 2.8509 - accuracy: 0.5949 - auc: 0.7040\n",
      "Epoch 32/300\n",
      "107/107 [==============================] - 5s 42ms/step - loss: 2.8312 - accuracy: 0.5864 - auc: 0.7037\n",
      "Epoch 33/300\n",
      "107/107 [==============================] - 4s 41ms/step - loss: 2.8093 - accuracy: 0.5915 - auc: 0.7080\n",
      "Epoch 34/300\n",
      "107/107 [==============================] - 5s 43ms/step - loss: 2.7776 - accuracy: 0.6036 - auc: 0.7214\n",
      "Epoch 35/300\n",
      "107/107 [==============================] - 4s 41ms/step - loss: 2.7611 - accuracy: 0.6006 - auc: 0.7195\n",
      "Epoch 36/300\n",
      "107/107 [==============================] - 6s 53ms/step - loss: 2.7367 - accuracy: 0.6127 - auc: 0.7278\n",
      "Epoch 37/300\n",
      "107/107 [==============================] - 5s 44ms/step - loss: 2.7083 - accuracy: 0.6070 - auc: 0.7369\n",
      "Epoch 38/300\n",
      "107/107 [==============================] - 5s 46ms/step - loss: 2.7090 - accuracy: 0.5972 - auc: 0.7211\n",
      "Epoch 39/300\n",
      "107/107 [==============================] - 4s 41ms/step - loss: 2.6730 - accuracy: 0.6087 - auc: 0.7329\n",
      "Epoch 40/300\n",
      "107/107 [==============================] - 5s 41ms/step - loss: 2.6437 - accuracy: 0.6170 - auc: 0.7477\n",
      "Epoch 41/300\n",
      "107/107 [==============================] - 6s 54ms/step - loss: 2.6234 - accuracy: 0.6132 - auc: 0.7478\n",
      "Epoch 42/300\n",
      "107/107 [==============================] - 5s 49ms/step - loss: 2.6044 - accuracy: 0.6200 - auc: 0.7488\n",
      "Epoch 43/300\n",
      "107/107 [==============================] - 5s 47ms/step - loss: 2.5732 - accuracy: 0.6254 - auc: 0.7634\n",
      "Epoch 44/300\n",
      "107/107 [==============================] - 5s 50ms/step - loss: 2.5461 - accuracy: 0.6314 - auc: 0.7742\n",
      "Epoch 45/300\n",
      "107/107 [==============================] - 5s 50ms/step - loss: 2.5397 - accuracy: 0.6258 - auc: 0.7625\n",
      "Epoch 46/300\n",
      "107/107 [==============================] - 6s 55ms/step - loss: 2.5063 - accuracy: 0.6292 - auc: 0.7780\n",
      "Epoch 47/300\n",
      "107/107 [==============================] - 6s 58ms/step - loss: 2.4900 - accuracy: 0.6381 - auc: 0.7786\n",
      "Epoch 48/300\n",
      "107/107 [==============================] - 7s 62ms/step - loss: 2.4550 - accuracy: 0.6380 - auc: 0.7924\n",
      "Epoch 49/300\n",
      "107/107 [==============================] - 5s 51ms/step - loss: 2.4340 - accuracy: 0.6475 - auc: 0.7977\n",
      "Epoch 50/300\n",
      "107/107 [==============================] - 6s 57ms/step - loss: 2.4199 - accuracy: 0.6445 - auc: 0.7960\n",
      "Epoch 51/300\n",
      "107/107 [==============================] - 5s 46ms/step - loss: 2.3991 - accuracy: 0.6500 - auc: 0.7991\n",
      "Epoch 52/300\n",
      "107/107 [==============================] - 5s 45ms/step - loss: 2.3657 - accuracy: 0.6528 - auc: 0.8139\n",
      "Epoch 53/300\n",
      "107/107 [==============================] - 5s 43ms/step - loss: 2.3411 - accuracy: 0.6642 - auc: 0.8211\n",
      "Epoch 54/300\n",
      "107/107 [==============================] - 5s 43ms/step - loss: 2.3210 - accuracy: 0.6623 - auc: 0.8245\n",
      "Epoch 55/300\n",
      "107/107 [==============================] - 5s 47ms/step - loss: 2.2908 - accuracy: 0.6699 - auc: 0.8362\n",
      "Epoch 56/300\n",
      "107/107 [==============================] - 7s 65ms/step - loss: 2.2743 - accuracy: 0.6702 - auc: 0.8373\n",
      "Epoch 57/300\n",
      "107/107 [==============================] - 5s 51ms/step - loss: 2.2504 - accuracy: 0.6737 - auc: 0.8425\n",
      "Epoch 58/300\n",
      "107/107 [==============================] - 5s 43ms/step - loss: 2.2318 - accuracy: 0.6834 - auc: 0.8449\n",
      "Epoch 59/300\n",
      "107/107 [==============================] - 5s 49ms/step - loss: 2.2087 - accuracy: 0.6861 - auc: 0.8503\n",
      "Epoch 60/300\n",
      "107/107 [==============================] - 8s 77ms/step - loss: 2.1879 - accuracy: 0.6940 - auc: 0.8562\n",
      "Epoch 61/300\n",
      "107/107 [==============================] - 5s 48ms/step - loss: 2.1680 - accuracy: 0.6905 - auc: 0.8616\n",
      "Epoch 62/300\n",
      "107/107 [==============================] - 5s 45ms/step - loss: 2.1413 - accuracy: 0.6999 - auc: 0.8663\n",
      "Epoch 63/300\n",
      "107/107 [==============================] - 5s 44ms/step - loss: 2.1147 - accuracy: 0.7041 - auc: 0.8737\n",
      "Epoch 64/300\n",
      "107/107 [==============================] - 5s 42ms/step - loss: 2.0996 - accuracy: 0.7095 - auc: 0.8751\n",
      "Epoch 65/300\n",
      "107/107 [==============================] - 5s 42ms/step - loss: 2.0814 - accuracy: 0.7136 - auc: 0.8768\n",
      "Epoch 66/300\n",
      "107/107 [==============================] - 5s 42ms/step - loss: 2.0490 - accuracy: 0.7205 - auc: 0.8867\n",
      "Epoch 67/300\n",
      "107/107 [==============================] - 5s 44ms/step - loss: 2.0325 - accuracy: 0.7247 - auc: 0.8880\n",
      "Epoch 68/300\n",
      "107/107 [==============================] - 4s 41ms/step - loss: 2.0106 - accuracy: 0.7276 - auc: 0.8929\n",
      "Epoch 69/300\n",
      "107/107 [==============================] - 5s 44ms/step - loss: 1.9875 - accuracy: 0.7387 - auc: 0.8982\n",
      "Epoch 70/300\n",
      "107/107 [==============================] - 4s 42ms/step - loss: 1.9657 - accuracy: 0.7412 - auc: 0.9021\n",
      "Epoch 71/300\n",
      "107/107 [==============================] - 5s 42ms/step - loss: 1.9517 - accuracy: 0.7466 - auc: 0.9011\n",
      "Epoch 72/300\n",
      "107/107 [==============================] - 5s 50ms/step - loss: 1.9253 - accuracy: 0.7493 - auc: 0.9089\n",
      "Epoch 73/300\n",
      "107/107 [==============================] - 5s 47ms/step - loss: 1.9043 - accuracy: 0.7582 - auc: 0.9110\n",
      "Epoch 74/300\n",
      "107/107 [==============================] - 5s 47ms/step - loss: 1.8816 - accuracy: 0.7627 - auc: 0.9152\n",
      "Epoch 75/300\n",
      "107/107 [==============================] - 5s 44ms/step - loss: 1.8648 - accuracy: 0.7662 - auc: 0.9169\n",
      "Epoch 76/300\n",
      "107/107 [==============================] - 7s 64ms/step - loss: 1.8502 - accuracy: 0.7718 - auc: 0.9168\n",
      "Epoch 77/300\n",
      "107/107 [==============================] - 5s 46ms/step - loss: 1.8231 - accuracy: 0.7741 - auc: 0.9242\n",
      "Epoch 78/300\n",
      "107/107 [==============================] - 5s 49ms/step - loss: 1.8021 - accuracy: 0.7788 - auc: 0.9284\n",
      "Epoch 79/300\n",
      "107/107 [==============================] - 5s 45ms/step - loss: 1.7860 - accuracy: 0.7818 - auc: 0.9271\n",
      "Epoch 80/300\n",
      "107/107 [==============================] - 5s 45ms/step - loss: 1.7646 - accuracy: 0.7937 - auc: 0.9317\n",
      "Epoch 81/300\n",
      "107/107 [==============================] - 5s 49ms/step - loss: 1.7464 - accuracy: 0.7959 - auc: 0.9337\n",
      "Epoch 82/300\n",
      "107/107 [==============================] - 5s 45ms/step - loss: 1.7235 - accuracy: 0.7991 - auc: 0.9384\n",
      "Epoch 83/300\n",
      "107/107 [==============================] - 5s 45ms/step - loss: 1.7069 - accuracy: 0.8075 - auc: 0.9399\n",
      "Epoch 84/300\n",
      "107/107 [==============================] - 6s 52ms/step - loss: 1.6886 - accuracy: 0.8080 - auc: 0.9414\n",
      "Epoch 85/300\n",
      "107/107 [==============================] - 5s 48ms/step - loss: 1.6662 - accuracy: 0.8149 - auc: 0.9456\n",
      "Epoch 86/300\n",
      "107/107 [==============================] - 6s 60ms/step - loss: 1.6517 - accuracy: 0.8157 - auc: 0.9468\n",
      "Epoch 87/300\n",
      "107/107 [==============================] - 6s 55ms/step - loss: 1.6343 - accuracy: 0.8261 - auc: 0.9470\n",
      "Epoch 88/300\n",
      "107/107 [==============================] - 5s 45ms/step - loss: 1.6178 - accuracy: 0.8272 - auc: 0.9491\n",
      "Epoch 89/300\n",
      "107/107 [==============================] - 5s 44ms/step - loss: 1.6018 - accuracy: 0.8276 - auc: 0.9498\n",
      "Epoch 90/300\n",
      "107/107 [==============================] - 5s 47ms/step - loss: 1.5832 - accuracy: 0.8357 - auc: 0.9518\n",
      "Epoch 91/300\n",
      "107/107 [==============================] - 5s 44ms/step - loss: 1.5704 - accuracy: 0.8355 - auc: 0.9530\n",
      "Epoch 92/300\n",
      "107/107 [==============================] - 5s 45ms/step - loss: 1.5531 - accuracy: 0.8402 - auc: 0.9535\n",
      "Epoch 93/300\n",
      "107/107 [==============================] - 5s 45ms/step - loss: 1.5299 - accuracy: 0.8462 - auc: 0.9582\n",
      "Epoch 94/300\n",
      "107/107 [==============================] - 5s 45ms/step - loss: 1.5171 - accuracy: 0.8478 - auc: 0.9589\n",
      "Epoch 95/300\n",
      "107/107 [==============================] - 7s 62ms/step - loss: 1.4940 - accuracy: 0.8586 - auc: 0.9626\n",
      "Epoch 96/300\n",
      "107/107 [==============================] - 5s 43ms/step - loss: 1.4869 - accuracy: 0.8542 - auc: 0.9608\n",
      "Epoch 97/300\n",
      "107/107 [==============================] - 5s 43ms/step - loss: 1.4649 - accuracy: 0.8652 - auc: 0.9647\n",
      "Epoch 98/300\n",
      "107/107 [==============================] - 5s 47ms/step - loss: 1.4513 - accuracy: 0.8605 - auc: 0.9654\n",
      "Epoch 99/300\n",
      "107/107 [==============================] - 6s 55ms/step - loss: 1.4417 - accuracy: 0.8659 - auc: 0.9641\n",
      "Epoch 100/300\n",
      "107/107 [==============================] - 6s 59ms/step - loss: 1.4211 - accuracy: 0.8706 - auc: 0.9676\n",
      "Epoch 101/300\n",
      "107/107 [==============================] - 5s 51ms/step - loss: 1.4062 - accuracy: 0.8764 - auc: 0.9691\n",
      "Epoch 102/300\n",
      "107/107 [==============================] - 5s 46ms/step - loss: 1.3937 - accuracy: 0.8727 - auc: 0.9692\n",
      "Epoch 103/300\n",
      "107/107 [==============================] - 6s 57ms/step - loss: 1.3786 - accuracy: 0.8816 - auc: 0.9711\n",
      "Epoch 104/300\n",
      "107/107 [==============================] - 5s 46ms/step - loss: 1.3629 - accuracy: 0.8852 - auc: 0.9721\n",
      "Epoch 105/300\n",
      "107/107 [==============================] - 5s 46ms/step - loss: 1.3460 - accuracy: 0.8864 - auc: 0.9751\n",
      "Epoch 106/300\n",
      "107/107 [==============================] - 5s 47ms/step - loss: 1.3364 - accuracy: 0.8898 - auc: 0.9745\n",
      "Epoch 107/300\n",
      "107/107 [==============================] - 5s 44ms/step - loss: 1.3263 - accuracy: 0.8930 - auc: 0.9739\n",
      "Epoch 108/300\n",
      "107/107 [==============================] - 5s 48ms/step - loss: 1.3070 - accuracy: 0.8958 - auc: 0.9760\n",
      "Epoch 109/300\n",
      "107/107 [==============================] - 5s 49ms/step - loss: 1.2948 - accuracy: 0.8989 - auc: 0.9772\n",
      "Epoch 110/300\n",
      "107/107 [==============================] - 5s 44ms/step - loss: 1.2845 - accuracy: 0.9008 - auc: 0.9776\n",
      "Epoch 111/300\n",
      "107/107 [==============================] - 5s 46ms/step - loss: 1.2693 - accuracy: 0.9023 - auc: 0.9794\n",
      "Epoch 112/300\n",
      "107/107 [==============================] - 5s 48ms/step - loss: 1.2649 - accuracy: 0.9023 - auc: 0.9767\n",
      "Epoch 113/300\n",
      "107/107 [==============================] - 6s 57ms/step - loss: 1.2524 - accuracy: 0.9089 - auc: 0.9776\n",
      "Epoch 114/300\n",
      "107/107 [==============================] - 6s 58ms/step - loss: 1.2411 - accuracy: 0.9092 - auc: 0.9778\n",
      "Epoch 115/300\n",
      "107/107 [==============================] - 5s 49ms/step - loss: 1.2309 - accuracy: 0.9115 - auc: 0.9783\n",
      "Epoch 116/300\n",
      "107/107 [==============================] - 5s 44ms/step - loss: 1.2141 - accuracy: 0.9111 - auc: 0.9805\n",
      "Epoch 117/300\n",
      "107/107 [==============================] - 5s 43ms/step - loss: 1.2025 - accuracy: 0.9186 - auc: 0.9815\n",
      "Epoch 118/300\n",
      "107/107 [==============================] - 6s 53ms/step - loss: 1.1901 - accuracy: 0.9147 - auc: 0.9827\n",
      "Epoch 119/300\n",
      "107/107 [==============================] - 5s 46ms/step - loss: 1.1762 - accuracy: 0.9224 - auc: 0.9838\n",
      "Epoch 120/300\n",
      "107/107 [==============================] - 5s 50ms/step - loss: 1.1717 - accuracy: 0.9190 - auc: 0.9827\n",
      "Epoch 121/300\n",
      "107/107 [==============================] - 6s 51ms/step - loss: 1.1567 - accuracy: 0.9229 - auc: 0.9841\n",
      "Epoch 122/300\n",
      "107/107 [==============================] - 5s 43ms/step - loss: 1.1451 - accuracy: 0.9203 - auc: 0.9853\n",
      "Epoch 123/300\n",
      "107/107 [==============================] - 5s 48ms/step - loss: 1.1423 - accuracy: 0.9242 - auc: 0.9830\n",
      "Epoch 124/300\n",
      "107/107 [==============================] - 5s 50ms/step - loss: 1.1233 - accuracy: 0.9270 - auc: 0.9860\n",
      "Epoch 125/300\n",
      "107/107 [==============================] - 5s 45ms/step - loss: 1.1143 - accuracy: 0.9288 - auc: 0.9857\n",
      "Epoch 126/300\n",
      "107/107 [==============================] - 5s 49ms/step - loss: 1.1028 - accuracy: 0.9299 - auc: 0.9868\n",
      "Epoch 127/300\n",
      "107/107 [==============================] - 5s 47ms/step - loss: 1.0961 - accuracy: 0.9327 - auc: 0.9864\n",
      "Epoch 128/300\n",
      "107/107 [==============================] - 5s 45ms/step - loss: 1.0840 - accuracy: 0.9347 - auc: 0.9872\n",
      "Epoch 129/300\n",
      "107/107 [==============================] - 5s 47ms/step - loss: 1.0747 - accuracy: 0.9345 - auc: 0.9876\n",
      "Epoch 130/300\n",
      "107/107 [==============================] - 5s 50ms/step - loss: 1.0659 - accuracy: 0.9375 - auc: 0.9875\n",
      "Epoch 131/300\n",
      "107/107 [==============================] - 5s 43ms/step - loss: 1.0585 - accuracy: 0.9381 - auc: 0.9871\n",
      "Epoch 132/300\n",
      "107/107 [==============================] - 5s 44ms/step - loss: 1.0455 - accuracy: 0.9352 - auc: 0.9890\n",
      "Epoch 133/300\n",
      "107/107 [==============================] - 4s 42ms/step - loss: 1.0375 - accuracy: 0.9396 - auc: 0.9891\n",
      "Epoch 134/300\n",
      "107/107 [==============================] - 5s 51ms/step - loss: 1.0285 - accuracy: 0.9404 - auc: 0.9893\n",
      "Epoch 135/300\n",
      "107/107 [==============================] - 5s 46ms/step - loss: 1.0161 - accuracy: 0.9429 - auc: 0.9905\n",
      "Epoch 136/300\n",
      "107/107 [==============================] - 5s 49ms/step - loss: 1.0129 - accuracy: 0.9429 - auc: 0.9895\n",
      "Epoch 137/300\n",
      "107/107 [==============================] - 7s 61ms/step - loss: 1.0010 - accuracy: 0.9439 - auc: 0.9902\n",
      "Epoch 138/300\n",
      "107/107 [==============================] - 6s 55ms/step - loss: 0.9900 - accuracy: 0.9453 - auc: 0.9909\n",
      "Epoch 139/300\n",
      "107/107 [==============================] - 6s 57ms/step - loss: 0.9875 - accuracy: 0.9405 - auc: 0.9900\n",
      "Epoch 140/300\n",
      "107/107 [==============================] - 6s 57ms/step - loss: 0.9774 - accuracy: 0.9467 - auc: 0.9908\n",
      "Epoch 141/300\n",
      "107/107 [==============================] - 5s 47ms/step - loss: 0.9685 - accuracy: 0.9485 - auc: 0.9910\n",
      "Epoch 142/300\n",
      "107/107 [==============================] - 6s 53ms/step - loss: 0.9583 - accuracy: 0.9491 - auc: 0.9914\n",
      "Epoch 143/300\n",
      "107/107 [==============================] - 5s 49ms/step - loss: 0.9506 - accuracy: 0.9501 - auc: 0.9916\n",
      "Epoch 144/300\n",
      "107/107 [==============================] - 5s 48ms/step - loss: 0.9466 - accuracy: 0.9478 - auc: 0.9914\n",
      "Epoch 145/300\n",
      "107/107 [==============================] - 6s 60ms/step - loss: 0.9414 - accuracy: 0.9481 - auc: 0.9913\n",
      "Epoch 146/300\n",
      "107/107 [==============================] - 5s 48ms/step - loss: 0.9294 - accuracy: 0.9508 - auc: 0.9923\n",
      "Epoch 147/300\n",
      "107/107 [==============================] - 5s 47ms/step - loss: 0.9226 - accuracy: 0.9513 - auc: 0.9925\n",
      "Epoch 148/300\n",
      "107/107 [==============================] - 5s 48ms/step - loss: 0.9150 - accuracy: 0.9528 - auc: 0.9923\n",
      "Epoch 149/300\n",
      "107/107 [==============================] - 5s 47ms/step - loss: 0.9072 - accuracy: 0.9503 - auc: 0.9928\n",
      "Epoch 150/300\n",
      "107/107 [==============================] - 5s 47ms/step - loss: 0.9014 - accuracy: 0.9537 - auc: 0.9926\n",
      "Epoch 151/300\n",
      "107/107 [==============================] - 5s 48ms/step - loss: 0.8945 - accuracy: 0.9545 - auc: 0.9929\n",
      "Epoch 152/300\n",
      "107/107 [==============================] - 5s 50ms/step - loss: 0.8804 - accuracy: 0.9581 - auc: 0.9942\n",
      "Epoch 153/300\n",
      "107/107 [==============================] - 5s 48ms/step - loss: 0.8752 - accuracy: 0.9599 - auc: 0.9939\n",
      "Epoch 154/300\n",
      "107/107 [==============================] - 6s 59ms/step - loss: 0.8736 - accuracy: 0.9572 - auc: 0.9930\n",
      "Epoch 155/300\n",
      "107/107 [==============================] - 6s 56ms/step - loss: 0.8654 - accuracy: 0.9566 - auc: 0.9936\n",
      "Epoch 156/300\n",
      "107/107 [==============================] - 6s 55ms/step - loss: 0.8583 - accuracy: 0.9613 - auc: 0.9937\n",
      "Epoch 157/300\n",
      "107/107 [==============================] - 6s 61ms/step - loss: 0.8477 - accuracy: 0.9601 - auc: 0.9948\n",
      "Epoch 158/300\n",
      "107/107 [==============================] - 7s 63ms/step - loss: 0.8485 - accuracy: 0.9576 - auc: 0.9932\n",
      "Epoch 159/300\n",
      "107/107 [==============================] - 5s 49ms/step - loss: 0.8414 - accuracy: 0.9598 - auc: 0.9936\n",
      "Epoch 160/300\n",
      "107/107 [==============================] - 5s 50ms/step - loss: 0.8355 - accuracy: 0.9599 - auc: 0.9936\n",
      "Epoch 161/300\n",
      "107/107 [==============================] - 5s 46ms/step - loss: 0.8195 - accuracy: 0.9645 - auc: 0.9957\n",
      "Epoch 162/300\n",
      "107/107 [==============================] - 5s 43ms/step - loss: 0.8197 - accuracy: 0.9615 - auc: 0.9944\n",
      "Epoch 163/300\n",
      "107/107 [==============================] - 5s 46ms/step - loss: 0.8157 - accuracy: 0.9658 - auc: 0.9945\n",
      "Epoch 164/300\n",
      "107/107 [==============================] - 5s 45ms/step - loss: 0.8112 - accuracy: 0.9623 - auc: 0.9944\n",
      "Epoch 165/300\n",
      "107/107 [==============================] - 5s 45ms/step - loss: 0.8020 - accuracy: 0.9647 - auc: 0.9947\n",
      "Epoch 166/300\n",
      "107/107 [==============================] - 5s 45ms/step - loss: 0.7948 - accuracy: 0.9676 - auc: 0.9949\n",
      "Epoch 167/300\n",
      "107/107 [==============================] - 5s 45ms/step - loss: 0.7859 - accuracy: 0.9673 - auc: 0.9959\n",
      "Epoch 168/300\n",
      "107/107 [==============================] - 5s 44ms/step - loss: 0.7858 - accuracy: 0.9664 - auc: 0.9953\n",
      "Epoch 169/300\n",
      "107/107 [==============================] - 5s 45ms/step - loss: 0.7837 - accuracy: 0.9642 - auc: 0.9950\n",
      "Epoch 170/300\n",
      "107/107 [==============================] - 5s 46ms/step - loss: 0.7728 - accuracy: 0.9687 - auc: 0.9958\n",
      "Epoch 171/300\n",
      "107/107 [==============================] - 5s 43ms/step - loss: 0.7668 - accuracy: 0.9693 - auc: 0.9958\n",
      "Epoch 172/300\n",
      "107/107 [==============================] - 5s 46ms/step - loss: 0.7677 - accuracy: 0.9673 - auc: 0.9954\n",
      "Epoch 173/300\n",
      "107/107 [==============================] - 5s 43ms/step - loss: 0.7555 - accuracy: 0.9695 - auc: 0.9961\n",
      "Epoch 174/300\n",
      "107/107 [==============================] - 5s 45ms/step - loss: 0.7534 - accuracy: 0.9695 - auc: 0.9954\n",
      "Epoch 175/300\n",
      "107/107 [==============================] - 5s 46ms/step - loss: 0.7520 - accuracy: 0.9689 - auc: 0.9952\n",
      "Epoch 176/300\n",
      "107/107 [==============================] - 5s 43ms/step - loss: 0.7429 - accuracy: 0.9710 - auc: 0.9958\n",
      "Epoch 177/300\n",
      "107/107 [==============================] - 5s 45ms/step - loss: 0.7421 - accuracy: 0.9714 - auc: 0.9952\n",
      "Epoch 178/300\n",
      "107/107 [==============================] - 5s 45ms/step - loss: 0.7289 - accuracy: 0.9731 - auc: 0.9966\n",
      "Epoch 179/300\n",
      "107/107 [==============================] - 5s 45ms/step - loss: 0.7260 - accuracy: 0.9730 - auc: 0.9962\n",
      "Epoch 180/300\n",
      "107/107 [==============================] - 5s 43ms/step - loss: 0.7192 - accuracy: 0.9736 - auc: 0.9966\n",
      "Epoch 181/300\n",
      "107/107 [==============================] - 6s 55ms/step - loss: 0.7172 - accuracy: 0.9722 - auc: 0.9966\n",
      "Epoch 182/300\n",
      "107/107 [==============================] - 5s 47ms/step - loss: 0.7087 - accuracy: 0.9760 - auc: 0.9972\n",
      "Epoch 183/300\n",
      "107/107 [==============================] - 5s 42ms/step - loss: 0.7060 - accuracy: 0.9767 - auc: 0.9969\n",
      "Epoch 184/300\n",
      "107/107 [==============================] - 5s 44ms/step - loss: 0.7032 - accuracy: 0.9742 - auc: 0.9967\n",
      "Epoch 185/300\n",
      "107/107 [==============================] - 5s 44ms/step - loss: 0.6986 - accuracy: 0.9755 - auc: 0.9967\n",
      "Epoch 186/300\n",
      "107/107 [==============================] - 5s 43ms/step - loss: 0.6932 - accuracy: 0.9752 - auc: 0.9971\n",
      "Epoch 187/300\n",
      "107/107 [==============================] - 5s 44ms/step - loss: 0.6893 - accuracy: 0.9758 - auc: 0.9968\n",
      "Epoch 188/300\n",
      "107/107 [==============================] - 5s 45ms/step - loss: 0.6829 - accuracy: 0.9761 - auc: 0.9972\n",
      "Epoch 189/300\n",
      "107/107 [==============================] - 6s 57ms/step - loss: 0.6760 - accuracy: 0.9774 - auc: 0.9974\n",
      "Epoch 190/300\n",
      "107/107 [==============================] - 5s 43ms/step - loss: 0.6788 - accuracy: 0.9756 - auc: 0.9966\n",
      "Epoch 191/300\n",
      "107/107 [==============================] - 5s 45ms/step - loss: 0.6758 - accuracy: 0.9761 - auc: 0.9964\n",
      "Epoch 192/300\n",
      "107/107 [==============================] - 5s 44ms/step - loss: 0.6685 - accuracy: 0.9763 - auc: 0.9973\n",
      "Epoch 193/300\n",
      "107/107 [==============================] - 5s 45ms/step - loss: 0.6609 - accuracy: 0.9776 - auc: 0.9977\n",
      "Epoch 194/300\n",
      "107/107 [==============================] - 7s 62ms/step - loss: 0.6592 - accuracy: 0.9785 - auc: 0.9975\n",
      "Epoch 195/300\n",
      "107/107 [==============================] - 8s 74ms/step - loss: 0.6559 - accuracy: 0.9780 - auc: 0.9974\n",
      "Epoch 196/300\n",
      "107/107 [==============================] - 6s 55ms/step - loss: 0.6495 - accuracy: 0.9779 - auc: 0.9973\n",
      "Epoch 197/300\n",
      "107/107 [==============================] - 6s 55ms/step - loss: 0.6514 - accuracy: 0.9778 - auc: 0.9967\n",
      "Epoch 198/300\n",
      "107/107 [==============================] - 7s 61ms/step - loss: 0.6440 - accuracy: 0.9777 - auc: 0.9978\n",
      "Epoch 199/300\n",
      "107/107 [==============================] - 6s 58ms/step - loss: 0.6437 - accuracy: 0.9784 - auc: 0.9973\n",
      "Epoch 200/300\n",
      "107/107 [==============================] - 8s 72ms/step - loss: 0.6364 - accuracy: 0.9792 - auc: 0.9974\n",
      "Epoch 201/300\n",
      "107/107 [==============================] - 12s 114ms/step - loss: 0.6318 - accuracy: 0.9799 - auc: 0.9978\n",
      "Epoch 202/300\n",
      "107/107 [==============================] - 13s 117ms/step - loss: 0.6312 - accuracy: 0.9803 - auc: 0.9972\n",
      "Epoch 203/300\n",
      "107/107 [==============================] - 12s 114ms/step - loss: 0.6249 - accuracy: 0.9807 - auc: 0.9976\n",
      "Epoch 204/300\n",
      "107/107 [==============================] - 15s 138ms/step - loss: 0.6222 - accuracy: 0.9805 - auc: 0.9975\n",
      "Epoch 205/300\n",
      "107/107 [==============================] - 11s 102ms/step - loss: 0.6250 - accuracy: 0.9786 - auc: 0.9970\n",
      "Epoch 206/300\n",
      "107/107 [==============================] - 11s 106ms/step - loss: 0.6173 - accuracy: 0.9797 - auc: 0.9977\n",
      "Epoch 207/300\n",
      "107/107 [==============================] - 12s 110ms/step - loss: 0.6142 - accuracy: 0.9796 - auc: 0.9975\n",
      "Epoch 208/300\n",
      "107/107 [==============================] - 11s 105ms/step - loss: 0.6082 - accuracy: 0.9828 - auc: 0.9977\n",
      "Epoch 209/300\n",
      "107/107 [==============================] - 11s 101ms/step - loss: 0.6021 - accuracy: 0.9819 - auc: 0.9982\n",
      "Epoch 210/300\n",
      "107/107 [==============================] - 10s 95ms/step - loss: 0.6031 - accuracy: 0.9810 - auc: 0.9979\n",
      "Epoch 211/300\n",
      "107/107 [==============================] - 9s 87ms/step - loss: 0.5970 - accuracy: 0.9816 - auc: 0.9982\n",
      "Epoch 212/300\n",
      "107/107 [==============================] - 10s 93ms/step - loss: 0.5949 - accuracy: 0.9819 - auc: 0.9979\n",
      "Epoch 213/300\n",
      "107/107 [==============================] - 10s 94ms/step - loss: 0.5948 - accuracy: 0.9812 - auc: 0.9978\n",
      "Epoch 214/300\n",
      "107/107 [==============================] - 10s 94ms/step - loss: 0.5905 - accuracy: 0.9822 - auc: 0.9977\n",
      "Epoch 215/300\n",
      "107/107 [==============================] - 10s 90ms/step - loss: 0.5899 - accuracy: 0.9811 - auc: 0.9976\n",
      "Epoch 216/300\n",
      "107/107 [==============================] - 12s 110ms/step - loss: 0.5856 - accuracy: 0.9805 - auc: 0.9980\n",
      "Epoch 217/300\n",
      "107/107 [==============================] - 14s 127ms/step - loss: 0.5794 - accuracy: 0.9831 - auc: 0.9980\n",
      "Epoch 218/300\n",
      "107/107 [==============================] - 12s 113ms/step - loss: 0.5796 - accuracy: 0.9812 - auc: 0.9980\n",
      "Epoch 219/300\n",
      "107/107 [==============================] - 11s 100ms/step - loss: 0.5796 - accuracy: 0.9819 - auc: 0.9977\n",
      "Epoch 220/300\n",
      "107/107 [==============================] - 9s 86ms/step - loss: 0.5684 - accuracy: 0.9835 - auc: 0.9982\n",
      "Epoch 221/300\n",
      "107/107 [==============================] - 9s 88ms/step - loss: 0.5668 - accuracy: 0.9852 - auc: 0.9982\n",
      "Epoch 222/300\n",
      "107/107 [==============================] - 10s 92ms/step - loss: 0.5673 - accuracy: 0.9849 - auc: 0.9980\n",
      "Epoch 223/300\n",
      "107/107 [==============================] - 13s 122ms/step - loss: 0.5576 - accuracy: 0.9853 - auc: 0.9985\n",
      "Epoch 224/300\n",
      "107/107 [==============================] - 11s 99ms/step - loss: 0.5575 - accuracy: 0.9860 - auc: 0.9983\n",
      "Epoch 225/300\n",
      "107/107 [==============================] - 12s 110ms/step - loss: 0.5488 - accuracy: 0.9867 - auc: 0.9991\n",
      "Epoch 226/300\n",
      "107/107 [==============================] - 8s 71ms/step - loss: 0.5481 - accuracy: 0.9868 - auc: 0.9987\n",
      "Epoch 227/300\n",
      "107/107 [==============================] - 4s 40ms/step - loss: 0.5522 - accuracy: 0.9835 - auc: 0.9983\n",
      "Epoch 228/300\n",
      "107/107 [==============================] - 5s 43ms/step - loss: 0.5426 - accuracy: 0.9866 - auc: 0.9988\n",
      "Epoch 229/300\n",
      "107/107 [==============================] - 4s 42ms/step - loss: 0.5527 - accuracy: 0.9825 - auc: 0.9976\n",
      "Epoch 230/300\n",
      "107/107 [==============================] - 5s 46ms/step - loss: 0.5456 - accuracy: 0.9838 - auc: 0.9983\n",
      "Epoch 231/300\n",
      "107/107 [==============================] - 5s 43ms/step - loss: 0.5376 - accuracy: 0.9859 - auc: 0.9987\n",
      "Epoch 232/300\n",
      "107/107 [==============================] - 5s 45ms/step - loss: 0.5355 - accuracy: 0.9863 - auc: 0.9987\n",
      "Epoch 233/300\n",
      "107/107 [==============================] - 5s 45ms/step - loss: 0.5330 - accuracy: 0.9859 - auc: 0.9986\n",
      "Epoch 234/300\n",
      "107/107 [==============================] - 5s 48ms/step - loss: 0.5322 - accuracy: 0.9836 - auc: 0.9986\n",
      "Epoch 235/300\n",
      "107/107 [==============================] - 5s 47ms/step - loss: 0.5288 - accuracy: 0.9850 - auc: 0.9985\n",
      "Epoch 236/300\n",
      "107/107 [==============================] - 5s 44ms/step - loss: 0.5318 - accuracy: 0.9856 - auc: 0.9982\n",
      "Epoch 237/300\n",
      "107/107 [==============================] - 5s 44ms/step - loss: 0.5272 - accuracy: 0.9849 - auc: 0.9986\n",
      "Epoch 238/300\n",
      "107/107 [==============================] - 5s 44ms/step - loss: 0.5168 - accuracy: 0.9880 - auc: 0.9988\n",
      "Epoch 239/300\n",
      "107/107 [==============================] - 5s 45ms/step - loss: 0.5235 - accuracy: 0.9857 - auc: 0.9983\n",
      "Epoch 240/300\n",
      "107/107 [==============================] - 5s 46ms/step - loss: 0.5169 - accuracy: 0.9862 - auc: 0.9986\n",
      "Epoch 241/300\n",
      "107/107 [==============================] - 5s 45ms/step - loss: 0.5187 - accuracy: 0.9864 - auc: 0.9981\n",
      "Epoch 242/300\n",
      "107/107 [==============================] - 5s 48ms/step - loss: 0.5149 - accuracy: 0.9850 - auc: 0.9987\n",
      "Epoch 243/300\n",
      "107/107 [==============================] - 5s 50ms/step - loss: 0.5144 - accuracy: 0.9863 - auc: 0.9984\n",
      "Epoch 244/300\n",
      "107/107 [==============================] - 4s 42ms/step - loss: 0.5081 - accuracy: 0.9888 - auc: 0.9984\n",
      "Epoch 245/300\n",
      "107/107 [==============================] - 5s 43ms/step - loss: 0.5038 - accuracy: 0.9890 - auc: 0.9988\n",
      "Epoch 246/300\n",
      "107/107 [==============================] - 5s 48ms/step - loss: 0.5013 - accuracy: 0.9893 - auc: 0.9989\n",
      "Epoch 247/300\n",
      "107/107 [==============================] - 5s 44ms/step - loss: 0.4969 - accuracy: 0.9897 - auc: 0.9990\n",
      "Epoch 248/300\n",
      "107/107 [==============================] - 5s 49ms/step - loss: 0.4979 - accuracy: 0.9887 - auc: 0.9986\n",
      "Epoch 249/300\n",
      "107/107 [==============================] - 5s 44ms/step - loss: 0.5031 - accuracy: 0.9867 - auc: 0.9985\n",
      "Epoch 250/300\n",
      "107/107 [==============================] - 5s 42ms/step - loss: 0.4987 - accuracy: 0.9879 - auc: 0.9984\n",
      "Epoch 251/300\n",
      "107/107 [==============================] - 5s 43ms/step - loss: 0.4956 - accuracy: 0.9872 - auc: 0.9989\n",
      "Epoch 252/300\n",
      "107/107 [==============================] - 4s 42ms/step - loss: 0.4910 - accuracy: 0.9882 - auc: 0.9990\n",
      "Epoch 253/300\n",
      "107/107 [==============================] - 5s 43ms/step - loss: 0.4901 - accuracy: 0.9859 - auc: 0.9989\n",
      "Epoch 254/300\n",
      "107/107 [==============================] - 5s 44ms/step - loss: 0.4927 - accuracy: 0.9868 - auc: 0.9987\n",
      "Epoch 255/300\n",
      "107/107 [==============================] - 5s 43ms/step - loss: 0.4859 - accuracy: 0.9880 - auc: 0.9989\n",
      "Epoch 256/300\n",
      "107/107 [==============================] - 4s 40ms/step - loss: 0.4846 - accuracy: 0.9884 - auc: 0.9987\n",
      "Epoch 257/300\n",
      "107/107 [==============================] - 4s 41ms/step - loss: 0.4801 - accuracy: 0.9887 - auc: 0.9992\n",
      "Epoch 258/300\n",
      "107/107 [==============================] - 4s 41ms/step - loss: 0.4807 - accuracy: 0.9887 - auc: 0.9988\n",
      "Epoch 259/300\n",
      "107/107 [==============================] - 4s 41ms/step - loss: 0.4776 - accuracy: 0.9880 - auc: 0.9989\n",
      "Epoch 260/300\n",
      "107/107 [==============================] - 4s 41ms/step - loss: 0.4743 - accuracy: 0.9896 - auc: 0.9990\n",
      "Epoch 261/300\n",
      "107/107 [==============================] - 5s 42ms/step - loss: 0.4750 - accuracy: 0.9883 - auc: 0.9989\n",
      "Epoch 262/300\n",
      "107/107 [==============================] - 5s 44ms/step - loss: 0.4725 - accuracy: 0.9901 - auc: 0.9990\n",
      "Epoch 263/300\n",
      "107/107 [==============================] - 5s 43ms/step - loss: 0.4747 - accuracy: 0.9870 - auc: 0.9987\n",
      "Epoch 264/300\n",
      "107/107 [==============================] - 5s 45ms/step - loss: 0.4691 - accuracy: 0.9890 - auc: 0.9989\n",
      "Epoch 265/300\n",
      "107/107 [==============================] - 5s 43ms/step - loss: 0.4684 - accuracy: 0.9890 - auc: 0.9989\n",
      "Epoch 266/300\n",
      "107/107 [==============================] - 5s 43ms/step - loss: 0.4648 - accuracy: 0.9887 - auc: 0.9989\n",
      "Epoch 267/300\n",
      "107/107 [==============================] - 4s 41ms/step - loss: 0.4609 - accuracy: 0.9900 - auc: 0.9993\n",
      "Epoch 268/300\n",
      "107/107 [==============================] - 4s 41ms/step - loss: 0.4670 - accuracy: 0.9886 - auc: 0.9986\n",
      "Epoch 269/300\n",
      "107/107 [==============================] - 5s 44ms/step - loss: 0.4638 - accuracy: 0.9886 - auc: 0.9986\n",
      "Epoch 270/300\n",
      "107/107 [==============================] - 5s 44ms/step - loss: 0.4535 - accuracy: 0.9901 - auc: 0.9995\n",
      "Epoch 271/300\n",
      "107/107 [==============================] - 5s 44ms/step - loss: 0.4569 - accuracy: 0.9894 - auc: 0.9992\n",
      "Epoch 272/300\n",
      "107/107 [==============================] - 4s 41ms/step - loss: 0.4519 - accuracy: 0.9923 - auc: 0.9992\n",
      "Epoch 273/300\n",
      "107/107 [==============================] - 4s 42ms/step - loss: 0.4532 - accuracy: 0.9900 - auc: 0.9992\n",
      "Epoch 274/300\n",
      "107/107 [==============================] - 4s 42ms/step - loss: 0.4532 - accuracy: 0.9898 - auc: 0.9989\n",
      "Epoch 275/300\n",
      "107/107 [==============================] - 4s 40ms/step - loss: 0.4494 - accuracy: 0.9900 - auc: 0.9989\n",
      "Epoch 276/300\n",
      "107/107 [==============================] - 5s 43ms/step - loss: 0.4474 - accuracy: 0.9917 - auc: 0.9990\n",
      "Epoch 277/300\n",
      "107/107 [==============================] - 4s 42ms/step - loss: 0.4472 - accuracy: 0.9895 - auc: 0.9991\n",
      "Epoch 278/300\n",
      "107/107 [==============================] - 5s 42ms/step - loss: 0.4448 - accuracy: 0.9905 - auc: 0.9992\n",
      "Epoch 279/300\n",
      "107/107 [==============================] - 4s 41ms/step - loss: 0.4468 - accuracy: 0.9899 - auc: 0.9990\n",
      "Epoch 280/300\n",
      "107/107 [==============================] - 4s 41ms/step - loss: 0.4447 - accuracy: 0.9897 - auc: 0.9989\n",
      "Epoch 281/300\n",
      "107/107 [==============================] - 4s 41ms/step - loss: 0.4366 - accuracy: 0.9925 - auc: 0.9993\n",
      "Epoch 282/300\n",
      "107/107 [==============================] - 4s 41ms/step - loss: 0.4393 - accuracy: 0.9896 - auc: 0.9993\n",
      "Epoch 283/300\n",
      "107/107 [==============================] - 4s 41ms/step - loss: 0.4364 - accuracy: 0.9915 - auc: 0.9992\n",
      "Epoch 284/300\n",
      "107/107 [==============================] - 4s 40ms/step - loss: 0.4360 - accuracy: 0.9913 - auc: 0.9992\n",
      "Epoch 285/300\n",
      "107/107 [==============================] - 4s 41ms/step - loss: 0.4360 - accuracy: 0.9895 - auc: 0.9991\n",
      "Epoch 286/300\n",
      "107/107 [==============================] - 4s 41ms/step - loss: 0.4325 - accuracy: 0.9901 - auc: 0.9993\n",
      "Epoch 287/300\n",
      "107/107 [==============================] - 4s 40ms/step - loss: 0.4314 - accuracy: 0.9904 - auc: 0.9992\n",
      "Epoch 288/300\n",
      "107/107 [==============================] - 4s 41ms/step - loss: 0.4293 - accuracy: 0.9914 - auc: 0.9993\n",
      "Epoch 289/300\n",
      "107/107 [==============================] - 4s 42ms/step - loss: 0.4253 - accuracy: 0.9930 - auc: 0.9995\n",
      "Epoch 290/300\n",
      "107/107 [==============================] - 5s 45ms/step - loss: 0.4284 - accuracy: 0.9898 - auc: 0.9992\n",
      "Epoch 291/300\n",
      "107/107 [==============================] - 4s 42ms/step - loss: 0.4227 - accuracy: 0.9921 - auc: 0.9995\n",
      "Epoch 292/300\n",
      "107/107 [==============================] - 4s 42ms/step - loss: 0.4242 - accuracy: 0.9908 - auc: 0.9992\n",
      "Epoch 293/300\n",
      "107/107 [==============================] - 4s 41ms/step - loss: 0.4240 - accuracy: 0.9911 - auc: 0.9991\n",
      "Epoch 294/300\n",
      "107/107 [==============================] - 4s 41ms/step - loss: 0.4172 - accuracy: 0.9922 - auc: 0.9996\n",
      "Epoch 295/300\n",
      "107/107 [==============================] - 4s 40ms/step - loss: 0.4178 - accuracy: 0.9920 - auc: 0.9995\n",
      "Epoch 296/300\n",
      "107/107 [==============================] - 4s 42ms/step - loss: 0.4246 - accuracy: 0.9892 - auc: 0.9989\n",
      "Epoch 297/300\n",
      "107/107 [==============================] - 5s 49ms/step - loss: 0.4161 - accuracy: 0.9921 - auc: 0.9994\n",
      "Epoch 298/300\n",
      "107/107 [==============================] - 5s 49ms/step - loss: 0.4195 - accuracy: 0.9902 - auc: 0.9990\n",
      "Epoch 299/300\n",
      "107/107 [==============================] - 5s 47ms/step - loss: 0.4177 - accuracy: 0.9908 - auc: 0.9993\n",
      "Epoch 300/300\n",
      "107/107 [==============================] - 5s 44ms/step - loss: 0.4112 - accuracy: 0.9921 - auc: 0.9996\n"
     ]
    }
   ],
   "source": [
    "## look at validation batch ?\n",
    "history = model.fit(X_train,  y_train, \n",
    "                    batch_size=BATCH_SIZE, \n",
    "                    class_weight=class_weight_dict,\n",
    "                    shuffle=True,\n",
    "                    epochs=EPOCHS\n",
    "                    #validation_data= (X_test, y_test),\n",
    "                    #callbacks=callbacks\n",
    "                    )"
   ]
  },
  {
   "cell_type": "code",
   "execution_count": 35,
   "metadata": {},
   "outputs": [
    {
     "data": {
      "image/png": "[encoded data removed]",
      "text/plain": [
       "<Figure size 640x480 with 1 Axes>"
      ]
     },
     "metadata": {},
     "output_type": "display_data"
    }
   ],
   "source": [
    "plots.plot_history_metrics(history)"
   ]
  },
  {
   "cell_type": "code",
   "execution_count": 37,
   "metadata": {},
   "outputs": [
    {
     "name": "stdout",
     "output_type": "stream",
     "text": [
      "84/84 - 2s - loss: 1.4332 - accuracy: 0.8185 - auc: 0.7104 - 2s/epoch - 18ms/step\n",
      "Model accuracy: [1.4332174062728882, 0.8184546232223511, 0.7104361057281494]\n"
     ]
    }
   ],
   "source": [
    "metrics = model.evaluate(X_test, y_test, verbose=2)\n",
    "print(f'Model accuracy: {metrics}')"
   ]
  },
  {
   "cell_type": "code",
   "execution_count": 59,
   "metadata": {},
   "outputs": [
    {
     "name": "stdout",
     "output_type": "stream",
     "text": [
      "334/334 [==============================] - 3s 7ms/step\n"
     ]
    }
   ],
   "source": [
    "y_pred_train = model.predict(X_train)"
   ]
  },
  {
   "cell_type": "code",
   "execution_count": 36,
   "metadata": {},
   "outputs": [
    {
     "name": "stdout",
     "output_type": "stream",
     "text": [
      "84/84 [==============================] - 1s 9ms/step\n"
     ]
    },
    {
     "data": {
      "text/plain": [
       "(2666, 1)"
      ]
     },
     "execution_count": 36,
     "metadata": {},
     "output_type": "execute_result"
    }
   ],
   "source": [
    "y_pred = model.predict(X_test)\n",
    "y_pred_c = y_pred.round().astype(int)\n",
    "y_pred_c.shape"
   ]
  },
  {
   "cell_type": "code",
   "execution_count": 38,
   "metadata": {},
   "outputs": [
    {
     "data": {
      "image/png": "[encoded data removed]",
      "text/plain": [
       "<Figure size 640x480 with 1 Axes>"
      ]
     },
     "metadata": {},
     "output_type": "display_data"
    }
   ],
   "source": [
    "plots.plot_roc(y_test, y_pred)"
   ]
  },
  {
   "cell_type": "code",
   "execution_count": 204,
   "metadata": {},
   "outputs": [
    {
     "data": {
      "text/plain": [
       "[1.1895338296890259, 0.6995499134063721, 0.6688827872276306]"
      ]
     },
     "execution_count": 204,
     "metadata": {},
     "output_type": "execute_result"
    }
   ],
   "source": [
    "metrics"
   ]
  },
  {
   "cell_type": "code",
   "execution_count": 39,
   "metadata": {},
   "outputs": [
    {
     "name": "stdout",
     "output_type": "stream",
     "text": [
      "84/84 [==============================] - 1s 9ms/step - loss: 1.4332 - accuracy: 0.8185 - auc: 0.7104\n",
      "Loss: 1.4332174062728882\n",
      "Accuracy: 0.8184546232223511\n",
      "AUC: 0.7104361057281494\n",
      "Precision: 0.2151394422310757\n",
      "Recall: 0.15835777126099707\n"
     ]
    },
    {
     "data": {
      "text/plain": [
       "(341.0, 251)"
      ]
     },
     "execution_count": 39,
     "metadata": {},
     "output_type": "execute_result"
    }
   ],
   "source": [
    "from sklearn.metrics import precision_score, recall_score, confusion_matrix\n",
    "y_pred_c = y_pred.round().astype(int)\n",
    "precision = precision_score(y_test, y_pred_c)\n",
    "recall = recall_score(y_test, y_pred_c)\n",
    "\n",
    "metrics = model.evaluate(X_test, y_test)\n",
    "\n",
    "print('Loss:', metrics[0])\n",
    "print('Accuracy:', metrics[1])\n",
    "print('AUC:', metrics[2])\n",
    "print('Precision:', precision)\n",
    "print('Recall:', recall)\n",
    "y_test.sum(), y_pred_c.sum()\n"
   ]
  },
  {
   "cell_type": "code",
   "execution_count": 137,
   "metadata": {},
   "outputs": [
    {
     "name": "stdout",
     "output_type": "stream",
     "text": [
      "Metrics:  ['loss', 'accuracy', 'auc']\n",
      "Results:  [1.385009527206421, 0.7786946892738342, 0.6934046149253845]\n"
     ]
    }
   ],
   "source": [
    "# Print the results\n",
    "print(\"Metrics: \", model.metrics_names)\n",
    "print(\"Results: \", metrics)"
   ]
  },
  {
   "cell_type": "code",
   "execution_count": 40,
   "metadata": {},
   "outputs": [
    {
     "data": {
      "image/png": "[encoded data removed]",
      "text/plain": [
       "<Figure size 640x480 with 2 Axes>"
      ]
     },
     "metadata": {},
     "output_type": "display_data"
    }
   ],
   "source": [
    "plots.plot_confusion_matrix(y_test, y_pred_c)"
   ]
  },
  {
   "cell_type": "code",
   "execution_count": 41,
   "metadata": {},
   "outputs": [
    {
     "name": "stdout",
     "output_type": "stream",
     "text": [
      "Classification Report:\n",
      "              precision    recall  f1-score   support\n",
      "\n",
      "         0.0       0.88      0.92      0.90      2325\n",
      "         1.0       0.22      0.16      0.18       341\n",
      "\n",
      "    accuracy                           0.82      2666\n",
      "   macro avg       0.55      0.54      0.54      2666\n",
      "weighted avg       0.80      0.82      0.81      2666\n",
      "\n"
     ]
    }
   ],
   "source": [
    "from sklearn.metrics import classification_report\n",
    "report = classification_report(y_test, y_pred_c)\n",
    "print(\"Classification Report:\")\n",
    "print(report)\n",
    " "
   ]
  },
  {
   "cell_type": "code",
   "execution_count": 172,
   "metadata": {},
   "outputs": [
    {
     "data": {
      "text/plain": [
       "1.5736794471740723"
      ]
     },
     "execution_count": 172,
     "metadata": {},
     "output_type": "execute_result"
    }
   ],
   "source": [
    "model_checkpoint.best"
   ]
  },
  {
   "cell_type": "code",
   "execution_count": 141,
   "metadata": {},
   "outputs": [
    {
     "name": "stdout",
     "output_type": "stream",
     "text": [
      "INFO:tensorflow:Assets written to: saved_model/my_RNN_model_60per5_fixing_overfit2/assets\n"
     ]
    },
    {
     "name": "stderr",
     "output_type": "stream",
     "text": [
      "INFO:tensorflow:Assets written to: saved_model/my_RNN_model_60per5_fixing_overfit2/assets\n"
     ]
    }
   ],
   "source": [
    "!mkdir -p saved_model\n",
    "\n",
    "model.save('saved_model/my_RNN_model_60per5_fixing_overfit2')"
   ]
  },
  {
   "cell_type": "code",
   "execution_count": 48,
   "metadata": {},
   "outputs": [],
   "source": [
    "# # Define a sequential model\n",
    "# model = keras.Sequential()\n",
    "\n",
    "# #model.add(normalizer)\n",
    "\n",
    "# # Add an input layer with an input shape of (time_steps, input_features)\n",
    "# model.add(layers.InputLayer(input_shape=(X_train.shape[1],X_train.shape[2])))\n",
    "\n",
    "# # Add a SimpleRNN layer with 32 units (neurons)\n",
    "# model.add(layers.SimpleRNN(72, activation='tanh'))\n",
    "\n",
    "# model.add(BatchNormalization())\n",
    "\n",
    "# # Add the output layer with 1 neuron and sigmoid activation for binary classification\n",
    "# model.add(layers.Dense(1, activation='sigmoid'))\n",
    "\n",
    "# # Compile the model with binary cross-entropy loss for binary classification\n",
    "# model.compile(loss='binary_crossentropy', optimizer='adam', metrics=['accuracy'])\n"
   ]
  },
  {
   "cell_type": "code",
   "execution_count": 47,
   "metadata": {},
   "outputs": [],
   "source": [
    "# history = model.fit(X_train,  y_train, \n",
    "#                     batch_size=100, \n",
    "#                     class_weight=class_weight_dict,\n",
    "#                     shuffle=True,\n",
    "#                     epochs=300,\n",
    "#                     validation_data=(X_val, y_val))"
   ]
  },
  {
   "cell_type": "code",
   "execution_count": 173,
   "metadata": {},
   "outputs": [],
   "source": [
    "# plot_loss(history)"
   ]
  },
  {
   "cell_type": "code",
   "execution_count": 174,
   "metadata": {},
   "outputs": [],
   "source": [
    "# y_pred = model.predict(X_test).flatten()\n",
    "# y_pred"
   ]
  },
  {
   "cell_type": "code",
   "execution_count": null,
   "metadata": {},
   "outputs": [
    {
     "name": "stdout",
     "output_type": "stream",
     "text": [
      "16/16 - 0s - loss: 0.6718 - accuracy: 0.5746 - 234ms/epoch - 15ms/step\n",
      "Model accuracy: 0.5745967626571655\n"
     ]
    }
   ],
   "source": [
    "# loss, accuracy = model.evaluate(X_test, y_test, verbose=2)\n",
    "# print(f'Model accuracy: {accuracy}')"
   ]
  },
  {
   "cell_type": "code",
   "execution_count": 175,
   "metadata": {},
   "outputs": [],
   "source": [
    "# from sklearn.metrics import precision_score, recall_score\n",
    "# y_pred_c = y_pred.round().astype(int)\n",
    "# precision = precision_score(y_test, y_pred_c)\n",
    "# recall = recall_score(y_test, y_pred_c)\n",
    "\n",
    "# loss, accuracy = model.evaluate(X_test, y_test)\n",
    "\n",
    "# print('Loss:', loss)\n",
    "# print('Accuracy:', accuracy)\n",
    "# print('Precision:', precision)\n",
    "# print('Recall:', recall)\n",
    "# y_test.sum(), y_pred_c.sum()"
   ]
  },
  {
   "cell_type": "code",
   "execution_count": null,
   "metadata": {},
   "outputs": [],
   "source": []
  }
 ],
 "metadata": {
  "kernelspec": {
   "display_name": ".venv",
   "language": "python",
   "name": "python3"
  },
  "language_info": {
   "codemirror_mode": {
    "name": "ipython",
    "version": 3
   },
   "file_extension": ".py",
   "mimetype": "text/x-python",
   "name": "python",
   "nbconvert_exporter": "python",
   "pygments_lexer": "ipython3",
   "version": "3.11.3"
  }
 },
 "nbformat": 4,
 "nbformat_minor": 2
}
